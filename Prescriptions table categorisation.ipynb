{
 "cells": [
  {
   "cell_type": "markdown",
   "id": "a090e2ca",
   "metadata": {
    "toc": true
   },
   "source": [
    "<h1>Table of Contents<span class=\"tocSkip\"></span></h1>\n",
    "<div class=\"toc\"><ul class=\"toc-item\"></ul></div>"
   ]
  },
  {
   "cell_type": "markdown",
   "id": "1d1c521c",
   "metadata": {},
   "source": [
    "The goal is to give a prediction of in which care unit will a patient be in in a certain number of days (or if they will be discharged). This way, hospital workload per care unit/department can be predicted. \n",
    "\n",
    "For this, I will have a table of patients with multiple features including medical data (diagnosis, medications...), previous stays and transfers, some demographic data, duration of stay... This can be done using the admissions table and joining information from the diagnosis table (specific per stay) "
   ]
  },
  {
   "cell_type": "markdown",
   "id": "3af634cd",
   "metadata": {},
   "source": [
    "At admission, which department will the patient end up in?\n",
    "Will the patient visit this deparment in their stay?\n",
    "\n",
    "Make more questions during the weekend.\n",
    "\n",
    "Do the questions being clear about which variables you will use\n",
    "\n",
    "And in two weeks have more or less the table ready. "
   ]
  },
  {
   "cell_type": "markdown",
   "id": "d2168a22",
   "metadata": {},
   "source": [
    "Before continuing, extract a smaller table that only contains relevant columns for finding atc1s. Find categories and fill them in that table. Then update/rejoin to prescriptions table and find transfer numbers."
   ]
  },
  {
   "cell_type": "markdown",
   "id": "e1f95f91",
   "metadata": {},
   "source": [
    "I want to predict department occupancy in a hospital and I have a dataset that includes different information from patients. Initially at least, I am simplifying that by predicting instead the department that the patients are going to go to next. \n",
    "\n",
    "After a preliminary EDA I saw that I could not use the diagnosis data because it was not dated (it is a table with diagnosis for the whole stay), so now I am working to merge my database with a huge prescriptions table that is dated (so I can relate to patients for different stays and hospital transfers). I am converting the drugs to drug categories and did some frequency encoding, but there was like 20% of missing data, so I was filling that until recently. \n",
    "\n",
    "In principle I am working with 14 drug categories, but I have loads of data so could increase that to subcategories and apply PCA. In terms of modeling, my plan is to start with logistic regression and then move on to SVM, random forests..."
   ]
  },
  {
   "cell_type": "code",
   "execution_count": 1,
   "id": "f2c3cfed",
   "metadata": {
    "ExecuteTime": {
     "end_time": "2022-10-12T20:43:46.936105Z",
     "start_time": "2022-10-12T20:43:44.690820Z"
    }
   },
   "outputs": [],
   "source": [
    "import numpy as np\n",
    "import pandas as pd\n",
    "import copy\n",
    "import cap_utils\n",
    "import importlib\n",
    "importlib.reload(cap_utils);"
   ]
  },
  {
   "cell_type": "code",
   "execution_count": 2,
   "id": "35bd7ac3",
   "metadata": {
    "ExecuteTime": {
     "end_time": "2022-10-12T20:44:20.384718Z",
     "start_time": "2022-10-12T20:43:46.938125Z"
    },
    "scrolled": true
   },
   "outputs": [
    {
     "name": "stderr",
     "output_type": "stream",
     "text": [
      "C:\\Users\\Nacho\\AppData\\Local\\Temp\\ipykernel_20276\\3260518518.py:1: DtypeWarning: Columns (10) have mixed types. Specify dtype option on import or set low_memory=False.\n",
      "  prescriptions = pd.read_csv('G:\\My Drive\\Brainstation\\Capstone project\\MIMIC IV/prescriptions.csv')\n"
     ]
    }
   ],
   "source": [
    "prescriptions = pd.read_csv('G:\\My Drive\\Brainstation\\Capstone project\\MIMIC IV/prescriptions.csv')"
   ]
  },
  {
   "cell_type": "code",
   "execution_count": 3,
   "id": "14e3b3b1",
   "metadata": {
    "ExecuteTime": {
     "end_time": "2022-10-12T20:44:23.682950Z",
     "start_time": "2022-10-12T20:44:20.386145Z"
    }
   },
   "outputs": [],
   "source": [
    "medrecon = pd.read_csv('MIMIC IV/ed/medrecon.csv')"
   ]
  },
  {
   "cell_type": "code",
   "execution_count": 4,
   "id": "20e14c5b",
   "metadata": {
    "ExecuteTime": {
     "end_time": "2022-10-12T20:44:24.701252Z",
     "start_time": "2022-10-12T20:44:23.684954Z"
    }
   },
   "outputs": [],
   "source": [
    "prescriptions['ndc'] = prescriptions.ndc.astype('Int64')\n",
    "medrecon['ndc'] = medrecon.ndc.astype('Int64')"
   ]
  },
  {
   "cell_type": "code",
   "execution_count": 5,
   "id": "c73841cb",
   "metadata": {
    "ExecuteTime": {
     "end_time": "2022-10-12T20:44:40.980382Z",
     "start_time": "2022-10-12T20:44:24.703254Z"
    },
    "scrolled": false
   },
   "outputs": [
    {
     "data": {
      "text/html": [
       "<div>\n",
       "<style scoped>\n",
       "    .dataframe tbody tr th:only-of-type {\n",
       "        vertical-align: middle;\n",
       "    }\n",
       "\n",
       "    .dataframe tbody tr th {\n",
       "        vertical-align: top;\n",
       "    }\n",
       "\n",
       "    .dataframe thead th {\n",
       "        text-align: right;\n",
       "    }\n",
       "</style>\n",
       "<table border=\"1\" class=\"dataframe\">\n",
       "  <thead>\n",
       "    <tr style=\"text-align: right;\">\n",
       "      <th></th>\n",
       "      <th>subject_id</th>\n",
       "      <th>hadm_id</th>\n",
       "      <th>pharmacy_id</th>\n",
       "      <th>poe_id</th>\n",
       "      <th>poe_seq</th>\n",
       "      <th>starttime</th>\n",
       "      <th>stoptime</th>\n",
       "      <th>drug_type</th>\n",
       "      <th>drug</th>\n",
       "      <th>formulary_drug_cd</th>\n",
       "      <th>gsn</th>\n",
       "      <th>ndc</th>\n",
       "      <th>prod_strength</th>\n",
       "      <th>form_rx</th>\n",
       "      <th>dose_val_rx</th>\n",
       "      <th>dose_unit_rx</th>\n",
       "      <th>form_val_disp</th>\n",
       "      <th>form_unit_disp</th>\n",
       "      <th>doses_per_24_hrs</th>\n",
       "      <th>route</th>\n",
       "    </tr>\n",
       "  </thead>\n",
       "  <tbody>\n",
       "    <tr>\n",
       "      <th>0</th>\n",
       "      <td>10000032</td>\n",
       "      <td>22595853</td>\n",
       "      <td>11700683</td>\n",
       "      <td>10000032-34</td>\n",
       "      <td>34.0</td>\n",
       "      <td>2180-05-07 01:00:00</td>\n",
       "      <td>2180-05-07 22:00:00</td>\n",
       "      <td>MAIN</td>\n",
       "      <td>Acetaminophen</td>\n",
       "      <td>APAP500</td>\n",
       "      <td>004490</td>\n",
       "      <td>904198861</td>\n",
       "      <td>500mg Tablet</td>\n",
       "      <td>NaN</td>\n",
       "      <td>500</td>\n",
       "      <td>mg</td>\n",
       "      <td>1</td>\n",
       "      <td>TAB</td>\n",
       "      <td>NaN</td>\n",
       "      <td>PO/NG</td>\n",
       "    </tr>\n",
       "    <tr>\n",
       "      <th>1</th>\n",
       "      <td>10000032</td>\n",
       "      <td>22595853</td>\n",
       "      <td>14779570</td>\n",
       "      <td>10000032-22</td>\n",
       "      <td>22.0</td>\n",
       "      <td>2180-05-07 00:00:00</td>\n",
       "      <td>2180-05-07 22:00:00</td>\n",
       "      <td>MAIN</td>\n",
       "      <td>Sodium Chloride 0.9%  Flush</td>\n",
       "      <td>NACLFLUSH</td>\n",
       "      <td>NaN</td>\n",
       "      <td>0</td>\n",
       "      <td>10 mL Syringe</td>\n",
       "      <td>NaN</td>\n",
       "      <td>3</td>\n",
       "      <td>mL</td>\n",
       "      <td>0.3</td>\n",
       "      <td>SYR</td>\n",
       "      <td>3.0</td>\n",
       "      <td>IV</td>\n",
       "    </tr>\n",
       "    <tr>\n",
       "      <th>2</th>\n",
       "      <td>10000032</td>\n",
       "      <td>22595853</td>\n",
       "      <td>19796602</td>\n",
       "      <td>10000032-50</td>\n",
       "      <td>50.0</td>\n",
       "      <td>2180-05-08 08:00:00</td>\n",
       "      <td>2180-05-07 22:00:00</td>\n",
       "      <td>MAIN</td>\n",
       "      <td>Furosemide</td>\n",
       "      <td>FURO40</td>\n",
       "      <td>008209</td>\n",
       "      <td>51079007320</td>\n",
       "      <td>40mg Tablet</td>\n",
       "      <td>NaN</td>\n",
       "      <td>40</td>\n",
       "      <td>mg</td>\n",
       "      <td>1</td>\n",
       "      <td>TAB</td>\n",
       "      <td>1.0</td>\n",
       "      <td>PO/NG</td>\n",
       "    </tr>\n",
       "    <tr>\n",
       "      <th>3</th>\n",
       "      <td>10000032</td>\n",
       "      <td>22595853</td>\n",
       "      <td>20256254</td>\n",
       "      <td>10000032-32</td>\n",
       "      <td>32.0</td>\n",
       "      <td>2180-05-07 01:00:00</td>\n",
       "      <td>2180-05-07 22:00:00</td>\n",
       "      <td>MAIN</td>\n",
       "      <td>Raltegravir</td>\n",
       "      <td>RALT400</td>\n",
       "      <td>063231</td>\n",
       "      <td>6022761</td>\n",
       "      <td>400 mg Tablet</td>\n",
       "      <td>NaN</td>\n",
       "      <td>400</td>\n",
       "      <td>mg</td>\n",
       "      <td>1</td>\n",
       "      <td>TAB</td>\n",
       "      <td>2.0</td>\n",
       "      <td>PO</td>\n",
       "    </tr>\n",
       "    <tr>\n",
       "      <th>4</th>\n",
       "      <td>10000032</td>\n",
       "      <td>22595853</td>\n",
       "      <td>28781051</td>\n",
       "      <td>10000032-27</td>\n",
       "      <td>27.0</td>\n",
       "      <td>2180-05-07 00:00:00</td>\n",
       "      <td>2180-05-07 22:00:00</td>\n",
       "      <td>MAIN</td>\n",
       "      <td>Heparin</td>\n",
       "      <td>HEPA5I</td>\n",
       "      <td>006549</td>\n",
       "      <td>63323026201</td>\n",
       "      <td>5000 Units / mL- 1mL Vial</td>\n",
       "      <td>NaN</td>\n",
       "      <td>5000</td>\n",
       "      <td>UNIT</td>\n",
       "      <td>1</td>\n",
       "      <td>mL</td>\n",
       "      <td>3.0</td>\n",
       "      <td>SC</td>\n",
       "    </tr>\n",
       "  </tbody>\n",
       "</table>\n",
       "</div>"
      ],
      "text/plain": [
       "   subject_id   hadm_id  pharmacy_id       poe_id  poe_seq  \\\n",
       "0    10000032  22595853     11700683  10000032-34     34.0   \n",
       "1    10000032  22595853     14779570  10000032-22     22.0   \n",
       "2    10000032  22595853     19796602  10000032-50     50.0   \n",
       "3    10000032  22595853     20256254  10000032-32     32.0   \n",
       "4    10000032  22595853     28781051  10000032-27     27.0   \n",
       "\n",
       "             starttime             stoptime drug_type  \\\n",
       "0  2180-05-07 01:00:00  2180-05-07 22:00:00      MAIN   \n",
       "1  2180-05-07 00:00:00  2180-05-07 22:00:00      MAIN   \n",
       "2  2180-05-08 08:00:00  2180-05-07 22:00:00      MAIN   \n",
       "3  2180-05-07 01:00:00  2180-05-07 22:00:00      MAIN   \n",
       "4  2180-05-07 00:00:00  2180-05-07 22:00:00      MAIN   \n",
       "\n",
       "                          drug formulary_drug_cd     gsn          ndc  \\\n",
       "0                Acetaminophen           APAP500  004490    904198861   \n",
       "1  Sodium Chloride 0.9%  Flush         NACLFLUSH     NaN            0   \n",
       "2                   Furosemide            FURO40  008209  51079007320   \n",
       "3                  Raltegravir           RALT400  063231      6022761   \n",
       "4                      Heparin            HEPA5I  006549  63323026201   \n",
       "\n",
       "               prod_strength form_rx dose_val_rx dose_unit_rx form_val_disp  \\\n",
       "0               500mg Tablet     NaN         500           mg             1   \n",
       "1              10 mL Syringe     NaN           3           mL           0.3   \n",
       "2                40mg Tablet     NaN          40           mg             1   \n",
       "3              400 mg Tablet     NaN         400           mg             1   \n",
       "4  5000 Units / mL- 1mL Vial     NaN        5000         UNIT             1   \n",
       "\n",
       "  form_unit_disp  doses_per_24_hrs  route  \n",
       "0            TAB               NaN  PO/NG  \n",
       "1            SYR               3.0     IV  \n",
       "2            TAB               1.0  PO/NG  \n",
       "3            TAB               2.0     PO  \n",
       "4             mL               3.0     SC  "
      ]
     },
     "metadata": {},
     "output_type": "display_data"
    },
    {
     "name": "stdout",
     "output_type": "stream",
     "text": [
      "<class 'pandas.core.frame.DataFrame'>\n",
      "RangeIndex: 16219412 entries, 0 to 16219411\n",
      "Data columns (total 20 columns):\n",
      " #   Column             Non-Null Count     Dtype  \n",
      "---  ------             --------------     -----  \n",
      " 0   subject_id         16219412 non-null  int64  \n",
      " 1   hadm_id            16219412 non-null  int64  \n",
      " 2   pharmacy_id        16219412 non-null  int64  \n",
      " 3   poe_id             16091738 non-null  object \n",
      " 4   poe_seq            16091738 non-null  float64\n",
      " 5   starttime          16201857 non-null  object \n",
      " 6   stoptime           16195756 non-null  object \n",
      " 7   drug_type          16219412 non-null  object \n",
      " 8   drug               16219411 non-null  object \n",
      " 9   formulary_drug_cd  16199404 non-null  object \n",
      " 10  gsn                14342210 non-null  object \n",
      " 11  ndc                16193185 non-null  Int64  \n",
      " 12  prod_strength      16212752 non-null  object \n",
      " 13  form_rx            20731 non-null     object \n",
      " 14  dose_val_rx        16212798 non-null  object \n",
      " 15  dose_unit_rx       16212799 non-null  object \n",
      " 16  form_val_disp      16212776 non-null  object \n",
      " 17  form_unit_disp     16212761 non-null  object \n",
      " 18  doses_per_24_hrs   9803974 non-null   float64\n",
      " 19  route              16215214 non-null  object \n",
      "dtypes: Int64(1), float64(2), int64(3), object(14)\n",
      "memory usage: 2.4+ GB\n"
     ]
    },
    {
     "data": {
      "text/plain": [
       "None"
      ]
     },
     "metadata": {},
     "output_type": "display_data"
    }
   ],
   "source": [
    "display(prescriptions.head())\n",
    "display(prescriptions.info(show_counts = True))"
   ]
  },
  {
   "cell_type": "code",
   "execution_count": 6,
   "id": "66bb0a5d",
   "metadata": {
    "ExecuteTime": {
     "end_time": "2022-10-12T20:44:46.857539Z",
     "start_time": "2022-10-12T20:44:40.982390Z"
    }
   },
   "outputs": [],
   "source": [
    "prescriptions['starttime'] = pd.to_datetime(prescriptions.starttime, infer_datetime_format=True)"
   ]
  },
  {
   "cell_type": "code",
   "execution_count": 7,
   "id": "319bcf2b",
   "metadata": {
    "ExecuteTime": {
     "end_time": "2022-10-12T20:44:47.585475Z",
     "start_time": "2022-10-12T20:44:46.859539Z"
    },
    "scrolled": false
   },
   "outputs": [
    {
     "data": {
      "text/html": [
       "<div>\n",
       "<style scoped>\n",
       "    .dataframe tbody tr th:only-of-type {\n",
       "        vertical-align: middle;\n",
       "    }\n",
       "\n",
       "    .dataframe tbody tr th {\n",
       "        vertical-align: top;\n",
       "    }\n",
       "\n",
       "    .dataframe thead th {\n",
       "        text-align: right;\n",
       "    }\n",
       "</style>\n",
       "<table border=\"1\" class=\"dataframe\">\n",
       "  <thead>\n",
       "    <tr style=\"text-align: right;\">\n",
       "      <th></th>\n",
       "      <th>subject_id</th>\n",
       "      <th>stay_id</th>\n",
       "      <th>charttime</th>\n",
       "      <th>name</th>\n",
       "      <th>gsn</th>\n",
       "      <th>ndc</th>\n",
       "      <th>etc_rn</th>\n",
       "      <th>etccode</th>\n",
       "      <th>etcdescription</th>\n",
       "    </tr>\n",
       "  </thead>\n",
       "  <tbody>\n",
       "    <tr>\n",
       "      <th>0</th>\n",
       "      <td>10000032</td>\n",
       "      <td>32952584</td>\n",
       "      <td>2180-07-22 17:26:00</td>\n",
       "      <td>albuterol sulfate</td>\n",
       "      <td>28090</td>\n",
       "      <td>21695042308</td>\n",
       "      <td>1</td>\n",
       "      <td>5970.0</td>\n",
       "      <td>Asthma/COPD Therapy - Beta 2-Adrenergic Agents...</td>\n",
       "    </tr>\n",
       "    <tr>\n",
       "      <th>1</th>\n",
       "      <td>10000032</td>\n",
       "      <td>32952584</td>\n",
       "      <td>2180-07-22 17:26:00</td>\n",
       "      <td>calcium carbonate</td>\n",
       "      <td>1340</td>\n",
       "      <td>10135021101</td>\n",
       "      <td>1</td>\n",
       "      <td>733.0</td>\n",
       "      <td>Minerals and Electrolytes - Calcium Replacement</td>\n",
       "    </tr>\n",
       "    <tr>\n",
       "      <th>2</th>\n",
       "      <td>10000032</td>\n",
       "      <td>32952584</td>\n",
       "      <td>2180-07-22 17:26:00</td>\n",
       "      <td>cholecalciferol (vitamin D3)</td>\n",
       "      <td>65241</td>\n",
       "      <td>37205024678</td>\n",
       "      <td>1</td>\n",
       "      <td>670.0</td>\n",
       "      <td>Vitamins - D Derivatives</td>\n",
       "    </tr>\n",
       "    <tr>\n",
       "      <th>3</th>\n",
       "      <td>10000032</td>\n",
       "      <td>32952584</td>\n",
       "      <td>2180-07-22 17:26:00</td>\n",
       "      <td>emtricitabine-tenofovir [Truvada]</td>\n",
       "      <td>57883</td>\n",
       "      <td>35356007003</td>\n",
       "      <td>1</td>\n",
       "      <td>5849.0</td>\n",
       "      <td>Antiretroviral - Nucleoside and Nucleotide Ana...</td>\n",
       "    </tr>\n",
       "    <tr>\n",
       "      <th>4</th>\n",
       "      <td>10000032</td>\n",
       "      <td>32952584</td>\n",
       "      <td>2180-07-22 17:26:00</td>\n",
       "      <td>fluticasone [Flovent HFA]</td>\n",
       "      <td>21251</td>\n",
       "      <td>49999061401</td>\n",
       "      <td>1</td>\n",
       "      <td>371.0</td>\n",
       "      <td>Asthma Therapy - Inhaled Corticosteroids (Gluc...</td>\n",
       "    </tr>\n",
       "  </tbody>\n",
       "</table>\n",
       "</div>"
      ],
      "text/plain": [
       "   subject_id   stay_id            charttime  \\\n",
       "0    10000032  32952584  2180-07-22 17:26:00   \n",
       "1    10000032  32952584  2180-07-22 17:26:00   \n",
       "2    10000032  32952584  2180-07-22 17:26:00   \n",
       "3    10000032  32952584  2180-07-22 17:26:00   \n",
       "4    10000032  32952584  2180-07-22 17:26:00   \n",
       "\n",
       "                                name    gsn          ndc  etc_rn  etccode  \\\n",
       "0                  albuterol sulfate  28090  21695042308       1   5970.0   \n",
       "1                  calcium carbonate   1340  10135021101       1    733.0   \n",
       "2       cholecalciferol (vitamin D3)  65241  37205024678       1    670.0   \n",
       "3  emtricitabine-tenofovir [Truvada]  57883  35356007003       1   5849.0   \n",
       "4          fluticasone [Flovent HFA]  21251  49999061401       1    371.0   \n",
       "\n",
       "                                      etcdescription  \n",
       "0  Asthma/COPD Therapy - Beta 2-Adrenergic Agents...  \n",
       "1    Minerals and Electrolytes - Calcium Replacement  \n",
       "2                           Vitamins - D Derivatives  \n",
       "3  Antiretroviral - Nucleoside and Nucleotide Ana...  \n",
       "4  Asthma Therapy - Inhaled Corticosteroids (Gluc...  "
      ]
     },
     "metadata": {},
     "output_type": "display_data"
    },
    {
     "name": "stdout",
     "output_type": "stream",
     "text": [
      "<class 'pandas.core.frame.DataFrame'>\n",
      "RangeIndex: 3143791 entries, 0 to 3143790\n",
      "Data columns (total 9 columns):\n",
      " #   Column          Non-Null Count    Dtype  \n",
      "---  ------          --------------    -----  \n",
      " 0   subject_id      3143791 non-null  int64  \n",
      " 1   stay_id         3143791 non-null  int64  \n",
      " 2   charttime       3143791 non-null  object \n",
      " 3   name            3143791 non-null  object \n",
      " 4   gsn             3143791 non-null  int64  \n",
      " 5   ndc             3143791 non-null  Int64  \n",
      " 6   etc_rn          3143791 non-null  int64  \n",
      " 7   etccode         3131412 non-null  float64\n",
      " 8   etcdescription  3131412 non-null  object \n",
      "dtypes: Int64(1), float64(1), int64(4), object(3)\n",
      "memory usage: 218.9+ MB\n"
     ]
    },
    {
     "data": {
      "text/plain": [
       "None"
      ]
     },
     "metadata": {},
     "output_type": "display_data"
    }
   ],
   "source": [
    "display(medrecon.head())\n",
    "display(medrecon.info(show_counts = True))"
   ]
  },
  {
   "cell_type": "markdown",
   "id": "1482d241",
   "metadata": {},
   "source": [
    "Warning about ndc having mixed types. Instead of using isna to find about null values, we will just take as valid NDCs those that are larger that have at least 6 digits (which is the smallest NDC according to the FDA liink). We can also check whether we have other NDC numbers with fewer digits, as these could be fixable mistakes.\n",
    "\n",
    "Prescriptions and medrecon are similar,thankfully, although instead of hadm_id we have stay_id. And no null values on our drugs column, yay! We lack the drug type column."
   ]
  },
  {
   "cell_type": "code",
   "execution_count": 8,
   "id": "e7e9d4b6",
   "metadata": {
    "ExecuteTime": {
     "end_time": "2022-10-12T20:44:47.601413Z",
     "start_time": "2022-10-12T20:44:47.587413Z"
    }
   },
   "outputs": [],
   "source": [
    "def digit_checker(df, d_min = 0, d_max = 6):\n",
    "    for i in range(d_min,d_max):\n",
    "        d_no = 10**i\n",
    "\n",
    "        validndc_bool = df.ndc>=d_no\n",
    "        print(f'% of NDCs >= 10^{i}:', round(sum(validndc_bool)/len(df)*100,2))\n",
    "        print('Number of NDCs:', df.ndc[validndc_bool].nunique(),'\\n')"
   ]
  },
  {
   "cell_type": "code",
   "execution_count": 9,
   "id": "e8cbc44d",
   "metadata": {
    "ExecuteTime": {
     "end_time": "2022-10-12T20:45:13.232247Z",
     "start_time": "2022-10-12T20:44:47.603430Z"
    }
   },
   "outputs": [
    {
     "data": {
      "text/plain": [
       "subject_id             166758\n",
       "hadm_id                384772\n",
       "pharmacy_id          14237899\n",
       "poe_id               12844633\n",
       "poe_seq                 16298\n",
       "starttime              819017\n",
       "stoptime               795665\n",
       "drug_type                   3\n",
       "drug                     9826\n",
       "formulary_drug_cd        3819\n",
       "gsn                      7517\n",
       "ndc                      5745\n",
       "prod_strength            7326\n",
       "form_rx                    87\n",
       "dose_val_rx              4763\n",
       "dose_unit_rx              146\n",
       "form_val_disp            5263\n",
       "form_unit_disp            114\n",
       "doses_per_24_hrs           17\n",
       "route                      99\n",
       "dtype: int64"
      ]
     },
     "metadata": {},
     "output_type": "display_data"
    },
    {
     "ename": "TypeError",
     "evalue": "type NAType doesn't define __round__ method",
     "output_type": "error",
     "traceback": [
      "\u001b[1;31m---------------------------------------------------------------------------\u001b[0m",
      "\u001b[1;31mTypeError\u001b[0m                                 Traceback (most recent call last)",
      "Input \u001b[1;32mIn [9]\u001b[0m, in \u001b[0;36m<cell line: 2>\u001b[1;34m()\u001b[0m\n\u001b[0;32m      1\u001b[0m display(prescriptions\u001b[38;5;241m.\u001b[39mnunique())\n\u001b[1;32m----> 2\u001b[0m \u001b[43mdigit_checker\u001b[49m\u001b[43m(\u001b[49m\u001b[43mprescriptions\u001b[49m\u001b[43m,\u001b[49m\u001b[43md_max\u001b[49m\u001b[43m \u001b[49m\u001b[38;5;241;43m=\u001b[39;49m\u001b[43m \u001b[49m\u001b[38;5;241;43m12\u001b[39;49m\u001b[43m)\u001b[49m\n",
      "Input \u001b[1;32mIn [8]\u001b[0m, in \u001b[0;36mdigit_checker\u001b[1;34m(df, d_min, d_max)\u001b[0m\n\u001b[0;32m      3\u001b[0m d_no \u001b[38;5;241m=\u001b[39m \u001b[38;5;241m10\u001b[39m\u001b[38;5;241m*\u001b[39m\u001b[38;5;241m*\u001b[39mi\n\u001b[0;32m      5\u001b[0m validndc_bool \u001b[38;5;241m=\u001b[39m df\u001b[38;5;241m.\u001b[39mndc\u001b[38;5;241m>\u001b[39m\u001b[38;5;241m=\u001b[39md_no\n\u001b[1;32m----> 6\u001b[0m \u001b[38;5;28mprint\u001b[39m(\u001b[38;5;124mf\u001b[39m\u001b[38;5;124m'\u001b[39m\u001b[38;5;124m% of NDCs >= 10^\u001b[39m\u001b[38;5;132;01m{\u001b[39;00mi\u001b[38;5;132;01m}\u001b[39;00m\u001b[38;5;124m:\u001b[39m\u001b[38;5;124m'\u001b[39m, \u001b[38;5;28;43mround\u001b[39;49m\u001b[43m(\u001b[49m\u001b[38;5;28;43msum\u001b[39;49m\u001b[43m(\u001b[49m\u001b[43mvalidndc_bool\u001b[49m\u001b[43m)\u001b[49m\u001b[38;5;241;43m/\u001b[39;49m\u001b[38;5;28;43mlen\u001b[39;49m\u001b[43m(\u001b[49m\u001b[43mdf\u001b[49m\u001b[43m)\u001b[49m\u001b[38;5;241;43m*\u001b[39;49m\u001b[38;5;241;43m100\u001b[39;49m\u001b[43m,\u001b[49m\u001b[38;5;241;43m2\u001b[39;49m\u001b[43m)\u001b[49m)\n\u001b[0;32m      7\u001b[0m \u001b[38;5;28mprint\u001b[39m(\u001b[38;5;124m'\u001b[39m\u001b[38;5;124mNumber of NDCs:\u001b[39m\u001b[38;5;124m'\u001b[39m, df\u001b[38;5;241m.\u001b[39mndc[validndc_bool]\u001b[38;5;241m.\u001b[39mnunique(),\u001b[38;5;124m'\u001b[39m\u001b[38;5;130;01m\\n\u001b[39;00m\u001b[38;5;124m'\u001b[39m)\n",
      "\u001b[1;31mTypeError\u001b[0m: type NAType doesn't define __round__ method"
     ]
    }
   ],
   "source": [
    "display(prescriptions.nunique())\n",
    "digit_checker(prescriptions,d_max = 12)"
   ]
  },
  {
   "cell_type": "code",
   "execution_count": 10,
   "id": "8434ad7d",
   "metadata": {
    "ExecuteTime": {
     "end_time": "2022-10-12T20:51:36.882567Z",
     "start_time": "2022-10-12T20:50:31.781164Z"
    }
   },
   "outputs": [
    {
     "data": {
      "text/plain": [
       "subject_id        148919\n",
       "stay_id           323582\n",
       "charttime         581453\n",
       "name               19165\n",
       "gsn                 9262\n",
       "ndc                 9398\n",
       "etc_rn                 5\n",
       "etccode             1208\n",
       "etcdescription      1212\n",
       "dtype: int64"
      ]
     },
     "metadata": {},
     "output_type": "display_data"
    },
    {
     "name": "stdout",
     "output_type": "stream",
     "text": [
      "% of NDCs >= 10^0: 99.4\n",
      "Number of NDCs: 9397 \n",
      "\n",
      "% of NDCs >= 10^1: 99.4\n",
      "Number of NDCs: 9397 \n",
      "\n",
      "% of NDCs >= 10^2: 99.4\n",
      "Number of NDCs: 9397 \n",
      "\n",
      "% of NDCs >= 10^3: 99.4\n",
      "Number of NDCs: 9397 \n",
      "\n",
      "% of NDCs >= 10^4: 99.4\n",
      "Number of NDCs: 9397 \n",
      "\n",
      "% of NDCs >= 10^5: 99.4\n",
      "Number of NDCs: 9397 \n",
      "\n",
      "% of NDCs >= 10^6: 99.4\n",
      "Number of NDCs: 9397 \n",
      "\n",
      "% of NDCs >= 10^7: 99.26\n",
      "Number of NDCs: 9232 \n",
      "\n",
      "% of NDCs >= 10^8: 98.91\n",
      "Number of NDCs: 8902 \n",
      "\n",
      "% of NDCs >= 10^9: 98.56\n",
      "Number of NDCs: 8531 \n",
      "\n",
      "% of NDCs >= 10^10: 98.52\n",
      "Number of NDCs: 8450 \n",
      "\n",
      "% of NDCs >= 10^11: 0.0\n",
      "Number of NDCs: 0 \n",
      "\n"
     ]
    }
   ],
   "source": [
    "display(medrecon.nunique())\n",
    "digit_checker(medrecon,d_max = 12)"
   ]
  },
  {
   "cell_type": "markdown",
   "id": "c1b6279a",
   "metadata": {},
   "source": [
    "So all NDCs larger than 1 appear to be correct. There are 12.44% missing NDC, but we will not be filling these. We are interested on the ATR4 classification, so we will match the available NDCs to this class and then try to fill any empty values for that feature.\n",
    "\n",
    "For the NDC matching we are using a function provided by tal that queries tal tal. The prescriptions table was used as input for this function and the output is uploaded and mapped into our table here."
   ]
  },
  {
   "cell_type": "code",
   "execution_count": 11,
   "id": "b9fb6ebc",
   "metadata": {
    "ExecuteTime": {
     "end_time": "2022-10-12T20:51:38.929445Z",
     "start_time": "2022-10-12T20:51:36.884565Z"
    }
   },
   "outputs": [],
   "source": [
    "prescriptions.drop(columns = ['prod_strength','form_rx','dose_val_rx','dose_unit_rx','form_val_disp',\\\n",
    "                              'form_unit_disp','doses_per_24_hrs','pharmacy_id','poe_id','poe_seq','stoptime'],inplace = True)\n"
   ]
  },
  {
   "cell_type": "markdown",
   "id": "67c4ff92",
   "metadata": {},
   "source": [
    "Dropping some of the columns as they (may) have no relevance as we are substituting the drug features by their categories. This will also allow us to combine our dfs."
   ]
  },
  {
   "cell_type": "code",
   "execution_count": 12,
   "id": "897389e5",
   "metadata": {
    "ExecuteTime": {
     "end_time": "2022-10-12T20:51:41.886711Z",
     "start_time": "2022-10-12T20:51:38.930771Z"
    }
   },
   "outputs": [
    {
     "name": "stdout",
     "output_type": "stream",
     "text": [
      "0\n",
      "410218\n"
     ]
    }
   ],
   "source": [
    "print(sum(medrecon.duplicated()))\n",
    "print(sum(medrecon.drop(columns = ['etccode','etc_rn','etcdescription']).duplicated()))"
   ]
  },
  {
   "cell_type": "markdown",
   "id": "bf6416b7",
   "metadata": {},
   "source": [
    "Medications are duplicated to include the different etc codes for one drug. That is okay, we could create dummies and group the columns. However, we will not use the edc in principle. We are going to move to ATCs, which are more interpretable, general and well-recognised. More importantly, they have a very customisable granularity, as we can select the level. At level 0 we have only 14 features, which simplifies our model greatly. We will start with that and increase granularity if necessary."
   ]
  },
  {
   "cell_type": "code",
   "execution_count": 13,
   "id": "a6916de7",
   "metadata": {
    "ExecuteTime": {
     "end_time": "2022-10-12T20:51:43.072223Z",
     "start_time": "2022-10-12T20:51:41.889713Z"
    }
   },
   "outputs": [],
   "source": [
    "medrecon.drop(columns =  ['etccode','etc_rn','etcdescription'], inplace = True)\n",
    "medrecon.drop_duplicates(inplace = True)\n",
    "medrecon.rename(columns = {'charttime':'starttime','name':'drug'},inplace = True)"
   ]
  },
  {
   "cell_type": "code",
   "execution_count": 14,
   "id": "f904398d",
   "metadata": {
    "ExecuteTime": {
     "end_time": "2022-10-12T20:51:43.088224Z",
     "start_time": "2022-10-12T20:51:43.074224Z"
    }
   },
   "outputs": [
    {
     "data": {
      "text/html": [
       "<div>\n",
       "<style scoped>\n",
       "    .dataframe tbody tr th:only-of-type {\n",
       "        vertical-align: middle;\n",
       "    }\n",
       "\n",
       "    .dataframe tbody tr th {\n",
       "        vertical-align: top;\n",
       "    }\n",
       "\n",
       "    .dataframe thead th {\n",
       "        text-align: right;\n",
       "    }\n",
       "</style>\n",
       "<table border=\"1\" class=\"dataframe\">\n",
       "  <thead>\n",
       "    <tr style=\"text-align: right;\">\n",
       "      <th></th>\n",
       "      <th>subject_id</th>\n",
       "      <th>hadm_id</th>\n",
       "      <th>starttime</th>\n",
       "      <th>drug_type</th>\n",
       "      <th>drug</th>\n",
       "      <th>formulary_drug_cd</th>\n",
       "      <th>gsn</th>\n",
       "      <th>ndc</th>\n",
       "      <th>route</th>\n",
       "    </tr>\n",
       "  </thead>\n",
       "  <tbody>\n",
       "    <tr>\n",
       "      <th>0</th>\n",
       "      <td>10000032</td>\n",
       "      <td>22595853</td>\n",
       "      <td>2180-05-07 01:00:00</td>\n",
       "      <td>MAIN</td>\n",
       "      <td>Acetaminophen</td>\n",
       "      <td>APAP500</td>\n",
       "      <td>004490</td>\n",
       "      <td>904198861</td>\n",
       "      <td>PO/NG</td>\n",
       "    </tr>\n",
       "    <tr>\n",
       "      <th>1</th>\n",
       "      <td>10000032</td>\n",
       "      <td>22595853</td>\n",
       "      <td>2180-05-07 00:00:00</td>\n",
       "      <td>MAIN</td>\n",
       "      <td>Sodium Chloride 0.9%  Flush</td>\n",
       "      <td>NACLFLUSH</td>\n",
       "      <td>NaN</td>\n",
       "      <td>0</td>\n",
       "      <td>IV</td>\n",
       "    </tr>\n",
       "    <tr>\n",
       "      <th>2</th>\n",
       "      <td>10000032</td>\n",
       "      <td>22595853</td>\n",
       "      <td>2180-05-08 08:00:00</td>\n",
       "      <td>MAIN</td>\n",
       "      <td>Furosemide</td>\n",
       "      <td>FURO40</td>\n",
       "      <td>008209</td>\n",
       "      <td>51079007320</td>\n",
       "      <td>PO/NG</td>\n",
       "    </tr>\n",
       "    <tr>\n",
       "      <th>3</th>\n",
       "      <td>10000032</td>\n",
       "      <td>22595853</td>\n",
       "      <td>2180-05-07 01:00:00</td>\n",
       "      <td>MAIN</td>\n",
       "      <td>Raltegravir</td>\n",
       "      <td>RALT400</td>\n",
       "      <td>063231</td>\n",
       "      <td>6022761</td>\n",
       "      <td>PO</td>\n",
       "    </tr>\n",
       "    <tr>\n",
       "      <th>4</th>\n",
       "      <td>10000032</td>\n",
       "      <td>22595853</td>\n",
       "      <td>2180-05-07 00:00:00</td>\n",
       "      <td>MAIN</td>\n",
       "      <td>Heparin</td>\n",
       "      <td>HEPA5I</td>\n",
       "      <td>006549</td>\n",
       "      <td>63323026201</td>\n",
       "      <td>SC</td>\n",
       "    </tr>\n",
       "    <tr>\n",
       "      <th>...</th>\n",
       "      <td>...</td>\n",
       "      <td>...</td>\n",
       "      <td>...</td>\n",
       "      <td>...</td>\n",
       "      <td>...</td>\n",
       "      <td>...</td>\n",
       "      <td>...</td>\n",
       "      <td>...</td>\n",
       "      <td>...</td>\n",
       "    </tr>\n",
       "    <tr>\n",
       "      <th>16219407</th>\n",
       "      <td>19999987</td>\n",
       "      <td>23865745</td>\n",
       "      <td>2145-11-03 00:00:00</td>\n",
       "      <td>MAIN</td>\n",
       "      <td>Influenza Virus Vaccine</td>\n",
       "      <td>INFL0.5LF</td>\n",
       "      <td>069637</td>\n",
       "      <td>33332001201</td>\n",
       "      <td>IM</td>\n",
       "    </tr>\n",
       "    <tr>\n",
       "      <th>16219408</th>\n",
       "      <td>19999987</td>\n",
       "      <td>23865745</td>\n",
       "      <td>2145-11-04 10:00:00</td>\n",
       "      <td>MAIN</td>\n",
       "      <td>Levothyroxine Sodium</td>\n",
       "      <td>LEVO50</td>\n",
       "      <td>006649</td>\n",
       "      <td>74455211</td>\n",
       "      <td>PO/NG</td>\n",
       "    </tr>\n",
       "    <tr>\n",
       "      <th>16219409</th>\n",
       "      <td>19999987</td>\n",
       "      <td>23865745</td>\n",
       "      <td>2145-11-10 10:00:00</td>\n",
       "      <td>MAIN</td>\n",
       "      <td>Duloxetine</td>\n",
       "      <td>DULO30</td>\n",
       "      <td>057892</td>\n",
       "      <td>2324033</td>\n",
       "      <td>PO</td>\n",
       "    </tr>\n",
       "    <tr>\n",
       "      <th>16219410</th>\n",
       "      <td>19999987</td>\n",
       "      <td>23865745</td>\n",
       "      <td>2145-11-09 10:00:00</td>\n",
       "      <td>MAIN</td>\n",
       "      <td>Venlafaxine XR</td>\n",
       "      <td>VENL150XR</td>\n",
       "      <td>046405</td>\n",
       "      <td>68084048601</td>\n",
       "      <td>PO</td>\n",
       "    </tr>\n",
       "    <tr>\n",
       "      <th>16219411</th>\n",
       "      <td>19999987</td>\n",
       "      <td>23865745</td>\n",
       "      <td>2145-11-09 10:00:00</td>\n",
       "      <td>MAIN</td>\n",
       "      <td>Duloxetine</td>\n",
       "      <td>DULO30</td>\n",
       "      <td>057892</td>\n",
       "      <td>2324033</td>\n",
       "      <td>PO</td>\n",
       "    </tr>\n",
       "  </tbody>\n",
       "</table>\n",
       "<p>16219412 rows × 9 columns</p>\n",
       "</div>"
      ],
      "text/plain": [
       "          subject_id   hadm_id           starttime drug_type  \\\n",
       "0           10000032  22595853 2180-05-07 01:00:00      MAIN   \n",
       "1           10000032  22595853 2180-05-07 00:00:00      MAIN   \n",
       "2           10000032  22595853 2180-05-08 08:00:00      MAIN   \n",
       "3           10000032  22595853 2180-05-07 01:00:00      MAIN   \n",
       "4           10000032  22595853 2180-05-07 00:00:00      MAIN   \n",
       "...              ...       ...                 ...       ...   \n",
       "16219407    19999987  23865745 2145-11-03 00:00:00      MAIN   \n",
       "16219408    19999987  23865745 2145-11-04 10:00:00      MAIN   \n",
       "16219409    19999987  23865745 2145-11-10 10:00:00      MAIN   \n",
       "16219410    19999987  23865745 2145-11-09 10:00:00      MAIN   \n",
       "16219411    19999987  23865745 2145-11-09 10:00:00      MAIN   \n",
       "\n",
       "                                 drug formulary_drug_cd     gsn          ndc  \\\n",
       "0                       Acetaminophen           APAP500  004490    904198861   \n",
       "1         Sodium Chloride 0.9%  Flush         NACLFLUSH     NaN            0   \n",
       "2                          Furosemide            FURO40  008209  51079007320   \n",
       "3                         Raltegravir           RALT400  063231      6022761   \n",
       "4                             Heparin            HEPA5I  006549  63323026201   \n",
       "...                               ...               ...     ...          ...   \n",
       "16219407      Influenza Virus Vaccine         INFL0.5LF  069637  33332001201   \n",
       "16219408         Levothyroxine Sodium            LEVO50  006649     74455211   \n",
       "16219409                   Duloxetine            DULO30  057892      2324033   \n",
       "16219410               Venlafaxine XR         VENL150XR  046405  68084048601   \n",
       "16219411                   Duloxetine            DULO30  057892      2324033   \n",
       "\n",
       "          route  \n",
       "0         PO/NG  \n",
       "1            IV  \n",
       "2         PO/NG  \n",
       "3            PO  \n",
       "4            SC  \n",
       "...         ...  \n",
       "16219407     IM  \n",
       "16219408  PO/NG  \n",
       "16219409     PO  \n",
       "16219410     PO  \n",
       "16219411     PO  \n",
       "\n",
       "[16219412 rows x 9 columns]"
      ]
     },
     "execution_count": 14,
     "metadata": {},
     "output_type": "execute_result"
    }
   ],
   "source": [
    "prescriptions"
   ]
  },
  {
   "cell_type": "code",
   "execution_count": 15,
   "id": "36924969",
   "metadata": {
    "ExecuteTime": {
     "end_time": "2022-10-12T20:51:43.387042Z",
     "start_time": "2022-10-12T20:51:43.089223Z"
    }
   },
   "outputs": [
    {
     "data": {
      "text/html": [
       "<style type=\"text/css\">\n",
       "</style>\n",
       "<table id=\"T_1244e\" style='display:inline'>\n",
       "  <caption>Stay_id from medrecon</caption>\n",
       "  <thead>\n",
       "    <tr>\n",
       "      <th class=\"blank level0\" >&nbsp;</th>\n",
       "      <th id=\"T_1244e_level0_col0\" class=\"col_heading level0 col0\" >stay_id</th>\n",
       "    </tr>\n",
       "  </thead>\n",
       "  <tbody>\n",
       "    <tr>\n",
       "      <th id=\"T_1244e_level0_row0\" class=\"row_heading level0 row0\" >count</th>\n",
       "      <td id=\"T_1244e_row0_col0\" class=\"data row0 col0\" >2733573.000000</td>\n",
       "    </tr>\n",
       "    <tr>\n",
       "      <th id=\"T_1244e_level0_row1\" class=\"row_heading level0 row1\" >mean</th>\n",
       "      <td id=\"T_1244e_row1_col0\" class=\"data row1 col0\" >35001782.253237</td>\n",
       "    </tr>\n",
       "    <tr>\n",
       "      <th id=\"T_1244e_level0_row2\" class=\"row_heading level0 row2\" >std</th>\n",
       "      <td id=\"T_1244e_row2_col0\" class=\"data row2 col0\" >2885614.265219</td>\n",
       "    </tr>\n",
       "    <tr>\n",
       "      <th id=\"T_1244e_level0_row3\" class=\"row_heading level0 row3\" >min</th>\n",
       "      <td id=\"T_1244e_row3_col0\" class=\"data row3 col0\" >30000012.000000</td>\n",
       "    </tr>\n",
       "    <tr>\n",
       "      <th id=\"T_1244e_level0_row4\" class=\"row_heading level0 row4\" >25%</th>\n",
       "      <td id=\"T_1244e_row4_col0\" class=\"data row4 col0\" >32502391.000000</td>\n",
       "    </tr>\n",
       "    <tr>\n",
       "      <th id=\"T_1244e_level0_row5\" class=\"row_heading level0 row5\" >50%</th>\n",
       "      <td id=\"T_1244e_row5_col0\" class=\"data row5 col0\" >35000450.000000</td>\n",
       "    </tr>\n",
       "    <tr>\n",
       "      <th id=\"T_1244e_level0_row6\" class=\"row_heading level0 row6\" >75%</th>\n",
       "      <td id=\"T_1244e_row6_col0\" class=\"data row6 col0\" >37498150.000000</td>\n",
       "    </tr>\n",
       "    <tr>\n",
       "      <th id=\"T_1244e_level0_row7\" class=\"row_heading level0 row7\" >max</th>\n",
       "      <td id=\"T_1244e_row7_col0\" class=\"data row7 col0\" >39999964.000000</td>\n",
       "    </tr>\n",
       "  </tbody>\n",
       "</table>\n",
       "<style type=\"text/css\">\n",
       "</style>\n",
       "<table id=\"T_b0c23\" style='display:inline'>\n",
       "  <caption>Hadm_id from prescriptions</caption>\n",
       "  <thead>\n",
       "    <tr>\n",
       "      <th class=\"blank level0\" >&nbsp;</th>\n",
       "      <th id=\"T_b0c23_level0_col0\" class=\"col_heading level0 col0\" >hadm_id</th>\n",
       "    </tr>\n",
       "  </thead>\n",
       "  <tbody>\n",
       "    <tr>\n",
       "      <th id=\"T_b0c23_level0_row0\" class=\"row_heading level0 row0\" >count</th>\n",
       "      <td id=\"T_b0c23_row0_col0\" class=\"data row0 col0\" >16219412.000000</td>\n",
       "    </tr>\n",
       "    <tr>\n",
       "      <th id=\"T_b0c23_level0_row1\" class=\"row_heading level0 row1\" >mean</th>\n",
       "      <td id=\"T_b0c23_row1_col0\" class=\"data row1 col0\" >25004407.280042</td>\n",
       "    </tr>\n",
       "    <tr>\n",
       "      <th id=\"T_b0c23_level0_row2\" class=\"row_heading level0 row2\" >std</th>\n",
       "      <td id=\"T_b0c23_row2_col0\" class=\"data row2 col0\" >2884617.408397</td>\n",
       "    </tr>\n",
       "    <tr>\n",
       "      <th id=\"T_b0c23_level0_row3\" class=\"row_heading level0 row3\" >min</th>\n",
       "      <td id=\"T_b0c23_row3_col0\" class=\"data row3 col0\" >20000019.000000</td>\n",
       "    </tr>\n",
       "    <tr>\n",
       "      <th id=\"T_b0c23_level0_row4\" class=\"row_heading level0 row4\" >25%</th>\n",
       "      <td id=\"T_b0c23_row4_col0\" class=\"data row4 col0\" >22514037.000000</td>\n",
       "    </tr>\n",
       "    <tr>\n",
       "      <th id=\"T_b0c23_level0_row5\" class=\"row_heading level0 row5\" >50%</th>\n",
       "      <td id=\"T_b0c23_row5_col0\" class=\"data row5 col0\" >25008728.000000</td>\n",
       "    </tr>\n",
       "    <tr>\n",
       "      <th id=\"T_b0c23_level0_row6\" class=\"row_heading level0 row6\" >75%</th>\n",
       "      <td id=\"T_b0c23_row6_col0\" class=\"data row6 col0\" >27498545.000000</td>\n",
       "    </tr>\n",
       "    <tr>\n",
       "      <th id=\"T_b0c23_level0_row7\" class=\"row_heading level0 row7\" >max</th>\n",
       "      <td id=\"T_b0c23_row7_col0\" class=\"data row7 col0\" >29999928.000000</td>\n",
       "    </tr>\n",
       "  </tbody>\n",
       "</table>\n"
      ]
     },
     "metadata": {},
     "output_type": "display_data"
    }
   ],
   "source": [
    "cap_utils.display_sbs(['Stay_id from medrecon','Hadm_id from prescriptions'],\\\n",
    "                      medrecon.stay_id.describe(),prescriptions.hadm_id.describe())"
   ]
  },
  {
   "cell_type": "markdown",
   "id": "6103efeb",
   "metadata": {},
   "source": [
    "Lovely, comparable, no overlap. We will combine them, adding a new column to indicate rows where hadm_id is actually stay_id (for info not for modelling)."
   ]
  },
  {
   "cell_type": "code",
   "execution_count": 16,
   "id": "270c7369",
   "metadata": {
    "ExecuteTime": {
     "end_time": "2022-10-12T20:51:56.820872Z",
     "start_time": "2022-10-12T20:51:43.388047Z"
    }
   },
   "outputs": [],
   "source": [
    "prescriptions['stay_id_ind'] = 0\n",
    "medrecon['stay_id_ind'] = 1\n",
    "prescriptions = pd.concat([prescriptions,medrecon.rename(columns = {'stay_id':'hadm_id'})],axis = 0)\n",
    "prescriptions.reset_index(inplace = True,drop = True)"
   ]
  },
  {
   "cell_type": "code",
   "execution_count": 17,
   "id": "360ed81a",
   "metadata": {
    "ExecuteTime": {
     "end_time": "2022-10-12T20:52:12.452923Z",
     "start_time": "2022-10-12T20:51:56.821811Z"
    }
   },
   "outputs": [
    {
     "data": {
      "text/html": [
       "<style type=\"text/css\">\n",
       "</style>\n",
       "<table id=\"T_0ee76\" style='display:inline'>\n",
       "  <caption>NDCs from hospital</caption>\n",
       "  <thead>\n",
       "    <tr>\n",
       "      <th class=\"blank level0\" >&nbsp;</th>\n",
       "      <th id=\"T_0ee76_level0_col0\" class=\"col_heading level0 col0\" >ndc</th>\n",
       "    </tr>\n",
       "  </thead>\n",
       "  <tbody>\n",
       "    <tr>\n",
       "      <th id=\"T_0ee76_level0_row0\" class=\"row_heading level0 row0\" >count</th>\n",
       "      <td id=\"T_0ee76_row0_col0\" class=\"data row0 col0\" >16193185.000000</td>\n",
       "    </tr>\n",
       "    <tr>\n",
       "      <th id=\"T_0ee76_level0_row1\" class=\"row_heading level0 row1\" >mean</th>\n",
       "      <td id=\"T_0ee76_row1_col0\" class=\"data row1 col0\" >17356329121.561031</td>\n",
       "    </tr>\n",
       "    <tr>\n",
       "      <th id=\"T_0ee76_level0_row2\" class=\"row_heading level0 row2\" >std</th>\n",
       "      <td id=\"T_0ee76_row2_col0\" class=\"data row2 col0\" >26353062677.424332</td>\n",
       "    </tr>\n",
       "    <tr>\n",
       "      <th id=\"T_0ee76_level0_row3\" class=\"row_heading level0 row3\" >min</th>\n",
       "      <td id=\"T_0ee76_row3_col0\" class=\"data row3 col0\" >0.000000</td>\n",
       "    </tr>\n",
       "    <tr>\n",
       "      <th id=\"T_0ee76_level0_row4\" class=\"row_heading level0 row4\" >25%</th>\n",
       "      <td id=\"T_0ee76_row4_col0\" class=\"data row4 col0\" >172375910.000000</td>\n",
       "    </tr>\n",
       "    <tr>\n",
       "      <th id=\"T_0ee76_level0_row5\" class=\"row_heading level0 row5\" >50%</th>\n",
       "      <td id=\"T_0ee76_row5_col0\" class=\"data row5 col0\" >409707714.000000</td>\n",
       "    </tr>\n",
       "    <tr>\n",
       "      <th id=\"T_0ee76_level0_row6\" class=\"row_heading level0 row6\" >75%</th>\n",
       "      <td id=\"T_0ee76_row6_col0\" class=\"data row6 col0\" >50383077933.000000</td>\n",
       "    </tr>\n",
       "    <tr>\n",
       "      <th id=\"T_0ee76_level0_row7\" class=\"row_heading level0 row7\" >max</th>\n",
       "      <td id=\"T_0ee76_row7_col0\" class=\"data row7 col0\" >99207024005.000000</td>\n",
       "    </tr>\n",
       "  </tbody>\n",
       "</table>\n",
       "<style type=\"text/css\">\n",
       "</style>\n",
       "<table id=\"T_4e57b\" style='display:inline'>\n",
       "  <caption>NDCs from ED</caption>\n",
       "  <thead>\n",
       "    <tr>\n",
       "      <th class=\"blank level0\" >&nbsp;</th>\n",
       "      <th id=\"T_4e57b_level0_col0\" class=\"col_heading level0 col0\" >ndc</th>\n",
       "    </tr>\n",
       "  </thead>\n",
       "  <tbody>\n",
       "    <tr>\n",
       "      <th id=\"T_4e57b_level0_row0\" class=\"row_heading level0 row0\" >count</th>\n",
       "      <td id=\"T_4e57b_row0_col0\" class=\"data row0 col0\" >2733573.000000</td>\n",
       "    </tr>\n",
       "    <tr>\n",
       "      <th id=\"T_4e57b_level0_row1\" class=\"row_heading level0 row1\" >mean</th>\n",
       "      <td id=\"T_4e57b_row1_col0\" class=\"data row1 col0\" >16184444403.336649</td>\n",
       "    </tr>\n",
       "    <tr>\n",
       "      <th id=\"T_4e57b_level0_row2\" class=\"row_heading level0 row2\" >std</th>\n",
       "      <td id=\"T_4e57b_row2_col0\" class=\"data row2 col0\" >11891976106.486269</td>\n",
       "    </tr>\n",
       "    <tr>\n",
       "      <th id=\"T_4e57b_level0_row3\" class=\"row_heading level0 row3\" >min</th>\n",
       "      <td id=\"T_4e57b_row3_col0\" class=\"data row3 col0\" >0.000000</td>\n",
       "    </tr>\n",
       "    <tr>\n",
       "      <th id=\"T_4e57b_level0_row4\" class=\"row_heading level0 row4\" >25%</th>\n",
       "      <td id=\"T_4e57b_row4_col0\" class=\"data row4 col0\" >10337016215.000000</td>\n",
       "    </tr>\n",
       "    <tr>\n",
       "      <th id=\"T_4e57b_level0_row5\" class=\"row_heading level0 row5\" >50%</th>\n",
       "      <td id=\"T_4e57b_row5_col0\" class=\"data row5 col0\" >10939053344.000000</td>\n",
       "    </tr>\n",
       "    <tr>\n",
       "      <th id=\"T_4e57b_level0_row6\" class=\"row_heading level0 row6\" >75%</th>\n",
       "      <td id=\"T_4e57b_row6_col0\" class=\"data row6 col0\" >16590031330.000000</td>\n",
       "    </tr>\n",
       "    <tr>\n",
       "      <th id=\"T_4e57b_level0_row7\" class=\"row_heading level0 row7\" >max</th>\n",
       "      <td id=\"T_4e57b_row7_col0\" class=\"data row7 col0\" >99207027675.000000</td>\n",
       "    </tr>\n",
       "  </tbody>\n",
       "</table>\n"
      ]
     },
     "metadata": {},
     "output_type": "display_data"
    }
   ],
   "source": [
    "cap_utils.display_sbs(['NDCs from hospital','NDCs from ED'],\\\n",
    "                      prescriptions.ndc[prescriptions.stay_id_ind == 0].describe(),\\\n",
    "                      prescriptions.ndc[prescriptions.stay_id_ind == 1].describe())"
   ]
  },
  {
   "cell_type": "markdown",
   "id": "820c235c",
   "metadata": {},
   "source": [
    "It seems like ED and the hospital have completely different suppliers, because there is little overlap of ndcs. Let's export the unique ndc list to query the ATCs."
   ]
  },
  {
   "cell_type": "code",
   "execution_count": 18,
   "id": "f38cf203",
   "metadata": {
    "ExecuteTime": {
     "end_time": "2022-10-12T20:52:13.451653Z",
     "start_time": "2022-10-12T20:52:12.453944Z"
    }
   },
   "outputs": [
    {
     "data": {
      "text/plain": [
       "array(['00904198861', '00000000000', '51079007320', ..., '10939016244',\n",
       "       '11917010387', '43376031060'], dtype='<U11')"
      ]
     },
     "execution_count": 18,
     "metadata": {},
     "output_type": "execute_result"
    }
   ],
   "source": [
    "np.char.zfill(prescriptions.ndc.unique().astype('str'),11)"
   ]
  },
  {
   "cell_type": "code",
   "execution_count": 19,
   "id": "356c0762",
   "metadata": {
    "ExecuteTime": {
     "end_time": "2022-10-12T20:52:14.480300Z",
     "start_time": "2022-10-12T20:52:13.454653Z"
    }
   },
   "outputs": [],
   "source": [
    "pd.Series(name = 'NDC',data= np.char.zfill(prescriptions.ndc.unique().astype('str'),11)).to_csv('unique_ndcs.csv')"
   ]
  },
  {
   "cell_type": "code",
   "execution_count": 20,
   "id": "e16cce48",
   "metadata": {
    "ExecuteTime": {
     "end_time": "2022-10-12T20:52:14.511318Z",
     "start_time": "2022-10-12T20:52:14.481377Z"
    }
   },
   "outputs": [],
   "source": [
    "mapped_NDC = pd.read_csv(r'G:\\My Drive\\Brainstation\\Capstone project\\ndc_map\\output\\atc4\\ndc_map 2022_10_12 17_12 (atc4).csv',usecols = ['ndc','atc4','atc4_name'])"
   ]
  },
  {
   "cell_type": "code",
   "execution_count": 21,
   "id": "eae9d6fd",
   "metadata": {
    "ExecuteTime": {
     "end_time": "2022-10-12T20:52:14.527324Z",
     "start_time": "2022-10-12T20:52:14.512353Z"
    }
   },
   "outputs": [],
   "source": [
    "mapped_NDC.dropna(inplace = True)\n",
    "mapped_NDC.ndc = mapped_NDC.ndc.astype('int64')"
   ]
  },
  {
   "cell_type": "code",
   "execution_count": 22,
   "id": "129283cb",
   "metadata": {
    "ExecuteTime": {
     "end_time": "2022-10-12T20:52:14.542245Z",
     "start_time": "2022-10-12T20:52:14.528245Z"
    }
   },
   "outputs": [
    {
     "data": {
      "text/plain": [
       "21710"
      ]
     },
     "execution_count": 22,
     "metadata": {},
     "output_type": "execute_result"
    }
   ],
   "source": [
    "mapped_NDC.drop_duplicates(inplace = True)\n",
    "len(mapped_NDC)"
   ]
  },
  {
   "cell_type": "code",
   "execution_count": 23,
   "id": "a8029d44",
   "metadata": {
    "ExecuteTime": {
     "end_time": "2022-10-12T20:52:14.558403Z",
     "start_time": "2022-10-12T20:52:14.544246Z"
    }
   },
   "outputs": [
    {
     "data": {
      "text/html": [
       "<div>\n",
       "<style scoped>\n",
       "    .dataframe tbody tr th:only-of-type {\n",
       "        vertical-align: middle;\n",
       "    }\n",
       "\n",
       "    .dataframe tbody tr th {\n",
       "        vertical-align: top;\n",
       "    }\n",
       "\n",
       "    .dataframe thead th {\n",
       "        text-align: right;\n",
       "    }\n",
       "</style>\n",
       "<table border=\"1\" class=\"dataframe\">\n",
       "  <thead>\n",
       "    <tr style=\"text-align: right;\">\n",
       "      <th></th>\n",
       "      <th>ndc</th>\n",
       "      <th>atc4</th>\n",
       "      <th>atc4_name</th>\n",
       "    </tr>\n",
       "  </thead>\n",
       "  <tbody>\n",
       "    <tr>\n",
       "      <th>2</th>\n",
       "      <td>2050301</td>\n",
       "      <td>J01GB</td>\n",
       "      <td>Other aminoglycosides</td>\n",
       "    </tr>\n",
       "    <tr>\n",
       "      <th>3</th>\n",
       "      <td>2050301</td>\n",
       "      <td>S01AA</td>\n",
       "      <td>Antibiotics</td>\n",
       "    </tr>\n",
       "    <tr>\n",
       "      <th>4</th>\n",
       "      <td>2060440</td>\n",
       "      <td>J04AB</td>\n",
       "      <td>Antibiotics</td>\n",
       "    </tr>\n",
       "    <tr>\n",
       "      <th>5</th>\n",
       "      <td>2100902</td>\n",
       "      <td>R05DA</td>\n",
       "      <td>Opium alkaloids and derivatives</td>\n",
       "    </tr>\n",
       "    <tr>\n",
       "      <th>8</th>\n",
       "      <td>2143301</td>\n",
       "      <td>A10BJ</td>\n",
       "      <td>Glucagon-like peptide-1 (GLP-1) analogues</td>\n",
       "    </tr>\n",
       "  </tbody>\n",
       "</table>\n",
       "</div>"
      ],
      "text/plain": [
       "       ndc   atc4                                  atc4_name\n",
       "2  2050301  J01GB                      Other aminoglycosides\n",
       "3  2050301  S01AA                                Antibiotics\n",
       "4  2060440  J04AB                                Antibiotics\n",
       "5  2100902  R05DA            Opium alkaloids and derivatives\n",
       "8  2143301  A10BJ  Glucagon-like peptide-1 (GLP-1) analogues"
      ]
     },
     "execution_count": 23,
     "metadata": {},
     "output_type": "execute_result"
    }
   ],
   "source": [
    "mapped_NDC.head()"
   ]
  },
  {
   "cell_type": "code",
   "execution_count": 24,
   "id": "5f79099f",
   "metadata": {
    "ExecuteTime": {
     "end_time": "2022-10-12T20:52:14.574795Z",
     "start_time": "2022-10-12T20:52:14.559486Z"
    }
   },
   "outputs": [
    {
     "data": {
      "text/plain": [
       "518"
      ]
     },
     "execution_count": 24,
     "metadata": {},
     "output_type": "execute_result"
    }
   ],
   "source": [
    "mapped_NDC.atc4_name.nunique()"
   ]
  },
  {
   "cell_type": "markdown",
   "id": "add65750",
   "metadata": {},
   "source": [
    "A lot of categories. Feasible, but we will first try taking just the first letter (lvl 1 of classification) of the atc_4 instead"
   ]
  },
  {
   "cell_type": "code",
   "execution_count": 25,
   "id": "a1f50089",
   "metadata": {
    "ExecuteTime": {
     "end_time": "2022-10-12T20:52:14.605305Z",
     "start_time": "2022-10-12T20:52:14.576306Z"
    }
   },
   "outputs": [],
   "source": [
    "atc1 = mapped_NDC[['ndc','atc4']].copy()\n",
    "atc1['atc4'] = atc1.atc4.str[0]\n",
    "atc1.rename(columns = {'atc4':'atc1'},inplace = True)\n",
    "atc1.drop_duplicates(inplace = True)"
   ]
  },
  {
   "cell_type": "code",
   "execution_count": 26,
   "id": "d5bb6990",
   "metadata": {
    "ExecuteTime": {
     "end_time": "2022-10-12T20:52:14.636118Z",
     "start_time": "2022-10-12T20:52:14.607307Z"
    }
   },
   "outputs": [
    {
     "name": "stdout",
     "output_type": "stream",
     "text": [
      "16937\n",
      "ndc     10770\n",
      "atc1       14\n",
      "dtype: int64\n"
     ]
    },
    {
     "data": {
      "text/html": [
       "<div>\n",
       "<style scoped>\n",
       "    .dataframe tbody tr th:only-of-type {\n",
       "        vertical-align: middle;\n",
       "    }\n",
       "\n",
       "    .dataframe tbody tr th {\n",
       "        vertical-align: top;\n",
       "    }\n",
       "\n",
       "    .dataframe thead th {\n",
       "        text-align: right;\n",
       "    }\n",
       "</style>\n",
       "<table border=\"1\" class=\"dataframe\">\n",
       "  <thead>\n",
       "    <tr style=\"text-align: right;\">\n",
       "      <th></th>\n",
       "      <th>atc1</th>\n",
       "    </tr>\n",
       "  </thead>\n",
       "  <tbody>\n",
       "    <tr>\n",
       "      <th>count</th>\n",
       "      <td>10770.000000</td>\n",
       "    </tr>\n",
       "    <tr>\n",
       "      <th>mean</th>\n",
       "      <td>1.572609</td>\n",
       "    </tr>\n",
       "    <tr>\n",
       "      <th>std</th>\n",
       "      <td>1.181846</td>\n",
       "    </tr>\n",
       "    <tr>\n",
       "      <th>min</th>\n",
       "      <td>1.000000</td>\n",
       "    </tr>\n",
       "    <tr>\n",
       "      <th>25%</th>\n",
       "      <td>1.000000</td>\n",
       "    </tr>\n",
       "    <tr>\n",
       "      <th>50%</th>\n",
       "      <td>1.000000</td>\n",
       "    </tr>\n",
       "    <tr>\n",
       "      <th>75%</th>\n",
       "      <td>2.000000</td>\n",
       "    </tr>\n",
       "    <tr>\n",
       "      <th>max</th>\n",
       "      <td>8.000000</td>\n",
       "    </tr>\n",
       "  </tbody>\n",
       "</table>\n",
       "</div>"
      ],
      "text/plain": [
       "               atc1\n",
       "count  10770.000000\n",
       "mean       1.572609\n",
       "std        1.181846\n",
       "min        1.000000\n",
       "25%        1.000000\n",
       "50%        1.000000\n",
       "75%        2.000000\n",
       "max        8.000000"
      ]
     },
     "metadata": {},
     "output_type": "display_data"
    }
   ],
   "source": [
    "atc1.head()\n",
    "print(len(atc1))\n",
    "print(atc1.nunique())\n",
    "display(atc1.groupby('ndc').nunique().describe())"
   ]
  },
  {
   "cell_type": "code",
   "execution_count": 27,
   "id": "ac99860c",
   "metadata": {
    "ExecuteTime": {
     "end_time": "2022-10-12T20:52:14.666433Z",
     "start_time": "2022-10-12T20:52:14.638308Z"
    }
   },
   "outputs": [
    {
     "data": {
      "text/html": [
       "<div>\n",
       "<style scoped>\n",
       "    .dataframe tbody tr th:only-of-type {\n",
       "        vertical-align: middle;\n",
       "    }\n",
       "\n",
       "    .dataframe tbody tr th {\n",
       "        vertical-align: top;\n",
       "    }\n",
       "\n",
       "    .dataframe thead th {\n",
       "        text-align: right;\n",
       "    }\n",
       "</style>\n",
       "<table border=\"1\" class=\"dataframe\">\n",
       "  <thead>\n",
       "    <tr style=\"text-align: right;\">\n",
       "      <th></th>\n",
       "      <th>A</th>\n",
       "      <th>B</th>\n",
       "      <th>C</th>\n",
       "      <th>D</th>\n",
       "      <th>G</th>\n",
       "      <th>H</th>\n",
       "      <th>J</th>\n",
       "      <th>L</th>\n",
       "      <th>M</th>\n",
       "      <th>N</th>\n",
       "      <th>P</th>\n",
       "      <th>R</th>\n",
       "      <th>S</th>\n",
       "      <th>V</th>\n",
       "    </tr>\n",
       "    <tr>\n",
       "      <th>ndc</th>\n",
       "      <th></th>\n",
       "      <th></th>\n",
       "      <th></th>\n",
       "      <th></th>\n",
       "      <th></th>\n",
       "      <th></th>\n",
       "      <th></th>\n",
       "      <th></th>\n",
       "      <th></th>\n",
       "      <th></th>\n",
       "      <th></th>\n",
       "      <th></th>\n",
       "      <th></th>\n",
       "      <th></th>\n",
       "    </tr>\n",
       "  </thead>\n",
       "  <tbody>\n",
       "    <tr>\n",
       "      <th>2050301</th>\n",
       "      <td>0</td>\n",
       "      <td>0</td>\n",
       "      <td>0</td>\n",
       "      <td>0</td>\n",
       "      <td>0</td>\n",
       "      <td>0</td>\n",
       "      <td>1</td>\n",
       "      <td>0</td>\n",
       "      <td>0</td>\n",
       "      <td>0</td>\n",
       "      <td>0</td>\n",
       "      <td>0</td>\n",
       "      <td>1</td>\n",
       "      <td>0</td>\n",
       "    </tr>\n",
       "    <tr>\n",
       "      <th>2060440</th>\n",
       "      <td>0</td>\n",
       "      <td>0</td>\n",
       "      <td>0</td>\n",
       "      <td>0</td>\n",
       "      <td>0</td>\n",
       "      <td>0</td>\n",
       "      <td>1</td>\n",
       "      <td>0</td>\n",
       "      <td>0</td>\n",
       "      <td>0</td>\n",
       "      <td>0</td>\n",
       "      <td>0</td>\n",
       "      <td>0</td>\n",
       "      <td>0</td>\n",
       "    </tr>\n",
       "    <tr>\n",
       "      <th>2100902</th>\n",
       "      <td>0</td>\n",
       "      <td>0</td>\n",
       "      <td>0</td>\n",
       "      <td>0</td>\n",
       "      <td>0</td>\n",
       "      <td>0</td>\n",
       "      <td>0</td>\n",
       "      <td>0</td>\n",
       "      <td>0</td>\n",
       "      <td>0</td>\n",
       "      <td>0</td>\n",
       "      <td>1</td>\n",
       "      <td>0</td>\n",
       "      <td>0</td>\n",
       "    </tr>\n",
       "    <tr>\n",
       "      <th>2143301</th>\n",
       "      <td>1</td>\n",
       "      <td>0</td>\n",
       "      <td>0</td>\n",
       "      <td>0</td>\n",
       "      <td>0</td>\n",
       "      <td>0</td>\n",
       "      <td>0</td>\n",
       "      <td>0</td>\n",
       "      <td>0</td>\n",
       "      <td>0</td>\n",
       "      <td>0</td>\n",
       "      <td>0</td>\n",
       "      <td>0</td>\n",
       "      <td>0</td>\n",
       "    </tr>\n",
       "    <tr>\n",
       "      <th>2143401</th>\n",
       "      <td>1</td>\n",
       "      <td>0</td>\n",
       "      <td>0</td>\n",
       "      <td>0</td>\n",
       "      <td>0</td>\n",
       "      <td>0</td>\n",
       "      <td>0</td>\n",
       "      <td>0</td>\n",
       "      <td>0</td>\n",
       "      <td>0</td>\n",
       "      <td>0</td>\n",
       "      <td>0</td>\n",
       "      <td>0</td>\n",
       "      <td>0</td>\n",
       "    </tr>\n",
       "  </tbody>\n",
       "</table>\n",
       "</div>"
      ],
      "text/plain": [
       "         A  B  C  D  G  H  J  L  M  N  P  R  S  V\n",
       "ndc                                              \n",
       "2050301  0  0  0  0  0  0  1  0  0  0  0  0  1  0\n",
       "2060440  0  0  0  0  0  0  1  0  0  0  0  0  0  0\n",
       "2100902  0  0  0  0  0  0  0  0  0  0  0  1  0  0\n",
       "2143301  1  0  0  0  0  0  0  0  0  0  0  0  0  0\n",
       "2143401  1  0  0  0  0  0  0  0  0  0  0  0  0  0"
      ]
     },
     "metadata": {},
     "output_type": "display_data"
    },
    {
     "name": "stdout",
     "output_type": "stream",
     "text": [
      "(10770, 14)\n"
     ]
    }
   ],
   "source": [
    "atc1 = pd.concat([atc1,pd.get_dummies(atc1.atc1,prefix = None)],axis = 1).drop(columns = 'atc1')\n",
    "atc1 = atc1.groupby('ndc').any()*1\n",
    "display(atc1.head())\n",
    "print(atc1.shape)"
   ]
  },
  {
   "cell_type": "markdown",
   "id": "be68c2ac",
   "metadata": {},
   "source": [
    "There is more than one atc1 per ndc code! We were going to use dummy variables in the future, so we will implement those now before the merge. That way we will have just one category per ndc. Also note that not all ndcs have been mapped, 490 out of 5744 are still unclassified. We will try to fill those after the merge."
   ]
  },
  {
   "cell_type": "code",
   "execution_count": 28,
   "id": "f2a1aeba",
   "metadata": {
    "ExecuteTime": {
     "end_time": "2022-10-12T20:52:26.879897Z",
     "start_time": "2022-10-12T20:52:14.668337Z"
    }
   },
   "outputs": [],
   "source": [
    "prescriptions.reset_index(inplace = True)\n",
    "prescriptions.rename(columns = {'index':'join_on_index'},inplace = True)\n",
    "prescriptions.set_index('ndc',inplace = True)\n",
    "cat_pres = prescriptions[['join_on_index','drug_type','drug','formulary_drug_cd','gsn']].join(atc1)\n",
    "cat_pres.reset_index(inplace = True)"
   ]
  },
  {
   "cell_type": "code",
   "execution_count": 29,
   "id": "570e8ecb",
   "metadata": {
    "ExecuteTime": {
     "end_time": "2022-10-12T20:52:42.556239Z",
     "start_time": "2022-10-12T20:52:26.881900Z"
    },
    "scrolled": true
   },
   "outputs": [
    {
     "data": {
      "text/html": [
       "<div>\n",
       "<style scoped>\n",
       "    .dataframe tbody tr th:only-of-type {\n",
       "        vertical-align: middle;\n",
       "    }\n",
       "\n",
       "    .dataframe tbody tr th {\n",
       "        vertical-align: top;\n",
       "    }\n",
       "\n",
       "    .dataframe thead th {\n",
       "        text-align: right;\n",
       "    }\n",
       "</style>\n",
       "<table border=\"1\" class=\"dataframe\">\n",
       "  <thead>\n",
       "    <tr style=\"text-align: right;\">\n",
       "      <th></th>\n",
       "      <th>ndc</th>\n",
       "      <th>join_on_index</th>\n",
       "      <th>drug_type</th>\n",
       "      <th>drug</th>\n",
       "      <th>formulary_drug_cd</th>\n",
       "      <th>gsn</th>\n",
       "      <th>A</th>\n",
       "      <th>B</th>\n",
       "      <th>C</th>\n",
       "      <th>D</th>\n",
       "      <th>G</th>\n",
       "      <th>H</th>\n",
       "      <th>J</th>\n",
       "      <th>L</th>\n",
       "      <th>M</th>\n",
       "      <th>N</th>\n",
       "      <th>P</th>\n",
       "      <th>R</th>\n",
       "      <th>S</th>\n",
       "      <th>V</th>\n",
       "    </tr>\n",
       "  </thead>\n",
       "  <tbody>\n",
       "    <tr>\n",
       "      <th>2736426</th>\n",
       "      <td>29152611</td>\n",
       "      <td>13509589</td>\n",
       "      <td>MAIN</td>\n",
       "      <td>Mupirocin Nasal Ointment 2%</td>\n",
       "      <td>BACT2/1O</td>\n",
       "      <td>018370</td>\n",
       "      <td>0.0</td>\n",
       "      <td>0.0</td>\n",
       "      <td>0.0</td>\n",
       "      <td>1.0</td>\n",
       "      <td>0.0</td>\n",
       "      <td>0.0</td>\n",
       "      <td>0.0</td>\n",
       "      <td>0.0</td>\n",
       "      <td>0.0</td>\n",
       "      <td>0.0</td>\n",
       "      <td>0.0</td>\n",
       "      <td>1.0</td>\n",
       "      <td>0.0</td>\n",
       "      <td>0.0</td>\n",
       "    </tr>\n",
       "    <tr>\n",
       "      <th>17333385</th>\n",
       "      <td>63323026201</td>\n",
       "      <td>12321938</td>\n",
       "      <td>MAIN</td>\n",
       "      <td>Heparin</td>\n",
       "      <td>HEPA5I</td>\n",
       "      <td>006549</td>\n",
       "      <td>0.0</td>\n",
       "      <td>1.0</td>\n",
       "      <td>1.0</td>\n",
       "      <td>0.0</td>\n",
       "      <td>0.0</td>\n",
       "      <td>0.0</td>\n",
       "      <td>0.0</td>\n",
       "      <td>0.0</td>\n",
       "      <td>0.0</td>\n",
       "      <td>0.0</td>\n",
       "      <td>0.0</td>\n",
       "      <td>0.0</td>\n",
       "      <td>1.0</td>\n",
       "      <td>0.0</td>\n",
       "    </tr>\n",
       "    <tr>\n",
       "      <th>17628465</th>\n",
       "      <td>63323054011</td>\n",
       "      <td>14636529</td>\n",
       "      <td>MAIN</td>\n",
       "      <td>Heparin (Hemodialysis)</td>\n",
       "      <td>HEP10I</td>\n",
       "      <td>006543</td>\n",
       "      <td>0.0</td>\n",
       "      <td>1.0</td>\n",
       "      <td>1.0</td>\n",
       "      <td>0.0</td>\n",
       "      <td>0.0</td>\n",
       "      <td>0.0</td>\n",
       "      <td>0.0</td>\n",
       "      <td>0.0</td>\n",
       "      <td>0.0</td>\n",
       "      <td>0.0</td>\n",
       "      <td>0.0</td>\n",
       "      <td>0.0</td>\n",
       "      <td>1.0</td>\n",
       "      <td>0.0</td>\n",
       "    </tr>\n",
       "    <tr>\n",
       "      <th>7175213</th>\n",
       "      <td>409166010</td>\n",
       "      <td>5617397</td>\n",
       "      <td>MAIN</td>\n",
       "      <td>Dexmedetomidine</td>\n",
       "      <td>DEXM400I</td>\n",
       "      <td>070877</td>\n",
       "      <td>0.0</td>\n",
       "      <td>0.0</td>\n",
       "      <td>0.0</td>\n",
       "      <td>0.0</td>\n",
       "      <td>0.0</td>\n",
       "      <td>0.0</td>\n",
       "      <td>0.0</td>\n",
       "      <td>0.0</td>\n",
       "      <td>0.0</td>\n",
       "      <td>1.0</td>\n",
       "      <td>0.0</td>\n",
       "      <td>0.0</td>\n",
       "      <td>0.0</td>\n",
       "      <td>0.0</td>\n",
       "    </tr>\n",
       "    <tr>\n",
       "      <th>15356649</th>\n",
       "      <td>51079045120</td>\n",
       "      <td>11050356</td>\n",
       "      <td>MAIN</td>\n",
       "      <td>amLODIPine</td>\n",
       "      <td>AMLO5</td>\n",
       "      <td>016926</td>\n",
       "      <td>0.0</td>\n",
       "      <td>0.0</td>\n",
       "      <td>1.0</td>\n",
       "      <td>0.0</td>\n",
       "      <td>0.0</td>\n",
       "      <td>0.0</td>\n",
       "      <td>0.0</td>\n",
       "      <td>0.0</td>\n",
       "      <td>0.0</td>\n",
       "      <td>0.0</td>\n",
       "      <td>0.0</td>\n",
       "      <td>0.0</td>\n",
       "      <td>0.0</td>\n",
       "      <td>0.0</td>\n",
       "    </tr>\n",
       "    <tr>\n",
       "      <th>1959132</th>\n",
       "      <td>0</td>\n",
       "      <td>15957349</td>\n",
       "      <td>BASE</td>\n",
       "      <td>NS</td>\n",
       "      <td>METRBASE</td>\n",
       "      <td>NaN</td>\n",
       "      <td>NaN</td>\n",
       "      <td>NaN</td>\n",
       "      <td>NaN</td>\n",
       "      <td>NaN</td>\n",
       "      <td>NaN</td>\n",
       "      <td>NaN</td>\n",
       "      <td>NaN</td>\n",
       "      <td>NaN</td>\n",
       "      <td>NaN</td>\n",
       "      <td>NaN</td>\n",
       "      <td>NaN</td>\n",
       "      <td>NaN</td>\n",
       "      <td>NaN</td>\n",
       "      <td>NaN</td>\n",
       "    </tr>\n",
       "    <tr>\n",
       "      <th>7436797</th>\n",
       "      <td>409427701</td>\n",
       "      <td>12779349</td>\n",
       "      <td>MAIN</td>\n",
       "      <td>Lidocaine 2%</td>\n",
       "      <td>LIDO220I</td>\n",
       "      <td>003405</td>\n",
       "      <td>0.0</td>\n",
       "      <td>0.0</td>\n",
       "      <td>1.0</td>\n",
       "      <td>1.0</td>\n",
       "      <td>0.0</td>\n",
       "      <td>0.0</td>\n",
       "      <td>0.0</td>\n",
       "      <td>0.0</td>\n",
       "      <td>0.0</td>\n",
       "      <td>1.0</td>\n",
       "      <td>0.0</td>\n",
       "      <td>1.0</td>\n",
       "      <td>1.0</td>\n",
       "      <td>0.0</td>\n",
       "    </tr>\n",
       "    <tr>\n",
       "      <th>18201848</th>\n",
       "      <td>66689036430</td>\n",
       "      <td>10713077</td>\n",
       "      <td>MAIN</td>\n",
       "      <td>Milk of Magnesia</td>\n",
       "      <td>MOM30L</td>\n",
       "      <td>003026</td>\n",
       "      <td>NaN</td>\n",
       "      <td>NaN</td>\n",
       "      <td>NaN</td>\n",
       "      <td>NaN</td>\n",
       "      <td>NaN</td>\n",
       "      <td>NaN</td>\n",
       "      <td>NaN</td>\n",
       "      <td>NaN</td>\n",
       "      <td>NaN</td>\n",
       "      <td>NaN</td>\n",
       "      <td>NaN</td>\n",
       "      <td>NaN</td>\n",
       "      <td>NaN</td>\n",
       "      <td>NaN</td>\n",
       "    </tr>\n",
       "    <tr>\n",
       "      <th>9698526</th>\n",
       "      <td>904198861</td>\n",
       "      <td>758989</td>\n",
       "      <td>MAIN</td>\n",
       "      <td>Acetaminophen</td>\n",
       "      <td>APAP500</td>\n",
       "      <td>004490</td>\n",
       "      <td>0.0</td>\n",
       "      <td>0.0</td>\n",
       "      <td>0.0</td>\n",
       "      <td>0.0</td>\n",
       "      <td>0.0</td>\n",
       "      <td>0.0</td>\n",
       "      <td>0.0</td>\n",
       "      <td>0.0</td>\n",
       "      <td>0.0</td>\n",
       "      <td>1.0</td>\n",
       "      <td>0.0</td>\n",
       "      <td>0.0</td>\n",
       "      <td>0.0</td>\n",
       "      <td>0.0</td>\n",
       "    </tr>\n",
       "    <tr>\n",
       "      <th>1608893</th>\n",
       "      <td>0</td>\n",
       "      <td>13089411</td>\n",
       "      <td>BASE</td>\n",
       "      <td>D5W</td>\n",
       "      <td>HEPBASE</td>\n",
       "      <td>NaN</td>\n",
       "      <td>NaN</td>\n",
       "      <td>NaN</td>\n",
       "      <td>NaN</td>\n",
       "      <td>NaN</td>\n",
       "      <td>NaN</td>\n",
       "      <td>NaN</td>\n",
       "      <td>NaN</td>\n",
       "      <td>NaN</td>\n",
       "      <td>NaN</td>\n",
       "      <td>NaN</td>\n",
       "      <td>NaN</td>\n",
       "      <td>NaN</td>\n",
       "      <td>NaN</td>\n",
       "      <td>NaN</td>\n",
       "    </tr>\n",
       "  </tbody>\n",
       "</table>\n",
       "</div>"
      ],
      "text/plain": [
       "                  ndc  join_on_index drug_type                         drug  \\\n",
       "2736426      29152611       13509589      MAIN  Mupirocin Nasal Ointment 2%   \n",
       "17333385  63323026201       12321938      MAIN                      Heparin   \n",
       "17628465  63323054011       14636529      MAIN       Heparin (Hemodialysis)   \n",
       "7175213     409166010        5617397      MAIN              Dexmedetomidine   \n",
       "15356649  51079045120       11050356      MAIN                   amLODIPine   \n",
       "1959132             0       15957349      BASE                           NS   \n",
       "7436797     409427701       12779349      MAIN                 Lidocaine 2%   \n",
       "18201848  66689036430       10713077      MAIN             Milk of Magnesia   \n",
       "9698526     904198861         758989      MAIN                Acetaminophen   \n",
       "1608893             0       13089411      BASE                          D5W   \n",
       "\n",
       "         formulary_drug_cd     gsn    A    B    C    D    G    H    J    L  \\\n",
       "2736426           BACT2/1O  018370  0.0  0.0  0.0  1.0  0.0  0.0  0.0  0.0   \n",
       "17333385            HEPA5I  006549  0.0  1.0  1.0  0.0  0.0  0.0  0.0  0.0   \n",
       "17628465            HEP10I  006543  0.0  1.0  1.0  0.0  0.0  0.0  0.0  0.0   \n",
       "7175213           DEXM400I  070877  0.0  0.0  0.0  0.0  0.0  0.0  0.0  0.0   \n",
       "15356649             AMLO5  016926  0.0  0.0  1.0  0.0  0.0  0.0  0.0  0.0   \n",
       "1959132           METRBASE     NaN  NaN  NaN  NaN  NaN  NaN  NaN  NaN  NaN   \n",
       "7436797           LIDO220I  003405  0.0  0.0  1.0  1.0  0.0  0.0  0.0  0.0   \n",
       "18201848            MOM30L  003026  NaN  NaN  NaN  NaN  NaN  NaN  NaN  NaN   \n",
       "9698526            APAP500  004490  0.0  0.0  0.0  0.0  0.0  0.0  0.0  0.0   \n",
       "1608893            HEPBASE     NaN  NaN  NaN  NaN  NaN  NaN  NaN  NaN  NaN   \n",
       "\n",
       "            M    N    P    R    S    V  \n",
       "2736426   0.0  0.0  0.0  1.0  0.0  0.0  \n",
       "17333385  0.0  0.0  0.0  0.0  1.0  0.0  \n",
       "17628465  0.0  0.0  0.0  0.0  1.0  0.0  \n",
       "7175213   0.0  1.0  0.0  0.0  0.0  0.0  \n",
       "15356649  0.0  0.0  0.0  0.0  0.0  0.0  \n",
       "1959132   NaN  NaN  NaN  NaN  NaN  NaN  \n",
       "7436797   0.0  1.0  0.0  1.0  1.0  0.0  \n",
       "18201848  NaN  NaN  NaN  NaN  NaN  NaN  \n",
       "9698526   0.0  1.0  0.0  0.0  0.0  0.0  \n",
       "1608893   NaN  NaN  NaN  NaN  NaN  NaN  "
      ]
     },
     "metadata": {},
     "output_type": "display_data"
    },
    {
     "name": "stdout",
     "output_type": "stream",
     "text": [
      "Missing categories %: 18.4277516180169\n",
      "<class 'pandas.core.frame.DataFrame'>\n",
      "RangeIndex: 18952985 entries, 0 to 18952984\n",
      "Data columns (total 20 columns):\n",
      " #   Column             Non-Null Count     Dtype \n",
      "---  ------             --------------     ----- \n",
      " 0   ndc                18926758 non-null  Int64 \n",
      " 1   join_on_index      18952985 non-null  int64 \n",
      " 2   drug_type          16219412 non-null  object\n",
      " 3   drug               18952984 non-null  object\n",
      " 4   formulary_drug_cd  16199404 non-null  object\n",
      " 5   gsn                17075783 non-null  object\n",
      " 6   A                  18952985 non-null  int8  \n",
      " 7   B                  18952985 non-null  int8  \n",
      " 8   C                  18952985 non-null  int8  \n",
      " 9   D                  18952985 non-null  int8  \n",
      " 10  G                  18952985 non-null  int8  \n",
      " 11  H                  18952985 non-null  int8  \n",
      " 12  J                  18952985 non-null  int8  \n",
      " 13  L                  18952985 non-null  int8  \n",
      " 14  M                  18952985 non-null  int8  \n",
      " 15  N                  18952985 non-null  int8  \n",
      " 16  P                  18952985 non-null  int8  \n",
      " 17  R                  18952985 non-null  int8  \n",
      " 18  S                  18952985 non-null  int8  \n",
      " 19  V                  18952985 non-null  int8  \n",
      "dtypes: Int64(1), int64(1), int8(14), object(4)\n",
      "memory usage: 1.1+ GB\n",
      "None\n"
     ]
    }
   ],
   "source": [
    "display(cat_pres.sample(10))\n",
    "print('Missing categories %:',sum(cat_pres.A.isna())/len(cat_pres)*100)\n",
    "cat = list('ABCDGHJLMNPRSV')\n",
    "cat_pres[cat] = cat_pres[cat].fillna(-1).astype('int8')\n",
    "\n",
    "print(cat_pres.info(show_counts = True))"
   ]
  },
  {
   "cell_type": "code",
   "execution_count": 30,
   "id": "4030891e",
   "metadata": {
    "ExecuteTime": {
     "end_time": "2022-10-12T20:52:42.775196Z",
     "start_time": "2022-10-12T20:52:42.557946Z"
    }
   },
   "outputs": [],
   "source": [
    "cat_pres['ndc'] = cat_pres.ndc.floordiv(100)\n",
    "cat_pres.loc[cat_pres.ndc == 0,'ndc'] = pd.NA\n",
    "cat_pres['ndc'] = cat_pres.ndc.astype('Int64')"
   ]
  },
  {
   "cell_type": "markdown",
   "id": "f8067628",
   "metadata": {},
   "source": [
    "Note that the new category dummy columns are floats after the join, not int8s. We have filled the NaNs as -1 and changed the data type of the columns. This is useful to decrease the size of the dataframe and it will also be useful to fill the missing values (which is 19.26% of the rows), as we will see below. We will fill these missing values by matching with other columns and we there are a few candidates column for this: drug, pharmacy_id, gsn and formulary_drug_cd. The goal will be to find the column with values shared by the largest amount of rows, so matching ATR1s is more likely. "
   ]
  },
  {
   "cell_type": "code",
   "execution_count": 31,
   "id": "5213038d",
   "metadata": {
    "ExecuteTime": {
     "end_time": "2022-10-12T20:53:09.118838Z",
     "start_time": "2022-10-12T20:52:42.776195Z"
    }
   },
   "outputs": [
    {
     "data": {
      "text/plain": [
       "ndc                  510790456\n",
       "join_on_index         16133454\n",
       "drug_type                 MAIN\n",
       "drug                       NaN\n",
       "formulary_drug_cd      SIMVIND\n",
       "gsn                     016579\n",
       "A                            0\n",
       "B                            0\n",
       "C                            1\n",
       "D                            0\n",
       "G                            0\n",
       "H                            0\n",
       "J                            0\n",
       "L                            0\n",
       "M                            0\n",
       "N                            0\n",
       "P                            0\n",
       "R                            0\n",
       "S                            0\n",
       "V                            0\n",
       "Name: 15420049, dtype: object"
      ]
     },
     "metadata": {},
     "output_type": "display_data"
    },
    {
     "data": {
      "text/html": [
       "<div>\n",
       "<style scoped>\n",
       "    .dataframe tbody tr th:only-of-type {\n",
       "        vertical-align: middle;\n",
       "    }\n",
       "\n",
       "    .dataframe tbody tr th {\n",
       "        vertical-align: top;\n",
       "    }\n",
       "\n",
       "    .dataframe thead th {\n",
       "        text-align: right;\n",
       "    }\n",
       "</style>\n",
       "<table border=\"1\" class=\"dataframe\">\n",
       "  <thead>\n",
       "    <tr style=\"text-align: right;\">\n",
       "      <th></th>\n",
       "      <th>ndc</th>\n",
       "      <th>join_on_index</th>\n",
       "      <th>drug_type</th>\n",
       "      <th>drug</th>\n",
       "      <th>formulary_drug_cd</th>\n",
       "      <th>gsn</th>\n",
       "      <th>A</th>\n",
       "      <th>B</th>\n",
       "      <th>C</th>\n",
       "      <th>D</th>\n",
       "      <th>G</th>\n",
       "      <th>H</th>\n",
       "      <th>J</th>\n",
       "      <th>L</th>\n",
       "      <th>M</th>\n",
       "      <th>N</th>\n",
       "      <th>P</th>\n",
       "      <th>R</th>\n",
       "      <th>S</th>\n",
       "      <th>V</th>\n",
       "    </tr>\n",
       "  </thead>\n",
       "  <tbody>\n",
       "    <tr>\n",
       "      <th>15400176</th>\n",
       "      <td>510790456</td>\n",
       "      <td>351</td>\n",
       "      <td>MAIN</td>\n",
       "      <td>Simvastatin</td>\n",
       "      <td>SIMV40</td>\n",
       "      <td>016579</td>\n",
       "      <td>0</td>\n",
       "      <td>0</td>\n",
       "      <td>1</td>\n",
       "      <td>0</td>\n",
       "      <td>0</td>\n",
       "      <td>0</td>\n",
       "      <td>0</td>\n",
       "      <td>0</td>\n",
       "      <td>0</td>\n",
       "      <td>0</td>\n",
       "      <td>0</td>\n",
       "      <td>0</td>\n",
       "      <td>0</td>\n",
       "      <td>0</td>\n",
       "    </tr>\n",
       "  </tbody>\n",
       "</table>\n",
       "</div>"
      ],
      "text/plain": [
       "                ndc  join_on_index drug_type         drug formulary_drug_cd  \\\n",
       "15400176  510790456            351      MAIN  Simvastatin            SIMV40   \n",
       "\n",
       "             gsn  A  B  C  D  G  H  J  L  M  N  P  R  S  V  \n",
       "15400176  016579  0  0  1  0  0  0  0  0  0  0  0  0  0  0  "
      ]
     },
     "metadata": {},
     "output_type": "display_data"
    },
    {
     "name": "stdout",
     "output_type": "stream",
     "text": [
      "Value counts of drugs:\n",
      " Insulin                         631400\n",
      "0.9% Sodium Chloride            606705\n",
      "Sodium Chloride 0.9%  Flush     544798\n",
      "Potassium Chloride              501615\n",
      "Acetaminophen                   465254\n",
      "                                 ...  \n",
      "niferex                              1\n",
      "iron complex                         1\n",
      "*tasabri infusion                    1\n",
      "hyoscyamine sulfate [Hyomax]         1\n",
      "Lumigan                              1\n",
      "Name: drug, Length: 25853, dtype: int64\n"
     ]
    },
    {
     "data": {
      "text/html": [
       "<div>\n",
       "<style scoped>\n",
       "    .dataframe tbody tr th:only-of-type {\n",
       "        vertical-align: middle;\n",
       "    }\n",
       "\n",
       "    .dataframe tbody tr th {\n",
       "        vertical-align: top;\n",
       "    }\n",
       "\n",
       "    .dataframe thead th {\n",
       "        text-align: right;\n",
       "    }\n",
       "</style>\n",
       "<table border=\"1\" class=\"dataframe\">\n",
       "  <thead>\n",
       "    <tr style=\"text-align: right;\">\n",
       "      <th></th>\n",
       "      <th>ndc</th>\n",
       "      <th>join_on_index</th>\n",
       "      <th>drug_type</th>\n",
       "      <th>drug</th>\n",
       "      <th>formulary_drug_cd</th>\n",
       "      <th>gsn</th>\n",
       "      <th>A</th>\n",
       "      <th>B</th>\n",
       "      <th>C</th>\n",
       "      <th>D</th>\n",
       "      <th>G</th>\n",
       "      <th>H</th>\n",
       "      <th>J</th>\n",
       "      <th>L</th>\n",
       "      <th>M</th>\n",
       "      <th>N</th>\n",
       "      <th>P</th>\n",
       "      <th>R</th>\n",
       "      <th>S</th>\n",
       "      <th>V</th>\n",
       "    </tr>\n",
       "  </thead>\n",
       "  <tbody>\n",
       "    <tr>\n",
       "      <th>1992507</th>\n",
       "      <td>&lt;NA&gt;</td>\n",
       "      <td>16389120</td>\n",
       "      <td>NaN</td>\n",
       "      <td>*clindamycin 1%</td>\n",
       "      <td>NaN</td>\n",
       "      <td>0</td>\n",
       "      <td>-1</td>\n",
       "      <td>-1</td>\n",
       "      <td>-1</td>\n",
       "      <td>-1</td>\n",
       "      <td>-1</td>\n",
       "      <td>-1</td>\n",
       "      <td>-1</td>\n",
       "      <td>-1</td>\n",
       "      <td>-1</td>\n",
       "      <td>-1</td>\n",
       "      <td>-1</td>\n",
       "      <td>-1</td>\n",
       "      <td>-1</td>\n",
       "      <td>-1</td>\n",
       "    </tr>\n",
       "  </tbody>\n",
       "</table>\n",
       "</div>"
      ],
      "text/plain": [
       "          ndc  join_on_index drug_type             drug formulary_drug_cd gsn  \\\n",
       "1992507  <NA>       16389120       NaN  *clindamycin 1%               NaN   0   \n",
       "\n",
       "         A  B  C  D  G  H  J  L  M  N  P  R  S  V  \n",
       "1992507 -1 -1 -1 -1 -1 -1 -1 -1 -1 -1 -1 -1 -1 -1  "
      ]
     },
     "metadata": {},
     "output_type": "display_data"
    },
    {
     "name": "stderr",
     "output_type": "stream",
     "text": [
      "C:\\Users\\Nacho\\AppData\\Local\\Temp\\ipykernel_20276\\2913060166.py:14: SettingWithCopyWarning: \n",
      "A value is trying to be set on a copy of a slice from a DataFrame\n",
      "\n",
      "See the caveats in the documentation: https://pandas.pydata.org/pandas-docs/stable/user_guide/indexing.html#returning-a-view-versus-a-copy\n",
      "  cat_pres.drug[clin_drug] = 'clindamycin'\n"
     ]
    },
    {
     "name": "stdout",
     "output_type": "stream",
     "text": [
      "\n",
      "\n",
      "Value counts of drugs after making all letters lowercase:\n",
      " insulin                                                    631424\n",
      "0.9% sodium chloride                                       606705\n",
      "sodium chloride 0.9%  flush                                544798\n",
      "potassium chloride                                         508257\n",
      "acetaminophen                                              496274\n",
      "                                                            ...  \n",
      "nebulizer & compressor [comp-air elite comp neb system]         1\n",
      "*orajel                                                         1\n",
      "*hiv meds x2                                                    1\n",
      "*beqyree                                                        1\n",
      "lumigan                                                         1\n",
      "Name: drug, Length: 22976, dtype: int64\n",
      "\n",
      "Description:\n",
      " count     22976.000000\n",
      "mean        824.903595\n",
      "std       11995.582672\n",
      "min           1.000000\n",
      "25%           1.000000\n",
      "50%           3.000000\n",
      "75%          17.000000\n",
      "max      631424.000000\n",
      "Name: drug, dtype: float64\n",
      "\n",
      "Number of drugs used only once: 13985\n",
      "\n",
      "\n",
      "Value counts of drugs after making all letters lowercase:\n",
      " sodiumchloride                820924\n",
      "insulin                       631480\n",
      "sodiumchlorideflush           544807\n",
      "potassiumchloride             508283\n",
      "acetaminophen                 496278\n",
      "                               ...  \n",
      "methergine                         1\n",
      "methylergonovinemethergine         1\n",
      "biosom                             1\n",
      "vitamindvitaminkdkdots             1\n",
      "benazeprilhctzmg                   1\n",
      "Name: drug, Length: 20514, dtype: int64\n",
      "\n",
      "Description:\n",
      " count     20514.000000\n",
      "mean        923.904894\n",
      "std       13483.345569\n",
      "min           1.000000\n",
      "25%           1.000000\n",
      "50%           3.000000\n",
      "75%          20.000000\n",
      "max      820924.000000\n",
      "Name: drug, dtype: float64\n",
      "\n",
      "Number of drugs used only once: 13038\n"
     ]
    }
   ],
   "source": [
    "nndrug = cat_pres[cat_pres.drug.isna()].index.values[0]\n",
    "display(cat_pres.loc[nndrug])\n",
    "\n",
    "display(cat_pres[cat_pres.ndc == cat_pres.ndc.loc[nndrug]].head(1))\n",
    "\n",
    "cat_pres.loc[nndrug,['drug', 'formulary_drug_cd']] = ('Simvastatin','SIMV40')\n",
    "\n",
    "print('Value counts of drugs:\\n',cat_pres.drug.value_counts())\n",
    "cat_pres.drug = cat_pres.drug.str.lower()\n",
    "drugs_vc = cat_pres.drug.value_counts()\n",
    "\n",
    "clin_drug = cat_pres.drug.str.contains('clindamyci')\n",
    "display(cat_pres[clin_drug].head(1))\n",
    "cat_pres.drug[clin_drug] = 'clindamycin'\n",
    "\n",
    "print('\\n\\nValue counts of drugs after making all letters lowercase:\\n',drugs_vc)\n",
    "print('\\nDescription:\\n',drugs_vc.describe())\n",
    "\n",
    "print('\\nNumber of drugs used only once:', sum(drugs_vc>1))\n",
    "\n",
    "cat_pres['drug'] = cat_pres.drug.str.replace('[^a-zA-Z]','', regex = True)\n",
    "drugs_vc = cat_pres.drug.value_counts()\n",
    "\n",
    "print('\\n\\nValue counts of drugs after making all letters lowercase:\\n',drugs_vc)\n",
    "print('\\nDescription:\\n',drugs_vc.describe())\n",
    "\n",
    "print('\\nNumber of drugs used only once:', sum(drugs_vc>1))\n",
    "\n"
   ]
  },
  {
   "cell_type": "code",
   "execution_count": 32,
   "id": "cd01d97e",
   "metadata": {
    "ExecuteTime": {
     "end_time": "2022-10-12T20:53:12.775123Z",
     "start_time": "2022-10-12T20:53:09.119840Z"
    }
   },
   "outputs": [
    {
     "name": "stdout",
     "output_type": "stream",
     "text": [
      "There are 113 empty drugs\n"
     ]
    },
    {
     "data": {
      "text/html": [
       "<div>\n",
       "<style scoped>\n",
       "    .dataframe tbody tr th:only-of-type {\n",
       "        vertical-align: middle;\n",
       "    }\n",
       "\n",
       "    .dataframe tbody tr th {\n",
       "        vertical-align: top;\n",
       "    }\n",
       "\n",
       "    .dataframe thead th {\n",
       "        text-align: right;\n",
       "    }\n",
       "</style>\n",
       "<table border=\"1\" class=\"dataframe\">\n",
       "  <thead>\n",
       "    <tr style=\"text-align: right;\">\n",
       "      <th></th>\n",
       "      <th>ndc</th>\n",
       "      <th>join_on_index</th>\n",
       "      <th>drug_type</th>\n",
       "      <th>drug</th>\n",
       "      <th>formulary_drug_cd</th>\n",
       "      <th>gsn</th>\n",
       "      <th>A</th>\n",
       "      <th>B</th>\n",
       "      <th>C</th>\n",
       "      <th>D</th>\n",
       "      <th>G</th>\n",
       "      <th>H</th>\n",
       "      <th>J</th>\n",
       "      <th>L</th>\n",
       "      <th>M</th>\n",
       "      <th>N</th>\n",
       "      <th>P</th>\n",
       "      <th>R</th>\n",
       "      <th>S</th>\n",
       "      <th>V</th>\n",
       "    </tr>\n",
       "  </thead>\n",
       "  <tbody>\n",
       "    <tr>\n",
       "      <th>2005356</th>\n",
       "      <td>&lt;NA&gt;</td>\n",
       "      <td>18349221</td>\n",
       "      <td>NaN</td>\n",
       "      <td></td>\n",
       "      <td>NaN</td>\n",
       "      <td>0</td>\n",
       "      <td>-1</td>\n",
       "      <td>-1</td>\n",
       "      <td>-1</td>\n",
       "      <td>-1</td>\n",
       "      <td>-1</td>\n",
       "      <td>-1</td>\n",
       "      <td>-1</td>\n",
       "      <td>-1</td>\n",
       "      <td>-1</td>\n",
       "      <td>-1</td>\n",
       "      <td>-1</td>\n",
       "      <td>-1</td>\n",
       "      <td>-1</td>\n",
       "      <td>-1</td>\n",
       "    </tr>\n",
       "  </tbody>\n",
       "</table>\n",
       "</div>"
      ],
      "text/plain": [
       "          ndc  join_on_index drug_type drug formulary_drug_cd gsn  A  B  C  D  \\\n",
       "2005356  <NA>       18349221       NaN                    NaN   0 -1 -1 -1 -1   \n",
       "\n",
       "         G  H  J  L  M  N  P  R  S  V  \n",
       "2005356 -1 -1 -1 -1 -1 -1 -1 -1 -1 -1  "
      ]
     },
     "metadata": {},
     "output_type": "display_data"
    },
    {
     "name": "stdout",
     "output_type": "stream",
     "text": [
      "0.039444973971118534% of values in drugs column appears only once\n"
     ]
    }
   ],
   "source": [
    "empty_drug = cat_pres.drug ==u''\n",
    "print(f'There are {sum(empty_drug)} empty drugs')\n",
    "display(cat_pres[empty_drug].sample())\n",
    "\n",
    "fdrugs_empty = cat_pres.formulary_drug_cd[empty_drug].drop_duplicates().values\n",
    "empty_drug = cat_pres.formulary_drug_cd.isin(fdrugs_empty)\n",
    "\n",
    "cat_pres.drug.where(~empty_drug,cat_pres.formulary_drug_cd,inplace = True)\n",
    "\n",
    "print(f'{sum(drugs_vc == 1)/len(cat_pres)*100}% of values in drugs column appears only once')"
   ]
  },
  {
   "cell_type": "markdown",
   "id": "09079870",
   "metadata": {},
   "source": [
    "There was just one missing value for the drug column, which was easily filled by checking elsewhere in the table. After this, we analysed the number of rows for each drug. Interestingly, the formulary_drug_code was different than the original for that row. \n",
    "\n",
    "The input of these fields does not seem consistent. For example \"Clindamycin\" is misspelt (fixed for this particular case), abbreviations may not be consistent and upper and lower case seem to be used with little care. This last issue could be fixed with str.lower(), though. \n",
    "\n",
    "This means too many groups so matching categories will be harder. Let us look at the other columns with drug identifiers."
   ]
  },
  {
   "cell_type": "code",
   "execution_count": 33,
   "id": "ed489c2c",
   "metadata": {
    "ExecuteTime": {
     "end_time": "2022-10-12T20:53:14.474808Z",
     "start_time": "2022-10-12T20:53:12.776124Z"
    }
   },
   "outputs": [
    {
     "name": "stdout",
     "output_type": "stream",
     "text": [
      "gsn value counts:\n",
      " 001210                          816986\n",
      "006549                          330441\n",
      "027413                          286850\n",
      "004489                          264211\n",
      "003009                          259342\n",
      "                                 ...  \n",
      "74684                                1\n",
      "79087                                1\n",
      "63452                                1\n",
      "63444                                1\n",
      "021723 021726 021725 021724          1\n",
      "Name: gsn, Length: 15625, dtype: int64\n",
      "\n",
      "\n",
      "formulary_drug_cd value counts:\n",
      " NACLFLUSH    544603\n",
      "HEPA5I       330717\n",
      "ACET325      265279\n",
      "MAG2PM       265117\n",
      "DOCU100      260339\n",
      "              ...  \n",
      "TTOX5I            1\n",
      "POLIOV            1\n",
      "RANI50PM          1\n",
      "LEUC200I          1\n",
      "HALC0.1C          1\n",
      "Name: formulary_drug_cd, Length: 3819, dtype: int64\n",
      "\n",
      "Description:\n",
      " count      3819.000000\n",
      "mean       4241.792092\n",
      "std       19845.938890\n",
      "min           1.000000\n",
      "25%          10.000000\n",
      "50%          99.000000\n",
      "75%        1150.000000\n",
      "max      544603.000000\n",
      "Name: formulary_drug_cd, dtype: float64\n",
      "\n",
      "Number of formulary_drug_cd present on only 5 rows or less:\n",
      " 1    272\n",
      "2    149\n",
      "4    109\n",
      "3    109\n",
      "5     82\n",
      "Name: formulary_drug_cd, dtype: int64\n",
      "\n",
      "% of rows with drugs used 5 times or less: 0.00445\n"
     ]
    }
   ],
   "source": [
    "print('gsn value counts:\\n',cat_pres.gsn.value_counts())\n",
    "\n",
    "fd_vc = cat_pres.formulary_drug_cd.value_counts()\n",
    "print('\\n\\nformulary_drug_cd value counts:\\n',fd_vc)\n",
    "print('\\nDescription:\\n',fd_vc.describe())\n",
    "\n",
    "fd_vc_5 = fd_vc[fd_vc<=5].value_counts()\n",
    "print('\\nNumber of formulary_drug_cd present on only 5 rows or less:\\n',fd_vc_5)\n",
    "print('\\n% of rows with drugs used 5 times or less:', round(fd_vc_5.sum()/fd_vc.sum()*100,5))"
   ]
  },
  {
   "cell_type": "markdown",
   "id": "54e75df9",
   "metadata": {},
   "source": [
    "From these candidates, formulary_drug_cd, gsn, and drugs seems the best to find the right ATR1s, but they have many null values. Additionally, the gsn column has 1.8 M missing values and sometimes several codes in one field. We will have to work around this\n",
    "The pharmacy_id has many unique values, so this variable is not specific to the same drug, just an inventory code specific per item.  \n",
    "\n",
    "We want to decrease the number of unique values as this will increase our chances of filling missing ATR1 fields. All our columns have many null values, but we can recursively fill categories based on all the identifying columns."
   ]
  },
  {
   "cell_type": "code",
   "execution_count": 34,
   "id": "f99ff1ab",
   "metadata": {
    "ExecuteTime": {
     "end_time": "2022-10-12T20:53:14.490126Z",
     "start_time": "2022-10-12T20:53:14.476722Z"
    }
   },
   "outputs": [
    {
     "data": {
      "text/plain": [
       "18952985"
      ]
     },
     "execution_count": 34,
     "metadata": {},
     "output_type": "execute_result"
    }
   ],
   "source": [
    "len(cat_pres)"
   ]
  },
  {
   "cell_type": "code",
   "execution_count": 35,
   "id": "af6ad9cf",
   "metadata": {
    "ExecuteTime": {
     "end_time": "2022-10-12T20:53:15.281097Z",
     "start_time": "2022-10-12T20:53:14.492722Z"
    }
   },
   "outputs": [
    {
     "data": {
      "text/plain": [
       " 1     9948066\n",
       "-14    3492609\n",
       " 2     3036333\n",
       " 3     1624373\n",
       " 4      440099\n",
       " 5      301478\n",
       " 6       88324\n",
       " 7       21116\n",
       " 8         587\n",
       "dtype: int64"
      ]
     },
     "execution_count": 35,
     "metadata": {},
     "output_type": "execute_result"
    }
   ],
   "source": [
    "cat_pres[cat].sum(axis = 1).value_counts()"
   ]
  },
  {
   "cell_type": "code",
   "execution_count": 36,
   "id": "d139dca0",
   "metadata": {
    "ExecuteTime": {
     "end_time": "2022-10-12T20:53:16.247558Z",
     "start_time": "2022-10-12T20:53:15.283014Z"
    }
   },
   "outputs": [
    {
     "data": {
      "text/plain": [
       "001210                          816986\n",
       "006549                          330441\n",
       "027413                          286850\n",
       "004489                          264211\n",
       "003009                          259342\n",
       "                                 ...  \n",
       "74684                                1\n",
       "79087                                1\n",
       "63452                                1\n",
       "63444                                1\n",
       "021723 021726 021725 021724          1\n",
       "Name: gsn, Length: 15625, dtype: int64"
      ]
     },
     "execution_count": 36,
     "metadata": {},
     "output_type": "execute_result"
    }
   ],
   "source": [
    "cat_pres.gsn.value_counts()"
   ]
  },
  {
   "cell_type": "code",
   "execution_count": 37,
   "id": "3580d050",
   "metadata": {
    "ExecuteTime": {
     "end_time": "2022-10-12T21:01:41.624769Z",
     "start_time": "2022-10-12T20:53:17.063153Z"
    }
   },
   "outputs": [
    {
     "name": "stdout",
     "output_type": "stream",
     "text": [
      "% of missing values before loop: 18.4277516180169\n",
      "gsn column split, starting loop...\n",
      "Dataframe exploded, starting for loop #1\n",
      "\n",
      "Loop #1, missing values % after filling with gsn column: 17.431904395286992\n",
      "Loop #1, missing values % after filling with drug column: 10.667095422276127\n",
      "Loop #1, missing values % after filling with formulary_drug_cd column: 9.983328100178527\n",
      "Loop #1, missing values % after filling with ndc column: 9.78836216883194\n",
      "\n",
      "Loop #1, missing values % after re-imploding df: 9.760520572353116\n",
      "Dataframe exploded, starting for loop #2\n",
      "\n",
      "Loop #2, missing values % after filling with gsn column: 9.737872354487646\n",
      "Loop #2, missing values % after filling with drug column: 8.976494373529803\n",
      "Loop #2, missing values % after filling with formulary_drug_cd column: 8.962797136767094\n",
      "Loop #2, missing values % after filling with ndc column: 8.955551230112366\n",
      "\n",
      "Loop #2, missing values % after re-imploding df: 8.958145643021401\n",
      "Dataframe exploded, starting for loop #3\n",
      "\n",
      "Loop #3, missing values % after filling with gsn column: 8.952699173898235\n",
      "Loop #3, missing values % after filling with drug column: 8.952699173898235\n",
      "Loop #3, missing values % after filling with formulary_drug_cd column: 8.952699173898235\n",
      "Loop #3, missing values % after filling with ndc column: 8.952699173898235\n",
      "\n",
      "Loop #3, missing values % after re-imploding df: 8.957517773585533\n",
      "Dataframe exploded, starting for loop #4\n",
      "\n",
      "Loop #4, missing values % after filling with gsn column: 8.952367661829063\n",
      "Loop #4, missing values % after filling with drug column: 8.952367661829063\n",
      "Loop #4, missing values % after filling with formulary_drug_cd column: 8.952367661829063\n",
      "Loop #4, missing values % after filling with ndc column: 8.952367661829063\n",
      "\n",
      "Loop #4, missing values % after re-imploding df: 8.957327829890648\n",
      "Dataframe exploded, starting for loop #5\n",
      "\n",
      "Loop #5, missing values % after filling with gsn column: 8.952351875540057\n",
      "Loop #5, missing values % after filling with drug column: 8.952351875540057\n",
      "Loop #5, missing values % after filling with formulary_drug_cd column: 8.952351875540057\n",
      "Loop #5, missing values % after filling with ndc column: 8.952351875540057\n",
      "\n",
      "Loop #5, missing values % after re-imploding df: 8.957317277463154\n",
      "Dataframe exploded, starting for loop #6\n",
      "\n",
      "Loop #6, missing values % after filling with gsn column: 8.952351875540057\n",
      "Loop #6, missing values % after filling with drug column: 8.952351875540057\n",
      "Loop #6, missing values % after filling with formulary_drug_cd column: 8.952351875540057\n",
      "Loop #6, missing values % after filling with ndc column: 8.952351875540057\n",
      "\n",
      "Loop #6, missing values % after re-imploding df: 8.957317277463154\n"
     ]
    }
   ],
   "source": [
    "cap_utils.rec_cat_filler(cat_pres,['gsn','drug','formulary_drug_cd','ndc'])"
   ]
  },
  {
   "cell_type": "code",
   "execution_count": 38,
   "id": "641b81e3",
   "metadata": {
    "ExecuteTime": {
     "end_time": "2022-10-12T21:01:42.042885Z",
     "start_time": "2022-10-12T21:01:41.639837Z"
    }
   },
   "outputs": [
    {
     "data": {
      "text/html": [
       "<style type=\"text/css\">\n",
       "</style>\n",
       "<table id=\"T_39b77\" style='display:inline'>\n",
       "  <caption>Drugs value counts</caption>\n",
       "  <thead>\n",
       "    <tr>\n",
       "      <th class=\"blank level0\" >&nbsp;</th>\n",
       "      <th id=\"T_39b77_level0_col0\" class=\"col_heading level0 col0\" >drug</th>\n",
       "    </tr>\n",
       "  </thead>\n",
       "  <tbody>\n",
       "    <tr>\n",
       "      <th id=\"T_39b77_level0_row0\" class=\"row_heading level0 row0\" >bag</th>\n",
       "      <td id=\"T_39b77_row0_col0\" class=\"data row0 col0\" >19.861040</td>\n",
       "    </tr>\n",
       "    <tr>\n",
       "      <th id=\"T_39b77_level0_row1\" class=\"row_heading level0 row1\" >isoosmoticdextrose</th>\n",
       "      <td id=\"T_39b77_row1_col0\" class=\"data row1 col0\" >19.520665</td>\n",
       "    </tr>\n",
       "    <tr>\n",
       "      <th id=\"T_39b77_level0_row2\" class=\"row_heading level0 row2\" >vial</th>\n",
       "      <td id=\"T_39b77_row2_col0\" class=\"data row2 col0\" >6.872297</td>\n",
       "    </tr>\n",
       "    <tr>\n",
       "      <th id=\"T_39b77_level0_row3\" class=\"row_heading level0 row3\" >polyethyleneglycol</th>\n",
       "      <td id=\"T_39b77_row3_col0\" class=\"data row3 col0\" >6.466611</td>\n",
       "    </tr>\n",
       "    <tr>\n",
       "      <th id=\"T_39b77_level0_row4\" class=\"row_heading level0 row4\" >influenzavaccinequadrivalent</th>\n",
       "      <td id=\"T_39b77_row4_col0\" class=\"data row4 col0\" >5.359550</td>\n",
       "    </tr>\n",
       "    <tr>\n",
       "      <th id=\"T_39b77_level0_row5\" class=\"row_heading level0 row5\" >neutraphos</th>\n",
       "      <td id=\"T_39b77_row5_col0\" class=\"data row5 col0\" >4.704206</td>\n",
       "    </tr>\n",
       "    <tr>\n",
       "      <th id=\"T_39b77_level0_row6\" class=\"row_heading level0 row6\" >influenzavirusvaccine</th>\n",
       "      <td id=\"T_39b77_row6_col0\" class=\"data row6 col0\" >4.623353</td>\n",
       "    </tr>\n",
       "    <tr>\n",
       "      <th id=\"T_39b77_level0_row7\" class=\"row_heading level0 row7\" >simethicone</th>\n",
       "      <td id=\"T_39b77_row7_col0\" class=\"data row7 col0\" >3.111876</td>\n",
       "    </tr>\n",
       "    <tr>\n",
       "      <th id=\"T_39b77_level0_row8\" class=\"row_heading level0 row8\" >soln</th>\n",
       "      <td id=\"T_39b77_row8_col0\" class=\"data row8 col0\" >2.821791</td>\n",
       "    </tr>\n",
       "    <tr>\n",
       "      <th id=\"T_39b77_level0_row9\" class=\"row_heading level0 row9\" >pneumococcalvacpolyvalent</th>\n",
       "      <td id=\"T_39b77_row9_col0\" class=\"data row9 col0\" >2.641478</td>\n",
       "    </tr>\n",
       "    <tr>\n",
       "      <th id=\"T_39b77_level0_row10\" class=\"row_heading level0 row10\" >potassiumphosphate</th>\n",
       "      <td id=\"T_39b77_row10_col0\" class=\"data row10 col0\" >2.239080</td>\n",
       "    </tr>\n",
       "    <tr>\n",
       "      <th id=\"T_39b77_level0_row11\" class=\"row_heading level0 row11\" >pneumococcalvalentpolysaccharidevaccine</th>\n",
       "      <td id=\"T_39b77_row11_col0\" class=\"data row11 col0\" >2.062653</td>\n",
       "    </tr>\n",
       "    <tr>\n",
       "      <th id=\"T_39b77_level0_row12\" class=\"row_heading level0 row12\" >syringe</th>\n",
       "      <td id=\"T_39b77_row12_col0\" class=\"data row12 col0\" >1.683943</td>\n",
       "    </tr>\n",
       "    <tr>\n",
       "      <th id=\"T_39b77_level0_row13\" class=\"row_heading level0 row13\" >phosphorus</th>\n",
       "      <td id=\"T_39b77_row13_col0\" class=\"data row13 col0\" >1.550707</td>\n",
       "    </tr>\n",
       "    <tr>\n",
       "      <th id=\"T_39b77_level0_row14\" class=\"row_heading level0 row14\" >epoetinalfa</th>\n",
       "      <td id=\"T_39b77_row14_col0\" class=\"data row14 col0\" >1.491226</td>\n",
       "    </tr>\n",
       "    <tr>\n",
       "      <th id=\"T_39b77_level0_row15\" class=\"row_heading level0 row15\" >sarnalotion</th>\n",
       "      <td id=\"T_39b77_row15_col0\" class=\"data row15 col0\" >1.216609</td>\n",
       "    </tr>\n",
       "    <tr>\n",
       "      <th id=\"T_39b77_level0_row16\" class=\"row_heading level0 row16\" >syringesodiumchloride</th>\n",
       "      <td id=\"T_39b77_row16_col0\" class=\"data row16 col0\" >1.216310</td>\n",
       "    </tr>\n",
       "    <tr>\n",
       "      <th id=\"T_39b77_level0_row17\" class=\"row_heading level0 row17\" >readicatbariumsulfatesuspension</th>\n",
       "      <td id=\"T_39b77_row17_col0\" class=\"data row17 col0\" >1.107061</td>\n",
       "    </tr>\n",
       "    <tr>\n",
       "      <th id=\"T_39b77_level0_row18\" class=\"row_heading level0 row18\" >tiotropiumbromide</th>\n",
       "      <td id=\"T_39b77_row18_col0\" class=\"data row18 col0\" >0.972704</td>\n",
       "    </tr>\n",
       "    <tr>\n",
       "      <th id=\"T_39b77_level0_row19\" class=\"row_heading level0 row19\" >prismasatebk</th>\n",
       "      <td id=\"T_39b77_row19_col0\" class=\"data row19 col0\" >0.933548</td>\n",
       "    </tr>\n",
       "    <tr>\n",
       "      <th id=\"T_39b77_level0_row20\" class=\"row_heading level0 row20\" >sodiumpolystyrenesulfonate</th>\n",
       "      <td id=\"T_39b77_row20_col0\" class=\"data row20 col0\" >0.768105</td>\n",
       "    </tr>\n",
       "    <tr>\n",
       "      <th id=\"T_39b77_level0_row21\" class=\"row_heading level0 row21\" >yellowcaddcassette</th>\n",
       "      <td id=\"T_39b77_row21_col0\" class=\"data row21 col0\" >0.597133</td>\n",
       "    </tr>\n",
       "    <tr>\n",
       "      <th id=\"T_39b77_level0_row22\" class=\"row_heading level0 row22\" >vasopressin</th>\n",
       "      <td id=\"T_39b77_row22_col0\" class=\"data row22 col0\" >0.576135</td>\n",
       "    </tr>\n",
       "    <tr>\n",
       "      <th id=\"T_39b77_level0_row23\" class=\"row_heading level0 row23\" >ferricgluconate</th>\n",
       "      <td id=\"T_39b77_row23_col0\" class=\"data row23 col0\" >0.435277</td>\n",
       "    </tr>\n",
       "    <tr>\n",
       "      <th id=\"T_39b77_level0_row24\" class=\"row_heading level0 row24\" >syringeisoosmoticdextrose</th>\n",
       "      <td id=\"T_39b77_row24_col0\" class=\"data row24 col0\" >0.427879</td>\n",
       "    </tr>\n",
       "  </tbody>\n",
       "</table>\n",
       "<style type=\"text/css\">\n",
       "</style>\n",
       "<table id=\"T_45272\" style='display:inline'>\n",
       "  <caption>Drugs value counts</caption>\n",
       "  <thead>\n",
       "    <tr>\n",
       "      <th class=\"blank level0\" >&nbsp;</th>\n",
       "      <th id=\"T_45272_level0_col0\" class=\"col_heading level0 col0\" >drug</th>\n",
       "    </tr>\n",
       "  </thead>\n",
       "  <tbody>\n",
       "    <tr>\n",
       "      <th id=\"T_45272_level0_row0\" class=\"row_heading level0 row0\" >leucovorincalcium</th>\n",
       "      <td id=\"T_45272_row0_col0\" class=\"data row0 col0\" >0.384015</td>\n",
       "    </tr>\n",
       "    <tr>\n",
       "      <th id=\"T_45272_level0_row1\" class=\"row_heading level0 row1\" >tuberculinprotein</th>\n",
       "      <td id=\"T_45272_row1_col0\" class=\"data row1 col0\" >0.347848</td>\n",
       "    </tr>\n",
       "    <tr>\n",
       "      <th id=\"T_45272_level0_row2\" class=\"row_heading level0 row2\" >gastroviewdiatrizoatemegluminesodium</th>\n",
       "      <td id=\"T_45272_row2_col0\" class=\"data row2 col0\" >0.301219</td>\n",
       "    </tr>\n",
       "    <tr>\n",
       "      <th id=\"T_45272_level0_row3\" class=\"row_heading level0 row3\" >lithiumcarbonate</th>\n",
       "      <td id=\"T_45272_row3_col0\" class=\"data row3 col0\" >0.248388</td>\n",
       "    </tr>\n",
       "    <tr>\n",
       "      <th id=\"T_45272_level0_row4\" class=\"row_heading level0 row4\" >syringechemo</th>\n",
       "      <td id=\"T_45272_row4_col0\" class=\"data row4 col0\" >0.241588</td>\n",
       "    </tr>\n",
       "    <tr>\n",
       "      <th id=\"T_45272_level0_row5\" class=\"row_heading level0 row5\" >gammagardliquid</th>\n",
       "      <td id=\"T_45272_row5_col0\" class=\"data row5 col0\" >0.231949</td>\n",
       "    </tr>\n",
       "    <tr>\n",
       "      <th id=\"T_45272_level0_row6\" class=\"row_heading level0 row6\" >citratedextroseacdacrrt</th>\n",
       "      <td id=\"T_45272_row6_col0\" class=\"data row6 col0\" >0.224850</td>\n",
       "    </tr>\n",
       "    <tr>\n",
       "      <th id=\"T_45272_level0_row7\" class=\"row_heading level0 row7\" >psylliumwafer</th>\n",
       "      <td id=\"T_45272_row7_col0\" class=\"data row7 col0\" >0.218124</td>\n",
       "    </tr>\n",
       "    <tr>\n",
       "      <th id=\"T_45272_level0_row8\" class=\"row_heading level0 row8\" >epiduralbag</th>\n",
       "      <td id=\"T_45272_row8_col0\" class=\"data row8 col0\" >0.176801</td>\n",
       "    </tr>\n",
       "    <tr>\n",
       "      <th id=\"T_45272_level0_row9\" class=\"row_heading level0 row9\" >caphosol</th>\n",
       "      <td id=\"T_45272_row9_col0\" class=\"data row9 col0\" >0.172093</td>\n",
       "    </tr>\n",
       "    <tr>\n",
       "      <th id=\"T_45272_level0_row10\" class=\"row_heading level0 row10\" >vitaminbcomplex</th>\n",
       "      <td id=\"T_45272_row10_col0\" class=\"data row10 col0\" >0.170599</td>\n",
       "    </tr>\n",
       "    <tr>\n",
       "      <th id=\"T_45272_level0_row11\" class=\"row_heading level0 row11\" >hydrocerin</th>\n",
       "      <td id=\"T_45272_row11_col0\" class=\"data row11 col0\" >0.169328</td>\n",
       "    </tr>\n",
       "    <tr>\n",
       "      <th id=\"T_45272_level0_row12\" class=\"row_heading level0 row12\" >fosaprepitant</th>\n",
       "      <td id=\"T_45272_row12_col0\" class=\"data row12 col0\" >0.167909</td>\n",
       "    </tr>\n",
       "    <tr>\n",
       "      <th id=\"T_45272_level0_row13\" class=\"row_heading level0 row13\" >tbsyringe</th>\n",
       "      <td id=\"T_45272_row13_col0\" class=\"data row13 col0\" >0.161931</td>\n",
       "    </tr>\n",
       "    <tr>\n",
       "      <th id=\"T_45272_level0_row14\" class=\"row_heading level0 row14\" >psyllium</th>\n",
       "      <td id=\"T_45272_row14_col0\" class=\"data row14 col0\" >0.153711</td>\n",
       "    </tr>\n",
       "    <tr>\n",
       "      <th id=\"T_45272_level0_row15\" class=\"row_heading level0 row15\" >levalbuterolneb</th>\n",
       "      <td id=\"T_45272_row15_col0\" class=\"data row15 col0\" >0.138766</td>\n",
       "    </tr>\n",
       "    <tr>\n",
       "      <th id=\"T_45272_level0_row16\" class=\"row_heading level0 row16\" >aquaphorointment</th>\n",
       "      <td id=\"T_45272_row16_col0\" class=\"data row16 col0\" >0.133684</td>\n",
       "    </tr>\n",
       "    <tr>\n",
       "      <th id=\"T_45272_level0_row17\" class=\"row_heading level0 row17\" >amp</th>\n",
       "      <td id=\"T_45272_row17_col0\" class=\"data row17 col0\" >0.124717</td>\n",
       "    </tr>\n",
       "    <tr>\n",
       "      <th id=\"T_45272_level0_row18\" class=\"row_heading level0 row18\" >psylliumpowder</th>\n",
       "      <td id=\"T_45272_row18_col0\" class=\"data row18 col0\" >0.118739</td>\n",
       "    </tr>\n",
       "    <tr>\n",
       "      <th id=\"T_45272_level0_row19\" class=\"row_heading level0 row19\" >mcgvial</th>\n",
       "      <td id=\"T_45272_row19_col0\" class=\"data row19 col0\" >0.108651</td>\n",
       "    </tr>\n",
       "    <tr>\n",
       "      <th id=\"T_45272_level0_row20\" class=\"row_heading level0 row20\" >bottle</th>\n",
       "      <td id=\"T_45272_row20_col0\" class=\"data row20 col0\" >0.107082</td>\n",
       "    </tr>\n",
       "    <tr>\n",
       "      <th id=\"T_45272_level0_row21\" class=\"row_heading level0 row21\" >syringesterilewater</th>\n",
       "      <td id=\"T_45272_row21_col0\" class=\"data row21 col0\" >0.104616</td>\n",
       "    </tr>\n",
       "    <tr>\n",
       "      <th id=\"T_45272_level0_row22\" class=\"row_heading level0 row22\" >bluecaddcassette</th>\n",
       "      <td id=\"T_45272_row22_col0\" class=\"data row22 col0\" >0.090194</td>\n",
       "    </tr>\n",
       "    <tr>\n",
       "      <th id=\"T_45272_level0_row23\" class=\"row_heading level0 row23\" >protaminesulfate</th>\n",
       "      <td id=\"T_45272_row23_col0\" class=\"data row23 col0\" >0.089895</td>\n",
       "    </tr>\n",
       "    <tr>\n",
       "      <th id=\"T_45272_level0_row24\" class=\"row_heading level0 row24\" >fatemulsion</th>\n",
       "      <td id=\"T_45272_row24_col0\" class=\"data row24 col0\" >0.080778</td>\n",
       "    </tr>\n",
       "  </tbody>\n",
       "</table>\n"
      ]
     },
     "metadata": {},
     "output_type": "display_data"
    }
   ],
   "source": [
    "cap_utils.display_sbs(['Drugs value counts']*2,\\\n",
    "            cat_pres.drug[cat_pres.A<0].value_counts(normalize = True).iloc[0:25]*100,\\\n",
    "            cat_pres.drug[cat_pres.A<0].value_counts(normalize = True).iloc[25:50]*100)"
   ]
  },
  {
   "cell_type": "markdown",
   "id": "940d147e",
   "metadata": {},
   "source": [
    "Lots of vaccines, let us fill those first"
   ]
  },
  {
   "cell_type": "code",
   "execution_count": 39,
   "id": "a7d121d6",
   "metadata": {
    "ExecuteTime": {
     "end_time": "2022-10-12T21:01:49.232239Z",
     "start_time": "2022-10-12T21:01:42.045888Z"
    }
   },
   "outputs": [
    {
     "name": "stdout",
     "output_type": "stream",
     "text": [
      "% of missing values: 7.907334913207603\n"
     ]
    }
   ],
   "source": [
    "cat = list('ABCDGHJLMNPRSV')\n",
    "vaccines_bool = (cat_pres.drug.str.contains('vaccine|polyvalent|measlesmumpsrubellavac',regex = True, na = False))\n",
    "vaccines_bool *= cat_pres.A<0\n",
    "cat_pres.loc[vaccines_bool,cat] = 0\n",
    "cat_pres.loc[vaccines_bool,'J'] = 1\n",
    "\n",
    "print('% of missing values:',cap_utils.cat_check(cat_pres)*100)"
   ]
  },
  {
   "cell_type": "markdown",
   "id": "9517eefc",
   "metadata": {},
   "source": [
    "Let us have a look at the missing values and the drugs per drug type (from the prescriptions table)"
   ]
  },
  {
   "cell_type": "code",
   "execution_count": 40,
   "id": "e12dbae9",
   "metadata": {
    "ExecuteTime": {
     "end_time": "2022-10-12T21:01:55.113560Z",
     "start_time": "2022-10-12T21:01:49.235241Z"
    }
   },
   "outputs": [
    {
     "name": "stdout",
     "output_type": "stream",
     "text": [
      "% of missing values for MAIN drugs 3.061362940335017\n",
      "% of missing values for BASE drugs 26.45541596208607\n",
      "% of missing values for ADDITIVE drugs 4.861388511624192\n",
      "\n",
      " ['sodiumchloride' 'isoosmoticdextrose' 'sw' 'dextrose' 'bag' 'vial'\n",
      " 'isoosmoticsodiumchloride' 'ns' 'isotonicsodiumchloride'\n",
      " 'syringesodiumchloride' 'soln' 'dw' 'syringe' 'sterilewater'\n",
      " 'syringechemo' 'mcgvial' 'yellowcaddcassette' 'syringeisoosmoticdextrose'\n",
      " 'epiduralbag' 'amp' 'bluecaddcassette' 'nssyringeintrapleural'\n",
      " 'syringesterilewater' 'syringelr' 'syringesw' 'nsepiduralbag'\n",
      " 'clickchangetochooseabasesolution' 'sodiumchlorideexcelbag' 'nssyringe'\n",
      " 'prismasatebk' 'sodiumchlyellowcadd' 'syringesns' 'bottle' 'syringens'\n",
      " 'solution' 'sodiumchloridepfsyringe' 'aerogensyringens' 'syringepca'\n",
      " 'syringeintraperitoneal' 'syringepd' 'dwglassbottle' 'aerogensyringesw'\n",
      " 'dwwalbumin' 'tbsyringe' 'viaflexbag' 'sodiumcitrate'\n",
      " 'syringeintraventricular' 'caddcassette' 'syringeinhalation'\n",
      " 'syringeintrathecal' 'nsintrathecalbag' 'sterilediluentforflolan'\n",
      " 'vialsterilewater' 'prismasolbk' 'intrathecalpump' 'dextrosenondehp'\n",
      " 'dextrosenondeph' 'sodiumchloridesyringe' 'bottleglass'\n",
      " 'sodiumchloridevial' 'pfnssyringe' 'mlbottle' 'sodiumchloridehypertonic'\n",
      " 'evacbottle' 'btl' 'nswalbumin' 'trisodiumcitratereplacementsoln'\n",
      " 'sterilediluentforremodulin' 'nsirrigationbottle' 'dextroseexcelbag'\n",
      " 'dwexcel' 'dwexcelbag' 'nsexcel' 'naclexcelviaflobag'\n",
      " 'sterilewaterforirrigation' 'dextroseglassbottle' 'dextroseinwaterdw'\n",
      " 'nsepiduralbagnacl' 'dns' 'lactatedringers' 'lr' 'dlr' 'plasmalyte'\n",
      " 'plasmalyteaph' 'mannitol' 'lipidemulsion' 'fatemulsion' 'nsminibagplus'\n",
      " 'sodiumchlorideminibagplus' 'potassiumchlmeqmldns' 'potassiumchlmeqmldw'\n",
      " 'potassiumchlmeqmlns' 'potassiumchlmeqmldlr' 'travasolwdextrose'\n",
      " 'aminoacidswdextrose' 'aminoacidsdextrose' 'nsglassbottle'\n",
      " 'citratedextroseacdacrrt' 'syringeintrapleural' 'syringesubq'\n",
      " 'insulinsyringeu' 'acdaforcrrt' 'albuminhuman']\n"
     ]
    }
   ],
   "source": [
    "print('% of missing values for MAIN drugs',cap_utils.cat_check(cat_pres[cat_pres.drug_type =='MAIN'])*100)\n",
    "print('% of missing values for BASE drugs',cap_utils.cat_check(cat_pres[cat_pres.drug_type =='BASE'])*100)\n",
    "print('% of missing values for ADDITIVE drugs',cap_utils.cat_check(cat_pres[cat_pres.drug_type =='ADDITIVE'])*100)\n",
    "\n",
    "base_drugs_bool = cat_pres.drug_type == 'BASE'\n",
    "print('\\n',cat_pres.drug[base_drugs_bool].drop_duplicates().values)"
   ]
  },
  {
   "cell_type": "markdown",
   "id": "6e738197",
   "metadata": {},
   "source": [
    "Rows with drug_type \"BASE\" correspond with procedures (bag, vial...), solvents (sodium chloride, dextrose) and treatments/drugs (lipid/fat emulsions, travasol, amino acids...) apparently using IV therapy. Many of these procedures will not be very specific per hospital department (sodium chloride, bags, dextrose...), but frequency of procedures could be interesting so registering these events in our table could be useful if we use frequency encoding instead of one-hot encoding. Given that most of these events involve IV therapy and solvents are classed typically both as B (Blood products) and as V (Various) in the ATC system, these prescription events have been classified as such. "
   ]
  },
  {
   "cell_type": "code",
   "execution_count": 41,
   "id": "c03c0b3f",
   "metadata": {
    "ExecuteTime": {
     "end_time": "2022-10-12T21:01:55.350559Z",
     "start_time": "2022-10-12T21:01:55.115559Z"
    },
    "scrolled": false
   },
   "outputs": [
    {
     "name": "stdout",
     "output_type": "stream",
     "text": [
      "% of missing values: 4.02603072814124\n"
     ]
    }
   ],
   "source": [
    "base_drugs_bool = base_drugs_bool * cat_pres.A<0 \n",
    "cat_pres.loc[base_drugs_bool,cat] = 0\n",
    "\n",
    "cat_pres.loc[base_drugs_bool,'V'] = 1\n",
    "cat_pres.loc[base_drugs_bool,'B'] = 1\n",
    "cat_pres.A.value_counts(normalize = True)*100\n",
    "\n",
    "print('% of missing values:',cap_utils.cat_check(cat_pres)*100)"
   ]
  },
  {
   "cell_type": "markdown",
   "id": "106e5d50",
   "metadata": {},
   "source": [
    "We still have 4.03% of missing values in our atc1 columns. Let us run the recursive filler function again.\n"
   ]
  },
  {
   "cell_type": "code",
   "execution_count": 42,
   "id": "3532075b",
   "metadata": {
    "ExecuteTime": {
     "end_time": "2022-10-12T21:04:31.630284Z",
     "start_time": "2022-10-12T21:01:55.352561Z"
    }
   },
   "outputs": [
    {
     "name": "stdout",
     "output_type": "stream",
     "text": [
      "% of missing values before loop: 4.02603072814124\n",
      "gsn column split, starting loop...\n",
      "Dataframe exploded, starting for loop #1\n",
      "\n",
      "Loop #1, missing values % after filling with gsn column: 4.020052165265818\n",
      "Loop #1, missing values % after filling with drug column: 3.9610482790498107\n",
      "Loop #1, missing values % after filling with formulary_drug_cd column: 3.9610482790498107\n",
      "Loop #1, missing values % after filling with ndc column: 3.9609009403524014\n",
      "\n",
      "Loop #1, missing values % after re-imploding df: 3.952475032297023\n",
      "Dataframe exploded, starting for loop #2\n",
      "\n",
      "Loop #2, missing values % after filling with gsn column: 3.9609009403524014\n",
      "Loop #2, missing values % after filling with drug column: 3.9609009403524014\n",
      "Loop #2, missing values % after filling with formulary_drug_cd column: 3.9609009403524014\n",
      "Loop #2, missing values % after filling with ndc column: 3.9609009403524014\n",
      "\n",
      "Loop #2, missing values % after re-imploding df: 3.952475032297023\n"
     ]
    }
   ],
   "source": [
    "cap_utils.rec_cat_filler(cat_pres,['gsn','drug','formulary_drug_cd','ndc'])"
   ]
  },
  {
   "cell_type": "markdown",
   "id": "82cfba42",
   "metadata": {},
   "source": [
    "We can try and fill manually the drugs that occur most frequently.We can do another round of recursive filling"
   ]
  },
  {
   "cell_type": "markdown",
   "id": "9c212bb8",
   "metadata": {},
   "source": [
    "https://go.drugbank.com/drugs/DB09512"
   ]
  },
  {
   "cell_type": "code",
   "execution_count": 43,
   "id": "e19eef69",
   "metadata": {
    "ExecuteTime": {
     "end_time": "2022-10-12T21:04:31.755058Z",
     "start_time": "2022-10-12T21:04:31.641216Z"
    }
   },
   "outputs": [
    {
     "data": {
      "text/plain": [
       "polyethyleneglycol                      22.206882\n",
       "neutraphos                              16.154636\n",
       "simethicone                             10.686443\n",
       "potassiumphosphate                       7.689189\n",
       "phosphorus                               5.325259\n",
       "epoetinalfa                              5.120994\n",
       "sarnalotion                              4.177936\n",
       "readicatbariumsulfatesuspension          3.801740\n",
       "tiotropiumbromide                        3.340347\n",
       "sodiumpolystyrenesulfonate               2.637738\n",
       "vasopressin                              1.978496\n",
       "ferricgluconate                          1.494778\n",
       "leucovorincalcium                        1.318741\n",
       "tuberculinprotein                        1.194539\n",
       "gastroviewdiatrizoatemegluminesodium     1.034412\n",
       "lithiumcarbonate                         0.852986\n",
       "gammagardliquid                          0.796531\n",
       "psylliumwafer                            0.749057\n",
       "caphosol                                 0.590983\n",
       "vitaminbcomplex                          0.585850\n",
       "hydrocerin                               0.581488\n",
       "fosaprepitant                            0.576612\n",
       "psyllium                                 0.527855\n",
       "levalbuterolneb                          0.476533\n",
       "aquaphorointment                         0.459083\n",
       "psylliumpowder                           0.407760\n",
       "protaminesulfate                         0.308707\n",
       "transplantselfmedicationprogram          0.258154\n",
       "bismuthsubsalicylate                     0.242757\n",
       "xopenexneb                               0.227104\n",
       "Name: drug, dtype: float64"
      ]
     },
     "metadata": {},
     "output_type": "display_data"
    },
    {
     "name": "stdout",
     "output_type": "stream",
     "text": [
      "We will fill 95.8% of the remaining missing drugs manually\n"
     ]
    }
   ],
   "source": [
    "missing_drugs = cat_pres.drug[cat_pres.A<0].value_counts(normalize = True).head(30)\n",
    "display(missing_drugs*100)\n",
    "print(f'We will fill {round(missing_drugs.sum()*100,2)}% of the remaining missing drugs manually')\n",
    "missing_drugsl = missing_drugs.index.values"
   ]
  },
  {
   "cell_type": "code",
   "execution_count": 44,
   "id": "f18dbcfe",
   "metadata": {
    "ExecuteTime": {
     "end_time": "2022-10-12T21:04:50.059329Z",
     "start_time": "2022-10-12T21:04:31.758136Z"
    }
   },
   "outputs": [],
   "source": [
    "cat_pres.loc[cat_pres.drug.isin(missing_drugsl),cat] = 0\n",
    "\n",
    "cat_pres.loc[cat_pres.drug == 'polyethyleneglycol','B'] = 1\n",
    "cat_pres.loc[cat_pres.drug == 'neutraphos',['A','B']] = 1\n",
    "cat_pres.loc[cat_pres.drug == 'simethicone','A'] = 1\n",
    "cat_pres.loc[cat_pres.drug == 'potassiumphosphate','B'] = 1\n",
    "cat_pres.loc[cat_pres.drug == 'phosphorus','B'] = 1\n",
    "cat_pres.loc[cat_pres.drug == 'epoetinalfa','B'] = 1\n",
    "cat_pres.loc[cat_pres.drug == 'sarnalotion', 'D'] = 1\n",
    "cat_pres.loc[cat_pres.drug == 'readicatbariumsulfatesuspension',['A','V']] = 1 # Contrast agent\n",
    "cat_pres.loc[cat_pres.drug == 'tiotropiumbromide','R'] = 1\n",
    "cat_pres.loc[cat_pres.drug == 'sodiumpolystyrenesulfonate','V'] = 1\n",
    "cat_pres.loc[cat_pres.drug == 'vasopressin','H'] = 1\n",
    "cat_pres.loc[cat_pres.drug == 'fishoilmega','C'] = 1\n",
    "cat_pres.loc[cat_pres.drug == 'ferricgluconate','B'] = 1\n",
    "cat_pres.loc[cat_pres.drug == 'leucovorincalcium','V'] = 1\n",
    "cat_pres.loc[cat_pres.drug == 'tuberculinprotein','V'] = 1\n",
    "cat_pres.loc[cat_pres.drug == 'gastroviewdiatrizoatemegluminesodium',['A','V']] = 1 # Contrast agent\n",
    "cat_pres.loc[cat_pres.drug == 'lithiumcarbonate','N'] = 1\n",
    "cat_pres.loc[cat_pres.drug == 'gammagardliquid', 'J'] = 1\n",
    "cat_pres.loc[cat_pres.drug == 'psylliumwafer', 'A'] = 1\n",
    "cat_pres.loc[cat_pres.drug == 'caphosol', 'V'] = 1\n",
    "cat_pres.loc[cat_pres.drug == 'vitaminbcomplex', 'B'] = 1\n",
    "cat_pres.loc[cat_pres.drug == 'hydrocerin','D'] = 1\n",
    "cat_pres.loc[cat_pres.drug == 'fosaprepitant','A'] = 1\n",
    "cat_pres.loc[cat_pres.drug == 'psyllium', 'A'] = 1\n",
    "cat_pres.loc[cat_pres.drug == 'levalbuterolneb','R'] = 1\n",
    "cat_pres.loc[cat_pres.drug == 'aquaphorointment','D'] = 1\n",
    "cat_pres.loc[cat_pres.drug == 'psylliumpowder','A'] = 1\n",
    "cat_pres.loc[cat_pres.drug == 'protaminesulfate','V'] = 1\n",
    "cat_pres.loc[cat_pres.drug == 'transplantselfmedicationprogram','V'] = 1\n",
    "cat_pres.loc[cat_pres.drug == 'bismuthsubsalicylate','A'] = 1\n",
    "cat_pres.loc[cat_pres.drug == 'xopenexneb','R'] = 1"
   ]
  },
  {
   "cell_type": "code",
   "execution_count": 45,
   "id": "9fd61ac9",
   "metadata": {
    "ExecuteTime": {
     "end_time": "2022-10-12T21:10:20.941138Z",
     "start_time": "2022-10-12T21:04:50.061332Z"
    },
    "scrolled": false
   },
   "outputs": [
    {
     "name": "stdout",
     "output_type": "stream",
     "text": [
      "% of missing values before loop: 1.9826692207058676\n",
      "gsn column split, starting loop...\n",
      "Dataframe exploded, starting for loop #1\n",
      "\n",
      "Loop #1, missing values % after filling with gsn column: 1.9789797142502779\n",
      "Loop #1, missing values % after filling with drug column: 1.978748182011492\n",
      "Loop #1, missing values % after filling with formulary_drug_cd column: 1.9779062465977257\n",
      "Loop #1, missing values % after filling with ndc column: 1.9700604609606913\n",
      "\n",
      "Loop #1, missing values % after re-imploding df: 1.9563567427505484\n",
      "Dataframe exploded, starting for loop #2\n",
      "\n",
      "Loop #2, missing values % after filling with gsn column: 1.9684607836745356\n",
      "Loop #2, missing values % after filling with drug column: 1.9684502594818636\n",
      "Loop #2, missing values % after filling with formulary_drug_cd column: 1.9684502594818636\n",
      "Loop #2, missing values % after filling with ndc column: 1.9684502594818636\n",
      "\n",
      "Loop #2, missing values % after re-imploding df: 1.9549479936801513\n",
      "Dataframe exploded, starting for loop #3\n",
      "\n",
      "Loop #3, missing values % after filling with gsn column: 1.9684081627111751\n",
      "Loop #3, missing values % after filling with drug column: 1.9684081627111751\n",
      "Loop #3, missing values % after filling with formulary_drug_cd column: 1.9684081627111751\n",
      "Loop #3, missing values % after filling with ndc column: 1.9684081627111751\n",
      "\n",
      "Loop #3, missing values % after re-imploding df: 1.9549110601839237\n",
      "Dataframe exploded, starting for loop #4\n",
      "\n",
      "Loop #4, missing values % after filling with gsn column: 1.9684081627111751\n",
      "Loop #4, missing values % after filling with drug column: 1.9684081627111751\n",
      "Loop #4, missing values % after filling with formulary_drug_cd column: 1.9684081627111751\n",
      "Loop #4, missing values % after filling with ndc column: 1.9684081627111751\n",
      "\n",
      "Loop #4, missing values % after re-imploding df: 1.9549110601839237\n"
     ]
    }
   ],
   "source": [
    "cap_utils.rec_cat_filler(cat_pres,['gsn','drug','formulary_drug_cd','ndc'])"
   ]
  },
  {
   "cell_type": "code",
   "execution_count": 46,
   "id": "39fb4041",
   "metadata": {
    "ExecuteTime": {
     "end_time": "2022-10-12T21:10:21.156812Z",
     "start_time": "2022-10-12T21:10:20.952138Z"
    }
   },
   "outputs": [
    {
     "data": {
      "text/plain": [
       "ndc                   7.422661\n",
       "drug_type            94.407499\n",
       "drug                 96.615513\n",
       "formulary_drug_cd    96.615513\n",
       "gsn                  94.921110\n",
       "dtype: float64"
      ]
     },
     "execution_count": 46,
     "metadata": {},
     "output_type": "execute_result"
    }
   ],
   "source": [
    "catnas = cat_pres[cat_pres.A < 0]\n",
    "catnas[['ndc','drug_type','drug','formulary_drug_cd','gsn']].isna().sum()/len(catnas)*100"
   ]
  },
  {
   "cell_type": "code",
   "execution_count": 47,
   "id": "4b1cb7c3",
   "metadata": {
    "ExecuteTime": {
     "end_time": "2022-10-12T21:10:21.311842Z",
     "start_time": "2022-10-12T21:10:21.159904Z"
    }
   },
   "outputs": [
    {
     "data": {
      "text/html": [
       "<style type=\"text/css\">\n",
       "</style>\n",
       "<table id=\"T_23092\" style='display:inline'>\n",
       "  <caption>ndc value counts</caption>\n",
       "  <thead>\n",
       "    <tr>\n",
       "      <th class=\"blank level0\" >&nbsp;</th>\n",
       "      <th id=\"T_23092_level0_col0\" class=\"col_heading level0 col0\" >ndc</th>\n",
       "    </tr>\n",
       "  </thead>\n",
       "  <tbody>\n",
       "    <tr>\n",
       "      <th id=\"T_23092_level0_row0\" class=\"row_heading level0 row0\" >100030116</th>\n",
       "      <td id=\"T_23092_row0_col0\" class=\"data row0 col0\" >7.881357</td>\n",
       "    </tr>\n",
       "    <tr>\n",
       "      <th id=\"T_23092_level0_row1\" class=\"row_heading level0 row1\" >105850865</th>\n",
       "      <td id=\"T_23092_row1_col0\" class=\"data row1 col0\" >6.977598</td>\n",
       "    </tr>\n",
       "    <tr>\n",
       "      <th id=\"T_23092_level0_row2\" class=\"row_heading level0 row2\" >100030115</th>\n",
       "      <td id=\"T_23092_row2_col0\" class=\"data row2 col0\" >6.080837</td>\n",
       "    </tr>\n",
       "    <tr>\n",
       "      <th id=\"T_23092_level0_row3\" class=\"row_heading level0 row3\" >105720810</th>\n",
       "      <td id=\"T_23092_row3_col0\" class=\"data row3 col0\" >5.019358</td>\n",
       "    </tr>\n",
       "    <tr>\n",
       "      <th id=\"T_23092_level0_row4\" class=\"row_heading level0 row4\" >107700128</th>\n",
       "      <td id=\"T_23092_row4_col0\" class=\"data row4 col0\" >4.967173</td>\n",
       "    </tr>\n",
       "    <tr>\n",
       "      <th id=\"T_23092_level0_row5\" class=\"row_heading level0 row5\" >353560215</th>\n",
       "      <td id=\"T_23092_row5_col0\" class=\"data row5 col0\" >2.316245</td>\n",
       "    </tr>\n",
       "    <tr>\n",
       "      <th id=\"T_23092_level0_row6\" class=\"row_heading level0 row6\" >109390331</th>\n",
       "      <td id=\"T_23092_row6_col0\" class=\"data row6 col0\" >1.737257</td>\n",
       "    </tr>\n",
       "    <tr>\n",
       "      <th id=\"T_23092_level0_row7\" class=\"row_heading level0 row7\" >109390803</th>\n",
       "      <td id=\"T_23092_row7_col0\" class=\"data row7 col0\" >1.670787</td>\n",
       "    </tr>\n",
       "    <tr>\n",
       "      <th id=\"T_23092_level0_row8\" class=\"row_heading level0 row8\" >123330025</th>\n",
       "      <td id=\"T_23092_row8_col0\" class=\"data row8 col0\" >1.592656</td>\n",
       "    </tr>\n",
       "    <tr>\n",
       "      <th id=\"T_23092_level0_row9\" class=\"row_heading level0 row9\" >109390021</th>\n",
       "      <td id=\"T_23092_row9_col0\" class=\"data row9 col0\" >1.275757</td>\n",
       "    </tr>\n",
       "    <tr>\n",
       "      <th id=\"T_23092_level0_row10\" class=\"row_heading level0 row10\" >328490500</th>\n",
       "      <td id=\"T_23092_row10_col0\" class=\"data row10 col0\" >1.176635</td>\n",
       "    </tr>\n",
       "    <tr>\n",
       "      <th id=\"T_23092_level0_row11\" class=\"row_heading level0 row11\" >100390049</th>\n",
       "      <td id=\"T_23092_row11_col0\" class=\"data row11 col0\" >1.126783</td>\n",
       "    </tr>\n",
       "    <tr>\n",
       "      <th id=\"T_23092_level0_row12\" class=\"row_heading level0 row12\" >103100000</th>\n",
       "      <td id=\"T_23092_row12_col0\" class=\"data row12 col0\" >1.081303</td>\n",
       "    </tr>\n",
       "    <tr>\n",
       "      <th id=\"T_23092_level0_row13\" class=\"row_heading level0 row13\" >109390170</th>\n",
       "      <td id=\"T_23092_row13_col0\" class=\"data row13 col0\" >0.977517</td>\n",
       "    </tr>\n",
       "    <tr>\n",
       "      <th id=\"T_23092_level0_row14\" class=\"row_heading level0 row14\" >118222280</th>\n",
       "      <td id=\"T_23092_row14_col0\" class=\"data row14 col0\" >0.817464</td>\n",
       "    </tr>\n",
       "    <tr>\n",
       "      <th id=\"T_23092_level0_row15\" class=\"row_heading level0 row15\" >328490706</th>\n",
       "      <td id=\"T_23092_row15_col0\" class=\"data row15 col0\" >0.744872</td>\n",
       "    </tr>\n",
       "    <tr>\n",
       "      <th id=\"T_23092_level0_row16\" class=\"row_heading level0 row16\" >118225764</th>\n",
       "      <td id=\"T_23092_row16_col0\" class=\"data row16 col0\" >0.740207</td>\n",
       "    </tr>\n",
       "    <tr>\n",
       "      <th id=\"T_23092_level0_row17\" class=\"row_heading level0 row17\" >103270035</th>\n",
       "      <td id=\"T_23092_row17_col0\" class=\"data row17 col0\" >0.711637</td>\n",
       "    </tr>\n",
       "    <tr>\n",
       "      <th id=\"T_23092_level0_row18\" class=\"row_heading level0 row18\" >109160046</th>\n",
       "      <td id=\"T_23092_row18_col0\" class=\"data row18 col0\" >0.699976</td>\n",
       "    </tr>\n",
       "    <tr>\n",
       "      <th id=\"T_23092_level0_row19\" class=\"row_heading level0 row19\" >101350203</th>\n",
       "      <td id=\"T_23092_row19_col0\" class=\"data row19 col0\" >0.658286</td>\n",
       "    </tr>\n",
       "    <tr>\n",
       "      <th id=\"T_23092_level0_row20\" class=\"row_heading level0 row20\" >109390232</th>\n",
       "      <td id=\"T_23092_row20_col0\" class=\"data row20 col0\" >0.652164</td>\n",
       "    </tr>\n",
       "    <tr>\n",
       "      <th id=\"T_23092_level0_row21\" class=\"row_heading level0 row21\" >614420501</th>\n",
       "      <td id=\"T_23092_row21_col0\" class=\"data row21 col0\" >0.635546</td>\n",
       "    </tr>\n",
       "    <tr>\n",
       "      <th id=\"T_23092_level0_row22\" class=\"row_heading level0 row22\" >109390026</th>\n",
       "      <td id=\"T_23092_row22_col0\" class=\"data row22 col0\" >0.618346</td>\n",
       "    </tr>\n",
       "    <tr>\n",
       "      <th id=\"T_23092_level0_row23\" class=\"row_heading level0 row23\" >328490707</th>\n",
       "      <td id=\"T_23092_row23_col0\" class=\"data row23 col0\" >0.612515</td>\n",
       "    </tr>\n",
       "    <tr>\n",
       "      <th id=\"T_23092_level0_row24\" class=\"row_heading level0 row24\" >122800008</th>\n",
       "      <td id=\"T_23092_row24_col0\" class=\"data row24 col0\" >0.593857</td>\n",
       "    </tr>\n",
       "  </tbody>\n",
       "</table>\n",
       "<style type=\"text/css\">\n",
       "</style>\n",
       "<table id=\"T_cee80\" style='display:inline'>\n",
       "  <caption>ndc value counts</caption>\n",
       "  <thead>\n",
       "    <tr>\n",
       "      <th class=\"blank level0\" >&nbsp;</th>\n",
       "      <th id=\"T_cee80_level0_col0\" class=\"col_heading level0 col0\" >ndc</th>\n",
       "    </tr>\n",
       "  </thead>\n",
       "  <tbody>\n",
       "    <tr>\n",
       "      <th id=\"T_cee80_level0_row0\" class=\"row_heading level0 row0\" >109390197</th>\n",
       "      <td id=\"T_cee80_row0_col0\" class=\"data row0 col0\" >0.547503</td>\n",
       "    </tr>\n",
       "    <tr>\n",
       "      <th id=\"T_cee80_level0_row1\" class=\"row_heading level0 row1\" >461220143</th>\n",
       "      <td id=\"T_cee80_row1_col0\" class=\"data row1 col0\" >0.499399</td>\n",
       "    </tr>\n",
       "    <tr>\n",
       "      <th id=\"T_cee80_level0_row2\" class=\"row_heading level0 row2\" >107540669</th>\n",
       "      <td id=\"T_cee80_row2_col0\" class=\"data row2 col0\" >0.499399</td>\n",
       "    </tr>\n",
       "    <tr>\n",
       "      <th id=\"T_cee80_level0_row3\" class=\"row_heading level0 row3\" >101350120</th>\n",
       "      <td id=\"T_cee80_row3_col0\" class=\"data row3 col0\" >0.474327</td>\n",
       "    </tr>\n",
       "    <tr>\n",
       "      <th id=\"T_cee80_level0_row4\" class=\"row_heading level0 row4\" >109390378</th>\n",
       "      <td id=\"T_cee80_row4_col0\" class=\"data row4 col0\" >0.447215</td>\n",
       "    </tr>\n",
       "    <tr>\n",
       "      <th id=\"T_cee80_level0_row5\" class=\"row_heading level0 row5\" >109390789</th>\n",
       "      <td id=\"T_cee80_row5_col0\" class=\"data row5 col0\" >0.442259</td>\n",
       "    </tr>\n",
       "    <tr>\n",
       "      <th id=\"T_cee80_level0_row6\" class=\"row_heading level0 row6\" >118220148</th>\n",
       "      <td id=\"T_cee80_row6_col0\" class=\"data row6 col0\" >0.442259</td>\n",
       "    </tr>\n",
       "    <tr>\n",
       "      <th id=\"T_cee80_level0_row7\" class=\"row_heading level0 row7\" >116940846</th>\n",
       "      <td id=\"T_cee80_row7_col0\" class=\"data row7 col0\" >0.426516</td>\n",
       "    </tr>\n",
       "    <tr>\n",
       "      <th id=\"T_cee80_level0_row8\" class=\"row_heading level0 row8\" >109390556</th>\n",
       "      <td id=\"T_cee80_row8_col0\" class=\"data row8 col0\" >0.413105</td>\n",
       "    </tr>\n",
       "    <tr>\n",
       "      <th id=\"T_cee80_level0_row9\" class=\"row_heading level0 row9\" >101190021</th>\n",
       "      <td id=\"T_cee80_row9_col0\" class=\"data row9 col0\" >0.399111</td>\n",
       "    </tr>\n",
       "    <tr>\n",
       "      <th id=\"T_cee80_level0_row10\" class=\"row_heading level0 row10\" >107120478</th>\n",
       "      <td id=\"T_cee80_row10_col0\" class=\"data row10 col0\" >0.397654</td>\n",
       "    </tr>\n",
       "    <tr>\n",
       "      <th id=\"T_cee80_level0_row11\" class=\"row_heading level0 row11\" >106310098</th>\n",
       "      <td id=\"T_cee80_row11_col0\" class=\"data row11 col0\" >0.396488</td>\n",
       "    </tr>\n",
       "    <tr>\n",
       "      <th id=\"T_cee80_level0_row12\" class=\"row_heading level0 row12\" >118450060</th>\n",
       "      <td id=\"T_cee80_row12_col0\" class=\"data row12 col0\" >0.392115</td>\n",
       "    </tr>\n",
       "    <tr>\n",
       "      <th id=\"T_cee80_level0_row13\" class=\"row_heading level0 row13\" >108760691</th>\n",
       "      <td id=\"T_cee80_row13_col0\" class=\"data row13 col0\" >0.391531</td>\n",
       "    </tr>\n",
       "    <tr>\n",
       "      <th id=\"T_cee80_level0_row14\" class=\"row_heading level0 row14\" >101350683</th>\n",
       "      <td id=\"T_cee80_row14_col0\" class=\"data row14 col0\" >0.387158</td>\n",
       "    </tr>\n",
       "    <tr>\n",
       "      <th id=\"T_cee80_level0_row15\" class=\"row_heading level0 row15\" >118224607</th>\n",
       "      <td id=\"T_cee80_row15_col0\" class=\"data row15 col0\" >0.386575</td>\n",
       "    </tr>\n",
       "    <tr>\n",
       "      <th id=\"T_cee80_level0_row16\" class=\"row_heading level0 row16\" >122800077</th>\n",
       "      <td id=\"T_cee80_row16_col0\" class=\"data row16 col0\" >0.382202</td>\n",
       "    </tr>\n",
       "    <tr>\n",
       "      <th id=\"T_cee80_level0_row17\" class=\"row_heading level0 row17\" >109390008</th>\n",
       "      <td id=\"T_cee80_row17_col0\" class=\"data row17 col0\" >0.377246</td>\n",
       "    </tr>\n",
       "    <tr>\n",
       "      <th id=\"T_cee80_level0_row18\" class=\"row_heading level0 row18\" >370000143</th>\n",
       "      <td id=\"T_cee80_row18_col0\" class=\"data row18 col0\" >0.371124</td>\n",
       "    </tr>\n",
       "    <tr>\n",
       "      <th id=\"T_cee80_level0_row19\" class=\"row_heading level0 row19\" >328490708</th>\n",
       "      <td id=\"T_cee80_row19_col0\" class=\"data row19 col0\" >0.366168</td>\n",
       "    </tr>\n",
       "    <tr>\n",
       "      <th id=\"T_cee80_level0_row20\" class=\"row_heading level0 row20\" >110262618</th>\n",
       "      <td id=\"T_cee80_row20_col0\" class=\"data row20 col0\" >0.364127</td>\n",
       "    </tr>\n",
       "    <tr>\n",
       "      <th id=\"T_cee80_level0_row21\" class=\"row_heading level0 row21\" >543383</th>\n",
       "      <td id=\"T_cee80_row21_col0\" class=\"data row21 col0\" >0.346344</td>\n",
       "    </tr>\n",
       "    <tr>\n",
       "      <th id=\"T_cee80_level0_row22\" class=\"row_heading level0 row22\" >499990990</th>\n",
       "      <td id=\"T_cee80_row22_col0\" class=\"data row22 col0\" >0.334099</td>\n",
       "    </tr>\n",
       "    <tr>\n",
       "      <th id=\"T_cee80_level0_row23\" class=\"row_heading level0 row23\" >102670737</th>\n",
       "      <td id=\"T_cee80_row23_col0\" class=\"data row23 col0\" >0.331475</td>\n",
       "    </tr>\n",
       "    <tr>\n",
       "      <th id=\"T_cee80_level0_row24\" class=\"row_heading level0 row24\" >103700511</th>\n",
       "      <td id=\"T_cee80_row24_col0\" class=\"data row24 col0\" >0.325353</td>\n",
       "    </tr>\n",
       "  </tbody>\n",
       "</table>\n"
      ]
     },
     "metadata": {},
     "output_type": "display_data"
    },
    {
     "name": "stdout",
     "output_type": "stream",
     "text": [
      "We could fill 53.83% of the remaining missing ndcs manually by filling the first 30 ndcs\n"
     ]
    }
   ],
   "source": [
    "cap_utils.display_sbs(['ndc value counts']*2,\\\n",
    "            cat_pres.ndc[cat_pres.A<0].value_counts(normalize = True).iloc[0:25]*100,\\\n",
    "            cat_pres.ndc[cat_pres.A<0].value_counts(normalize = True).iloc[25:50]*100)\n",
    "missing_ndcs = cat_pres.ndc[cat_pres.A<0].value_counts(normalize = True).head(30)\n",
    "print(f'We could fill {round(missing_ndcs.sum()*100,2)}% of the remaining missing ndcs manually by filling the first 30 ndcs')"
   ]
  },
  {
   "cell_type": "code",
   "execution_count": 49,
   "id": "fa885de3",
   "metadata": {
    "ExecuteTime": {
     "end_time": "2022-10-12T22:21:32.058995Z",
     "start_time": "2022-10-12T22:21:32.036070Z"
    }
   },
   "outputs": [
    {
     "data": {
      "text/html": [
       "<div>\n",
       "<style scoped>\n",
       "    .dataframe tbody tr th:only-of-type {\n",
       "        vertical-align: middle;\n",
       "    }\n",
       "\n",
       "    .dataframe tbody tr th {\n",
       "        vertical-align: top;\n",
       "    }\n",
       "\n",
       "    .dataframe thead th {\n",
       "        text-align: right;\n",
       "    }\n",
       "</style>\n",
       "<table border=\"1\" class=\"dataframe\">\n",
       "  <thead>\n",
       "    <tr style=\"text-align: right;\">\n",
       "      <th></th>\n",
       "      <th>join_on_index</th>\n",
       "      <th>subject_id</th>\n",
       "      <th>hadm_id</th>\n",
       "      <th>starttime</th>\n",
       "      <th>drug_type</th>\n",
       "      <th>drug</th>\n",
       "      <th>formulary_drug_cd</th>\n",
       "      <th>gsn</th>\n",
       "      <th>route</th>\n",
       "      <th>stay_id_ind</th>\n",
       "    </tr>\n",
       "    <tr>\n",
       "      <th>ndc</th>\n",
       "      <th></th>\n",
       "      <th></th>\n",
       "      <th></th>\n",
       "      <th></th>\n",
       "      <th></th>\n",
       "      <th></th>\n",
       "      <th></th>\n",
       "      <th></th>\n",
       "      <th></th>\n",
       "      <th></th>\n",
       "    </tr>\n",
       "  </thead>\n",
       "  <tbody>\n",
       "    <tr>\n",
       "      <th>904198861</th>\n",
       "      <td>0</td>\n",
       "      <td>10000032</td>\n",
       "      <td>22595853</td>\n",
       "      <td>2180-05-07 01:00:00</td>\n",
       "      <td>MAIN</td>\n",
       "      <td>Acetaminophen</td>\n",
       "      <td>APAP500</td>\n",
       "      <td>004490</td>\n",
       "      <td>PO/NG</td>\n",
       "      <td>0</td>\n",
       "    </tr>\n",
       "    <tr>\n",
       "      <th>0</th>\n",
       "      <td>1</td>\n",
       "      <td>10000032</td>\n",
       "      <td>22595853</td>\n",
       "      <td>2180-05-07 00:00:00</td>\n",
       "      <td>MAIN</td>\n",
       "      <td>Sodium Chloride 0.9%  Flush</td>\n",
       "      <td>NACLFLUSH</td>\n",
       "      <td>NaN</td>\n",
       "      <td>IV</td>\n",
       "      <td>0</td>\n",
       "    </tr>\n",
       "    <tr>\n",
       "      <th>51079007320</th>\n",
       "      <td>2</td>\n",
       "      <td>10000032</td>\n",
       "      <td>22595853</td>\n",
       "      <td>2180-05-08 08:00:00</td>\n",
       "      <td>MAIN</td>\n",
       "      <td>Furosemide</td>\n",
       "      <td>FURO40</td>\n",
       "      <td>008209</td>\n",
       "      <td>PO/NG</td>\n",
       "      <td>0</td>\n",
       "    </tr>\n",
       "    <tr>\n",
       "      <th>6022761</th>\n",
       "      <td>3</td>\n",
       "      <td>10000032</td>\n",
       "      <td>22595853</td>\n",
       "      <td>2180-05-07 01:00:00</td>\n",
       "      <td>MAIN</td>\n",
       "      <td>Raltegravir</td>\n",
       "      <td>RALT400</td>\n",
       "      <td>063231</td>\n",
       "      <td>PO</td>\n",
       "      <td>0</td>\n",
       "    </tr>\n",
       "    <tr>\n",
       "      <th>63323026201</th>\n",
       "      <td>4</td>\n",
       "      <td>10000032</td>\n",
       "      <td>22595853</td>\n",
       "      <td>2180-05-07 00:00:00</td>\n",
       "      <td>MAIN</td>\n",
       "      <td>Heparin</td>\n",
       "      <td>HEPA5I</td>\n",
       "      <td>006549</td>\n",
       "      <td>SC</td>\n",
       "      <td>0</td>\n",
       "    </tr>\n",
       "    <tr>\n",
       "      <th>...</th>\n",
       "      <td>...</td>\n",
       "      <td>...</td>\n",
       "      <td>...</td>\n",
       "      <td>...</td>\n",
       "      <td>...</td>\n",
       "      <td>...</td>\n",
       "      <td>...</td>\n",
       "      <td>...</td>\n",
       "      <td>...</td>\n",
       "      <td>...</td>\n",
       "    </tr>\n",
       "    <tr>\n",
       "      <th>12280027016</th>\n",
       "      <td>18952980</td>\n",
       "      <td>19999828</td>\n",
       "      <td>32917002</td>\n",
       "      <td>2149-01-08 09:41:00</td>\n",
       "      <td>NaN</td>\n",
       "      <td>fluticasone</td>\n",
       "      <td>NaN</td>\n",
       "      <td>18368</td>\n",
       "      <td>NaN</td>\n",
       "      <td>1</td>\n",
       "    </tr>\n",
       "    <tr>\n",
       "      <th>11845110101</th>\n",
       "      <td>18952981</td>\n",
       "      <td>19999828</td>\n",
       "      <td>32917002</td>\n",
       "      <td>2149-01-08 09:41:00</td>\n",
       "      <td>NaN</td>\n",
       "      <td>glipizide</td>\n",
       "      <td>NaN</td>\n",
       "      <td>1776</td>\n",
       "      <td>NaN</td>\n",
       "      <td>1</td>\n",
       "    </tr>\n",
       "    <tr>\n",
       "      <th>10544007120</th>\n",
       "      <td>18952982</td>\n",
       "      <td>19999828</td>\n",
       "      <td>32917002</td>\n",
       "      <td>2149-01-08 09:41:00</td>\n",
       "      <td>NaN</td>\n",
       "      <td>ibuprofen</td>\n",
       "      <td>NaN</td>\n",
       "      <td>8350</td>\n",
       "      <td>NaN</td>\n",
       "      <td>1</td>\n",
       "    </tr>\n",
       "    <tr>\n",
       "      <th>10544093814</th>\n",
       "      <td>18952983</td>\n",
       "      <td>19999828</td>\n",
       "      <td>32917002</td>\n",
       "      <td>2149-01-08 09:41:00</td>\n",
       "      <td>NaN</td>\n",
       "      <td>metronidazole</td>\n",
       "      <td>NaN</td>\n",
       "      <td>9592</td>\n",
       "      <td>NaN</td>\n",
       "      <td>1</td>\n",
       "    </tr>\n",
       "    <tr>\n",
       "      <th>10544034130</th>\n",
       "      <td>18952984</td>\n",
       "      <td>19999828</td>\n",
       "      <td>32917002</td>\n",
       "      <td>2149-01-08 09:41:00</td>\n",
       "      <td>NaN</td>\n",
       "      <td>omeprazole</td>\n",
       "      <td>NaN</td>\n",
       "      <td>33530</td>\n",
       "      <td>NaN</td>\n",
       "      <td>1</td>\n",
       "    </tr>\n",
       "  </tbody>\n",
       "</table>\n",
       "<p>18952985 rows × 10 columns</p>\n",
       "</div>"
      ],
      "text/plain": [
       "             join_on_index  subject_id   hadm_id            starttime  \\\n",
       "ndc                                                                     \n",
       "904198861                0    10000032  22595853  2180-05-07 01:00:00   \n",
       "0                        1    10000032  22595853  2180-05-07 00:00:00   \n",
       "51079007320              2    10000032  22595853  2180-05-08 08:00:00   \n",
       "6022761                  3    10000032  22595853  2180-05-07 01:00:00   \n",
       "63323026201              4    10000032  22595853  2180-05-07 00:00:00   \n",
       "...                    ...         ...       ...                  ...   \n",
       "12280027016       18952980    19999828  32917002  2149-01-08 09:41:00   \n",
       "11845110101       18952981    19999828  32917002  2149-01-08 09:41:00   \n",
       "10544007120       18952982    19999828  32917002  2149-01-08 09:41:00   \n",
       "10544093814       18952983    19999828  32917002  2149-01-08 09:41:00   \n",
       "10544034130       18952984    19999828  32917002  2149-01-08 09:41:00   \n",
       "\n",
       "            drug_type                         drug formulary_drug_cd     gsn  \\\n",
       "ndc                                                                            \n",
       "904198861        MAIN                Acetaminophen           APAP500  004490   \n",
       "0                MAIN  Sodium Chloride 0.9%  Flush         NACLFLUSH     NaN   \n",
       "51079007320      MAIN                   Furosemide            FURO40  008209   \n",
       "6022761          MAIN                  Raltegravir           RALT400  063231   \n",
       "63323026201      MAIN                      Heparin            HEPA5I  006549   \n",
       "...               ...                          ...               ...     ...   \n",
       "12280027016       NaN                  fluticasone               NaN   18368   \n",
       "11845110101       NaN                    glipizide               NaN    1776   \n",
       "10544007120       NaN                    ibuprofen               NaN    8350   \n",
       "10544093814       NaN                metronidazole               NaN    9592   \n",
       "10544034130       NaN                   omeprazole               NaN   33530   \n",
       "\n",
       "             route  stay_id_ind  \n",
       "ndc                              \n",
       "904198861    PO/NG            0  \n",
       "0               IV            0  \n",
       "51079007320  PO/NG            0  \n",
       "6022761         PO            0  \n",
       "63323026201     SC            0  \n",
       "...            ...          ...  \n",
       "12280027016    NaN            1  \n",
       "11845110101    NaN            1  \n",
       "10544007120    NaN            1  \n",
       "10544093814    NaN            1  \n",
       "10544034130    NaN            1  \n",
       "\n",
       "[18952985 rows x 10 columns]"
      ]
     },
     "execution_count": 49,
     "metadata": {},
     "output_type": "execute_result"
    }
   ],
   "source": [
    "prescriptions"
   ]
  },
  {
   "cell_type": "code",
   "execution_count": 48,
   "id": "5ef5023b",
   "metadata": {
    "ExecuteTime": {
     "end_time": "2022-10-12T22:21:28.385795Z",
     "start_time": "2022-10-12T22:21:28.355178Z"
    }
   },
   "outputs": [
    {
     "data": {
      "text/html": [
       "<div>\n",
       "<style scoped>\n",
       "    .dataframe tbody tr th:only-of-type {\n",
       "        vertical-align: middle;\n",
       "    }\n",
       "\n",
       "    .dataframe tbody tr th {\n",
       "        vertical-align: top;\n",
       "    }\n",
       "\n",
       "    .dataframe thead th {\n",
       "        text-align: right;\n",
       "    }\n",
       "</style>\n",
       "<table border=\"1\" class=\"dataframe\">\n",
       "  <thead>\n",
       "    <tr style=\"text-align: right;\">\n",
       "      <th></th>\n",
       "      <th>ndc</th>\n",
       "      <th>join_on_index</th>\n",
       "      <th>drug_type</th>\n",
       "      <th>drug</th>\n",
       "      <th>formulary_drug_cd</th>\n",
       "      <th>gsn</th>\n",
       "      <th>A</th>\n",
       "      <th>B</th>\n",
       "      <th>C</th>\n",
       "      <th>D</th>\n",
       "      <th>G</th>\n",
       "      <th>H</th>\n",
       "      <th>J</th>\n",
       "      <th>L</th>\n",
       "      <th>M</th>\n",
       "      <th>N</th>\n",
       "      <th>P</th>\n",
       "      <th>R</th>\n",
       "      <th>S</th>\n",
       "      <th>V</th>\n",
       "    </tr>\n",
       "  </thead>\n",
       "  <tbody>\n",
       "    <tr>\n",
       "      <th>0</th>\n",
       "      <td>&lt;NA&gt;</td>\n",
       "      <td>1</td>\n",
       "      <td>MAIN</td>\n",
       "      <td>sodiumchlorideflush</td>\n",
       "      <td>NACLFLUSH</td>\n",
       "      <td>NaN</td>\n",
       "      <td>1</td>\n",
       "      <td>1</td>\n",
       "      <td>0</td>\n",
       "      <td>0</td>\n",
       "      <td>0</td>\n",
       "      <td>0</td>\n",
       "      <td>0</td>\n",
       "      <td>0</td>\n",
       "      <td>0</td>\n",
       "      <td>0</td>\n",
       "      <td>0</td>\n",
       "      <td>0</td>\n",
       "      <td>0</td>\n",
       "      <td>0</td>\n",
       "    </tr>\n",
       "    <tr>\n",
       "      <th>1</th>\n",
       "      <td>&lt;NA&gt;</td>\n",
       "      <td>22</td>\n",
       "      <td>MAIN</td>\n",
       "      <td>sodiumchlorideflush</td>\n",
       "      <td>NACLFLUSH</td>\n",
       "      <td>NaN</td>\n",
       "      <td>1</td>\n",
       "      <td>1</td>\n",
       "      <td>0</td>\n",
       "      <td>0</td>\n",
       "      <td>0</td>\n",
       "      <td>0</td>\n",
       "      <td>0</td>\n",
       "      <td>0</td>\n",
       "      <td>0</td>\n",
       "      <td>0</td>\n",
       "      <td>0</td>\n",
       "      <td>0</td>\n",
       "      <td>0</td>\n",
       "      <td>0</td>\n",
       "    </tr>\n",
       "    <tr>\n",
       "      <th>2</th>\n",
       "      <td>&lt;NA&gt;</td>\n",
       "      <td>39</td>\n",
       "      <td>BASE</td>\n",
       "      <td>sodiumchloride</td>\n",
       "      <td>NS100CG</td>\n",
       "      <td>NaN</td>\n",
       "      <td>1</td>\n",
       "      <td>1</td>\n",
       "      <td>0</td>\n",
       "      <td>0</td>\n",
       "      <td>0</td>\n",
       "      <td>0</td>\n",
       "      <td>0</td>\n",
       "      <td>0</td>\n",
       "      <td>0</td>\n",
       "      <td>0</td>\n",
       "      <td>0</td>\n",
       "      <td>0</td>\n",
       "      <td>0</td>\n",
       "      <td>0</td>\n",
       "    </tr>\n",
       "    <tr>\n",
       "      <th>3</th>\n",
       "      <td>&lt;NA&gt;</td>\n",
       "      <td>50</td>\n",
       "      <td>MAIN</td>\n",
       "      <td>sodiumchlorideflush</td>\n",
       "      <td>NACLFLUSH</td>\n",
       "      <td>NaN</td>\n",
       "      <td>1</td>\n",
       "      <td>1</td>\n",
       "      <td>0</td>\n",
       "      <td>0</td>\n",
       "      <td>0</td>\n",
       "      <td>0</td>\n",
       "      <td>0</td>\n",
       "      <td>0</td>\n",
       "      <td>0</td>\n",
       "      <td>0</td>\n",
       "      <td>0</td>\n",
       "      <td>0</td>\n",
       "      <td>0</td>\n",
       "      <td>0</td>\n",
       "    </tr>\n",
       "    <tr>\n",
       "      <th>4</th>\n",
       "      <td>&lt;NA&gt;</td>\n",
       "      <td>51</td>\n",
       "      <td>BASE</td>\n",
       "      <td>sodiumchloride</td>\n",
       "      <td>NS100CG</td>\n",
       "      <td>NaN</td>\n",
       "      <td>1</td>\n",
       "      <td>1</td>\n",
       "      <td>0</td>\n",
       "      <td>0</td>\n",
       "      <td>0</td>\n",
       "      <td>0</td>\n",
       "      <td>0</td>\n",
       "      <td>0</td>\n",
       "      <td>0</td>\n",
       "      <td>0</td>\n",
       "      <td>0</td>\n",
       "      <td>0</td>\n",
       "      <td>0</td>\n",
       "      <td>0</td>\n",
       "    </tr>\n",
       "    <tr>\n",
       "      <th>...</th>\n",
       "      <td>...</td>\n",
       "      <td>...</td>\n",
       "      <td>...</td>\n",
       "      <td>...</td>\n",
       "      <td>...</td>\n",
       "      <td>...</td>\n",
       "      <td>...</td>\n",
       "      <td>...</td>\n",
       "      <td>...</td>\n",
       "      <td>...</td>\n",
       "      <td>...</td>\n",
       "      <td>...</td>\n",
       "      <td>...</td>\n",
       "      <td>...</td>\n",
       "      <td>...</td>\n",
       "      <td>...</td>\n",
       "      <td>...</td>\n",
       "      <td>...</td>\n",
       "      <td>...</td>\n",
       "      <td>...</td>\n",
       "    </tr>\n",
       "    <tr>\n",
       "      <th>18952980</th>\n",
       "      <td>&lt;NA&gt;</td>\n",
       "      <td>16216912</td>\n",
       "      <td>MAIN</td>\n",
       "      <td>magnesiumsulfate</td>\n",
       "      <td>MAG2PM</td>\n",
       "      <td>NaN</td>\n",
       "      <td>1</td>\n",
       "      <td>1</td>\n",
       "      <td>0</td>\n",
       "      <td>1</td>\n",
       "      <td>0</td>\n",
       "      <td>0</td>\n",
       "      <td>0</td>\n",
       "      <td>0</td>\n",
       "      <td>0</td>\n",
       "      <td>0</td>\n",
       "      <td>0</td>\n",
       "      <td>0</td>\n",
       "      <td>0</td>\n",
       "      <td>1</td>\n",
       "    </tr>\n",
       "    <tr>\n",
       "      <th>18952981</th>\n",
       "      <td>&lt;NA&gt;</td>\n",
       "      <td>16216929</td>\n",
       "      <td>MAIN</td>\n",
       "      <td>atropinesulfate</td>\n",
       "      <td>ATRO1I</td>\n",
       "      <td>NaN</td>\n",
       "      <td>1</td>\n",
       "      <td>0</td>\n",
       "      <td>0</td>\n",
       "      <td>0</td>\n",
       "      <td>0</td>\n",
       "      <td>0</td>\n",
       "      <td>0</td>\n",
       "      <td>0</td>\n",
       "      <td>0</td>\n",
       "      <td>0</td>\n",
       "      <td>0</td>\n",
       "      <td>0</td>\n",
       "      <td>1</td>\n",
       "      <td>0</td>\n",
       "    </tr>\n",
       "    <tr>\n",
       "      <th>18952982</th>\n",
       "      <td>&lt;NA&gt;</td>\n",
       "      <td>16216941</td>\n",
       "      <td>MAIN</td>\n",
       "      <td>phenylephrine</td>\n",
       "      <td>PHEN10I</td>\n",
       "      <td>NaN</td>\n",
       "      <td>0</td>\n",
       "      <td>0</td>\n",
       "      <td>1</td>\n",
       "      <td>0</td>\n",
       "      <td>0</td>\n",
       "      <td>0</td>\n",
       "      <td>0</td>\n",
       "      <td>0</td>\n",
       "      <td>0</td>\n",
       "      <td>0</td>\n",
       "      <td>0</td>\n",
       "      <td>1</td>\n",
       "      <td>1</td>\n",
       "      <td>0</td>\n",
       "    </tr>\n",
       "    <tr>\n",
       "      <th>18952983</th>\n",
       "      <td>&lt;NA&gt;</td>\n",
       "      <td>16216977</td>\n",
       "      <td>MAIN</td>\n",
       "      <td>propofol</td>\n",
       "      <td>PROP100IG</td>\n",
       "      <td>NaN</td>\n",
       "      <td>0</td>\n",
       "      <td>0</td>\n",
       "      <td>0</td>\n",
       "      <td>0</td>\n",
       "      <td>0</td>\n",
       "      <td>0</td>\n",
       "      <td>0</td>\n",
       "      <td>0</td>\n",
       "      <td>0</td>\n",
       "      <td>1</td>\n",
       "      <td>0</td>\n",
       "      <td>0</td>\n",
       "      <td>0</td>\n",
       "      <td>0</td>\n",
       "    </tr>\n",
       "    <tr>\n",
       "      <th>18952984</th>\n",
       "      <td>&lt;NA&gt;</td>\n",
       "      <td>16216982</td>\n",
       "      <td>MAIN</td>\n",
       "      <td>norepinephrine</td>\n",
       "      <td>NORE8/250</td>\n",
       "      <td>NaN</td>\n",
       "      <td>0</td>\n",
       "      <td>0</td>\n",
       "      <td>1</td>\n",
       "      <td>0</td>\n",
       "      <td>0</td>\n",
       "      <td>0</td>\n",
       "      <td>0</td>\n",
       "      <td>0</td>\n",
       "      <td>0</td>\n",
       "      <td>0</td>\n",
       "      <td>0</td>\n",
       "      <td>0</td>\n",
       "      <td>0</td>\n",
       "      <td>0</td>\n",
       "    </tr>\n",
       "  </tbody>\n",
       "</table>\n",
       "<p>18952985 rows × 20 columns</p>\n",
       "</div>"
      ],
      "text/plain": [
       "           ndc  join_on_index drug_type                 drug  \\\n",
       "0         <NA>              1      MAIN  sodiumchlorideflush   \n",
       "1         <NA>             22      MAIN  sodiumchlorideflush   \n",
       "2         <NA>             39      BASE       sodiumchloride   \n",
       "3         <NA>             50      MAIN  sodiumchlorideflush   \n",
       "4         <NA>             51      BASE       sodiumchloride   \n",
       "...        ...            ...       ...                  ...   \n",
       "18952980  <NA>       16216912      MAIN     magnesiumsulfate   \n",
       "18952981  <NA>       16216929      MAIN      atropinesulfate   \n",
       "18952982  <NA>       16216941      MAIN        phenylephrine   \n",
       "18952983  <NA>       16216977      MAIN             propofol   \n",
       "18952984  <NA>       16216982      MAIN       norepinephrine   \n",
       "\n",
       "         formulary_drug_cd  gsn  A  B  C  D  G  H  J  L  M  N  P  R  S  V  \n",
       "0                NACLFLUSH  NaN  1  1  0  0  0  0  0  0  0  0  0  0  0  0  \n",
       "1                NACLFLUSH  NaN  1  1  0  0  0  0  0  0  0  0  0  0  0  0  \n",
       "2                  NS100CG  NaN  1  1  0  0  0  0  0  0  0  0  0  0  0  0  \n",
       "3                NACLFLUSH  NaN  1  1  0  0  0  0  0  0  0  0  0  0  0  0  \n",
       "4                  NS100CG  NaN  1  1  0  0  0  0  0  0  0  0  0  0  0  0  \n",
       "...                    ...  ... .. .. .. .. .. .. .. .. .. .. .. .. .. ..  \n",
       "18952980            MAG2PM  NaN  1  1  0  1  0  0  0  0  0  0  0  0  0  1  \n",
       "18952981            ATRO1I  NaN  1  0  0  0  0  0  0  0  0  0  0  0  1  0  \n",
       "18952982           PHEN10I  NaN  0  0  1  0  0  0  0  0  0  0  0  1  1  0  \n",
       "18952983         PROP100IG  NaN  0  0  0  0  0  0  0  0  0  1  0  0  0  0  \n",
       "18952984         NORE8/250  NaN  0  0  1  0  0  0  0  0  0  0  0  0  0  0  \n",
       "\n",
       "[18952985 rows x 20 columns]"
      ]
     },
     "execution_count": 48,
     "metadata": {},
     "output_type": "execute_result"
    }
   ],
   "source": [
    "cat_pres"
   ]
  },
  {
   "cell_type": "markdown",
   "id": "eaede58b",
   "metadata": {},
   "source": [
    "The problem is that the missing values are more distributed between many ndcs, so filling manually 30 of them would just tackle 53.83% of the missing categories by ndc. Moreover, browsing ndc is not so easy, as they are specific per supplier and can be harder to find. Even more if they could not be found on the FDA website. We will leave these values unfilled for now. We can save the merged, filled prescriptions df to be used later."
   ]
  },
  {
   "cell_type": "code",
   "execution_count": 52,
   "id": "eb874170",
   "metadata": {
    "ExecuteTime": {
     "end_time": "2022-10-12T22:23:32.448040Z",
     "start_time": "2022-10-12T22:23:32.430293Z"
    }
   },
   "outputs": [
    {
     "data": {
      "text/html": [
       "<div>\n",
       "<style scoped>\n",
       "    .dataframe tbody tr th:only-of-type {\n",
       "        vertical-align: middle;\n",
       "    }\n",
       "\n",
       "    .dataframe tbody tr th {\n",
       "        vertical-align: top;\n",
       "    }\n",
       "\n",
       "    .dataframe thead th {\n",
       "        text-align: right;\n",
       "    }\n",
       "</style>\n",
       "<table border=\"1\" class=\"dataframe\">\n",
       "  <thead>\n",
       "    <tr style=\"text-align: right;\">\n",
       "      <th></th>\n",
       "      <th>ndc</th>\n",
       "      <th>join_on_index</th>\n",
       "      <th>drug_type</th>\n",
       "      <th>drug</th>\n",
       "      <th>formulary_drug_cd</th>\n",
       "      <th>gsn</th>\n",
       "      <th>A</th>\n",
       "      <th>B</th>\n",
       "      <th>C</th>\n",
       "      <th>D</th>\n",
       "      <th>G</th>\n",
       "      <th>H</th>\n",
       "      <th>J</th>\n",
       "      <th>L</th>\n",
       "      <th>M</th>\n",
       "      <th>N</th>\n",
       "      <th>P</th>\n",
       "      <th>R</th>\n",
       "      <th>S</th>\n",
       "      <th>V</th>\n",
       "    </tr>\n",
       "  </thead>\n",
       "  <tbody>\n",
       "    <tr>\n",
       "      <th>0</th>\n",
       "      <td>&lt;NA&gt;</td>\n",
       "      <td>1</td>\n",
       "      <td>MAIN</td>\n",
       "      <td>sodiumchlorideflush</td>\n",
       "      <td>NACLFLUSH</td>\n",
       "      <td>NaN</td>\n",
       "      <td>1</td>\n",
       "      <td>1</td>\n",
       "      <td>0</td>\n",
       "      <td>0</td>\n",
       "      <td>0</td>\n",
       "      <td>0</td>\n",
       "      <td>0</td>\n",
       "      <td>0</td>\n",
       "      <td>0</td>\n",
       "      <td>0</td>\n",
       "      <td>0</td>\n",
       "      <td>0</td>\n",
       "      <td>0</td>\n",
       "      <td>0</td>\n",
       "    </tr>\n",
       "    <tr>\n",
       "      <th>1</th>\n",
       "      <td>&lt;NA&gt;</td>\n",
       "      <td>22</td>\n",
       "      <td>MAIN</td>\n",
       "      <td>sodiumchlorideflush</td>\n",
       "      <td>NACLFLUSH</td>\n",
       "      <td>NaN</td>\n",
       "      <td>1</td>\n",
       "      <td>1</td>\n",
       "      <td>0</td>\n",
       "      <td>0</td>\n",
       "      <td>0</td>\n",
       "      <td>0</td>\n",
       "      <td>0</td>\n",
       "      <td>0</td>\n",
       "      <td>0</td>\n",
       "      <td>0</td>\n",
       "      <td>0</td>\n",
       "      <td>0</td>\n",
       "      <td>0</td>\n",
       "      <td>0</td>\n",
       "    </tr>\n",
       "    <tr>\n",
       "      <th>2</th>\n",
       "      <td>&lt;NA&gt;</td>\n",
       "      <td>39</td>\n",
       "      <td>BASE</td>\n",
       "      <td>sodiumchloride</td>\n",
       "      <td>NS100CG</td>\n",
       "      <td>NaN</td>\n",
       "      <td>1</td>\n",
       "      <td>1</td>\n",
       "      <td>0</td>\n",
       "      <td>0</td>\n",
       "      <td>0</td>\n",
       "      <td>0</td>\n",
       "      <td>0</td>\n",
       "      <td>0</td>\n",
       "      <td>0</td>\n",
       "      <td>0</td>\n",
       "      <td>0</td>\n",
       "      <td>0</td>\n",
       "      <td>0</td>\n",
       "      <td>0</td>\n",
       "    </tr>\n",
       "    <tr>\n",
       "      <th>3</th>\n",
       "      <td>&lt;NA&gt;</td>\n",
       "      <td>50</td>\n",
       "      <td>MAIN</td>\n",
       "      <td>sodiumchlorideflush</td>\n",
       "      <td>NACLFLUSH</td>\n",
       "      <td>NaN</td>\n",
       "      <td>1</td>\n",
       "      <td>1</td>\n",
       "      <td>0</td>\n",
       "      <td>0</td>\n",
       "      <td>0</td>\n",
       "      <td>0</td>\n",
       "      <td>0</td>\n",
       "      <td>0</td>\n",
       "      <td>0</td>\n",
       "      <td>0</td>\n",
       "      <td>0</td>\n",
       "      <td>0</td>\n",
       "      <td>0</td>\n",
       "      <td>0</td>\n",
       "    </tr>\n",
       "    <tr>\n",
       "      <th>4</th>\n",
       "      <td>&lt;NA&gt;</td>\n",
       "      <td>51</td>\n",
       "      <td>BASE</td>\n",
       "      <td>sodiumchloride</td>\n",
       "      <td>NS100CG</td>\n",
       "      <td>NaN</td>\n",
       "      <td>1</td>\n",
       "      <td>1</td>\n",
       "      <td>0</td>\n",
       "      <td>0</td>\n",
       "      <td>0</td>\n",
       "      <td>0</td>\n",
       "      <td>0</td>\n",
       "      <td>0</td>\n",
       "      <td>0</td>\n",
       "      <td>0</td>\n",
       "      <td>0</td>\n",
       "      <td>0</td>\n",
       "      <td>0</td>\n",
       "      <td>0</td>\n",
       "    </tr>\n",
       "    <tr>\n",
       "      <th>...</th>\n",
       "      <td>...</td>\n",
       "      <td>...</td>\n",
       "      <td>...</td>\n",
       "      <td>...</td>\n",
       "      <td>...</td>\n",
       "      <td>...</td>\n",
       "      <td>...</td>\n",
       "      <td>...</td>\n",
       "      <td>...</td>\n",
       "      <td>...</td>\n",
       "      <td>...</td>\n",
       "      <td>...</td>\n",
       "      <td>...</td>\n",
       "      <td>...</td>\n",
       "      <td>...</td>\n",
       "      <td>...</td>\n",
       "      <td>...</td>\n",
       "      <td>...</td>\n",
       "      <td>...</td>\n",
       "      <td>...</td>\n",
       "    </tr>\n",
       "    <tr>\n",
       "      <th>18952980</th>\n",
       "      <td>&lt;NA&gt;</td>\n",
       "      <td>16216912</td>\n",
       "      <td>MAIN</td>\n",
       "      <td>magnesiumsulfate</td>\n",
       "      <td>MAG2PM</td>\n",
       "      <td>NaN</td>\n",
       "      <td>1</td>\n",
       "      <td>1</td>\n",
       "      <td>0</td>\n",
       "      <td>1</td>\n",
       "      <td>0</td>\n",
       "      <td>0</td>\n",
       "      <td>0</td>\n",
       "      <td>0</td>\n",
       "      <td>0</td>\n",
       "      <td>0</td>\n",
       "      <td>0</td>\n",
       "      <td>0</td>\n",
       "      <td>0</td>\n",
       "      <td>1</td>\n",
       "    </tr>\n",
       "    <tr>\n",
       "      <th>18952981</th>\n",
       "      <td>&lt;NA&gt;</td>\n",
       "      <td>16216929</td>\n",
       "      <td>MAIN</td>\n",
       "      <td>atropinesulfate</td>\n",
       "      <td>ATRO1I</td>\n",
       "      <td>NaN</td>\n",
       "      <td>1</td>\n",
       "      <td>0</td>\n",
       "      <td>0</td>\n",
       "      <td>0</td>\n",
       "      <td>0</td>\n",
       "      <td>0</td>\n",
       "      <td>0</td>\n",
       "      <td>0</td>\n",
       "      <td>0</td>\n",
       "      <td>0</td>\n",
       "      <td>0</td>\n",
       "      <td>0</td>\n",
       "      <td>1</td>\n",
       "      <td>0</td>\n",
       "    </tr>\n",
       "    <tr>\n",
       "      <th>18952982</th>\n",
       "      <td>&lt;NA&gt;</td>\n",
       "      <td>16216941</td>\n",
       "      <td>MAIN</td>\n",
       "      <td>phenylephrine</td>\n",
       "      <td>PHEN10I</td>\n",
       "      <td>NaN</td>\n",
       "      <td>0</td>\n",
       "      <td>0</td>\n",
       "      <td>1</td>\n",
       "      <td>0</td>\n",
       "      <td>0</td>\n",
       "      <td>0</td>\n",
       "      <td>0</td>\n",
       "      <td>0</td>\n",
       "      <td>0</td>\n",
       "      <td>0</td>\n",
       "      <td>0</td>\n",
       "      <td>1</td>\n",
       "      <td>1</td>\n",
       "      <td>0</td>\n",
       "    </tr>\n",
       "    <tr>\n",
       "      <th>18952983</th>\n",
       "      <td>&lt;NA&gt;</td>\n",
       "      <td>16216977</td>\n",
       "      <td>MAIN</td>\n",
       "      <td>propofol</td>\n",
       "      <td>PROP100IG</td>\n",
       "      <td>NaN</td>\n",
       "      <td>0</td>\n",
       "      <td>0</td>\n",
       "      <td>0</td>\n",
       "      <td>0</td>\n",
       "      <td>0</td>\n",
       "      <td>0</td>\n",
       "      <td>0</td>\n",
       "      <td>0</td>\n",
       "      <td>0</td>\n",
       "      <td>1</td>\n",
       "      <td>0</td>\n",
       "      <td>0</td>\n",
       "      <td>0</td>\n",
       "      <td>0</td>\n",
       "    </tr>\n",
       "    <tr>\n",
       "      <th>18952984</th>\n",
       "      <td>&lt;NA&gt;</td>\n",
       "      <td>16216982</td>\n",
       "      <td>MAIN</td>\n",
       "      <td>norepinephrine</td>\n",
       "      <td>NORE8/250</td>\n",
       "      <td>NaN</td>\n",
       "      <td>0</td>\n",
       "      <td>0</td>\n",
       "      <td>1</td>\n",
       "      <td>0</td>\n",
       "      <td>0</td>\n",
       "      <td>0</td>\n",
       "      <td>0</td>\n",
       "      <td>0</td>\n",
       "      <td>0</td>\n",
       "      <td>0</td>\n",
       "      <td>0</td>\n",
       "      <td>0</td>\n",
       "      <td>0</td>\n",
       "      <td>0</td>\n",
       "    </tr>\n",
       "  </tbody>\n",
       "</table>\n",
       "<p>18952985 rows × 20 columns</p>\n",
       "</div>"
      ],
      "text/plain": [
       "           ndc  join_on_index drug_type                 drug  \\\n",
       "0         <NA>              1      MAIN  sodiumchlorideflush   \n",
       "1         <NA>             22      MAIN  sodiumchlorideflush   \n",
       "2         <NA>             39      BASE       sodiumchloride   \n",
       "3         <NA>             50      MAIN  sodiumchlorideflush   \n",
       "4         <NA>             51      BASE       sodiumchloride   \n",
       "...        ...            ...       ...                  ...   \n",
       "18952980  <NA>       16216912      MAIN     magnesiumsulfate   \n",
       "18952981  <NA>       16216929      MAIN      atropinesulfate   \n",
       "18952982  <NA>       16216941      MAIN        phenylephrine   \n",
       "18952983  <NA>       16216977      MAIN             propofol   \n",
       "18952984  <NA>       16216982      MAIN       norepinephrine   \n",
       "\n",
       "         formulary_drug_cd  gsn  A  B  C  D  G  H  J  L  M  N  P  R  S  V  \n",
       "0                NACLFLUSH  NaN  1  1  0  0  0  0  0  0  0  0  0  0  0  0  \n",
       "1                NACLFLUSH  NaN  1  1  0  0  0  0  0  0  0  0  0  0  0  0  \n",
       "2                  NS100CG  NaN  1  1  0  0  0  0  0  0  0  0  0  0  0  0  \n",
       "3                NACLFLUSH  NaN  1  1  0  0  0  0  0  0  0  0  0  0  0  0  \n",
       "4                  NS100CG  NaN  1  1  0  0  0  0  0  0  0  0  0  0  0  0  \n",
       "...                    ...  ... .. .. .. .. .. .. .. .. .. .. .. .. .. ..  \n",
       "18952980            MAG2PM  NaN  1  1  0  1  0  0  0  0  0  0  0  0  0  1  \n",
       "18952981            ATRO1I  NaN  1  0  0  0  0  0  0  0  0  0  0  0  1  0  \n",
       "18952982           PHEN10I  NaN  0  0  1  0  0  0  0  0  0  0  0  1  1  0  \n",
       "18952983         PROP100IG  NaN  0  0  0  0  0  0  0  0  0  1  0  0  0  0  \n",
       "18952984         NORE8/250  NaN  0  0  1  0  0  0  0  0  0  0  0  0  0  0  \n",
       "\n",
       "[18952985 rows x 20 columns]"
      ]
     },
     "execution_count": 52,
     "metadata": {},
     "output_type": "execute_result"
    }
   ],
   "source": [
    "cat_pres"
   ]
  },
  {
   "cell_type": "code",
   "execution_count": 51,
   "id": "e3673197",
   "metadata": {
    "ExecuteTime": {
     "end_time": "2022-10-12T22:23:24.909385Z",
     "start_time": "2022-10-12T22:23:24.885231Z"
    }
   },
   "outputs": [
    {
     "data": {
      "text/html": [
       "<div>\n",
       "<style scoped>\n",
       "    .dataframe tbody tr th:only-of-type {\n",
       "        vertical-align: middle;\n",
       "    }\n",
       "\n",
       "    .dataframe tbody tr th {\n",
       "        vertical-align: top;\n",
       "    }\n",
       "\n",
       "    .dataframe thead th {\n",
       "        text-align: right;\n",
       "    }\n",
       "</style>\n",
       "<table border=\"1\" class=\"dataframe\">\n",
       "  <thead>\n",
       "    <tr style=\"text-align: right;\">\n",
       "      <th></th>\n",
       "      <th>join_on_index</th>\n",
       "      <th>subject_id</th>\n",
       "      <th>hadm_id</th>\n",
       "      <th>starttime</th>\n",
       "      <th>drug_type</th>\n",
       "      <th>drug</th>\n",
       "      <th>formulary_drug_cd</th>\n",
       "      <th>gsn</th>\n",
       "      <th>route</th>\n",
       "      <th>stay_id_ind</th>\n",
       "    </tr>\n",
       "    <tr>\n",
       "      <th>ndc</th>\n",
       "      <th></th>\n",
       "      <th></th>\n",
       "      <th></th>\n",
       "      <th></th>\n",
       "      <th></th>\n",
       "      <th></th>\n",
       "      <th></th>\n",
       "      <th></th>\n",
       "      <th></th>\n",
       "      <th></th>\n",
       "    </tr>\n",
       "  </thead>\n",
       "  <tbody>\n",
       "    <tr>\n",
       "      <th>904198861</th>\n",
       "      <td>0</td>\n",
       "      <td>10000032</td>\n",
       "      <td>22595853</td>\n",
       "      <td>2180-05-07 01:00:00</td>\n",
       "      <td>MAIN</td>\n",
       "      <td>Acetaminophen</td>\n",
       "      <td>APAP500</td>\n",
       "      <td>004490</td>\n",
       "      <td>PO/NG</td>\n",
       "      <td>0</td>\n",
       "    </tr>\n",
       "    <tr>\n",
       "      <th>0</th>\n",
       "      <td>1</td>\n",
       "      <td>10000032</td>\n",
       "      <td>22595853</td>\n",
       "      <td>2180-05-07 00:00:00</td>\n",
       "      <td>MAIN</td>\n",
       "      <td>Sodium Chloride 0.9%  Flush</td>\n",
       "      <td>NACLFLUSH</td>\n",
       "      <td>NaN</td>\n",
       "      <td>IV</td>\n",
       "      <td>0</td>\n",
       "    </tr>\n",
       "    <tr>\n",
       "      <th>51079007320</th>\n",
       "      <td>2</td>\n",
       "      <td>10000032</td>\n",
       "      <td>22595853</td>\n",
       "      <td>2180-05-08 08:00:00</td>\n",
       "      <td>MAIN</td>\n",
       "      <td>Furosemide</td>\n",
       "      <td>FURO40</td>\n",
       "      <td>008209</td>\n",
       "      <td>PO/NG</td>\n",
       "      <td>0</td>\n",
       "    </tr>\n",
       "    <tr>\n",
       "      <th>6022761</th>\n",
       "      <td>3</td>\n",
       "      <td>10000032</td>\n",
       "      <td>22595853</td>\n",
       "      <td>2180-05-07 01:00:00</td>\n",
       "      <td>MAIN</td>\n",
       "      <td>Raltegravir</td>\n",
       "      <td>RALT400</td>\n",
       "      <td>063231</td>\n",
       "      <td>PO</td>\n",
       "      <td>0</td>\n",
       "    </tr>\n",
       "    <tr>\n",
       "      <th>63323026201</th>\n",
       "      <td>4</td>\n",
       "      <td>10000032</td>\n",
       "      <td>22595853</td>\n",
       "      <td>2180-05-07 00:00:00</td>\n",
       "      <td>MAIN</td>\n",
       "      <td>Heparin</td>\n",
       "      <td>HEPA5I</td>\n",
       "      <td>006549</td>\n",
       "      <td>SC</td>\n",
       "      <td>0</td>\n",
       "    </tr>\n",
       "    <tr>\n",
       "      <th>...</th>\n",
       "      <td>...</td>\n",
       "      <td>...</td>\n",
       "      <td>...</td>\n",
       "      <td>...</td>\n",
       "      <td>...</td>\n",
       "      <td>...</td>\n",
       "      <td>...</td>\n",
       "      <td>...</td>\n",
       "      <td>...</td>\n",
       "      <td>...</td>\n",
       "    </tr>\n",
       "    <tr>\n",
       "      <th>12280027016</th>\n",
       "      <td>18952980</td>\n",
       "      <td>19999828</td>\n",
       "      <td>32917002</td>\n",
       "      <td>2149-01-08 09:41:00</td>\n",
       "      <td>NaN</td>\n",
       "      <td>fluticasone</td>\n",
       "      <td>NaN</td>\n",
       "      <td>18368</td>\n",
       "      <td>NaN</td>\n",
       "      <td>1</td>\n",
       "    </tr>\n",
       "    <tr>\n",
       "      <th>11845110101</th>\n",
       "      <td>18952981</td>\n",
       "      <td>19999828</td>\n",
       "      <td>32917002</td>\n",
       "      <td>2149-01-08 09:41:00</td>\n",
       "      <td>NaN</td>\n",
       "      <td>glipizide</td>\n",
       "      <td>NaN</td>\n",
       "      <td>1776</td>\n",
       "      <td>NaN</td>\n",
       "      <td>1</td>\n",
       "    </tr>\n",
       "    <tr>\n",
       "      <th>10544007120</th>\n",
       "      <td>18952982</td>\n",
       "      <td>19999828</td>\n",
       "      <td>32917002</td>\n",
       "      <td>2149-01-08 09:41:00</td>\n",
       "      <td>NaN</td>\n",
       "      <td>ibuprofen</td>\n",
       "      <td>NaN</td>\n",
       "      <td>8350</td>\n",
       "      <td>NaN</td>\n",
       "      <td>1</td>\n",
       "    </tr>\n",
       "    <tr>\n",
       "      <th>10544093814</th>\n",
       "      <td>18952983</td>\n",
       "      <td>19999828</td>\n",
       "      <td>32917002</td>\n",
       "      <td>2149-01-08 09:41:00</td>\n",
       "      <td>NaN</td>\n",
       "      <td>metronidazole</td>\n",
       "      <td>NaN</td>\n",
       "      <td>9592</td>\n",
       "      <td>NaN</td>\n",
       "      <td>1</td>\n",
       "    </tr>\n",
       "    <tr>\n",
       "      <th>10544034130</th>\n",
       "      <td>18952984</td>\n",
       "      <td>19999828</td>\n",
       "      <td>32917002</td>\n",
       "      <td>2149-01-08 09:41:00</td>\n",
       "      <td>NaN</td>\n",
       "      <td>omeprazole</td>\n",
       "      <td>NaN</td>\n",
       "      <td>33530</td>\n",
       "      <td>NaN</td>\n",
       "      <td>1</td>\n",
       "    </tr>\n",
       "  </tbody>\n",
       "</table>\n",
       "<p>18952985 rows × 10 columns</p>\n",
       "</div>"
      ],
      "text/plain": [
       "             join_on_index  subject_id   hadm_id            starttime  \\\n",
       "ndc                                                                     \n",
       "904198861                0    10000032  22595853  2180-05-07 01:00:00   \n",
       "0                        1    10000032  22595853  2180-05-07 00:00:00   \n",
       "51079007320              2    10000032  22595853  2180-05-08 08:00:00   \n",
       "6022761                  3    10000032  22595853  2180-05-07 01:00:00   \n",
       "63323026201              4    10000032  22595853  2180-05-07 00:00:00   \n",
       "...                    ...         ...       ...                  ...   \n",
       "12280027016       18952980    19999828  32917002  2149-01-08 09:41:00   \n",
       "11845110101       18952981    19999828  32917002  2149-01-08 09:41:00   \n",
       "10544007120       18952982    19999828  32917002  2149-01-08 09:41:00   \n",
       "10544093814       18952983    19999828  32917002  2149-01-08 09:41:00   \n",
       "10544034130       18952984    19999828  32917002  2149-01-08 09:41:00   \n",
       "\n",
       "            drug_type                         drug formulary_drug_cd     gsn  \\\n",
       "ndc                                                                            \n",
       "904198861        MAIN                Acetaminophen           APAP500  004490   \n",
       "0                MAIN  Sodium Chloride 0.9%  Flush         NACLFLUSH     NaN   \n",
       "51079007320      MAIN                   Furosemide            FURO40  008209   \n",
       "6022761          MAIN                  Raltegravir           RALT400  063231   \n",
       "63323026201      MAIN                      Heparin            HEPA5I  006549   \n",
       "...               ...                          ...               ...     ...   \n",
       "12280027016       NaN                  fluticasone               NaN   18368   \n",
       "11845110101       NaN                    glipizide               NaN    1776   \n",
       "10544007120       NaN                    ibuprofen               NaN    8350   \n",
       "10544093814       NaN                metronidazole               NaN    9592   \n",
       "10544034130       NaN                   omeprazole               NaN   33530   \n",
       "\n",
       "             route  stay_id_ind  \n",
       "ndc                              \n",
       "904198861    PO/NG            0  \n",
       "0               IV            0  \n",
       "51079007320  PO/NG            0  \n",
       "6022761         PO            0  \n",
       "63323026201     SC            0  \n",
       "...            ...          ...  \n",
       "12280027016    NaN            1  \n",
       "11845110101    NaN            1  \n",
       "10544007120    NaN            1  \n",
       "10544093814    NaN            1  \n",
       "10544034130    NaN            1  \n",
       "\n",
       "[18952985 rows x 10 columns]"
      ]
     },
     "execution_count": 51,
     "metadata": {},
     "output_type": "execute_result"
    }
   ],
   "source": [
    "prescriptions"
   ]
  },
  {
   "cell_type": "code",
   "execution_count": 62,
   "id": "c8b63b27",
   "metadata": {
    "ExecuteTime": {
     "end_time": "2022-10-12T22:28:39.746645Z",
     "start_time": "2022-10-12T22:28:33.596657Z"
    }
   },
   "outputs": [],
   "source": [
    "cat.append('join_on_index')\n",
    "cat_pres = cat_pres[cat].set_index('join_on_index',drop = True)\n",
    "prescriptions = prescriptions[['subject_id','hadm_id','starttime','stay_id_ind','join_on_index']].set_index('join_on_index', drop = True)\n",
    "prescriptions_final = prescriptions.join(cat_pres)"
   ]
  },
  {
   "cell_type": "code",
   "execution_count": 65,
   "id": "48569240",
   "metadata": {
    "ExecuteTime": {
     "end_time": "2022-10-12T22:30:52.506542Z",
     "start_time": "2022-10-12T22:29:26.258398Z"
    }
   },
   "outputs": [],
   "source": [
    "prescriptions_final.to_csv('prescriptions_final.csv')"
   ]
  },
  {
   "cell_type": "code",
   "execution_count": null,
   "id": "c2f2b68d",
   "metadata": {
    "deletable": false,
    "editable": false,
    "run_control": {
     "frozen": true
    }
   },
   "outputs": [],
   "source": [
    "non_null_cats = cat_pres.A>=0\n",
    "cat_pres = cat_pres.loc[non_null_cats,cat]\n",
    "prescriptions = prescriptions[['subject_id','hadm_id','starttime']]\n",
    "prescriptions = prescriptions.join(cat_pres)\n",
    "prescriptions.reset_index(drop = True, inplace = True)"
   ]
  },
  {
   "cell_type": "code",
   "execution_count": null,
   "id": "a8b8a681",
   "metadata": {
    "deletable": false,
    "editable": false,
    "run_control": {
     "frozen": true
    },
    "scrolled": true
   },
   "outputs": [],
   "source": [
    "cat_pres.A.value_counts(normalize = True)*100"
   ]
  },
  {
   "cell_type": "code",
   "execution_count": null,
   "id": "2d1ba554",
   "metadata": {
    "deletable": false,
    "editable": false,
    "run_control": {
     "frozen": true
    }
   },
   "outputs": [],
   "source": [
    "unclass_drugs = cat_pres.drug[cat_pres.A<0].drop_duplicates()\n",
    "udrugs_gsnvc = cat_pres.gsn[cat_pres.A<0].value_counts()\n",
    "gsn_udrugs = udrugs_gsnvc[udrugs_gsnvc>1].index.values"
   ]
  },
  {
   "cell_type": "code",
   "execution_count": null,
   "id": "a72c3fb7",
   "metadata": {
    "deletable": false,
    "editable": false,
    "run_control": {
     "frozen": true
    }
   },
   "outputs": [],
   "source": [
    "cat.append('gsn')\n",
    "cat_gsn = cat_pres.loc[cat_pres.gsn.isin(gsn_udrugs),cat].groupby('gsn').max()\n",
    "cat_gsn = cat_gsn[cat_gsn.A>-1]\n",
    "cat_gsn"
   ]
  },
  {
   "cell_type": "code",
   "execution_count": null,
   "id": "85475b2d",
   "metadata": {
    "deletable": false,
    "editable": false,
    "run_control": {
     "frozen": true
    }
   },
   "outputs": [],
   "source": [
    "cat = cat[:-1]\n",
    "cat_pres[cat] = cat_pres[cat].where(cat_pres[cat]>=0)"
   ]
  },
  {
   "cell_type": "code",
   "execution_count": null,
   "id": "27529320",
   "metadata": {
    "deletable": false,
    "editable": false,
    "run_control": {
     "frozen": true
    }
   },
   "outputs": [],
   "source": [
    "cat_pres.set_index(ind,append = True)"
   ]
  },
  {
   "cell_type": "code",
   "execution_count": null,
   "id": "558a48a7",
   "metadata": {
    "deletable": false,
    "editable": false,
    "run_control": {
     "frozen": true
    }
   },
   "outputs": [],
   "source": [
    "cat_pres.set_index('gsn', inplace = True)\n",
    "cat_pres.update(cat_gsn)\n",
    "cat_pres.set_index(ind)"
   ]
  },
  {
   "cell_type": "code",
   "execution_count": null,
   "id": "373ea0ac",
   "metadata": {
    "deletable": false,
    "editable": false,
    "run_control": {
     "frozen": true
    }
   },
   "outputs": [],
   "source": [
    "cat_pres.head()"
   ]
  },
  {
   "cell_type": "code",
   "execution_count": null,
   "id": "62ede993",
   "metadata": {
    "deletable": false,
    "editable": false,
    "run_control": {
     "frozen": true
    }
   },
   "outputs": [],
   "source": [
    "sum(cat_pres.drug.str.contains('polyvalent'))"
   ]
  },
  {
   "cell_type": "code",
   "execution_count": null,
   "id": "9538c3a8",
   "metadata": {
    "deletable": false,
    "editable": false,
    "run_control": {
     "frozen": true
    }
   },
   "outputs": [],
   "source": [
    "cat_pres.gsn[misspelt_drugs_bool].value_counts().describe()"
   ]
  },
  {
   "cell_type": "code",
   "execution_count": null,
   "id": "70ad53aa",
   "metadata": {
    "deletable": false,
    "editable": false,
    "run_control": {
     "frozen": true
    }
   },
   "outputs": [],
   "source": [
    "(5303415+7791711)/len(cat_pres)"
   ]
  },
  {
   "cell_type": "code",
   "execution_count": null,
   "id": "e92088ad",
   "metadata": {
    "deletable": false,
    "editable": false,
    "run_control": {
     "frozen": true
    }
   },
   "outputs": [],
   "source": []
  },
  {
   "cell_type": "code",
   "execution_count": null,
   "id": "f180a082",
   "metadata": {
    "deletable": false,
    "editable": false,
    "run_control": {
     "frozen": true
    }
   },
   "outputs": [],
   "source": []
  },
  {
   "cell_type": "code",
   "execution_count": null,
   "id": "83b9b6d9",
   "metadata": {
    "deletable": false,
    "editable": false,
    "run_control": {
     "frozen": true
    }
   },
   "outputs": [],
   "source": []
  },
  {
   "cell_type": "code",
   "execution_count": null,
   "id": "f7f97f26",
   "metadata": {
    "deletable": false,
    "editable": false,
    "run_control": {
     "frozen": true
    }
   },
   "outputs": [],
   "source": [
    "cat"
   ]
  },
  {
   "cell_type": "code",
   "execution_count": null,
   "id": "cdf58a45",
   "metadata": {
    "deletable": false,
    "editable": false,
    "run_control": {
     "frozen": true
    }
   },
   "outputs": [],
   "source": [
    "cat = list('ABCDGHJLMNPRSV')\n",
    "cat.append('drug')\n",
    "cat_drug = cat_pres[cat].fillna(0.0001).groupby('formulary_drug_cd',dropna = False).sum()\n",
    "cat_drug"
   ]
  },
  {
   "cell_type": "code",
   "execution_count": null,
   "id": "4f0639ad",
   "metadata": {
    "deletable": false,
    "editable": false,
    "run_control": {
     "frozen": true
    }
   },
   "outputs": [],
   "source": []
  },
  {
   "cell_type": "code",
   "execution_count": null,
   "id": "87786be5",
   "metadata": {
    "deletable": false,
    "editable": false,
    "run_control": {
     "frozen": true
    }
   },
   "outputs": [],
   "source": [
    "atr4_pres.atc4_name.nunique()"
   ]
  },
  {
   "cell_type": "markdown",
   "id": "bc492f33",
   "metadata": {
    "deletable": false,
    "editable": false,
    "run_control": {
     "frozen": true
    }
   },
   "source": [
    "The missing values labelled as 0 are now empty strings due to the conversion. There may be other values that are not 0, maybe even some could be in other ndc formats (hyphenated or with less digits). We can find out how many rows have which number of digits."
   ]
  },
  {
   "cell_type": "markdown",
   "id": "3ea91aca",
   "metadata": {
    "deletable": false,
    "editable": false,
    "run_control": {
     "frozen": true
    }
   },
   "source": [
    "So all fields that do not have 9-digit numbers have no digits. We can consider all of these as missing values."
   ]
  },
  {
   "cell_type": "markdown",
   "id": "7bda0099",
   "metadata": {
    "deletable": false,
    "editable": false,
    "run_control": {
     "frozen": true
    }
   },
   "source": [
    "More than 12% of ndc fields are missing. Some of the drugs listed here may not have an ndc (Sodium Chloride flush on 2nd row for instance), but others may be mistakes. NDC is specific to product, not to drug (same drug from different companies will have a different code) so filling from the table would not be very accurate. Given that what we need the NDC just to classify our drugs, we will leave these fields blank and will fill the categories instead after NDC-matching.\n"
   ]
  },
  {
   "cell_type": "code",
   "execution_count": null,
   "id": "229ef0de",
   "metadata": {
    "deletable": false,
    "editable": false,
    "run_control": {
     "frozen": true
    }
   },
   "outputs": [],
   "source": [
    "prescriptions.ndc[~missing_ndc].drop_duplicates().to_csv('Unique_NDCs.csv')"
   ]
  },
  {
   "cell_type": "markdown",
   "id": "f411d1f5",
   "metadata": {
    "deletable": false,
    "editable": false,
    "run_control": {
     "frozen": true
    }
   },
   "source": [
    "Let us see if we can fill these missing values by using the other fields in the table. pharmacy_id, gsn, drug and formulary_drug_cd could be used for this."
   ]
  },
  {
   "cell_type": "code",
   "execution_count": null,
   "id": "cb1ce5d9",
   "metadata": {
    "deletable": false,
    "editable": false,
    "run_control": {
     "frozen": true
    }
   },
   "outputs": [],
   "source": [
    "prescriptions.formulary_drug_cd.info()"
   ]
  },
  {
   "cell_type": "code",
   "execution_count": null,
   "id": "3457a8da",
   "metadata": {
    "deletable": false,
    "editable": false,
    "run_control": {
     "frozen": true
    }
   },
   "outputs": [],
   "source": [
    "fdrugna = prescriptions[prescriptions.formulary_drug_cd.isna()]"
   ]
  },
  {
   "cell_type": "code",
   "execution_count": null,
   "id": "9807b9d0",
   "metadata": {
    "deletable": false,
    "editable": false,
    "run_control": {
     "frozen": true
    }
   },
   "outputs": [],
   "source": [
    "def df_filler(x):\n",
    "    \n",
    "\n",
    "prescriptions.formulary_drug_cd[prescriptions.drug.isin(fdrugna.drug)].isna()"
   ]
  },
  {
   "cell_type": "code",
   "execution_count": null,
   "id": "54a02f04",
   "metadata": {
    "deletable": false,
    "editable": false,
    "run_control": {
     "frozen": true
    }
   },
   "outputs": [],
   "source": [
    "prescriptions.gsn.value_counts()"
   ]
  },
  {
   "cell_type": "code",
   "execution_count": null,
   "id": "888b8515",
   "metadata": {
    "deletable": false,
    "editable": false,
    "run_control": {
     "frozen": true
    }
   },
   "outputs": [],
   "source": [
    "prescriptions.pharmacy_id.value_counts()"
   ]
  },
  {
   "cell_type": "code",
   "execution_count": null,
   "id": "36c18913",
   "metadata": {
    "deletable": false,
    "editable": false,
    "run_control": {
     "frozen": true
    }
   },
   "outputs": [],
   "source": [
    "prescriptions.formulary_drug_cd.value_counts()"
   ]
  },
  {
   "cell_type": "code",
   "execution_count": null,
   "id": "cb311fdf",
   "metadata": {
    "deletable": false,
    "editable": false,
    "run_control": {
     "frozen": true
    }
   },
   "outputs": [],
   "source": [
    "prescriptions.formulary_drug_cd.info()"
   ]
  },
  {
   "cell_type": "code",
   "execution_count": null,
   "id": "beab344e",
   "metadata": {
    "deletable": false,
    "editable": false,
    "run_control": {
     "frozen": true
    }
   },
   "outputs": [],
   "source": [
    "prescriptions.drug = prescriptions.drug.str.lower()\n",
    "prescriptions.drug.value_counts().describe()"
   ]
  },
  {
   "cell_type": "code",
   "execution_count": null,
   "id": "b6b2de19",
   "metadata": {
    "deletable": false,
    "editable": false,
    "run_control": {
     "frozen": true
    }
   },
   "outputs": [],
   "source": [
    "ndc_bool = prescriptions.ndc!=u'' & prescriptions \n",
    "print(sum(ndc_bool))\n",
    "print(sum(~ndc_bool))"
   ]
  },
  {
   "cell_type": "code",
   "execution_count": null,
   "id": "557bc9d0",
   "metadata": {
    "deletable": false,
    "editable": false,
    "run_control": {
     "frozen": true
    }
   },
   "outputs": [],
   "source": [
    "elswhr_bool = prescriptions.loc[~ndc_bool,'drug'].isin(prescriptions.loc[ndc_bool,'drug'])\n",
    "print(round(sum(elswhr_bool)/sum(~ndc_bool)*100,2))"
   ]
  },
  {
   "cell_type": "code",
   "execution_count": null,
   "id": "388b91bf",
   "metadata": {
    "deletable": false,
    "editable": false,
    "run_control": {
     "frozen": true
    }
   },
   "outputs": [],
   "source": [
    "prescriptions.loc[elswhr_bool,'ndc'] = prescriptions.loc[ndc_bool*prescriptions.,'ndc']"
   ]
  },
  {
   "cell_type": "code",
   "execution_count": null,
   "id": "4498b3f9",
   "metadata": {
    "deletable": false,
    "editable": false,
    "run_control": {
     "frozen": true
    }
   },
   "outputs": [],
   "source": [
    "prescriptions.ndc.nunique()"
   ]
  },
  {
   "cell_type": "code",
   "execution_count": null,
   "id": "b383b0dc",
   "metadata": {
    "deletable": false,
    "editable": false,
    "run_control": {
     "frozen": true
    }
   },
   "outputs": [],
   "source": [
    "import numpy as np"
   ]
  },
  {
   "cell_type": "code",
   "execution_count": null,
   "id": "e96a833c",
   "metadata": {
    "deletable": false,
    "editable": false,
    "run_control": {
     "frozen": true
    }
   },
   "outputs": [],
   "source": [
    "medication = pd.read_json(r'C:\\Users\\Nacho\\Downloads\\Medication.ndjson', lines = True)"
   ]
  },
  {
   "cell_type": "code",
   "execution_count": null,
   "id": "9126f251",
   "metadata": {
    "deletable": false,
    "editable": false,
    "run_control": {
     "frozen": true
    }
   },
   "outputs": [],
   "source": [
    "medication.shape"
   ]
  },
  {
   "cell_type": "code",
   "execution_count": null,
   "id": "4a4b5069",
   "metadata": {
    "deletable": false,
    "editable": false,
    "run_control": {
     "frozen": true
    }
   },
   "outputs": [],
   "source": [
    "prescriptions.ndc.head()"
   ]
  },
  {
   "cell_type": "code",
   "execution_count": null,
   "id": "051e4488",
   "metadata": {
    "deletable": false,
    "editable": false,
    "run_control": {
     "frozen": true
    }
   },
   "outputs": [],
   "source": [
    "ndc_desc = pd.read_csv(\"G:\\My Drive\\Brainstation\\Capstone project\\product.csv\",usecols = ['PRODUCTNDC','NONPROPRIETARYNAME','PHARM_CLASSES'])"
   ]
  },
  {
   "cell_type": "code",
   "execution_count": null,
   "id": "ebfc7887",
   "metadata": {
    "deletable": false,
    "editable": false,
    "run_control": {
     "frozen": true
    }
   },
   "outputs": [],
   "source": [
    "ndc_desc = ndc_desc.loc[~ndc_desc.PHARM_CLASSES.isna()].reset_index(drop = True)"
   ]
  },
  {
   "cell_type": "code",
   "execution_count": null,
   "id": "ca34f015",
   "metadata": {
    "deletable": false,
    "editable": false,
    "run_control": {
     "frozen": true
    }
   },
   "outputs": [],
   "source": [
    "ndc_desc.head()"
   ]
  },
  {
   "cell_type": "code",
   "execution_count": null,
   "id": "f95d32c0",
   "metadata": {
    "deletable": false,
    "editable": false,
    "run_control": {
     "frozen": true
    }
   },
   "outputs": [],
   "source": [
    "def sht2nineNDC(x):\n",
    "    x = x.split('-')\n",
    "    x = x[0].zfill(5) + x[1].zfill(4)\n",
    "    \n",
    "    return x\n",
    "    \n",
    "\n",
    "ndc_desc.PRODUCTNDC = ndc_desc.PRODUCTNDC.apply(sht2nineNDC)"
   ]
  },
  {
   "cell_type": "code",
   "execution_count": null,
   "id": "e439199c",
   "metadata": {
    "deletable": false,
    "editable": false,
    "run_control": {
     "frozen": true
    }
   },
   "outputs": [],
   "source": [
    "ndc_desc.PRODUCTNDC.head()"
   ]
  },
  {
   "cell_type": "code",
   "execution_count": null,
   "id": "c3338cf3",
   "metadata": {
    "deletable": false,
    "editable": false,
    "run_control": {
     "frozen": true
    }
   },
   "outputs": [],
   "source": [
    "classpername = ndc_desc[['NONPROPRIETARYNAME','PHARM_CLASSES']].groupby('NONPROPRIETARYNAME').nunique()"
   ]
  },
  {
   "cell_type": "code",
   "execution_count": null,
   "id": "3538812a",
   "metadata": {
    "deletable": false,
    "editable": false,
    "run_control": {
     "frozen": true
    }
   },
   "outputs": [],
   "source": [
    "classperndc = ndc_desc[['PRODUCTNDC','PHARM_CLASSES']].groupby('PRODUCTNDC').nunique()"
   ]
  },
  {
   "cell_type": "code",
   "execution_count": null,
   "id": "5bd99d0e",
   "metadata": {
    "deletable": false,
    "editable": false,
    "run_control": {
     "frozen": true
    }
   },
   "outputs": [],
   "source": [
    "classpername.value_counts()"
   ]
  },
  {
   "cell_type": "code",
   "execution_count": null,
   "id": "8f4b94a4",
   "metadata": {
    "deletable": false,
    "editable": false,
    "run_control": {
     "frozen": true
    }
   },
   "outputs": [],
   "source": [
    "classperndc.value_counts()"
   ]
  },
  {
   "cell_type": "code",
   "execution_count": null,
   "id": "ccb1934a",
   "metadata": {
    "deletable": false,
    "editable": false,
    "run_control": {
     "frozen": true
    }
   },
   "outputs": [],
   "source": [
    "np.mean(prescriptions.ndc.isna())*100"
   ]
  },
  {
   "cell_type": "code",
   "execution_count": null,
   "id": "20ab4066",
   "metadata": {
    "deletable": false,
    "editable": false,
    "run_control": {
     "frozen": true
    },
    "scrolled": true
   },
   "outputs": [],
   "source": [
    "prescriptions.loc[prescriptions.ndc.isna()].head(10)"
   ]
  },
  {
   "cell_type": "code",
   "execution_count": null,
   "id": "21a5ff77",
   "metadata": {
    "deletable": false,
    "editable": false,
    "run_control": {
     "frozen": true
    }
   },
   "outputs": [],
   "source": [
    "ndc_desc.rename(columns = {'PRODUCTNDC' : 'ndc'},inplace = True)"
   ]
  },
  {
   "cell_type": "code",
   "execution_count": null,
   "id": "2bc66cbb",
   "metadata": {
    "deletable": false,
    "editable": false,
    "run_control": {
     "frozen": true
    }
   },
   "outputs": [],
   "source": [
    "presfinal = pd.merge(prescriptions,ndc_desc, how = 'left',on = 'ndc')"
   ]
  },
  {
   "cell_type": "code",
   "execution_count": null,
   "id": "5b77297d",
   "metadata": {
    "deletable": false,
    "editable": false,
    "run_control": {
     "frozen": true
    }
   },
   "outputs": [],
   "source": [
    "np.mean(presfinal.PHARM_CLASSES.isna())"
   ]
  },
  {
   "cell_type": "code",
   "execution_count": null,
   "id": "e6ddbf13",
   "metadata": {
    "deletable": false,
    "editable": false,
    "run_control": {
     "frozen": true
    }
   },
   "outputs": [],
   "source": [
    "np.mean(presfinal.NONPROPRIETARYNAME.isna())"
   ]
  },
  {
   "cell_type": "code",
   "execution_count": null,
   "id": "56ae3526",
   "metadata": {
    "deletable": false,
    "editable": false,
    "run_control": {
     "frozen": true
    }
   },
   "outputs": [],
   "source": [
    "presfinal[['ndc','drug','NONPROPRIETARYNAME','PHARM_CLASSES']]"
   ]
  },
  {
   "cell_type": "code",
   "execution_count": null,
   "id": "21dfadce",
   "metadata": {
    "deletable": false,
    "editable": false,
    "run_control": {
     "frozen": true
    }
   },
   "outputs": [],
   "source": [
    "presfinal.hadm_id.nunique()"
   ]
  },
  {
   "cell_type": "code",
   "execution_count": null,
   "id": "08366bdf",
   "metadata": {
    "deletable": false,
    "editable": false,
    "run_control": {
     "frozen": true
    }
   },
   "outputs": [],
   "source": [
    "len(presfinal.PHARM_CLASSES.isna())-sum(presfinal.PHARM_CLASSES.isna())"
   ]
  },
  {
   "cell_type": "code",
   "execution_count": null,
   "id": "8215c795",
   "metadata": {
    "deletable": false,
    "editable": false,
    "run_control": {
     "frozen": true
    }
   },
   "outputs": [],
   "source": [
    "classperhadm = presfinal[['PHARM_CLASSES','hadm_id']].groupby('hadm_id').nunique()\n",
    "classperhadm.describe()"
   ]
  },
  {
   "cell_type": "code",
   "execution_count": null,
   "id": "9e2fad15",
   "metadata": {
    "deletable": false,
    "editable": false,
    "run_control": {
     "frozen": true
    }
   },
   "outputs": [],
   "source": [
    "classperhadm.loc[classperhadm.PHARM_CLASSES == 0].count()"
   ]
  },
  {
   "cell_type": "code",
   "execution_count": null,
   "id": "e5cda4b0",
   "metadata": {
    "deletable": false,
    "editable": false,
    "run_control": {
     "frozen": true
    }
   },
   "outputs": [],
   "source": [
    "prescriptions.ndc.apply(lambda x: str(x)[:-2].zfill(9))"
   ]
  },
  {
   "cell_type": "code",
   "execution_count": null,
   "id": "e721de5c",
   "metadata": {
    "deletable": false,
    "editable": false,
    "run_control": {
     "frozen": true
    }
   },
   "outputs": [],
   "source": [
    "print(ndc_desc.NONPROPRIETARYNAME.nunique())\n",
    "print(ndc_desc_clean.NONPROPRIETARYNAME.nunique())"
   ]
  },
  {
   "cell_type": "code",
   "execution_count": null,
   "id": "b905011b",
   "metadata": {
    "deletable": false,
    "editable": false,
    "run_control": {
     "frozen": true
    }
   },
   "outputs": [],
   "source": [
    "ndc_desc.shape"
   ]
  },
  {
   "cell_type": "code",
   "execution_count": null,
   "id": "64179536",
   "metadata": {
    "deletable": false,
    "editable": false,
    "run_control": {
     "frozen": true
    }
   },
   "outputs": [],
   "source": [
    "ndc_desc.PRODUCTNDC.apply(lambda x: int(x.replace('-','')))"
   ]
  },
  {
   "cell_type": "code",
   "execution_count": null,
   "id": "ecbbc9e0",
   "metadata": {
    "deletable": false,
    "editable": false,
    "run_control": {
     "frozen": true
    }
   },
   "outputs": [],
   "source": [
    "ndc_desc.PHARM_CLASSES.value_counts"
   ]
  },
  {
   "cell_type": "code",
   "execution_count": null,
   "id": "3493b16d",
   "metadata": {
    "deletable": false,
    "editable": false,
    "run_control": {
     "frozen": true
    }
   },
   "outputs": [],
   "source": [
    "poe = pd.read_csv('MIMIC IV ED/poe.csv')"
   ]
  },
  {
   "cell_type": "code",
   "execution_count": null,
   "id": "0669bdf1",
   "metadata": {
    "deletable": false,
    "editable": false,
    "run_control": {
     "frozen": true
    },
    "scrolled": true
   },
   "outputs": [],
   "source": [
    "poe.order_status.value_counts(normalize = True)"
   ]
  },
  {
   "cell_type": "code",
   "execution_count": null,
   "id": "4aed4b65",
   "metadata": {
    "deletable": false,
    "editable": false,
    "run_control": {
     "frozen": true
    }
   },
   "outputs": [],
   "source": [
    "poe.loc[poe.order_type == 'Lab'].order_subtype.value_counts()"
   ]
  },
  {
   "cell_type": "code",
   "execution_count": null,
   "id": "7a3b5a33",
   "metadata": {
    "deletable": false,
    "editable": false,
    "run_control": {
     "frozen": true
    }
   },
   "outputs": [],
   "source": [
    "poe.order_type.value_counts()"
   ]
  },
  {
   "cell_type": "code",
   "execution_count": null,
   "id": "bffc93d0",
   "metadata": {
    "deletable": false,
    "editable": false,
    "run_control": {
     "frozen": true
    }
   },
   "outputs": [],
   "source": [
    "admissions = pd.read_csv('MIMIC IV ED/admissions.csv')"
   ]
  },
  {
   "cell_type": "code",
   "execution_count": null,
   "id": "d056fbc2",
   "metadata": {
    "deletable": false,
    "editable": false,
    "run_control": {
     "frozen": true
    }
   },
   "outputs": [],
   "source": [
    "admissions.race.value_counts(normalize = True)"
   ]
  },
  {
   "cell_type": "code",
   "execution_count": null,
   "id": "1056df71",
   "metadata": {
    "deletable": false,
    "editable": false,
    "run_control": {
     "frozen": true
    }
   },
   "outputs": [],
   "source": [
    "sum(admissions.admission_location.isna())"
   ]
  },
  {
   "cell_type": "code",
   "execution_count": null,
   "id": "cf569e77",
   "metadata": {
    "deletable": false,
    "editable": false,
    "run_control": {
     "frozen": true
    }
   },
   "outputs": [],
   "source": [
    "admissions.admission_location.value_counts(normalize = True)"
   ]
  },
  {
   "cell_type": "code",
   "execution_count": null,
   "id": "fcb00ab7",
   "metadata": {
    "deletable": false,
    "editable": false,
    "run_control": {
     "frozen": true
    }
   },
   "outputs": [],
   "source": [
    "transfers = pd.read_csv('MIMIC IV ED/transfers.csv')"
   ]
  },
  {
   "cell_type": "code",
   "execution_count": null,
   "id": "c8b5ab5d",
   "metadata": {
    "deletable": false,
    "editable": false,
    "run_control": {
     "frozen": true
    }
   },
   "outputs": [],
   "source": [
    "sum(transfers.eventtype == 'discharge')"
   ]
  },
  {
   "cell_type": "code",
   "execution_count": null,
   "id": "388bf57c",
   "metadata": {
    "deletable": false,
    "editable": false,
    "run_control": {
     "frozen": true
    }
   },
   "outputs": [],
   "source": [
    "transfers.careunit.value_counts(normalize = True)"
   ]
  },
  {
   "cell_type": "code",
   "execution_count": null,
   "id": "e099c1d8",
   "metadata": {
    "deletable": false,
    "editable": false,
    "run_control": {
     "frozen": true
    }
   },
   "outputs": [],
   "source": [
    "transfers.careunit.unique()"
   ]
  },
  {
   "cell_type": "code",
   "execution_count": null,
   "id": "2cbf4e04",
   "metadata": {
    "deletable": false,
    "editable": false,
    "run_control": {
     "frozen": true
    }
   },
   "outputs": [],
   "source": [
    "transfers[['intime','outtime']] = pd.to_datetime(transfers[['intime', 'outtime']])"
   ]
  },
  {
   "cell_type": "code",
   "execution_count": null,
   "id": "2efcfc31",
   "metadata": {
    "deletable": false,
    "editable": false,
    "run_control": {
     "frozen": true
    }
   },
   "outputs": [],
   "source": [
    "transfers.info(show_counts = True)"
   ]
  },
  {
   "cell_type": "code",
   "execution_count": null,
   "id": "0e094a02",
   "metadata": {
    "deletable": false,
    "editable": false,
    "run_control": {
     "frozen": true
    }
   },
   "outputs": [],
   "source": [
    "bool_outs"
   ]
  },
  {
   "cell_type": "code",
   "execution_count": null,
   "id": "4ec7bb72",
   "metadata": {
    "deletable": false,
    "editable": false,
    "run_control": {
     "frozen": true
    }
   },
   "outputs": [],
   "source": [
    "transfers.describe()"
   ]
  },
  {
   "cell_type": "code",
   "execution_count": null,
   "id": "7d0cc9e1",
   "metadata": {
    "deletable": false,
    "editable": false,
    "run_control": {
     "frozen": true
    }
   },
   "outputs": [],
   "source": [
    "bool_discharge = transfers.eventtype=='discharge'\n",
    "bool_carenan = transfers.careunit.isna()\n",
    "bool_outtime = transfers.outtime.isna()"
   ]
  },
  {
   "cell_type": "code",
   "execution_count": null,
   "id": "c9105e2c",
   "metadata": {
    "deletable": false,
    "editable": false,
    "run_control": {
     "frozen": true
    }
   },
   "outputs": [],
   "source": [
    "print(all(bool_discharge == bool_carenan))\n",
    "print(all(bool_discharge == bool_outtime))\n"
   ]
  },
  {
   "cell_type": "code",
   "execution_count": null,
   "id": "52704aff",
   "metadata": {
    "deletable": false,
    "editable": false,
    "run_control": {
     "frozen": true
    }
   },
   "outputs": [],
   "source": [
    "transfers.head()"
   ]
  },
  {
   "cell_type": "code",
   "execution_count": null,
   "id": "639fe05b",
   "metadata": {
    "deletable": false,
    "editable": false,
    "run_control": {
     "frozen": true
    }
   },
   "outputs": [],
   "source": [
    "services = pd.read_csv('MIMIC IV ED/services.csv')"
   ]
  },
  {
   "cell_type": "code",
   "execution_count": null,
   "id": "ba238f2a",
   "metadata": {
    "deletable": false,
    "editable": false,
    "run_control": {
     "frozen": true
    }
   },
   "outputs": [],
   "source": [
    "services.shape"
   ]
  },
  {
   "cell_type": "code",
   "execution_count": null,
   "id": "f949e175",
   "metadata": {
    "deletable": false,
    "editable": false,
    "run_control": {
     "frozen": true
    }
   },
   "outputs": [],
   "source": [
    "services.head()"
   ]
  },
  {
   "cell_type": "code",
   "execution_count": null,
   "id": "ddc013d9",
   "metadata": {
    "deletable": false,
    "editable": false,
    "run_control": {
     "frozen": true
    }
   },
   "outputs": [],
   "source": []
  },
  {
   "cell_type": "code",
   "execution_count": null,
   "id": "b6b605ce",
   "metadata": {
    "deletable": false,
    "editable": false,
    "run_control": {
     "frozen": true
    }
   },
   "outputs": [],
   "source": [
    "services.prev_service.value_counts()"
   ]
  },
  {
   "cell_type": "code",
   "execution_count": null,
   "id": "69888a1b",
   "metadata": {
    "deletable": false,
    "editable": false,
    "run_control": {
     "frozen": true
    }
   },
   "outputs": [],
   "source": [
    "transfers.eventtype.value_counts()"
   ]
  },
  {
   "cell_type": "code",
   "execution_count": null,
   "id": "620e44ee",
   "metadata": {
    "deletable": false,
    "editable": false,
    "run_control": {
     "frozen": true
    }
   },
   "outputs": [],
   "source": [
    "transfers."
   ]
  },
  {
   "cell_type": "code",
   "execution_count": null,
   "id": "6b8a4332",
   "metadata": {
    "deletable": false,
    "editable": false,
    "run_control": {
     "frozen": true
    }
   },
   "outputs": [],
   "source": [
    "emar = pd.read_csv('MIMIC IV/emar.csv')"
   ]
  },
  {
   "cell_type": "code",
   "execution_count": null,
   "id": "769feeb4",
   "metadata": {
    "deletable": false,
    "editable": false,
    "run_control": {
     "frozen": true
    }
   },
   "outputs": [],
   "source": [
    "emar.medication.nunique()"
   ]
  },
  {
   "cell_type": "code",
   "execution_count": null,
   "id": "a2ea46db",
   "metadata": {
    "deletable": false,
    "editable": false,
    "run_control": {
     "frozen": true
    }
   },
   "outputs": [],
   "source": [
    "emar.head()"
   ]
  },
  {
   "cell_type": "code",
   "execution_count": null,
   "id": "3acbf553",
   "metadata": {
    "deletable": false,
    "editable": false,
    "run_control": {
     "frozen": true
    }
   },
   "outputs": [],
   "source": [
    "transfers.careunit.value_counts()"
   ]
  },
  {
   "cell_type": "code",
   "execution_count": null,
   "id": "6a3cfc7c",
   "metadata": {
    "deletable": false,
    "editable": false,
    "run_control": {
     "frozen": true
    }
   },
   "outputs": [],
   "source": [
    "print('Number of patients:',transfers['subject_id'].nunique())\n",
    "print('Number of transfers (and rows number):',transfers['transfer_id'].nunique())\n",
    "print('Number of stays:',transfers['hadm_id'].nunique())\n",
    "print('Number of departments:',transfers['careunit'].nunique())"
   ]
  },
  {
   "cell_type": "code",
   "execution_count": null,
   "id": "a56ee9d9",
   "metadata": {
    "deletable": false,
    "editable": false,
    "run_control": {
     "frozen": true
    }
   },
   "outputs": [],
   "source": [
    "sum(transfers['careunit'].isna())"
   ]
  },
  {
   "cell_type": "code",
   "execution_count": null,
   "id": "279cbbbb",
   "metadata": {
    "deletable": false,
    "editable": false,
    "run_control": {
     "frozen": true
    }
   },
   "outputs": [],
   "source": [
    "print('Number of departments:',transfers['careunit'].unique())"
   ]
  },
  {
   "cell_type": "code",
   "execution_count": null,
   "id": "18656aa3",
   "metadata": {
    "deletable": false,
    "editable": false,
    "run_control": {
     "frozen": true
    }
   },
   "outputs": [],
   "source": [
    "admissions = pd.read_csv('MIMIC IV ED/admissions.csv')"
   ]
  },
  {
   "cell_type": "code",
   "execution_count": null,
   "id": "765bf2a8",
   "metadata": {
    "deletable": false,
    "editable": false,
    "run_control": {
     "frozen": true
    }
   },
   "outputs": [],
   "source": [
    "pd.to_datetime(admissions.admittime,infer_datetime_format = True).describe(datetime_is_numeric = True)"
   ]
  },
  {
   "cell_type": "code",
   "execution_count": null,
   "id": "5ac84b60",
   "metadata": {
    "deletable": false,
    "editable": false,
    "run_control": {
     "frozen": true
    }
   },
   "outputs": [],
   "source": [
    "admissions.discharge_location.unique()"
   ]
  },
  {
   "cell_type": "code",
   "execution_count": null,
   "id": "6471427c",
   "metadata": {
    "deletable": false,
    "editable": false,
    "run_control": {
     "frozen": true
    }
   },
   "outputs": [],
   "source": []
  },
  {
   "cell_type": "code",
   "execution_count": null,
   "id": "eb1297ab",
   "metadata": {
    "deletable": false,
    "editable": false,
    "run_control": {
     "frozen": true
    }
   },
   "outputs": [],
   "source": [
    "admissions.head()"
   ]
  },
  {
   "cell_type": "code",
   "execution_count": null,
   "id": "2cfc6928",
   "metadata": {
    "deletable": false,
    "editable": false,
    "run_control": {
     "frozen": true
    }
   },
   "outputs": [],
   "source": [
    "len(admissions)"
   ]
  },
  {
   "cell_type": "code",
   "execution_count": null,
   "id": "75353cbd",
   "metadata": {
    "deletable": false,
    "editable": false,
    "run_control": {
     "frozen": true
    }
   },
   "outputs": [],
   "source": [
    "print('Number of patients:',admissions['subject_id'].nunique())\n",
    "print('Number of transfers (and length of rows):',admissions['transfer_id'].nunique())\n",
    "print('Number of stays:',transfers['hadm_id'].nunique())\n",
    "print('Number of departments:',transfers['careunit'].nunique())"
   ]
  },
  {
   "cell_type": "code",
   "execution_count": null,
   "id": "e5a76542",
   "metadata": {
    "deletable": false,
    "editable": false,
    "run_control": {
     "frozen": true
    }
   },
   "outputs": [],
   "source": [
    "edstays['disposition'].value_counts()"
   ]
  },
  {
   "cell_type": "code",
   "execution_count": null,
   "id": "cfe1045f",
   "metadata": {
    "deletable": false,
    "editable": false,
    "run_control": {
     "frozen": true
    }
   },
   "outputs": [],
   "source": []
  },
  {
   "cell_type": "code",
   "execution_count": null,
   "id": "aa370d2e",
   "metadata": {
    "deletable": false,
    "editable": false,
    "run_control": {
     "frozen": true
    }
   },
   "outputs": [],
   "source": [
    "diagnosis.icd_version.value_counts()"
   ]
  },
  {
   "cell_type": "code",
   "execution_count": null,
   "id": "13c7e61b",
   "metadata": {
    "deletable": false,
    "editable": false,
    "run_control": {
     "frozen": true
    }
   },
   "outputs": [],
   "source": [
    "diagnosis['icd_title'].value_counts().head()"
   ]
  },
  {
   "cell_type": "code",
   "execution_count": null,
   "id": "adf33426",
   "metadata": {
    "deletable": false,
    "editable": false,
    "run_control": {
     "frozen": true
    },
    "scrolled": false
   },
   "outputs": [],
   "source": [
    "print('\\033[1m' + 'diagnosis')\n",
    "display(diagnosis.head())\n",
    "display(diagnosis.info())\n",
    "print('\\033[1m' + 'edstays')\n",
    "display(edstays.head())\n",
    "display(diagnosis.info())\n",
    "print('\\033[1m' + 'medrecon')\n",
    "display(medrecon.head())\n",
    "display(medrecon.info())\n",
    "print('\\033[1m' + 'pyxis')\n",
    "display(pyxis.head())\n",
    "display(pyxis.info())\n",
    "print('\\033[1m' + 'triage')\n",
    "display(triage.head())\n",
    "display(triage.info())\n",
    "print('\\033[1m' + 'vitalsign')\n",
    "display(vitalsign.head())\n",
    "display(vitalsign.info())"
   ]
  }
 ],
 "metadata": {
  "kernelspec": {
   "display_name": "Python [conda env:cap_nacho]",
   "language": "python",
   "name": "conda-env-cap_nacho-py"
  },
  "language_info": {
   "codemirror_mode": {
    "name": "ipython",
    "version": 3
   },
   "file_extension": ".py",
   "mimetype": "text/x-python",
   "name": "python",
   "nbconvert_exporter": "python",
   "pygments_lexer": "ipython3",
   "version": "3.10.6"
  },
  "toc": {
   "base_numbering": 1,
   "nav_menu": {},
   "number_sections": true,
   "sideBar": true,
   "skip_h1_title": true,
   "title_cell": "Table of Contents",
   "title_sidebar": "Contents",
   "toc_cell": true,
   "toc_position": {},
   "toc_section_display": true,
   "toc_window_display": false
  },
  "varInspector": {
   "cols": {
    "lenName": 16,
    "lenType": 16,
    "lenVar": 40
   },
   "kernels_config": {
    "python": {
     "delete_cmd_postfix": "",
     "delete_cmd_prefix": "del ",
     "library": "var_list.py",
     "varRefreshCmd": "print(var_dic_list())"
    },
    "r": {
     "delete_cmd_postfix": ") ",
     "delete_cmd_prefix": "rm(",
     "library": "var_list.r",
     "varRefreshCmd": "cat(var_dic_list()) "
    }
   },
   "position": {
    "height": "565.85px",
    "left": "396.2px",
    "right": "20px",
    "top": "119px",
    "width": "722px"
   },
   "types_to_exclude": [
    "module",
    "function",
    "builtin_function_or_method",
    "instance",
    "_Feature"
   ],
   "window_display": false
  }
 },
 "nbformat": 4,
 "nbformat_minor": 5
}
