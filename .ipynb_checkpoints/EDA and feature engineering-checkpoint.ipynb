{
 "cells": [
  {
   "cell_type": "markdown",
   "id": "a090e2ca",
   "metadata": {
    "toc": true
   },
   "source": [
    "<h1>Table of Contents<span class=\"tocSkip\"></span></h1>\n",
    "<div class=\"toc\"><ul class=\"toc-item\"><li><span><a href=\"#Features-to-add\" data-toc-modified-id=\"Features-to-add-1\"><span class=\"toc-item-num\">1&nbsp;&nbsp;</span>Features to add</a></span></li></ul></div>"
   ]
  },
  {
   "cell_type": "markdown",
   "id": "1d1c521c",
   "metadata": {},
   "source": [
    "Here I am merging tables onto the main table, transfers."
   ]
  },
  {
   "cell_type": "markdown",
   "id": "3148649a",
   "metadata": {},
   "source": [
    "## Features to add\n",
    "\n",
    "Adding for sure:\n",
    "\n",
    "- Prescriptions, which is ready\n",
    "\n",
    "- Admissions: check ppoint, non-white?, marital status??, medicaid, language?\n",
    "\n",
    "- Patients: Age and gender\n",
    "\n",
    "- POE: Many categories (order type), but decent. \n",
    "\n",
    "\n",
    "Maybe adding in the future:\n",
    "\n",
    "- Procedures by ICD code, could be interesting but lots of features\n",
    "\n",
    "- Lab events: A LOT of features, although you can just add flag (associated with storetime) and priority (associated with charttime of test (frequency encoding?)\n",
    "\n",
    "- OMR: Blood pressure, weight... Interesting but probably there will be many missing values and will be hard to incorporate into dataframe\n",
    "\n",
    "- hcpcsevents: A LOT of features\n",
    "\n",
    "- Microbiology events: A LOT of features (no outcomes clear, although there are comments of test)\n",
    "\n",
    "\n",
    "<br><br>\n",
    "\n",
    "Some questions: \n",
    "\n",
    "Should I increase the granularity of the prescriptions (go down to level 2, 3 or 4). That would add between 1K and 5K features\n",
    "\n",
    "Can I leave duration of transfer in datetime or should I categorise it/bin it?\n",
    "bin\n",
    "\n",
    "Should I bin age or can be quantitative?\n",
    "Bin it (maybe check before when it's quantitative)\n",
    "\n",
    "Is it okay adding POE? Should I stop there or add also the other tables? It would mean lots of features. \n",
    "\n",
    "Should I add measures such as blood pressure and weight even if values will be missing in many rows? And again do I have to bin?\n",
    "Leave it for now and maybe with the PCA it tells you something. Maybe you see that could be good to include\n",
    "\n",
    "Focus on not adding any extra features but focus on step 1 (do PCA, fit models and decide whether to add more features or not)"
   ]
  },
  {
   "cell_type": "markdown",
   "id": "22b0fe48",
   "metadata": {},
   "source": [
    "Step 1\n",
    "For small dataset\n",
    "logistic regression SVM, decision tree and random forest, naive bayes\n",
    "Group the classes before fitting the model\n",
    "PCA to see if I can compress the model as it is right now\n",
    "See if by going up on the number of features you are getting any gain\n",
    "How many orders for now and that's it\n",
    "\n",
    "Step 2\n",
    "For large dataset\n",
    "\n",
    "For dataset try to make bins if possible, 5-10"
   ]
  },
  {
   "cell_type": "markdown",
   "id": "ea716200",
   "metadata": {},
   "source": [
    "Distribution is skewed. But after we have converted (the class) into binary, the problem we have is bias (the model is biased)."
   ]
  },
  {
   "cell_type": "code",
   "execution_count": 1,
   "id": "f2c3cfed",
   "metadata": {
    "ExecuteTime": {
     "end_time": "2022-10-21T01:13:59.059078Z",
     "start_time": "2022-10-21T01:13:57.598804Z"
    },
    "init_cell": true,
    "tags": [
     "Iniitialization"
    ]
   },
   "outputs": [],
   "source": [
    "import numpy as np\n",
    "import pandas as pd\n",
    "import copy\n",
    "import nachopy\n",
    "import importlib\n",
    "import pickle\n",
    "import sklearn\n",
    "\n",
    "import matplotlib.pyplot as plt\n",
    "%matplotlib inline\n",
    "%config InlineBackend.figure_formats = ['svg'] # Setting plots as vector images\n",
    "\n",
    "plt.rcParams['figure.figsize'] = (10, 5)\n",
    "import matplotlib.pyplot as plt\n",
    "plt.style.use('ggplot')\n",
    "import matplotlib as mpl\n",
    "import seaborn as sns"
   ]
  },
  {
   "cell_type": "code",
   "execution_count": 86,
   "id": "b40070e0",
   "metadata": {
    "ExecuteTime": {
     "end_time": "2022-10-21T02:35:43.653489Z",
     "start_time": "2022-10-21T02:35:43.311915Z"
    },
    "tags": [
     "Transfers",
     "reset"
    ]
   },
   "outputs": [],
   "source": [
    "transfers = pd.read_pickle('../Capstone data/pickles/transfers_v1.pkl')"
   ]
  },
  {
   "cell_type": "code",
   "execution_count": 3,
   "id": "c641d6be",
   "metadata": {
    "ExecuteTime": {
     "end_time": "2022-10-21T01:14:21.477168Z",
     "start_time": "2022-10-21T01:14:20.622631Z"
    }
   },
   "outputs": [
    {
     "name": "stdout",
     "output_type": "stream",
     "text": [
      "<class 'pandas.core.frame.DataFrame'>\n",
      "Int64Index: 1052952 entries, 33258284 to 30249304\n",
      "Data columns (total 31 columns):\n",
      " #   Column              Non-Null Count    Dtype         \n",
      "---  ------              --------------    -----         \n",
      " 0   subject_id          1052952 non-null  int64         \n",
      " 1   eventtype           1052952 non-null  object        \n",
      " 2   careunit            1052952 non-null  object        \n",
      " 3   intime              1052952 non-null  datetime64[ns]\n",
      " 4   outtime             1052952 non-null  datetime64[ns]\n",
      " 5   event               1052952 non-null  object        \n",
      " 6   gender              1052952 non-null  object        \n",
      " 7   anchor_age          1052952 non-null  uint8         \n",
      " 8   dod                 263671 non-null   datetime64[ns]\n",
      " 9   hadm_id             1034425 non-null  Int64         \n",
      " 10  admission_type      1034425 non-null  object        \n",
      " 11  discharge_location  940809 non-null   object        \n",
      " 12  insurance           1034425 non-null  object        \n",
      " 13  language            1034425 non-null  object        \n",
      " 14  marital_status      1012541 non-null  object        \n",
      " 15  race                1047247 non-null  object        \n",
      " 16  A                   1052952 non-null  uint16        \n",
      " 17  B                   1052952 non-null  uint16        \n",
      " 18  C                   1052952 non-null  uint16        \n",
      " 19  D                   1052952 non-null  uint16        \n",
      " 20  G                   1052952 non-null  uint16        \n",
      " 21  H                   1052952 non-null  uint16        \n",
      " 22  J                   1052952 non-null  uint16        \n",
      " 23  L                   1052952 non-null  uint16        \n",
      " 24  M                   1052952 non-null  uint16        \n",
      " 25  N                   1052952 non-null  uint16        \n",
      " 26  P                   1052952 non-null  uint16        \n",
      " 27  R                   1052952 non-null  uint16        \n",
      " 28  S                   1052952 non-null  uint16        \n",
      " 29  V                   1052952 non-null  uint16        \n",
      " 30  pres_number         1052952 non-null  uint16        \n",
      "dtypes: Int64(1), datetime64[ns](3), int64(1), object(10), uint16(15), uint8(1)\n",
      "memory usage: 160.7+ MB\n"
     ]
    }
   ],
   "source": [
    "transfers.info()"
   ]
  },
  {
   "cell_type": "code",
   "execution_count": 7,
   "id": "1e2cedf5",
   "metadata": {
    "ExecuteTime": {
     "end_time": "2022-10-21T01:17:17.557083Z",
     "start_time": "2022-10-21T01:17:17.497689Z"
    }
   },
   "outputs": [
    {
     "data": {
      "text/plain": [
       "Discharge                                           432373\n",
       "Medicine                                            114133\n",
       "Emergency Department Observation                     85074\n",
       "Med/Surg                                             35544\n",
       "Medicine/Cardiology                                  29622\n",
       "Neurology                                            29128\n",
       "Discharge Lounge                                     28846\n",
       "PACU                                                 23218\n",
       "Med/Surg/GYN                                         19592\n",
       "Vascular                                             19261\n",
       "Medical Intensive Care Unit (MICU)                   19214\n",
       "Med/Surg/Trauma                                      18880\n",
       "Transplant                                           18804\n",
       "Hematology/Oncology                                  16295\n",
       "Obstetrics (Postpartum & Antepartum)                 14621\n",
       "Medical/Surgical Intensive Care Unit (MICU/SICU)     13794\n",
       "Surgical Intensive Care Unit (SICU)                  13278\n",
       "Surgery/Trauma                                       13242\n",
       "Cardiac Vascular Intensive Care Unit (CVICU)         13147\n",
       "Cardiac Surgery                                      12382\n",
       "Labor & Delivery                                     10834\n",
       "Trauma SICU (TSICU)                                  10272\n",
       "Coronary Care Unit (CCU)                              9223\n",
       "Medical/Surgical (Gynecology)                         7242\n",
       "Surgery                                               6736\n",
       "Surgery/Pancreatic/Biliary/Bariatric                  6286\n",
       "Hematology/Oncology Intermediate                      4771\n",
       "Medicine/Cardiology Intermediate                      4309\n",
       "Obstetrics Postpartum                                 3982\n",
       "Cardiology Surgery Intermediate                       3578\n",
       "Observation                                           2977\n",
       "Neuro Intermediate                                    2940\n",
       "Thoracic Surgery                                      2254\n",
       "Neuro Surgical Intensive Care Unit (Neuro SICU)       2216\n",
       "Neuro Stepdown                                        1541\n",
       "Cardiology                                            1241\n",
       "Obstetrics Antepartum                                 1095\n",
       "Psychiatry                                             734\n",
       "Emergency Department                                   166\n",
       "Unknown                                                107\n",
       "Name: event, dtype: int64"
      ]
     },
     "execution_count": 7,
     "metadata": {},
     "output_type": "execute_result"
    }
   ],
   "source": [
    "transfers.event.value_counts()"
   ]
  },
  {
   "cell_type": "code",
   "execution_count": 90,
   "id": "c45ed17a",
   "metadata": {
    "ExecuteTime": {
     "end_time": "2022-10-21T02:38:55.601008Z",
     "start_time": "2022-10-21T02:38:55.547879Z"
    }
   },
   "outputs": [],
   "source": [
    "# Removing unknowns\n",
    "transfers.loc[(transfers.event=='Unknown'),'event'] = 'Discharge'"
   ]
  },
  {
   "cell_type": "code",
   "execution_count": 88,
   "id": "07151448",
   "metadata": {
    "ExecuteTime": {
     "end_time": "2022-10-21T02:36:29.914827Z",
     "start_time": "2022-10-21T02:36:26.119705Z"
    }
   },
   "outputs": [
    {
     "data": {
      "text/plain": [
       "HOME                                211093\n",
       "Medicine                            114133\n",
       "HOME HEALTH CARE                     95996\n",
       "Emergency Department Observation     88217\n",
       "Cardiac                              73502\n",
       "SKILLED NURSING FACILITY             53973\n",
       "Discharge                            52525\n",
       "Med/Surg                             50820\n",
       "MICU/SICU                            46286\n",
       "Trauma                               42394\n",
       "Gynecology, Obstetrics & Labor       37774\n",
       "Neuro                                36559\n",
       "PACU                                 23218\n",
       "Hematology/Oncology                  21066\n",
       "Med/Surg/GYN                         19592\n",
       "Vascular                             19261\n",
       "Transplant                           18804\n",
       "REHAB                                12303\n",
       "DIED                                 10053\n",
       "CHRONIC/LONG TERM ACUTE CARE          8400\n",
       "AGAINST ADVICE                        4460\n",
       "HOSPICE                               3968\n",
       "PSYCH FACILITY                        3589\n",
       "OTHER FACILITY                        2153\n",
       "ACUTE HOSPITAL                        1986\n",
       "ASSISTED LIVING                        669\n",
       "Unknown                                107\n",
       "HEALTHCARE FACILITY                     51\n",
       "Name: event, dtype: int64"
      ]
     },
     "execution_count": 88,
     "metadata": {},
     "output_type": "execute_result"
    }
   ],
   "source": [
    "transfers.loc[transfers.event.str.contains(\\\n",
    "    'Gynecology|Obstetrics|Labor| Antepartum|Obstetrics (Postpartum & Antepartum)','Gynecology & Obstetrics',\\\n",
    "    regex = True),'event'] = 'Gynecology, Obstetrics & Labor'\n",
    "\n",
    "transfers.loc[transfers.event.str.contains('Neuro'),'event'] = 'Neuro'\n",
    "transfers.loc[transfers.event.str.contains('Trauma'),'event'] = 'Trauma'\n",
    "transfers.loc[transfers.event.str.contains('Cardi|Coronary'),'event'] = 'Cardiac'\n",
    "transfers.loc[transfers.event.str.contains('SICU|MICU'),'event'] = 'MICU/SICU'\n",
    "transfers.loc[transfers.event.str.contains('Surgery'),'event'] = 'General surgery'\n",
    "transfers.loc[transfers.event.str.contains('Discharge'),'event'] = 'Discharge'\n",
    "transfers.loc[transfers.event.str.contains('Observation|Emergency'),'event'] = 'Emergency Department Observation'\n",
    "transfers.loc[transfers.event.str.contains('General surgery'),'event'] = 'Med/Surg'\n",
    "transfers.loc[transfers.event.str.contains('Oncology'),'event'] = 'Hematology/Oncology'\n",
    "transfers.loc[transfers.event.str.contains('Psychiatry'),'event'] = 'Neuro'\n",
    "\n",
    "transfers.loc[~transfers.discharge_location.isna(),'event'] = transfers.event.\\\n",
    "    where(~(transfers.event == 'Discharge'),transfers.discharge_location)\n",
    "transfers.event.value_counts()"
   ]
  },
  {
   "cell_type": "markdown",
   "id": "b5105d4b",
   "metadata": {},
   "source": [
    "Happily most patients went home, although some died. We will group a few of these"
   ]
  },
  {
   "cell_type": "code",
   "execution_count": 92,
   "id": "96610761",
   "metadata": {
    "ExecuteTime": {
     "end_time": "2022-10-21T02:41:40.334750Z",
     "start_time": "2022-10-21T02:41:39.282530Z"
    }
   },
   "outputs": [
    {
     "data": {
      "text/plain": [
       "HOME                                211093\n",
       "Medicine                            114133\n",
       "HOME HEALTH CARE                     95996\n",
       "Emergency Department Observation     88217\n",
       "Other facility                       83124\n",
       "Cardiac                              73502\n",
       "Other discharge                      57092\n",
       "Med/Surg                             50820\n",
       "MICU/SICU                            46286\n",
       "Trauma                               42394\n",
       "Gynecology, Obstetrics & Labor       37774\n",
       "Neuro                                36559\n",
       "PACU                                 23218\n",
       "Hematology/Oncology                  21066\n",
       "Med/Surg/GYN                         19592\n",
       "Vascular                             19261\n",
       "Transplant                           18804\n",
       "DIED                                 14021\n",
       "Name: event, dtype: int64"
      ]
     },
     "execution_count": 92,
     "metadata": {},
     "output_type": "execute_result"
    }
   ],
   "source": [
    "transfers.loc[transfers.event.str.contains('ACUTE|FACILITY|PSYCH|REHAB|ASSISTED'),'event'] = 'Other facility'\n",
    "transfers.loc[transfers.event.str.contains('HOSPICE'),'event'] = 'DIED'\n",
    "transfers.loc[transfers.event.str.contains('AGAINST|Discharge'),'event'] = 'Other discharge'\n",
    "transfers.event.value_counts()"
   ]
  },
  {
   "cell_type": "code",
   "execution_count": 97,
   "id": "2f48986f",
   "metadata": {
    "ExecuteTime": {
     "end_time": "2022-10-21T02:48:10.486190Z",
     "start_time": "2022-10-21T02:48:10.423918Z"
    }
   },
   "outputs": [
    {
     "data": {
      "text/plain": [
       "WHITE                                        656177\n",
       "BLACK/AFRICAN AMERICAN                       145096\n",
       "OTHER                                         37013\n",
       "UNKNOWN                                       27709\n",
       "HISPANIC/LATINO - PUERTO RICAN                22377\n",
       "WHITE - OTHER EUROPEAN                        21196\n",
       "ASIAN                                         14764\n",
       "ASIAN - CHINESE                               14375\n",
       "WHITE - RUSSIAN                               14327\n",
       "HISPANIC OR LATINO                            12548\n",
       "BLACK/CAPE VERDEAN                            12467\n",
       "HISPANIC/LATINO - DOMINICAN                   11940\n",
       "BLACK/CARIBBEAN ISLAND                         7021\n",
       "BLACK/AFRICAN                                  6620\n",
       "PORTUGUESE                                     3838\n",
       "ASIAN - SOUTH EAST ASIAN                       3748\n",
       "HISPANIC/LATINO - GUATEMALAN                   3501\n",
       "UNABLE TO OBTAIN                               3329\n",
       "WHITE - EASTERN EUROPEAN                       3201\n",
       "PATIENT DECLINED TO ANSWER                     3152\n",
       "ASIAN - ASIAN INDIAN                           3111\n",
       "WHITE - BRAZILIAN                              2832\n",
       "HISPANIC/LATINO - SALVADORAN                   2517\n",
       "AMERICAN INDIAN/ALASKA NATIVE                  2351\n",
       "HISPANIC/LATINO - COLUMBIAN                    1895\n",
       "HISPANIC/LATINO - MEXICAN                      1674\n",
       "HISPANIC/LATINO - HONDURAN                     1417\n",
       "SOUTH AMERICAN                                 1363\n",
       "HISPANIC/LATINO - CUBAN                        1253\n",
       "ASIAN - KOREAN                                 1242\n",
       "HISPANIC/LATINO - CENTRAL AMERICAN             1228\n",
       "NATIVE HAWAIIAN OR OTHER PACIFIC ISLANDER      1029\n",
       "MULTIPLE RACE/ETHNICITY                         936\n",
       "Name: race, dtype: int64"
      ]
     },
     "execution_count": 97,
     "metadata": {},
     "output_type": "execute_result"
    }
   ],
   "source": [
    "transfers.race.value_counts()"
   ]
  },
  {
   "cell_type": "code",
   "execution_count": 93,
   "id": "d77e15b5",
   "metadata": {
    "ExecuteTime": {
     "end_time": "2022-10-21T02:43:24.483183Z",
     "start_time": "2022-10-21T02:43:24.450083Z"
    }
   },
   "outputs": [],
   "source": [
    "transfers['duration'] = transfers.outtime - transfers.intime"
   ]
  },
  {
   "cell_type": "code",
   "execution_count": null,
   "id": "a6f39ec3",
   "metadata": {},
   "outputs": [],
   "source": [
    "transfers(pd.get_dummies(transfers.gender)])"
   ]
  },
  {
   "cell_type": "code",
   "execution_count": 98,
   "id": "f8e09814",
   "metadata": {
    "ExecuteTime": {
     "end_time": "2022-10-21T02:50:17.423994Z",
     "start_time": "2022-10-21T02:50:17.372176Z"
    }
   },
   "outputs": [
    {
     "data": {
      "text/plain": [
       "MARRIED     437453\n",
       "SINGLE      385320\n",
       "WIDOWED     113290\n",
       "DIVORCED     76478\n",
       "Name: marital_status, dtype: int64"
      ]
     },
     "execution_count": 98,
     "metadata": {},
     "output_type": "execute_result"
    }
   ],
   "source": [
    "transfers.marital_status.value_counts()"
   ]
  },
  {
   "cell_type": "code",
   "execution_count": 99,
   "id": "178b64ae",
   "metadata": {
    "ExecuteTime": {
     "end_time": "2022-10-21T02:50:53.754210Z",
     "start_time": "2022-10-21T02:50:52.919211Z"
    }
   },
   "outputs": [
    {
     "name": "stdout",
     "output_type": "stream",
     "text": [
      "<class 'pandas.core.frame.DataFrame'>\n",
      "Int64Index: 1052952 entries, 33258284 to 30249304\n",
      "Data columns (total 32 columns):\n",
      " #   Column              Non-Null Count    Dtype          \n",
      "---  ------              --------------    -----          \n",
      " 0   subject_id          1052952 non-null  int64          \n",
      " 1   eventtype           1052952 non-null  object         \n",
      " 2   careunit            1052952 non-null  object         \n",
      " 3   intime              1052952 non-null  datetime64[ns] \n",
      " 4   outtime             1052952 non-null  datetime64[ns] \n",
      " 5   event               1052952 non-null  object         \n",
      " 6   gender              1052952 non-null  object         \n",
      " 7   anchor_age          1052952 non-null  uint8          \n",
      " 8   dod                 263671 non-null   datetime64[ns] \n",
      " 9   hadm_id             1034425 non-null  Int64          \n",
      " 10  admission_type      1034425 non-null  object         \n",
      " 11  discharge_location  940809 non-null   object         \n",
      " 12  insurance           1034425 non-null  object         \n",
      " 13  language            1034425 non-null  object         \n",
      " 14  marital_status      1012541 non-null  object         \n",
      " 15  race                1047247 non-null  object         \n",
      " 16  A                   1052952 non-null  uint16         \n",
      " 17  B                   1052952 non-null  uint16         \n",
      " 18  C                   1052952 non-null  uint16         \n",
      " 19  D                   1052952 non-null  uint16         \n",
      " 20  G                   1052952 non-null  uint16         \n",
      " 21  H                   1052952 non-null  uint16         \n",
      " 22  J                   1052952 non-null  uint16         \n",
      " 23  L                   1052952 non-null  uint16         \n",
      " 24  M                   1052952 non-null  uint16         \n",
      " 25  N                   1052952 non-null  uint16         \n",
      " 26  P                   1052952 non-null  uint16         \n",
      " 27  R                   1052952 non-null  uint16         \n",
      " 28  S                   1052952 non-null  uint16         \n",
      " 29  V                   1052952 non-null  uint16         \n",
      " 30  pres_number         1052952 non-null  uint16         \n",
      " 31  duration            1052952 non-null  timedelta64[ns]\n",
      "dtypes: Int64(1), datetime64[ns](3), int64(1), object(10), timedelta64[ns](1), uint16(15), uint8(1)\n",
      "memory usage: 201.0+ MB\n"
     ]
    }
   ],
   "source": [
    "transfers.info()"
   ]
  },
  {
   "cell_type": "code",
   "execution_count": 106,
   "id": "e6c5971d",
   "metadata": {
    "ExecuteTime": {
     "end_time": "2022-10-21T02:54:43.001756Z",
     "start_time": "2022-10-21T02:54:42.774758Z"
    }
   },
   "outputs": [
    {
     "data": {
      "text/html": [
       "<div>\n",
       "<style scoped>\n",
       "    .dataframe tbody tr th:only-of-type {\n",
       "        vertical-align: middle;\n",
       "    }\n",
       "\n",
       "    .dataframe tbody tr th {\n",
       "        vertical-align: top;\n",
       "    }\n",
       "\n",
       "    .dataframe thead th {\n",
       "        text-align: right;\n",
       "    }\n",
       "</style>\n",
       "<table border=\"1\" class=\"dataframe\">\n",
       "  <thead>\n",
       "    <tr style=\"text-align: right;\">\n",
       "      <th></th>\n",
       "      <th>AMERICAN INDIAN/ALASKA NATIVE</th>\n",
       "      <th>ASIAN</th>\n",
       "      <th>ASIAN - ASIAN INDIAN</th>\n",
       "      <th>ASIAN - CHINESE</th>\n",
       "      <th>ASIAN - KOREAN</th>\n",
       "      <th>ASIAN - SOUTH EAST ASIAN</th>\n",
       "      <th>BLACK/AFRICAN</th>\n",
       "      <th>BLACK/AFRICAN AMERICAN</th>\n",
       "      <th>BLACK/CAPE VERDEAN</th>\n",
       "      <th>BLACK/CARIBBEAN ISLAND</th>\n",
       "      <th>...</th>\n",
       "      <th>PATIENT DECLINED TO ANSWER</th>\n",
       "      <th>PORTUGUESE</th>\n",
       "      <th>SOUTH AMERICAN</th>\n",
       "      <th>UNABLE TO OBTAIN</th>\n",
       "      <th>UNKNOWN</th>\n",
       "      <th>WHITE</th>\n",
       "      <th>WHITE - BRAZILIAN</th>\n",
       "      <th>WHITE - EASTERN EUROPEAN</th>\n",
       "      <th>WHITE - OTHER EUROPEAN</th>\n",
       "      <th>WHITE - RUSSIAN</th>\n",
       "    </tr>\n",
       "    <tr>\n",
       "      <th>transfer_id</th>\n",
       "      <th></th>\n",
       "      <th></th>\n",
       "      <th></th>\n",
       "      <th></th>\n",
       "      <th></th>\n",
       "      <th></th>\n",
       "      <th></th>\n",
       "      <th></th>\n",
       "      <th></th>\n",
       "      <th></th>\n",
       "      <th></th>\n",
       "      <th></th>\n",
       "      <th></th>\n",
       "      <th></th>\n",
       "      <th></th>\n",
       "      <th></th>\n",
       "      <th></th>\n",
       "      <th></th>\n",
       "      <th></th>\n",
       "      <th></th>\n",
       "      <th></th>\n",
       "    </tr>\n",
       "  </thead>\n",
       "  <tbody>\n",
       "    <tr>\n",
       "      <th>33258284</th>\n",
       "      <td>0</td>\n",
       "      <td>0</td>\n",
       "      <td>0</td>\n",
       "      <td>0</td>\n",
       "      <td>0</td>\n",
       "      <td>0</td>\n",
       "      <td>0</td>\n",
       "      <td>0</td>\n",
       "      <td>0</td>\n",
       "      <td>0</td>\n",
       "      <td>...</td>\n",
       "      <td>0</td>\n",
       "      <td>0</td>\n",
       "      <td>0</td>\n",
       "      <td>0</td>\n",
       "      <td>0</td>\n",
       "      <td>1</td>\n",
       "      <td>0</td>\n",
       "      <td>0</td>\n",
       "      <td>0</td>\n",
       "      <td>0</td>\n",
       "    </tr>\n",
       "    <tr>\n",
       "      <th>35223874</th>\n",
       "      <td>0</td>\n",
       "      <td>0</td>\n",
       "      <td>0</td>\n",
       "      <td>0</td>\n",
       "      <td>0</td>\n",
       "      <td>0</td>\n",
       "      <td>0</td>\n",
       "      <td>0</td>\n",
       "      <td>0</td>\n",
       "      <td>0</td>\n",
       "      <td>...</td>\n",
       "      <td>0</td>\n",
       "      <td>0</td>\n",
       "      <td>0</td>\n",
       "      <td>0</td>\n",
       "      <td>0</td>\n",
       "      <td>1</td>\n",
       "      <td>0</td>\n",
       "      <td>0</td>\n",
       "      <td>0</td>\n",
       "      <td>0</td>\n",
       "    </tr>\n",
       "    <tr>\n",
       "      <th>38112554</th>\n",
       "      <td>0</td>\n",
       "      <td>0</td>\n",
       "      <td>0</td>\n",
       "      <td>0</td>\n",
       "      <td>0</td>\n",
       "      <td>0</td>\n",
       "      <td>0</td>\n",
       "      <td>0</td>\n",
       "      <td>0</td>\n",
       "      <td>0</td>\n",
       "      <td>...</td>\n",
       "      <td>0</td>\n",
       "      <td>0</td>\n",
       "      <td>0</td>\n",
       "      <td>0</td>\n",
       "      <td>0</td>\n",
       "      <td>1</td>\n",
       "      <td>0</td>\n",
       "      <td>0</td>\n",
       "      <td>0</td>\n",
       "      <td>0</td>\n",
       "    </tr>\n",
       "    <tr>\n",
       "      <th>34703856</th>\n",
       "      <td>0</td>\n",
       "      <td>0</td>\n",
       "      <td>0</td>\n",
       "      <td>0</td>\n",
       "      <td>0</td>\n",
       "      <td>0</td>\n",
       "      <td>0</td>\n",
       "      <td>0</td>\n",
       "      <td>0</td>\n",
       "      <td>0</td>\n",
       "      <td>...</td>\n",
       "      <td>0</td>\n",
       "      <td>0</td>\n",
       "      <td>0</td>\n",
       "      <td>0</td>\n",
       "      <td>0</td>\n",
       "      <td>1</td>\n",
       "      <td>0</td>\n",
       "      <td>0</td>\n",
       "      <td>0</td>\n",
       "      <td>0</td>\n",
       "    </tr>\n",
       "    <tr>\n",
       "      <th>32952584</th>\n",
       "      <td>0</td>\n",
       "      <td>0</td>\n",
       "      <td>0</td>\n",
       "      <td>0</td>\n",
       "      <td>0</td>\n",
       "      <td>0</td>\n",
       "      <td>0</td>\n",
       "      <td>0</td>\n",
       "      <td>0</td>\n",
       "      <td>0</td>\n",
       "      <td>...</td>\n",
       "      <td>0</td>\n",
       "      <td>0</td>\n",
       "      <td>0</td>\n",
       "      <td>0</td>\n",
       "      <td>0</td>\n",
       "      <td>1</td>\n",
       "      <td>0</td>\n",
       "      <td>0</td>\n",
       "      <td>0</td>\n",
       "      <td>0</td>\n",
       "    </tr>\n",
       "    <tr>\n",
       "      <th>...</th>\n",
       "      <td>...</td>\n",
       "      <td>...</td>\n",
       "      <td>...</td>\n",
       "      <td>...</td>\n",
       "      <td>...</td>\n",
       "      <td>...</td>\n",
       "      <td>...</td>\n",
       "      <td>...</td>\n",
       "      <td>...</td>\n",
       "      <td>...</td>\n",
       "      <td>...</td>\n",
       "      <td>...</td>\n",
       "      <td>...</td>\n",
       "      <td>...</td>\n",
       "      <td>...</td>\n",
       "      <td>...</td>\n",
       "      <td>...</td>\n",
       "      <td>...</td>\n",
       "      <td>...</td>\n",
       "      <td>...</td>\n",
       "      <td>...</td>\n",
       "    </tr>\n",
       "    <tr>\n",
       "      <th>38978960</th>\n",
       "      <td>0</td>\n",
       "      <td>0</td>\n",
       "      <td>0</td>\n",
       "      <td>0</td>\n",
       "      <td>0</td>\n",
       "      <td>0</td>\n",
       "      <td>0</td>\n",
       "      <td>0</td>\n",
       "      <td>0</td>\n",
       "      <td>0</td>\n",
       "      <td>...</td>\n",
       "      <td>0</td>\n",
       "      <td>0</td>\n",
       "      <td>0</td>\n",
       "      <td>0</td>\n",
       "      <td>0</td>\n",
       "      <td>1</td>\n",
       "      <td>0</td>\n",
       "      <td>0</td>\n",
       "      <td>0</td>\n",
       "      <td>0</td>\n",
       "    </tr>\n",
       "    <tr>\n",
       "      <th>34767778</th>\n",
       "      <td>0</td>\n",
       "      <td>0</td>\n",
       "      <td>0</td>\n",
       "      <td>0</td>\n",
       "      <td>0</td>\n",
       "      <td>0</td>\n",
       "      <td>0</td>\n",
       "      <td>0</td>\n",
       "      <td>0</td>\n",
       "      <td>0</td>\n",
       "      <td>...</td>\n",
       "      <td>0</td>\n",
       "      <td>0</td>\n",
       "      <td>0</td>\n",
       "      <td>0</td>\n",
       "      <td>0</td>\n",
       "      <td>1</td>\n",
       "      <td>0</td>\n",
       "      <td>0</td>\n",
       "      <td>0</td>\n",
       "      <td>0</td>\n",
       "    </tr>\n",
       "    <tr>\n",
       "      <th>34731548</th>\n",
       "      <td>0</td>\n",
       "      <td>0</td>\n",
       "      <td>0</td>\n",
       "      <td>0</td>\n",
       "      <td>0</td>\n",
       "      <td>0</td>\n",
       "      <td>0</td>\n",
       "      <td>0</td>\n",
       "      <td>0</td>\n",
       "      <td>0</td>\n",
       "      <td>...</td>\n",
       "      <td>0</td>\n",
       "      <td>0</td>\n",
       "      <td>0</td>\n",
       "      <td>0</td>\n",
       "      <td>1</td>\n",
       "      <td>0</td>\n",
       "      <td>0</td>\n",
       "      <td>0</td>\n",
       "      <td>0</td>\n",
       "      <td>0</td>\n",
       "    </tr>\n",
       "    <tr>\n",
       "      <th>36195440</th>\n",
       "      <td>0</td>\n",
       "      <td>0</td>\n",
       "      <td>0</td>\n",
       "      <td>0</td>\n",
       "      <td>0</td>\n",
       "      <td>0</td>\n",
       "      <td>0</td>\n",
       "      <td>0</td>\n",
       "      <td>0</td>\n",
       "      <td>0</td>\n",
       "      <td>...</td>\n",
       "      <td>0</td>\n",
       "      <td>0</td>\n",
       "      <td>0</td>\n",
       "      <td>0</td>\n",
       "      <td>1</td>\n",
       "      <td>0</td>\n",
       "      <td>0</td>\n",
       "      <td>0</td>\n",
       "      <td>0</td>\n",
       "      <td>0</td>\n",
       "    </tr>\n",
       "    <tr>\n",
       "      <th>30249304</th>\n",
       "      <td>0</td>\n",
       "      <td>0</td>\n",
       "      <td>0</td>\n",
       "      <td>0</td>\n",
       "      <td>0</td>\n",
       "      <td>0</td>\n",
       "      <td>0</td>\n",
       "      <td>0</td>\n",
       "      <td>0</td>\n",
       "      <td>0</td>\n",
       "      <td>...</td>\n",
       "      <td>0</td>\n",
       "      <td>0</td>\n",
       "      <td>0</td>\n",
       "      <td>0</td>\n",
       "      <td>1</td>\n",
       "      <td>0</td>\n",
       "      <td>0</td>\n",
       "      <td>0</td>\n",
       "      <td>0</td>\n",
       "      <td>0</td>\n",
       "    </tr>\n",
       "  </tbody>\n",
       "</table>\n",
       "<p>1052952 rows × 33 columns</p>\n",
       "</div>"
      ],
      "text/plain": [
       "             AMERICAN INDIAN/ALASKA NATIVE  ASIAN  ASIAN - ASIAN INDIAN  \\\n",
       "transfer_id                                                               \n",
       "33258284                                 0      0                     0   \n",
       "35223874                                 0      0                     0   \n",
       "38112554                                 0      0                     0   \n",
       "34703856                                 0      0                     0   \n",
       "32952584                                 0      0                     0   \n",
       "...                                    ...    ...                   ...   \n",
       "38978960                                 0      0                     0   \n",
       "34767778                                 0      0                     0   \n",
       "34731548                                 0      0                     0   \n",
       "36195440                                 0      0                     0   \n",
       "30249304                                 0      0                     0   \n",
       "\n",
       "             ASIAN - CHINESE  ASIAN - KOREAN  ASIAN - SOUTH EAST ASIAN  \\\n",
       "transfer_id                                                              \n",
       "33258284                   0               0                         0   \n",
       "35223874                   0               0                         0   \n",
       "38112554                   0               0                         0   \n",
       "34703856                   0               0                         0   \n",
       "32952584                   0               0                         0   \n",
       "...                      ...             ...                       ...   \n",
       "38978960                   0               0                         0   \n",
       "34767778                   0               0                         0   \n",
       "34731548                   0               0                         0   \n",
       "36195440                   0               0                         0   \n",
       "30249304                   0               0                         0   \n",
       "\n",
       "             BLACK/AFRICAN  BLACK/AFRICAN AMERICAN  BLACK/CAPE VERDEAN  \\\n",
       "transfer_id                                                              \n",
       "33258284                 0                       0                   0   \n",
       "35223874                 0                       0                   0   \n",
       "38112554                 0                       0                   0   \n",
       "34703856                 0                       0                   0   \n",
       "32952584                 0                       0                   0   \n",
       "...                    ...                     ...                 ...   \n",
       "38978960                 0                       0                   0   \n",
       "34767778                 0                       0                   0   \n",
       "34731548                 0                       0                   0   \n",
       "36195440                 0                       0                   0   \n",
       "30249304                 0                       0                   0   \n",
       "\n",
       "             BLACK/CARIBBEAN ISLAND  ...  PATIENT DECLINED TO ANSWER  \\\n",
       "transfer_id                          ...                               \n",
       "33258284                          0  ...                           0   \n",
       "35223874                          0  ...                           0   \n",
       "38112554                          0  ...                           0   \n",
       "34703856                          0  ...                           0   \n",
       "32952584                          0  ...                           0   \n",
       "...                             ...  ...                         ...   \n",
       "38978960                          0  ...                           0   \n",
       "34767778                          0  ...                           0   \n",
       "34731548                          0  ...                           0   \n",
       "36195440                          0  ...                           0   \n",
       "30249304                          0  ...                           0   \n",
       "\n",
       "             PORTUGUESE  SOUTH AMERICAN  UNABLE TO OBTAIN  UNKNOWN  WHITE  \\\n",
       "transfer_id                                                                 \n",
       "33258284              0               0                 0        0      1   \n",
       "35223874              0               0                 0        0      1   \n",
       "38112554              0               0                 0        0      1   \n",
       "34703856              0               0                 0        0      1   \n",
       "32952584              0               0                 0        0      1   \n",
       "...                 ...             ...               ...      ...    ...   \n",
       "38978960              0               0                 0        0      1   \n",
       "34767778              0               0                 0        0      1   \n",
       "34731548              0               0                 0        1      0   \n",
       "36195440              0               0                 0        1      0   \n",
       "30249304              0               0                 0        1      0   \n",
       "\n",
       "             WHITE - BRAZILIAN  WHITE - EASTERN EUROPEAN  \\\n",
       "transfer_id                                                \n",
       "33258284                     0                         0   \n",
       "35223874                     0                         0   \n",
       "38112554                     0                         0   \n",
       "34703856                     0                         0   \n",
       "32952584                     0                         0   \n",
       "...                        ...                       ...   \n",
       "38978960                     0                         0   \n",
       "34767778                     0                         0   \n",
       "34731548                     0                         0   \n",
       "36195440                     0                         0   \n",
       "30249304                     0                         0   \n",
       "\n",
       "             WHITE - OTHER EUROPEAN  WHITE - RUSSIAN  \n",
       "transfer_id                                           \n",
       "33258284                          0                0  \n",
       "35223874                          0                0  \n",
       "38112554                          0                0  \n",
       "34703856                          0                0  \n",
       "32952584                          0                0  \n",
       "...                             ...              ...  \n",
       "38978960                          0                0  \n",
       "34767778                          0                0  \n",
       "34731548                          0                0  \n",
       "36195440                          0                0  \n",
       "30249304                          0                0  \n",
       "\n",
       "[1052952 rows x 33 columns]"
      ]
     },
     "execution_count": 106,
     "metadata": {},
     "output_type": "execute_result"
    }
   ],
   "source": [
    "pd."
   ]
  },
  {
   "cell_type": "code",
   "execution_count": 109,
   "id": "f9cc0f15",
   "metadata": {
    "ExecuteTime": {
     "end_time": "2022-10-21T02:55:56.567304Z",
     "start_time": "2022-10-21T02:55:55.721917Z"
    }
   },
   "outputs": [],
   "source": [
    "transfers = transfers.join(pd.get_dummies(transfers.gender,drop_first = True,prefix = 'gender_')).drop(columns = 'gender')\n",
    "transfers = transfers.join(pd.get_dummies(transfers.race)['WHITE'])\n",
    "transfers = transfers.join(pd.get_dummies(transfers.language)['ENGLISH'])\n",
    "transfers = transfers.join(pd.get_dummies(transfers.marital_status,drop_first=True)).drop(columns = 'marital_status')\n",
    "transfers = transfers.join(pd.get_dummies(transfers.insurance,drop_first=True)).drop(columns = 'insurance')\n",
    "transfers = transfers.join(pd.get_dummies(transfers.admission_type,drop_first=True)).drop(columns = 'admission_type')"
   ]
  },
  {
   "cell_type": "code",
   "execution_count": 110,
   "id": "39d710eb",
   "metadata": {
    "ExecuteTime": {
     "end_time": "2022-10-21T02:56:03.343608Z",
     "start_time": "2022-10-21T02:56:02.819611Z"
    }
   },
   "outputs": [
    {
     "name": "stdout",
     "output_type": "stream",
     "text": [
      "<class 'pandas.core.frame.DataFrame'>\n",
      "Int64Index: 1052952 entries, 33258284 to 30249304\n",
      "Data columns (total 44 columns):\n",
      " #   Column                       Non-Null Count    Dtype          \n",
      "---  ------                       --------------    -----          \n",
      " 0   subject_id                   1052952 non-null  int64          \n",
      " 1   eventtype                    1052952 non-null  object         \n",
      " 2   careunit                     1052952 non-null  object         \n",
      " 3   intime                       1052952 non-null  datetime64[ns] \n",
      " 4   outtime                      1052952 non-null  datetime64[ns] \n",
      " 5   event                        1052952 non-null  object         \n",
      " 6   anchor_age                   1052952 non-null  uint8          \n",
      " 7   dod                          263671 non-null   datetime64[ns] \n",
      " 8   hadm_id                      1034425 non-null  Int64          \n",
      " 9   discharge_location           940809 non-null   object         \n",
      " 10  language                     1034425 non-null  object         \n",
      " 11  race                         1047247 non-null  object         \n",
      " 12  A                            1052952 non-null  uint16         \n",
      " 13  B                            1052952 non-null  uint16         \n",
      " 14  C                            1052952 non-null  uint16         \n",
      " 15  D                            1052952 non-null  uint16         \n",
      " 16  G                            1052952 non-null  uint16         \n",
      " 17  H                            1052952 non-null  uint16         \n",
      " 18  J                            1052952 non-null  uint16         \n",
      " 19  L                            1052952 non-null  uint16         \n",
      " 20  M                            1052952 non-null  uint16         \n",
      " 21  N                            1052952 non-null  uint16         \n",
      " 22  P                            1052952 non-null  uint16         \n",
      " 23  R                            1052952 non-null  uint16         \n",
      " 24  S                            1052952 non-null  uint16         \n",
      " 25  V                            1052952 non-null  uint16         \n",
      " 26  pres_number                  1052952 non-null  uint16         \n",
      " 27  duration                     1052952 non-null  timedelta64[ns]\n",
      " 28  gender__M                    1052952 non-null  uint8          \n",
      " 29  WHITE                        1052952 non-null  uint8          \n",
      " 30  ENGLISH                      1052952 non-null  uint8          \n",
      " 31  MARRIED                      1052952 non-null  uint8          \n",
      " 32  SINGLE                       1052952 non-null  uint8          \n",
      " 33  WIDOWED                      1052952 non-null  uint8          \n",
      " 34  Medicare                     1052952 non-null  uint8          \n",
      " 35  Other                        1052952 non-null  uint8          \n",
      " 36  DIRECT EMER.                 1052952 non-null  uint8          \n",
      " 37  DIRECT OBSERVATION           1052952 non-null  uint8          \n",
      " 38  ELECTIVE                     1052952 non-null  uint8          \n",
      " 39  EU OBSERVATION               1052952 non-null  uint8          \n",
      " 40  EW EMER.                     1052952 non-null  uint8          \n",
      " 41  OBSERVATION ADMIT            1052952 non-null  uint8          \n",
      " 42  SURGICAL SAME DAY ADMISSION  1052952 non-null  uint8          \n",
      " 43  URGENT                       1052952 non-null  uint8          \n",
      "dtypes: Int64(1), datetime64[ns](3), int64(1), object(6), timedelta64[ns](1), uint16(15), uint8(17)\n",
      "memory usage: 184.9+ MB\n"
     ]
    }
   ],
   "source": [
    "transfers.info()"
   ]
  },
  {
   "cell_type": "code",
   "execution_count": 114,
   "id": "f6a69fa3",
   "metadata": {
    "ExecuteTime": {
     "end_time": "2022-10-21T03:02:09.933741Z",
     "start_time": "2022-10-21T03:02:09.781540Z"
    }
   },
   "outputs": [],
   "source": [
    "from sklearn.preprocessing import LabelEncoder\n",
    "\n",
    "le = LabelEncoder()\n",
    "le.fit(transfers.event)\n",
    "transfers_y = le.transform(transfers.event)"
   ]
  },
  {
   "cell_type": "code",
   "execution_count": 122,
   "id": "a7d36e87",
   "metadata": {
    "ExecuteTime": {
     "end_time": "2022-10-21T03:05:36.475279Z",
     "start_time": "2022-10-21T03:05:36.461108Z"
    }
   },
   "outputs": [
    {
     "data": {
      "text/plain": [
       "1052940"
      ]
     },
     "execution_count": 122,
     "metadata": {},
     "output_type": "execute_result"
    }
   ],
   "source": [
    "len(transfers_X)"
   ]
  },
  {
   "cell_type": "code",
   "execution_count": 128,
   "id": "87732d57",
   "metadata": {
    "ExecuteTime": {
     "end_time": "2022-10-21T03:09:45.582212Z",
     "start_time": "2022-10-21T03:09:45.576209Z"
    }
   },
   "outputs": [],
   "source": [
    "X_cols = list(transfers.columns[12:])"
   ]
  },
  {
   "cell_type": "code",
   "execution_count": 129,
   "id": "c4dc084b",
   "metadata": {
    "ExecuteTime": {
     "end_time": "2022-10-21T03:09:47.558871Z",
     "start_time": "2022-10-21T03:09:47.542898Z"
    }
   },
   "outputs": [],
   "source": [
    "X_cols.append('anchor_age')"
   ]
  },
  {
   "cell_type": "code",
   "execution_count": 130,
   "id": "0aa3c56f",
   "metadata": {
    "ExecuteTime": {
     "end_time": "2022-10-21T03:10:00.497097Z",
     "start_time": "2022-10-21T03:09:59.963922Z"
    }
   },
   "outputs": [],
   "source": [
    "transfers_X = transfers[X_cols]\n",
    "\n",
    "X_train, X_test, y_train, y_test = train_test_split(\n",
    "    transfers_X, transfers_y, stratify = transfers_y, random_state = 42, test_size = 0.3\n",
    ")\n",
    "\n"
   ]
  },
  {
   "cell_type": "code",
   "execution_count": null,
   "id": "6e013902",
   "metadata": {
    "ExecuteTime": {
     "start_time": "2022-10-21T03:16:58.336Z"
    }
   },
   "outputs": [],
   "source": [
    "# Importing functions and classes\n",
    "from sklearn.preprocessing import MinMaxScaler  \n",
    "from sklearn.preprocessing import StandardScaler  \n",
    "from sklearn.linear_model import LogisticRegression \n",
    "from sklearn.pipeline import Pipeline \n",
    "from sklearn.model_selection import GridSearchCV # Grid search tool to try multiple parameters and models\n",
    "from sklearn.decomposition import PCA\n",
    "\n",
    "cv = None # Typically 10, something that would be okay for this dataset as it is large enough, but set as 5 for speed \n",
    "\n",
    "# Defining paipeline\n",
    "# In our pipeline, the data will be normalised before a logistic regression is fitted \n",
    "estimators = [('scaler', StandardScaler()),\n",
    "              ('dim_reduc', PCA()),# By default in our grid, the normalisation will use standard scaler\n",
    "              ('model',LogisticRegression())] # And logistic regression only (as specified in grid as well)\n",
    "\n",
    "pipe = Pipeline(estimators)\n",
    "# Defining parameter grid\n",
    "\n",
    "n_range = [5,10,15]\n",
    "C_range = np.logspace(-3,5,num = 9) # Setting range of 9 C values for regularisation from 0.001 to 10,000\n",
    "\n",
    "param_grid = [\n",
    "    {\n",
    "        'scaler':[StandardScaler()], # Normalisations\n",
    "        'model':[LogisticRegression()], # Model\n",
    "        'model__C':C_range, # Regularisation parameter\n",
    "        'dim_reduc__n_components':n_range\n",
    "    }\n",
    "]\n",
    "\n",
    "# Creating grid using 10 folds (this is the standard and we have enough data so that the training set will not be too small)\n",
    "grid_logreg = GridSearchCV(pipe, param_grid, cv = cv)\n",
    "# Fitting grid (or models)\n",
    "logreg_fitted_grid = grid_logreg.fit(X_train, y_train)\n",
    "display(logreg_fitted_grid.best_estimator_)"
   ]
  },
  {
   "cell_type": "code",
   "execution_count": null,
   "id": "dd8e8c5f",
   "metadata": {},
   "outputs": [],
   "source": []
  },
  {
   "cell_type": "code",
   "execution_count": null,
   "id": "2a3df03b",
   "metadata": {},
   "outputs": [],
   "source": []
  },
  {
   "cell_type": "code",
   "execution_count": null,
   "id": "49a97c6a",
   "metadata": {},
   "outputs": [],
   "source": []
  },
  {
   "cell_type": "code",
   "execution_count": null,
   "id": "2089dd5b",
   "metadata": {},
   "outputs": [],
   "source": []
  },
  {
   "cell_type": "code",
   "execution_count": null,
   "id": "b70152d3",
   "metadata": {},
   "outputs": [],
   "source": []
  },
  {
   "cell_type": "code",
   "execution_count": null,
   "id": "dd956183",
   "metadata": {},
   "outputs": [],
   "source": []
  },
  {
   "cell_type": "code",
   "execution_count": null,
   "id": "29e3e3eb",
   "metadata": {},
   "outputs": [],
   "source": []
  },
  {
   "cell_type": "code",
   "execution_count": null,
   "id": "785de045",
   "metadata": {
    "ExecuteTime": {
     "start_time": "2022-10-21T03:18:32.118Z"
    }
   },
   "outputs": [],
   "source": [
    "transfers_train = X_train.join"
   ]
  },
  {
   "cell_type": "code",
   "execution_count": null,
   "id": "249ee85d",
   "metadata": {
    "ExecuteTime": {
     "end_time": "2022-10-19T22:05:37.031198Z",
     "start_time": "2022-10-19T22:05:37.031198Z"
    }
   },
   "outputs": [],
   "source": [
    "fig1 = plt.figure(figsize = (8,8))\n",
    "transfers_trn = X_train.join()\n",
    "transfers.groupby('event')\n",
    "plt.title('Patients that ended up in oncology, cardiology and ICU-related\\ndepartments had many more prescriptions in previous transfer',pad = 15)\n",
    "plt.xlabel('Number of prescriptions per transfer')\n",
    "fig1.savefig('prespertransfervsunit.svg',bbox_inches='tight')"
   ]
  },
  {
   "cell_type": "code",
   "execution_count": null,
   "id": "fefce3cc",
   "metadata": {
    "ExecuteTime": {
     "end_time": "2022-10-19T22:05:37.032200Z",
     "start_time": "2022-10-19T22:05:37.032200Z"
    }
   },
   "outputs": [],
   "source": [
    "fig2 = plt.figure(figsize = (10,8))\n",
    "sns.heatmap(catsperevent.divide(presperevent, axis = 0)*100,cmap='viridis',xticklabels= True)\n",
    "plt.title('Patients that ended up in different departments were prescribed\\ndifferent types of drugs',pad = 15)\n",
    "plt.xlabel('Number of prescriptions per transfer')\n",
    "fig2.savefig('drugtypesvcareunit.svg',bbox_inches='tight')"
   ]
  },
  {
   "cell_type": "code",
   "execution_count": null,
   "id": "7646cd15",
   "metadata": {
    "ExecuteTime": {
     "end_time": "2022-10-19T22:05:37.033199Z",
     "start_time": "2022-10-19T22:05:37.033199Z"
    },
    "scrolled": false
   },
   "outputs": [],
   "source": [
    "cat = list('ABCDGHJLMNPRSV')\n",
    "cat.append('event')\n",
    "catsperevent = transfers[cat].groupby('event')\n",
    "catsperevent = catsperevent.sum()/catsperevent.count().sort_index()\n",
    "presperevent = catsperevent.sum(axis = 1).sort_index(ascending = False)\n",
    "\n",
    "fig,_ = plt.subplots(2,1,figsize = (8,15))\n",
    "\n",
    "plt.subplot(2,1,1)\n",
    "presperevent.sort_values().plot.barh()\n",
    "\n",
    "plt.subplot(2,1,2)\n",
    "sns.heatmap(catsperevent.divide(presperevent, axis = 0)*100,cmap='viridis')\n",
    "\n",
    "plt.show()\n"
   ]
  },
  {
   "cell_type": "code",
   "execution_count": null,
   "id": "eb52f76d",
   "metadata": {
    "ExecuteTime": {
     "end_time": "2022-10-19T22:05:37.034200Z",
     "start_time": "2022-10-19T22:05:37.034200Z"
    }
   },
   "outputs": [],
   "source": [
    "cat = list('ABCDGHJLMNPRSV')\n",
    "cat.append('event')\n",
    "catsperevent = transfers[cat].groupby('event')\n",
    "catsperevent = catsperevent.sum()/catsperevent.count()"
   ]
  },
  {
   "cell_type": "markdown",
   "id": "ca29706a",
   "metadata": {
    "deletable": false,
    "editable": false,
    "run_control": {
     "frozen": true
    }
   },
   "source": [
    "Okay, heatmap probably relevant, but I need to normalise the number of prescriptions per event by the duration of the stay"
   ]
  },
  {
   "cell_type": "code",
   "execution_count": null,
   "id": "eb384379",
   "metadata": {
    "ExecuteTime": {
     "end_time": "2022-10-19T22:05:37.035198Z",
     "start_time": "2022-10-19T22:05:37.035198Z"
    },
    "deletable": false,
    "editable": false,
    "run_control": {
     "frozen": true
    }
   },
   "outputs": [],
   "source": [
    "tran"
   ]
  },
  {
   "cell_type": "code",
   "execution_count": null,
   "id": "73bac84a",
   "metadata": {
    "deletable": false,
    "editable": false,
    "run_control": {
     "frozen": true
    }
   },
   "outputs": [],
   "source": []
  },
  {
   "cell_type": "code",
   "execution_count": null,
   "id": "d3054127",
   "metadata": {
    "deletable": false,
    "editable": false,
    "run_control": {
     "frozen": true
    }
   },
   "outputs": [],
   "source": []
  },
  {
   "cell_type": "code",
   "execution_count": null,
   "id": "bf3b5232",
   "metadata": {
    "deletable": false,
    "editable": false,
    "run_control": {
     "frozen": true
    }
   },
   "outputs": [],
   "source": []
  },
  {
   "cell_type": "code",
   "execution_count": null,
   "id": "5916ef43",
   "metadata": {
    "deletable": false,
    "editable": false,
    "run_control": {
     "frozen": true
    }
   },
   "outputs": [],
   "source": []
  },
  {
   "cell_type": "code",
   "execution_count": null,
   "id": "6554409d",
   "metadata": {
    "ExecuteTime": {
     "end_time": "2022-10-19T22:05:37.036199Z",
     "start_time": "2022-10-19T22:05:37.036199Z"
    },
    "deletable": false,
    "editable": false,
    "run_control": {
     "frozen": true
    }
   },
   "outputs": [],
   "source": [
    "poe = pd.read_csv('../Capstone data/MIMIC IV/poe.csv')"
   ]
  },
  {
   "cell_type": "code",
   "execution_count": null,
   "id": "423165ec",
   "metadata": {
    "ExecuteTime": {
     "end_time": "2022-10-19T22:05:37.037197Z",
     "start_time": "2022-10-19T22:05:37.037197Z"
    },
    "deletable": false,
    "editable": false,
    "run_control": {
     "frozen": true
    }
   },
   "outputs": [],
   "source": [
    "transfers[cat]"
   ]
  },
  {
   "cell_type": "code",
   "execution_count": null,
   "id": "e6b22e0f",
   "metadata": {
    "ExecuteTime": {
     "end_time": "2022-10-19T22:05:37.038198Z",
     "start_time": "2022-10-19T22:05:37.038198Z"
    },
    "deletable": false,
    "editable": false,
    "run_control": {
     "frozen": true
    }
   },
   "outputs": [],
   "source": [
    "poe.order_type.value_counts(normalize = True)\n"
   ]
  },
  {
   "cell_type": "code",
   "execution_count": null,
   "id": "836fc25b",
   "metadata": {
    "ExecuteTime": {
     "end_time": "2022-10-19T22:05:37.039199Z",
     "start_time": "2022-10-19T22:05:37.039199Z"
    },
    "deletable": false,
    "editable": false,
    "run_control": {
     "frozen": true
    }
   },
   "outputs": [],
   "source": [
    "cap_utils.display_sbs(['Order subtype value counts'],poe.order_subtype.value_counts(normalize = True))"
   ]
  },
  {
   "cell_type": "markdown",
   "id": "bad7b468",
   "metadata": {
    "deletable": false,
    "editable": false,
    "run_control": {
     "frozen": true
    }
   },
   "source": [
    "Probably dropping medications? Could add order sub type and filling the empty values (loads) with the simple order type?"
   ]
  },
  {
   "cell_type": "code",
   "execution_count": null,
   "id": "fbb02ae0",
   "metadata": {
    "ExecuteTime": {
     "end_time": "2022-10-19T22:05:37.041198Z",
     "start_time": "2022-10-19T22:05:37.041198Z"
    },
    "deletable": false,
    "editable": false,
    "run_control": {
     "frozen": true
    }
   },
   "outputs": [],
   "source": [
    "ed_dupl = edstays.drop(columns = 'stay_id').duplicated()\n",
    "print(ed_dupl.sum())\n",
    "edstays = edstays[~ed_dupl]"
   ]
  },
  {
   "cell_type": "code",
   "execution_count": null,
   "id": "ec22299d",
   "metadata": {
    "ExecuteTime": {
     "end_time": "2022-10-19T22:05:37.042198Z",
     "start_time": "2022-10-19T22:05:37.042198Z"
    },
    "deletable": false,
    "editable": false,
    "run_control": {
     "frozen": true
    }
   },
   "outputs": [],
   "source": [
    "edstays.info()"
   ]
  },
  {
   "cell_type": "code",
   "execution_count": null,
   "id": "7f38868b",
   "metadata": {
    "ExecuteTime": {
     "end_time": "2022-10-19T22:05:37.043197Z",
     "start_time": "2022-10-19T22:05:37.043197Z"
    },
    "deletable": false,
    "editable": false,
    "run_control": {
     "frozen": true
    }
   },
   "outputs": [],
   "source": [
    "uniqueid_set = set(transfers.hadm_id.unique())\n",
    "hadm_len = len(uniqueid_set)\n",
    "unique_stayid = edstays.stay_id.unique()\n",
    "stay_len = len(unique_stayid)\n",
    "set_len = 0\n",
    "i = 0\n",
    "while (len(uniqueid_set) > set_len) & (i<stay_len):\n",
    "    set_len = len(uniqueid_set)\n",
    "    uniqueid_set.add(unique_stayid[i])\n",
    "    i +=1\n",
    "if set_len == hadm_len + stay_len-1:\n",
    "    print('All good')\n",
    "else:\n",
    "    print('caca')"
   ]
  },
  {
   "cell_type": "code",
   "execution_count": null,
   "id": "b26a75d3",
   "metadata": {
    "ExecuteTime": {
     "end_time": "2022-10-19T22:05:37.044198Z",
     "start_time": "2022-10-19T22:05:37.044198Z"
    },
    "deletable": false,
    "editable": false,
    "run_control": {
     "frozen": true
    }
   },
   "outputs": [],
   "source": [
    "edstays = edstays[['subject_id','stay_id','intime','outtime']]"
   ]
  },
  {
   "cell_type": "code",
   "execution_count": null,
   "id": "69bf7310",
   "metadata": {
    "ExecuteTime": {
     "end_time": "2022-10-19T22:05:37.045198Z",
     "start_time": "2022-10-19T22:05:37.045198Z"
    },
    "deletable": false,
    "editable": false,
    "run_control": {
     "frozen": true
    }
   },
   "outputs": [],
   "source": [
    "edstays.info()"
   ]
  },
  {
   "cell_type": "code",
   "execution_count": null,
   "id": "7fd1a593",
   "metadata": {
    "ExecuteTime": {
     "end_time": "2022-10-19T22:05:37.046198Z",
     "start_time": "2022-10-19T22:05:37.046198Z"
    },
    "deletable": false,
    "editable": false,
    "run_control": {
     "frozen": true
    }
   },
   "outputs": [],
   "source": [
    "edstays['intime'] = pd.to_datetime(edstays.intime,infer_datetime_format=True)\n",
    "edstays['outtime'] = pd.to_datetime(edstays.outtime,infer_datetime_format=True)"
   ]
  },
  {
   "cell_type": "code",
   "execution_count": null,
   "id": "ac2362ea",
   "metadata": {
    "ExecuteTime": {
     "end_time": "2022-10-19T22:05:37.047200Z",
     "start_time": "2022-10-19T22:05:37.047200Z"
    },
    "deletable": false,
    "editable": false,
    "run_control": {
     "frozen": true
    }
   },
   "outputs": [],
   "source": [
    "ed_dupl = edstays.drop(columns = 'stay_id').duplicated()\n",
    "print(ed_dupl.sum())\n",
    "edstays = edstays[~ed_dupl]"
   ]
  },
  {
   "cell_type": "code",
   "execution_count": null,
   "id": "0ed2c390",
   "metadata": {
    "ExecuteTime": {
     "end_time": "2022-10-19T22:05:37.049198Z",
     "start_time": "2022-10-19T22:05:37.049198Z"
    },
    "deletable": false,
    "editable": false,
    "run_control": {
     "frozen": true
    }
   },
   "outputs": [],
   "source": [
    "transfers = transfers.merge(\n",
    "                        edstays,\n",
    "                        left_on = ['subject_id','intime','outtime'], \n",
    "                        right_on = ['subject_id','intime','outtime'],\n",
    "                        how = 'left',\n",
    "                        copy = False)"
   ]
  },
  {
   "cell_type": "code",
   "execution_count": null,
   "id": "5f2656c9",
   "metadata": {
    "ExecuteTime": {
     "end_time": "2022-10-19T22:05:37.050200Z",
     "start_time": "2022-10-19T22:05:37.050200Z"
    },
    "deletable": false,
    "editable": false,
    "run_control": {
     "frozen": true
    }
   },
   "outputs": [],
   "source": [
    "transfers.loc[transfers.hadm_id.isna(),'hadm_id'] = transfers.loc[transfers.hadm_id.isna(),'stay_id']\n",
    "sum(transfers.hadm_id.isna())"
   ]
  },
  {
   "cell_type": "code",
   "execution_count": null,
   "id": "bbf99e98",
   "metadata": {
    "deletable": false,
    "editable": false,
    "run_control": {
     "frozen": true
    }
   },
   "outputs": [],
   "source": []
  },
  {
   "cell_type": "code",
   "execution_count": null,
   "id": "78261149",
   "metadata": {
    "deletable": false,
    "editable": false,
    "run_control": {
     "frozen": true
    }
   },
   "outputs": [],
   "source": []
  },
  {
   "cell_type": "code",
   "execution_count": null,
   "id": "992423d8",
   "metadata": {
    "deletable": false,
    "editable": false,
    "run_control": {
     "frozen": true
    }
   },
   "outputs": [],
   "source": []
  },
  {
   "cell_type": "code",
   "execution_count": null,
   "id": "346827fe",
   "metadata": {
    "deletable": false,
    "editable": false,
    "run_control": {
     "frozen": true
    }
   },
   "outputs": [],
   "source": []
  },
  {
   "cell_type": "code",
   "execution_count": null,
   "id": "ad587474",
   "metadata": {
    "ExecuteTime": {
     "end_time": "2022-10-19T22:05:37.051200Z",
     "start_time": "2022-10-19T22:05:37.051200Z"
    },
    "deletable": false,
    "editable": false,
    "run_control": {
     "frozen": true
    }
   },
   "outputs": [],
   "source": [
    "transfers.careunit.value_counts()"
   ]
  },
  {
   "cell_type": "code",
   "execution_count": null,
   "id": "a8b8a681",
   "metadata": {
    "deletable": false,
    "editable": false,
    "run_control": {
     "frozen": true
    },
    "scrolled": true
   },
   "outputs": [],
   "source": [
    "cat_pres.A.value_counts(normalize = True)*100"
   ]
  },
  {
   "cell_type": "code",
   "execution_count": null,
   "id": "2d1ba554",
   "metadata": {
    "deletable": false,
    "editable": false,
    "run_control": {
     "frozen": true
    }
   },
   "outputs": [],
   "source": [
    "unclass_drugs = cat_pres.drug[cat_pres.A<0].drop_duplicates()\n",
    "udrugs_gsnvc = cat_pres.gsn[cat_pres.A<0].value_counts()\n",
    "gsn_udrugs = udrugs_gsnvc[udrugs_gsnvc>1].index.values"
   ]
  },
  {
   "cell_type": "code",
   "execution_count": null,
   "id": "a72c3fb7",
   "metadata": {
    "deletable": false,
    "editable": false,
    "run_control": {
     "frozen": true
    }
   },
   "outputs": [],
   "source": [
    "cat.append('gsn')\n",
    "cat_gsn = cat_pres.loc[cat_pres.gsn.isin(gsn_udrugs),cat].groupby('gsn').max()\n",
    "cat_gsn = cat_gsn[cat_gsn.A>-1]\n",
    "cat_gsn"
   ]
  },
  {
   "cell_type": "code",
   "execution_count": null,
   "id": "85475b2d",
   "metadata": {
    "deletable": false,
    "editable": false,
    "run_control": {
     "frozen": true
    }
   },
   "outputs": [],
   "source": [
    "cat = cat[:-1]\n",
    "cat_pres[cat] = cat_pres[cat].where(cat_pres[cat]>=0)"
   ]
  },
  {
   "cell_type": "code",
   "execution_count": null,
   "id": "27529320",
   "metadata": {
    "deletable": false,
    "editable": false,
    "run_control": {
     "frozen": true
    }
   },
   "outputs": [],
   "source": [
    "cat_pres.set_index(ind,append = True)"
   ]
  },
  {
   "cell_type": "code",
   "execution_count": null,
   "id": "558a48a7",
   "metadata": {
    "deletable": false,
    "editable": false,
    "run_control": {
     "frozen": true
    }
   },
   "outputs": [],
   "source": [
    "cat_pres.set_index('gsn', inplace = True)\n",
    "cat_pres.update(cat_gsn)\n",
    "cat_pres.set_index(ind)"
   ]
  },
  {
   "cell_type": "code",
   "execution_count": null,
   "id": "373ea0ac",
   "metadata": {
    "deletable": false,
    "editable": false,
    "run_control": {
     "frozen": true
    }
   },
   "outputs": [],
   "source": [
    "cat_pres.head()"
   ]
  },
  {
   "cell_type": "code",
   "execution_count": null,
   "id": "62ede993",
   "metadata": {
    "deletable": false,
    "editable": false,
    "run_control": {
     "frozen": true
    }
   },
   "outputs": [],
   "source": [
    "sum(cat_pres.drug.str.contains('polyvalent'))"
   ]
  },
  {
   "cell_type": "code",
   "execution_count": null,
   "id": "9538c3a8",
   "metadata": {
    "deletable": false,
    "editable": false,
    "run_control": {
     "frozen": true
    }
   },
   "outputs": [],
   "source": [
    "cat_pres.gsn[misspelt_drugs_bool].value_counts().describe()"
   ]
  },
  {
   "cell_type": "code",
   "execution_count": null,
   "id": "70ad53aa",
   "metadata": {
    "deletable": false,
    "editable": false,
    "run_control": {
     "frozen": true
    }
   },
   "outputs": [],
   "source": [
    "(5303415+7791711)/len(cat_pres)"
   ]
  },
  {
   "cell_type": "code",
   "execution_count": null,
   "id": "e92088ad",
   "metadata": {
    "deletable": false,
    "editable": false,
    "run_control": {
     "frozen": true
    }
   },
   "outputs": [],
   "source": []
  },
  {
   "cell_type": "code",
   "execution_count": null,
   "id": "f180a082",
   "metadata": {
    "deletable": false,
    "editable": false,
    "run_control": {
     "frozen": true
    }
   },
   "outputs": [],
   "source": []
  },
  {
   "cell_type": "code",
   "execution_count": null,
   "id": "83b9b6d9",
   "metadata": {
    "deletable": false,
    "editable": false,
    "run_control": {
     "frozen": true
    }
   },
   "outputs": [],
   "source": []
  },
  {
   "cell_type": "code",
   "execution_count": null,
   "id": "f7f97f26",
   "metadata": {
    "deletable": false,
    "editable": false,
    "run_control": {
     "frozen": true
    }
   },
   "outputs": [],
   "source": [
    "cat"
   ]
  },
  {
   "cell_type": "code",
   "execution_count": null,
   "id": "cdf58a45",
   "metadata": {
    "deletable": false,
    "editable": false,
    "run_control": {
     "frozen": true
    }
   },
   "outputs": [],
   "source": [
    "cat = list('ABCDGHJLMNPRSV')\n",
    "cat.append('drug')\n",
    "cat_drug = cat_pres[cat].fillna(0.0001).groupby('formulary_drug_cd',dropna = False).sum()\n",
    "cat_drug"
   ]
  },
  {
   "cell_type": "code",
   "execution_count": null,
   "id": "4f0639ad",
   "metadata": {
    "deletable": false,
    "editable": false,
    "run_control": {
     "frozen": true
    }
   },
   "outputs": [],
   "source": []
  },
  {
   "cell_type": "code",
   "execution_count": null,
   "id": "87786be5",
   "metadata": {
    "deletable": false,
    "editable": false,
    "run_control": {
     "frozen": true
    }
   },
   "outputs": [],
   "source": [
    "atr4_pres.atc4_name.nunique()"
   ]
  },
  {
   "cell_type": "markdown",
   "id": "bc492f33",
   "metadata": {
    "deletable": false,
    "editable": false,
    "run_control": {
     "frozen": true
    }
   },
   "source": [
    "The missing values labelled as 0 are now empty strings due to the conversion. There may be other values that are not 0, maybe even some could be in other ndc formats (hyphenated or with less digits). We can find out how many rows have which number of digits."
   ]
  },
  {
   "cell_type": "markdown",
   "id": "3ea91aca",
   "metadata": {
    "deletable": false,
    "editable": false,
    "run_control": {
     "frozen": true
    }
   },
   "source": [
    "So all fields that do not have 9-digit numbers have no digits. We can consider all of these as missing values."
   ]
  },
  {
   "cell_type": "markdown",
   "id": "7bda0099",
   "metadata": {
    "deletable": false,
    "editable": false,
    "run_control": {
     "frozen": true
    }
   },
   "source": [
    "More than 12% of ndc fields are missing. Some of the drugs listed here may not have an ndc (Sodium Chloride flush on 2nd row for instance), but others may be mistakes. NDC is specific to product, not to drug (same drug from different companies will have a different code) so filling from the table would not be very accurate. Given that what we need the NDC just to classify our drugs, we will leave these fields blank and will fill the categories instead after NDC-matching.\n"
   ]
  },
  {
   "cell_type": "code",
   "execution_count": null,
   "id": "229ef0de",
   "metadata": {
    "deletable": false,
    "editable": false,
    "run_control": {
     "frozen": true
    }
   },
   "outputs": [],
   "source": [
    "prescriptions.ndc[~missing_ndc].drop_duplicates().to_csv('Unique_NDCs.csv')"
   ]
  },
  {
   "cell_type": "markdown",
   "id": "f411d1f5",
   "metadata": {
    "deletable": false,
    "editable": false,
    "run_control": {
     "frozen": true
    }
   },
   "source": [
    "Let us see if we can fill these missing values by using the other fields in the table. pharmacy_id, gsn, drug and formulary_drug_cd could be used for this."
   ]
  },
  {
   "cell_type": "code",
   "execution_count": null,
   "id": "cb1ce5d9",
   "metadata": {
    "deletable": false,
    "editable": false,
    "run_control": {
     "frozen": true
    }
   },
   "outputs": [],
   "source": [
    "prescriptions.formulary_drug_cd.info()"
   ]
  },
  {
   "cell_type": "code",
   "execution_count": null,
   "id": "3457a8da",
   "metadata": {
    "deletable": false,
    "editable": false,
    "run_control": {
     "frozen": true
    }
   },
   "outputs": [],
   "source": [
    "fdrugna = prescriptions[prescriptions.formulary_drug_cd.isna()]"
   ]
  },
  {
   "cell_type": "code",
   "execution_count": null,
   "id": "9807b9d0",
   "metadata": {
    "deletable": false,
    "editable": false,
    "run_control": {
     "frozen": true
    }
   },
   "outputs": [],
   "source": [
    "def df_filler(x):\n",
    "    \n",
    "\n",
    "prescriptions.formulary_drug_cd[prescriptions.drug.isin(fdrugna.drug)].isna()"
   ]
  },
  {
   "cell_type": "code",
   "execution_count": null,
   "id": "54a02f04",
   "metadata": {
    "deletable": false,
    "editable": false,
    "run_control": {
     "frozen": true
    }
   },
   "outputs": [],
   "source": [
    "prescriptions.gsn.value_counts()"
   ]
  },
  {
   "cell_type": "code",
   "execution_count": null,
   "id": "888b8515",
   "metadata": {
    "deletable": false,
    "editable": false,
    "run_control": {
     "frozen": true
    }
   },
   "outputs": [],
   "source": [
    "prescriptions.pharmacy_id.value_counts()"
   ]
  },
  {
   "cell_type": "code",
   "execution_count": null,
   "id": "36c18913",
   "metadata": {
    "deletable": false,
    "editable": false,
    "run_control": {
     "frozen": true
    }
   },
   "outputs": [],
   "source": [
    "prescriptions.formulary_drug_cd.value_counts()"
   ]
  },
  {
   "cell_type": "code",
   "execution_count": null,
   "id": "cb311fdf",
   "metadata": {
    "deletable": false,
    "editable": false,
    "run_control": {
     "frozen": true
    }
   },
   "outputs": [],
   "source": [
    "prescriptions.formulary_drug_cd.info()"
   ]
  },
  {
   "cell_type": "code",
   "execution_count": null,
   "id": "beab344e",
   "metadata": {
    "deletable": false,
    "editable": false,
    "run_control": {
     "frozen": true
    }
   },
   "outputs": [],
   "source": [
    "prescriptions.drug = prescriptions.drug.str.lower()\n",
    "prescriptions.drug.value_counts().describe()"
   ]
  },
  {
   "cell_type": "code",
   "execution_count": null,
   "id": "b6b2de19",
   "metadata": {
    "deletable": false,
    "editable": false,
    "run_control": {
     "frozen": true
    }
   },
   "outputs": [],
   "source": [
    "ndc_bool = prescriptions.ndc!=u'' & prescriptions \n",
    "print(sum(ndc_bool))\n",
    "print(sum(~ndc_bool))"
   ]
  },
  {
   "cell_type": "code",
   "execution_count": null,
   "id": "557bc9d0",
   "metadata": {
    "deletable": false,
    "editable": false,
    "run_control": {
     "frozen": true
    }
   },
   "outputs": [],
   "source": [
    "elswhr_bool = prescriptions.loc[~ndc_bool,'drug'].isin(prescriptions.loc[ndc_bool,'drug'])\n",
    "print(round(sum(elswhr_bool)/sum(~ndc_bool)*100,2))"
   ]
  },
  {
   "cell_type": "code",
   "execution_count": null,
   "id": "388b91bf",
   "metadata": {
    "deletable": false,
    "editable": false,
    "run_control": {
     "frozen": true
    }
   },
   "outputs": [],
   "source": [
    "prescriptions.loc[elswhr_bool,'ndc'] = prescriptions.loc[ndc_bool*prescriptions.,'ndc']"
   ]
  },
  {
   "cell_type": "code",
   "execution_count": null,
   "id": "4498b3f9",
   "metadata": {
    "deletable": false,
    "editable": false,
    "run_control": {
     "frozen": true
    }
   },
   "outputs": [],
   "source": [
    "prescriptions.ndc.nunique()"
   ]
  },
  {
   "cell_type": "code",
   "execution_count": null,
   "id": "b383b0dc",
   "metadata": {
    "deletable": false,
    "editable": false,
    "run_control": {
     "frozen": true
    }
   },
   "outputs": [],
   "source": [
    "import numpy as np"
   ]
  },
  {
   "cell_type": "code",
   "execution_count": null,
   "id": "e96a833c",
   "metadata": {
    "deletable": false,
    "editable": false,
    "run_control": {
     "frozen": true
    }
   },
   "outputs": [],
   "source": [
    "medication = pd.read_json(r'C:\\Users\\Nacho\\Downloads\\Medication.ndjson', lines = True)"
   ]
  },
  {
   "cell_type": "code",
   "execution_count": null,
   "id": "9126f251",
   "metadata": {
    "deletable": false,
    "editable": false,
    "run_control": {
     "frozen": true
    }
   },
   "outputs": [],
   "source": [
    "medication.shape"
   ]
  },
  {
   "cell_type": "code",
   "execution_count": null,
   "id": "4a4b5069",
   "metadata": {
    "deletable": false,
    "editable": false,
    "run_control": {
     "frozen": true
    }
   },
   "outputs": [],
   "source": [
    "prescriptions.ndc.head()"
   ]
  },
  {
   "cell_type": "code",
   "execution_count": null,
   "id": "051e4488",
   "metadata": {
    "deletable": false,
    "editable": false,
    "run_control": {
     "frozen": true
    }
   },
   "outputs": [],
   "source": [
    "ndc_desc = pd.read_csv(\"G:\\My Drive\\Brainstation\\Capstone project\\product.csv\",usecols = ['PRODUCTNDC','NONPROPRIETARYNAME','PHARM_CLASSES'])"
   ]
  },
  {
   "cell_type": "code",
   "execution_count": null,
   "id": "ebfc7887",
   "metadata": {
    "deletable": false,
    "editable": false,
    "run_control": {
     "frozen": true
    }
   },
   "outputs": [],
   "source": [
    "ndc_desc = ndc_desc.loc[~ndc_desc.PHARM_CLASSES.isna()].reset_index(drop = True)"
   ]
  },
  {
   "cell_type": "code",
   "execution_count": null,
   "id": "ca34f015",
   "metadata": {
    "deletable": false,
    "editable": false,
    "run_control": {
     "frozen": true
    }
   },
   "outputs": [],
   "source": [
    "ndc_desc.head()"
   ]
  },
  {
   "cell_type": "code",
   "execution_count": null,
   "id": "f95d32c0",
   "metadata": {
    "deletable": false,
    "editable": false,
    "run_control": {
     "frozen": true
    }
   },
   "outputs": [],
   "source": [
    "def sht2nineNDC(x):\n",
    "    x = x.split('-')\n",
    "    x = x[0].zfill(5) + x[1].zfill(4)\n",
    "    \n",
    "    return x\n",
    "    \n",
    "\n",
    "ndc_desc.PRODUCTNDC = ndc_desc.PRODUCTNDC.apply(sht2nineNDC)"
   ]
  },
  {
   "cell_type": "code",
   "execution_count": null,
   "id": "e439199c",
   "metadata": {
    "deletable": false,
    "editable": false,
    "run_control": {
     "frozen": true
    }
   },
   "outputs": [],
   "source": [
    "ndc_desc.PRODUCTNDC.head()"
   ]
  },
  {
   "cell_type": "code",
   "execution_count": null,
   "id": "c3338cf3",
   "metadata": {
    "deletable": false,
    "editable": false,
    "run_control": {
     "frozen": true
    }
   },
   "outputs": [],
   "source": [
    "classpername = ndc_desc[['NONPROPRIETARYNAME','PHARM_CLASSES']].groupby('NONPROPRIETARYNAME').nunique()"
   ]
  },
  {
   "cell_type": "code",
   "execution_count": null,
   "id": "3538812a",
   "metadata": {
    "deletable": false,
    "editable": false,
    "run_control": {
     "frozen": true
    }
   },
   "outputs": [],
   "source": [
    "classperndc = ndc_desc[['PRODUCTNDC','PHARM_CLASSES']].groupby('PRODUCTNDC').nunique()"
   ]
  },
  {
   "cell_type": "code",
   "execution_count": null,
   "id": "5bd99d0e",
   "metadata": {
    "deletable": false,
    "editable": false,
    "run_control": {
     "frozen": true
    }
   },
   "outputs": [],
   "source": [
    "classpername.value_counts()"
   ]
  },
  {
   "cell_type": "code",
   "execution_count": null,
   "id": "8f4b94a4",
   "metadata": {
    "deletable": false,
    "editable": false,
    "run_control": {
     "frozen": true
    }
   },
   "outputs": [],
   "source": [
    "classperndc.value_counts()"
   ]
  },
  {
   "cell_type": "code",
   "execution_count": null,
   "id": "ccb1934a",
   "metadata": {
    "deletable": false,
    "editable": false,
    "run_control": {
     "frozen": true
    }
   },
   "outputs": [],
   "source": [
    "np.mean(prescriptions.ndc.isna())*100"
   ]
  },
  {
   "cell_type": "code",
   "execution_count": null,
   "id": "20ab4066",
   "metadata": {
    "deletable": false,
    "editable": false,
    "run_control": {
     "frozen": true
    },
    "scrolled": true
   },
   "outputs": [],
   "source": [
    "prescriptions.loc[prescriptions.ndc.isna()].head(10)"
   ]
  },
  {
   "cell_type": "code",
   "execution_count": null,
   "id": "21a5ff77",
   "metadata": {
    "deletable": false,
    "editable": false,
    "run_control": {
     "frozen": true
    }
   },
   "outputs": [],
   "source": [
    "ndc_desc.rename(columns = {'PRODUCTNDC' : 'ndc'},inplace = True)"
   ]
  },
  {
   "cell_type": "code",
   "execution_count": null,
   "id": "2bc66cbb",
   "metadata": {
    "deletable": false,
    "editable": false,
    "run_control": {
     "frozen": true
    }
   },
   "outputs": [],
   "source": [
    "presfinal = pd.merge(prescriptions,ndc_desc, how = 'left',on = 'ndc')"
   ]
  },
  {
   "cell_type": "code",
   "execution_count": null,
   "id": "5b77297d",
   "metadata": {
    "deletable": false,
    "editable": false,
    "run_control": {
     "frozen": true
    }
   },
   "outputs": [],
   "source": [
    "np.mean(presfinal.PHARM_CLASSES.isna())"
   ]
  },
  {
   "cell_type": "code",
   "execution_count": null,
   "id": "e6ddbf13",
   "metadata": {
    "deletable": false,
    "editable": false,
    "run_control": {
     "frozen": true
    }
   },
   "outputs": [],
   "source": [
    "np.mean(presfinal.NONPROPRIETARYNAME.isna())"
   ]
  },
  {
   "cell_type": "code",
   "execution_count": null,
   "id": "56ae3526",
   "metadata": {
    "deletable": false,
    "editable": false,
    "run_control": {
     "frozen": true
    }
   },
   "outputs": [],
   "source": [
    "presfinal[['ndc','drug','NONPROPRIETARYNAME','PHARM_CLASSES']]"
   ]
  },
  {
   "cell_type": "code",
   "execution_count": null,
   "id": "21dfadce",
   "metadata": {
    "deletable": false,
    "editable": false,
    "run_control": {
     "frozen": true
    }
   },
   "outputs": [],
   "source": [
    "presfinal.hadm_id.nunique()"
   ]
  },
  {
   "cell_type": "code",
   "execution_count": null,
   "id": "08366bdf",
   "metadata": {
    "deletable": false,
    "editable": false,
    "run_control": {
     "frozen": true
    }
   },
   "outputs": [],
   "source": [
    "len(presfinal.PHARM_CLASSES.isna())-sum(presfinal.PHARM_CLASSES.isna())"
   ]
  },
  {
   "cell_type": "code",
   "execution_count": null,
   "id": "8215c795",
   "metadata": {
    "deletable": false,
    "editable": false,
    "run_control": {
     "frozen": true
    }
   },
   "outputs": [],
   "source": [
    "classperhadm = presfinal[['PHARM_CLASSES','hadm_id']].groupby('hadm_id').nunique()\n",
    "classperhadm.describe()"
   ]
  },
  {
   "cell_type": "code",
   "execution_count": null,
   "id": "9e2fad15",
   "metadata": {
    "deletable": false,
    "editable": false,
    "run_control": {
     "frozen": true
    }
   },
   "outputs": [],
   "source": [
    "classperhadm.loc[classperhadm.PHARM_CLASSES == 0].count()"
   ]
  },
  {
   "cell_type": "code",
   "execution_count": null,
   "id": "e5cda4b0",
   "metadata": {
    "deletable": false,
    "editable": false,
    "run_control": {
     "frozen": true
    }
   },
   "outputs": [],
   "source": [
    "prescriptions.ndc.apply(lambda x: str(x)[:-2].zfill(9))"
   ]
  },
  {
   "cell_type": "code",
   "execution_count": null,
   "id": "e721de5c",
   "metadata": {
    "deletable": false,
    "editable": false,
    "run_control": {
     "frozen": true
    }
   },
   "outputs": [],
   "source": [
    "print(ndc_desc.NONPROPRIETARYNAME.nunique())\n",
    "print(ndc_desc_clean.NONPROPRIETARYNAME.nunique())"
   ]
  },
  {
   "cell_type": "code",
   "execution_count": null,
   "id": "b905011b",
   "metadata": {
    "deletable": false,
    "editable": false,
    "run_control": {
     "frozen": true
    }
   },
   "outputs": [],
   "source": [
    "ndc_desc.shape"
   ]
  },
  {
   "cell_type": "code",
   "execution_count": null,
   "id": "64179536",
   "metadata": {
    "deletable": false,
    "editable": false,
    "run_control": {
     "frozen": true
    }
   },
   "outputs": [],
   "source": [
    "ndc_desc.PRODUCTNDC.apply(lambda x: int(x.replace('-','')))"
   ]
  },
  {
   "cell_type": "code",
   "execution_count": null,
   "id": "ecbbc9e0",
   "metadata": {
    "deletable": false,
    "editable": false,
    "run_control": {
     "frozen": true
    }
   },
   "outputs": [],
   "source": [
    "ndc_desc.PHARM_CLASSES.value_counts"
   ]
  },
  {
   "cell_type": "code",
   "execution_count": null,
   "id": "3493b16d",
   "metadata": {
    "deletable": false,
    "editable": false,
    "run_control": {
     "frozen": true
    }
   },
   "outputs": [],
   "source": [
    "poe = pd.read_csv('MIMIC IV ED/poe.csv')"
   ]
  },
  {
   "cell_type": "code",
   "execution_count": null,
   "id": "0669bdf1",
   "metadata": {
    "deletable": false,
    "editable": false,
    "run_control": {
     "frozen": true
    },
    "scrolled": true
   },
   "outputs": [],
   "source": [
    "poe.order_status.value_counts(normalize = True)"
   ]
  },
  {
   "cell_type": "code",
   "execution_count": null,
   "id": "4aed4b65",
   "metadata": {
    "deletable": false,
    "editable": false,
    "run_control": {
     "frozen": true
    }
   },
   "outputs": [],
   "source": [
    "poe.loc[poe.order_type == 'Lab'].order_subtype.value_counts()"
   ]
  },
  {
   "cell_type": "code",
   "execution_count": null,
   "id": "7a3b5a33",
   "metadata": {
    "deletable": false,
    "editable": false,
    "run_control": {
     "frozen": true
    }
   },
   "outputs": [],
   "source": [
    "poe.order_type.value_counts()"
   ]
  },
  {
   "cell_type": "code",
   "execution_count": null,
   "id": "bffc93d0",
   "metadata": {
    "deletable": false,
    "editable": false,
    "run_control": {
     "frozen": true
    }
   },
   "outputs": [],
   "source": [
    "admissions = pd.read_csv('MIMIC IV ED/admissions.csv')"
   ]
  },
  {
   "cell_type": "code",
   "execution_count": null,
   "id": "d056fbc2",
   "metadata": {
    "deletable": false,
    "editable": false,
    "run_control": {
     "frozen": true
    }
   },
   "outputs": [],
   "source": [
    "admissions.race.value_counts(normalize = True)"
   ]
  },
  {
   "cell_type": "code",
   "execution_count": null,
   "id": "1056df71",
   "metadata": {
    "deletable": false,
    "editable": false,
    "run_control": {
     "frozen": true
    }
   },
   "outputs": [],
   "source": [
    "sum(admissions.admission_location.isna())"
   ]
  },
  {
   "cell_type": "code",
   "execution_count": null,
   "id": "cf569e77",
   "metadata": {
    "deletable": false,
    "editable": false,
    "run_control": {
     "frozen": true
    }
   },
   "outputs": [],
   "source": [
    "admissions.admission_location.value_counts(normalize = True)"
   ]
  },
  {
   "cell_type": "code",
   "execution_count": null,
   "id": "fcb00ab7",
   "metadata": {
    "deletable": false,
    "editable": false,
    "run_control": {
     "frozen": true
    }
   },
   "outputs": [],
   "source": [
    "transfers = pd.read_csv('MIMIC IV ED/transfers.csv')"
   ]
  },
  {
   "cell_type": "code",
   "execution_count": null,
   "id": "c8b5ab5d",
   "metadata": {
    "deletable": false,
    "editable": false,
    "run_control": {
     "frozen": true
    }
   },
   "outputs": [],
   "source": [
    "sum(transfers.eventtype == 'discharge')"
   ]
  },
  {
   "cell_type": "code",
   "execution_count": null,
   "id": "388bf57c",
   "metadata": {
    "deletable": false,
    "editable": false,
    "run_control": {
     "frozen": true
    }
   },
   "outputs": [],
   "source": [
    "transfers.careunit.value_counts(normalize = True)"
   ]
  },
  {
   "cell_type": "code",
   "execution_count": null,
   "id": "e099c1d8",
   "metadata": {
    "deletable": false,
    "editable": false,
    "run_control": {
     "frozen": true
    }
   },
   "outputs": [],
   "source": [
    "transfers.careunit.unique()"
   ]
  },
  {
   "cell_type": "code",
   "execution_count": null,
   "id": "2cbf4e04",
   "metadata": {
    "deletable": false,
    "editable": false,
    "run_control": {
     "frozen": true
    }
   },
   "outputs": [],
   "source": [
    "transfers[['intime','outtime']] = pd.to_datetime(transfers[['intime', 'outtime']])"
   ]
  },
  {
   "cell_type": "code",
   "execution_count": null,
   "id": "2efcfc31",
   "metadata": {
    "deletable": false,
    "editable": false,
    "run_control": {
     "frozen": true
    }
   },
   "outputs": [],
   "source": [
    "transfers.info(show_counts = True)"
   ]
  },
  {
   "cell_type": "code",
   "execution_count": null,
   "id": "0e094a02",
   "metadata": {
    "deletable": false,
    "editable": false,
    "run_control": {
     "frozen": true
    }
   },
   "outputs": [],
   "source": [
    "bool_outs"
   ]
  },
  {
   "cell_type": "code",
   "execution_count": null,
   "id": "4ec7bb72",
   "metadata": {
    "deletable": false,
    "editable": false,
    "run_control": {
     "frozen": true
    }
   },
   "outputs": [],
   "source": [
    "transfers.describe()"
   ]
  },
  {
   "cell_type": "code",
   "execution_count": null,
   "id": "7d0cc9e1",
   "metadata": {
    "deletable": false,
    "editable": false,
    "run_control": {
     "frozen": true
    }
   },
   "outputs": [],
   "source": [
    "bool_discharge = transfers.eventtype=='discharge'\n",
    "bool_carenan = transfers.careunit.isna()\n",
    "bool_outtime = transfers.outtime.isna()"
   ]
  },
  {
   "cell_type": "code",
   "execution_count": null,
   "id": "c9105e2c",
   "metadata": {
    "deletable": false,
    "editable": false,
    "run_control": {
     "frozen": true
    }
   },
   "outputs": [],
   "source": [
    "print(all(bool_discharge == bool_carenan))\n",
    "print(all(bool_discharge == bool_outtime))\n"
   ]
  },
  {
   "cell_type": "code",
   "execution_count": null,
   "id": "52704aff",
   "metadata": {
    "deletable": false,
    "editable": false,
    "run_control": {
     "frozen": true
    }
   },
   "outputs": [],
   "source": [
    "transfers.head()"
   ]
  },
  {
   "cell_type": "code",
   "execution_count": null,
   "id": "639fe05b",
   "metadata": {
    "deletable": false,
    "editable": false,
    "run_control": {
     "frozen": true
    }
   },
   "outputs": [],
   "source": [
    "services = pd.read_csv('MIMIC IV ED/services.csv')"
   ]
  },
  {
   "cell_type": "code",
   "execution_count": null,
   "id": "ba238f2a",
   "metadata": {
    "deletable": false,
    "editable": false,
    "run_control": {
     "frozen": true
    }
   },
   "outputs": [],
   "source": [
    "services.shape"
   ]
  },
  {
   "cell_type": "code",
   "execution_count": null,
   "id": "f949e175",
   "metadata": {
    "deletable": false,
    "editable": false,
    "run_control": {
     "frozen": true
    }
   },
   "outputs": [],
   "source": [
    "services.head()"
   ]
  },
  {
   "cell_type": "code",
   "execution_count": null,
   "id": "ddc013d9",
   "metadata": {
    "deletable": false,
    "editable": false,
    "run_control": {
     "frozen": true
    }
   },
   "outputs": [],
   "source": []
  },
  {
   "cell_type": "code",
   "execution_count": null,
   "id": "b6b605ce",
   "metadata": {
    "deletable": false,
    "editable": false,
    "run_control": {
     "frozen": true
    }
   },
   "outputs": [],
   "source": [
    "services.prev_service.value_counts()"
   ]
  },
  {
   "cell_type": "code",
   "execution_count": null,
   "id": "69888a1b",
   "metadata": {
    "deletable": false,
    "editable": false,
    "run_control": {
     "frozen": true
    }
   },
   "outputs": [],
   "source": [
    "transfers.eventtype.value_counts()"
   ]
  },
  {
   "cell_type": "code",
   "execution_count": null,
   "id": "620e44ee",
   "metadata": {
    "deletable": false,
    "editable": false,
    "run_control": {
     "frozen": true
    }
   },
   "outputs": [],
   "source": [
    "transfers."
   ]
  },
  {
   "cell_type": "code",
   "execution_count": null,
   "id": "6b8a4332",
   "metadata": {
    "deletable": false,
    "editable": false,
    "run_control": {
     "frozen": true
    }
   },
   "outputs": [],
   "source": [
    "emar = pd.read_csv('MIMIC IV/emar.csv')"
   ]
  },
  {
   "cell_type": "code",
   "execution_count": null,
   "id": "769feeb4",
   "metadata": {
    "deletable": false,
    "editable": false,
    "run_control": {
     "frozen": true
    }
   },
   "outputs": [],
   "source": [
    "emar.medication.nunique()"
   ]
  },
  {
   "cell_type": "code",
   "execution_count": null,
   "id": "a2ea46db",
   "metadata": {
    "deletable": false,
    "editable": false,
    "run_control": {
     "frozen": true
    }
   },
   "outputs": [],
   "source": [
    "emar.head()"
   ]
  },
  {
   "cell_type": "code",
   "execution_count": null,
   "id": "3acbf553",
   "metadata": {
    "deletable": false,
    "editable": false,
    "run_control": {
     "frozen": true
    }
   },
   "outputs": [],
   "source": [
    "transfers.careunit.value_counts()"
   ]
  },
  {
   "cell_type": "code",
   "execution_count": null,
   "id": "6a3cfc7c",
   "metadata": {
    "deletable": false,
    "editable": false,
    "run_control": {
     "frozen": true
    }
   },
   "outputs": [],
   "source": [
    "print('Number of patients:',transfers['subject_id'].nunique())\n",
    "print('Number of transfers (and rows number):',transfers['transfer_id'].nunique())\n",
    "print('Number of stays:',transfers['hadm_id'].nunique())\n",
    "print('Number of departments:',transfers['careunit'].nunique())"
   ]
  },
  {
   "cell_type": "code",
   "execution_count": null,
   "id": "a56ee9d9",
   "metadata": {
    "deletable": false,
    "editable": false,
    "run_control": {
     "frozen": true
    }
   },
   "outputs": [],
   "source": [
    "sum(transfers['careunit'].isna())"
   ]
  },
  {
   "cell_type": "code",
   "execution_count": null,
   "id": "279cbbbb",
   "metadata": {
    "deletable": false,
    "editable": false,
    "run_control": {
     "frozen": true
    }
   },
   "outputs": [],
   "source": [
    "print('Number of departments:',transfers['careunit'].unique())"
   ]
  },
  {
   "cell_type": "code",
   "execution_count": null,
   "id": "18656aa3",
   "metadata": {
    "deletable": false,
    "editable": false,
    "run_control": {
     "frozen": true
    }
   },
   "outputs": [],
   "source": [
    "admissions = pd.read_csv('MIMIC IV ED/admissions.csv')"
   ]
  },
  {
   "cell_type": "code",
   "execution_count": null,
   "id": "765bf2a8",
   "metadata": {
    "deletable": false,
    "editable": false,
    "run_control": {
     "frozen": true
    }
   },
   "outputs": [],
   "source": [
    "pd.to_datetime(admissions.admittime,infer_datetime_format = True).describe(datetime_is_numeric = True)"
   ]
  },
  {
   "cell_type": "code",
   "execution_count": null,
   "id": "5ac84b60",
   "metadata": {
    "deletable": false,
    "editable": false,
    "run_control": {
     "frozen": true
    }
   },
   "outputs": [],
   "source": [
    "admissions.discharge_location.unique()"
   ]
  },
  {
   "cell_type": "code",
   "execution_count": null,
   "id": "6471427c",
   "metadata": {
    "deletable": false,
    "editable": false,
    "run_control": {
     "frozen": true
    }
   },
   "outputs": [],
   "source": []
  },
  {
   "cell_type": "code",
   "execution_count": null,
   "id": "eb1297ab",
   "metadata": {
    "deletable": false,
    "editable": false,
    "run_control": {
     "frozen": true
    }
   },
   "outputs": [],
   "source": [
    "admissions.head()"
   ]
  },
  {
   "cell_type": "code",
   "execution_count": null,
   "id": "2cfc6928",
   "metadata": {
    "deletable": false,
    "editable": false,
    "run_control": {
     "frozen": true
    }
   },
   "outputs": [],
   "source": [
    "len(admissions)"
   ]
  },
  {
   "cell_type": "code",
   "execution_count": null,
   "id": "75353cbd",
   "metadata": {
    "deletable": false,
    "editable": false,
    "run_control": {
     "frozen": true
    }
   },
   "outputs": [],
   "source": [
    "print('Number of patients:',admissions['subject_id'].nunique())\n",
    "print('Number of transfers (and length of rows):',admissions['transfer_id'].nunique())\n",
    "print('Number of stays:',transfers['hadm_id'].nunique())\n",
    "print('Number of departments:',transfers['careunit'].nunique())"
   ]
  },
  {
   "cell_type": "code",
   "execution_count": null,
   "id": "e5a76542",
   "metadata": {
    "deletable": false,
    "editable": false,
    "run_control": {
     "frozen": true
    }
   },
   "outputs": [],
   "source": [
    "edstays['disposition'].value_counts()"
   ]
  },
  {
   "cell_type": "code",
   "execution_count": null,
   "id": "cfe1045f",
   "metadata": {
    "deletable": false,
    "editable": false,
    "run_control": {
     "frozen": true
    }
   },
   "outputs": [],
   "source": []
  },
  {
   "cell_type": "code",
   "execution_count": null,
   "id": "aa370d2e",
   "metadata": {
    "deletable": false,
    "editable": false,
    "run_control": {
     "frozen": true
    }
   },
   "outputs": [],
   "source": [
    "diagnosis.icd_version.value_counts()"
   ]
  },
  {
   "cell_type": "code",
   "execution_count": null,
   "id": "13c7e61b",
   "metadata": {
    "deletable": false,
    "editable": false,
    "run_control": {
     "frozen": true
    }
   },
   "outputs": [],
   "source": [
    "diagnosis['icd_title'].value_counts().head()"
   ]
  },
  {
   "cell_type": "code",
   "execution_count": null,
   "id": "adf33426",
   "metadata": {
    "deletable": false,
    "editable": false,
    "run_control": {
     "frozen": true
    },
    "scrolled": false
   },
   "outputs": [],
   "source": [
    "print('\\033[1m' + 'diagnosis')\n",
    "display(diagnosis.head())\n",
    "display(diagnosis.info())\n",
    "print('\\033[1m' + 'edstays')\n",
    "display(edstays.head())\n",
    "display(diagnosis.info())\n",
    "print('\\033[1m' + 'medrecon')\n",
    "display(medrecon.head())\n",
    "display(medrecon.info())\n",
    "print('\\033[1m' + 'pyxis')\n",
    "display(pyxis.head())\n",
    "display(pyxis.info())\n",
    "print('\\033[1m' + 'triage')\n",
    "display(triage.head())\n",
    "display(triage.info())\n",
    "print('\\033[1m' + 'vitalsign')\n",
    "display(vitalsign.head())\n",
    "display(vitalsign.info())"
   ]
  }
 ],
 "metadata": {
  "kernelspec": {
   "display_name": "Python [conda env:cap_nacho]",
   "language": "python",
   "name": "conda-env-cap_nacho-py"
  },
  "language_info": {
   "codemirror_mode": {
    "name": "ipython",
    "version": 3
   },
   "file_extension": ".py",
   "mimetype": "text/x-python",
   "name": "python",
   "nbconvert_exporter": "python",
   "pygments_lexer": "ipython3",
   "version": "3.10.6"
  },
  "toc": {
   "base_numbering": 1,
   "nav_menu": {},
   "number_sections": true,
   "sideBar": true,
   "skip_h1_title": true,
   "title_cell": "Table of Contents",
   "title_sidebar": "Contents",
   "toc_cell": true,
   "toc_position": {},
   "toc_section_display": true,
   "toc_window_display": false
  },
  "varInspector": {
   "cols": {
    "lenName": 16,
    "lenType": 16,
    "lenVar": 40
   },
   "kernels_config": {
    "python": {
     "delete_cmd_postfix": "",
     "delete_cmd_prefix": "del ",
     "library": "var_list.py",
     "varRefreshCmd": "print(var_dic_list())"
    },
    "r": {
     "delete_cmd_postfix": ") ",
     "delete_cmd_prefix": "rm(",
     "library": "var_list.r",
     "varRefreshCmd": "cat(var_dic_list()) "
    }
   },
   "oldHeight": 388.844,
   "position": {
    "height": "410.837px",
    "left": "395.2px",
    "right": "20px",
    "top": "119px",
    "width": "377px"
   },
   "types_to_exclude": [
    "module",
    "function",
    "builtin_function_or_method",
    "instance",
    "_Feature"
   ],
   "varInspector_section_display": "block",
   "window_display": false
  }
 },
 "nbformat": 4,
 "nbformat_minor": 5
}
