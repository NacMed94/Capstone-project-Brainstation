{
 "cells": [
  {
   "cell_type": "markdown",
   "id": "a090e2ca",
   "metadata": {
    "toc": true
   },
   "source": [
    "<h1>Table of Contents<span class=\"tocSkip\"></span></h1>\n",
    "<div class=\"toc\"><ul class=\"toc-item\"><li><span><a href=\"#Features-to-add\" data-toc-modified-id=\"Features-to-add-1\"><span class=\"toc-item-num\">1&nbsp;&nbsp;</span>Features to add</a></span></li></ul></div>"
   ]
  },
  {
   "cell_type": "markdown",
   "id": "1d1c521c",
   "metadata": {},
   "source": [
    "Here I am merging tables onto the main table, transfers."
   ]
  },
  {
   "cell_type": "markdown",
   "id": "3148649a",
   "metadata": {},
   "source": [
    "## Features to add\n",
    "\n",
    "Adding for sure:\n",
    "\n",
    "- Prescriptions, which is ready\n",
    "\n",
    "- Admissions: check ppoint, non-white?, marital status??, medicaid, language?\n",
    "\n",
    "- Patients: Age and gender\n",
    "\n",
    "- POE: Many categories (order type), but decent. \n",
    "\n",
    "\n",
    "Maybe adding in the future:\n",
    "\n",
    "- Procedures by ICD code, could be interesting but lots of features\n",
    "\n",
    "- Lab events: A LOT of features, although you can just add flag (associated with storetime) and priority (associated with charttime of test (frequency encoding?)\n",
    "\n",
    "- OMR: Blood pressure, weight... Interesting but probably there will be many missing values and will be hard to incorporate into dataframe\n",
    "\n",
    "- hcpcsevents: A LOT of features\n",
    "\n",
    "- Microbiology events: A LOT of features (no outcomes clear, although there are comments of test)\n",
    "\n",
    "\n",
    "<br><br>\n",
    "\n",
    "Some questions: \n",
    "\n",
    "Should I increase the granularity of the prescriptions (go down to level 2, 3 or 4). That would add between 1K and 5K features\n",
    "\n",
    "Can I leave duration of transfer in datetime or should I categorise it/bin it?\n",
    "bin\n",
    "\n",
    "Should I bin age or can be quantitative?\n",
    "Bin it (maybe check before when it's quantitative)\n",
    "\n",
    "Is it okay adding POE? Should I stop there or add also the other tables? It would mean lots of features. \n",
    "\n",
    "Should I add measures such as blood pressure and weight even if values will be missing in many rows? And again do I have to bin?\n",
    "Leave it for now and maybe with the PCA it tells you something. Maybe you see that could be good to include\n",
    "\n",
    "Focus on not adding any extra features but focus on step 1 (do PCA, fit models and decide whether to add more features or not)"
   ]
  },
  {
   "cell_type": "markdown",
   "id": "22b0fe48",
   "metadata": {},
   "source": [
    "Step 1\n",
    "For small dataset\n",
    "logistic regression SVM, decision tree and random forest, naive bayes\n",
    "Group the classes before fitting the model\n",
    "PCA to see if I can compress the model as it is right now\n",
    "See if by going up on the number of features you are getting any gain\n",
    "How many orders for now and that's it\n",
    "\n",
    "Step 2\n",
    "For large dataset\n",
    "\n",
    "For dataset try to make bins if possible, 5-10"
   ]
  },
  {
   "cell_type": "markdown",
   "id": "ea716200",
   "metadata": {},
   "source": [
    "Distribution is skewed. But after we have converted (the class) into binary, the problem we have is bias (the model is biased)."
   ]
  },
  {
   "cell_type": "code",
   "execution_count": 1,
   "id": "f2c3cfed",
   "metadata": {
    "ExecuteTime": {
     "end_time": "2022-10-31T00:37:52.456375Z",
     "start_time": "2022-10-31T00:37:50.373455Z"
    },
    "init_cell": true,
    "tags": [
     "Iniitialization"
    ]
   },
   "outputs": [],
   "source": [
    "import numpy as np\n",
    "import pandas as pd\n",
    "import copy\n",
    "import nachopy\n",
    "import importlib\n",
    "import pickle\n",
    "\n",
    "import matplotlib.pyplot as plt\n",
    "%matplotlib inline\n",
    "%config InlineBackend.figure_formats = ['svg'] # Setting plots as vector images\n",
    "\n",
    "plt.rcParams['figure.figsize'] = (10, 5)\n",
    "import matplotlib.pyplot as plt\n",
    "plt.style.use('ggplot')\n",
    "import matplotlib as mpl\n",
    "import seaborn as sns"
   ]
  },
  {
   "cell_type": "code",
   "execution_count": 2,
   "id": "b40070e0",
   "metadata": {
    "ExecuteTime": {
     "end_time": "2022-10-31T00:37:54.415511Z",
     "start_time": "2022-10-31T00:37:52.458543Z"
    },
    "tags": [
     "Transfers",
     "reset"
    ]
   },
   "outputs": [],
   "source": [
    "transfers = pd.read_csv('../Capstone data/MIMIC IV/transfers.csv')"
   ]
  },
  {
   "cell_type": "code",
   "execution_count": 3,
   "id": "bdfcd87f",
   "metadata": {
    "ExecuteTime": {
     "end_time": "2022-10-31T00:37:58.760569Z",
     "start_time": "2022-10-31T00:37:54.416511Z"
    }
   },
   "outputs": [
    {
     "data": {
      "text/html": [
       "<div>\n",
       "<style scoped>\n",
       "    .dataframe tbody tr th:only-of-type {\n",
       "        vertical-align: middle;\n",
       "    }\n",
       "\n",
       "    .dataframe tbody tr th {\n",
       "        vertical-align: top;\n",
       "    }\n",
       "\n",
       "    .dataframe thead th {\n",
       "        text-align: right;\n",
       "    }\n",
       "</style>\n",
       "<table border=\"1\" class=\"dataframe\">\n",
       "  <thead>\n",
       "    <tr style=\"text-align: right;\">\n",
       "      <th></th>\n",
       "      <th>subject_id</th>\n",
       "      <th>hadm_id</th>\n",
       "      <th>transfer_id</th>\n",
       "      <th>eventtype</th>\n",
       "      <th>careunit</th>\n",
       "      <th>intime</th>\n",
       "      <th>outtime</th>\n",
       "    </tr>\n",
       "  </thead>\n",
       "  <tbody>\n",
       "    <tr>\n",
       "      <th>0</th>\n",
       "      <td>10000032</td>\n",
       "      <td>22595853.0</td>\n",
       "      <td>33258284</td>\n",
       "      <td>ED</td>\n",
       "      <td>Emergency Department</td>\n",
       "      <td>2180-05-06 19:17:00</td>\n",
       "      <td>2180-05-06 23:30:00</td>\n",
       "    </tr>\n",
       "    <tr>\n",
       "      <th>1</th>\n",
       "      <td>10000032</td>\n",
       "      <td>22595853.0</td>\n",
       "      <td>35223874</td>\n",
       "      <td>admit</td>\n",
       "      <td>Transplant</td>\n",
       "      <td>2180-05-06 23:30:00</td>\n",
       "      <td>2180-05-07 17:21:27</td>\n",
       "    </tr>\n",
       "    <tr>\n",
       "      <th>2</th>\n",
       "      <td>10000032</td>\n",
       "      <td>22595853.0</td>\n",
       "      <td>36904543</td>\n",
       "      <td>discharge</td>\n",
       "      <td>NaN</td>\n",
       "      <td>2180-05-07 17:21:27</td>\n",
       "      <td>NaN</td>\n",
       "    </tr>\n",
       "    <tr>\n",
       "      <th>5</th>\n",
       "      <td>10000032</td>\n",
       "      <td>22841357.0</td>\n",
       "      <td>38112554</td>\n",
       "      <td>ED</td>\n",
       "      <td>Emergency Department</td>\n",
       "      <td>2180-06-26 15:54:00</td>\n",
       "      <td>2180-06-26 21:31:00</td>\n",
       "    </tr>\n",
       "    <tr>\n",
       "      <th>4</th>\n",
       "      <td>10000032</td>\n",
       "      <td>22841357.0</td>\n",
       "      <td>34703856</td>\n",
       "      <td>admit</td>\n",
       "      <td>Transplant</td>\n",
       "      <td>2180-06-26 21:31:00</td>\n",
       "      <td>2180-06-27 18:49:12</td>\n",
       "    </tr>\n",
       "    <tr>\n",
       "      <th>3</th>\n",
       "      <td>10000032</td>\n",
       "      <td>22841357.0</td>\n",
       "      <td>34100253</td>\n",
       "      <td>discharge</td>\n",
       "      <td>NaN</td>\n",
       "      <td>2180-06-27 18:49:12</td>\n",
       "      <td>NaN</td>\n",
       "    </tr>\n",
       "    <tr>\n",
       "      <th>9</th>\n",
       "      <td>10000032</td>\n",
       "      <td>29079034.0</td>\n",
       "      <td>32952584</td>\n",
       "      <td>ED</td>\n",
       "      <td>Emergency Department</td>\n",
       "      <td>2180-07-22 16:24:00</td>\n",
       "      <td>2180-07-23 05:54:00</td>\n",
       "    </tr>\n",
       "    <tr>\n",
       "      <th>13</th>\n",
       "      <td>10000032</td>\n",
       "      <td>29079034.0</td>\n",
       "      <td>39399961</td>\n",
       "      <td>ED</td>\n",
       "      <td>Emergency Department</td>\n",
       "      <td>2180-07-23 05:54:00</td>\n",
       "      <td>2180-07-23 14:00:00</td>\n",
       "    </tr>\n",
       "    <tr>\n",
       "      <th>14</th>\n",
       "      <td>10000032</td>\n",
       "      <td>29079034.0</td>\n",
       "      <td>39553978</td>\n",
       "      <td>admit</td>\n",
       "      <td>Medical Intensive Care Unit (MICU)</td>\n",
       "      <td>2180-07-23 14:00:00</td>\n",
       "      <td>2180-07-23 23:50:47</td>\n",
       "    </tr>\n",
       "    <tr>\n",
       "      <th>10</th>\n",
       "      <td>10000032</td>\n",
       "      <td>29079034.0</td>\n",
       "      <td>35888873</td>\n",
       "      <td>transfer</td>\n",
       "      <td>Transplant</td>\n",
       "      <td>2180-07-23 23:50:47</td>\n",
       "      <td>2180-07-24 19:52:58</td>\n",
       "    </tr>\n",
       "  </tbody>\n",
       "</table>\n",
       "</div>"
      ],
      "text/plain": [
       "    subject_id     hadm_id  transfer_id  eventtype  \\\n",
       "0     10000032  22595853.0     33258284         ED   \n",
       "1     10000032  22595853.0     35223874      admit   \n",
       "2     10000032  22595853.0     36904543  discharge   \n",
       "5     10000032  22841357.0     38112554         ED   \n",
       "4     10000032  22841357.0     34703856      admit   \n",
       "3     10000032  22841357.0     34100253  discharge   \n",
       "9     10000032  29079034.0     32952584         ED   \n",
       "13    10000032  29079034.0     39399961         ED   \n",
       "14    10000032  29079034.0     39553978      admit   \n",
       "10    10000032  29079034.0     35888873   transfer   \n",
       "\n",
       "                              careunit               intime  \\\n",
       "0                 Emergency Department  2180-05-06 19:17:00   \n",
       "1                           Transplant  2180-05-06 23:30:00   \n",
       "2                                  NaN  2180-05-07 17:21:27   \n",
       "5                 Emergency Department  2180-06-26 15:54:00   \n",
       "4                           Transplant  2180-06-26 21:31:00   \n",
       "3                                  NaN  2180-06-27 18:49:12   \n",
       "9                 Emergency Department  2180-07-22 16:24:00   \n",
       "13                Emergency Department  2180-07-23 05:54:00   \n",
       "14  Medical Intensive Care Unit (MICU)  2180-07-23 14:00:00   \n",
       "10                          Transplant  2180-07-23 23:50:47   \n",
       "\n",
       "                outtime  \n",
       "0   2180-05-06 23:30:00  \n",
       "1   2180-05-07 17:21:27  \n",
       "2                   NaN  \n",
       "5   2180-06-26 21:31:00  \n",
       "4   2180-06-27 18:49:12  \n",
       "3                   NaN  \n",
       "9   2180-07-23 05:54:00  \n",
       "13  2180-07-23 14:00:00  \n",
       "14  2180-07-23 23:50:47  \n",
       "10  2180-07-24 19:52:58  "
      ]
     },
     "execution_count": 3,
     "metadata": {},
     "output_type": "execute_result"
    }
   ],
   "source": [
    "transfers.sort_values(by = ['subject_id','intime']).head(10)"
   ]
  },
  {
   "cell_type": "markdown",
   "id": "f09a4169",
   "metadata": {},
   "source": [
    "Hmm, strange, some transfers appear to be continuous (rows 9 with row 13) but are two separate rows for some reason. We should merge these rows at some point."
   ]
  },
  {
   "cell_type": "code",
   "execution_count": 4,
   "id": "5e5d723d",
   "metadata": {
    "ExecuteTime": {
     "end_time": "2022-10-31T00:37:58.870495Z",
     "start_time": "2022-10-31T00:37:58.762668Z"
    },
    "tags": [
     "Transfers",
     "reset"
    ]
   },
   "outputs": [],
   "source": [
    "transfers['hadm_id'] = transfers.hadm_id.astype('Int64')"
   ]
  },
  {
   "cell_type": "code",
   "execution_count": 5,
   "id": "e9d1df95",
   "metadata": {
    "ExecuteTime": {
     "end_time": "2022-10-31T00:37:58.885549Z",
     "start_time": "2022-10-31T00:37:58.872495Z"
    }
   },
   "outputs": [
    {
     "data": {
      "text/html": [
       "<div>\n",
       "<style scoped>\n",
       "    .dataframe tbody tr th:only-of-type {\n",
       "        vertical-align: middle;\n",
       "    }\n",
       "\n",
       "    .dataframe tbody tr th {\n",
       "        vertical-align: top;\n",
       "    }\n",
       "\n",
       "    .dataframe thead th {\n",
       "        text-align: right;\n",
       "    }\n",
       "</style>\n",
       "<table border=\"1\" class=\"dataframe\">\n",
       "  <thead>\n",
       "    <tr style=\"text-align: right;\">\n",
       "      <th></th>\n",
       "      <th>subject_id</th>\n",
       "      <th>hadm_id</th>\n",
       "      <th>transfer_id</th>\n",
       "      <th>eventtype</th>\n",
       "      <th>careunit</th>\n",
       "      <th>intime</th>\n",
       "      <th>outtime</th>\n",
       "    </tr>\n",
       "  </thead>\n",
       "  <tbody>\n",
       "    <tr>\n",
       "      <th>0</th>\n",
       "      <td>10000032</td>\n",
       "      <td>22595853</td>\n",
       "      <td>33258284</td>\n",
       "      <td>ED</td>\n",
       "      <td>Emergency Department</td>\n",
       "      <td>2180-05-06 19:17:00</td>\n",
       "      <td>2180-05-06 23:30:00</td>\n",
       "    </tr>\n",
       "    <tr>\n",
       "      <th>1</th>\n",
       "      <td>10000032</td>\n",
       "      <td>22595853</td>\n",
       "      <td>35223874</td>\n",
       "      <td>admit</td>\n",
       "      <td>Transplant</td>\n",
       "      <td>2180-05-06 23:30:00</td>\n",
       "      <td>2180-05-07 17:21:27</td>\n",
       "    </tr>\n",
       "    <tr>\n",
       "      <th>2</th>\n",
       "      <td>10000032</td>\n",
       "      <td>22595853</td>\n",
       "      <td>36904543</td>\n",
       "      <td>discharge</td>\n",
       "      <td>NaN</td>\n",
       "      <td>2180-05-07 17:21:27</td>\n",
       "      <td>NaN</td>\n",
       "    </tr>\n",
       "    <tr>\n",
       "      <th>3</th>\n",
       "      <td>10000032</td>\n",
       "      <td>22841357</td>\n",
       "      <td>34100253</td>\n",
       "      <td>discharge</td>\n",
       "      <td>NaN</td>\n",
       "      <td>2180-06-27 18:49:12</td>\n",
       "      <td>NaN</td>\n",
       "    </tr>\n",
       "    <tr>\n",
       "      <th>4</th>\n",
       "      <td>10000032</td>\n",
       "      <td>22841357</td>\n",
       "      <td>34703856</td>\n",
       "      <td>admit</td>\n",
       "      <td>Transplant</td>\n",
       "      <td>2180-06-26 21:31:00</td>\n",
       "      <td>2180-06-27 18:49:12</td>\n",
       "    </tr>\n",
       "  </tbody>\n",
       "</table>\n",
       "</div>"
      ],
      "text/plain": [
       "   subject_id   hadm_id  transfer_id  eventtype              careunit  \\\n",
       "0    10000032  22595853     33258284         ED  Emergency Department   \n",
       "1    10000032  22595853     35223874      admit            Transplant   \n",
       "2    10000032  22595853     36904543  discharge                   NaN   \n",
       "3    10000032  22841357     34100253  discharge                   NaN   \n",
       "4    10000032  22841357     34703856      admit            Transplant   \n",
       "\n",
       "                intime              outtime  \n",
       "0  2180-05-06 19:17:00  2180-05-06 23:30:00  \n",
       "1  2180-05-06 23:30:00  2180-05-07 17:21:27  \n",
       "2  2180-05-07 17:21:27                  NaN  \n",
       "3  2180-06-27 18:49:12                  NaN  \n",
       "4  2180-06-26 21:31:00  2180-06-27 18:49:12  "
      ]
     },
     "metadata": {},
     "output_type": "display_data"
    }
   ],
   "source": [
    "display(transfers.head())"
   ]
  },
  {
   "cell_type": "code",
   "execution_count": 6,
   "id": "7d2b5e02",
   "metadata": {
    "ExecuteTime": {
     "end_time": "2022-10-31T00:37:59.501591Z",
     "start_time": "2022-10-31T00:37:58.887497Z"
    },
    "scrolled": true
   },
   "outputs": [
    {
     "name": "stdout",
     "output_type": "stream",
     "text": [
      "<class 'pandas.core.frame.DataFrame'>\n",
      "RangeIndex: 1991704 entries, 0 to 1991703\n",
      "Data columns (total 7 columns):\n",
      " #   Column       Non-Null Count    Dtype \n",
      "---  ------       --------------    ----- \n",
      " 0   subject_id   1991704 non-null  int64 \n",
      " 1   hadm_id      1644130 non-null  Int64 \n",
      " 2   transfer_id  1991704 non-null  int64 \n",
      " 3   eventtype    1991704 non-null  object\n",
      " 4   careunit     1537380 non-null  object\n",
      " 5   intime       1991704 non-null  object\n",
      " 6   outtime      1537383 non-null  object\n",
      "dtypes: Int64(1), int64(2), object(4)\n",
      "memory usage: 108.3+ MB\n"
     ]
    }
   ],
   "source": [
    "transfers.info(show_counts=True)"
   ]
  },
  {
   "cell_type": "code",
   "execution_count": 7,
   "id": "7352c6cd",
   "metadata": {
    "ExecuteTime": {
     "end_time": "2022-10-31T00:38:01.136622Z",
     "start_time": "2022-10-31T00:37:59.503497Z"
    },
    "tags": [
     "Transfers",
     "reset"
    ]
   },
   "outputs": [],
   "source": [
    "transfers['intime'] = pd.to_datetime(transfers.intime, infer_datetime_format=True)\n",
    "transfers['outtime'] = pd.to_datetime(transfers.outtime, infer_datetime_format=True)"
   ]
  },
  {
   "cell_type": "code",
   "execution_count": 8,
   "id": "18272fd5",
   "metadata": {
    "ExecuteTime": {
     "end_time": "2022-10-31T00:38:02.066090Z",
     "start_time": "2022-10-31T00:38:01.138623Z"
    }
   },
   "outputs": [
    {
     "data": {
      "text/plain": [
       "subject_id      315460\n",
       "hadm_id         454324\n",
       "transfer_id    1991704\n",
       "eventtype            4\n",
       "careunit            39\n",
       "intime         1980736\n",
       "outtime        1532471\n",
       "dtype: int64"
      ]
     },
     "execution_count": 8,
     "metadata": {},
     "output_type": "execute_result"
    }
   ],
   "source": [
    "transfers.nunique()"
   ]
  },
  {
   "cell_type": "code",
   "execution_count": 9,
   "id": "f9d325d7",
   "metadata": {
    "ExecuteTime": {
     "end_time": "2022-10-31T00:38:03.230501Z",
     "start_time": "2022-10-31T00:38:02.068022Z"
    },
    "tags": [
     "Transfers",
     "reset"
    ]
   },
   "outputs": [
    {
     "name": "stdout",
     "output_type": "stream",
     "text": [
      "8\n"
     ]
    }
   ],
   "source": [
    "transfers_dupl = transfers.drop(columns = 'transfer_id').duplicated()\n",
    "print(transfers_dupl.sum())\n",
    "transfers = transfers[~transfers_dupl]"
   ]
  },
  {
   "cell_type": "code",
   "execution_count": 10,
   "id": "cd413ad1",
   "metadata": {
    "ExecuteTime": {
     "end_time": "2022-10-31T00:38:03.261427Z",
     "start_time": "2022-10-31T00:38:03.234503Z"
    }
   },
   "outputs": [
    {
     "data": {
      "text/html": [
       "<div>\n",
       "<style scoped>\n",
       "    .dataframe tbody tr th:only-of-type {\n",
       "        vertical-align: middle;\n",
       "    }\n",
       "\n",
       "    .dataframe tbody tr th {\n",
       "        vertical-align: top;\n",
       "    }\n",
       "\n",
       "    .dataframe thead th {\n",
       "        text-align: right;\n",
       "    }\n",
       "</style>\n",
       "<table border=\"1\" class=\"dataframe\">\n",
       "  <thead>\n",
       "    <tr style=\"text-align: right;\">\n",
       "      <th></th>\n",
       "      <th>subject_id</th>\n",
       "      <th>hadm_id</th>\n",
       "      <th>transfer_id</th>\n",
       "      <th>eventtype</th>\n",
       "      <th>careunit</th>\n",
       "      <th>intime</th>\n",
       "      <th>outtime</th>\n",
       "    </tr>\n",
       "  </thead>\n",
       "  <tbody>\n",
       "    <tr>\n",
       "      <th>0</th>\n",
       "      <td>10000032</td>\n",
       "      <td>22595853</td>\n",
       "      <td>33258284</td>\n",
       "      <td>ED</td>\n",
       "      <td>Emergency Department</td>\n",
       "      <td>2180-05-06 19:17:00</td>\n",
       "      <td>2180-05-06 23:30:00</td>\n",
       "    </tr>\n",
       "    <tr>\n",
       "      <th>1</th>\n",
       "      <td>10000032</td>\n",
       "      <td>22595853</td>\n",
       "      <td>35223874</td>\n",
       "      <td>admit</td>\n",
       "      <td>Transplant</td>\n",
       "      <td>2180-05-06 23:30:00</td>\n",
       "      <td>2180-05-07 17:21:27</td>\n",
       "    </tr>\n",
       "    <tr>\n",
       "      <th>2</th>\n",
       "      <td>10000032</td>\n",
       "      <td>22595853</td>\n",
       "      <td>36904543</td>\n",
       "      <td>discharge</td>\n",
       "      <td>NaN</td>\n",
       "      <td>2180-05-07 17:21:27</td>\n",
       "      <td>NaT</td>\n",
       "    </tr>\n",
       "  </tbody>\n",
       "</table>\n",
       "</div>"
      ],
      "text/plain": [
       "   subject_id   hadm_id  transfer_id  eventtype              careunit  \\\n",
       "0    10000032  22595853     33258284         ED  Emergency Department   \n",
       "1    10000032  22595853     35223874      admit            Transplant   \n",
       "2    10000032  22595853     36904543  discharge                   NaN   \n",
       "\n",
       "               intime             outtime  \n",
       "0 2180-05-06 19:17:00 2180-05-06 23:30:00  \n",
       "1 2180-05-06 23:30:00 2180-05-07 17:21:27  \n",
       "2 2180-05-07 17:21:27                 NaT  "
      ]
     },
     "execution_count": 10,
     "metadata": {},
     "output_type": "execute_result"
    }
   ],
   "source": [
    "transfers[transfers.hadm_id == 22595853]"
   ]
  },
  {
   "cell_type": "markdown",
   "id": "6898c51e",
   "metadata": {},
   "source": [
    "Example of an stay with three transfer events. The patient is admitted in the emergency department (event type ED, careunit Emergency Department) and stays there for 4 hours. He is then transferred to the transplant careunit, for which he needs to be admitted into hospital (eventtype admit). After 1 day he is discharged. We do not need the discharge rows, as there is nothing to be predicted from those. Rather, discharge should be the \"output\" for row 2. Likewise, the output for row 1 will not be ED or Emergency Department (that is a feature), but Transplant. Discharge have no duration and the resulting careunits and outtime are null values, although that is expected"
   ]
  },
  {
   "cell_type": "code",
   "execution_count": 11,
   "id": "5fb21ebe",
   "metadata": {
    "ExecuteTime": {
     "end_time": "2022-10-31T00:38:03.495426Z",
     "start_time": "2022-10-31T00:38:03.263433Z"
    }
   },
   "outputs": [
    {
     "name": "stdout",
     "output_type": "stream",
     "text": [
      "subject_id     190279\n",
      "hadm_id        454321\n",
      "transfer_id    454321\n",
      "eventtype           1\n",
      "careunit            0\n",
      "intime         454236\n",
      "outtime             0\n",
      "dtype: int64\n"
     ]
    }
   ],
   "source": [
    "print(transfers[transfers.outtime.isna()].nunique())"
   ]
  },
  {
   "cell_type": "code",
   "execution_count": 12,
   "id": "180156ae",
   "metadata": {
    "ExecuteTime": {
     "end_time": "2022-10-31T00:38:04.722461Z",
     "start_time": "2022-10-31T00:38:03.497427Z"
    },
    "tags": [
     "Transfers",
     "reset"
    ]
   },
   "outputs": [],
   "source": [
    "transfers.sort_values(by=['subject_id','intime'],inplace = True)\n",
    "events = transfers.careunit.loc[1:].values # From second row, getting the destination careunit (class)\n",
    "transfers = transfers.iloc[:-1] # Until second to last row\n",
    "transfers['event'] = events"
   ]
  },
  {
   "cell_type": "markdown",
   "id": "a48117e4",
   "metadata": {},
   "source": [
    "Now there should be one more nan values in the new event column than in the discharge column"
   ]
  },
  {
   "cell_type": "code",
   "execution_count": 13,
   "id": "06eb2ef1",
   "metadata": {
    "ExecuteTime": {
     "end_time": "2022-10-31T00:38:05.050152Z",
     "start_time": "2022-10-31T00:38:04.723461Z"
    }
   },
   "outputs": [
    {
     "name": "stdout",
     "output_type": "stream",
     "text": [
      "454324\n",
      "454323\n"
     ]
    }
   ],
   "source": [
    "print(sum(transfers.event.isna()))\n",
    "print(sum(transfers.eventtype == 'discharge'))"
   ]
  },
  {
   "cell_type": "markdown",
   "id": "ce06f664",
   "metadata": {},
   "source": [
    "It's correct, so we can fill the NaNs in the event column as discharges and drop the (old) discharge columns"
   ]
  },
  {
   "cell_type": "code",
   "execution_count": 14,
   "id": "bd7d6d0b",
   "metadata": {
    "ExecuteTime": {
     "end_time": "2022-10-31T00:38:05.396299Z",
     "start_time": "2022-10-31T00:38:05.052091Z"
    },
    "tags": [
     "Transfers",
     "reset"
    ]
   },
   "outputs": [],
   "source": [
    "transfers['event'] = transfers.event.fillna('Discharge')\n",
    "transfers.dropna(axis = 0, subset = 'careunit', inplace = True)\n",
    "transfers.reset_index(inplace = True,drop = True)"
   ]
  },
  {
   "cell_type": "code",
   "execution_count": 15,
   "id": "fe10d48d",
   "metadata": {
    "ExecuteTime": {
     "end_time": "2022-10-31T00:38:05.412374Z",
     "start_time": "2022-10-31T00:38:05.397302Z"
    }
   },
   "outputs": [
    {
     "data": {
      "text/plain": [
       "0"
      ]
     },
     "execution_count": 15,
     "metadata": {},
     "output_type": "execute_result"
    }
   ],
   "source": [
    "transfers.outtime.isna().sum()"
   ]
  },
  {
   "cell_type": "markdown",
   "id": "88980f84",
   "metadata": {},
   "source": [
    "Next step is merging transfers that are actually the same event (outtime of a transfer is equal to intime of the following transfer with same subject_ID) or that are very close together. This is because it is not useful to predict very short transfers, as these will be scheduled at least a few hours in advance. We can simplify our dataset and improve our model by mergin these rows when possible. To be conservative, we can set this lower transfer duration threshold at 3 h."
   ]
  },
  {
   "cell_type": "code",
   "execution_count": 17,
   "id": "75256dcb",
   "metadata": {
    "ExecuteTime": {
     "end_time": "2022-10-31T00:38:17.550329Z",
     "start_time": "2022-10-31T00:38:17.527567Z"
    }
   },
   "outputs": [],
   "source": [
    "transfers2 = transfers.copy()"
   ]
  },
  {
   "cell_type": "code",
   "execution_count": 94,
   "id": "ecaa022a",
   "metadata": {
    "ExecuteTime": {
     "end_time": "2022-10-31T01:19:35.646481Z",
     "start_time": "2022-10-31T01:19:35.612022Z"
    }
   },
   "outputs": [],
   "source": [
    "transfers = transfers2.copy()"
   ]
  },
  {
   "cell_type": "code",
   "execution_count": 95,
   "id": "ac67b175",
   "metadata": {
    "ExecuteTime": {
     "end_time": "2022-10-31T01:19:36.034284Z",
     "start_time": "2022-10-31T01:19:35.945621Z"
    }
   },
   "outputs": [],
   "source": [
    "# We first create a new column called duration, which can serve as a new feature\n",
    "transfers['duration'] = (transfers.outtime - transfers.intime)/np.timedelta64(1,'h')\n",
    "# We are interested in rows with duration under 3 hours...\n",
    "short_transfers = (transfers['duration'] < 3).values\n",
    "# And whose preceding row has the same subject_id\n",
    "short_transfers *= (transfers.subject_id.shift() == transfers.subject_id).values\n",
    "# And where the intime is close to the outtime of the preceding row (within 3 h)\n",
    "short_transfers *= (transfers.intime < transfers.outtime.shift() + np.timedelta64(3,'h')).values\n",
    "# We can edit the intime now\n",
    "transfers.loc[short_transfers,'intime'] = transfers.intime[np.roll(short_transfers,-1)].values\n",
    "# For eventtype and careunit we will leave the value of the row with the highest duration\n",
    "shorter_inds = (transfers.duration[short_transfers] < transfers.duration[np.roll(short_transfers,-1)].values).index\n",
    "# transfers.loc[shorter_inds,['eventtype','careunit']] = transfers.shift(-1).loc[shorter_inds,['eventtype','careunit']]"
   ]
  },
  {
   "cell_type": "code",
   "execution_count": null,
   "id": "08bcb2c8",
   "metadata": {},
   "outputs": [],
   "source": [
    "trans"
   ]
  },
  {
   "cell_type": "code",
   "execution_count": 76,
   "id": "ed82d977",
   "metadata": {
    "ExecuteTime": {
     "end_time": "2022-10-31T01:05:37.363185Z",
     "start_time": "2022-10-31T01:05:37.326728Z"
    }
   },
   "outputs": [],
   "source": [
    "transfers.loc[shorter_inds,'duration'] = (transfers.outtime[shorter_inds]\\\n",
    "                                          - transfers.intime[shorter_inds])/np.timedelta64(1,'h')"
   ]
  },
  {
   "cell_type": "code",
   "execution_count": 83,
   "id": "49cbeff6",
   "metadata": {
    "ExecuteTime": {
     "end_time": "2022-10-31T01:14:50.202075Z",
     "start_time": "2022-10-31T01:14:50.119303Z"
    }
   },
   "outputs": [],
   "source": [
    "# We can now drop the now duplicate rows and reset the index\n",
    "transfers.drop_duplicates(subset = ['subject_id','careunit','intime'],keep = 'last',inplace = True)\n",
    "transfers.reset_index(drop = True, inplace = True)\n",
    "\n",
    "# Repeating above process\n",
    "short_transfers = (transfers['duration'] < 3).values\n",
    "short_transfers *= (transfers.subject_id.shift() == transfers.subject_id).values\n",
    "short_transfers *= (transfers.intime < transfers.outtime.shift() + np.timedelta64(3,'h')).values\n",
    "transfers.loc[short_transfers,'intime'] = transfers.intime[np.roll(short_transfers,-1)].values\n",
    "shorter_inds = (transfers.duration[short_transfers] < transfers.duration[np.roll(short_transfers,-1)].values).index\n",
    "transfers.loc[shorter_inds,['eventtype','careunit']] = transfers.shift(-1).loc[shorter_inds,['eventtype','careunit']]"
   ]
  },
  {
   "cell_type": "code",
   "execution_count": 93,
   "id": "e62b06ef",
   "metadata": {
    "ExecuteTime": {
     "end_time": "2022-10-31T01:19:22.722640Z",
     "start_time": "2022-10-31T01:19:22.656642Z"
    }
   },
   "outputs": [
    {
     "data": {
      "text/html": [
       "<div>\n",
       "<style scoped>\n",
       "    .dataframe tbody tr th:only-of-type {\n",
       "        vertical-align: middle;\n",
       "    }\n",
       "\n",
       "    .dataframe tbody tr th {\n",
       "        vertical-align: top;\n",
       "    }\n",
       "\n",
       "    .dataframe thead th {\n",
       "        text-align: right;\n",
       "    }\n",
       "</style>\n",
       "<table border=\"1\" class=\"dataframe\">\n",
       "  <thead>\n",
       "    <tr style=\"text-align: right;\">\n",
       "      <th></th>\n",
       "      <th>eventtype</th>\n",
       "      <th>careunit</th>\n",
       "    </tr>\n",
       "  </thead>\n",
       "  <tbody>\n",
       "    <tr>\n",
       "      <th>13</th>\n",
       "      <td>ED</td>\n",
       "      <td>Emergency Department</td>\n",
       "    </tr>\n",
       "    <tr>\n",
       "      <th>17</th>\n",
       "      <td>ED</td>\n",
       "      <td>Emergency Department</td>\n",
       "    </tr>\n",
       "    <tr>\n",
       "      <th>22</th>\n",
       "      <td>ED</td>\n",
       "      <td>Emergency Department</td>\n",
       "    </tr>\n",
       "    <tr>\n",
       "      <th>38</th>\n",
       "      <td>ED</td>\n",
       "      <td>Emergency Department</td>\n",
       "    </tr>\n",
       "    <tr>\n",
       "      <th>68</th>\n",
       "      <td>transfer</td>\n",
       "      <td>Med/Surg</td>\n",
       "    </tr>\n",
       "    <tr>\n",
       "      <th>...</th>\n",
       "      <td>...</td>\n",
       "      <td>...</td>\n",
       "    </tr>\n",
       "    <tr>\n",
       "      <th>1537313</th>\n",
       "      <td>ED</td>\n",
       "      <td>Emergency Department</td>\n",
       "    </tr>\n",
       "    <tr>\n",
       "      <th>1537317</th>\n",
       "      <td>transfer</td>\n",
       "      <td>PACU</td>\n",
       "    </tr>\n",
       "    <tr>\n",
       "      <th>1537318</th>\n",
       "      <td>transfer</td>\n",
       "      <td>Discharge Lounge</td>\n",
       "    </tr>\n",
       "    <tr>\n",
       "      <th>1537319</th>\n",
       "      <td>transfer</td>\n",
       "      <td>Discharge Lounge</td>\n",
       "    </tr>\n",
       "    <tr>\n",
       "      <th>1537329</th>\n",
       "      <td>transfer</td>\n",
       "      <td>Hematology/Oncology Intermediate</td>\n",
       "    </tr>\n",
       "  </tbody>\n",
       "</table>\n",
       "<p>189285 rows × 2 columns</p>\n",
       "</div>"
      ],
      "text/plain": [
       "        eventtype                          careunit\n",
       "13             ED              Emergency Department\n",
       "17             ED              Emergency Department\n",
       "22             ED              Emergency Department\n",
       "38             ED              Emergency Department\n",
       "68       transfer                          Med/Surg\n",
       "...           ...                               ...\n",
       "1537313        ED              Emergency Department\n",
       "1537317  transfer                              PACU\n",
       "1537318  transfer                  Discharge Lounge\n",
       "1537319  transfer                  Discharge Lounge\n",
       "1537329  transfer  Hematology/Oncology Intermediate\n",
       "\n",
       "[189285 rows x 2 columns]"
      ]
     },
     "execution_count": 93,
     "metadata": {},
     "output_type": "execute_result"
    }
   ],
   "source": [
    "transfers.shift(-1).loc[shorter_inds,['eventtype','careunit']]"
   ]
  },
  {
   "cell_type": "code",
   "execution_count": 88,
   "id": "621e8a6a",
   "metadata": {
    "ExecuteTime": {
     "end_time": "2022-10-31T01:17:28.613215Z",
     "start_time": "2022-10-31T01:17:28.589984Z"
    }
   },
   "outputs": [
    {
     "data": {
      "text/html": [
       "<div>\n",
       "<style scoped>\n",
       "    .dataframe tbody tr th:only-of-type {\n",
       "        vertical-align: middle;\n",
       "    }\n",
       "\n",
       "    .dataframe tbody tr th {\n",
       "        vertical-align: top;\n",
       "    }\n",
       "\n",
       "    .dataframe thead th {\n",
       "        text-align: right;\n",
       "    }\n",
       "</style>\n",
       "<table border=\"1\" class=\"dataframe\">\n",
       "  <thead>\n",
       "    <tr style=\"text-align: right;\">\n",
       "      <th></th>\n",
       "      <th>subject_id</th>\n",
       "      <th>hadm_id</th>\n",
       "      <th>transfer_id</th>\n",
       "      <th>eventtype</th>\n",
       "      <th>careunit</th>\n",
       "      <th>intime</th>\n",
       "      <th>outtime</th>\n",
       "      <th>event</th>\n",
       "      <th>duration</th>\n",
       "    </tr>\n",
       "  </thead>\n",
       "  <tbody>\n",
       "    <tr>\n",
       "      <th>100</th>\n",
       "      <td>10000935</td>\n",
       "      <td>26381316</td>\n",
       "      <td>37351977</td>\n",
       "      <td>transfer</td>\n",
       "      <td>Vascular</td>\n",
       "      <td>2187-08-24 15:22:52</td>\n",
       "      <td>2187-08-27 15:35:44</td>\n",
       "      <td>Discharge</td>\n",
       "      <td>72.214444</td>\n",
       "    </tr>\n",
       "    <tr>\n",
       "      <th>101</th>\n",
       "      <td>10000935</td>\n",
       "      <td>&lt;NA&gt;</td>\n",
       "      <td>37059738</td>\n",
       "      <td>ED</td>\n",
       "      <td>Emergency Department</td>\n",
       "      <td>2187-09-26 14:48:00</td>\n",
       "      <td>2187-09-26 17:50:00</td>\n",
       "      <td>Emergency Department</td>\n",
       "      <td>3.033333</td>\n",
       "    </tr>\n",
       "    <tr>\n",
       "      <th>102</th>\n",
       "      <td>10000935</td>\n",
       "      <td>25849114</td>\n",
       "      <td>37499077</td>\n",
       "      <td>ED</td>\n",
       "      <td>Emergency Department</td>\n",
       "      <td>2187-10-10 11:56:00</td>\n",
       "      <td>2187-10-10 19:09:46</td>\n",
       "      <td>Neurology</td>\n",
       "      <td>7.229444</td>\n",
       "    </tr>\n",
       "    <tr>\n",
       "      <th>103</th>\n",
       "      <td>10000935</td>\n",
       "      <td>25849114</td>\n",
       "      <td>39808296</td>\n",
       "      <td>transfer</td>\n",
       "      <td>Discharge Lounge</td>\n",
       "      <td>2187-10-10 11:56:00</td>\n",
       "      <td>2187-10-10 20:55:17</td>\n",
       "      <td>Discharge Lounge</td>\n",
       "      <td>8.988056</td>\n",
       "    </tr>\n",
       "    <tr>\n",
       "      <th>104</th>\n",
       "      <td>10000935</td>\n",
       "      <td>25849114</td>\n",
       "      <td>32096064</td>\n",
       "      <td>transfer</td>\n",
       "      <td>Transplant</td>\n",
       "      <td>2187-10-10 11:56:00</td>\n",
       "      <td>2187-10-10 21:11:13</td>\n",
       "      <td>Transplant</td>\n",
       "      <td>2.024167</td>\n",
       "    </tr>\n",
       "    <tr>\n",
       "      <th>105</th>\n",
       "      <td>10000935</td>\n",
       "      <td>25849114</td>\n",
       "      <td>37760671</td>\n",
       "      <td>transfer</td>\n",
       "      <td>Transplant</td>\n",
       "      <td>2187-10-10 21:11:13</td>\n",
       "      <td>2187-10-22 18:28:58</td>\n",
       "      <td>Hematology/Oncology</td>\n",
       "      <td>285.295833</td>\n",
       "    </tr>\n",
       "  </tbody>\n",
       "</table>\n",
       "</div>"
      ],
      "text/plain": [
       "     subject_id   hadm_id  transfer_id eventtype              careunit  \\\n",
       "100    10000935  26381316     37351977  transfer              Vascular   \n",
       "101    10000935      <NA>     37059738        ED  Emergency Department   \n",
       "102    10000935  25849114     37499077        ED  Emergency Department   \n",
       "103    10000935  25849114     39808296  transfer      Discharge Lounge   \n",
       "104    10000935  25849114     32096064  transfer            Transplant   \n",
       "105    10000935  25849114     37760671  transfer            Transplant   \n",
       "\n",
       "                 intime             outtime                 event    duration  \n",
       "100 2187-08-24 15:22:52 2187-08-27 15:35:44             Discharge   72.214444  \n",
       "101 2187-09-26 14:48:00 2187-09-26 17:50:00  Emergency Department    3.033333  \n",
       "102 2187-10-10 11:56:00 2187-10-10 19:09:46             Neurology    7.229444  \n",
       "103 2187-10-10 11:56:00 2187-10-10 20:55:17      Discharge Lounge    8.988056  \n",
       "104 2187-10-10 11:56:00 2187-10-10 21:11:13            Transplant    2.024167  \n",
       "105 2187-10-10 21:11:13 2187-10-22 18:28:58   Hematology/Oncology  285.295833  "
      ]
     },
     "execution_count": 88,
     "metadata": {},
     "output_type": "execute_result"
    }
   ],
   "source": [
    "transfers.loc[100:105]"
   ]
  },
  {
   "cell_type": "code",
   "execution_count": 97,
   "id": "9d1cf931",
   "metadata": {
    "ExecuteTime": {
     "end_time": "2022-10-31T01:20:12.730456Z",
     "start_time": "2022-10-31T01:20:12.688718Z"
    }
   },
   "outputs": [
    {
     "data": {
      "text/html": [
       "<div>\n",
       "<style scoped>\n",
       "    .dataframe tbody tr th:only-of-type {\n",
       "        vertical-align: middle;\n",
       "    }\n",
       "\n",
       "    .dataframe tbody tr th {\n",
       "        vertical-align: top;\n",
       "    }\n",
       "\n",
       "    .dataframe thead th {\n",
       "        text-align: right;\n",
       "    }\n",
       "</style>\n",
       "<table border=\"1\" class=\"dataframe\">\n",
       "  <thead>\n",
       "    <tr style=\"text-align: right;\">\n",
       "      <th></th>\n",
       "      <th>subject_id</th>\n",
       "      <th>hadm_id</th>\n",
       "      <th>transfer_id</th>\n",
       "      <th>eventtype</th>\n",
       "      <th>careunit</th>\n",
       "      <th>intime</th>\n",
       "      <th>outtime</th>\n",
       "      <th>event</th>\n",
       "      <th>duration</th>\n",
       "    </tr>\n",
       "  </thead>\n",
       "  <tbody>\n",
       "    <tr>\n",
       "      <th>13</th>\n",
       "      <td>10000068</td>\n",
       "      <td>25022803</td>\n",
       "      <td>31904173</td>\n",
       "      <td>admit</td>\n",
       "      <td>Emergency Department Observation</td>\n",
       "      <td>2160-03-03 21:55:00</td>\n",
       "      <td>2160-03-04 07:33:47</td>\n",
       "      <td>Discharge</td>\n",
       "      <td>1.129722</td>\n",
       "    </tr>\n",
       "    <tr>\n",
       "      <th>17</th>\n",
       "      <td>10000084</td>\n",
       "      <td>29888819</td>\n",
       "      <td>39560622</td>\n",
       "      <td>admit</td>\n",
       "      <td>Emergency Department Observation</td>\n",
       "      <td>2160-12-27 18:32:00</td>\n",
       "      <td>2160-12-28 16:10:39</td>\n",
       "      <td>Discharge</td>\n",
       "      <td>0.060833</td>\n",
       "    </tr>\n",
       "    <tr>\n",
       "      <th>22</th>\n",
       "      <td>10000108</td>\n",
       "      <td>27250926</td>\n",
       "      <td>39507710</td>\n",
       "      <td>admit</td>\n",
       "      <td>Emergency Department Observation</td>\n",
       "      <td>2163-09-27 16:18:00</td>\n",
       "      <td>2163-09-28 09:04:56</td>\n",
       "      <td>Discharge</td>\n",
       "      <td>0.015556</td>\n",
       "    </tr>\n",
       "    <tr>\n",
       "      <th>38</th>\n",
       "      <td>10000280</td>\n",
       "      <td>25852320</td>\n",
       "      <td>31474561</td>\n",
       "      <td>admit</td>\n",
       "      <td>Emergency Department Observation</td>\n",
       "      <td>2151-03-18 02:35:00</td>\n",
       "      <td>2151-03-18 17:04:50</td>\n",
       "      <td>Discharge</td>\n",
       "      <td>0.013889</td>\n",
       "    </tr>\n",
       "    <tr>\n",
       "      <th>68</th>\n",
       "      <td>10000764</td>\n",
       "      <td>27897940</td>\n",
       "      <td>37254078</td>\n",
       "      <td>transfer</td>\n",
       "      <td>Med/Surg</td>\n",
       "      <td>2132-10-14 23:32:59</td>\n",
       "      <td>2132-10-15 16:20:01</td>\n",
       "      <td>Med/Surg</td>\n",
       "      <td>0.984722</td>\n",
       "    </tr>\n",
       "    <tr>\n",
       "      <th>...</th>\n",
       "      <td>...</td>\n",
       "      <td>...</td>\n",
       "      <td>...</td>\n",
       "      <td>...</td>\n",
       "      <td>...</td>\n",
       "      <td>...</td>\n",
       "      <td>...</td>\n",
       "      <td>...</td>\n",
       "      <td>...</td>\n",
       "    </tr>\n",
       "    <tr>\n",
       "      <th>1537313</th>\n",
       "      <td>19999733</td>\n",
       "      <td>27674281</td>\n",
       "      <td>39344756</td>\n",
       "      <td>admit</td>\n",
       "      <td>Emergency Department Observation</td>\n",
       "      <td>2152-07-08 20:15:00</td>\n",
       "      <td>2152-07-09 03:51:59</td>\n",
       "      <td>Discharge</td>\n",
       "      <td>0.116389</td>\n",
       "    </tr>\n",
       "    <tr>\n",
       "      <th>1537317</th>\n",
       "      <td>19999784</td>\n",
       "      <td>26194817</td>\n",
       "      <td>30153747</td>\n",
       "      <td>admit</td>\n",
       "      <td>Neurology</td>\n",
       "      <td>2119-06-18 14:21:00</td>\n",
       "      <td>2119-06-18 21:48:57</td>\n",
       "      <td>Discharge Lounge</td>\n",
       "      <td>0.657778</td>\n",
       "    </tr>\n",
       "    <tr>\n",
       "      <th>1537318</th>\n",
       "      <td>19999784</td>\n",
       "      <td>26194817</td>\n",
       "      <td>37769396</td>\n",
       "      <td>transfer</td>\n",
       "      <td>Discharge Lounge</td>\n",
       "      <td>2119-06-18 21:09:29</td>\n",
       "      <td>2119-06-19 00:08:37</td>\n",
       "      <td>PACU</td>\n",
       "      <td>2.327778</td>\n",
       "    </tr>\n",
       "    <tr>\n",
       "      <th>1537319</th>\n",
       "      <td>19999784</td>\n",
       "      <td>26194817</td>\n",
       "      <td>37290592</td>\n",
       "      <td>transfer</td>\n",
       "      <td>PACU</td>\n",
       "      <td>2119-06-18 21:48:57</td>\n",
       "      <td>2119-06-19 00:25:10</td>\n",
       "      <td>Discharge Lounge</td>\n",
       "      <td>0.275833</td>\n",
       "    </tr>\n",
       "    <tr>\n",
       "      <th>1537329</th>\n",
       "      <td>19999784</td>\n",
       "      <td>23664472</td>\n",
       "      <td>39821910</td>\n",
       "      <td>transfer</td>\n",
       "      <td>Hematology/Oncology Intermediate</td>\n",
       "      <td>2119-07-25 17:33:10</td>\n",
       "      <td>2119-07-30 16:21:20</td>\n",
       "      <td>Hematology/Oncology Intermediate</td>\n",
       "      <td>0.229167</td>\n",
       "    </tr>\n",
       "  </tbody>\n",
       "</table>\n",
       "<p>189285 rows × 9 columns</p>\n",
       "</div>"
      ],
      "text/plain": [
       "         subject_id   hadm_id  transfer_id eventtype  \\\n",
       "13         10000068  25022803     31904173     admit   \n",
       "17         10000084  29888819     39560622     admit   \n",
       "22         10000108  27250926     39507710     admit   \n",
       "38         10000280  25852320     31474561     admit   \n",
       "68         10000764  27897940     37254078  transfer   \n",
       "...             ...       ...          ...       ...   \n",
       "1537313    19999733  27674281     39344756     admit   \n",
       "1537317    19999784  26194817     30153747     admit   \n",
       "1537318    19999784  26194817     37769396  transfer   \n",
       "1537319    19999784  26194817     37290592  transfer   \n",
       "1537329    19999784  23664472     39821910  transfer   \n",
       "\n",
       "                                 careunit              intime  \\\n",
       "13       Emergency Department Observation 2160-03-03 21:55:00   \n",
       "17       Emergency Department Observation 2160-12-27 18:32:00   \n",
       "22       Emergency Department Observation 2163-09-27 16:18:00   \n",
       "38       Emergency Department Observation 2151-03-18 02:35:00   \n",
       "68                               Med/Surg 2132-10-14 23:32:59   \n",
       "...                                   ...                 ...   \n",
       "1537313  Emergency Department Observation 2152-07-08 20:15:00   \n",
       "1537317                         Neurology 2119-06-18 14:21:00   \n",
       "1537318                  Discharge Lounge 2119-06-18 21:09:29   \n",
       "1537319                              PACU 2119-06-18 21:48:57   \n",
       "1537329  Hematology/Oncology Intermediate 2119-07-25 17:33:10   \n",
       "\n",
       "                    outtime                             event  duration  \n",
       "13      2160-03-04 07:33:47                         Discharge  1.129722  \n",
       "17      2160-12-28 16:10:39                         Discharge  0.060833  \n",
       "22      2163-09-28 09:04:56                         Discharge  0.015556  \n",
       "38      2151-03-18 17:04:50                         Discharge  0.013889  \n",
       "68      2132-10-15 16:20:01                          Med/Surg  0.984722  \n",
       "...                     ...                               ...       ...  \n",
       "1537313 2152-07-09 03:51:59                         Discharge  0.116389  \n",
       "1537317 2119-06-18 21:48:57                  Discharge Lounge  0.657778  \n",
       "1537318 2119-06-19 00:08:37                              PACU  2.327778  \n",
       "1537319 2119-06-19 00:25:10                  Discharge Lounge  0.275833  \n",
       "1537329 2119-07-30 16:21:20  Hematology/Oncology Intermediate  0.229167  \n",
       "\n",
       "[189285 rows x 9 columns]"
      ]
     },
     "execution_count": 97,
     "metadata": {},
     "output_type": "execute_result"
    }
   ],
   "source": [
    "transfers.loc[shorter_inds]"
   ]
  },
  {
   "cell_type": "code",
   "execution_count": 99,
   "id": "bec96279",
   "metadata": {
    "ExecuteTime": {
     "end_time": "2022-10-31T01:21:07.394647Z",
     "start_time": "2022-10-31T01:21:07.354806Z"
    },
    "scrolled": true
   },
   "outputs": [
    {
     "data": {
      "text/html": [
       "<div>\n",
       "<style scoped>\n",
       "    .dataframe tbody tr th:only-of-type {\n",
       "        vertical-align: middle;\n",
       "    }\n",
       "\n",
       "    .dataframe tbody tr th {\n",
       "        vertical-align: top;\n",
       "    }\n",
       "\n",
       "    .dataframe thead th {\n",
       "        text-align: right;\n",
       "    }\n",
       "</style>\n",
       "<table border=\"1\" class=\"dataframe\">\n",
       "  <thead>\n",
       "    <tr style=\"text-align: right;\">\n",
       "      <th></th>\n",
       "      <th>subject_id</th>\n",
       "      <th>hadm_id</th>\n",
       "      <th>transfer_id</th>\n",
       "      <th>eventtype</th>\n",
       "      <th>careunit</th>\n",
       "      <th>intime</th>\n",
       "      <th>outtime</th>\n",
       "      <th>event</th>\n",
       "      <th>duration</th>\n",
       "    </tr>\n",
       "  </thead>\n",
       "  <tbody>\n",
       "    <tr>\n",
       "      <th>13</th>\n",
       "      <td>10000084.0</td>\n",
       "      <td>29888819</td>\n",
       "      <td>39560622.0</td>\n",
       "      <td>admit</td>\n",
       "      <td>Emergency Department Observation</td>\n",
       "      <td>2160-12-27 18:32:00</td>\n",
       "      <td>2160-12-28 16:10:39</td>\n",
       "      <td>Discharge</td>\n",
       "      <td>0.060833</td>\n",
       "    </tr>\n",
       "    <tr>\n",
       "      <th>17</th>\n",
       "      <td>10000108.0</td>\n",
       "      <td>27250926</td>\n",
       "      <td>39507710.0</td>\n",
       "      <td>admit</td>\n",
       "      <td>Emergency Department Observation</td>\n",
       "      <td>2163-09-27 16:18:00</td>\n",
       "      <td>2163-09-28 09:04:56</td>\n",
       "      <td>Discharge</td>\n",
       "      <td>0.015556</td>\n",
       "    </tr>\n",
       "    <tr>\n",
       "      <th>22</th>\n",
       "      <td>10000280.0</td>\n",
       "      <td>25852320</td>\n",
       "      <td>31474561.0</td>\n",
       "      <td>admit</td>\n",
       "      <td>Emergency Department Observation</td>\n",
       "      <td>2151-03-18 02:35:00</td>\n",
       "      <td>2151-03-18 17:04:50</td>\n",
       "      <td>Discharge</td>\n",
       "      <td>0.013889</td>\n",
       "    </tr>\n",
       "    <tr>\n",
       "      <th>38</th>\n",
       "      <td>10000764.0</td>\n",
       "      <td>27897940</td>\n",
       "      <td>37254078.0</td>\n",
       "      <td>transfer</td>\n",
       "      <td>Med/Surg</td>\n",
       "      <td>2132-10-14 23:32:59</td>\n",
       "      <td>2132-10-15 16:20:01</td>\n",
       "      <td>Med/Surg</td>\n",
       "      <td>0.984722</td>\n",
       "    </tr>\n",
       "    <tr>\n",
       "      <th>68</th>\n",
       "      <td>10000886.0</td>\n",
       "      <td>21927847</td>\n",
       "      <td>30150214.0</td>\n",
       "      <td>admit</td>\n",
       "      <td>Emergency Department Observation</td>\n",
       "      <td>2178-05-08 03:40:00</td>\n",
       "      <td>2178-05-08 12:25:15</td>\n",
       "      <td>Discharge</td>\n",
       "      <td>0.654167</td>\n",
       "    </tr>\n",
       "    <tr>\n",
       "      <th>...</th>\n",
       "      <td>...</td>\n",
       "      <td>...</td>\n",
       "      <td>...</td>\n",
       "      <td>...</td>\n",
       "      <td>...</td>\n",
       "      <td>...</td>\n",
       "      <td>...</td>\n",
       "      <td>...</td>\n",
       "      <td>...</td>\n",
       "    </tr>\n",
       "    <tr>\n",
       "      <th>1537313</th>\n",
       "      <td>19999784.0</td>\n",
       "      <td>26194817</td>\n",
       "      <td>30153747.0</td>\n",
       "      <td>admit</td>\n",
       "      <td>Neurology</td>\n",
       "      <td>2119-06-18 14:21:00</td>\n",
       "      <td>2119-06-18 21:48:57</td>\n",
       "      <td>Discharge Lounge</td>\n",
       "      <td>0.657778</td>\n",
       "    </tr>\n",
       "    <tr>\n",
       "      <th>1537317</th>\n",
       "      <td>19999784.0</td>\n",
       "      <td>26194817</td>\n",
       "      <td>37769396.0</td>\n",
       "      <td>transfer</td>\n",
       "      <td>Discharge Lounge</td>\n",
       "      <td>2119-06-18 21:09:29</td>\n",
       "      <td>2119-06-19 00:08:37</td>\n",
       "      <td>PACU</td>\n",
       "      <td>2.327778</td>\n",
       "    </tr>\n",
       "    <tr>\n",
       "      <th>1537318</th>\n",
       "      <td>19999784.0</td>\n",
       "      <td>26194817</td>\n",
       "      <td>37290592.0</td>\n",
       "      <td>transfer</td>\n",
       "      <td>PACU</td>\n",
       "      <td>2119-06-18 21:48:57</td>\n",
       "      <td>2119-06-19 00:25:10</td>\n",
       "      <td>Discharge Lounge</td>\n",
       "      <td>0.275833</td>\n",
       "    </tr>\n",
       "    <tr>\n",
       "      <th>1537319</th>\n",
       "      <td>19999784.0</td>\n",
       "      <td>23664472</td>\n",
       "      <td>39821910.0</td>\n",
       "      <td>transfer</td>\n",
       "      <td>Hematology/Oncology Intermediate</td>\n",
       "      <td>2119-07-25 17:33:10</td>\n",
       "      <td>2119-07-30 16:21:20</td>\n",
       "      <td>Hematology/Oncology Intermediate</td>\n",
       "      <td>0.229167</td>\n",
       "    </tr>\n",
       "    <tr>\n",
       "      <th>1537329</th>\n",
       "      <td>NaN</td>\n",
       "      <td>&lt;NA&gt;</td>\n",
       "      <td>NaN</td>\n",
       "      <td>NaN</td>\n",
       "      <td>NaN</td>\n",
       "      <td>NaT</td>\n",
       "      <td>NaT</td>\n",
       "      <td>NaN</td>\n",
       "      <td>NaN</td>\n",
       "    </tr>\n",
       "  </tbody>\n",
       "</table>\n",
       "<p>189285 rows × 9 columns</p>\n",
       "</div>"
      ],
      "text/plain": [
       "         subject_id   hadm_id  transfer_id eventtype  \\\n",
       "13       10000084.0  29888819   39560622.0     admit   \n",
       "17       10000108.0  27250926   39507710.0     admit   \n",
       "22       10000280.0  25852320   31474561.0     admit   \n",
       "38       10000764.0  27897940   37254078.0  transfer   \n",
       "68       10000886.0  21927847   30150214.0     admit   \n",
       "...             ...       ...          ...       ...   \n",
       "1537313  19999784.0  26194817   30153747.0     admit   \n",
       "1537317  19999784.0  26194817   37769396.0  transfer   \n",
       "1537318  19999784.0  26194817   37290592.0  transfer   \n",
       "1537319  19999784.0  23664472   39821910.0  transfer   \n",
       "1537329         NaN      <NA>          NaN       NaN   \n",
       "\n",
       "                                 careunit              intime  \\\n",
       "13       Emergency Department Observation 2160-12-27 18:32:00   \n",
       "17       Emergency Department Observation 2163-09-27 16:18:00   \n",
       "22       Emergency Department Observation 2151-03-18 02:35:00   \n",
       "38                               Med/Surg 2132-10-14 23:32:59   \n",
       "68       Emergency Department Observation 2178-05-08 03:40:00   \n",
       "...                                   ...                 ...   \n",
       "1537313                         Neurology 2119-06-18 14:21:00   \n",
       "1537317                  Discharge Lounge 2119-06-18 21:09:29   \n",
       "1537318                              PACU 2119-06-18 21:48:57   \n",
       "1537319  Hematology/Oncology Intermediate 2119-07-25 17:33:10   \n",
       "1537329                               NaN                 NaT   \n",
       "\n",
       "                    outtime                             event  duration  \n",
       "13      2160-12-28 16:10:39                         Discharge  0.060833  \n",
       "17      2163-09-28 09:04:56                         Discharge  0.015556  \n",
       "22      2151-03-18 17:04:50                         Discharge  0.013889  \n",
       "38      2132-10-15 16:20:01                          Med/Surg  0.984722  \n",
       "68      2178-05-08 12:25:15                         Discharge  0.654167  \n",
       "...                     ...                               ...       ...  \n",
       "1537313 2119-06-18 21:48:57                  Discharge Lounge  0.657778  \n",
       "1537317 2119-06-19 00:08:37                              PACU  2.327778  \n",
       "1537318 2119-06-19 00:25:10                  Discharge Lounge  0.275833  \n",
       "1537319 2119-07-30 16:21:20  Hematology/Oncology Intermediate  0.229167  \n",
       "1537329                 NaT                               NaN       NaN  \n",
       "\n",
       "[189285 rows x 9 columns]"
      ]
     },
     "execution_count": 99,
     "metadata": {},
     "output_type": "execute_result"
    }
   ],
   "source": [
    "transfers.loc[shorter_inds].shift(-1)"
   ]
  },
  {
   "cell_type": "code",
   "execution_count": 92,
   "id": "7e8c0012",
   "metadata": {
    "ExecuteTime": {
     "end_time": "2022-10-31T01:18:43.172975Z",
     "start_time": "2022-10-31T01:18:43.132698Z"
    }
   },
   "outputs": [
    {
     "data": {
      "text/html": [
       "<div>\n",
       "<style scoped>\n",
       "    .dataframe tbody tr th:only-of-type {\n",
       "        vertical-align: middle;\n",
       "    }\n",
       "\n",
       "    .dataframe tbody tr th {\n",
       "        vertical-align: top;\n",
       "    }\n",
       "\n",
       "    .dataframe thead th {\n",
       "        text-align: right;\n",
       "    }\n",
       "</style>\n",
       "<table border=\"1\" class=\"dataframe\">\n",
       "  <thead>\n",
       "    <tr style=\"text-align: right;\">\n",
       "      <th></th>\n",
       "      <th>subject_id</th>\n",
       "      <th>hadm_id</th>\n",
       "      <th>transfer_id</th>\n",
       "      <th>eventtype</th>\n",
       "      <th>careunit</th>\n",
       "      <th>intime</th>\n",
       "      <th>outtime</th>\n",
       "      <th>event</th>\n",
       "      <th>duration</th>\n",
       "    </tr>\n",
       "  </thead>\n",
       "  <tbody>\n",
       "    <tr>\n",
       "      <th>12</th>\n",
       "      <td>10000068</td>\n",
       "      <td>25022803</td>\n",
       "      <td>31790798</td>\n",
       "      <td>ED</td>\n",
       "      <td>Emergency Department</td>\n",
       "      <td>2160-03-03 21:55:00</td>\n",
       "      <td>2160-03-04 06:26:00</td>\n",
       "      <td>Emergency Department Observation</td>\n",
       "      <td>8.516667</td>\n",
       "    </tr>\n",
       "    <tr>\n",
       "      <th>13</th>\n",
       "      <td>10000068</td>\n",
       "      <td>25022803</td>\n",
       "      <td>31904173</td>\n",
       "      <td>ED</td>\n",
       "      <td>Emergency Department</td>\n",
       "      <td>2160-03-03 21:55:00</td>\n",
       "      <td>2160-03-04 07:33:47</td>\n",
       "      <td>Discharge</td>\n",
       "      <td>1.129722</td>\n",
       "    </tr>\n",
       "    <tr>\n",
       "      <th>16</th>\n",
       "      <td>10000084</td>\n",
       "      <td>29888819</td>\n",
       "      <td>36954971</td>\n",
       "      <td>ED</td>\n",
       "      <td>Emergency Department</td>\n",
       "      <td>2160-12-27 18:32:00</td>\n",
       "      <td>2160-12-28 16:07:00</td>\n",
       "      <td>Emergency Department Observation</td>\n",
       "      <td>21.583333</td>\n",
       "    </tr>\n",
       "    <tr>\n",
       "      <th>17</th>\n",
       "      <td>10000084</td>\n",
       "      <td>29888819</td>\n",
       "      <td>39560622</td>\n",
       "      <td>ED</td>\n",
       "      <td>Emergency Department</td>\n",
       "      <td>2160-12-27 18:32:00</td>\n",
       "      <td>2160-12-28 16:10:39</td>\n",
       "      <td>Discharge</td>\n",
       "      <td>0.060833</td>\n",
       "    </tr>\n",
       "    <tr>\n",
       "      <th>21</th>\n",
       "      <td>10000108</td>\n",
       "      <td>27250926</td>\n",
       "      <td>36533795</td>\n",
       "      <td>ED</td>\n",
       "      <td>Emergency Department</td>\n",
       "      <td>2163-09-27 16:18:00</td>\n",
       "      <td>2163-09-28 09:04:00</td>\n",
       "      <td>Emergency Department Observation</td>\n",
       "      <td>16.766667</td>\n",
       "    </tr>\n",
       "    <tr>\n",
       "      <th>...</th>\n",
       "      <td>...</td>\n",
       "      <td>...</td>\n",
       "      <td>...</td>\n",
       "      <td>...</td>\n",
       "      <td>...</td>\n",
       "      <td>...</td>\n",
       "      <td>...</td>\n",
       "      <td>...</td>\n",
       "      <td>...</td>\n",
       "    </tr>\n",
       "    <tr>\n",
       "      <th>1537317</th>\n",
       "      <td>19999784</td>\n",
       "      <td>26194817</td>\n",
       "      <td>30153747</td>\n",
       "      <td>transfer</td>\n",
       "      <td>Discharge Lounge</td>\n",
       "      <td>2119-06-18 14:21:00</td>\n",
       "      <td>2119-06-18 21:48:57</td>\n",
       "      <td>Discharge Lounge</td>\n",
       "      <td>0.657778</td>\n",
       "    </tr>\n",
       "    <tr>\n",
       "      <th>1537318</th>\n",
       "      <td>19999784</td>\n",
       "      <td>26194817</td>\n",
       "      <td>37769396</td>\n",
       "      <td>transfer</td>\n",
       "      <td>PACU</td>\n",
       "      <td>2119-06-18 21:09:29</td>\n",
       "      <td>2119-06-19 00:08:37</td>\n",
       "      <td>PACU</td>\n",
       "      <td>2.327778</td>\n",
       "    </tr>\n",
       "    <tr>\n",
       "      <th>1537319</th>\n",
       "      <td>19999784</td>\n",
       "      <td>26194817</td>\n",
       "      <td>37290592</td>\n",
       "      <td>transfer</td>\n",
       "      <td>Discharge Lounge</td>\n",
       "      <td>2119-06-18 21:48:57</td>\n",
       "      <td>2119-06-19 00:25:10</td>\n",
       "      <td>Discharge Lounge</td>\n",
       "      <td>0.275833</td>\n",
       "    </tr>\n",
       "    <tr>\n",
       "      <th>1537328</th>\n",
       "      <td>19999784</td>\n",
       "      <td>23664472</td>\n",
       "      <td>32607240</td>\n",
       "      <td>transfer</td>\n",
       "      <td>Surgery/Trauma</td>\n",
       "      <td>2119-07-25 17:33:10</td>\n",
       "      <td>2119-07-30 16:07:35</td>\n",
       "      <td>Hematology/Oncology Intermediate</td>\n",
       "      <td>118.573611</td>\n",
       "    </tr>\n",
       "    <tr>\n",
       "      <th>1537329</th>\n",
       "      <td>19999784</td>\n",
       "      <td>23664472</td>\n",
       "      <td>39821910</td>\n",
       "      <td>transfer</td>\n",
       "      <td>Hematology/Oncology Intermediate</td>\n",
       "      <td>2119-07-25 17:33:10</td>\n",
       "      <td>2119-07-30 16:21:20</td>\n",
       "      <td>Hematology/Oncology Intermediate</td>\n",
       "      <td>0.229167</td>\n",
       "    </tr>\n",
       "  </tbody>\n",
       "</table>\n",
       "<p>340562 rows × 9 columns</p>\n",
       "</div>"
      ],
      "text/plain": [
       "         subject_id   hadm_id  transfer_id eventtype  \\\n",
       "12         10000068  25022803     31790798        ED   \n",
       "13         10000068  25022803     31904173        ED   \n",
       "16         10000084  29888819     36954971        ED   \n",
       "17         10000084  29888819     39560622        ED   \n",
       "21         10000108  27250926     36533795        ED   \n",
       "...             ...       ...          ...       ...   \n",
       "1537317    19999784  26194817     30153747  transfer   \n",
       "1537318    19999784  26194817     37769396  transfer   \n",
       "1537319    19999784  26194817     37290592  transfer   \n",
       "1537328    19999784  23664472     32607240  transfer   \n",
       "1537329    19999784  23664472     39821910  transfer   \n",
       "\n",
       "                                 careunit              intime  \\\n",
       "12                   Emergency Department 2160-03-03 21:55:00   \n",
       "13                   Emergency Department 2160-03-03 21:55:00   \n",
       "16                   Emergency Department 2160-12-27 18:32:00   \n",
       "17                   Emergency Department 2160-12-27 18:32:00   \n",
       "21                   Emergency Department 2163-09-27 16:18:00   \n",
       "...                                   ...                 ...   \n",
       "1537317                  Discharge Lounge 2119-06-18 14:21:00   \n",
       "1537318                              PACU 2119-06-18 21:09:29   \n",
       "1537319                  Discharge Lounge 2119-06-18 21:48:57   \n",
       "1537328                    Surgery/Trauma 2119-07-25 17:33:10   \n",
       "1537329  Hematology/Oncology Intermediate 2119-07-25 17:33:10   \n",
       "\n",
       "                    outtime                             event    duration  \n",
       "12      2160-03-04 06:26:00  Emergency Department Observation    8.516667  \n",
       "13      2160-03-04 07:33:47                         Discharge    1.129722  \n",
       "16      2160-12-28 16:07:00  Emergency Department Observation   21.583333  \n",
       "17      2160-12-28 16:10:39                         Discharge    0.060833  \n",
       "21      2163-09-28 09:04:00  Emergency Department Observation   16.766667  \n",
       "...                     ...                               ...         ...  \n",
       "1537317 2119-06-18 21:48:57                  Discharge Lounge    0.657778  \n",
       "1537318 2119-06-19 00:08:37                              PACU    2.327778  \n",
       "1537319 2119-06-19 00:25:10                  Discharge Lounge    0.275833  \n",
       "1537328 2119-07-30 16:07:35  Hematology/Oncology Intermediate  118.573611  \n",
       "1537329 2119-07-30 16:21:20  Hematology/Oncology Intermediate    0.229167  \n",
       "\n",
       "[340562 rows x 9 columns]"
      ]
     },
     "execution_count": 92,
     "metadata": {},
     "output_type": "execute_result"
    }
   ],
   "source": [
    "transfers[short_transfers + np.roll(short_transfers,-1)]"
   ]
  },
  {
   "cell_type": "code",
   "execution_count": 64,
   "id": "193c1101",
   "metadata": {
    "ExecuteTime": {
     "end_time": "2022-10-31T01:00:34.957443Z",
     "start_time": "2022-10-31T01:00:34.947689Z"
    }
   },
   "outputs": [
    {
     "data": {
      "text/plain": [
       "Int64Index([     13,      17,      22,      38,      68,      85,      96,\n",
       "                101,     109,     110,\n",
       "            ...\n",
       "            1537265, 1537269, 1537274, 1537277, 1537300, 1537313, 1537317,\n",
       "            1537318, 1537319, 1537329],\n",
       "           dtype='int64', length=189285)"
      ]
     },
     "execution_count": 64,
     "metadata": {},
     "output_type": "execute_result"
    }
   ],
   "source": [
    "shorter_inds"
   ]
  },
  {
   "cell_type": "code",
   "execution_count": null,
   "id": "37cff3c8",
   "metadata": {},
   "outputs": [],
   "source": []
  },
  {
   "cell_type": "code",
   "execution_count": 74,
   "id": "2e771af7",
   "metadata": {
    "ExecuteTime": {
     "end_time": "2022-10-31T01:04:03.570319Z",
     "start_time": "2022-10-31T01:04:03.508581Z"
    }
   },
   "outputs": [
    {
     "data": {
      "text/html": [
       "<div>\n",
       "<style scoped>\n",
       "    .dataframe tbody tr th:only-of-type {\n",
       "        vertical-align: middle;\n",
       "    }\n",
       "\n",
       "    .dataframe tbody tr th {\n",
       "        vertical-align: top;\n",
       "    }\n",
       "\n",
       "    .dataframe thead th {\n",
       "        text-align: right;\n",
       "    }\n",
       "</style>\n",
       "<table border=\"1\" class=\"dataframe\">\n",
       "  <thead>\n",
       "    <tr style=\"text-align: right;\">\n",
       "      <th></th>\n",
       "      <th>subject_id</th>\n",
       "      <th>hadm_id</th>\n",
       "      <th>transfer_id</th>\n",
       "      <th>eventtype</th>\n",
       "      <th>careunit</th>\n",
       "      <th>intime</th>\n",
       "      <th>outtime</th>\n",
       "      <th>event</th>\n",
       "      <th>duration</th>\n",
       "    </tr>\n",
       "  </thead>\n",
       "  <tbody>\n",
       "    <tr>\n",
       "      <th>13</th>\n",
       "      <td>10000084.0</td>\n",
       "      <td>23052089</td>\n",
       "      <td>35203156.0</td>\n",
       "      <td>ED</td>\n",
       "      <td>Emergency Department</td>\n",
       "      <td>2160-11-20 20:36:00</td>\n",
       "      <td>2160-11-21 03:20:00</td>\n",
       "      <td>Medicine</td>\n",
       "      <td>6.733333</td>\n",
       "    </tr>\n",
       "    <tr>\n",
       "      <th>17</th>\n",
       "      <td>10000102.0</td>\n",
       "      <td>&lt;NA&gt;</td>\n",
       "      <td>39891608.0</td>\n",
       "      <td>ED</td>\n",
       "      <td>Emergency Department</td>\n",
       "      <td>2136-12-20 11:49:00</td>\n",
       "      <td>2136-12-20 13:56:00</td>\n",
       "      <td>Emergency Department</td>\n",
       "      <td>2.116667</td>\n",
       "    </tr>\n",
       "    <tr>\n",
       "      <th>22</th>\n",
       "      <td>10000115.0</td>\n",
       "      <td>&lt;NA&gt;</td>\n",
       "      <td>38081480.0</td>\n",
       "      <td>ED</td>\n",
       "      <td>Emergency Department</td>\n",
       "      <td>2154-12-10 02:04:00</td>\n",
       "      <td>2154-12-10 05:59:00</td>\n",
       "      <td>Emergency Department</td>\n",
       "      <td>3.916667</td>\n",
       "    </tr>\n",
       "    <tr>\n",
       "      <th>38</th>\n",
       "      <td>10000280.0</td>\n",
       "      <td>&lt;NA&gt;</td>\n",
       "      <td>37090384.0</td>\n",
       "      <td>ED</td>\n",
       "      <td>Emergency Department</td>\n",
       "      <td>2151-12-01 14:14:00</td>\n",
       "      <td>2151-12-01 17:14:00</td>\n",
       "      <td>Emergency Department</td>\n",
       "      <td>3.000000</td>\n",
       "    </tr>\n",
       "    <tr>\n",
       "      <th>68</th>\n",
       "      <td>10000764.0</td>\n",
       "      <td>27897940</td>\n",
       "      <td>36796314.0</td>\n",
       "      <td>transfer</td>\n",
       "      <td>Med/Surg</td>\n",
       "      <td>2132-10-15 16:20:01</td>\n",
       "      <td>2132-10-19 17:00:08</td>\n",
       "      <td>Discharge</td>\n",
       "      <td>96.668611</td>\n",
       "    </tr>\n",
       "    <tr>\n",
       "      <th>...</th>\n",
       "      <td>...</td>\n",
       "      <td>...</td>\n",
       "      <td>...</td>\n",
       "      <td>...</td>\n",
       "      <td>...</td>\n",
       "      <td>...</td>\n",
       "      <td>...</td>\n",
       "      <td>...</td>\n",
       "      <td>...</td>\n",
       "    </tr>\n",
       "    <tr>\n",
       "      <th>1537313</th>\n",
       "      <td>19999750.0</td>\n",
       "      <td>&lt;NA&gt;</td>\n",
       "      <td>38224473.0</td>\n",
       "      <td>ED</td>\n",
       "      <td>Emergency Department</td>\n",
       "      <td>2144-03-22 14:27:00</td>\n",
       "      <td>2144-03-22 18:47:00</td>\n",
       "      <td>Emergency Department</td>\n",
       "      <td>4.333333</td>\n",
       "    </tr>\n",
       "    <tr>\n",
       "      <th>1537317</th>\n",
       "      <td>19999784.0</td>\n",
       "      <td>26194817</td>\n",
       "      <td>37769396.0</td>\n",
       "      <td>transfer</td>\n",
       "      <td>PACU</td>\n",
       "      <td>2119-06-18 21:09:29</td>\n",
       "      <td>2119-06-19 00:08:37</td>\n",
       "      <td>PACU</td>\n",
       "      <td>2.327778</td>\n",
       "    </tr>\n",
       "    <tr>\n",
       "      <th>1537318</th>\n",
       "      <td>19999784.0</td>\n",
       "      <td>26194817</td>\n",
       "      <td>37290592.0</td>\n",
       "      <td>transfer</td>\n",
       "      <td>Discharge Lounge</td>\n",
       "      <td>2119-06-18 21:48:57</td>\n",
       "      <td>2119-06-19 00:25:10</td>\n",
       "      <td>Discharge Lounge</td>\n",
       "      <td>0.275833</td>\n",
       "    </tr>\n",
       "    <tr>\n",
       "      <th>1537319</th>\n",
       "      <td>19999784.0</td>\n",
       "      <td>26194817</td>\n",
       "      <td>39890059.0</td>\n",
       "      <td>transfer</td>\n",
       "      <td>Discharge Lounge</td>\n",
       "      <td>2119-06-19 00:25:10</td>\n",
       "      <td>2119-06-19 16:10:16</td>\n",
       "      <td>Neurology</td>\n",
       "      <td>15.751667</td>\n",
       "    </tr>\n",
       "    <tr>\n",
       "      <th>1537329</th>\n",
       "      <td>19999784.0</td>\n",
       "      <td>23664472</td>\n",
       "      <td>33418841.0</td>\n",
       "      <td>transfer</td>\n",
       "      <td>Hematology/Oncology Intermediate</td>\n",
       "      <td>2119-07-30 16:21:20</td>\n",
       "      <td>2119-07-31 12:07:38</td>\n",
       "      <td>Hematology/Oncology Intermediate</td>\n",
       "      <td>19.771667</td>\n",
       "    </tr>\n",
       "  </tbody>\n",
       "</table>\n",
       "<p>189285 rows × 9 columns</p>\n",
       "</div>"
      ],
      "text/plain": [
       "         subject_id   hadm_id  transfer_id eventtype  \\\n",
       "13       10000084.0  23052089   35203156.0        ED   \n",
       "17       10000102.0      <NA>   39891608.0        ED   \n",
       "22       10000115.0      <NA>   38081480.0        ED   \n",
       "38       10000280.0      <NA>   37090384.0        ED   \n",
       "68       10000764.0  27897940   36796314.0  transfer   \n",
       "...             ...       ...          ...       ...   \n",
       "1537313  19999750.0      <NA>   38224473.0        ED   \n",
       "1537317  19999784.0  26194817   37769396.0  transfer   \n",
       "1537318  19999784.0  26194817   37290592.0  transfer   \n",
       "1537319  19999784.0  26194817   39890059.0  transfer   \n",
       "1537329  19999784.0  23664472   33418841.0  transfer   \n",
       "\n",
       "                                 careunit              intime  \\\n",
       "13                   Emergency Department 2160-11-20 20:36:00   \n",
       "17                   Emergency Department 2136-12-20 11:49:00   \n",
       "22                   Emergency Department 2154-12-10 02:04:00   \n",
       "38                   Emergency Department 2151-12-01 14:14:00   \n",
       "68                               Med/Surg 2132-10-15 16:20:01   \n",
       "...                                   ...                 ...   \n",
       "1537313              Emergency Department 2144-03-22 14:27:00   \n",
       "1537317                              PACU 2119-06-18 21:09:29   \n",
       "1537318                  Discharge Lounge 2119-06-18 21:48:57   \n",
       "1537319                  Discharge Lounge 2119-06-19 00:25:10   \n",
       "1537329  Hematology/Oncology Intermediate 2119-07-30 16:21:20   \n",
       "\n",
       "                    outtime                             event   duration  \n",
       "13      2160-11-21 03:20:00                          Medicine   6.733333  \n",
       "17      2136-12-20 13:56:00              Emergency Department   2.116667  \n",
       "22      2154-12-10 05:59:00              Emergency Department   3.916667  \n",
       "38      2151-12-01 17:14:00              Emergency Department   3.000000  \n",
       "68      2132-10-19 17:00:08                         Discharge  96.668611  \n",
       "...                     ...                               ...        ...  \n",
       "1537313 2144-03-22 18:47:00              Emergency Department   4.333333  \n",
       "1537317 2119-06-19 00:08:37                              PACU   2.327778  \n",
       "1537318 2119-06-19 00:25:10                  Discharge Lounge   0.275833  \n",
       "1537319 2119-06-19 16:10:16                         Neurology  15.751667  \n",
       "1537329 2119-07-31 12:07:38  Hematology/Oncology Intermediate  19.771667  \n",
       "\n",
       "[189285 rows x 9 columns]"
      ]
     },
     "execution_count": 74,
     "metadata": {},
     "output_type": "execute_result"
    }
   ],
   "source": [
    "transfers.shift(-1).loc[shorter_inds]"
   ]
  },
  {
   "cell_type": "code",
   "execution_count": 75,
   "id": "9c3b3f64",
   "metadata": {
    "ExecuteTime": {
     "end_time": "2022-10-31T01:04:11.029503Z",
     "start_time": "2022-10-31T01:04:10.993364Z"
    }
   },
   "outputs": [
    {
     "data": {
      "text/html": [
       "<div>\n",
       "<style scoped>\n",
       "    .dataframe tbody tr th:only-of-type {\n",
       "        vertical-align: middle;\n",
       "    }\n",
       "\n",
       "    .dataframe tbody tr th {\n",
       "        vertical-align: top;\n",
       "    }\n",
       "\n",
       "    .dataframe thead th {\n",
       "        text-align: right;\n",
       "    }\n",
       "</style>\n",
       "<table border=\"1\" class=\"dataframe\">\n",
       "  <thead>\n",
       "    <tr style=\"text-align: right;\">\n",
       "      <th></th>\n",
       "      <th>subject_id</th>\n",
       "      <th>hadm_id</th>\n",
       "      <th>transfer_id</th>\n",
       "      <th>eventtype</th>\n",
       "      <th>careunit</th>\n",
       "      <th>intime</th>\n",
       "      <th>outtime</th>\n",
       "      <th>event</th>\n",
       "      <th>duration</th>\n",
       "    </tr>\n",
       "  </thead>\n",
       "  <tbody>\n",
       "    <tr>\n",
       "      <th>13</th>\n",
       "      <td>10000068</td>\n",
       "      <td>25022803</td>\n",
       "      <td>31904173</td>\n",
       "      <td>ED</td>\n",
       "      <td>Emergency Department</td>\n",
       "      <td>2160-03-03 21:55:00</td>\n",
       "      <td>2160-03-04 07:33:47</td>\n",
       "      <td>Discharge</td>\n",
       "      <td>1.129722</td>\n",
       "    </tr>\n",
       "    <tr>\n",
       "      <th>17</th>\n",
       "      <td>10000084</td>\n",
       "      <td>29888819</td>\n",
       "      <td>39560622</td>\n",
       "      <td>ED</td>\n",
       "      <td>Emergency Department</td>\n",
       "      <td>2160-12-27 18:32:00</td>\n",
       "      <td>2160-12-28 16:10:39</td>\n",
       "      <td>Discharge</td>\n",
       "      <td>0.060833</td>\n",
       "    </tr>\n",
       "    <tr>\n",
       "      <th>22</th>\n",
       "      <td>10000108</td>\n",
       "      <td>27250926</td>\n",
       "      <td>39507710</td>\n",
       "      <td>ED</td>\n",
       "      <td>Emergency Department</td>\n",
       "      <td>2163-09-27 16:18:00</td>\n",
       "      <td>2163-09-28 09:04:56</td>\n",
       "      <td>Discharge</td>\n",
       "      <td>0.015556</td>\n",
       "    </tr>\n",
       "    <tr>\n",
       "      <th>38</th>\n",
       "      <td>10000280</td>\n",
       "      <td>25852320</td>\n",
       "      <td>31474561</td>\n",
       "      <td>ED</td>\n",
       "      <td>Emergency Department</td>\n",
       "      <td>2151-03-18 02:35:00</td>\n",
       "      <td>2151-03-18 17:04:50</td>\n",
       "      <td>Discharge</td>\n",
       "      <td>0.013889</td>\n",
       "    </tr>\n",
       "    <tr>\n",
       "      <th>68</th>\n",
       "      <td>10000764</td>\n",
       "      <td>27897940</td>\n",
       "      <td>37254078</td>\n",
       "      <td>transfer</td>\n",
       "      <td>Med/Surg</td>\n",
       "      <td>2132-10-14 23:32:59</td>\n",
       "      <td>2132-10-15 16:20:01</td>\n",
       "      <td>Med/Surg</td>\n",
       "      <td>0.984722</td>\n",
       "    </tr>\n",
       "    <tr>\n",
       "      <th>...</th>\n",
       "      <td>...</td>\n",
       "      <td>...</td>\n",
       "      <td>...</td>\n",
       "      <td>...</td>\n",
       "      <td>...</td>\n",
       "      <td>...</td>\n",
       "      <td>...</td>\n",
       "      <td>...</td>\n",
       "      <td>...</td>\n",
       "    </tr>\n",
       "    <tr>\n",
       "      <th>1537313</th>\n",
       "      <td>19999733</td>\n",
       "      <td>27674281</td>\n",
       "      <td>39344756</td>\n",
       "      <td>ED</td>\n",
       "      <td>Emergency Department</td>\n",
       "      <td>2152-07-08 20:15:00</td>\n",
       "      <td>2152-07-09 03:51:59</td>\n",
       "      <td>Discharge</td>\n",
       "      <td>0.116389</td>\n",
       "    </tr>\n",
       "    <tr>\n",
       "      <th>1537317</th>\n",
       "      <td>19999784</td>\n",
       "      <td>26194817</td>\n",
       "      <td>30153747</td>\n",
       "      <td>transfer</td>\n",
       "      <td>Discharge Lounge</td>\n",
       "      <td>2119-06-18 14:21:00</td>\n",
       "      <td>2119-06-18 21:48:57</td>\n",
       "      <td>Discharge Lounge</td>\n",
       "      <td>0.657778</td>\n",
       "    </tr>\n",
       "    <tr>\n",
       "      <th>1537318</th>\n",
       "      <td>19999784</td>\n",
       "      <td>26194817</td>\n",
       "      <td>37769396</td>\n",
       "      <td>transfer</td>\n",
       "      <td>PACU</td>\n",
       "      <td>2119-06-18 21:09:29</td>\n",
       "      <td>2119-06-19 00:08:37</td>\n",
       "      <td>PACU</td>\n",
       "      <td>2.327778</td>\n",
       "    </tr>\n",
       "    <tr>\n",
       "      <th>1537319</th>\n",
       "      <td>19999784</td>\n",
       "      <td>26194817</td>\n",
       "      <td>37290592</td>\n",
       "      <td>transfer</td>\n",
       "      <td>Discharge Lounge</td>\n",
       "      <td>2119-06-18 21:48:57</td>\n",
       "      <td>2119-06-19 00:25:10</td>\n",
       "      <td>Discharge Lounge</td>\n",
       "      <td>0.275833</td>\n",
       "    </tr>\n",
       "    <tr>\n",
       "      <th>1537329</th>\n",
       "      <td>19999784</td>\n",
       "      <td>23664472</td>\n",
       "      <td>39821910</td>\n",
       "      <td>transfer</td>\n",
       "      <td>Hematology/Oncology Intermediate</td>\n",
       "      <td>2119-07-25 17:33:10</td>\n",
       "      <td>2119-07-30 16:21:20</td>\n",
       "      <td>Hematology/Oncology Intermediate</td>\n",
       "      <td>0.229167</td>\n",
       "    </tr>\n",
       "  </tbody>\n",
       "</table>\n",
       "<p>189285 rows × 9 columns</p>\n",
       "</div>"
      ],
      "text/plain": [
       "         subject_id   hadm_id  transfer_id eventtype  \\\n",
       "13         10000068  25022803     31904173        ED   \n",
       "17         10000084  29888819     39560622        ED   \n",
       "22         10000108  27250926     39507710        ED   \n",
       "38         10000280  25852320     31474561        ED   \n",
       "68         10000764  27897940     37254078  transfer   \n",
       "...             ...       ...          ...       ...   \n",
       "1537313    19999733  27674281     39344756        ED   \n",
       "1537317    19999784  26194817     30153747  transfer   \n",
       "1537318    19999784  26194817     37769396  transfer   \n",
       "1537319    19999784  26194817     37290592  transfer   \n",
       "1537329    19999784  23664472     39821910  transfer   \n",
       "\n",
       "                                 careunit              intime  \\\n",
       "13                   Emergency Department 2160-03-03 21:55:00   \n",
       "17                   Emergency Department 2160-12-27 18:32:00   \n",
       "22                   Emergency Department 2163-09-27 16:18:00   \n",
       "38                   Emergency Department 2151-03-18 02:35:00   \n",
       "68                               Med/Surg 2132-10-14 23:32:59   \n",
       "...                                   ...                 ...   \n",
       "1537313              Emergency Department 2152-07-08 20:15:00   \n",
       "1537317                  Discharge Lounge 2119-06-18 14:21:00   \n",
       "1537318                              PACU 2119-06-18 21:09:29   \n",
       "1537319                  Discharge Lounge 2119-06-18 21:48:57   \n",
       "1537329  Hematology/Oncology Intermediate 2119-07-25 17:33:10   \n",
       "\n",
       "                    outtime                             event  duration  \n",
       "13      2160-03-04 07:33:47                         Discharge  1.129722  \n",
       "17      2160-12-28 16:10:39                         Discharge  0.060833  \n",
       "22      2163-09-28 09:04:56                         Discharge  0.015556  \n",
       "38      2151-03-18 17:04:50                         Discharge  0.013889  \n",
       "68      2132-10-15 16:20:01                          Med/Surg  0.984722  \n",
       "...                     ...                               ...       ...  \n",
       "1537313 2152-07-09 03:51:59                         Discharge  0.116389  \n",
       "1537317 2119-06-18 21:48:57                  Discharge Lounge  0.657778  \n",
       "1537318 2119-06-19 00:08:37                              PACU  2.327778  \n",
       "1537319 2119-06-19 00:25:10                  Discharge Lounge  0.275833  \n",
       "1537329 2119-07-30 16:21:20  Hematology/Oncology Intermediate  0.229167  \n",
       "\n",
       "[189285 rows x 9 columns]"
      ]
     },
     "execution_count": 75,
     "metadata": {},
     "output_type": "execute_result"
    }
   ],
   "source": [
    "transfers.loc[shorter_inds]"
   ]
  },
  {
   "cell_type": "code",
   "execution_count": 59,
   "id": "40cba02e",
   "metadata": {
    "ExecuteTime": {
     "end_time": "2022-10-31T00:54:55.440076Z",
     "start_time": "2022-10-31T00:54:55.410231Z"
    }
   },
   "outputs": [
    {
     "data": {
      "text/html": [
       "<div>\n",
       "<style scoped>\n",
       "    .dataframe tbody tr th:only-of-type {\n",
       "        vertical-align: middle;\n",
       "    }\n",
       "\n",
       "    .dataframe tbody tr th {\n",
       "        vertical-align: top;\n",
       "    }\n",
       "\n",
       "    .dataframe thead th {\n",
       "        text-align: right;\n",
       "    }\n",
       "</style>\n",
       "<table border=\"1\" class=\"dataframe\">\n",
       "  <thead>\n",
       "    <tr style=\"text-align: right;\">\n",
       "      <th></th>\n",
       "      <th>subject_id</th>\n",
       "      <th>hadm_id</th>\n",
       "      <th>transfer_id</th>\n",
       "      <th>eventtype</th>\n",
       "      <th>careunit</th>\n",
       "      <th>intime</th>\n",
       "      <th>outtime</th>\n",
       "      <th>event</th>\n",
       "      <th>duration</th>\n",
       "    </tr>\n",
       "  </thead>\n",
       "  <tbody>\n",
       "    <tr>\n",
       "      <th>12</th>\n",
       "      <td>10000068</td>\n",
       "      <td>25022803</td>\n",
       "      <td>31790798</td>\n",
       "      <td>ED</td>\n",
       "      <td>Emergency Department</td>\n",
       "      <td>2160-03-03 21:55:00</td>\n",
       "      <td>2160-03-04 06:26:00</td>\n",
       "      <td>Emergency Department Observation</td>\n",
       "      <td>8.516667</td>\n",
       "    </tr>\n",
       "    <tr>\n",
       "      <th>13</th>\n",
       "      <td>10000068</td>\n",
       "      <td>25022803</td>\n",
       "      <td>31904173</td>\n",
       "      <td>admit</td>\n",
       "      <td>Emergency Department Observation</td>\n",
       "      <td>2160-03-04 06:26:00</td>\n",
       "      <td>2160-03-04 07:33:47</td>\n",
       "      <td>Discharge</td>\n",
       "      <td>1.129722</td>\n",
       "    </tr>\n",
       "    <tr>\n",
       "      <th>16</th>\n",
       "      <td>10000084</td>\n",
       "      <td>29888819</td>\n",
       "      <td>36954971</td>\n",
       "      <td>ED</td>\n",
       "      <td>Emergency Department</td>\n",
       "      <td>2160-12-27 18:32:00</td>\n",
       "      <td>2160-12-28 16:07:00</td>\n",
       "      <td>Emergency Department Observation</td>\n",
       "      <td>21.583333</td>\n",
       "    </tr>\n",
       "    <tr>\n",
       "      <th>17</th>\n",
       "      <td>10000084</td>\n",
       "      <td>29888819</td>\n",
       "      <td>39560622</td>\n",
       "      <td>admit</td>\n",
       "      <td>Emergency Department Observation</td>\n",
       "      <td>2160-12-28 16:07:00</td>\n",
       "      <td>2160-12-28 16:10:39</td>\n",
       "      <td>Discharge</td>\n",
       "      <td>0.060833</td>\n",
       "    </tr>\n",
       "    <tr>\n",
       "      <th>21</th>\n",
       "      <td>10000108</td>\n",
       "      <td>27250926</td>\n",
       "      <td>36533795</td>\n",
       "      <td>ED</td>\n",
       "      <td>Emergency Department</td>\n",
       "      <td>2163-09-27 16:18:00</td>\n",
       "      <td>2163-09-28 09:04:00</td>\n",
       "      <td>Emergency Department Observation</td>\n",
       "      <td>16.766667</td>\n",
       "    </tr>\n",
       "    <tr>\n",
       "      <th>22</th>\n",
       "      <td>10000108</td>\n",
       "      <td>27250926</td>\n",
       "      <td>39507710</td>\n",
       "      <td>admit</td>\n",
       "      <td>Emergency Department Observation</td>\n",
       "      <td>2163-09-28 09:04:00</td>\n",
       "      <td>2163-09-28 09:04:56</td>\n",
       "      <td>Discharge</td>\n",
       "      <td>0.015556</td>\n",
       "    </tr>\n",
       "    <tr>\n",
       "      <th>37</th>\n",
       "      <td>10000280</td>\n",
       "      <td>25852320</td>\n",
       "      <td>39155318</td>\n",
       "      <td>ED</td>\n",
       "      <td>Emergency Department</td>\n",
       "      <td>2151-03-18 02:35:00</td>\n",
       "      <td>2151-03-18 17:04:00</td>\n",
       "      <td>Emergency Department Observation</td>\n",
       "      <td>14.483333</td>\n",
       "    </tr>\n",
       "    <tr>\n",
       "      <th>38</th>\n",
       "      <td>10000280</td>\n",
       "      <td>25852320</td>\n",
       "      <td>31474561</td>\n",
       "      <td>admit</td>\n",
       "      <td>Emergency Department Observation</td>\n",
       "      <td>2151-03-18 17:04:00</td>\n",
       "      <td>2151-03-18 17:04:50</td>\n",
       "      <td>Discharge</td>\n",
       "      <td>0.013889</td>\n",
       "    </tr>\n",
       "    <tr>\n",
       "      <th>67</th>\n",
       "      <td>10000764</td>\n",
       "      <td>27897940</td>\n",
       "      <td>36224103</td>\n",
       "      <td>admit</td>\n",
       "      <td>Emergency Department Observation</td>\n",
       "      <td>2132-10-14 23:32:59</td>\n",
       "      <td>2132-10-15 15:20:56</td>\n",
       "      <td>Med/Surg</td>\n",
       "      <td>15.799167</td>\n",
       "    </tr>\n",
       "    <tr>\n",
       "      <th>68</th>\n",
       "      <td>10000764</td>\n",
       "      <td>27897940</td>\n",
       "      <td>37254078</td>\n",
       "      <td>transfer</td>\n",
       "      <td>Med/Surg</td>\n",
       "      <td>2132-10-15 15:20:56</td>\n",
       "      <td>2132-10-15 16:20:01</td>\n",
       "      <td>Med/Surg</td>\n",
       "      <td>0.984722</td>\n",
       "    </tr>\n",
       "    <tr>\n",
       "      <th>84</th>\n",
       "      <td>10000886</td>\n",
       "      <td>21927847</td>\n",
       "      <td>30681320</td>\n",
       "      <td>ED</td>\n",
       "      <td>Emergency Department</td>\n",
       "      <td>2178-05-08 03:40:00</td>\n",
       "      <td>2178-05-08 11:46:00</td>\n",
       "      <td>Emergency Department Observation</td>\n",
       "      <td>8.100000</td>\n",
       "    </tr>\n",
       "    <tr>\n",
       "      <th>85</th>\n",
       "      <td>10000886</td>\n",
       "      <td>21927847</td>\n",
       "      <td>30150214</td>\n",
       "      <td>admit</td>\n",
       "      <td>Emergency Department Observation</td>\n",
       "      <td>2178-05-08 11:46:00</td>\n",
       "      <td>2178-05-08 12:25:15</td>\n",
       "      <td>Discharge</td>\n",
       "      <td>0.654167</td>\n",
       "    </tr>\n",
       "    <tr>\n",
       "      <th>95</th>\n",
       "      <td>10000935</td>\n",
       "      <td>24955974</td>\n",
       "      <td>33405042</td>\n",
       "      <td>ED</td>\n",
       "      <td>Emergency Department</td>\n",
       "      <td>2183-11-07 01:05:00</td>\n",
       "      <td>2183-11-07 11:19:00</td>\n",
       "      <td>Emergency Department Observation</td>\n",
       "      <td>10.233333</td>\n",
       "    </tr>\n",
       "    <tr>\n",
       "      <th>96</th>\n",
       "      <td>10000935</td>\n",
       "      <td>24955974</td>\n",
       "      <td>31398089</td>\n",
       "      <td>admit</td>\n",
       "      <td>Emergency Department Observation</td>\n",
       "      <td>2183-11-07 11:19:00</td>\n",
       "      <td>2183-11-07 11:40:56</td>\n",
       "      <td>Discharge</td>\n",
       "      <td>0.365556</td>\n",
       "    </tr>\n",
       "    <tr>\n",
       "      <th>100</th>\n",
       "      <td>10000935</td>\n",
       "      <td>21738619</td>\n",
       "      <td>35197384</td>\n",
       "      <td>ED</td>\n",
       "      <td>Emergency Department</td>\n",
       "      <td>2187-07-11 09:26:00</td>\n",
       "      <td>2187-07-11 13:07:28</td>\n",
       "      <td>Medicine</td>\n",
       "      <td>3.691111</td>\n",
       "    </tr>\n",
       "    <tr>\n",
       "      <th>101</th>\n",
       "      <td>10000935</td>\n",
       "      <td>21738619</td>\n",
       "      <td>33554838</td>\n",
       "      <td>admit</td>\n",
       "      <td>Medicine</td>\n",
       "      <td>2187-07-11 13:07:28</td>\n",
       "      <td>2187-07-11 13:10:38</td>\n",
       "      <td>Emergency Department Observation</td>\n",
       "      <td>0.052778</td>\n",
       "    </tr>\n",
       "    <tr>\n",
       "      <th>108</th>\n",
       "      <td>10000935</td>\n",
       "      <td>25849114</td>\n",
       "      <td>37499077</td>\n",
       "      <td>ED</td>\n",
       "      <td>Emergency Department</td>\n",
       "      <td>2187-10-10 11:56:00</td>\n",
       "      <td>2187-10-10 19:09:46</td>\n",
       "      <td>Neurology</td>\n",
       "      <td>7.229444</td>\n",
       "    </tr>\n",
       "    <tr>\n",
       "      <th>109</th>\n",
       "      <td>10000935</td>\n",
       "      <td>25849114</td>\n",
       "      <td>39808296</td>\n",
       "      <td>admit</td>\n",
       "      <td>Neurology</td>\n",
       "      <td>2187-10-10 19:09:46</td>\n",
       "      <td>2187-10-10 20:55:17</td>\n",
       "      <td>Discharge Lounge</td>\n",
       "      <td>1.758611</td>\n",
       "    </tr>\n",
       "    <tr>\n",
       "      <th>110</th>\n",
       "      <td>10000935</td>\n",
       "      <td>25849114</td>\n",
       "      <td>32096064</td>\n",
       "      <td>transfer</td>\n",
       "      <td>Discharge Lounge</td>\n",
       "      <td>2187-10-10 20:55:17</td>\n",
       "      <td>2187-10-10 21:11:13</td>\n",
       "      <td>Transplant</td>\n",
       "      <td>0.265556</td>\n",
       "    </tr>\n",
       "    <tr>\n",
       "      <th>151</th>\n",
       "      <td>10001180</td>\n",
       "      <td>27864856</td>\n",
       "      <td>34588710</td>\n",
       "      <td>admit</td>\n",
       "      <td>Labor &amp; Delivery</td>\n",
       "      <td>2197-06-06 08:13:35</td>\n",
       "      <td>2197-06-06 14:32:20</td>\n",
       "      <td>Labor &amp; Delivery</td>\n",
       "      <td>6.312500</td>\n",
       "    </tr>\n",
       "  </tbody>\n",
       "</table>\n",
       "</div>"
      ],
      "text/plain": [
       "     subject_id   hadm_id  transfer_id eventtype  \\\n",
       "12     10000068  25022803     31790798        ED   \n",
       "13     10000068  25022803     31904173     admit   \n",
       "16     10000084  29888819     36954971        ED   \n",
       "17     10000084  29888819     39560622     admit   \n",
       "21     10000108  27250926     36533795        ED   \n",
       "22     10000108  27250926     39507710     admit   \n",
       "37     10000280  25852320     39155318        ED   \n",
       "38     10000280  25852320     31474561     admit   \n",
       "67     10000764  27897940     36224103     admit   \n",
       "68     10000764  27897940     37254078  transfer   \n",
       "84     10000886  21927847     30681320        ED   \n",
       "85     10000886  21927847     30150214     admit   \n",
       "95     10000935  24955974     33405042        ED   \n",
       "96     10000935  24955974     31398089     admit   \n",
       "100    10000935  21738619     35197384        ED   \n",
       "101    10000935  21738619     33554838     admit   \n",
       "108    10000935  25849114     37499077        ED   \n",
       "109    10000935  25849114     39808296     admit   \n",
       "110    10000935  25849114     32096064  transfer   \n",
       "151    10001180  27864856     34588710     admit   \n",
       "\n",
       "                             careunit              intime             outtime  \\\n",
       "12               Emergency Department 2160-03-03 21:55:00 2160-03-04 06:26:00   \n",
       "13   Emergency Department Observation 2160-03-04 06:26:00 2160-03-04 07:33:47   \n",
       "16               Emergency Department 2160-12-27 18:32:00 2160-12-28 16:07:00   \n",
       "17   Emergency Department Observation 2160-12-28 16:07:00 2160-12-28 16:10:39   \n",
       "21               Emergency Department 2163-09-27 16:18:00 2163-09-28 09:04:00   \n",
       "22   Emergency Department Observation 2163-09-28 09:04:00 2163-09-28 09:04:56   \n",
       "37               Emergency Department 2151-03-18 02:35:00 2151-03-18 17:04:00   \n",
       "38   Emergency Department Observation 2151-03-18 17:04:00 2151-03-18 17:04:50   \n",
       "67   Emergency Department Observation 2132-10-14 23:32:59 2132-10-15 15:20:56   \n",
       "68                           Med/Surg 2132-10-15 15:20:56 2132-10-15 16:20:01   \n",
       "84               Emergency Department 2178-05-08 03:40:00 2178-05-08 11:46:00   \n",
       "85   Emergency Department Observation 2178-05-08 11:46:00 2178-05-08 12:25:15   \n",
       "95               Emergency Department 2183-11-07 01:05:00 2183-11-07 11:19:00   \n",
       "96   Emergency Department Observation 2183-11-07 11:19:00 2183-11-07 11:40:56   \n",
       "100              Emergency Department 2187-07-11 09:26:00 2187-07-11 13:07:28   \n",
       "101                          Medicine 2187-07-11 13:07:28 2187-07-11 13:10:38   \n",
       "108              Emergency Department 2187-10-10 11:56:00 2187-10-10 19:09:46   \n",
       "109                         Neurology 2187-10-10 19:09:46 2187-10-10 20:55:17   \n",
       "110                  Discharge Lounge 2187-10-10 20:55:17 2187-10-10 21:11:13   \n",
       "151                  Labor & Delivery 2197-06-06 08:13:35 2197-06-06 14:32:20   \n",
       "\n",
       "                                event   duration  \n",
       "12   Emergency Department Observation   8.516667  \n",
       "13                          Discharge   1.129722  \n",
       "16   Emergency Department Observation  21.583333  \n",
       "17                          Discharge   0.060833  \n",
       "21   Emergency Department Observation  16.766667  \n",
       "22                          Discharge   0.015556  \n",
       "37   Emergency Department Observation  14.483333  \n",
       "38                          Discharge   0.013889  \n",
       "67                           Med/Surg  15.799167  \n",
       "68                           Med/Surg   0.984722  \n",
       "84   Emergency Department Observation   8.100000  \n",
       "85                          Discharge   0.654167  \n",
       "95   Emergency Department Observation  10.233333  \n",
       "96                          Discharge   0.365556  \n",
       "100                          Medicine   3.691111  \n",
       "101  Emergency Department Observation   0.052778  \n",
       "108                         Neurology   7.229444  \n",
       "109                  Discharge Lounge   1.758611  \n",
       "110                        Transplant   0.265556  \n",
       "151                  Labor & Delivery   6.312500  "
      ]
     },
     "execution_count": 59,
     "metadata": {},
     "output_type": "execute_result"
    }
   ],
   "source": [
    "transfers[short_transfers + np.roll(short_transfers,-1)].head(20)"
   ]
  },
  {
   "cell_type": "code",
   "execution_count": 252,
   "id": "0c36f108",
   "metadata": {
    "ExecuteTime": {
     "end_time": "2022-10-31T00:35:32.742726Z",
     "start_time": "2022-10-31T00:35:32.730121Z"
    }
   },
   "outputs": [],
   "source": [
    "shorter_transfers = short_transfers * (transfers.duration.shift() <= transfers.duration).values"
   ]
  },
  {
   "cell_type": "code",
   "execution_count": 254,
   "id": "0a0d0f98",
   "metadata": {
    "ExecuteTime": {
     "end_time": "2022-10-31T00:35:32.822737Z",
     "start_time": "2022-10-31T00:35:32.792739Z"
    }
   },
   "outputs": [
    {
     "data": {
      "text/html": [
       "<div>\n",
       "<style scoped>\n",
       "    .dataframe tbody tr th:only-of-type {\n",
       "        vertical-align: middle;\n",
       "    }\n",
       "\n",
       "    .dataframe tbody tr th {\n",
       "        vertical-align: top;\n",
       "    }\n",
       "\n",
       "    .dataframe thead th {\n",
       "        text-align: right;\n",
       "    }\n",
       "</style>\n",
       "<table border=\"1\" class=\"dataframe\">\n",
       "  <thead>\n",
       "    <tr style=\"text-align: right;\">\n",
       "      <th></th>\n",
       "      <th>subject_id</th>\n",
       "      <th>hadm_id</th>\n",
       "      <th>transfer_id</th>\n",
       "      <th>eventtype</th>\n",
       "      <th>careunit</th>\n",
       "      <th>intime</th>\n",
       "      <th>outtime</th>\n",
       "      <th>event</th>\n",
       "      <th>duration</th>\n",
       "    </tr>\n",
       "  </thead>\n",
       "  <tbody>\n",
       "    <tr>\n",
       "      <th>153</th>\n",
       "      <td>10001180</td>\n",
       "      <td>27864856</td>\n",
       "      <td>33254822</td>\n",
       "      <td>transfer</td>\n",
       "      <td>Labor &amp; Delivery</td>\n",
       "      <td>2197-06-06 14:32:20</td>\n",
       "      <td>2197-06-06 17:48:32</td>\n",
       "      <td>Obstetrics Postpartum</td>\n",
       "      <td>1.877778</td>\n",
       "    </tr>\n",
       "    <tr>\n",
       "      <th>197</th>\n",
       "      <td>10001401</td>\n",
       "      <td>24818636</td>\n",
       "      <td>35887732</td>\n",
       "      <td>transfer</td>\n",
       "      <td>Discharge Lounge</td>\n",
       "      <td>2131-07-30 21:41:04</td>\n",
       "      <td>2131-07-31 00:00:55</td>\n",
       "      <td>Hematology/Oncology</td>\n",
       "      <td>2.218611</td>\n",
       "    </tr>\n",
       "    <tr>\n",
       "      <th>215</th>\n",
       "      <td>10001523</td>\n",
       "      <td>&lt;NA&gt;</td>\n",
       "      <td>37146432</td>\n",
       "      <td>ED</td>\n",
       "      <td>Emergency Department</td>\n",
       "      <td>2120-12-30 16:57:00</td>\n",
       "      <td>2121-01-01 09:34:00</td>\n",
       "      <td>Emergency Department</td>\n",
       "      <td>2.350000</td>\n",
       "    </tr>\n",
       "    <tr>\n",
       "      <th>304</th>\n",
       "      <td>10002012</td>\n",
       "      <td>&lt;NA&gt;</td>\n",
       "      <td>38333639</td>\n",
       "      <td>ED</td>\n",
       "      <td>Emergency Department</td>\n",
       "      <td>2167-03-17 12:37:00</td>\n",
       "      <td>2168-09-07 21:14:00</td>\n",
       "      <td>Vascular</td>\n",
       "      <td>1.433333</td>\n",
       "    </tr>\n",
       "    <tr>\n",
       "      <th>370</th>\n",
       "      <td>10002221</td>\n",
       "      <td>21008195</td>\n",
       "      <td>37843288</td>\n",
       "      <td>transfer</td>\n",
       "      <td>Discharge Lounge</td>\n",
       "      <td>2200-09-29 17:28:51</td>\n",
       "      <td>2200-09-29 19:37:42</td>\n",
       "      <td>Medicine</td>\n",
       "      <td>1.933333</td>\n",
       "    </tr>\n",
       "    <tr>\n",
       "      <th>...</th>\n",
       "      <td>...</td>\n",
       "      <td>...</td>\n",
       "      <td>...</td>\n",
       "      <td>...</td>\n",
       "      <td>...</td>\n",
       "      <td>...</td>\n",
       "      <td>...</td>\n",
       "      <td>...</td>\n",
       "      <td>...</td>\n",
       "    </tr>\n",
       "    <tr>\n",
       "      <th>1537157</th>\n",
       "      <td>19998497</td>\n",
       "      <td>25178709</td>\n",
       "      <td>31223688</td>\n",
       "      <td>transfer</td>\n",
       "      <td>Medicine</td>\n",
       "      <td>2140-08-29 18:12:52</td>\n",
       "      <td>2140-08-29 18:32:39</td>\n",
       "      <td>Medicine/Cardiology</td>\n",
       "      <td>0.211944</td>\n",
       "    </tr>\n",
       "    <tr>\n",
       "      <th>1537158</th>\n",
       "      <td>19998497</td>\n",
       "      <td>25178709</td>\n",
       "      <td>32415917</td>\n",
       "      <td>transfer</td>\n",
       "      <td>Medicine/Cardiology</td>\n",
       "      <td>2140-08-29 18:19:56</td>\n",
       "      <td>2140-08-29 18:55:46</td>\n",
       "      <td>Medicine/Cardiology</td>\n",
       "      <td>0.385278</td>\n",
       "    </tr>\n",
       "    <tr>\n",
       "      <th>1537176</th>\n",
       "      <td>19998591</td>\n",
       "      <td>23299044</td>\n",
       "      <td>31473178</td>\n",
       "      <td>transfer</td>\n",
       "      <td>Surgery/Trauma</td>\n",
       "      <td>2185-03-10 15:29:21</td>\n",
       "      <td>2185-03-10 16:58:13</td>\n",
       "      <td>Surgery/Trauma</td>\n",
       "      <td>1.327222</td>\n",
       "    </tr>\n",
       "    <tr>\n",
       "      <th>1537306</th>\n",
       "      <td>19999625</td>\n",
       "      <td>25304202</td>\n",
       "      <td>35596911</td>\n",
       "      <td>ED</td>\n",
       "      <td>Emergency Department</td>\n",
       "      <td>2139-01-03 13:10:00</td>\n",
       "      <td>2139-10-10 19:18:00</td>\n",
       "      <td>Medical/Surgical Intensive Care Unit (MICU/SICU)</td>\n",
       "      <td>2.566667</td>\n",
       "    </tr>\n",
       "    <tr>\n",
       "      <th>1537318</th>\n",
       "      <td>19999784</td>\n",
       "      <td>26194817</td>\n",
       "      <td>37769396</td>\n",
       "      <td>transfer</td>\n",
       "      <td>Discharge Lounge</td>\n",
       "      <td>2119-06-18 21:09:29</td>\n",
       "      <td>2119-06-19 00:08:37</td>\n",
       "      <td>PACU</td>\n",
       "      <td>2.327778</td>\n",
       "    </tr>\n",
       "  </tbody>\n",
       "</table>\n",
       "<p>32305 rows × 9 columns</p>\n",
       "</div>"
      ],
      "text/plain": [
       "         subject_id   hadm_id  transfer_id eventtype              careunit  \\\n",
       "153        10001180  27864856     33254822  transfer      Labor & Delivery   \n",
       "197        10001401  24818636     35887732  transfer      Discharge Lounge   \n",
       "215        10001523      <NA>     37146432        ED  Emergency Department   \n",
       "304        10002012      <NA>     38333639        ED  Emergency Department   \n",
       "370        10002221  21008195     37843288  transfer      Discharge Lounge   \n",
       "...             ...       ...          ...       ...                   ...   \n",
       "1537157    19998497  25178709     31223688  transfer              Medicine   \n",
       "1537158    19998497  25178709     32415917  transfer   Medicine/Cardiology   \n",
       "1537176    19998591  23299044     31473178  transfer        Surgery/Trauma   \n",
       "1537306    19999625  25304202     35596911        ED  Emergency Department   \n",
       "1537318    19999784  26194817     37769396  transfer      Discharge Lounge   \n",
       "\n",
       "                     intime             outtime  \\\n",
       "153     2197-06-06 14:32:20 2197-06-06 17:48:32   \n",
       "197     2131-07-30 21:41:04 2131-07-31 00:00:55   \n",
       "215     2120-12-30 16:57:00 2121-01-01 09:34:00   \n",
       "304     2167-03-17 12:37:00 2168-09-07 21:14:00   \n",
       "370     2200-09-29 17:28:51 2200-09-29 19:37:42   \n",
       "...                     ...                 ...   \n",
       "1537157 2140-08-29 18:12:52 2140-08-29 18:32:39   \n",
       "1537158 2140-08-29 18:19:56 2140-08-29 18:55:46   \n",
       "1537176 2185-03-10 15:29:21 2185-03-10 16:58:13   \n",
       "1537306 2139-01-03 13:10:00 2139-10-10 19:18:00   \n",
       "1537318 2119-06-18 21:09:29 2119-06-19 00:08:37   \n",
       "\n",
       "                                                    event  duration  \n",
       "153                                 Obstetrics Postpartum  1.877778  \n",
       "197                                   Hematology/Oncology  2.218611  \n",
       "215                                  Emergency Department  2.350000  \n",
       "304                                              Vascular  1.433333  \n",
       "370                                              Medicine  1.933333  \n",
       "...                                                   ...       ...  \n",
       "1537157                               Medicine/Cardiology  0.211944  \n",
       "1537158                               Medicine/Cardiology  0.385278  \n",
       "1537176                                    Surgery/Trauma  1.327222  \n",
       "1537306  Medical/Surgical Intensive Care Unit (MICU/SICU)  2.566667  \n",
       "1537318                                              PACU  2.327778  \n",
       "\n",
       "[32305 rows x 9 columns]"
      ]
     },
     "execution_count": 254,
     "metadata": {},
     "output_type": "execute_result"
    }
   ],
   "source": [
    "transfers[shorter_transfers]"
   ]
  },
  {
   "cell_type": "markdown",
   "id": "9a67359c",
   "metadata": {},
   "source": [
    "Some of the preceding rows may be short themselves. We are only going to edit those rows that are shorter than their preceding row. "
   ]
  },
  {
   "cell_type": "code",
   "execution_count": 255,
   "id": "a3e423c0",
   "metadata": {
    "ExecuteTime": {
     "end_time": "2022-10-31T00:35:32.885855Z",
     "start_time": "2022-10-31T00:35:32.845782Z"
    }
   },
   "outputs": [
    {
     "data": {
      "text/html": [
       "<div>\n",
       "<style scoped>\n",
       "    .dataframe tbody tr th:only-of-type {\n",
       "        vertical-align: middle;\n",
       "    }\n",
       "\n",
       "    .dataframe tbody tr th {\n",
       "        vertical-align: top;\n",
       "    }\n",
       "\n",
       "    .dataframe thead th {\n",
       "        text-align: right;\n",
       "    }\n",
       "</style>\n",
       "<table border=\"1\" class=\"dataframe\">\n",
       "  <thead>\n",
       "    <tr style=\"text-align: right;\">\n",
       "      <th></th>\n",
       "      <th>subject_id</th>\n",
       "      <th>hadm_id</th>\n",
       "      <th>transfer_id</th>\n",
       "      <th>eventtype</th>\n",
       "      <th>careunit</th>\n",
       "      <th>intime</th>\n",
       "      <th>outtime</th>\n",
       "      <th>event</th>\n",
       "      <th>duration</th>\n",
       "    </tr>\n",
       "  </thead>\n",
       "  <tbody>\n",
       "    <tr>\n",
       "      <th>13</th>\n",
       "      <td>10000068</td>\n",
       "      <td>25022803</td>\n",
       "      <td>31904173</td>\n",
       "      <td>admit</td>\n",
       "      <td>Emergency Department Observation</td>\n",
       "      <td>2160-03-03 21:55:00</td>\n",
       "      <td>2160-03-04 07:33:47</td>\n",
       "      <td>Discharge</td>\n",
       "      <td>1.129722</td>\n",
       "    </tr>\n",
       "    <tr>\n",
       "      <th>17</th>\n",
       "      <td>10000084</td>\n",
       "      <td>29888819</td>\n",
       "      <td>39560622</td>\n",
       "      <td>admit</td>\n",
       "      <td>Emergency Department Observation</td>\n",
       "      <td>2160-12-27 18:32:00</td>\n",
       "      <td>2160-12-28 16:10:39</td>\n",
       "      <td>Discharge</td>\n",
       "      <td>0.060833</td>\n",
       "    </tr>\n",
       "    <tr>\n",
       "      <th>22</th>\n",
       "      <td>10000108</td>\n",
       "      <td>27250926</td>\n",
       "      <td>39507710</td>\n",
       "      <td>admit</td>\n",
       "      <td>Emergency Department Observation</td>\n",
       "      <td>2163-09-27 16:18:00</td>\n",
       "      <td>2163-09-28 09:04:56</td>\n",
       "      <td>Discharge</td>\n",
       "      <td>0.015556</td>\n",
       "    </tr>\n",
       "    <tr>\n",
       "      <th>24</th>\n",
       "      <td>10000115</td>\n",
       "      <td>&lt;NA&gt;</td>\n",
       "      <td>30295111</td>\n",
       "      <td>ED</td>\n",
       "      <td>Emergency Department</td>\n",
       "      <td>2154-12-10 02:04:00</td>\n",
       "      <td>2154-12-17 16:59:00</td>\n",
       "      <td>Emergency Department</td>\n",
       "      <td>0.366667</td>\n",
       "    </tr>\n",
       "    <tr>\n",
       "      <th>30</th>\n",
       "      <td>10000117</td>\n",
       "      <td>&lt;NA&gt;</td>\n",
       "      <td>30632130</td>\n",
       "      <td>ED</td>\n",
       "      <td>Emergency Department</td>\n",
       "      <td>2181-11-15 08:15:53</td>\n",
       "      <td>2183-07-17 11:31:00</td>\n",
       "      <td>Emergency Department</td>\n",
       "      <td>1.016667</td>\n",
       "    </tr>\n",
       "    <tr>\n",
       "      <th>...</th>\n",
       "      <td>...</td>\n",
       "      <td>...</td>\n",
       "      <td>...</td>\n",
       "      <td>...</td>\n",
       "      <td>...</td>\n",
       "      <td>...</td>\n",
       "      <td>...</td>\n",
       "      <td>...</td>\n",
       "      <td>...</td>\n",
       "    </tr>\n",
       "    <tr>\n",
       "      <th>1537313</th>\n",
       "      <td>19999733</td>\n",
       "      <td>27674281</td>\n",
       "      <td>39344756</td>\n",
       "      <td>admit</td>\n",
       "      <td>Emergency Department Observation</td>\n",
       "      <td>2152-07-08 20:15:00</td>\n",
       "      <td>2152-07-09 03:51:59</td>\n",
       "      <td>Discharge</td>\n",
       "      <td>0.116389</td>\n",
       "    </tr>\n",
       "    <tr>\n",
       "      <th>1537317</th>\n",
       "      <td>19999784</td>\n",
       "      <td>26194817</td>\n",
       "      <td>30153747</td>\n",
       "      <td>admit</td>\n",
       "      <td>Neurology</td>\n",
       "      <td>2119-06-18 14:21:00</td>\n",
       "      <td>2119-06-18 21:48:57</td>\n",
       "      <td>Discharge Lounge</td>\n",
       "      <td>0.657778</td>\n",
       "    </tr>\n",
       "    <tr>\n",
       "      <th>1537318</th>\n",
       "      <td>19999784</td>\n",
       "      <td>26194817</td>\n",
       "      <td>37769396</td>\n",
       "      <td>transfer</td>\n",
       "      <td>Discharge Lounge</td>\n",
       "      <td>2119-06-18 21:09:29</td>\n",
       "      <td>2119-06-19 00:08:37</td>\n",
       "      <td>PACU</td>\n",
       "      <td>2.327778</td>\n",
       "    </tr>\n",
       "    <tr>\n",
       "      <th>1537319</th>\n",
       "      <td>19999784</td>\n",
       "      <td>26194817</td>\n",
       "      <td>37290592</td>\n",
       "      <td>transfer</td>\n",
       "      <td>PACU</td>\n",
       "      <td>2119-06-18 21:48:57</td>\n",
       "      <td>2119-06-19 00:25:10</td>\n",
       "      <td>Discharge Lounge</td>\n",
       "      <td>0.275833</td>\n",
       "    </tr>\n",
       "    <tr>\n",
       "      <th>1537329</th>\n",
       "      <td>19999784</td>\n",
       "      <td>23664472</td>\n",
       "      <td>39821910</td>\n",
       "      <td>transfer</td>\n",
       "      <td>Hematology/Oncology Intermediate</td>\n",
       "      <td>2119-07-25 17:33:10</td>\n",
       "      <td>2119-07-30 16:21:20</td>\n",
       "      <td>Hematology/Oncology Intermediate</td>\n",
       "      <td>0.229167</td>\n",
       "    </tr>\n",
       "  </tbody>\n",
       "</table>\n",
       "<p>259125 rows × 9 columns</p>\n",
       "</div>"
      ],
      "text/plain": [
       "         subject_id   hadm_id  transfer_id eventtype  \\\n",
       "13         10000068  25022803     31904173     admit   \n",
       "17         10000084  29888819     39560622     admit   \n",
       "22         10000108  27250926     39507710     admit   \n",
       "24         10000115      <NA>     30295111        ED   \n",
       "30         10000117      <NA>     30632130        ED   \n",
       "...             ...       ...          ...       ...   \n",
       "1537313    19999733  27674281     39344756     admit   \n",
       "1537317    19999784  26194817     30153747     admit   \n",
       "1537318    19999784  26194817     37769396  transfer   \n",
       "1537319    19999784  26194817     37290592  transfer   \n",
       "1537329    19999784  23664472     39821910  transfer   \n",
       "\n",
       "                                 careunit              intime  \\\n",
       "13       Emergency Department Observation 2160-03-03 21:55:00   \n",
       "17       Emergency Department Observation 2160-12-27 18:32:00   \n",
       "22       Emergency Department Observation 2163-09-27 16:18:00   \n",
       "24                   Emergency Department 2154-12-10 02:04:00   \n",
       "30                   Emergency Department 2181-11-15 08:15:53   \n",
       "...                                   ...                 ...   \n",
       "1537313  Emergency Department Observation 2152-07-08 20:15:00   \n",
       "1537317                         Neurology 2119-06-18 14:21:00   \n",
       "1537318                  Discharge Lounge 2119-06-18 21:09:29   \n",
       "1537319                              PACU 2119-06-18 21:48:57   \n",
       "1537329  Hematology/Oncology Intermediate 2119-07-25 17:33:10   \n",
       "\n",
       "                    outtime                             event  duration  \n",
       "13      2160-03-04 07:33:47                         Discharge  1.129722  \n",
       "17      2160-12-28 16:10:39                         Discharge  0.060833  \n",
       "22      2163-09-28 09:04:56                         Discharge  0.015556  \n",
       "24      2154-12-17 16:59:00              Emergency Department  0.366667  \n",
       "30      2183-07-17 11:31:00              Emergency Department  1.016667  \n",
       "...                     ...                               ...       ...  \n",
       "1537313 2152-07-09 03:51:59                         Discharge  0.116389  \n",
       "1537317 2119-06-18 21:48:57                  Discharge Lounge  0.657778  \n",
       "1537318 2119-06-19 00:08:37                              PACU  2.327778  \n",
       "1537319 2119-06-19 00:25:10                  Discharge Lounge  0.275833  \n",
       "1537329 2119-07-30 16:21:20  Hematology/Oncology Intermediate  0.229167  \n",
       "\n",
       "[259125 rows x 9 columns]"
      ]
     },
     "execution_count": 255,
     "metadata": {},
     "output_type": "execute_result"
    }
   ],
   "source": [
    "transfers.loc[short_transfers]"
   ]
  },
  {
   "cell_type": "code",
   "execution_count": 256,
   "id": "a72c5c6e",
   "metadata": {
    "ExecuteTime": {
     "end_time": "2022-10-31T00:35:32.932064Z",
     "start_time": "2022-10-31T00:35:32.887781Z"
    }
   },
   "outputs": [
    {
     "data": {
      "text/html": [
       "<div>\n",
       "<style scoped>\n",
       "    .dataframe tbody tr th:only-of-type {\n",
       "        vertical-align: middle;\n",
       "    }\n",
       "\n",
       "    .dataframe tbody tr th {\n",
       "        vertical-align: top;\n",
       "    }\n",
       "\n",
       "    .dataframe thead th {\n",
       "        text-align: right;\n",
       "    }\n",
       "</style>\n",
       "<table border=\"1\" class=\"dataframe\">\n",
       "  <thead>\n",
       "    <tr style=\"text-align: right;\">\n",
       "      <th></th>\n",
       "      <th>subject_id</th>\n",
       "      <th>hadm_id</th>\n",
       "      <th>transfer_id</th>\n",
       "      <th>eventtype</th>\n",
       "      <th>careunit</th>\n",
       "      <th>intime</th>\n",
       "      <th>outtime</th>\n",
       "      <th>event</th>\n",
       "      <th>duration</th>\n",
       "    </tr>\n",
       "  </thead>\n",
       "  <tbody>\n",
       "    <tr>\n",
       "      <th>12</th>\n",
       "      <td>10000068</td>\n",
       "      <td>25022803</td>\n",
       "      <td>31790798</td>\n",
       "      <td>ED</td>\n",
       "      <td>Emergency Department</td>\n",
       "      <td>2160-03-03 21:55:00</td>\n",
       "      <td>2160-03-04 06:26:00</td>\n",
       "      <td>Emergency Department Observation</td>\n",
       "      <td>8.516667</td>\n",
       "    </tr>\n",
       "    <tr>\n",
       "      <th>13</th>\n",
       "      <td>10000068</td>\n",
       "      <td>25022803</td>\n",
       "      <td>31904173</td>\n",
       "      <td>admit</td>\n",
       "      <td>Emergency Department Observation</td>\n",
       "      <td>2160-03-03 21:55:00</td>\n",
       "      <td>2160-03-04 07:33:47</td>\n",
       "      <td>Discharge</td>\n",
       "      <td>1.129722</td>\n",
       "    </tr>\n",
       "    <tr>\n",
       "      <th>16</th>\n",
       "      <td>10000084</td>\n",
       "      <td>29888819</td>\n",
       "      <td>36954971</td>\n",
       "      <td>ED</td>\n",
       "      <td>Emergency Department</td>\n",
       "      <td>2160-12-27 18:32:00</td>\n",
       "      <td>2160-12-28 16:07:00</td>\n",
       "      <td>Emergency Department Observation</td>\n",
       "      <td>21.583333</td>\n",
       "    </tr>\n",
       "    <tr>\n",
       "      <th>17</th>\n",
       "      <td>10000084</td>\n",
       "      <td>29888819</td>\n",
       "      <td>39560622</td>\n",
       "      <td>admit</td>\n",
       "      <td>Emergency Department Observation</td>\n",
       "      <td>2160-12-27 18:32:00</td>\n",
       "      <td>2160-12-28 16:10:39</td>\n",
       "      <td>Discharge</td>\n",
       "      <td>0.060833</td>\n",
       "    </tr>\n",
       "    <tr>\n",
       "      <th>21</th>\n",
       "      <td>10000108</td>\n",
       "      <td>27250926</td>\n",
       "      <td>36533795</td>\n",
       "      <td>ED</td>\n",
       "      <td>Emergency Department</td>\n",
       "      <td>2163-09-27 16:18:00</td>\n",
       "      <td>2163-09-28 09:04:00</td>\n",
       "      <td>Emergency Department Observation</td>\n",
       "      <td>16.766667</td>\n",
       "    </tr>\n",
       "    <tr>\n",
       "      <th>...</th>\n",
       "      <td>...</td>\n",
       "      <td>...</td>\n",
       "      <td>...</td>\n",
       "      <td>...</td>\n",
       "      <td>...</td>\n",
       "      <td>...</td>\n",
       "      <td>...</td>\n",
       "      <td>...</td>\n",
       "      <td>...</td>\n",
       "    </tr>\n",
       "    <tr>\n",
       "      <th>1537317</th>\n",
       "      <td>19999784</td>\n",
       "      <td>26194817</td>\n",
       "      <td>30153747</td>\n",
       "      <td>admit</td>\n",
       "      <td>Neurology</td>\n",
       "      <td>2119-06-18 14:21:00</td>\n",
       "      <td>2119-06-18 21:48:57</td>\n",
       "      <td>Discharge Lounge</td>\n",
       "      <td>0.657778</td>\n",
       "    </tr>\n",
       "    <tr>\n",
       "      <th>1537318</th>\n",
       "      <td>19999784</td>\n",
       "      <td>26194817</td>\n",
       "      <td>37769396</td>\n",
       "      <td>transfer</td>\n",
       "      <td>Discharge Lounge</td>\n",
       "      <td>2119-06-18 21:09:29</td>\n",
       "      <td>2119-06-19 00:08:37</td>\n",
       "      <td>PACU</td>\n",
       "      <td>2.327778</td>\n",
       "    </tr>\n",
       "    <tr>\n",
       "      <th>1537319</th>\n",
       "      <td>19999784</td>\n",
       "      <td>26194817</td>\n",
       "      <td>37290592</td>\n",
       "      <td>transfer</td>\n",
       "      <td>PACU</td>\n",
       "      <td>2119-06-18 21:48:57</td>\n",
       "      <td>2119-06-19 00:25:10</td>\n",
       "      <td>Discharge Lounge</td>\n",
       "      <td>0.275833</td>\n",
       "    </tr>\n",
       "    <tr>\n",
       "      <th>1537328</th>\n",
       "      <td>19999784</td>\n",
       "      <td>23664472</td>\n",
       "      <td>32607240</td>\n",
       "      <td>transfer</td>\n",
       "      <td>Surgery/Trauma</td>\n",
       "      <td>2119-07-25 17:33:10</td>\n",
       "      <td>2119-07-30 16:07:35</td>\n",
       "      <td>Hematology/Oncology Intermediate</td>\n",
       "      <td>118.573611</td>\n",
       "    </tr>\n",
       "    <tr>\n",
       "      <th>1537329</th>\n",
       "      <td>19999784</td>\n",
       "      <td>23664472</td>\n",
       "      <td>39821910</td>\n",
       "      <td>transfer</td>\n",
       "      <td>Hematology/Oncology Intermediate</td>\n",
       "      <td>2119-07-25 17:33:10</td>\n",
       "      <td>2119-07-30 16:21:20</td>\n",
       "      <td>Hematology/Oncology Intermediate</td>\n",
       "      <td>0.229167</td>\n",
       "    </tr>\n",
       "  </tbody>\n",
       "</table>\n",
       "<p>458509 rows × 9 columns</p>\n",
       "</div>"
      ],
      "text/plain": [
       "         subject_id   hadm_id  transfer_id eventtype  \\\n",
       "12         10000068  25022803     31790798        ED   \n",
       "13         10000068  25022803     31904173     admit   \n",
       "16         10000084  29888819     36954971        ED   \n",
       "17         10000084  29888819     39560622     admit   \n",
       "21         10000108  27250926     36533795        ED   \n",
       "...             ...       ...          ...       ...   \n",
       "1537317    19999784  26194817     30153747     admit   \n",
       "1537318    19999784  26194817     37769396  transfer   \n",
       "1537319    19999784  26194817     37290592  transfer   \n",
       "1537328    19999784  23664472     32607240  transfer   \n",
       "1537329    19999784  23664472     39821910  transfer   \n",
       "\n",
       "                                 careunit              intime  \\\n",
       "12                   Emergency Department 2160-03-03 21:55:00   \n",
       "13       Emergency Department Observation 2160-03-03 21:55:00   \n",
       "16                   Emergency Department 2160-12-27 18:32:00   \n",
       "17       Emergency Department Observation 2160-12-27 18:32:00   \n",
       "21                   Emergency Department 2163-09-27 16:18:00   \n",
       "...                                   ...                 ...   \n",
       "1537317                         Neurology 2119-06-18 14:21:00   \n",
       "1537318                  Discharge Lounge 2119-06-18 21:09:29   \n",
       "1537319                              PACU 2119-06-18 21:48:57   \n",
       "1537328                    Surgery/Trauma 2119-07-25 17:33:10   \n",
       "1537329  Hematology/Oncology Intermediate 2119-07-25 17:33:10   \n",
       "\n",
       "                    outtime                             event    duration  \n",
       "12      2160-03-04 06:26:00  Emergency Department Observation    8.516667  \n",
       "13      2160-03-04 07:33:47                         Discharge    1.129722  \n",
       "16      2160-12-28 16:07:00  Emergency Department Observation   21.583333  \n",
       "17      2160-12-28 16:10:39                         Discharge    0.060833  \n",
       "21      2163-09-28 09:04:00  Emergency Department Observation   16.766667  \n",
       "...                     ...                               ...         ...  \n",
       "1537317 2119-06-18 21:48:57                  Discharge Lounge    0.657778  \n",
       "1537318 2119-06-19 00:08:37                              PACU    2.327778  \n",
       "1537319 2119-06-19 00:25:10                  Discharge Lounge    0.275833  \n",
       "1537328 2119-07-30 16:07:35  Hematology/Oncology Intermediate  118.573611  \n",
       "1537329 2119-07-30 16:21:20  Hematology/Oncology Intermediate    0.229167  \n",
       "\n",
       "[458509 rows x 9 columns]"
      ]
     },
     "execution_count": 256,
     "metadata": {},
     "output_type": "execute_result"
    }
   ],
   "source": [
    "transfers[short_transfers + np.roll(short_transfers,-1)]"
   ]
  },
  {
   "cell_type": "code",
   "execution_count": 257,
   "id": "27b9b2bb",
   "metadata": {
    "ExecuteTime": {
     "end_time": "2022-10-31T00:35:33.414858Z",
     "start_time": "2022-10-31T00:35:32.940782Z"
    }
   },
   "outputs": [
    {
     "ename": "ValueError",
     "evalue": "could not broadcast input array from shape (8212,) into shape (32305,)",
     "output_type": "error",
     "traceback": [
      "\u001b[1;31m---------------------------------------------------------------------------\u001b[0m",
      "\u001b[1;31mValueError\u001b[0m                                Traceback (most recent call last)",
      "Input \u001b[1;32mIn [257]\u001b[0m, in \u001b[0;36m<cell line: 4>\u001b[1;34m()\u001b[0m\n\u001b[0;32m      1\u001b[0m shorter_inds \u001b[38;5;241m=\u001b[39m transfers[short_transfers][shorter_transfers]\u001b[38;5;241m.\u001b[39mindex\n\u001b[0;32m      2\u001b[0m longer_inds \u001b[38;5;241m=\u001b[39m transfers[np\u001b[38;5;241m.\u001b[39mroll(short_transfers,\u001b[38;5;241m-\u001b[39m\u001b[38;5;241m1\u001b[39m)][shorter_transfers]\u001b[38;5;241m.\u001b[39mindex\n\u001b[1;32m----> 4\u001b[0m transfers\u001b[38;5;241m.\u001b[39mloc[shorter_inds,[\u001b[38;5;124m'\u001b[39m\u001b[38;5;124mcareunit\u001b[39m\u001b[38;5;124m'\u001b[39m,\u001b[38;5;124m'\u001b[39m\u001b[38;5;124mintime\u001b[39m\u001b[38;5;124m'\u001b[39m]] \u001b[38;5;241m=\u001b[39m transfers\u001b[38;5;241m.\u001b[39mloc[longer_inds,[\u001b[38;5;124m'\u001b[39m\u001b[38;5;124mcareunit\u001b[39m\u001b[38;5;124m'\u001b[39m,\u001b[38;5;124m'\u001b[39m\u001b[38;5;124mintime\u001b[39m\u001b[38;5;124m'\u001b[39m]]\u001b[38;5;241m.\u001b[39mvalues\n",
      "File \u001b[1;32m~\\miniconda3\\envs\\cap_nacho\\lib\\site-packages\\pandas\\core\\indexing.py:716\u001b[0m, in \u001b[0;36m_LocationIndexer.__setitem__\u001b[1;34m(self, key, value)\u001b[0m\n\u001b[0;32m    713\u001b[0m \u001b[38;5;28mself\u001b[39m\u001b[38;5;241m.\u001b[39m_has_valid_setitem_indexer(key)\n\u001b[0;32m    715\u001b[0m iloc \u001b[38;5;241m=\u001b[39m \u001b[38;5;28mself\u001b[39m \u001b[38;5;28;01mif\u001b[39;00m \u001b[38;5;28mself\u001b[39m\u001b[38;5;241m.\u001b[39mname \u001b[38;5;241m==\u001b[39m \u001b[38;5;124m\"\u001b[39m\u001b[38;5;124miloc\u001b[39m\u001b[38;5;124m\"\u001b[39m \u001b[38;5;28;01melse\u001b[39;00m \u001b[38;5;28mself\u001b[39m\u001b[38;5;241m.\u001b[39mobj\u001b[38;5;241m.\u001b[39miloc\n\u001b[1;32m--> 716\u001b[0m \u001b[43miloc\u001b[49m\u001b[38;5;241;43m.\u001b[39;49m\u001b[43m_setitem_with_indexer\u001b[49m\u001b[43m(\u001b[49m\u001b[43mindexer\u001b[49m\u001b[43m,\u001b[49m\u001b[43m \u001b[49m\u001b[43mvalue\u001b[49m\u001b[43m,\u001b[49m\u001b[43m \u001b[49m\u001b[38;5;28;43mself\u001b[39;49m\u001b[38;5;241;43m.\u001b[39;49m\u001b[43mname\u001b[49m\u001b[43m)\u001b[49m\n",
      "File \u001b[1;32m~\\miniconda3\\envs\\cap_nacho\\lib\\site-packages\\pandas\\core\\indexing.py:1691\u001b[0m, in \u001b[0;36m_iLocIndexer._setitem_with_indexer\u001b[1;34m(self, indexer, value, name)\u001b[0m\n\u001b[0;32m   1688\u001b[0m \u001b[38;5;66;03m# align and set the values\u001b[39;00m\n\u001b[0;32m   1689\u001b[0m \u001b[38;5;28;01mif\u001b[39;00m take_split_path:\n\u001b[0;32m   1690\u001b[0m     \u001b[38;5;66;03m# We have to operate column-wise\u001b[39;00m\n\u001b[1;32m-> 1691\u001b[0m     \u001b[38;5;28;43mself\u001b[39;49m\u001b[38;5;241;43m.\u001b[39;49m\u001b[43m_setitem_with_indexer_split_path\u001b[49m\u001b[43m(\u001b[49m\u001b[43mindexer\u001b[49m\u001b[43m,\u001b[49m\u001b[43m \u001b[49m\u001b[43mvalue\u001b[49m\u001b[43m,\u001b[49m\u001b[43m \u001b[49m\u001b[43mname\u001b[49m\u001b[43m)\u001b[49m\n\u001b[0;32m   1692\u001b[0m \u001b[38;5;28;01melse\u001b[39;00m:\n\u001b[0;32m   1693\u001b[0m     \u001b[38;5;28mself\u001b[39m\u001b[38;5;241m.\u001b[39m_setitem_single_block(indexer, value, name)\n",
      "File \u001b[1;32m~\\miniconda3\\envs\\cap_nacho\\lib\\site-packages\\pandas\\core\\indexing.py:1730\u001b[0m, in \u001b[0;36m_iLocIndexer._setitem_with_indexer_split_path\u001b[1;34m(self, indexer, value, name)\u001b[0m\n\u001b[0;32m   1727\u001b[0m     \u001b[38;5;28mself\u001b[39m\u001b[38;5;241m.\u001b[39m_setitem_with_indexer_frame_value(indexer, value, name)\n\u001b[0;32m   1729\u001b[0m \u001b[38;5;28;01melif\u001b[39;00m np\u001b[38;5;241m.\u001b[39mndim(value) \u001b[38;5;241m==\u001b[39m \u001b[38;5;241m2\u001b[39m:\n\u001b[1;32m-> 1730\u001b[0m     \u001b[38;5;28;43mself\u001b[39;49m\u001b[38;5;241;43m.\u001b[39;49m\u001b[43m_setitem_with_indexer_2d_value\u001b[49m\u001b[43m(\u001b[49m\u001b[43mindexer\u001b[49m\u001b[43m,\u001b[49m\u001b[43m \u001b[49m\u001b[43mvalue\u001b[49m\u001b[43m)\u001b[49m\n\u001b[0;32m   1732\u001b[0m \u001b[38;5;28;01melif\u001b[39;00m \u001b[38;5;28mlen\u001b[39m(ilocs) \u001b[38;5;241m==\u001b[39m \u001b[38;5;241m1\u001b[39m \u001b[38;5;129;01mand\u001b[39;00m lplane_indexer \u001b[38;5;241m==\u001b[39m \u001b[38;5;28mlen\u001b[39m(value) \u001b[38;5;129;01mand\u001b[39;00m \u001b[38;5;129;01mnot\u001b[39;00m is_scalar(pi):\n\u001b[0;32m   1733\u001b[0m     \u001b[38;5;66;03m# We are setting multiple rows in a single column.\u001b[39;00m\n\u001b[0;32m   1734\u001b[0m     \u001b[38;5;28mself\u001b[39m\u001b[38;5;241m.\u001b[39m_setitem_single_column(ilocs[\u001b[38;5;241m0\u001b[39m], value, pi)\n",
      "File \u001b[1;32m~\\miniconda3\\envs\\cap_nacho\\lib\\site-packages\\pandas\\core\\indexing.py:1802\u001b[0m, in \u001b[0;36m_iLocIndexer._setitem_with_indexer_2d_value\u001b[1;34m(self, indexer, value)\u001b[0m\n\u001b[0;32m   1796\u001b[0m     \u001b[38;5;28;01mraise\u001b[39;00m \u001b[38;5;167;01mValueError\u001b[39;00m(\n\u001b[0;32m   1797\u001b[0m         \u001b[38;5;124m\"\u001b[39m\u001b[38;5;124mMust have equal len keys and value when setting with an ndarray\u001b[39m\u001b[38;5;124m\"\u001b[39m\n\u001b[0;32m   1798\u001b[0m     )\n\u001b[0;32m   1800\u001b[0m \u001b[38;5;28;01mfor\u001b[39;00m i, loc \u001b[38;5;129;01min\u001b[39;00m \u001b[38;5;28menumerate\u001b[39m(ilocs):\n\u001b[0;32m   1801\u001b[0m     \u001b[38;5;66;03m# setting with a list, re-coerces\u001b[39;00m\n\u001b[1;32m-> 1802\u001b[0m     \u001b[38;5;28;43mself\u001b[39;49m\u001b[38;5;241;43m.\u001b[39;49m\u001b[43m_setitem_single_column\u001b[49m\u001b[43m(\u001b[49m\u001b[43mloc\u001b[49m\u001b[43m,\u001b[49m\u001b[43m \u001b[49m\u001b[43mvalue\u001b[49m\u001b[43m[\u001b[49m\u001b[43m:\u001b[49m\u001b[43m,\u001b[49m\u001b[43m \u001b[49m\u001b[43mi\u001b[49m\u001b[43m]\u001b[49m\u001b[38;5;241;43m.\u001b[39;49m\u001b[43mtolist\u001b[49m\u001b[43m(\u001b[49m\u001b[43m)\u001b[49m\u001b[43m,\u001b[49m\u001b[43m \u001b[49m\u001b[43mpi\u001b[49m\u001b[43m)\u001b[49m\n",
      "File \u001b[1;32m~\\miniconda3\\envs\\cap_nacho\\lib\\site-packages\\pandas\\core\\indexing.py:1890\u001b[0m, in \u001b[0;36m_iLocIndexer._setitem_single_column\u001b[1;34m(self, loc, value, plane_indexer)\u001b[0m\n\u001b[0;32m   1884\u001b[0m \u001b[38;5;28;01melse\u001b[39;00m:\n\u001b[0;32m   1885\u001b[0m     \u001b[38;5;66;03m# set the item, first attempting to operate inplace, then\u001b[39;00m\n\u001b[0;32m   1886\u001b[0m     \u001b[38;5;66;03m#  falling back to casting if necessary; see\u001b[39;00m\n\u001b[0;32m   1887\u001b[0m     \u001b[38;5;66;03m#  _whatsnew_130.notable_bug_fixes.setitem_column_try_inplace\u001b[39;00m\n\u001b[0;32m   1889\u001b[0m     orig_values \u001b[38;5;241m=\u001b[39m ser\u001b[38;5;241m.\u001b[39m_values\n\u001b[1;32m-> 1890\u001b[0m     ser\u001b[38;5;241m.\u001b[39m_mgr \u001b[38;5;241m=\u001b[39m \u001b[43mser\u001b[49m\u001b[38;5;241;43m.\u001b[39;49m\u001b[43m_mgr\u001b[49m\u001b[38;5;241;43m.\u001b[39;49m\u001b[43msetitem\u001b[49m\u001b[43m(\u001b[49m\u001b[43m(\u001b[49m\u001b[43mpi\u001b[49m\u001b[43m,\u001b[49m\u001b[43m)\u001b[49m\u001b[43m,\u001b[49m\u001b[43m \u001b[49m\u001b[43mvalue\u001b[49m\u001b[43m)\u001b[49m\n\u001b[0;32m   1892\u001b[0m     \u001b[38;5;28;01mif\u001b[39;00m ser\u001b[38;5;241m.\u001b[39m_values \u001b[38;5;129;01mis\u001b[39;00m orig_values:\n\u001b[0;32m   1893\u001b[0m         \u001b[38;5;66;03m# The setitem happened inplace, so the DataFrame's values\u001b[39;00m\n\u001b[0;32m   1894\u001b[0m         \u001b[38;5;66;03m#  were modified inplace.\u001b[39;00m\n\u001b[0;32m   1895\u001b[0m         \u001b[38;5;28;01mreturn\u001b[39;00m\n",
      "File \u001b[1;32m~\\miniconda3\\envs\\cap_nacho\\lib\\site-packages\\pandas\\core\\internals\\managers.py:337\u001b[0m, in \u001b[0;36mBaseBlockManager.setitem\u001b[1;34m(self, indexer, value)\u001b[0m\n\u001b[0;32m    331\u001b[0m \u001b[38;5;28;01mdef\u001b[39;00m \u001b[38;5;21msetitem\u001b[39m(\u001b[38;5;28mself\u001b[39m: T, indexer, value) \u001b[38;5;241m-\u001b[39m\u001b[38;5;241m>\u001b[39m T:\n\u001b[0;32m    332\u001b[0m     \u001b[38;5;124;03m\"\"\"\u001b[39;00m\n\u001b[0;32m    333\u001b[0m \u001b[38;5;124;03m    Set values with indexer.\u001b[39;00m\n\u001b[0;32m    334\u001b[0m \n\u001b[0;32m    335\u001b[0m \u001b[38;5;124;03m    For SingleBlockManager, this backs s[indexer] = value\u001b[39;00m\n\u001b[0;32m    336\u001b[0m \u001b[38;5;124;03m    \"\"\"\u001b[39;00m\n\u001b[1;32m--> 337\u001b[0m     \u001b[38;5;28;01mreturn\u001b[39;00m \u001b[38;5;28;43mself\u001b[39;49m\u001b[38;5;241;43m.\u001b[39;49m\u001b[43mapply\u001b[49m\u001b[43m(\u001b[49m\u001b[38;5;124;43m\"\u001b[39;49m\u001b[38;5;124;43msetitem\u001b[39;49m\u001b[38;5;124;43m\"\u001b[39;49m\u001b[43m,\u001b[49m\u001b[43m \u001b[49m\u001b[43mindexer\u001b[49m\u001b[38;5;241;43m=\u001b[39;49m\u001b[43mindexer\u001b[49m\u001b[43m,\u001b[49m\u001b[43m \u001b[49m\u001b[43mvalue\u001b[49m\u001b[38;5;241;43m=\u001b[39;49m\u001b[43mvalue\u001b[49m\u001b[43m)\u001b[49m\n",
      "File \u001b[1;32m~\\miniconda3\\envs\\cap_nacho\\lib\\site-packages\\pandas\\core\\internals\\managers.py:304\u001b[0m, in \u001b[0;36mBaseBlockManager.apply\u001b[1;34m(self, f, align_keys, ignore_failures, **kwargs)\u001b[0m\n\u001b[0;32m    302\u001b[0m         applied \u001b[38;5;241m=\u001b[39m b\u001b[38;5;241m.\u001b[39mapply(f, \u001b[38;5;241m*\u001b[39m\u001b[38;5;241m*\u001b[39mkwargs)\n\u001b[0;32m    303\u001b[0m     \u001b[38;5;28;01melse\u001b[39;00m:\n\u001b[1;32m--> 304\u001b[0m         applied \u001b[38;5;241m=\u001b[39m \u001b[38;5;28mgetattr\u001b[39m(b, f)(\u001b[38;5;241m*\u001b[39m\u001b[38;5;241m*\u001b[39mkwargs)\n\u001b[0;32m    305\u001b[0m \u001b[38;5;28;01mexcept\u001b[39;00m (\u001b[38;5;167;01mTypeError\u001b[39;00m, \u001b[38;5;167;01mNotImplementedError\u001b[39;00m):\n\u001b[0;32m    306\u001b[0m     \u001b[38;5;28;01mif\u001b[39;00m \u001b[38;5;129;01mnot\u001b[39;00m ignore_failures:\n",
      "File \u001b[1;32m~\\miniconda3\\envs\\cap_nacho\\lib\\site-packages\\pandas\\core\\internals\\blocks.py:959\u001b[0m, in \u001b[0;36mBlock.setitem\u001b[1;34m(self, indexer, value)\u001b[0m\n\u001b[0;32m    957\u001b[0m \u001b[38;5;28;01melse\u001b[39;00m:\n\u001b[0;32m    958\u001b[0m     value \u001b[38;5;241m=\u001b[39m setitem_datetimelike_compat(values, \u001b[38;5;28mlen\u001b[39m(values[indexer]), value)\n\u001b[1;32m--> 959\u001b[0m     values[indexer] \u001b[38;5;241m=\u001b[39m value\n\u001b[0;32m    961\u001b[0m \u001b[38;5;28;01mreturn\u001b[39;00m \u001b[38;5;28mself\u001b[39m\n",
      "\u001b[1;31mValueError\u001b[0m: could not broadcast input array from shape (8212,) into shape (32305,)"
     ]
    }
   ],
   "source": [
    "shorter_inds = transfers[short_transfers][shorter_transfers].index\n",
    "longer_inds = transfers[np.roll(short_transfers,-1)][shorter_transfers].index\n",
    "\n",
    "transfers.loc[shorter_inds,['careunit','intime']] = transfers.loc[longer_inds,['careunit','intime']].values"
   ]
  },
  {
   "cell_type": "code",
   "execution_count": null,
   "id": "27d7e63e",
   "metadata": {
    "ExecuteTime": {
     "end_time": "2022-10-31T00:35:33.416857Z",
     "start_time": "2022-10-31T00:35:33.416857Z"
    }
   },
   "outputs": [],
   "source": [
    "transfers.loc[shorter_inds & longer_inds]"
   ]
  },
  {
   "cell_type": "markdown",
   "id": "53d1f7b6",
   "metadata": {},
   "source": [
    "Now we can drop any duplicate rows with the same subject_id, careunit, intime and outtime, recalculate duration and repeat this step"
   ]
  },
  {
   "cell_type": "code",
   "execution_count": null,
   "id": "6b22e584",
   "metadata": {
    "ExecuteTime": {
     "end_time": "2022-10-31T00:35:33.418857Z",
     "start_time": "2022-10-31T00:35:33.418857Z"
    }
   },
   "outputs": [],
   "source": [
    "transfers.drop_duplicates(subset = ['subject_id','careunit','intime'],keep = 'last',inplace = True)\n",
    "transfers.sort_values(by = ['subject_id','intime'],inplace = True)\n",
    "transfers.reset_index(drop = True, inplace = True)\n",
    "transfers['duration'] = (transfers.outtime - transfers.intime)/np.timedelta64(1,'h')\n",
    "\n",
    "# Recalculating booleans\n",
    "short_transfers = (transfers['duration'] < 3).values\n",
    "short_transfers *= (transfers.subject_id.shift() == transfers.subject_id).values\n",
    "shorter_transfers = transfers.duration[short_transfers].values < transfers.duration[np.roll(short_transfers,-1)].values\n",
    "shorter_inds = transfers[short_transfers][shorter_transfers].index\n",
    "longer_inds = transfers[np.roll(short_transfers,-1)][shorter_transfers].index"
   ]
  },
  {
   "cell_type": "code",
   "execution_count": null,
   "id": "fab64eb5",
   "metadata": {
    "ExecuteTime": {
     "end_time": "2022-10-31T00:35:33.419857Z",
     "start_time": "2022-10-31T00:35:33.419857Z"
    }
   },
   "outputs": [],
   "source": [
    "sum(transfers.duplicated(subset = ['subject_id','careunit','intime']))"
   ]
  },
  {
   "cell_type": "code",
   "execution_count": null,
   "id": "ac18ade7",
   "metadata": {
    "ExecuteTime": {
     "end_time": "2022-10-31T00:35:33.421858Z",
     "start_time": "2022-10-31T00:35:33.421858Z"
    }
   },
   "outputs": [],
   "source": [
    "transfers2[transfers2.subject_id == 10000935]"
   ]
  },
  {
   "cell_type": "code",
   "execution_count": null,
   "id": "7b9ea265",
   "metadata": {
    "ExecuteTime": {
     "end_time": "2022-10-31T00:35:33.422857Z",
     "start_time": "2022-10-31T00:35:33.422857Z"
    }
   },
   "outputs": [],
   "source": [
    "transfers[short_transfers + np.roll(short_transfers,-1)]"
   ]
  },
  {
   "cell_type": "code",
   "execution_count": null,
   "id": "b96f8ffd",
   "metadata": {
    "ExecuteTime": {
     "end_time": "2022-10-31T00:35:33.423858Z",
     "start_time": "2022-10-31T00:35:33.423858Z"
    }
   },
   "outputs": [],
   "source": [
    "transfers[short_transfers][~shorter_transfers]"
   ]
  },
  {
   "cell_type": "code",
   "execution_count": null,
   "id": "92249c38",
   "metadata": {
    "ExecuteTime": {
     "end_time": "2022-10-31T00:35:33.425857Z",
     "start_time": "2022-10-31T00:35:33.425857Z"
    }
   },
   "outputs": [],
   "source": [
    "sum(short_transfers)"
   ]
  },
  {
   "cell_type": "code",
   "execution_count": null,
   "id": "83d91fb4",
   "metadata": {
    "ExecuteTime": {
     "end_time": "2022-10-31T00:35:33.426858Z",
     "start_time": "2022-10-31T00:35:33.426858Z"
    }
   },
   "outputs": [],
   "source": [
    "print('Does any of these rows have a shorter duration than the preceding row?',\\\n",
    "      transfers.duration[np.roll(short_transfers,-1)].values < transfers.duration[short_transfers].values)"
   ]
  },
  {
   "cell_type": "code",
   "execution_count": null,
   "id": "e92e067a",
   "metadata": {
    "ExecuteTime": {
     "end_time": "2022-10-31T00:35:33.427857Z",
     "start_time": "2022-10-31T00:35:33.427857Z"
    }
   },
   "outputs": [],
   "source": [
    "transfers.loc[short_transfers + np.roll(short_transfers,-1)] "
   ]
  },
  {
   "cell_type": "code",
   "execution_count": null,
   "id": "1d99026b",
   "metadata": {
    "ExecuteTime": {
     "end_time": "2022-10-31T00:35:33.429858Z",
     "start_time": "2022-10-31T00:35:33.429858Z"
    }
   },
   "outputs": [],
   "source": [
    "transfers[short_transfers + np.roll(short_transfers,-1)]\n",
    "tramsfers[short_transfers"
   ]
  },
  {
   "cell_type": "code",
   "execution_count": null,
   "id": "ae85b333",
   "metadata": {
    "ExecuteTime": {
     "end_time": "2022-10-31T00:35:33.430858Z",
     "start_time": "2022-10-31T00:35:33.430858Z"
    },
    "scrolled": true
   },
   "outputs": [],
   "source": [
    "transfers"
   ]
  },
  {
   "cell_type": "code",
   "execution_count": null,
   "id": "d47f6e99",
   "metadata": {
    "ExecuteTime": {
     "end_time": "2022-10-31T00:35:33.431859Z",
     "start_time": "2022-10-31T00:35:33.431859Z"
    }
   },
   "outputs": [],
   "source": [
    "transfers2 = transfers.copy()"
   ]
  },
  {
   "cell_type": "markdown",
   "id": "7751d1c1",
   "metadata": {},
   "source": [
    "So not all the rows here are actually rows that have been split, as sometimes the first row is followed by a row of a different patient. We will have to remove these rows as a transfer to the same careunit does not make much sense"
   ]
  },
  {
   "cell_type": "code",
   "execution_count": null,
   "id": "f099602a",
   "metadata": {
    "ExecuteTime": {
     "end_time": "2022-10-31T00:35:33.432858Z",
     "start_time": "2022-10-31T00:35:33.432858Z"
    }
   },
   "outputs": [],
   "source": [
    "split_rows = transfers[['subject_id','outtime','event']] == transfers[['subject_id','intime','careunit']]\\\n",
    ".shift(-1).rename(columns = {'intime':'outtime','careunit':'event'})\n",
    "split_rows = split_rows.all(axis = 1)\n",
    "split_rows = split_rows & (transfers.event == transfers.careunit)"
   ]
  },
  {
   "cell_type": "code",
   "execution_count": null,
   "id": "40ac7267",
   "metadata": {
    "ExecuteTime": {
     "end_time": "2022-10-31T00:35:33.434858Z",
     "start_time": "2022-10-31T00:35:33.434858Z"
    }
   },
   "outputs": [],
   "source": [
    "transfers[['outtime','event']] = transfers[['outtime','event']].where(~split_rows,transfers[['outtime','event']].shift(-1))\n",
    "\n",
    "non_splits = ~split_rows.shift().fillna(False)\n",
    "transfers = transfers[non_splits]"
   ]
  },
  {
   "cell_type": "markdown",
   "id": "6073fcd0",
   "metadata": {},
   "source": [
    "Let's repeat to make sure that we have taken care of all the split rows (maybe some were split into 3 or more)"
   ]
  },
  {
   "cell_type": "code",
   "execution_count": null,
   "id": "dc972373",
   "metadata": {
    "ExecuteTime": {
     "end_time": "2022-10-31T00:35:33.435858Z",
     "start_time": "2022-10-31T00:35:33.435858Z"
    }
   },
   "outputs": [],
   "source": [
    "split_rows = transfers[['subject_id','outtime','event']] == transfers[['subject_id','intime','careunit']]\\\n",
    ".shift(-1).rename(columns = {'intime':'outtime','careunit':'event'})\n",
    "split_rows = split_rows.all(axis = 1)\n",
    "split_rows = split_rows & (transfers.event == transfers.careunit)\n",
    "print(split_rows.any())"
   ]
  },
  {
   "cell_type": "markdown",
   "id": "e8b4fde2",
   "metadata": {},
   "source": [
    "Now we can check which events and careunits are the same without being continuous transfers"
   ]
  },
  {
   "cell_type": "code",
   "execution_count": null,
   "id": "eee7a82b",
   "metadata": {
    "ExecuteTime": {
     "end_time": "2022-10-31T00:35:33.437858Z",
     "start_time": "2022-10-31T00:35:33.436858Z"
    }
   },
   "outputs": [],
   "source": [
    "non_transfers = transfers.careunit == transfers.event\n",
    "display(transfers[non_transfers])\n",
    "print(transfers[non_transfers].info())\n",
    "print(transfers[non_transfers].describe(include = 'all',datetime_is_numeric=True))\n",
    "print((transfers.outtime[non_transfers]-transfers.intime[non_transfers]).describe())"
   ]
  },
  {
   "cell_type": "markdown",
   "id": "d195bee6",
   "metadata": {},
   "source": [
    "We can use these for prediction of next department, so we will drop these row. They could be useful only if planning to add number or duration of previous transfers, but we are not planning to add these features for now. We will drop these rows."
   ]
  },
  {
   "cell_type": "code",
   "execution_count": 258,
   "id": "1cdc0059",
   "metadata": {
    "ExecuteTime": {
     "end_time": "2022-10-31T00:35:33.602893Z",
     "start_time": "2022-10-31T00:35:33.448859Z"
    }
   },
   "outputs": [
    {
     "ename": "IndexingError",
     "evalue": "Unalignable boolean Series provided as indexer (index of the boolean Series and of the indexed object do not match).",
     "output_type": "error",
     "traceback": [
      "\u001b[1;31m---------------------------------------------------------------------------\u001b[0m",
      "\u001b[1;31mIndexingError\u001b[0m                             Traceback (most recent call last)",
      "Input \u001b[1;32mIn [258]\u001b[0m, in \u001b[0;36m<cell line: 1>\u001b[1;34m()\u001b[0m\n\u001b[1;32m----> 1\u001b[0m transfers \u001b[38;5;241m=\u001b[39m \u001b[43mtransfers\u001b[49m\u001b[43m[\u001b[49m\u001b[38;5;241;43m~\u001b[39;49m\u001b[43mnon_transfers\u001b[49m\u001b[43m]\u001b[49m\n\u001b[0;32m      2\u001b[0m transfers\u001b[38;5;241m.\u001b[39minfo()\n",
      "File \u001b[1;32m~\\miniconda3\\envs\\cap_nacho\\lib\\site-packages\\pandas\\core\\frame.py:3496\u001b[0m, in \u001b[0;36mDataFrame.__getitem__\u001b[1;34m(self, key)\u001b[0m\n\u001b[0;32m   3494\u001b[0m \u001b[38;5;66;03m# Do we have a (boolean) 1d indexer?\u001b[39;00m\n\u001b[0;32m   3495\u001b[0m \u001b[38;5;28;01mif\u001b[39;00m com\u001b[38;5;241m.\u001b[39mis_bool_indexer(key):\n\u001b[1;32m-> 3496\u001b[0m     \u001b[38;5;28;01mreturn\u001b[39;00m \u001b[38;5;28;43mself\u001b[39;49m\u001b[38;5;241;43m.\u001b[39;49m\u001b[43m_getitem_bool_array\u001b[49m\u001b[43m(\u001b[49m\u001b[43mkey\u001b[49m\u001b[43m)\u001b[49m\n\u001b[0;32m   3498\u001b[0m \u001b[38;5;66;03m# We are left with two options: a single key, and a collection of keys,\u001b[39;00m\n\u001b[0;32m   3499\u001b[0m \u001b[38;5;66;03m# We interpret tuples as collections only for non-MultiIndex\u001b[39;00m\n\u001b[0;32m   3500\u001b[0m is_single_key \u001b[38;5;241m=\u001b[39m \u001b[38;5;28misinstance\u001b[39m(key, \u001b[38;5;28mtuple\u001b[39m) \u001b[38;5;129;01mor\u001b[39;00m \u001b[38;5;129;01mnot\u001b[39;00m is_list_like(key)\n",
      "File \u001b[1;32m~\\miniconda3\\envs\\cap_nacho\\lib\\site-packages\\pandas\\core\\frame.py:3549\u001b[0m, in \u001b[0;36mDataFrame._getitem_bool_array\u001b[1;34m(self, key)\u001b[0m\n\u001b[0;32m   3543\u001b[0m     \u001b[38;5;28;01mraise\u001b[39;00m \u001b[38;5;167;01mValueError\u001b[39;00m(\n\u001b[0;32m   3544\u001b[0m         \u001b[38;5;124mf\u001b[39m\u001b[38;5;124m\"\u001b[39m\u001b[38;5;124mItem wrong length \u001b[39m\u001b[38;5;132;01m{\u001b[39;00m\u001b[38;5;28mlen\u001b[39m(key)\u001b[38;5;132;01m}\u001b[39;00m\u001b[38;5;124m instead of \u001b[39m\u001b[38;5;132;01m{\u001b[39;00m\u001b[38;5;28mlen\u001b[39m(\u001b[38;5;28mself\u001b[39m\u001b[38;5;241m.\u001b[39mindex)\u001b[38;5;132;01m}\u001b[39;00m\u001b[38;5;124m.\u001b[39m\u001b[38;5;124m\"\u001b[39m\n\u001b[0;32m   3545\u001b[0m     )\n\u001b[0;32m   3547\u001b[0m \u001b[38;5;66;03m# check_bool_indexer will throw exception if Series key cannot\u001b[39;00m\n\u001b[0;32m   3548\u001b[0m \u001b[38;5;66;03m# be reindexed to match DataFrame rows\u001b[39;00m\n\u001b[1;32m-> 3549\u001b[0m key \u001b[38;5;241m=\u001b[39m \u001b[43mcheck_bool_indexer\u001b[49m\u001b[43m(\u001b[49m\u001b[38;5;28;43mself\u001b[39;49m\u001b[38;5;241;43m.\u001b[39;49m\u001b[43mindex\u001b[49m\u001b[43m,\u001b[49m\u001b[43m \u001b[49m\u001b[43mkey\u001b[49m\u001b[43m)\u001b[49m\n\u001b[0;32m   3550\u001b[0m indexer \u001b[38;5;241m=\u001b[39m key\u001b[38;5;241m.\u001b[39mnonzero()[\u001b[38;5;241m0\u001b[39m]\n\u001b[0;32m   3551\u001b[0m \u001b[38;5;28;01mreturn\u001b[39;00m \u001b[38;5;28mself\u001b[39m\u001b[38;5;241m.\u001b[39m_take_with_is_copy(indexer, axis\u001b[38;5;241m=\u001b[39m\u001b[38;5;241m0\u001b[39m)\n",
      "File \u001b[1;32m~\\miniconda3\\envs\\cap_nacho\\lib\\site-packages\\pandas\\core\\indexing.py:2388\u001b[0m, in \u001b[0;36mcheck_bool_indexer\u001b[1;34m(index, key)\u001b[0m\n\u001b[0;32m   2386\u001b[0m     mask \u001b[38;5;241m=\u001b[39m isna(result\u001b[38;5;241m.\u001b[39m_values)\n\u001b[0;32m   2387\u001b[0m     \u001b[38;5;28;01mif\u001b[39;00m mask\u001b[38;5;241m.\u001b[39many():\n\u001b[1;32m-> 2388\u001b[0m         \u001b[38;5;28;01mraise\u001b[39;00m IndexingError(\n\u001b[0;32m   2389\u001b[0m             \u001b[38;5;124m\"\u001b[39m\u001b[38;5;124mUnalignable boolean Series provided as \u001b[39m\u001b[38;5;124m\"\u001b[39m\n\u001b[0;32m   2390\u001b[0m             \u001b[38;5;124m\"\u001b[39m\u001b[38;5;124mindexer (index of the boolean Series and of \u001b[39m\u001b[38;5;124m\"\u001b[39m\n\u001b[0;32m   2391\u001b[0m             \u001b[38;5;124m\"\u001b[39m\u001b[38;5;124mthe indexed object do not match).\u001b[39m\u001b[38;5;124m\"\u001b[39m\n\u001b[0;32m   2392\u001b[0m         )\n\u001b[0;32m   2393\u001b[0m     \u001b[38;5;28;01mreturn\u001b[39;00m result\u001b[38;5;241m.\u001b[39mastype(\u001b[38;5;28mbool\u001b[39m)\u001b[38;5;241m.\u001b[39m_values\n\u001b[0;32m   2394\u001b[0m \u001b[38;5;28;01mif\u001b[39;00m is_object_dtype(key):\n\u001b[0;32m   2395\u001b[0m     \u001b[38;5;66;03m# key might be object-dtype bool, check_array_indexer needs bool array\u001b[39;00m\n",
      "\u001b[1;31mIndexingError\u001b[0m: Unalignable boolean Series provided as indexer (index of the boolean Series and of the indexed object do not match)."
     ]
    }
   ],
   "source": [
    "transfers = transfers[~non_transfers]\n",
    "transfers.info()"
   ]
  },
  {
   "cell_type": "markdown",
   "id": "ceed83b3",
   "metadata": {},
   "source": [
    "We have decreased the number of our rows by a third. We can make sure that there are no discharge events that are immediately followed by an admission/transfer into another department, as these should not be classed as discharge."
   ]
  },
  {
   "cell_type": "code",
   "execution_count": null,
   "id": "97be7a40",
   "metadata": {
    "ExecuteTime": {
     "end_time": "2022-10-31T00:35:33.605818Z",
     "start_time": "2022-10-31T00:35:33.605818Z"
    }
   },
   "outputs": [],
   "source": [
    "transfers[transfers.subject_id == 15526381].sort_values(by = ['subject_id','intime'])"
   ]
  },
  {
   "cell_type": "code",
   "execution_count": null,
   "id": "d1a9b2a0",
   "metadata": {
    "ExecuteTime": {
     "end_time": "2022-10-31T00:35:33.606818Z",
     "start_time": "2022-10-31T00:35:33.606818Z"
    }
   },
   "outputs": [],
   "source": [
    "discharges_bool.shift(1)"
   ]
  },
  {
   "cell_type": "code",
   "execution_count": null,
   "id": "294b531e",
   "metadata": {
    "ExecuteTime": {
     "end_time": "2022-10-31T00:35:33.607818Z",
     "start_time": "2022-10-31T00:35:33.607818Z"
    }
   },
   "outputs": [],
   "source": [
    "intimes"
   ]
  },
  {
   "cell_type": "code",
   "execution_count": null,
   "id": "29805a14",
   "metadata": {
    "ExecuteTime": {
     "end_time": "2022-10-31T00:35:33.609816Z",
     "start_time": "2022-10-31T00:35:33.609816Z"
    }
   },
   "outputs": [],
   "source": [
    "outtimes"
   ]
  },
  {
   "cell_type": "code",
   "execution_count": null,
   "id": "b9ca3c0b",
   "metadata": {
    "ExecuteTime": {
     "end_time": "2022-10-31T00:35:33.610818Z",
     "start_time": "2022-10-31T00:35:33.610818Z"
    }
   },
   "outputs": [],
   "source": [
    "disch_bool = transfers.event == 'Discharge'\n",
    "\n",
    "outtimes = transfers.loc[disch_bool,['subject_id','outtime']]\\\n",
    "    .rename(columns = {'outtime':'intime'}).iloc[:-1].reset_index(drop = True)\n",
    "intimes = transfers.loc[disch_bool.shift().fillna(False),['subject_id','intime']]\\\n",
    "    .reset_index(drop = True)"
   ]
  },
  {
   "cell_type": "code",
   "execution_count": null,
   "id": "da71b7d4",
   "metadata": {
    "ExecuteTime": {
     "end_time": "2022-10-31T00:35:33.611818Z",
     "start_time": "2022-10-31T00:35:33.611818Z"
    }
   },
   "outputs": [],
   "source": [
    "tal = (outtimes.values == intimes.values)\n",
    "cual = [l[0]*l[1] for l in tal]"
   ]
  },
  {
   "cell_type": "code",
   "execution_count": null,
   "id": "0d250a76",
   "metadata": {
    "ExecuteTime": {
     "end_time": "2022-10-31T00:35:33.612818Z",
     "start_time": "2022-10-31T00:35:33.612818Z"
    }
   },
   "outputs": [],
   "source": [
    "sum(cual)"
   ]
  },
  {
   "cell_type": "code",
   "execution_count": null,
   "id": "253a9c6a",
   "metadata": {
    "ExecuteTime": {
     "end_time": "2022-10-31T00:35:33.614817Z",
     "start_time": "2022-10-31T00:35:33.614817Z"
    }
   },
   "outputs": [],
   "source": [
    "non_disch = (outtimes == intimes).all(axis = 1)\n",
    "print(f'There are {sum(non_disch)} fake discharges')"
   ]
  },
  {
   "cell_type": "code",
   "execution_count": null,
   "id": "65aedd5e",
   "metadata": {
    "ExecuteTime": {
     "end_time": "2022-10-31T00:35:33.615818Z",
     "start_time": "2022-10-31T00:35:33.615818Z"
    }
   },
   "outputs": [],
   "source": [
    "np.append(non_disch.values,False)"
   ]
  },
  {
   "cell_type": "code",
   "execution_count": null,
   "id": "d45be4f2",
   "metadata": {
    "ExecuteTime": {
     "end_time": "2022-10-31T00:35:33.616817Z",
     "start_time": "2022-10-31T00:35:33.616817Z"
    },
    "scrolled": false
   },
   "outputs": [],
   "source": [
    "transfers.loc[transfers.event == 'Discharge'][np.append(non_disch.values,False)]"
   ]
  },
  {
   "cell_type": "markdown",
   "id": "73a9934f",
   "metadata": {},
   "source": [
    "Let's start merging tables. We can begin with the patients table, which contains information on age and gender of patient"
   ]
  },
  {
   "cell_type": "code",
   "execution_count": 54,
   "id": "a787bb22",
   "metadata": {
    "ExecuteTime": {
     "end_time": "2022-10-20T13:40:59.714827Z",
     "start_time": "2022-10-20T13:40:59.690747Z"
    },
    "deletable": false,
    "editable": false,
    "run_control": {
     "frozen": true
    }
   },
   "outputs": [],
   "source": [
    "# Caca\n",
    "cat = list('ABCDGHJLMNPRSV')\n",
    "cat.extend(['pres_no'])\n",
    "\n",
    "dfl = transfers[['subject_id','intime','outtime','transfer_id']].copy()\n",
    "dfr = tranfers[cat].copy() # includes starttime\n",
    "\n",
    "def step_merger(dfl,dfr,n = 50):\n",
    "    \n",
    "    df_merged = pd.merge(dfl.head(0),dfr.head(0), how = 'left')\n",
    "\n",
    "    non_dums = list(df_merged.columns.values)\n",
    "    [non_dums.remove(col) for col in dums]\n",
    "    dums = copy.deepcopy(dums)\n",
    "    dums.append(index_col)\n",
    "\n",
    "    df_merged.drop(columns = index_col,inplace = True)\n",
    "    df_merged.index.rename(index_col,inplace = True)\n",
    "\n",
    "    dfl.sort_values(by = on_col,inplace=True)\n",
    "    dfl.reset_index(inplace = True, drop = True)\n",
    "    dfr.sort_values(by = on_col,inplace=True)\n",
    "    dfr.reset_index(inplace = True, drop = True)\n",
    "\n",
    "    ind_l1 = 0\n",
    "    ind_r1 = 0\n",
    "\n",
    "    inc = round(len(dfr)/n)\n",
    "    max_l = dfl[on_col].max()\n",
    "    max_r = dfr[on_col].max()\n",
    "    for i in range(n):\n",
    "        # Taking first lim rows \n",
    "        max_oncol = dfr.loc[ind_r1:].head(inc)[on_col].values[-1]\n",
    "\n",
    "        if max_oncol < max_l and max_oncol < max_r:\n",
    "            ind_r2 = (dfr[on_col]> max_oncol).argmax() - 1\n",
    "            dfr_chunk = dfr.loc[ind_r1:ind_r2]\n",
    "\n",
    "            ind_l2 = dfl[dfl[on_col] == dfr_chunk[on_col].max()].index.values[-1]\n",
    "\n",
    "            dfl_chunk = dfl.reset_index(drop = True).loc[ind_l1:ind_l2]\n",
    "\n",
    "        else:\n",
    "            dfr_chunk = dfr.loc[ind_r1:]\n",
    "            dfl_chunk = dfl.loc[ind_l1:]\n",
    "\n",
    "        df_merging = pd.merge(dfl_chunk,dfr_chunk, on = on_col, how = 'left')\n",
    "\n",
    "        valid_rows = (df_merging.starttime>df_merging.intime) & (df_merging.starttime<df_merging.outtime)\n",
    "        df_merging.loc[~valid_rows,dums[:-1]] = 0\n",
    "\n",
    "        df_merging = pd.concat([df_merging[dums].groupby(index_col).sum().astype(int),\n",
    "                                df_merging[non_dums].groupby(index_col).first()],\n",
    "                                axis = 1)\n",
    "        df_merged = pd.concat([df_merged,df_merging], axis = 0)\n",
    "        ind_r1 = ind_r2 + 1\n",
    "        ind_l1 = ind_l2 + 1\n",
    "        print(f'Loop {i + 1} out of {n}')\n",
    "    \n",
    "    df_merged.reset_index(drop = False, inplace = True)\n",
    "    return df_merged"
   ]
  },
  {
   "cell_type": "code",
   "execution_count": 259,
   "id": "4a4aa6a8",
   "metadata": {
    "ExecuteTime": {
     "end_time": "2022-10-31T00:35:33.883720Z",
     "start_time": "2022-10-31T00:35:33.718853Z"
    }
   },
   "outputs": [
    {
     "data": {
      "text/html": [
       "<div>\n",
       "<style scoped>\n",
       "    .dataframe tbody tr th:only-of-type {\n",
       "        vertical-align: middle;\n",
       "    }\n",
       "\n",
       "    .dataframe tbody tr th {\n",
       "        vertical-align: top;\n",
       "    }\n",
       "\n",
       "    .dataframe thead th {\n",
       "        text-align: right;\n",
       "    }\n",
       "</style>\n",
       "<table border=\"1\" class=\"dataframe\">\n",
       "  <thead>\n",
       "    <tr style=\"text-align: right;\">\n",
       "      <th></th>\n",
       "      <th>subject_id</th>\n",
       "      <th>gender</th>\n",
       "      <th>anchor_age</th>\n",
       "      <th>anchor_year</th>\n",
       "      <th>anchor_year_group</th>\n",
       "      <th>dod</th>\n",
       "    </tr>\n",
       "  </thead>\n",
       "  <tbody>\n",
       "    <tr>\n",
       "      <th>0</th>\n",
       "      <td>10000032</td>\n",
       "      <td>F</td>\n",
       "      <td>52</td>\n",
       "      <td>2180</td>\n",
       "      <td>2014 - 2016</td>\n",
       "      <td>2180-09-09</td>\n",
       "    </tr>\n",
       "    <tr>\n",
       "      <th>1</th>\n",
       "      <td>10000048</td>\n",
       "      <td>F</td>\n",
       "      <td>23</td>\n",
       "      <td>2126</td>\n",
       "      <td>2008 - 2010</td>\n",
       "      <td>NaN</td>\n",
       "    </tr>\n",
       "    <tr>\n",
       "      <th>2</th>\n",
       "      <td>10000068</td>\n",
       "      <td>F</td>\n",
       "      <td>19</td>\n",
       "      <td>2160</td>\n",
       "      <td>2008 - 2010</td>\n",
       "      <td>NaN</td>\n",
       "    </tr>\n",
       "    <tr>\n",
       "      <th>3</th>\n",
       "      <td>10000084</td>\n",
       "      <td>M</td>\n",
       "      <td>72</td>\n",
       "      <td>2160</td>\n",
       "      <td>2017 - 2019</td>\n",
       "      <td>2161-02-13</td>\n",
       "    </tr>\n",
       "    <tr>\n",
       "      <th>4</th>\n",
       "      <td>10000102</td>\n",
       "      <td>F</td>\n",
       "      <td>27</td>\n",
       "      <td>2136</td>\n",
       "      <td>2008 - 2010</td>\n",
       "      <td>NaN</td>\n",
       "    </tr>\n",
       "  </tbody>\n",
       "</table>\n",
       "</div>"
      ],
      "text/plain": [
       "   subject_id gender  anchor_age  anchor_year anchor_year_group         dod\n",
       "0    10000032      F          52         2180       2014 - 2016  2180-09-09\n",
       "1    10000048      F          23         2126       2008 - 2010         NaN\n",
       "2    10000068      F          19         2160       2008 - 2010         NaN\n",
       "3    10000084      M          72         2160       2017 - 2019  2161-02-13\n",
       "4    10000102      F          27         2136       2008 - 2010         NaN"
      ]
     },
     "execution_count": 259,
     "metadata": {},
     "output_type": "execute_result"
    }
   ],
   "source": [
    "patients = pd.read_csv('../Capstone data/MIMIC IV/patients.csv')\n",
    "patients.head()"
   ]
  },
  {
   "cell_type": "code",
   "execution_count": 260,
   "id": "a42e1f36",
   "metadata": {
    "ExecuteTime": {
     "end_time": "2022-10-31T00:35:33.930728Z",
     "start_time": "2022-10-31T00:35:33.885662Z"
    }
   },
   "outputs": [],
   "source": [
    "patients['dod'] = pd.to_datetime(patients.dod, infer_datetime_format = True)"
   ]
  },
  {
   "cell_type": "markdown",
   "id": "82cfeced",
   "metadata": {},
   "source": [
    "Basic eda:"
   ]
  },
  {
   "cell_type": "code",
   "execution_count": 261,
   "id": "1f97ae86",
   "metadata": {
    "ExecuteTime": {
     "end_time": "2022-10-31T00:35:34.009002Z",
     "start_time": "2022-10-31T00:35:33.932659Z"
    }
   },
   "outputs": [
    {
     "name": "stdout",
     "output_type": "stream",
     "text": [
      "<class 'pandas.core.frame.DataFrame'>\n",
      "RangeIndex: 315460 entries, 0 to 315459\n",
      "Data columns (total 6 columns):\n",
      " #   Column             Non-Null Count   Dtype         \n",
      "---  ------             --------------   -----         \n",
      " 0   subject_id         315460 non-null  int64         \n",
      " 1   gender             315460 non-null  object        \n",
      " 2   anchor_age         315460 non-null  int64         \n",
      " 3   anchor_year        315460 non-null  int64         \n",
      " 4   anchor_year_group  315460 non-null  object        \n",
      " 5   dod                30636 non-null   datetime64[ns]\n",
      "dtypes: datetime64[ns](1), int64(3), object(2)\n",
      "memory usage: 14.4+ MB\n",
      "None\n",
      "\n",
      "\n",
      "count                   30636\n",
      "unique                  19705\n",
      "top       2129-11-19 00:00:00\n",
      "freq                        7\n",
      "first     2104-12-24 00:00:00\n",
      "last      2212-01-22 00:00:00\n",
      "Name: dod, dtype: object\n"
     ]
    }
   ],
   "source": [
    "print(patients.info(show_counts = True))\n",
    "print('\\n')\n",
    "print(patients.dod.describe())"
   ]
  },
  {
   "cell_type": "markdown",
   "id": "f34552d5",
   "metadata": {},
   "source": [
    "Okay, no null values (other that the patients that did not die) and nothing weird on date of death (dod). Let's look at info on gender and age."
   ]
  },
  {
   "cell_type": "code",
   "execution_count": 262,
   "id": "4d0e263b",
   "metadata": {
    "ExecuteTime": {
     "end_time": "2022-10-31T00:35:34.025183Z",
     "start_time": "2022-10-31T00:35:34.011128Z"
    }
   },
   "outputs": [
    {
     "data": {
      "text/plain": [
       "0    0.0\n",
       "dtype: float64"
      ]
     },
     "execution_count": 262,
     "metadata": {},
     "output_type": "execute_result"
    }
   ],
   "source": [
    "pd.Series(patients.gender.isna().mean()*100)"
   ]
  },
  {
   "cell_type": "code",
   "execution_count": 263,
   "id": "2241cdea",
   "metadata": {
    "ExecuteTime": {
     "end_time": "2022-10-31T00:35:34.164634Z",
     "start_time": "2022-10-31T00:35:34.026127Z"
    }
   },
   "outputs": [
    {
     "data": {
      "text/html": [
       "<style type=\"text/css\">\n",
       "</style>\n",
       "<table id=\"T_442c4\" style='display:inline'>\n",
       "  <caption>Patient genders</caption>\n",
       "  <thead>\n",
       "    <tr>\n",
       "      <th class=\"blank level0\" >&nbsp;</th>\n",
       "      <th id=\"T_442c4_level0_col0\" class=\"col_heading level0 col0\" >gender</th>\n",
       "    </tr>\n",
       "  </thead>\n",
       "  <tbody>\n",
       "    <tr>\n",
       "      <th id=\"T_442c4_level0_row0\" class=\"row_heading level0 row0\" >F</th>\n",
       "      <td id=\"T_442c4_row0_col0\" class=\"data row0 col0\" >52.906549</td>\n",
       "    </tr>\n",
       "    <tr>\n",
       "      <th id=\"T_442c4_level0_row1\" class=\"row_heading level0 row1\" >M</th>\n",
       "      <td id=\"T_442c4_row1_col0\" class=\"data row1 col0\" >47.093451</td>\n",
       "    </tr>\n",
       "  </tbody>\n",
       "</table>\n",
       "<style type=\"text/css\">\n",
       "</style>\n",
       "<table id=\"T_9a3b9\" style='display:inline'>\n",
       "  <caption>% that died</caption>\n",
       "  <thead>\n",
       "    <tr>\n",
       "      <th class=\"blank level0\" >&nbsp;</th>\n",
       "      <th id=\"T_9a3b9_level0_col0\" class=\"col_heading level0 col0\" >gender</th>\n",
       "    </tr>\n",
       "  </thead>\n",
       "  <tbody>\n",
       "    <tr>\n",
       "      <th id=\"T_9a3b9_level0_row0\" class=\"row_heading level0 row0\" >F</th>\n",
       "      <td id=\"T_9a3b9_row0_col0\" class=\"data row0 col0\" >8.775367</td>\n",
       "    </tr>\n",
       "    <tr>\n",
       "      <th id=\"T_9a3b9_level0_row1\" class=\"row_heading level0 row1\" >M</th>\n",
       "      <td id=\"T_9a3b9_row1_col0\" class=\"data row1 col0\" >10.763255</td>\n",
       "    </tr>\n",
       "  </tbody>\n",
       "</table>\n",
       "<style type=\"text/css\">\n",
       "</style>\n",
       "<table id=\"T_43869\" style='display:inline'>\n",
       "  <caption>Male and female age distributions</caption>\n",
       "  <thead>\n",
       "    <tr>\n",
       "      <th class=\"blank level0\" >&nbsp;</th>\n",
       "      <th id=\"T_43869_level0_col0\" class=\"col_heading level0 col0\" >Males</th>\n",
       "      <th id=\"T_43869_level0_col1\" class=\"col_heading level0 col1\" >Females</th>\n",
       "    </tr>\n",
       "  </thead>\n",
       "  <tbody>\n",
       "    <tr>\n",
       "      <th id=\"T_43869_level0_row0\" class=\"row_heading level0 row0\" >count</th>\n",
       "      <td id=\"T_43869_row0_col0\" class=\"data row0 col0\" >148561.000000</td>\n",
       "      <td id=\"T_43869_row0_col1\" class=\"data row0 col1\" >166899.000000</td>\n",
       "    </tr>\n",
       "    <tr>\n",
       "      <th id=\"T_43869_level0_row1\" class=\"row_heading level0 row1\" >mean</th>\n",
       "      <td id=\"T_43869_row1_col0\" class=\"data row1 col0\" >49.026588</td>\n",
       "      <td id=\"T_43869_row1_col1\" class=\"data row1 col1\" >48.080480</td>\n",
       "    </tr>\n",
       "    <tr>\n",
       "      <th id=\"T_43869_level0_row2\" class=\"row_heading level0 row2\" >std</th>\n",
       "      <td id=\"T_43869_row2_col0\" class=\"data row2 col0\" >20.146493</td>\n",
       "      <td id=\"T_43869_row2_col1\" class=\"data row2 col1\" >21.515040</td>\n",
       "    </tr>\n",
       "    <tr>\n",
       "      <th id=\"T_43869_level0_row3\" class=\"row_heading level0 row3\" >min</th>\n",
       "      <td id=\"T_43869_row3_col0\" class=\"data row3 col0\" >18.000000</td>\n",
       "      <td id=\"T_43869_row3_col1\" class=\"data row3 col1\" >18.000000</td>\n",
       "    </tr>\n",
       "    <tr>\n",
       "      <th id=\"T_43869_level0_row4\" class=\"row_heading level0 row4\" >25%</th>\n",
       "      <td id=\"T_43869_row4_col0\" class=\"data row4 col0\" >30.000000</td>\n",
       "      <td id=\"T_43869_row4_col1\" class=\"data row4 col1\" >28.000000</td>\n",
       "    </tr>\n",
       "    <tr>\n",
       "      <th id=\"T_43869_level0_row5\" class=\"row_heading level0 row5\" >50%</th>\n",
       "      <td id=\"T_43869_row5_col0\" class=\"data row5 col0\" >49.000000</td>\n",
       "      <td id=\"T_43869_row5_col1\" class=\"data row5 col1\" >46.000000</td>\n",
       "    </tr>\n",
       "    <tr>\n",
       "      <th id=\"T_43869_level0_row6\" class=\"row_heading level0 row6\" >75%</th>\n",
       "      <td id=\"T_43869_row6_col0\" class=\"data row6 col0\" >65.000000</td>\n",
       "      <td id=\"T_43869_row6_col1\" class=\"data row6 col1\" >65.000000</td>\n",
       "    </tr>\n",
       "    <tr>\n",
       "      <th id=\"T_43869_level0_row7\" class=\"row_heading level0 row7\" >max</th>\n",
       "      <td id=\"T_43869_row7_col0\" class=\"data row7 col0\" >91.000000</td>\n",
       "      <td id=\"T_43869_row7_col1\" class=\"data row7 col1\" >91.000000</td>\n",
       "    </tr>\n",
       "  </tbody>\n",
       "</table>\n"
      ]
     },
     "metadata": {},
     "output_type": "display_data"
    }
   ],
   "source": [
    "nachopy.display_sbs(\n",
    "                [patients.gender.value_counts(normalize = True)*100,\\\n",
    "\n",
    "                patients.loc[~patients.dod.isna(),'gender'].value_counts()/patients.gender.value_counts()*100,\\\n",
    "\n",
    "                pd.concat([patients.anchor_age[patients.gender == 'M'].describe().rename('Males'),\\\n",
    "                patients.anchor_age[patients.gender == 'F'].describe().rename('Females')], axis = 1)],\\\n",
    "\n",
    "                titles = ['Patient genders', '% that died', 'Male and female age distributions']\n",
    ")"
   ]
  },
  {
   "cell_type": "markdown",
   "id": "753bc93a",
   "metadata": {},
   "source": [
    "Okay, good for now. We do not have any death registered in our transfers tables. This should be an event different from discharge, as the features for patients that expired and patients that were discharged from the hospital will probably be significantly different. Now we are going to join gender, age and dod."
   ]
  },
  {
   "cell_type": "code",
   "execution_count": 264,
   "id": "81f5161f",
   "metadata": {
    "ExecuteTime": {
     "end_time": "2022-10-31T00:35:35.070796Z",
     "start_time": "2022-10-31T00:35:34.166633Z"
    }
   },
   "outputs": [
    {
     "name": "stdout",
     "output_type": "stream",
     "text": [
      "<class 'pandas.core.frame.DataFrame'>\n",
      "Int64Index: 1537372 entries, 0 to 1537371\n",
      "Data columns (total 12 columns):\n",
      " #   Column       Non-Null Count    Dtype         \n",
      "---  ------       --------------    -----         \n",
      " 0   subject_id   1537372 non-null  int64         \n",
      " 1   hadm_id      1189806 non-null  Int64         \n",
      " 2   transfer_id  1537372 non-null  int64         \n",
      " 3   eventtype    1537372 non-null  object        \n",
      " 4   careunit     1537372 non-null  object        \n",
      " 5   intime       1537372 non-null  datetime64[ns]\n",
      " 6   outtime      1537372 non-null  datetime64[ns]\n",
      " 7   event        1537372 non-null  object        \n",
      " 8   duration     1537372 non-null  float64       \n",
      " 9   gender       1537372 non-null  object        \n",
      " 10  anchor_age   1537372 non-null  int64         \n",
      " 11  dod          343945 non-null   datetime64[ns]\n",
      "dtypes: Int64(1), datetime64[ns](3), float64(1), int64(3), object(4)\n",
      "memory usage: 153.9+ MB\n"
     ]
    }
   ],
   "source": [
    "transfers = pd.merge(transfers,patients[['subject_id','gender','anchor_age','dod']], on = 'subject_id',how = 'left')\n",
    "transfers.info()"
   ]
  },
  {
   "cell_type": "code",
   "execution_count": 265,
   "id": "e8fc86ab",
   "metadata": {
    "ExecuteTime": {
     "end_time": "2022-10-31T00:35:35.085958Z",
     "start_time": "2022-10-31T00:35:35.072499Z"
    },
    "scrolled": true
   },
   "outputs": [],
   "source": [
    "# deceased = transfers.dod == transfers.outtime.dt.date\n",
    "# print('Did any patients die at event \"Discharge\"?',deceased.any())\n",
    "# print('How many?', deceased.sum(),'And the percentage?', round(deceased.mean()*100,2))\n",
    "# transfers[deceased].head()\n",
    "# transfers[['gender','anchor_age']].isna().mean()\n",
    "# transfers.loc[deceased,'event'] = 'Deceased'\n",
    "# transfers.drop(columns = 'dod',inplace = True)\n",
    "# print('NaN values for new columns')\n",
    "# print(transfers[['gender','anchor_age']].isna().mean())"
   ]
  },
  {
   "cell_type": "markdown",
   "id": "87ed6e1e",
   "metadata": {},
   "source": [
    "Less than 1% of patients in the transfers column died rather than get discharged. We will change the class to \"Deceased\" for these rows. We can drop the dod column and check for any missing values in the new columns. "
   ]
  },
  {
   "cell_type": "markdown",
   "id": "c210ae75",
   "metadata": {},
   "source": [
    "Okay, clean df again. Now let's check what we can add from admissions (private info not shown)"
   ]
  },
  {
   "cell_type": "code",
   "execution_count": 266,
   "id": "10fea209",
   "metadata": {
    "ExecuteTime": {
     "end_time": "2022-10-31T00:35:37.041843Z",
     "start_time": "2022-10-31T00:35:35.089244Z"
    }
   },
   "outputs": [
    {
     "name": "stdout",
     "output_type": "stream",
     "text": [
      "<class 'pandas.core.frame.DataFrame'>\n",
      "RangeIndex: 454324 entries, 0 to 454323\n",
      "Data columns (total 15 columns):\n",
      " #   Column                Non-Null Count   Dtype \n",
      "---  ------                --------------   ----- \n",
      " 0   subject_id            454324 non-null  int64 \n",
      " 1   hadm_id               454324 non-null  int64 \n",
      " 2   admittime             454324 non-null  object\n",
      " 3   dischtime             454324 non-null  object\n",
      " 4   deathtime             9087 non-null    object\n",
      " 5   admission_type        454324 non-null  object\n",
      " 6   admission_location    454324 non-null  object\n",
      " 7   discharge_location    328519 non-null  object\n",
      " 8   insurance             454324 non-null  object\n",
      " 9   language              454324 non-null  object\n",
      " 10  marital_status        444608 non-null  object\n",
      " 11  race                  454324 non-null  object\n",
      " 12  edregtime             315460 non-null  object\n",
      " 13  edouttime             315460 non-null  object\n",
      " 14  hospital_expire_flag  454324 non-null  int64 \n",
      "dtypes: int64(3), object(12)\n",
      "memory usage: 52.0+ MB\n",
      "None\n",
      "subject_id              190279\n",
      "hadm_id                 454324\n",
      "admittime               446961\n",
      "dischtime               442600\n",
      "deathtime                 9086\n",
      "admission_type               9\n",
      "admission_location          11\n",
      "discharge_location          13\n",
      "insurance                    3\n",
      "language                     2\n",
      "marital_status               4\n",
      "race                        33\n",
      "edregtime               309765\n",
      "edouttime               309831\n",
      "hospital_expire_flag         2\n",
      "dtype: int64\n"
     ]
    }
   ],
   "source": [
    "admissions = pd.read_csv('../Capstone data/MIMIC IV/admissions.csv')\n",
    "# display(admissions.head())\n",
    "print(admissions.info(show_counts = True))\n",
    "print(admissions.nunique())"
   ]
  },
  {
   "cell_type": "markdown",
   "id": "88fdbd0a",
   "metadata": {
    "ExecuteTime": {
     "end_time": "2022-10-17T15:52:59.807450Z",
     "start_time": "2022-10-17T15:52:59.731986Z"
    }
   },
   "source": [
    "Okay, let's do a basic EDA of some variables that could be interesting"
   ]
  },
  {
   "cell_type": "code",
   "execution_count": 267,
   "id": "3ff3f058",
   "metadata": {
    "ExecuteTime": {
     "end_time": "2022-10-31T00:35:37.167590Z",
     "start_time": "2022-10-31T00:35:37.043846Z"
    }
   },
   "outputs": [
    {
     "data": {
      "text/html": [
       "<style type=\"text/css\">\n",
       "</style>\n",
       "<table id=\"T_e7774\" style='display:inline'>\n",
       "  <caption>admission_type value_counts</caption>\n",
       "  <thead>\n",
       "    <tr>\n",
       "      <th class=\"blank level0\" >&nbsp;</th>\n",
       "      <th id=\"T_e7774_level0_col0\" class=\"col_heading level0 col0\" >admission_type</th>\n",
       "    </tr>\n",
       "  </thead>\n",
       "  <tbody>\n",
       "    <tr>\n",
       "      <th id=\"T_e7774_level0_row0\" class=\"row_heading level0 row0\" >EW EMER.</th>\n",
       "      <td id=\"T_e7774_row0_col0\" class=\"data row0 col0\" >157487</td>\n",
       "    </tr>\n",
       "    <tr>\n",
       "      <th id=\"T_e7774_level0_row1\" class=\"row_heading level0 row1\" >EU OBSERVATION</th>\n",
       "      <td id=\"T_e7774_row1_col0\" class=\"data row1 col0\" >100133</td>\n",
       "    </tr>\n",
       "    <tr>\n",
       "      <th id=\"T_e7774_level0_row2\" class=\"row_heading level0 row2\" >OBSERVATION ADMIT</th>\n",
       "      <td id=\"T_e7774_row2_col0\" class=\"data row2 col0\" >55210</td>\n",
       "    </tr>\n",
       "    <tr>\n",
       "      <th id=\"T_e7774_level0_row3\" class=\"row_heading level0 row3\" >URGENT</th>\n",
       "      <td id=\"T_e7774_row3_col0\" class=\"data row3 col0\" >47127</td>\n",
       "    </tr>\n",
       "    <tr>\n",
       "      <th id=\"T_e7774_level0_row4\" class=\"row_heading level0 row4\" >SURGICAL SAME DAY ADMISSION</th>\n",
       "      <td id=\"T_e7774_row4_col0\" class=\"data row4 col0\" >35994</td>\n",
       "    </tr>\n",
       "    <tr>\n",
       "      <th id=\"T_e7774_level0_row5\" class=\"row_heading level0 row5\" >DIRECT EMER.</th>\n",
       "      <td id=\"T_e7774_row5_col0\" class=\"data row5 col0\" >20584</td>\n",
       "    </tr>\n",
       "    <tr>\n",
       "      <th id=\"T_e7774_level0_row6\" class=\"row_heading level0 row6\" >DIRECT OBSERVATION</th>\n",
       "      <td id=\"T_e7774_row6_col0\" class=\"data row6 col0\" >19698</td>\n",
       "    </tr>\n",
       "    <tr>\n",
       "      <th id=\"T_e7774_level0_row7\" class=\"row_heading level0 row7\" >ELECTIVE</th>\n",
       "      <td id=\"T_e7774_row7_col0\" class=\"data row7 col0\" >11089</td>\n",
       "    </tr>\n",
       "    <tr>\n",
       "      <th id=\"T_e7774_level0_row8\" class=\"row_heading level0 row8\" >AMBULATORY OBSERVATION</th>\n",
       "      <td id=\"T_e7774_row8_col0\" class=\"data row8 col0\" >7002</td>\n",
       "    </tr>\n",
       "  </tbody>\n",
       "</table>\n",
       "<style type=\"text/css\">\n",
       "</style>\n",
       "<table id=\"T_ea536\" style='display:inline'>\n",
       "  <caption>discharge_location value_counts</caption>\n",
       "  <thead>\n",
       "    <tr>\n",
       "      <th class=\"blank level0\" >&nbsp;</th>\n",
       "      <th id=\"T_ea536_level0_col0\" class=\"col_heading level0 col0\" >discharge_location</th>\n",
       "    </tr>\n",
       "  </thead>\n",
       "  <tbody>\n",
       "    <tr>\n",
       "      <th id=\"T_ea536_level0_row0\" class=\"row_heading level0 row0\" >HOME</th>\n",
       "      <td id=\"T_ea536_row0_col0\" class=\"data row0 col0\" >163664</td>\n",
       "    </tr>\n",
       "    <tr>\n",
       "      <th id=\"T_ea536_level0_row1\" class=\"row_heading level0 row1\" >HOME HEALTH CARE</th>\n",
       "      <td id=\"T_ea536_row1_col0\" class=\"data row1 col0\" >79506</td>\n",
       "    </tr>\n",
       "    <tr>\n",
       "      <th id=\"T_ea536_level0_row2\" class=\"row_heading level0 row2\" >SKILLED NURSING FACILITY</th>\n",
       "      <td id=\"T_ea536_row2_col0\" class=\"data row2 col0\" >45280</td>\n",
       "    </tr>\n",
       "    <tr>\n",
       "      <th id=\"T_ea536_level0_row3\" class=\"row_heading level0 row3\" >REHAB</th>\n",
       "      <td id=\"T_ea536_row3_col0\" class=\"data row3 col0\" >11025</td>\n",
       "    </tr>\n",
       "    <tr>\n",
       "      <th id=\"T_ea536_level0_row4\" class=\"row_heading level0 row4\" >DIED</th>\n",
       "      <td id=\"T_ea536_row4_col0\" class=\"data row4 col0\" >8997</td>\n",
       "    </tr>\n",
       "    <tr>\n",
       "      <th id=\"T_ea536_level0_row5\" class=\"row_heading level0 row5\" >CHRONIC/LONG TERM ACUTE CARE</th>\n",
       "      <td id=\"T_ea536_row5_col0\" class=\"data row5 col0\" >7531</td>\n",
       "    </tr>\n",
       "    <tr>\n",
       "      <th id=\"T_ea536_level0_row6\" class=\"row_heading level0 row6\" >HOSPICE</th>\n",
       "      <td id=\"T_ea536_row6_col0\" class=\"data row6 col0\" >3649</td>\n",
       "    </tr>\n",
       "    <tr>\n",
       "      <th id=\"T_ea536_level0_row7\" class=\"row_heading level0 row7\" >AGAINST ADVICE</th>\n",
       "      <td id=\"T_ea536_row7_col0\" class=\"data row7 col0\" >2703</td>\n",
       "    </tr>\n",
       "    <tr>\n",
       "      <th id=\"T_ea536_level0_row8\" class=\"row_heading level0 row8\" >PSYCH FACILITY</th>\n",
       "      <td id=\"T_ea536_row8_col0\" class=\"data row8 col0\" >2405</td>\n",
       "    </tr>\n",
       "    <tr>\n",
       "      <th id=\"T_ea536_level0_row9\" class=\"row_heading level0 row9\" >ACUTE HOSPITAL</th>\n",
       "      <td id=\"T_ea536_row9_col0\" class=\"data row9 col0\" >1702</td>\n",
       "    </tr>\n",
       "    <tr>\n",
       "      <th id=\"T_ea536_level0_row10\" class=\"row_heading level0 row10\" >OTHER FACILITY</th>\n",
       "      <td id=\"T_ea536_row10_col0\" class=\"data row10 col0\" >1428</td>\n",
       "    </tr>\n",
       "    <tr>\n",
       "      <th id=\"T_ea536_level0_row11\" class=\"row_heading level0 row11\" >ASSISTED LIVING</th>\n",
       "      <td id=\"T_ea536_row11_col0\" class=\"data row11 col0\" >583</td>\n",
       "    </tr>\n",
       "    <tr>\n",
       "      <th id=\"T_ea536_level0_row12\" class=\"row_heading level0 row12\" >HEALTHCARE FACILITY</th>\n",
       "      <td id=\"T_ea536_row12_col0\" class=\"data row12 col0\" >46</td>\n",
       "    </tr>\n",
       "  </tbody>\n",
       "</table>\n",
       "<style type=\"text/css\">\n",
       "</style>\n",
       "<table id=\"T_0fa23\" style='display:inline'>\n",
       "  <caption>insurance value_counts</caption>\n",
       "  <thead>\n",
       "    <tr>\n",
       "      <th class=\"blank level0\" >&nbsp;</th>\n",
       "      <th id=\"T_0fa23_level0_col0\" class=\"col_heading level0 col0\" >insurance</th>\n",
       "    </tr>\n",
       "  </thead>\n",
       "  <tbody>\n",
       "    <tr>\n",
       "      <th id=\"T_0fa23_level0_row0\" class=\"row_heading level0 row0\" >Other</th>\n",
       "      <td id=\"T_0fa23_row0_col0\" class=\"data row0 col0\" >241613</td>\n",
       "    </tr>\n",
       "    <tr>\n",
       "      <th id=\"T_0fa23_level0_row1\" class=\"row_heading level0 row1\" >Medicare</th>\n",
       "      <td id=\"T_0fa23_row1_col0\" class=\"data row1 col0\" >168963</td>\n",
       "    </tr>\n",
       "    <tr>\n",
       "      <th id=\"T_0fa23_level0_row2\" class=\"row_heading level0 row2\" >Medicaid</th>\n",
       "      <td id=\"T_0fa23_row2_col0\" class=\"data row2 col0\" >43748</td>\n",
       "    </tr>\n",
       "  </tbody>\n",
       "</table>\n",
       "<style type=\"text/css\">\n",
       "</style>\n",
       "<table id=\"T_75235\" style='display:inline'>\n",
       "  <caption>language value_counts</caption>\n",
       "  <thead>\n",
       "    <tr>\n",
       "      <th class=\"blank level0\" >&nbsp;</th>\n",
       "      <th id=\"T_75235_level0_col0\" class=\"col_heading level0 col0\" >language</th>\n",
       "    </tr>\n",
       "  </thead>\n",
       "  <tbody>\n",
       "    <tr>\n",
       "      <th id=\"T_75235_level0_row0\" class=\"row_heading level0 row0\" >ENGLISH</th>\n",
       "      <td id=\"T_75235_row0_col0\" class=\"data row0 col0\" >409153</td>\n",
       "    </tr>\n",
       "    <tr>\n",
       "      <th id=\"T_75235_level0_row1\" class=\"row_heading level0 row1\" >?</th>\n",
       "      <td id=\"T_75235_row1_col0\" class=\"data row1 col0\" >45171</td>\n",
       "    </tr>\n",
       "  </tbody>\n",
       "</table>\n",
       "<style type=\"text/css\">\n",
       "</style>\n",
       "<table id=\"T_ba3b6\" style='display:inline'>\n",
       "  <caption>marital_status value_counts</caption>\n",
       "  <thead>\n",
       "    <tr>\n",
       "      <th class=\"blank level0\" >&nbsp;</th>\n",
       "      <th id=\"T_ba3b6_level0_col0\" class=\"col_heading level0 col0\" >marital_status</th>\n",
       "    </tr>\n",
       "  </thead>\n",
       "  <tbody>\n",
       "    <tr>\n",
       "      <th id=\"T_ba3b6_level0_row0\" class=\"row_heading level0 row0\" >MARRIED</th>\n",
       "      <td id=\"T_ba3b6_row0_col0\" class=\"data row0 col0\" >191114</td>\n",
       "    </tr>\n",
       "    <tr>\n",
       "      <th id=\"T_ba3b6_level0_row1\" class=\"row_heading level0 row1\" >SINGLE</th>\n",
       "      <td id=\"T_ba3b6_row1_col0\" class=\"data row1 col0\" >171996</td>\n",
       "    </tr>\n",
       "    <tr>\n",
       "      <th id=\"T_ba3b6_level0_row2\" class=\"row_heading level0 row2\" >WIDOWED</th>\n",
       "      <td id=\"T_ba3b6_row2_col0\" class=\"data row2 col0\" >48334</td>\n",
       "    </tr>\n",
       "    <tr>\n",
       "      <th id=\"T_ba3b6_level0_row3\" class=\"row_heading level0 row3\" >DIVORCED</th>\n",
       "      <td id=\"T_ba3b6_row3_col0\" class=\"data row3 col0\" >33164</td>\n",
       "    </tr>\n",
       "  </tbody>\n",
       "</table>\n",
       "<style type=\"text/css\">\n",
       "</style>\n",
       "<table id=\"T_f1a85\" style='display:inline'>\n",
       "  <caption>race value_counts</caption>\n",
       "  <thead>\n",
       "    <tr>\n",
       "      <th class=\"blank level0\" >&nbsp;</th>\n",
       "      <th id=\"T_f1a85_level0_col0\" class=\"col_heading level0 col0\" >race</th>\n",
       "    </tr>\n",
       "  </thead>\n",
       "  <tbody>\n",
       "    <tr>\n",
       "      <th id=\"T_f1a85_level0_row0\" class=\"row_heading level0 row0\" >WHITE</th>\n",
       "      <td id=\"T_f1a85_row0_col0\" class=\"data row0 col0\" >287313</td>\n",
       "    </tr>\n",
       "    <tr>\n",
       "      <th id=\"T_f1a85_level0_row1\" class=\"row_heading level0 row1\" >BLACK/AFRICAN AMERICAN</th>\n",
       "      <td id=\"T_f1a85_row1_col0\" class=\"data row1 col0\" >63195</td>\n",
       "    </tr>\n",
       "    <tr>\n",
       "      <th id=\"T_f1a85_level0_row2\" class=\"row_heading level0 row2\" >OTHER</th>\n",
       "      <td id=\"T_f1a85_row2_col0\" class=\"data row2 col0\" >15865</td>\n",
       "    </tr>\n",
       "    <tr>\n",
       "      <th id=\"T_f1a85_level0_row3\" class=\"row_heading level0 row3\" >UNKNOWN</th>\n",
       "      <td id=\"T_f1a85_row3_col0\" class=\"data row3 col0\" >11237</td>\n",
       "    </tr>\n",
       "    <tr>\n",
       "      <th id=\"T_f1a85_level0_row4\" class=\"row_heading level0 row4\" >HISPANIC/LATINO - PUERTO RICAN</th>\n",
       "      <td id=\"T_f1a85_row4_col0\" class=\"data row4 col0\" >8591</td>\n",
       "    </tr>\n",
       "    <tr>\n",
       "      <th id=\"T_f1a85_level0_row5\" class=\"row_heading level0 row5\" >WHITE - OTHER EUROPEAN</th>\n",
       "      <td id=\"T_f1a85_row5_col0\" class=\"data row5 col0\" >8379</td>\n",
       "    </tr>\n",
       "    <tr>\n",
       "      <th id=\"T_f1a85_level0_row6\" class=\"row_heading level0 row6\" >HISPANIC OR LATINO</th>\n",
       "      <td id=\"T_f1a85_row6_col0\" class=\"data row6 col0\" >8250</td>\n",
       "    </tr>\n",
       "    <tr>\n",
       "      <th id=\"T_f1a85_level0_row7\" class=\"row_heading level0 row7\" >ASIAN</th>\n",
       "      <td id=\"T_f1a85_row7_col0\" class=\"data row7 col0\" >6520</td>\n",
       "    </tr>\n",
       "    <tr>\n",
       "      <th id=\"T_f1a85_level0_row8\" class=\"row_heading level0 row8\" >ASIAN - CHINESE</th>\n",
       "      <td id=\"T_f1a85_row8_col0\" class=\"data row8 col0\" >5865</td>\n",
       "    </tr>\n",
       "    <tr>\n",
       "      <th id=\"T_f1a85_level0_row9\" class=\"row_heading level0 row9\" >WHITE - RUSSIAN</th>\n",
       "      <td id=\"T_f1a85_row9_col0\" class=\"data row9 col0\" >5307</td>\n",
       "    </tr>\n",
       "    <tr>\n",
       "      <th id=\"T_f1a85_level0_row10\" class=\"row_heading level0 row10\" >BLACK/CAPE VERDEAN</th>\n",
       "      <td id=\"T_f1a85_row10_col0\" class=\"data row10 col0\" >5028</td>\n",
       "    </tr>\n",
       "    <tr>\n",
       "      <th id=\"T_f1a85_level0_row11\" class=\"row_heading level0 row11\" >HISPANIC/LATINO - DOMINICAN</th>\n",
       "      <td id=\"T_f1a85_row11_col0\" class=\"data row11 col0\" >4622</td>\n",
       "    </tr>\n",
       "    <tr>\n",
       "      <th id=\"T_f1a85_level0_row12\" class=\"row_heading level0 row12\" >BLACK/CARIBBEAN ISLAND</th>\n",
       "      <td id=\"T_f1a85_row12_col0\" class=\"data row12 col0\" >2801</td>\n",
       "    </tr>\n",
       "    <tr>\n",
       "      <th id=\"T_f1a85_level0_row13\" class=\"row_heading level0 row13\" >BLACK/AFRICAN</th>\n",
       "      <td id=\"T_f1a85_row13_col0\" class=\"data row13 col0\" >2676</td>\n",
       "    </tr>\n",
       "    <tr>\n",
       "      <th id=\"T_f1a85_level0_row14\" class=\"row_heading level0 row14\" >PATIENT DECLINED TO ANSWER</th>\n",
       "      <td id=\"T_f1a85_row14_col0\" class=\"data row14 col0\" >1845</td>\n",
       "    </tr>\n",
       "    <tr>\n",
       "      <th id=\"T_f1a85_level0_row15\" class=\"row_heading level0 row15\" >UNABLE TO OBTAIN</th>\n",
       "      <td id=\"T_f1a85_row15_col0\" class=\"data row15 col0\" >1684</td>\n",
       "    </tr>\n",
       "    <tr>\n",
       "      <th id=\"T_f1a85_level0_row16\" class=\"row_heading level0 row16\" >PORTUGUESE</th>\n",
       "      <td id=\"T_f1a85_row16_col0\" class=\"data row16 col0\" >1567</td>\n",
       "    </tr>\n",
       "  </tbody>\n",
       "</table>\n",
       "<style type=\"text/css\">\n",
       "</style>\n",
       "<table id=\"T_cf22f\" style='display:inline'>\n",
       "  <thead>\n",
       "    <tr>\n",
       "      <th class=\"blank level0\" >&nbsp;</th>\n",
       "      <th id=\"T_cf22f_level0_col0\" class=\"col_heading level0 col0\" >race</th>\n",
       "    </tr>\n",
       "  </thead>\n",
       "  <tbody>\n",
       "    <tr>\n",
       "      <th id=\"T_cf22f_level0_row0\" class=\"row_heading level0 row0\" >ASIAN - SOUTH EAST ASIAN</th>\n",
       "      <td id=\"T_cf22f_row0_col0\" class=\"data row0 col0\" >1527</td>\n",
       "    </tr>\n",
       "    <tr>\n",
       "      <th id=\"T_cf22f_level0_row1\" class=\"row_heading level0 row1\" >HISPANIC/LATINO - GUATEMALAN</th>\n",
       "      <td id=\"T_cf22f_row1_col0\" class=\"data row1 col0\" >1389</td>\n",
       "    </tr>\n",
       "    <tr>\n",
       "      <th id=\"T_cf22f_level0_row2\" class=\"row_heading level0 row2\" >ASIAN - ASIAN INDIAN</th>\n",
       "      <td id=\"T_cf22f_row2_col0\" class=\"data row2 col0\" >1265</td>\n",
       "    </tr>\n",
       "    <tr>\n",
       "      <th id=\"T_cf22f_level0_row3\" class=\"row_heading level0 row3\" >WHITE - EASTERN EUROPEAN</th>\n",
       "      <td id=\"T_cf22f_row3_col0\" class=\"data row3 col0\" >1253</td>\n",
       "    </tr>\n",
       "    <tr>\n",
       "      <th id=\"T_cf22f_level0_row4\" class=\"row_heading level0 row4\" >WHITE - BRAZILIAN</th>\n",
       "      <td id=\"T_cf22f_row4_col0\" class=\"data row4 col0\" >1176</td>\n",
       "    </tr>\n",
       "    <tr>\n",
       "      <th id=\"T_cf22f_level0_row5\" class=\"row_heading level0 row5\" >AMERICAN INDIAN/ALASKA NATIVE</th>\n",
       "      <td id=\"T_cf22f_row5_col0\" class=\"data row5 col0\" >984</td>\n",
       "    </tr>\n",
       "    <tr>\n",
       "      <th id=\"T_cf22f_level0_row6\" class=\"row_heading level0 row6\" >HISPANIC/LATINO - SALVADORAN</th>\n",
       "      <td id=\"T_cf22f_row6_col0\" class=\"data row6 col0\" >939</td>\n",
       "    </tr>\n",
       "    <tr>\n",
       "      <th id=\"T_cf22f_level0_row7\" class=\"row_heading level0 row7\" >HISPANIC/LATINO - MEXICAN</th>\n",
       "      <td id=\"T_cf22f_row7_col0\" class=\"data row7 col0\" >693</td>\n",
       "    </tr>\n",
       "    <tr>\n",
       "      <th id=\"T_cf22f_level0_row8\" class=\"row_heading level0 row8\" >HISPANIC/LATINO - COLUMBIAN</th>\n",
       "      <td id=\"T_cf22f_row8_col0\" class=\"data row8 col0\" >683</td>\n",
       "    </tr>\n",
       "    <tr>\n",
       "      <th id=\"T_cf22f_level0_row9\" class=\"row_heading level0 row9\" >MULTIPLE RACE/ETHNICITY</th>\n",
       "      <td id=\"T_cf22f_row9_col0\" class=\"data row9 col0\" >595</td>\n",
       "    </tr>\n",
       "    <tr>\n",
       "      <th id=\"T_cf22f_level0_row10\" class=\"row_heading level0 row10\" >HISPANIC/LATINO - HONDURAN</th>\n",
       "      <td id=\"T_cf22f_row10_col0\" class=\"data row10 col0\" >574</td>\n",
       "    </tr>\n",
       "    <tr>\n",
       "      <th id=\"T_cf22f_level0_row11\" class=\"row_heading level0 row11\" >ASIAN - KOREAN</th>\n",
       "      <td id=\"T_cf22f_row11_col0\" class=\"data row11 col0\" >544</td>\n",
       "    </tr>\n",
       "    <tr>\n",
       "      <th id=\"T_cf22f_level0_row12\" class=\"row_heading level0 row12\" >SOUTH AMERICAN</th>\n",
       "      <td id=\"T_cf22f_row12_col0\" class=\"data row12 col0\" >542</td>\n",
       "    </tr>\n",
       "    <tr>\n",
       "      <th id=\"T_cf22f_level0_row13\" class=\"row_heading level0 row13\" >HISPANIC/LATINO - CUBAN</th>\n",
       "      <td id=\"T_cf22f_row13_col0\" class=\"data row13 col0\" >529</td>\n",
       "    </tr>\n",
       "    <tr>\n",
       "      <th id=\"T_cf22f_level0_row14\" class=\"row_heading level0 row14\" >HISPANIC/LATINO - CENTRAL AMERICAN</th>\n",
       "      <td id=\"T_cf22f_row14_col0\" class=\"data row14 col0\" >481</td>\n",
       "    </tr>\n",
       "    <tr>\n",
       "      <th id=\"T_cf22f_level0_row15\" class=\"row_heading level0 row15\" >NATIVE HAWAIIAN OR OTHER PACIFIC ISLANDER</th>\n",
       "      <td id=\"T_cf22f_row15_col0\" class=\"data row15 col0\" >405</td>\n",
       "    </tr>\n",
       "  </tbody>\n",
       "</table>\n"
      ]
     },
     "metadata": {},
     "output_type": "display_data"
    }
   ],
   "source": [
    "columns = ['admission_type','discharge_location','insurance','language','marital_status','race']\n",
    "nachopy.display_sbs([admissions[col].value_counts() for col in columns],max_rows = 17, suffix = 'value_counts')"
   ]
  },
  {
   "cell_type": "markdown",
   "id": "0e40379a",
   "metadata": {},
   "source": [
    "Admission type seems quite relevant, we could look into doing some label encoding. Discharge location also looks relevant and should probably be used to update the class (\"event\"). Insurance relevant as well, as medicaid and medicare patients could have different outcomes than privately-insured. English and marital status will be added for now, although probably little relevance. Race may be relevant, could be added simply as a dummy column (1 if white, 0 otherwise). We will join now and adjust later during the EDA. "
   ]
  },
  {
   "cell_type": "code",
   "execution_count": 268,
   "id": "6ef2e5cc",
   "metadata": {
    "ExecuteTime": {
     "end_time": "2022-10-31T00:35:39.402154Z",
     "start_time": "2022-10-31T00:35:37.169527Z"
    }
   },
   "outputs": [
    {
     "name": "stdout",
     "output_type": "stream",
     "text": [
      "<class 'pandas.core.frame.DataFrame'>\n",
      "Int64Index: 1537372 entries, 0 to 1537371\n",
      "Data columns (total 18 columns):\n",
      " #   Column              Non-Null Count    Dtype         \n",
      "---  ------              --------------    -----         \n",
      " 0   subject_id          1537372 non-null  int64         \n",
      " 1   transfer_id         1537372 non-null  int64         \n",
      " 2   eventtype           1537372 non-null  object        \n",
      " 3   careunit            1537372 non-null  object        \n",
      " 4   intime              1537372 non-null  datetime64[ns]\n",
      " 5   outtime             1537372 non-null  datetime64[ns]\n",
      " 6   event               1537372 non-null  object        \n",
      " 7   duration            1537372 non-null  float64       \n",
      " 8   gender              1537372 non-null  object        \n",
      " 9   anchor_age          1537372 non-null  int64         \n",
      " 10  dod                 343945 non-null   datetime64[ns]\n",
      " 11  hadm_id             1189806 non-null  Int64         \n",
      " 12  admission_type      1189806 non-null  object        \n",
      " 13  discharge_location  931658 non-null   object        \n",
      " 14  insurance           1189806 non-null  object        \n",
      " 15  language            1189806 non-null  object        \n",
      " 16  marital_status      1160730 non-null  object        \n",
      " 17  race                1189806 non-null  object        \n",
      "dtypes: Int64(1), datetime64[ns](3), float64(1), int64(3), object(10)\n",
      "memory usage: 224.3+ MB\n"
     ]
    }
   ],
   "source": [
    "transfers['hadm_id_nans'] = transfers.hadm_id\n",
    "transfers.loc[transfers.hadm_id.isna(),'hadm_id'] =  transfers.index[transfers.hadm_id.isna()] # Just to try and fill most of them\n",
    "columns.append('hadm_id')\n",
    "transfers = pd.merge(transfers,admissions[columns], how = 'left', on = 'hadm_id')\n",
    "transfers.drop(columns = 'hadm_id',inplace = True)\n",
    "transfers.rename(columns = {'hadm_id_nans':'hadm_id'},inplace = True)\n",
    "transfers.info()"
   ]
  },
  {
   "cell_type": "markdown",
   "id": "fc8e6e8f",
   "metadata": {},
   "source": [
    "First, let's see if there are any subject_id that has a hadm_id on the admissions table but not on the transfers table. For race insurance and language there are no missing values on the admissions table, so we can try to retrieve them by updating using subject_id for the first occurence of these values"
   ]
  },
  {
   "cell_type": "code",
   "execution_count": 269,
   "id": "7debb8dc",
   "metadata": {
    "ExecuteTime": {
     "end_time": "2022-10-31T00:35:41.878126Z",
     "start_time": "2022-10-31T00:35:39.404073Z"
    },
    "scrolled": true
   },
   "outputs": [
    {
     "name": "stdout",
     "output_type": "stream",
     "text": [
      "<class 'pandas.core.frame.DataFrame'>\n",
      "Int64Index: 1537372 entries, 10000032 to 19999987\n",
      "Data columns (total 18 columns):\n",
      " #   Column              Non-Null Count    Dtype         \n",
      "---  ------              --------------    -----         \n",
      " 0   subject_id          1537372 non-null  int64         \n",
      " 1   transfer_id         1537372 non-null  int64         \n",
      " 2   eventtype           1537372 non-null  object        \n",
      " 3   careunit            1537372 non-null  object        \n",
      " 4   intime              1537372 non-null  datetime64[ns]\n",
      " 5   outtime             1537372 non-null  datetime64[ns]\n",
      " 6   event               1537372 non-null  object        \n",
      " 7   duration            1537372 non-null  float64       \n",
      " 8   gender              1537372 non-null  object        \n",
      " 9   anchor_age          1537372 non-null  int64         \n",
      " 10  dod                 343945 non-null   datetime64[ns]\n",
      " 11  hadm_id             1366352 non-null  object        \n",
      " 12  admission_type      1366352 non-null  object        \n",
      " 13  discharge_location  1240412 non-null  object        \n",
      " 14  insurance           1366352 non-null  object        \n",
      " 15  language            1366352 non-null  object        \n",
      " 16  marital_status      1340154 non-null  object        \n",
      " 17  race                1366352 non-null  object        \n",
      "dtypes: datetime64[ns](3), float64(1), int64(3), object(11)\n",
      "memory usage: 222.9+ MB\n"
     ]
    }
   ],
   "source": [
    "columns.append('subject_id')\n",
    "missing_rows = admissions[columns].groupby('subject_id').first()\n",
    "\n",
    "transfers.reset_index(drop = False)\n",
    "transfers.set_index('subject_id',drop = False,inplace = True)\n",
    "transfers.update(missing_rows)\n",
    "transfers.info()"
   ]
  },
  {
   "cell_type": "markdown",
   "id": "40256078",
   "metadata": {},
   "source": [
    "We have increased our number of hadm_ids and also the other new columns, which is good. We could now try to fill the missing values using values from the table itself."
   ]
  },
  {
   "cell_type": "markdown",
   "id": "b2715c59",
   "metadata": {},
   "source": [
    "No luck, we have only filled a few marital_status values (which are the most liable to change from the columns). We can maybe fill some features using the edstays from ED, let's try that"
   ]
  },
  {
   "cell_type": "code",
   "execution_count": 270,
   "id": "803b5617",
   "metadata": {
    "ExecuteTime": {
     "end_time": "2022-10-31T00:35:42.452601Z",
     "start_time": "2022-10-31T00:35:41.880049Z"
    }
   },
   "outputs": [
    {
     "data": {
      "text/html": [
       "<div>\n",
       "<style scoped>\n",
       "    .dataframe tbody tr th:only-of-type {\n",
       "        vertical-align: middle;\n",
       "    }\n",
       "\n",
       "    .dataframe tbody tr th {\n",
       "        vertical-align: top;\n",
       "    }\n",
       "\n",
       "    .dataframe thead th {\n",
       "        text-align: right;\n",
       "    }\n",
       "</style>\n",
       "<table border=\"1\" class=\"dataframe\">\n",
       "  <thead>\n",
       "    <tr style=\"text-align: right;\">\n",
       "      <th></th>\n",
       "      <th>subject_id</th>\n",
       "      <th>hadm_id</th>\n",
       "      <th>stay_id</th>\n",
       "      <th>intime</th>\n",
       "      <th>outtime</th>\n",
       "      <th>arrival_transport</th>\n",
       "      <th>disposition</th>\n",
       "    </tr>\n",
       "  </thead>\n",
       "  <tbody>\n",
       "    <tr>\n",
       "      <th>0</th>\n",
       "      <td>10000032</td>\n",
       "      <td>22595853.0</td>\n",
       "      <td>33258284</td>\n",
       "      <td>2180-05-06 19:17:00</td>\n",
       "      <td>2180-05-06 23:30:00</td>\n",
       "      <td>AMBULANCE</td>\n",
       "      <td>ADMITTED</td>\n",
       "    </tr>\n",
       "    <tr>\n",
       "      <th>1</th>\n",
       "      <td>10000032</td>\n",
       "      <td>22841357.0</td>\n",
       "      <td>38112554</td>\n",
       "      <td>2180-06-26 15:54:00</td>\n",
       "      <td>2180-06-26 21:31:00</td>\n",
       "      <td>AMBULANCE</td>\n",
       "      <td>ADMITTED</td>\n",
       "    </tr>\n",
       "    <tr>\n",
       "      <th>2</th>\n",
       "      <td>10000032</td>\n",
       "      <td>25742920.0</td>\n",
       "      <td>35968195</td>\n",
       "      <td>2180-08-05 20:58:00</td>\n",
       "      <td>2180-08-06 01:44:00</td>\n",
       "      <td>AMBULANCE</td>\n",
       "      <td>ADMITTED</td>\n",
       "    </tr>\n",
       "    <tr>\n",
       "      <th>3</th>\n",
       "      <td>10000032</td>\n",
       "      <td>29079034.0</td>\n",
       "      <td>32952584</td>\n",
       "      <td>2180-07-22 16:24:00</td>\n",
       "      <td>2180-07-23 05:54:00</td>\n",
       "      <td>AMBULANCE</td>\n",
       "      <td>HOME</td>\n",
       "    </tr>\n",
       "    <tr>\n",
       "      <th>4</th>\n",
       "      <td>10000032</td>\n",
       "      <td>29079034.0</td>\n",
       "      <td>39399961</td>\n",
       "      <td>2180-07-23 05:54:00</td>\n",
       "      <td>2180-07-23 14:00:00</td>\n",
       "      <td>AMBULANCE</td>\n",
       "      <td>ADMITTED</td>\n",
       "    </tr>\n",
       "  </tbody>\n",
       "</table>\n",
       "</div>"
      ],
      "text/plain": [
       "   subject_id     hadm_id   stay_id               intime              outtime  \\\n",
       "0    10000032  22595853.0  33258284  2180-05-06 19:17:00  2180-05-06 23:30:00   \n",
       "1    10000032  22841357.0  38112554  2180-06-26 15:54:00  2180-06-26 21:31:00   \n",
       "2    10000032  25742920.0  35968195  2180-08-05 20:58:00  2180-08-06 01:44:00   \n",
       "3    10000032  29079034.0  32952584  2180-07-22 16:24:00  2180-07-23 05:54:00   \n",
       "4    10000032  29079034.0  39399961  2180-07-23 05:54:00  2180-07-23 14:00:00   \n",
       "\n",
       "  arrival_transport disposition  \n",
       "0         AMBULANCE    ADMITTED  \n",
       "1         AMBULANCE    ADMITTED  \n",
       "2         AMBULANCE    ADMITTED  \n",
       "3         AMBULANCE        HOME  \n",
       "4         AMBULANCE    ADMITTED  "
      ]
     },
     "execution_count": 270,
     "metadata": {},
     "output_type": "execute_result"
    }
   ],
   "source": [
    "edstays = pd.read_csv('../Capstone data/MIMIC IV/ed/edstays.csv')\n",
    "edstays.head().drop(columns = ['race','gender']) # We will not show sensitive information that can help reidentify patients"
   ]
  },
  {
   "cell_type": "markdown",
   "id": "e651aabd",
   "metadata": {},
   "source": [
    "The ED collects different data than the hospital, which is unfortunate. We will leave these features as they are for now.carry out analysis regardless. It appears we can add race (we can just group by subject_id and then update the column with the first occurence."
   ]
  },
  {
   "cell_type": "code",
   "execution_count": 271,
   "id": "30c8f8ee",
   "metadata": {
    "ExecuteTime": {
     "end_time": "2022-10-31T00:35:44.280385Z",
     "start_time": "2022-10-31T00:35:42.455601Z"
    }
   },
   "outputs": [
    {
     "name": "stdout",
     "output_type": "stream",
     "text": [
      "<class 'pandas.core.frame.DataFrame'>\n",
      "Int64Index: 1537372 entries, 10000032 to 19999987\n",
      "Data columns (total 18 columns):\n",
      " #   Column              Non-Null Count    Dtype         \n",
      "---  ------              --------------    -----         \n",
      " 0   subject_id          1537372 non-null  int64         \n",
      " 1   transfer_id         1537372 non-null  int64         \n",
      " 2   eventtype           1537372 non-null  object        \n",
      " 3   careunit            1537372 non-null  object        \n",
      " 4   intime              1537372 non-null  datetime64[ns]\n",
      " 5   outtime             1537372 non-null  datetime64[ns]\n",
      " 6   event               1537372 non-null  object        \n",
      " 7   duration            1537372 non-null  float64       \n",
      " 8   gender              1537372 non-null  object        \n",
      " 9   anchor_age          1537372 non-null  int64         \n",
      " 10  dod                 343945 non-null   datetime64[ns]\n",
      " 11  hadm_id             1366352 non-null  object        \n",
      " 12  admission_type      1366352 non-null  object        \n",
      " 13  discharge_location  1240412 non-null  object        \n",
      " 14  insurance           1366352 non-null  object        \n",
      " 15  language            1366352 non-null  object        \n",
      " 16  marital_status      1340154 non-null  object        \n",
      " 17  race                1491654 non-null  object        \n",
      "dtypes: datetime64[ns](3), float64(1), int64(3), object(11)\n",
      "memory usage: 222.9+ MB\n"
     ]
    }
   ],
   "source": [
    "missing_rows = edstays[['hadm_id','race','subject_id']].groupby('subject_id').first()\n",
    "transfers.update(missing_rows)\n",
    "transfers.info()"
   ]
  },
  {
   "cell_type": "code",
   "execution_count": 272,
   "id": "bce778ab",
   "metadata": {
    "ExecuteTime": {
     "end_time": "2022-10-31T00:35:44.374361Z",
     "start_time": "2022-10-31T00:35:44.282185Z"
    },
    "scrolled": true
   },
   "outputs": [
    {
     "data": {
      "text/plain": [
       "1537372"
      ]
     },
     "execution_count": 272,
     "metadata": {},
     "output_type": "execute_result"
    }
   ],
   "source": [
    "transfers.transfer_id.nunique()"
   ]
  },
  {
   "cell_type": "markdown",
   "id": "1a153fc1",
   "metadata": {},
   "source": [
    "Now let's merge with prescriptions"
   ]
  },
  {
   "cell_type": "code",
   "execution_count": 273,
   "id": "369c103e",
   "metadata": {
    "ExecuteTime": {
     "end_time": "2022-10-31T00:35:46.337530Z",
     "start_time": "2022-10-31T00:35:44.376363Z"
    }
   },
   "outputs": [],
   "source": [
    "prescriptions = pd.read_pickle('../Capstone data/pickles/prescriptions_final.pkl')"
   ]
  },
  {
   "cell_type": "code",
   "execution_count": 274,
   "id": "3f013d5e",
   "metadata": {
    "ExecuteTime": {
     "end_time": "2022-10-31T00:35:46.931661Z",
     "start_time": "2022-10-31T00:35:46.339464Z"
    }
   },
   "outputs": [],
   "source": [
    "cat = list(prescriptions.drop(columns = ['subject_id','hadm_id','starttime']).columns)\n",
    "prescriptions[prescriptions.A<0] = 0\n",
    "\n",
    "prescriptions['pres_number'] = 1\n",
    "cat.append('pres_number')"
   ]
  },
  {
   "cell_type": "code",
   "execution_count": 275,
   "id": "eeef5b81",
   "metadata": {
    "ExecuteTime": {
     "end_time": "2022-10-31T00:35:47.256923Z",
     "start_time": "2022-10-31T00:35:46.933605Z"
    }
   },
   "outputs": [],
   "source": [
    "transfers2 = transfers.copy()"
   ]
  },
  {
   "cell_type": "code",
   "execution_count": null,
   "id": "b8d91f96",
   "metadata": {
    "ExecuteTime": {
     "start_time": "2022-10-31T00:35:35.110Z"
    }
   },
   "outputs": [],
   "source": [
    "# Initialising variables for loop\n",
    "# Getting only necessary columns for the row selection\n",
    "dfl = transfers[['subject_id','intime','outtime','transfer_id']].set_index('subject_id').sort_index()\n",
    "# Adding hadm_id because it will be useful to fill hadm_id column on transfers\n",
    "dfr = prescriptions.drop(columns = 'hadm_id').set_index('subject_id').sort_index() \n",
    "\n",
    "n = 15\n",
    "nums = copy.deepcopy(cat)\n",
    "non_nums = ['subject_id','intime','outtime','starttime']\n",
    "\n",
    "df_merged = pd.DataFrame(columns = nums)\n",
    "\n",
    "len_r = len(dfr)\n",
    "max_l = dfl.index.max()\n",
    "max_r = dfr.index.max()\n",
    "\n",
    "inc = round(len(dfr)/n)\n",
    "ind_r = copy.copy(inc)\n",
    "sub_1 = 0\n",
    "sub_2 = 0\n",
    "\n",
    "for i in range(n):\n",
    "    \n",
    "    ind_r += inc \n",
    "    if ind_r < len_r:\n",
    "        sub_2 = dfr.iloc[ind_r].name # Getting last index in increment \n",
    "    else:\n",
    "        sub_2 = max_l # Getting last subject on left (transfers) df when reaching the end of the df\n",
    "    \n",
    "    dfr_chunk = dfr.loc[sub_1:sub_2]\n",
    "    dfl_chunk = dfl.loc[sub_1:sub_2]\n",
    "    # Inner join as any rows without prescriptions are lost anyway (will be recovered later)\n",
    "    df_merging = pd.merge(dfl_chunk,dfr_chunk, on = 'subject_id') \n",
    "\n",
    "    # Selecting only rows where the prescription is between starttime and outtime \n",
    "    valid_rows = (df_merging.starttime>=df_merging.intime) & (df_merging.starttime<df_merging.outtime)\n",
    "    \n",
    "    df_merging = df_merging[valid_rows].reset_index(drop = False) # Putting subject_id away from index and back in columns\n",
    "    # Retrieving hadm_id from prescriptions to merge later\n",
    "    df_merging = df_merging.groupby('transfer_id')[nums].sum() # We sum to frequency encode prescriptions\n",
    "\n",
    "    df_merged = pd.concat([df_merged, df_merging],axis = 0)\n",
    "    \n",
    "    sub_1 = sub_2 + 1\n",
    "    \n",
    "    print(f'Loop {i + 1}/{n}',end='\\r')\n",
    "print()\n",
    "\n",
    "transfers.set_index('transfer_id',inplace = True)\n",
    "transfers = transfers.join(df_merged)"
   ]
  },
  {
   "cell_type": "code",
   "execution_count": null,
   "id": "6058a6c4",
   "metadata": {
    "ExecuteTime": {
     "start_time": "2022-10-31T00:35:35.112Z"
    }
   },
   "outputs": [],
   "source": [
    "transfers.info()"
   ]
  },
  {
   "cell_type": "code",
   "execution_count": null,
   "id": "7065b6ad",
   "metadata": {
    "ExecuteTime": {
     "start_time": "2022-10-31T00:35:35.115Z"
    }
   },
   "outputs": [],
   "source": [
    "transfers[cat] = transfers[cat].fillna(0)\n",
    "transfers[cat] = transfers[cat].astype('uint16')\n",
    "transfers['anchor_age'] = transfers.anchor_age.astype('uint8')\n",
    "transfers['hadm_id'] = transfers.hadm_id.astype('Int64')"
   ]
  },
  {
   "cell_type": "markdown",
   "id": "7ccabf69",
   "metadata": {
    "ExecuteTime": {
     "end_time": "2022-10-20T13:20:45.717303Z",
     "start_time": "2022-10-20T13:20:45.380996Z"
    }
   },
   "source": [
    "We are done with all the merging so for now, we will leave transfers_id as index, as it is a unique identifier of the rows. We will also save the df in our pickle jar as version 1 of the merging. In this pickle we will do an EDA and the feature selection. "
   ]
  },
  {
   "cell_type": "code",
   "execution_count": null,
   "id": "5d9320dd",
   "metadata": {
    "ExecuteTime": {
     "start_time": "2022-10-31T00:35:35.223Z"
    }
   },
   "outputs": [],
   "source": [
    "transfers.to_pickle('../Capstone data/pickles/transfers_v1.pkl')"
   ]
  },
  {
   "cell_type": "markdown",
   "id": "52c0224c",
   "metadata": {},
   "source": [
    "We filled around half of the remaining missing values for race. Now let's merge with prescriptions"
   ]
  },
  {
   "cell_type": "markdown",
   "id": "a5c46115",
   "metadata": {},
   "source": [
    "Dropping rows with unknown"
   ]
  },
  {
   "cell_type": "code",
   "execution_count": null,
   "id": "6d91fead",
   "metadata": {
    "ExecuteTime": {
     "end_time": "2022-10-19T22:05:37.031198Z",
     "start_time": "2022-10-19T22:05:37.031198Z"
    },
    "deletable": false,
    "editable": false,
    "run_control": {
     "frozen": true
    }
   },
   "outputs": [],
   "source": [
    "fig1 = plt.figure(figsize = (8,8))\n",
    "presperevent.sort_values().plot.barh()\n",
    "plt.title('Patients that ended up in oncology, cardiology and ICU-related\\ndepartments had many more prescriptions in previous transfer',pad = 15)\n",
    "plt.xlabel('Number of prescriptions per transfer')\n",
    "fig1.savefig('prespertransfervsunit.svg',bbox_inches='tight')"
   ]
  },
  {
   "cell_type": "code",
   "execution_count": null,
   "id": "fefce3cc",
   "metadata": {
    "ExecuteTime": {
     "end_time": "2022-10-19T22:05:37.032200Z",
     "start_time": "2022-10-19T22:05:37.032200Z"
    },
    "deletable": false,
    "editable": false,
    "run_control": {
     "frozen": true
    }
   },
   "outputs": [],
   "source": [
    "fig2 = plt.figure(figsize = (10,8))\n",
    "sns.heatmap(catsperevent.divide(presperevent, axis = 0)*100,cmap='viridis',xticklabels= True)\n",
    "plt.title('Patients that ended up in different departments were prescribed\\ndifferent types of drugs',pad = 15)\n",
    "plt.xlabel('Number of prescriptions per transfer')\n",
    "fig2.savefig('drugtypesvcareunit.svg',bbox_inches='tight')"
   ]
  },
  {
   "cell_type": "code",
   "execution_count": null,
   "id": "7646cd15",
   "metadata": {
    "ExecuteTime": {
     "end_time": "2022-10-19T22:05:37.033199Z",
     "start_time": "2022-10-19T22:05:37.033199Z"
    },
    "deletable": false,
    "editable": false,
    "run_control": {
     "frozen": true
    },
    "scrolled": false
   },
   "outputs": [],
   "source": [
    "cat = list('ABCDGHJLMNPRSV')\n",
    "cat.append('event')\n",
    "catsperevent = transfers[cat].groupby('event')\n",
    "catsperevent = catsperevent.sum()/catsperevent.count().sort_index()\n",
    "presperevent = catsperevent.sum(axis = 1).sort_index(ascending = False)\n",
    "\n",
    "fig,_ = plt.subplots(2,1,figsize = (8,15))\n",
    "\n",
    "plt.subplot(2,1,1)\n",
    "presperevent.sort_values().plot.barh()\n",
    "\n",
    "plt.subplot(2,1,2)\n",
    "sns.heatmap(catsperevent.divide(presperevent, axis = 0)*100,cmap='viridis')\n",
    "\n",
    "plt.show()\n"
   ]
  },
  {
   "cell_type": "code",
   "execution_count": null,
   "id": "eb52f76d",
   "metadata": {
    "ExecuteTime": {
     "end_time": "2022-10-19T22:05:37.034200Z",
     "start_time": "2022-10-19T22:05:37.034200Z"
    },
    "deletable": false,
    "editable": false,
    "run_control": {
     "frozen": true
    }
   },
   "outputs": [],
   "source": [
    "cat = list('ABCDGHJLMNPRSV')\n",
    "cat.append('event')\n",
    "catsperevent = transfers[cat].groupby('event')\n",
    "catsperevent = catsperevent.sum()/catsperevent.count()"
   ]
  },
  {
   "cell_type": "markdown",
   "id": "ca29706a",
   "metadata": {
    "deletable": false,
    "editable": false,
    "run_control": {
     "frozen": true
    }
   },
   "source": [
    "Okay, heatmap probably relevant, but I need to normalise the number of prescriptions per event by the duration of the stay"
   ]
  },
  {
   "cell_type": "code",
   "execution_count": null,
   "id": "eb384379",
   "metadata": {
    "ExecuteTime": {
     "end_time": "2022-10-19T22:05:37.035198Z",
     "start_time": "2022-10-19T22:05:37.035198Z"
    },
    "deletable": false,
    "editable": false,
    "run_control": {
     "frozen": true
    }
   },
   "outputs": [],
   "source": [
    "tran"
   ]
  },
  {
   "cell_type": "code",
   "execution_count": null,
   "id": "73bac84a",
   "metadata": {
    "deletable": false,
    "editable": false,
    "run_control": {
     "frozen": true
    }
   },
   "outputs": [],
   "source": []
  },
  {
   "cell_type": "code",
   "execution_count": null,
   "id": "d3054127",
   "metadata": {
    "deletable": false,
    "editable": false,
    "run_control": {
     "frozen": true
    }
   },
   "outputs": [],
   "source": []
  },
  {
   "cell_type": "code",
   "execution_count": null,
   "id": "bf3b5232",
   "metadata": {
    "deletable": false,
    "editable": false,
    "run_control": {
     "frozen": true
    }
   },
   "outputs": [],
   "source": []
  },
  {
   "cell_type": "code",
   "execution_count": null,
   "id": "5916ef43",
   "metadata": {
    "deletable": false,
    "editable": false,
    "run_control": {
     "frozen": true
    }
   },
   "outputs": [],
   "source": []
  },
  {
   "cell_type": "code",
   "execution_count": null,
   "id": "6554409d",
   "metadata": {
    "ExecuteTime": {
     "end_time": "2022-10-19T22:05:37.036199Z",
     "start_time": "2022-10-19T22:05:37.036199Z"
    },
    "deletable": false,
    "editable": false,
    "run_control": {
     "frozen": true
    }
   },
   "outputs": [],
   "source": [
    "poe = pd.read_csv('../Capstone data/MIMIC IV/poe.csv')"
   ]
  },
  {
   "cell_type": "code",
   "execution_count": null,
   "id": "423165ec",
   "metadata": {
    "ExecuteTime": {
     "end_time": "2022-10-19T22:05:37.037197Z",
     "start_time": "2022-10-19T22:05:37.037197Z"
    },
    "deletable": false,
    "editable": false,
    "run_control": {
     "frozen": true
    }
   },
   "outputs": [],
   "source": [
    "transfers[cat]"
   ]
  },
  {
   "cell_type": "code",
   "execution_count": null,
   "id": "e6b22e0f",
   "metadata": {
    "ExecuteTime": {
     "end_time": "2022-10-19T22:05:37.038198Z",
     "start_time": "2022-10-19T22:05:37.038198Z"
    },
    "deletable": false,
    "editable": false,
    "run_control": {
     "frozen": true
    }
   },
   "outputs": [],
   "source": [
    "poe.order_type.value_counts(normalize = True)\n"
   ]
  },
  {
   "cell_type": "code",
   "execution_count": null,
   "id": "836fc25b",
   "metadata": {
    "ExecuteTime": {
     "end_time": "2022-10-19T22:05:37.039199Z",
     "start_time": "2022-10-19T22:05:37.039199Z"
    },
    "deletable": false,
    "editable": false,
    "run_control": {
     "frozen": true
    }
   },
   "outputs": [],
   "source": [
    "cap_utils.display_sbs(['Order subtype value counts'],poe.order_subtype.value_counts(normalize = True))"
   ]
  },
  {
   "cell_type": "markdown",
   "id": "bad7b468",
   "metadata": {
    "deletable": false,
    "editable": false,
    "run_control": {
     "frozen": true
    }
   },
   "source": [
    "Probably dropping medications? Could add order sub type and filling the empty values (loads) with the simple order type?"
   ]
  },
  {
   "cell_type": "code",
   "execution_count": null,
   "id": "fbb02ae0",
   "metadata": {
    "ExecuteTime": {
     "end_time": "2022-10-19T22:05:37.041198Z",
     "start_time": "2022-10-19T22:05:37.041198Z"
    },
    "deletable": false,
    "editable": false,
    "run_control": {
     "frozen": true
    }
   },
   "outputs": [],
   "source": [
    "ed_dupl = edstays.drop(columns = 'stay_id').duplicated()\n",
    "print(ed_dupl.sum())\n",
    "edstays = edstays[~ed_dupl]"
   ]
  },
  {
   "cell_type": "code",
   "execution_count": null,
   "id": "ec22299d",
   "metadata": {
    "ExecuteTime": {
     "end_time": "2022-10-19T22:05:37.042198Z",
     "start_time": "2022-10-19T22:05:37.042198Z"
    },
    "deletable": false,
    "editable": false,
    "run_control": {
     "frozen": true
    }
   },
   "outputs": [],
   "source": [
    "edstays.info()"
   ]
  },
  {
   "cell_type": "code",
   "execution_count": null,
   "id": "7f38868b",
   "metadata": {
    "ExecuteTime": {
     "end_time": "2022-10-19T22:05:37.043197Z",
     "start_time": "2022-10-19T22:05:37.043197Z"
    },
    "deletable": false,
    "editable": false,
    "run_control": {
     "frozen": true
    }
   },
   "outputs": [],
   "source": [
    "uniqueid_set = set(transfers.hadm_id.unique())\n",
    "hadm_len = len(uniqueid_set)\n",
    "unique_stayid = edstays.stay_id.unique()\n",
    "stay_len = len(unique_stayid)\n",
    "set_len = 0\n",
    "i = 0\n",
    "while (len(uniqueid_set) > set_len) & (i<stay_len):\n",
    "    set_len = len(uniqueid_set)\n",
    "    uniqueid_set.add(unique_stayid[i])\n",
    "    i +=1\n",
    "if set_len == hadm_len + stay_len-1:\n",
    "    print('All good')\n",
    "else:\n",
    "    print('caca')"
   ]
  },
  {
   "cell_type": "code",
   "execution_count": null,
   "id": "b26a75d3",
   "metadata": {
    "ExecuteTime": {
     "end_time": "2022-10-19T22:05:37.044198Z",
     "start_time": "2022-10-19T22:05:37.044198Z"
    },
    "deletable": false,
    "editable": false,
    "run_control": {
     "frozen": true
    }
   },
   "outputs": [],
   "source": [
    "edstays = edstays[['subject_id','stay_id','intime','outtime']]"
   ]
  },
  {
   "cell_type": "code",
   "execution_count": null,
   "id": "69bf7310",
   "metadata": {
    "ExecuteTime": {
     "end_time": "2022-10-19T22:05:37.045198Z",
     "start_time": "2022-10-19T22:05:37.045198Z"
    },
    "deletable": false,
    "editable": false,
    "run_control": {
     "frozen": true
    }
   },
   "outputs": [],
   "source": [
    "edstays.info()"
   ]
  },
  {
   "cell_type": "code",
   "execution_count": null,
   "id": "7fd1a593",
   "metadata": {
    "ExecuteTime": {
     "end_time": "2022-10-19T22:05:37.046198Z",
     "start_time": "2022-10-19T22:05:37.046198Z"
    },
    "deletable": false,
    "editable": false,
    "run_control": {
     "frozen": true
    }
   },
   "outputs": [],
   "source": [
    "edstays['intime'] = pd.to_datetime(edstays.intime,infer_datetime_format=True)\n",
    "edstays['outtime'] = pd.to_datetime(edstays.outtime,infer_datetime_format=True)"
   ]
  },
  {
   "cell_type": "code",
   "execution_count": null,
   "id": "ac2362ea",
   "metadata": {
    "ExecuteTime": {
     "end_time": "2022-10-19T22:05:37.047200Z",
     "start_time": "2022-10-19T22:05:37.047200Z"
    },
    "deletable": false,
    "editable": false,
    "run_control": {
     "frozen": true
    }
   },
   "outputs": [],
   "source": [
    "ed_dupl = edstays.drop(columns = 'stay_id').duplicated()\n",
    "print(ed_dupl.sum())\n",
    "edstays = edstays[~ed_dupl]"
   ]
  },
  {
   "cell_type": "code",
   "execution_count": null,
   "id": "0ed2c390",
   "metadata": {
    "ExecuteTime": {
     "end_time": "2022-10-19T22:05:37.049198Z",
     "start_time": "2022-10-19T22:05:37.049198Z"
    },
    "deletable": false,
    "editable": false,
    "run_control": {
     "frozen": true
    }
   },
   "outputs": [],
   "source": [
    "transfers = transfers.merge(\n",
    "                        edstays,\n",
    "                        left_on = ['subject_id','intime','outtime'], \n",
    "                        right_on = ['subject_id','intime','outtime'],\n",
    "                        how = 'left',\n",
    "                        copy = False)"
   ]
  },
  {
   "cell_type": "code",
   "execution_count": null,
   "id": "5f2656c9",
   "metadata": {
    "ExecuteTime": {
     "end_time": "2022-10-19T22:05:37.050200Z",
     "start_time": "2022-10-19T22:05:37.050200Z"
    },
    "deletable": false,
    "editable": false,
    "run_control": {
     "frozen": true
    }
   },
   "outputs": [],
   "source": [
    "transfers.loc[transfers.hadm_id.isna(),'hadm_id'] = transfers.loc[transfers.hadm_id.isna(),'stay_id']\n",
    "sum(transfers.hadm_id.isna())"
   ]
  },
  {
   "cell_type": "code",
   "execution_count": null,
   "id": "bbf99e98",
   "metadata": {
    "deletable": false,
    "editable": false,
    "run_control": {
     "frozen": true
    }
   },
   "outputs": [],
   "source": []
  },
  {
   "cell_type": "code",
   "execution_count": null,
   "id": "78261149",
   "metadata": {
    "deletable": false,
    "editable": false,
    "run_control": {
     "frozen": true
    }
   },
   "outputs": [],
   "source": []
  },
  {
   "cell_type": "code",
   "execution_count": null,
   "id": "992423d8",
   "metadata": {
    "deletable": false,
    "editable": false,
    "run_control": {
     "frozen": true
    }
   },
   "outputs": [],
   "source": []
  },
  {
   "cell_type": "code",
   "execution_count": null,
   "id": "346827fe",
   "metadata": {
    "deletable": false,
    "editable": false,
    "run_control": {
     "frozen": true
    }
   },
   "outputs": [],
   "source": []
  },
  {
   "cell_type": "code",
   "execution_count": null,
   "id": "ad587474",
   "metadata": {
    "ExecuteTime": {
     "end_time": "2022-10-19T22:05:37.051200Z",
     "start_time": "2022-10-19T22:05:37.051200Z"
    },
    "deletable": false,
    "editable": false,
    "run_control": {
     "frozen": true
    }
   },
   "outputs": [],
   "source": [
    "transfers.careunit.value_counts()"
   ]
  },
  {
   "cell_type": "code",
   "execution_count": null,
   "id": "a8b8a681",
   "metadata": {
    "deletable": false,
    "editable": false,
    "run_control": {
     "frozen": true
    },
    "scrolled": true
   },
   "outputs": [],
   "source": [
    "cat_pres.A.value_counts(normalize = True)*100"
   ]
  },
  {
   "cell_type": "code",
   "execution_count": null,
   "id": "2d1ba554",
   "metadata": {
    "deletable": false,
    "editable": false,
    "run_control": {
     "frozen": true
    }
   },
   "outputs": [],
   "source": [
    "unclass_drugs = cat_pres.drug[cat_pres.A<0].drop_duplicates()\n",
    "udrugs_gsnvc = cat_pres.gsn[cat_pres.A<0].value_counts()\n",
    "gsn_udrugs = udrugs_gsnvc[udrugs_gsnvc>1].index.values"
   ]
  },
  {
   "cell_type": "code",
   "execution_count": null,
   "id": "a72c3fb7",
   "metadata": {
    "deletable": false,
    "editable": false,
    "run_control": {
     "frozen": true
    }
   },
   "outputs": [],
   "source": [
    "cat.append('gsn')\n",
    "cat_gsn = cat_pres.loc[cat_pres.gsn.isin(gsn_udrugs),cat].groupby('gsn').max()\n",
    "cat_gsn = cat_gsn[cat_gsn.A>-1]\n",
    "cat_gsn"
   ]
  },
  {
   "cell_type": "code",
   "execution_count": null,
   "id": "85475b2d",
   "metadata": {
    "deletable": false,
    "editable": false,
    "run_control": {
     "frozen": true
    }
   },
   "outputs": [],
   "source": [
    "cat = cat[:-1]\n",
    "cat_pres[cat] = cat_pres[cat].where(cat_pres[cat]>=0)"
   ]
  },
  {
   "cell_type": "code",
   "execution_count": null,
   "id": "27529320",
   "metadata": {
    "deletable": false,
    "editable": false,
    "run_control": {
     "frozen": true
    }
   },
   "outputs": [],
   "source": [
    "cat_pres.set_index(ind,append = True)"
   ]
  },
  {
   "cell_type": "code",
   "execution_count": null,
   "id": "558a48a7",
   "metadata": {
    "deletable": false,
    "editable": false,
    "run_control": {
     "frozen": true
    }
   },
   "outputs": [],
   "source": [
    "cat_pres.set_index('gsn', inplace = True)\n",
    "cat_pres.update(cat_gsn)\n",
    "cat_pres.set_index(ind)"
   ]
  },
  {
   "cell_type": "code",
   "execution_count": null,
   "id": "373ea0ac",
   "metadata": {
    "deletable": false,
    "editable": false,
    "run_control": {
     "frozen": true
    }
   },
   "outputs": [],
   "source": [
    "cat_pres.head()"
   ]
  },
  {
   "cell_type": "code",
   "execution_count": null,
   "id": "62ede993",
   "metadata": {
    "deletable": false,
    "editable": false,
    "run_control": {
     "frozen": true
    }
   },
   "outputs": [],
   "source": [
    "sum(cat_pres.drug.str.contains('polyvalent'))"
   ]
  },
  {
   "cell_type": "code",
   "execution_count": null,
   "id": "9538c3a8",
   "metadata": {
    "deletable": false,
    "editable": false,
    "run_control": {
     "frozen": true
    }
   },
   "outputs": [],
   "source": [
    "cat_pres.gsn[misspelt_drugs_bool].value_counts().describe()"
   ]
  },
  {
   "cell_type": "code",
   "execution_count": null,
   "id": "70ad53aa",
   "metadata": {
    "deletable": false,
    "editable": false,
    "run_control": {
     "frozen": true
    }
   },
   "outputs": [],
   "source": [
    "(5303415+7791711)/len(cat_pres)"
   ]
  },
  {
   "cell_type": "code",
   "execution_count": null,
   "id": "e92088ad",
   "metadata": {
    "deletable": false,
    "editable": false,
    "run_control": {
     "frozen": true
    }
   },
   "outputs": [],
   "source": []
  },
  {
   "cell_type": "code",
   "execution_count": null,
   "id": "f180a082",
   "metadata": {
    "deletable": false,
    "editable": false,
    "run_control": {
     "frozen": true
    }
   },
   "outputs": [],
   "source": []
  },
  {
   "cell_type": "code",
   "execution_count": null,
   "id": "83b9b6d9",
   "metadata": {
    "deletable": false,
    "editable": false,
    "run_control": {
     "frozen": true
    }
   },
   "outputs": [],
   "source": []
  },
  {
   "cell_type": "code",
   "execution_count": null,
   "id": "f7f97f26",
   "metadata": {
    "deletable": false,
    "editable": false,
    "run_control": {
     "frozen": true
    }
   },
   "outputs": [],
   "source": [
    "cat"
   ]
  },
  {
   "cell_type": "code",
   "execution_count": null,
   "id": "cdf58a45",
   "metadata": {
    "deletable": false,
    "editable": false,
    "run_control": {
     "frozen": true
    }
   },
   "outputs": [],
   "source": [
    "cat = list('ABCDGHJLMNPRSV')\n",
    "cat.append('drug')\n",
    "cat_drug = cat_pres[cat].fillna(0.0001).groupby('formulary_drug_cd',dropna = False).sum()\n",
    "cat_drug"
   ]
  },
  {
   "cell_type": "code",
   "execution_count": null,
   "id": "4f0639ad",
   "metadata": {
    "deletable": false,
    "editable": false,
    "run_control": {
     "frozen": true
    }
   },
   "outputs": [],
   "source": []
  },
  {
   "cell_type": "code",
   "execution_count": null,
   "id": "87786be5",
   "metadata": {
    "deletable": false,
    "editable": false,
    "run_control": {
     "frozen": true
    }
   },
   "outputs": [],
   "source": [
    "atr4_pres.atc4_name.nunique()"
   ]
  },
  {
   "cell_type": "markdown",
   "id": "bc492f33",
   "metadata": {
    "deletable": false,
    "editable": false,
    "run_control": {
     "frozen": true
    }
   },
   "source": [
    "The missing values labelled as 0 are now empty strings due to the conversion. There may be other values that are not 0, maybe even some could be in other ndc formats (hyphenated or with less digits). We can find out how many rows have which number of digits."
   ]
  },
  {
   "cell_type": "markdown",
   "id": "3ea91aca",
   "metadata": {
    "deletable": false,
    "editable": false,
    "run_control": {
     "frozen": true
    }
   },
   "source": [
    "So all fields that do not have 9-digit numbers have no digits. We can consider all of these as missing values."
   ]
  },
  {
   "cell_type": "markdown",
   "id": "7bda0099",
   "metadata": {
    "deletable": false,
    "editable": false,
    "run_control": {
     "frozen": true
    }
   },
   "source": [
    "More than 12% of ndc fields are missing. Some of the drugs listed here may not have an ndc (Sodium Chloride flush on 2nd row for instance), but others may be mistakes. NDC is specific to product, not to drug (same drug from different companies will have a different code) so filling from the table would not be very accurate. Given that what we need the NDC just to classify our drugs, we will leave these fields blank and will fill the categories instead after NDC-matching.\n"
   ]
  },
  {
   "cell_type": "code",
   "execution_count": null,
   "id": "229ef0de",
   "metadata": {
    "deletable": false,
    "editable": false,
    "run_control": {
     "frozen": true
    }
   },
   "outputs": [],
   "source": [
    "prescriptions.ndc[~missing_ndc].drop_duplicates().to_csv('Unique_NDCs.csv')"
   ]
  },
  {
   "cell_type": "markdown",
   "id": "f411d1f5",
   "metadata": {
    "deletable": false,
    "editable": false,
    "run_control": {
     "frozen": true
    }
   },
   "source": [
    "Let us see if we can fill these missing values by using the other fields in the table. pharmacy_id, gsn, drug and formulary_drug_cd could be used for this."
   ]
  },
  {
   "cell_type": "code",
   "execution_count": null,
   "id": "cb1ce5d9",
   "metadata": {
    "deletable": false,
    "editable": false,
    "run_control": {
     "frozen": true
    }
   },
   "outputs": [],
   "source": [
    "prescriptions.formulary_drug_cd.info()"
   ]
  },
  {
   "cell_type": "code",
   "execution_count": null,
   "id": "3457a8da",
   "metadata": {
    "deletable": false,
    "editable": false,
    "run_control": {
     "frozen": true
    }
   },
   "outputs": [],
   "source": [
    "fdrugna = prescriptions[prescriptions.formulary_drug_cd.isna()]"
   ]
  },
  {
   "cell_type": "code",
   "execution_count": null,
   "id": "9807b9d0",
   "metadata": {
    "deletable": false,
    "editable": false,
    "run_control": {
     "frozen": true
    }
   },
   "outputs": [],
   "source": [
    "def df_filler(x):\n",
    "    \n",
    "\n",
    "prescriptions.formulary_drug_cd[prescriptions.drug.isin(fdrugna.drug)].isna()"
   ]
  },
  {
   "cell_type": "code",
   "execution_count": null,
   "id": "54a02f04",
   "metadata": {
    "deletable": false,
    "editable": false,
    "run_control": {
     "frozen": true
    }
   },
   "outputs": [],
   "source": [
    "prescriptions.gsn.value_counts()"
   ]
  },
  {
   "cell_type": "code",
   "execution_count": null,
   "id": "888b8515",
   "metadata": {
    "deletable": false,
    "editable": false,
    "run_control": {
     "frozen": true
    }
   },
   "outputs": [],
   "source": [
    "prescriptions.pharmacy_id.value_counts()"
   ]
  },
  {
   "cell_type": "code",
   "execution_count": null,
   "id": "36c18913",
   "metadata": {
    "deletable": false,
    "editable": false,
    "run_control": {
     "frozen": true
    }
   },
   "outputs": [],
   "source": [
    "prescriptions.formulary_drug_cd.value_counts()"
   ]
  },
  {
   "cell_type": "code",
   "execution_count": null,
   "id": "cb311fdf",
   "metadata": {
    "deletable": false,
    "editable": false,
    "run_control": {
     "frozen": true
    }
   },
   "outputs": [],
   "source": [
    "prescriptions.formulary_drug_cd.info()"
   ]
  },
  {
   "cell_type": "code",
   "execution_count": null,
   "id": "beab344e",
   "metadata": {
    "deletable": false,
    "editable": false,
    "run_control": {
     "frozen": true
    }
   },
   "outputs": [],
   "source": [
    "prescriptions.drug = prescriptions.drug.str.lower()\n",
    "prescriptions.drug.value_counts().describe()"
   ]
  },
  {
   "cell_type": "code",
   "execution_count": null,
   "id": "b6b2de19",
   "metadata": {
    "deletable": false,
    "editable": false,
    "run_control": {
     "frozen": true
    }
   },
   "outputs": [],
   "source": [
    "ndc_bool = prescriptions.ndc!=u'' & prescriptions \n",
    "print(sum(ndc_bool))\n",
    "print(sum(~ndc_bool))"
   ]
  },
  {
   "cell_type": "code",
   "execution_count": null,
   "id": "557bc9d0",
   "metadata": {
    "deletable": false,
    "editable": false,
    "run_control": {
     "frozen": true
    }
   },
   "outputs": [],
   "source": [
    "elswhr_bool = prescriptions.loc[~ndc_bool,'drug'].isin(prescriptions.loc[ndc_bool,'drug'])\n",
    "print(round(sum(elswhr_bool)/sum(~ndc_bool)*100,2))"
   ]
  },
  {
   "cell_type": "code",
   "execution_count": null,
   "id": "388b91bf",
   "metadata": {
    "deletable": false,
    "editable": false,
    "run_control": {
     "frozen": true
    }
   },
   "outputs": [],
   "source": [
    "prescriptions.loc[elswhr_bool,'ndc'] = prescriptions.loc[ndc_bool*prescriptions.,'ndc']"
   ]
  },
  {
   "cell_type": "code",
   "execution_count": null,
   "id": "4498b3f9",
   "metadata": {
    "deletable": false,
    "editable": false,
    "run_control": {
     "frozen": true
    }
   },
   "outputs": [],
   "source": [
    "prescriptions.ndc.nunique()"
   ]
  },
  {
   "cell_type": "code",
   "execution_count": null,
   "id": "b383b0dc",
   "metadata": {
    "deletable": false,
    "editable": false,
    "run_control": {
     "frozen": true
    }
   },
   "outputs": [],
   "source": [
    "import numpy as np"
   ]
  },
  {
   "cell_type": "code",
   "execution_count": null,
   "id": "e96a833c",
   "metadata": {
    "deletable": false,
    "editable": false,
    "run_control": {
     "frozen": true
    }
   },
   "outputs": [],
   "source": [
    "medication = pd.read_json(r'C:\\Users\\Nacho\\Downloads\\Medication.ndjson', lines = True)"
   ]
  },
  {
   "cell_type": "code",
   "execution_count": null,
   "id": "9126f251",
   "metadata": {
    "deletable": false,
    "editable": false,
    "run_control": {
     "frozen": true
    }
   },
   "outputs": [],
   "source": [
    "medication.shape"
   ]
  },
  {
   "cell_type": "code",
   "execution_count": null,
   "id": "4a4b5069",
   "metadata": {
    "deletable": false,
    "editable": false,
    "run_control": {
     "frozen": true
    }
   },
   "outputs": [],
   "source": [
    "prescriptions.ndc.head()"
   ]
  },
  {
   "cell_type": "code",
   "execution_count": null,
   "id": "051e4488",
   "metadata": {
    "deletable": false,
    "editable": false,
    "run_control": {
     "frozen": true
    }
   },
   "outputs": [],
   "source": [
    "ndc_desc = pd.read_csv(\"G:\\My Drive\\Brainstation\\Capstone project\\product.csv\",usecols = ['PRODUCTNDC','NONPROPRIETARYNAME','PHARM_CLASSES'])"
   ]
  },
  {
   "cell_type": "code",
   "execution_count": null,
   "id": "ebfc7887",
   "metadata": {
    "deletable": false,
    "editable": false,
    "run_control": {
     "frozen": true
    }
   },
   "outputs": [],
   "source": [
    "ndc_desc = ndc_desc.loc[~ndc_desc.PHARM_CLASSES.isna()].reset_index(drop = True)"
   ]
  },
  {
   "cell_type": "code",
   "execution_count": null,
   "id": "ca34f015",
   "metadata": {
    "deletable": false,
    "editable": false,
    "run_control": {
     "frozen": true
    }
   },
   "outputs": [],
   "source": [
    "ndc_desc.head()"
   ]
  },
  {
   "cell_type": "code",
   "execution_count": null,
   "id": "f95d32c0",
   "metadata": {
    "deletable": false,
    "editable": false,
    "run_control": {
     "frozen": true
    }
   },
   "outputs": [],
   "source": [
    "def sht2nineNDC(x):\n",
    "    x = x.split('-')\n",
    "    x = x[0].zfill(5) + x[1].zfill(4)\n",
    "    \n",
    "    return x\n",
    "    \n",
    "\n",
    "ndc_desc.PRODUCTNDC = ndc_desc.PRODUCTNDC.apply(sht2nineNDC)"
   ]
  },
  {
   "cell_type": "code",
   "execution_count": null,
   "id": "e439199c",
   "metadata": {
    "deletable": false,
    "editable": false,
    "run_control": {
     "frozen": true
    }
   },
   "outputs": [],
   "source": [
    "ndc_desc.PRODUCTNDC.head()"
   ]
  },
  {
   "cell_type": "code",
   "execution_count": null,
   "id": "c3338cf3",
   "metadata": {
    "deletable": false,
    "editable": false,
    "run_control": {
     "frozen": true
    }
   },
   "outputs": [],
   "source": [
    "classpername = ndc_desc[['NONPROPRIETARYNAME','PHARM_CLASSES']].groupby('NONPROPRIETARYNAME').nunique()"
   ]
  },
  {
   "cell_type": "code",
   "execution_count": null,
   "id": "3538812a",
   "metadata": {
    "deletable": false,
    "editable": false,
    "run_control": {
     "frozen": true
    }
   },
   "outputs": [],
   "source": [
    "classperndc = ndc_desc[['PRODUCTNDC','PHARM_CLASSES']].groupby('PRODUCTNDC').nunique()"
   ]
  },
  {
   "cell_type": "code",
   "execution_count": null,
   "id": "5bd99d0e",
   "metadata": {
    "deletable": false,
    "editable": false,
    "run_control": {
     "frozen": true
    }
   },
   "outputs": [],
   "source": [
    "classpername.value_counts()"
   ]
  },
  {
   "cell_type": "code",
   "execution_count": null,
   "id": "8f4b94a4",
   "metadata": {
    "deletable": false,
    "editable": false,
    "run_control": {
     "frozen": true
    }
   },
   "outputs": [],
   "source": [
    "classperndc.value_counts()"
   ]
  },
  {
   "cell_type": "code",
   "execution_count": null,
   "id": "ccb1934a",
   "metadata": {
    "deletable": false,
    "editable": false,
    "run_control": {
     "frozen": true
    }
   },
   "outputs": [],
   "source": [
    "np.mean(prescriptions.ndc.isna())*100"
   ]
  },
  {
   "cell_type": "code",
   "execution_count": null,
   "id": "20ab4066",
   "metadata": {
    "deletable": false,
    "editable": false,
    "run_control": {
     "frozen": true
    },
    "scrolled": true
   },
   "outputs": [],
   "source": [
    "prescriptions.loc[prescriptions.ndc.isna()].head(10)"
   ]
  },
  {
   "cell_type": "code",
   "execution_count": null,
   "id": "21a5ff77",
   "metadata": {
    "deletable": false,
    "editable": false,
    "run_control": {
     "frozen": true
    }
   },
   "outputs": [],
   "source": [
    "ndc_desc.rename(columns = {'PRODUCTNDC' : 'ndc'},inplace = True)"
   ]
  },
  {
   "cell_type": "code",
   "execution_count": null,
   "id": "2bc66cbb",
   "metadata": {
    "deletable": false,
    "editable": false,
    "run_control": {
     "frozen": true
    }
   },
   "outputs": [],
   "source": [
    "presfinal = pd.merge(prescriptions,ndc_desc, how = 'left',on = 'ndc')"
   ]
  },
  {
   "cell_type": "code",
   "execution_count": null,
   "id": "5b77297d",
   "metadata": {
    "deletable": false,
    "editable": false,
    "run_control": {
     "frozen": true
    }
   },
   "outputs": [],
   "source": [
    "np.mean(presfinal.PHARM_CLASSES.isna())"
   ]
  },
  {
   "cell_type": "code",
   "execution_count": null,
   "id": "e6ddbf13",
   "metadata": {
    "deletable": false,
    "editable": false,
    "run_control": {
     "frozen": true
    }
   },
   "outputs": [],
   "source": [
    "np.mean(presfinal.NONPROPRIETARYNAME.isna())"
   ]
  },
  {
   "cell_type": "code",
   "execution_count": null,
   "id": "56ae3526",
   "metadata": {
    "deletable": false,
    "editable": false,
    "run_control": {
     "frozen": true
    }
   },
   "outputs": [],
   "source": [
    "presfinal[['ndc','drug','NONPROPRIETARYNAME','PHARM_CLASSES']]"
   ]
  },
  {
   "cell_type": "code",
   "execution_count": null,
   "id": "21dfadce",
   "metadata": {
    "deletable": false,
    "editable": false,
    "run_control": {
     "frozen": true
    }
   },
   "outputs": [],
   "source": [
    "presfinal.hadm_id.nunique()"
   ]
  },
  {
   "cell_type": "code",
   "execution_count": null,
   "id": "08366bdf",
   "metadata": {
    "deletable": false,
    "editable": false,
    "run_control": {
     "frozen": true
    }
   },
   "outputs": [],
   "source": [
    "len(presfinal.PHARM_CLASSES.isna())-sum(presfinal.PHARM_CLASSES.isna())"
   ]
  },
  {
   "cell_type": "code",
   "execution_count": null,
   "id": "8215c795",
   "metadata": {
    "deletable": false,
    "editable": false,
    "run_control": {
     "frozen": true
    }
   },
   "outputs": [],
   "source": [
    "classperhadm = presfinal[['PHARM_CLASSES','hadm_id']].groupby('hadm_id').nunique()\n",
    "classperhadm.describe()"
   ]
  },
  {
   "cell_type": "code",
   "execution_count": null,
   "id": "9e2fad15",
   "metadata": {
    "deletable": false,
    "editable": false,
    "run_control": {
     "frozen": true
    }
   },
   "outputs": [],
   "source": [
    "classperhadm.loc[classperhadm.PHARM_CLASSES == 0].count()"
   ]
  },
  {
   "cell_type": "code",
   "execution_count": null,
   "id": "e5cda4b0",
   "metadata": {
    "deletable": false,
    "editable": false,
    "run_control": {
     "frozen": true
    }
   },
   "outputs": [],
   "source": [
    "prescriptions.ndc.apply(lambda x: str(x)[:-2].zfill(9))"
   ]
  },
  {
   "cell_type": "code",
   "execution_count": null,
   "id": "e721de5c",
   "metadata": {
    "deletable": false,
    "editable": false,
    "run_control": {
     "frozen": true
    }
   },
   "outputs": [],
   "source": [
    "print(ndc_desc.NONPROPRIETARYNAME.nunique())\n",
    "print(ndc_desc_clean.NONPROPRIETARYNAME.nunique())"
   ]
  },
  {
   "cell_type": "code",
   "execution_count": null,
   "id": "b905011b",
   "metadata": {
    "deletable": false,
    "editable": false,
    "run_control": {
     "frozen": true
    }
   },
   "outputs": [],
   "source": [
    "ndc_desc.shape"
   ]
  },
  {
   "cell_type": "code",
   "execution_count": null,
   "id": "64179536",
   "metadata": {
    "deletable": false,
    "editable": false,
    "run_control": {
     "frozen": true
    }
   },
   "outputs": [],
   "source": [
    "ndc_desc.PRODUCTNDC.apply(lambda x: int(x.replace('-','')))"
   ]
  },
  {
   "cell_type": "code",
   "execution_count": null,
   "id": "ecbbc9e0",
   "metadata": {
    "deletable": false,
    "editable": false,
    "run_control": {
     "frozen": true
    }
   },
   "outputs": [],
   "source": [
    "ndc_desc.PHARM_CLASSES.value_counts"
   ]
  },
  {
   "cell_type": "code",
   "execution_count": null,
   "id": "3493b16d",
   "metadata": {
    "deletable": false,
    "editable": false,
    "run_control": {
     "frozen": true
    }
   },
   "outputs": [],
   "source": [
    "poe = pd.read_csv('MIMIC IV ED/poe.csv')"
   ]
  },
  {
   "cell_type": "code",
   "execution_count": null,
   "id": "0669bdf1",
   "metadata": {
    "deletable": false,
    "editable": false,
    "run_control": {
     "frozen": true
    },
    "scrolled": true
   },
   "outputs": [],
   "source": [
    "poe.order_status.value_counts(normalize = True)"
   ]
  },
  {
   "cell_type": "code",
   "execution_count": null,
   "id": "4aed4b65",
   "metadata": {
    "deletable": false,
    "editable": false,
    "run_control": {
     "frozen": true
    }
   },
   "outputs": [],
   "source": [
    "poe.loc[poe.order_type == 'Lab'].order_subtype.value_counts()"
   ]
  },
  {
   "cell_type": "code",
   "execution_count": null,
   "id": "7a3b5a33",
   "metadata": {
    "deletable": false,
    "editable": false,
    "run_control": {
     "frozen": true
    }
   },
   "outputs": [],
   "source": [
    "poe.order_type.value_counts()"
   ]
  },
  {
   "cell_type": "code",
   "execution_count": null,
   "id": "bffc93d0",
   "metadata": {
    "deletable": false,
    "editable": false,
    "run_control": {
     "frozen": true
    }
   },
   "outputs": [],
   "source": [
    "admissions = pd.read_csv('MIMIC IV ED/admissions.csv')"
   ]
  },
  {
   "cell_type": "code",
   "execution_count": null,
   "id": "d056fbc2",
   "metadata": {
    "deletable": false,
    "editable": false,
    "run_control": {
     "frozen": true
    }
   },
   "outputs": [],
   "source": [
    "admissions.race.value_counts(normalize = True)"
   ]
  },
  {
   "cell_type": "code",
   "execution_count": null,
   "id": "1056df71",
   "metadata": {
    "deletable": false,
    "editable": false,
    "run_control": {
     "frozen": true
    }
   },
   "outputs": [],
   "source": [
    "sum(admissions.admission_location.isna())"
   ]
  },
  {
   "cell_type": "code",
   "execution_count": null,
   "id": "cf569e77",
   "metadata": {
    "deletable": false,
    "editable": false,
    "run_control": {
     "frozen": true
    }
   },
   "outputs": [],
   "source": [
    "admissions.admission_location.value_counts(normalize = True)"
   ]
  },
  {
   "cell_type": "code",
   "execution_count": null,
   "id": "fcb00ab7",
   "metadata": {
    "deletable": false,
    "editable": false,
    "run_control": {
     "frozen": true
    }
   },
   "outputs": [],
   "source": [
    "transfers = pd.read_csv('MIMIC IV ED/transfers.csv')"
   ]
  },
  {
   "cell_type": "code",
   "execution_count": null,
   "id": "c8b5ab5d",
   "metadata": {
    "deletable": false,
    "editable": false,
    "run_control": {
     "frozen": true
    }
   },
   "outputs": [],
   "source": [
    "sum(transfers.eventtype == 'discharge')"
   ]
  },
  {
   "cell_type": "code",
   "execution_count": null,
   "id": "388bf57c",
   "metadata": {
    "deletable": false,
    "editable": false,
    "run_control": {
     "frozen": true
    }
   },
   "outputs": [],
   "source": [
    "transfers.careunit.value_counts(normalize = True)"
   ]
  },
  {
   "cell_type": "code",
   "execution_count": null,
   "id": "e099c1d8",
   "metadata": {
    "deletable": false,
    "editable": false,
    "run_control": {
     "frozen": true
    }
   },
   "outputs": [],
   "source": [
    "transfers.careunit.unique()"
   ]
  },
  {
   "cell_type": "code",
   "execution_count": null,
   "id": "2cbf4e04",
   "metadata": {
    "deletable": false,
    "editable": false,
    "run_control": {
     "frozen": true
    }
   },
   "outputs": [],
   "source": [
    "transfers[['intime','outtime']] = pd.to_datetime(transfers[['intime', 'outtime']])"
   ]
  },
  {
   "cell_type": "code",
   "execution_count": null,
   "id": "2efcfc31",
   "metadata": {
    "deletable": false,
    "editable": false,
    "run_control": {
     "frozen": true
    }
   },
   "outputs": [],
   "source": [
    "transfers.info(show_counts = True)"
   ]
  },
  {
   "cell_type": "code",
   "execution_count": null,
   "id": "0e094a02",
   "metadata": {
    "deletable": false,
    "editable": false,
    "run_control": {
     "frozen": true
    }
   },
   "outputs": [],
   "source": [
    "bool_outs"
   ]
  },
  {
   "cell_type": "code",
   "execution_count": null,
   "id": "4ec7bb72",
   "metadata": {
    "deletable": false,
    "editable": false,
    "run_control": {
     "frozen": true
    }
   },
   "outputs": [],
   "source": [
    "transfers.describe()"
   ]
  },
  {
   "cell_type": "code",
   "execution_count": null,
   "id": "7d0cc9e1",
   "metadata": {
    "deletable": false,
    "editable": false,
    "run_control": {
     "frozen": true
    }
   },
   "outputs": [],
   "source": [
    "bool_discharge = transfers.eventtype=='discharge'\n",
    "bool_carenan = transfers.careunit.isna()\n",
    "bool_outtime = transfers.outtime.isna()"
   ]
  },
  {
   "cell_type": "code",
   "execution_count": null,
   "id": "c9105e2c",
   "metadata": {
    "deletable": false,
    "editable": false,
    "run_control": {
     "frozen": true
    }
   },
   "outputs": [],
   "source": [
    "print(all(bool_discharge == bool_carenan))\n",
    "print(all(bool_discharge == bool_outtime))\n"
   ]
  },
  {
   "cell_type": "code",
   "execution_count": null,
   "id": "52704aff",
   "metadata": {
    "deletable": false,
    "editable": false,
    "run_control": {
     "frozen": true
    }
   },
   "outputs": [],
   "source": [
    "transfers.head()"
   ]
  },
  {
   "cell_type": "code",
   "execution_count": null,
   "id": "639fe05b",
   "metadata": {
    "deletable": false,
    "editable": false,
    "run_control": {
     "frozen": true
    }
   },
   "outputs": [],
   "source": [
    "services = pd.read_csv('MIMIC IV ED/services.csv')"
   ]
  },
  {
   "cell_type": "code",
   "execution_count": null,
   "id": "ba238f2a",
   "metadata": {
    "deletable": false,
    "editable": false,
    "run_control": {
     "frozen": true
    }
   },
   "outputs": [],
   "source": [
    "services.shape"
   ]
  },
  {
   "cell_type": "code",
   "execution_count": null,
   "id": "f949e175",
   "metadata": {
    "deletable": false,
    "editable": false,
    "run_control": {
     "frozen": true
    }
   },
   "outputs": [],
   "source": [
    "services.head()"
   ]
  },
  {
   "cell_type": "code",
   "execution_count": null,
   "id": "ddc013d9",
   "metadata": {
    "deletable": false,
    "editable": false,
    "run_control": {
     "frozen": true
    }
   },
   "outputs": [],
   "source": []
  },
  {
   "cell_type": "code",
   "execution_count": null,
   "id": "b6b605ce",
   "metadata": {
    "deletable": false,
    "editable": false,
    "run_control": {
     "frozen": true
    }
   },
   "outputs": [],
   "source": [
    "services.prev_service.value_counts()"
   ]
  },
  {
   "cell_type": "code",
   "execution_count": null,
   "id": "69888a1b",
   "metadata": {
    "deletable": false,
    "editable": false,
    "run_control": {
     "frozen": true
    }
   },
   "outputs": [],
   "source": [
    "transfers.eventtype.value_counts()"
   ]
  },
  {
   "cell_type": "code",
   "execution_count": null,
   "id": "620e44ee",
   "metadata": {
    "deletable": false,
    "editable": false,
    "run_control": {
     "frozen": true
    }
   },
   "outputs": [],
   "source": [
    "transfers."
   ]
  },
  {
   "cell_type": "code",
   "execution_count": null,
   "id": "6b8a4332",
   "metadata": {
    "deletable": false,
    "editable": false,
    "run_control": {
     "frozen": true
    }
   },
   "outputs": [],
   "source": [
    "emar = pd.read_csv('MIMIC IV/emar.csv')"
   ]
  },
  {
   "cell_type": "code",
   "execution_count": null,
   "id": "769feeb4",
   "metadata": {
    "deletable": false,
    "editable": false,
    "run_control": {
     "frozen": true
    }
   },
   "outputs": [],
   "source": [
    "emar.medication.nunique()"
   ]
  },
  {
   "cell_type": "code",
   "execution_count": null,
   "id": "a2ea46db",
   "metadata": {
    "deletable": false,
    "editable": false,
    "run_control": {
     "frozen": true
    }
   },
   "outputs": [],
   "source": [
    "emar.head()"
   ]
  },
  {
   "cell_type": "code",
   "execution_count": null,
   "id": "3acbf553",
   "metadata": {
    "deletable": false,
    "editable": false,
    "run_control": {
     "frozen": true
    }
   },
   "outputs": [],
   "source": [
    "transfers.careunit.value_counts()"
   ]
  },
  {
   "cell_type": "code",
   "execution_count": null,
   "id": "6a3cfc7c",
   "metadata": {
    "deletable": false,
    "editable": false,
    "run_control": {
     "frozen": true
    }
   },
   "outputs": [],
   "source": [
    "print('Number of patients:',transfers['subject_id'].nunique())\n",
    "print('Number of transfers (and rows number):',transfers['transfer_id'].nunique())\n",
    "print('Number of stays:',transfers['hadm_id'].nunique())\n",
    "print('Number of departments:',transfers['careunit'].nunique())"
   ]
  },
  {
   "cell_type": "code",
   "execution_count": null,
   "id": "a56ee9d9",
   "metadata": {
    "deletable": false,
    "editable": false,
    "run_control": {
     "frozen": true
    }
   },
   "outputs": [],
   "source": [
    "sum(transfers['careunit'].isna())"
   ]
  },
  {
   "cell_type": "code",
   "execution_count": null,
   "id": "279cbbbb",
   "metadata": {
    "deletable": false,
    "editable": false,
    "run_control": {
     "frozen": true
    }
   },
   "outputs": [],
   "source": [
    "print('Number of departments:',transfers['careunit'].unique())"
   ]
  },
  {
   "cell_type": "code",
   "execution_count": null,
   "id": "18656aa3",
   "metadata": {
    "deletable": false,
    "editable": false,
    "run_control": {
     "frozen": true
    }
   },
   "outputs": [],
   "source": [
    "admissions = pd.read_csv('MIMIC IV ED/admissions.csv')"
   ]
  },
  {
   "cell_type": "code",
   "execution_count": null,
   "id": "765bf2a8",
   "metadata": {
    "deletable": false,
    "editable": false,
    "run_control": {
     "frozen": true
    }
   },
   "outputs": [],
   "source": [
    "pd.to_datetime(admissions.admittime,infer_datetime_format = True).describe(datetime_is_numeric = True)"
   ]
  },
  {
   "cell_type": "code",
   "execution_count": null,
   "id": "5ac84b60",
   "metadata": {
    "deletable": false,
    "editable": false,
    "run_control": {
     "frozen": true
    }
   },
   "outputs": [],
   "source": [
    "admissions.discharge_location.unique()"
   ]
  },
  {
   "cell_type": "code",
   "execution_count": null,
   "id": "6471427c",
   "metadata": {
    "deletable": false,
    "editable": false,
    "run_control": {
     "frozen": true
    }
   },
   "outputs": [],
   "source": []
  },
  {
   "cell_type": "code",
   "execution_count": null,
   "id": "eb1297ab",
   "metadata": {
    "deletable": false,
    "editable": false,
    "run_control": {
     "frozen": true
    }
   },
   "outputs": [],
   "source": [
    "admissions.head()"
   ]
  },
  {
   "cell_type": "code",
   "execution_count": null,
   "id": "2cfc6928",
   "metadata": {
    "deletable": false,
    "editable": false,
    "run_control": {
     "frozen": true
    }
   },
   "outputs": [],
   "source": [
    "len(admissions)"
   ]
  },
  {
   "cell_type": "code",
   "execution_count": null,
   "id": "75353cbd",
   "metadata": {
    "deletable": false,
    "editable": false,
    "run_control": {
     "frozen": true
    }
   },
   "outputs": [],
   "source": [
    "print('Number of patients:',admissions['subject_id'].nunique())\n",
    "print('Number of transfers (and length of rows):',admissions['transfer_id'].nunique())\n",
    "print('Number of stays:',transfers['hadm_id'].nunique())\n",
    "print('Number of departments:',transfers['careunit'].nunique())"
   ]
  },
  {
   "cell_type": "code",
   "execution_count": null,
   "id": "e5a76542",
   "metadata": {
    "deletable": false,
    "editable": false,
    "run_control": {
     "frozen": true
    }
   },
   "outputs": [],
   "source": [
    "edstays['disposition'].value_counts()"
   ]
  },
  {
   "cell_type": "code",
   "execution_count": null,
   "id": "cfe1045f",
   "metadata": {
    "deletable": false,
    "editable": false,
    "run_control": {
     "frozen": true
    }
   },
   "outputs": [],
   "source": []
  },
  {
   "cell_type": "code",
   "execution_count": null,
   "id": "aa370d2e",
   "metadata": {
    "deletable": false,
    "editable": false,
    "run_control": {
     "frozen": true
    }
   },
   "outputs": [],
   "source": [
    "diagnosis.icd_version.value_counts()"
   ]
  },
  {
   "cell_type": "code",
   "execution_count": null,
   "id": "13c7e61b",
   "metadata": {
    "deletable": false,
    "editable": false,
    "run_control": {
     "frozen": true
    }
   },
   "outputs": [],
   "source": [
    "diagnosis['icd_title'].value_counts().head()"
   ]
  },
  {
   "cell_type": "code",
   "execution_count": null,
   "id": "adf33426",
   "metadata": {
    "deletable": false,
    "editable": false,
    "run_control": {
     "frozen": true
    },
    "scrolled": false
   },
   "outputs": [],
   "source": [
    "print('\\033[1m' + 'diagnosis')\n",
    "display(diagnosis.head())\n",
    "display(diagnosis.info())\n",
    "print('\\033[1m' + 'edstays')\n",
    "display(edstays.head())\n",
    "display(diagnosis.info())\n",
    "print('\\033[1m' + 'medrecon')\n",
    "display(medrecon.head())\n",
    "display(medrecon.info())\n",
    "print('\\033[1m' + 'pyxis')\n",
    "display(pyxis.head())\n",
    "display(pyxis.info())\n",
    "print('\\033[1m' + 'triage')\n",
    "display(triage.head())\n",
    "display(triage.info())\n",
    "print('\\033[1m' + 'vitalsign')\n",
    "display(vitalsign.head())\n",
    "display(vitalsign.info())"
   ]
  }
 ],
 "metadata": {
  "kernelspec": {
   "display_name": "Python [conda env:cap_nacho]",
   "language": "python",
   "name": "conda-env-cap_nacho-py"
  },
  "language_info": {
   "codemirror_mode": {
    "name": "ipython",
    "version": 3
   },
   "file_extension": ".py",
   "mimetype": "text/x-python",
   "name": "python",
   "nbconvert_exporter": "python",
   "pygments_lexer": "ipython3",
   "version": "3.10.6"
  },
  "toc": {
   "base_numbering": 1,
   "nav_menu": {},
   "number_sections": true,
   "sideBar": true,
   "skip_h1_title": true,
   "title_cell": "Table of Contents",
   "title_sidebar": "Contents",
   "toc_cell": true,
   "toc_position": {},
   "toc_section_display": true,
   "toc_window_display": false
  },
  "varInspector": {
   "cols": {
    "lenName": 16,
    "lenType": 16,
    "lenVar": 40
   },
   "kernels_config": {
    "python": {
     "delete_cmd_postfix": "",
     "delete_cmd_prefix": "del ",
     "library": "var_list.py",
     "varRefreshCmd": "print(var_dic_list())"
    },
    "r": {
     "delete_cmd_postfix": ") ",
     "delete_cmd_prefix": "rm(",
     "library": "var_list.r",
     "varRefreshCmd": "cat(var_dic_list()) "
    }
   },
   "oldHeight": 388.844,
   "position": {
    "height": "410.837px",
    "left": "395.2px",
    "right": "20px",
    "top": "119px",
    "width": "377px"
   },
   "types_to_exclude": [
    "module",
    "function",
    "builtin_function_or_method",
    "instance",
    "_Feature"
   ],
   "varInspector_section_display": "block",
   "window_display": false
  }
 },
 "nbformat": 4,
 "nbformat_minor": 5
}
