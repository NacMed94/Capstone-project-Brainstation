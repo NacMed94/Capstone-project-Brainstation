{
 "cells": [
  {
   "cell_type": "markdown",
   "id": "a090e2ca",
   "metadata": {
    "toc": true
   },
   "source": [
    "<h1>Table of Contents<span class=\"tocSkip\"></span></h1>\n",
    "<div class=\"toc\"><ul class=\"toc-item\"><li><span><a href=\"#Features-to-add\" data-toc-modified-id=\"Features-to-add-1\"><span class=\"toc-item-num\">1&nbsp;&nbsp;</span>Features to add</a></span></li></ul></div>"
   ]
  },
  {
   "cell_type": "markdown",
   "id": "1d1c521c",
   "metadata": {},
   "source": [
    "Here I am merging tables onto the main table, transfers."
   ]
  },
  {
   "cell_type": "markdown",
   "id": "3148649a",
   "metadata": {},
   "source": [
    "## Features to add\n",
    "\n",
    "Adding for sure:\n",
    "\n",
    "- Prescriptions, which is ready\n",
    "\n",
    "- Admissions: check ppoint, non-white?, marital status??, medicaid, language?\n",
    "\n",
    "- Patients: Age and gender\n",
    "\n",
    "- POE: Many categories (order type), but decent. \n",
    "\n",
    "\n",
    "Maybe adding in the future:\n",
    "\n",
    "- Procedures by ICD code, could be interesting but lots of features\n",
    "\n",
    "- Lab events: A LOT of features, although you can just add flag (associated with storetime) and priority (associated with charttime of test (frequency encoding?)\n",
    "\n",
    "- OMR: Blood pressure, weight... Interesting but probably there will be many missing values and will be hard to incorporate into dataframe\n",
    "\n",
    "- hcpcsevents: A LOT of features\n",
    "\n",
    "- Microbiology events: A LOT of features (no outcomes clear, although there are comments of test)\n",
    "\n",
    "\n",
    "<br><br>\n",
    "\n",
    "Some questions: \n",
    "\n",
    "Should I increase the granularity of the prescriptions (go down to level 2, 3 or 4). That would add between 1K and 5K features\n",
    "\n",
    "Can I leave duration of transfer in datetime or should I categorise it/bin it?\n",
    "bin\n",
    "\n",
    "Should I bin age or can be quantitative?\n",
    "Bin it (maybe check before when it's quantitative)\n",
    "\n",
    "Is it okay adding POE? Should I stop there or add also the other tables? It would mean lots of features. \n",
    "\n",
    "Should I add measures such as blood pressure and weight even if values will be missing in many rows? And again do I have to bin?\n",
    "Leave it for now and maybe with the PCA it tells you something. Maybe you see that could be good to include\n",
    "\n",
    "Focus on not adding any extra features but focus on step 1 (do PCA, fit models and decide whether to add more features or not)"
   ]
  },
  {
   "cell_type": "markdown",
   "id": "22b0fe48",
   "metadata": {},
   "source": [
    "Step 1\n",
    "For small dataset\n",
    "logistic regression SVM, decision tree and random forest, naive bayes\n",
    "Group the classes before fitting the model\n",
    "PCA to see if I can compress the model as it is right now\n",
    "See if by going up on the number of features you are getting any gain\n",
    "How many orders for now and that's it\n",
    "\n",
    "Step 2\n",
    "For large dataset\n",
    "\n",
    "For dataset try to make bins if possible, 5-10"
   ]
  },
  {
   "cell_type": "markdown",
   "id": "ea716200",
   "metadata": {},
   "source": [
    "Distribution is skewed. But after we have converted (the class) into binary, the problem we have is bias (the model is biased)."
   ]
  },
  {
   "cell_type": "code",
   "execution_count": 1,
   "id": "f2c3cfed",
   "metadata": {
    "ExecuteTime": {
     "end_time": "2022-11-02T12:02:31.378194Z",
     "start_time": "2022-11-02T12:02:28.703943Z"
    },
    "init_cell": true,
    "tags": [
     "Iniitialization"
    ]
   },
   "outputs": [],
   "source": [
    "import numpy as np\n",
    "import pandas as pd\n",
    "import copy\n",
    "import nachopy\n",
    "import importlib\n",
    "import pickle\n",
    "\n",
    "import matplotlib.pyplot as plt\n",
    "%matplotlib inline\n",
    "%config InlineBackend.figure_formats = ['svg'] # Setting plots as vector images\n",
    "\n",
    "plt.rcParams['figure.figsize'] = (10, 5)\n",
    "import matplotlib.pyplot as plt\n",
    "plt.style.use('ggplot')\n",
    "import matplotlib as mpl\n",
    "import seaborn as sns"
   ]
  },
  {
   "cell_type": "code",
   "execution_count": 84,
   "id": "b40070e0",
   "metadata": {
    "ExecuteTime": {
     "end_time": "2022-11-01T06:15:23.015873Z",
     "start_time": "2022-11-01T06:15:20.811801Z"
    },
    "tags": [
     "Transfers",
     "reset"
    ]
   },
   "outputs": [],
   "source": [
    "transfers = pd.read_csv('../Capstone-Data/MIMIC IV/transfers.csv')"
   ]
  },
  {
   "cell_type": "code",
   "execution_count": 85,
   "id": "bdfcd87f",
   "metadata": {
    "ExecuteTime": {
     "end_time": "2022-11-01T06:15:27.434680Z",
     "start_time": "2022-11-01T06:15:23.017874Z"
    }
   },
   "outputs": [
    {
     "data": {
      "text/html": [
       "<div>\n",
       "<style scoped>\n",
       "    .dataframe tbody tr th:only-of-type {\n",
       "        vertical-align: middle;\n",
       "    }\n",
       "\n",
       "    .dataframe tbody tr th {\n",
       "        vertical-align: top;\n",
       "    }\n",
       "\n",
       "    .dataframe thead th {\n",
       "        text-align: right;\n",
       "    }\n",
       "</style>\n",
       "<table border=\"1\" class=\"dataframe\">\n",
       "  <thead>\n",
       "    <tr style=\"text-align: right;\">\n",
       "      <th></th>\n",
       "      <th>subject_id</th>\n",
       "      <th>hadm_id</th>\n",
       "      <th>transfer_id</th>\n",
       "      <th>eventtype</th>\n",
       "      <th>careunit</th>\n",
       "      <th>intime</th>\n",
       "      <th>outtime</th>\n",
       "    </tr>\n",
       "  </thead>\n",
       "  <tbody>\n",
       "    <tr>\n",
       "      <th>0</th>\n",
       "      <td>10000032</td>\n",
       "      <td>22595853.0</td>\n",
       "      <td>33258284</td>\n",
       "      <td>ED</td>\n",
       "      <td>Emergency Department</td>\n",
       "      <td>2180-05-06 19:17:00</td>\n",
       "      <td>2180-05-06 23:30:00</td>\n",
       "    </tr>\n",
       "    <tr>\n",
       "      <th>1</th>\n",
       "      <td>10000032</td>\n",
       "      <td>22595853.0</td>\n",
       "      <td>35223874</td>\n",
       "      <td>admit</td>\n",
       "      <td>Transplant</td>\n",
       "      <td>2180-05-06 23:30:00</td>\n",
       "      <td>2180-05-07 17:21:27</td>\n",
       "    </tr>\n",
       "    <tr>\n",
       "      <th>2</th>\n",
       "      <td>10000032</td>\n",
       "      <td>22595853.0</td>\n",
       "      <td>36904543</td>\n",
       "      <td>discharge</td>\n",
       "      <td>NaN</td>\n",
       "      <td>2180-05-07 17:21:27</td>\n",
       "      <td>NaN</td>\n",
       "    </tr>\n",
       "    <tr>\n",
       "      <th>5</th>\n",
       "      <td>10000032</td>\n",
       "      <td>22841357.0</td>\n",
       "      <td>38112554</td>\n",
       "      <td>ED</td>\n",
       "      <td>Emergency Department</td>\n",
       "      <td>2180-06-26 15:54:00</td>\n",
       "      <td>2180-06-26 21:31:00</td>\n",
       "    </tr>\n",
       "    <tr>\n",
       "      <th>4</th>\n",
       "      <td>10000032</td>\n",
       "      <td>22841357.0</td>\n",
       "      <td>34703856</td>\n",
       "      <td>admit</td>\n",
       "      <td>Transplant</td>\n",
       "      <td>2180-06-26 21:31:00</td>\n",
       "      <td>2180-06-27 18:49:12</td>\n",
       "    </tr>\n",
       "    <tr>\n",
       "      <th>3</th>\n",
       "      <td>10000032</td>\n",
       "      <td>22841357.0</td>\n",
       "      <td>34100253</td>\n",
       "      <td>discharge</td>\n",
       "      <td>NaN</td>\n",
       "      <td>2180-06-27 18:49:12</td>\n",
       "      <td>NaN</td>\n",
       "    </tr>\n",
       "    <tr>\n",
       "      <th>9</th>\n",
       "      <td>10000032</td>\n",
       "      <td>29079034.0</td>\n",
       "      <td>32952584</td>\n",
       "      <td>ED</td>\n",
       "      <td>Emergency Department</td>\n",
       "      <td>2180-07-22 16:24:00</td>\n",
       "      <td>2180-07-23 05:54:00</td>\n",
       "    </tr>\n",
       "    <tr>\n",
       "      <th>13</th>\n",
       "      <td>10000032</td>\n",
       "      <td>29079034.0</td>\n",
       "      <td>39399961</td>\n",
       "      <td>ED</td>\n",
       "      <td>Emergency Department</td>\n",
       "      <td>2180-07-23 05:54:00</td>\n",
       "      <td>2180-07-23 14:00:00</td>\n",
       "    </tr>\n",
       "    <tr>\n",
       "      <th>14</th>\n",
       "      <td>10000032</td>\n",
       "      <td>29079034.0</td>\n",
       "      <td>39553978</td>\n",
       "      <td>admit</td>\n",
       "      <td>Medical Intensive Care Unit (MICU)</td>\n",
       "      <td>2180-07-23 14:00:00</td>\n",
       "      <td>2180-07-23 23:50:47</td>\n",
       "    </tr>\n",
       "    <tr>\n",
       "      <th>10</th>\n",
       "      <td>10000032</td>\n",
       "      <td>29079034.0</td>\n",
       "      <td>35888873</td>\n",
       "      <td>transfer</td>\n",
       "      <td>Transplant</td>\n",
       "      <td>2180-07-23 23:50:47</td>\n",
       "      <td>2180-07-24 19:52:58</td>\n",
       "    </tr>\n",
       "  </tbody>\n",
       "</table>\n",
       "</div>"
      ],
      "text/plain": [
       "    subject_id     hadm_id  transfer_id  eventtype  \\\n",
       "0     10000032  22595853.0     33258284         ED   \n",
       "1     10000032  22595853.0     35223874      admit   \n",
       "2     10000032  22595853.0     36904543  discharge   \n",
       "5     10000032  22841357.0     38112554         ED   \n",
       "4     10000032  22841357.0     34703856      admit   \n",
       "3     10000032  22841357.0     34100253  discharge   \n",
       "9     10000032  29079034.0     32952584         ED   \n",
       "13    10000032  29079034.0     39399961         ED   \n",
       "14    10000032  29079034.0     39553978      admit   \n",
       "10    10000032  29079034.0     35888873   transfer   \n",
       "\n",
       "                              careunit               intime  \\\n",
       "0                 Emergency Department  2180-05-06 19:17:00   \n",
       "1                           Transplant  2180-05-06 23:30:00   \n",
       "2                                  NaN  2180-05-07 17:21:27   \n",
       "5                 Emergency Department  2180-06-26 15:54:00   \n",
       "4                           Transplant  2180-06-26 21:31:00   \n",
       "3                                  NaN  2180-06-27 18:49:12   \n",
       "9                 Emergency Department  2180-07-22 16:24:00   \n",
       "13                Emergency Department  2180-07-23 05:54:00   \n",
       "14  Medical Intensive Care Unit (MICU)  2180-07-23 14:00:00   \n",
       "10                          Transplant  2180-07-23 23:50:47   \n",
       "\n",
       "                outtime  \n",
       "0   2180-05-06 23:30:00  \n",
       "1   2180-05-07 17:21:27  \n",
       "2                   NaN  \n",
       "5   2180-06-26 21:31:00  \n",
       "4   2180-06-27 18:49:12  \n",
       "3                   NaN  \n",
       "9   2180-07-23 05:54:00  \n",
       "13  2180-07-23 14:00:00  \n",
       "14  2180-07-23 23:50:47  \n",
       "10  2180-07-24 19:52:58  "
      ]
     },
     "execution_count": 85,
     "metadata": {},
     "output_type": "execute_result"
    }
   ],
   "source": [
    "transfers.sort_values(by = ['subject_id','intime']).head(10)"
   ]
  },
  {
   "cell_type": "markdown",
   "id": "f09a4169",
   "metadata": {},
   "source": [
    "Hmm, strange, some transfers appear to be continuous (rows 9 with row 13) but are two separate rows for some reason. We should merge these rows at some point."
   ]
  },
  {
   "cell_type": "code",
   "execution_count": 86,
   "id": "5e5d723d",
   "metadata": {
    "ExecuteTime": {
     "end_time": "2022-11-01T06:15:27.542464Z",
     "start_time": "2022-11-01T06:15:27.436682Z"
    },
    "tags": [
     "Transfers",
     "reset"
    ]
   },
   "outputs": [],
   "source": [
    "transfers['hadm_id'] = transfers.hadm_id.astype('Int64')"
   ]
  },
  {
   "cell_type": "code",
   "execution_count": 87,
   "id": "e9d1df95",
   "metadata": {
    "ExecuteTime": {
     "end_time": "2022-11-01T06:15:27.557463Z",
     "start_time": "2022-11-01T06:15:27.544463Z"
    }
   },
   "outputs": [
    {
     "data": {
      "text/html": [
       "<div>\n",
       "<style scoped>\n",
       "    .dataframe tbody tr th:only-of-type {\n",
       "        vertical-align: middle;\n",
       "    }\n",
       "\n",
       "    .dataframe tbody tr th {\n",
       "        vertical-align: top;\n",
       "    }\n",
       "\n",
       "    .dataframe thead th {\n",
       "        text-align: right;\n",
       "    }\n",
       "</style>\n",
       "<table border=\"1\" class=\"dataframe\">\n",
       "  <thead>\n",
       "    <tr style=\"text-align: right;\">\n",
       "      <th></th>\n",
       "      <th>subject_id</th>\n",
       "      <th>hadm_id</th>\n",
       "      <th>transfer_id</th>\n",
       "      <th>eventtype</th>\n",
       "      <th>careunit</th>\n",
       "      <th>intime</th>\n",
       "      <th>outtime</th>\n",
       "    </tr>\n",
       "  </thead>\n",
       "  <tbody>\n",
       "    <tr>\n",
       "      <th>0</th>\n",
       "      <td>10000032</td>\n",
       "      <td>22595853</td>\n",
       "      <td>33258284</td>\n",
       "      <td>ED</td>\n",
       "      <td>Emergency Department</td>\n",
       "      <td>2180-05-06 19:17:00</td>\n",
       "      <td>2180-05-06 23:30:00</td>\n",
       "    </tr>\n",
       "    <tr>\n",
       "      <th>1</th>\n",
       "      <td>10000032</td>\n",
       "      <td>22595853</td>\n",
       "      <td>35223874</td>\n",
       "      <td>admit</td>\n",
       "      <td>Transplant</td>\n",
       "      <td>2180-05-06 23:30:00</td>\n",
       "      <td>2180-05-07 17:21:27</td>\n",
       "    </tr>\n",
       "    <tr>\n",
       "      <th>2</th>\n",
       "      <td>10000032</td>\n",
       "      <td>22595853</td>\n",
       "      <td>36904543</td>\n",
       "      <td>discharge</td>\n",
       "      <td>NaN</td>\n",
       "      <td>2180-05-07 17:21:27</td>\n",
       "      <td>NaN</td>\n",
       "    </tr>\n",
       "    <tr>\n",
       "      <th>3</th>\n",
       "      <td>10000032</td>\n",
       "      <td>22841357</td>\n",
       "      <td>34100253</td>\n",
       "      <td>discharge</td>\n",
       "      <td>NaN</td>\n",
       "      <td>2180-06-27 18:49:12</td>\n",
       "      <td>NaN</td>\n",
       "    </tr>\n",
       "    <tr>\n",
       "      <th>4</th>\n",
       "      <td>10000032</td>\n",
       "      <td>22841357</td>\n",
       "      <td>34703856</td>\n",
       "      <td>admit</td>\n",
       "      <td>Transplant</td>\n",
       "      <td>2180-06-26 21:31:00</td>\n",
       "      <td>2180-06-27 18:49:12</td>\n",
       "    </tr>\n",
       "  </tbody>\n",
       "</table>\n",
       "</div>"
      ],
      "text/plain": [
       "   subject_id   hadm_id  transfer_id  eventtype              careunit  \\\n",
       "0    10000032  22595853     33258284         ED  Emergency Department   \n",
       "1    10000032  22595853     35223874      admit            Transplant   \n",
       "2    10000032  22595853     36904543  discharge                   NaN   \n",
       "3    10000032  22841357     34100253  discharge                   NaN   \n",
       "4    10000032  22841357     34703856      admit            Transplant   \n",
       "\n",
       "                intime              outtime  \n",
       "0  2180-05-06 19:17:00  2180-05-06 23:30:00  \n",
       "1  2180-05-06 23:30:00  2180-05-07 17:21:27  \n",
       "2  2180-05-07 17:21:27                  NaN  \n",
       "3  2180-06-27 18:49:12                  NaN  \n",
       "4  2180-06-26 21:31:00  2180-06-27 18:49:12  "
      ]
     },
     "metadata": {},
     "output_type": "display_data"
    }
   ],
   "source": [
    "display(transfers.head())"
   ]
  },
  {
   "cell_type": "code",
   "execution_count": 88,
   "id": "7d2b5e02",
   "metadata": {
    "ExecuteTime": {
     "end_time": "2022-11-01T06:15:28.210045Z",
     "start_time": "2022-11-01T06:15:27.559464Z"
    },
    "scrolled": true
   },
   "outputs": [
    {
     "name": "stdout",
     "output_type": "stream",
     "text": [
      "<class 'pandas.core.frame.DataFrame'>\n",
      "RangeIndex: 1991704 entries, 0 to 1991703\n",
      "Data columns (total 7 columns):\n",
      " #   Column       Non-Null Count    Dtype \n",
      "---  ------       --------------    ----- \n",
      " 0   subject_id   1991704 non-null  int64 \n",
      " 1   hadm_id      1644130 non-null  Int64 \n",
      " 2   transfer_id  1991704 non-null  int64 \n",
      " 3   eventtype    1991704 non-null  object\n",
      " 4   careunit     1537380 non-null  object\n",
      " 5   intime       1991704 non-null  object\n",
      " 6   outtime      1537383 non-null  object\n",
      "dtypes: Int64(1), int64(2), object(4)\n",
      "memory usage: 108.3+ MB\n"
     ]
    }
   ],
   "source": [
    "transfers.info(show_counts=True)"
   ]
  },
  {
   "cell_type": "code",
   "execution_count": 89,
   "id": "7352c6cd",
   "metadata": {
    "ExecuteTime": {
     "end_time": "2022-11-01T06:15:29.869657Z",
     "start_time": "2022-11-01T06:15:28.212179Z"
    },
    "tags": [
     "Transfers",
     "reset"
    ]
   },
   "outputs": [],
   "source": [
    "transfers['intime'] = pd.to_datetime(transfers.intime, infer_datetime_format=True)\n",
    "transfers['outtime'] = pd.to_datetime(transfers.outtime, infer_datetime_format=True)"
   ]
  },
  {
   "cell_type": "code",
   "execution_count": 90,
   "id": "18272fd5",
   "metadata": {
    "ExecuteTime": {
     "end_time": "2022-11-01T06:15:30.830519Z",
     "start_time": "2022-11-01T06:15:29.871768Z"
    }
   },
   "outputs": [
    {
     "data": {
      "text/plain": [
       "subject_id      315460\n",
       "hadm_id         454324\n",
       "transfer_id    1991704\n",
       "eventtype            4\n",
       "careunit            39\n",
       "intime         1980736\n",
       "outtime        1532471\n",
       "dtype: int64"
      ]
     },
     "execution_count": 90,
     "metadata": {},
     "output_type": "execute_result"
    }
   ],
   "source": [
    "transfers.nunique()"
   ]
  },
  {
   "cell_type": "code",
   "execution_count": 91,
   "id": "f9d325d7",
   "metadata": {
    "ExecuteTime": {
     "end_time": "2022-11-01T06:15:32.068378Z",
     "start_time": "2022-11-01T06:15:30.833430Z"
    },
    "tags": [
     "Transfers",
     "reset"
    ]
   },
   "outputs": [
    {
     "name": "stdout",
     "output_type": "stream",
     "text": [
      "8\n"
     ]
    }
   ],
   "source": [
    "transfers_dupl = transfers.drop(columns = 'transfer_id').duplicated()\n",
    "print(transfers_dupl.sum())\n",
    "transfers = transfers[~transfers_dupl]"
   ]
  },
  {
   "cell_type": "code",
   "execution_count": 92,
   "id": "cd413ad1",
   "metadata": {
    "ExecuteTime": {
     "end_time": "2022-11-01T06:15:32.099716Z",
     "start_time": "2022-11-01T06:15:32.069299Z"
    }
   },
   "outputs": [
    {
     "data": {
      "text/html": [
       "<div>\n",
       "<style scoped>\n",
       "    .dataframe tbody tr th:only-of-type {\n",
       "        vertical-align: middle;\n",
       "    }\n",
       "\n",
       "    .dataframe tbody tr th {\n",
       "        vertical-align: top;\n",
       "    }\n",
       "\n",
       "    .dataframe thead th {\n",
       "        text-align: right;\n",
       "    }\n",
       "</style>\n",
       "<table border=\"1\" class=\"dataframe\">\n",
       "  <thead>\n",
       "    <tr style=\"text-align: right;\">\n",
       "      <th></th>\n",
       "      <th>subject_id</th>\n",
       "      <th>hadm_id</th>\n",
       "      <th>transfer_id</th>\n",
       "      <th>eventtype</th>\n",
       "      <th>careunit</th>\n",
       "      <th>intime</th>\n",
       "      <th>outtime</th>\n",
       "    </tr>\n",
       "  </thead>\n",
       "  <tbody>\n",
       "    <tr>\n",
       "      <th>0</th>\n",
       "      <td>10000032</td>\n",
       "      <td>22595853</td>\n",
       "      <td>33258284</td>\n",
       "      <td>ED</td>\n",
       "      <td>Emergency Department</td>\n",
       "      <td>2180-05-06 19:17:00</td>\n",
       "      <td>2180-05-06 23:30:00</td>\n",
       "    </tr>\n",
       "    <tr>\n",
       "      <th>1</th>\n",
       "      <td>10000032</td>\n",
       "      <td>22595853</td>\n",
       "      <td>35223874</td>\n",
       "      <td>admit</td>\n",
       "      <td>Transplant</td>\n",
       "      <td>2180-05-06 23:30:00</td>\n",
       "      <td>2180-05-07 17:21:27</td>\n",
       "    </tr>\n",
       "    <tr>\n",
       "      <th>2</th>\n",
       "      <td>10000032</td>\n",
       "      <td>22595853</td>\n",
       "      <td>36904543</td>\n",
       "      <td>discharge</td>\n",
       "      <td>NaN</td>\n",
       "      <td>2180-05-07 17:21:27</td>\n",
       "      <td>NaT</td>\n",
       "    </tr>\n",
       "  </tbody>\n",
       "</table>\n",
       "</div>"
      ],
      "text/plain": [
       "   subject_id   hadm_id  transfer_id  eventtype              careunit  \\\n",
       "0    10000032  22595853     33258284         ED  Emergency Department   \n",
       "1    10000032  22595853     35223874      admit            Transplant   \n",
       "2    10000032  22595853     36904543  discharge                   NaN   \n",
       "\n",
       "               intime             outtime  \n",
       "0 2180-05-06 19:17:00 2180-05-06 23:30:00  \n",
       "1 2180-05-06 23:30:00 2180-05-07 17:21:27  \n",
       "2 2180-05-07 17:21:27                 NaT  "
      ]
     },
     "execution_count": 92,
     "metadata": {},
     "output_type": "execute_result"
    }
   ],
   "source": [
    "transfers[transfers.hadm_id == 22595853]"
   ]
  },
  {
   "cell_type": "markdown",
   "id": "6898c51e",
   "metadata": {},
   "source": [
    "Example of an stay with three transfer events. The patient is admitted in the emergency department (event type ED, careunit Emergency Department) and stays there for 4 hours. He is then transferred to the transplant careunit, for which he needs to be admitted into hospital (eventtype admit). After 1 day he is discharged. We do not need the discharge rows, as there is nothing to be predicted from those. Rather, discharge should be the \"output\" for row 2. Likewise, the output for row 1 will not be ED or Emergency Department (that is a feature), but Transplant. Discharge have no duration and the resulting careunits and outtime are null values, although that is expected"
   ]
  },
  {
   "cell_type": "code",
   "execution_count": 93,
   "id": "5fb21ebe",
   "metadata": {
    "ExecuteTime": {
     "end_time": "2022-11-01T06:15:32.340471Z",
     "start_time": "2022-11-01T06:15:32.101662Z"
    }
   },
   "outputs": [
    {
     "name": "stdout",
     "output_type": "stream",
     "text": [
      "subject_id     190279\n",
      "hadm_id        454321\n",
      "transfer_id    454321\n",
      "eventtype           1\n",
      "careunit            0\n",
      "intime         454236\n",
      "outtime             0\n",
      "dtype: int64\n"
     ]
    }
   ],
   "source": [
    "print(transfers[transfers.outtime.isna()].nunique())"
   ]
  },
  {
   "cell_type": "code",
   "execution_count": 94,
   "id": "180156ae",
   "metadata": {
    "ExecuteTime": {
     "end_time": "2022-11-01T06:15:33.608432Z",
     "start_time": "2022-11-01T06:15:32.342298Z"
    },
    "tags": [
     "Transfers",
     "reset"
    ]
   },
   "outputs": [],
   "source": [
    "transfers.sort_values(by=['subject_id','intime'],inplace = True)\n",
    "events = transfers.careunit.loc[1:].values # From second row, getting the destination careunit (class)\n",
    "transfers = transfers.iloc[:-1] # Until second to last row\n",
    "transfers['event'] = events"
   ]
  },
  {
   "cell_type": "markdown",
   "id": "a48117e4",
   "metadata": {},
   "source": [
    "Now there should be one more nan values in the new event column than in the discharge column"
   ]
  },
  {
   "cell_type": "code",
   "execution_count": 95,
   "id": "06eb2ef1",
   "metadata": {
    "ExecuteTime": {
     "end_time": "2022-11-01T06:15:33.939588Z",
     "start_time": "2022-11-01T06:15:33.610788Z"
    }
   },
   "outputs": [
    {
     "name": "stdout",
     "output_type": "stream",
     "text": [
      "454324\n",
      "454323\n"
     ]
    }
   ],
   "source": [
    "print(sum(transfers.event.isna()))\n",
    "print(sum(transfers.eventtype == 'discharge'))"
   ]
  },
  {
   "cell_type": "markdown",
   "id": "ce06f664",
   "metadata": {},
   "source": [
    "It's correct, so we can fill the NaNs in the event column as discharges and drop the (old) discharge columns"
   ]
  },
  {
   "cell_type": "code",
   "execution_count": 96,
   "id": "bd7d6d0b",
   "metadata": {
    "ExecuteTime": {
     "end_time": "2022-11-01T06:15:34.288808Z",
     "start_time": "2022-11-01T06:15:33.941583Z"
    },
    "tags": [
     "Transfers",
     "reset"
    ]
   },
   "outputs": [],
   "source": [
    "transfers['event'] = transfers.event.fillna('Discharge')\n",
    "transfers.dropna(axis = 0, subset = 'careunit', inplace = True)\n",
    "transfers.reset_index(inplace = True,drop = True)"
   ]
  },
  {
   "cell_type": "code",
   "execution_count": 97,
   "id": "fe10d48d",
   "metadata": {
    "ExecuteTime": {
     "end_time": "2022-11-01T06:15:34.304083Z",
     "start_time": "2022-11-01T06:15:34.290956Z"
    }
   },
   "outputs": [
    {
     "data": {
      "text/plain": [
       "0"
      ]
     },
     "execution_count": 97,
     "metadata": {},
     "output_type": "execute_result"
    }
   ],
   "source": [
    "transfers.outtime.isna().sum()"
   ]
  },
  {
   "cell_type": "markdown",
   "id": "3871650d",
   "metadata": {},
   "source": [
    "We are going to be merging transfer rows and deleting others based on several criteria for data cleaning, but before, we can extract one important feature: past transfers. We do this before cleaning the transfers table because we are going to be deleting transfers that we do not want to predict (for example transfer with short durations)"
   ]
  },
  {
   "cell_type": "code",
   "execution_count": 21,
   "id": "f8cf9e3f",
   "metadata": {
    "ExecuteTime": {
     "end_time": "2022-10-31T19:11:28.691246Z",
     "start_time": "2022-10-31T17:15:52.737102Z"
    },
    "deletable": false,
    "editable": false,
    "run_control": {
     "frozen": true
    }
   },
   "outputs": [
    {
     "name": "stdout",
     "output_type": "stream",
     "text": [
      "19999987/19999987\n"
     ]
    }
   ],
   "source": [
    "pd.options.mode.chained_assignment = None \n",
    "prev_transfers = transfers[['subject_id','transfer_id','careunit','duration']]\n",
    "prev_transfers = pd.concat([prev_transfers.drop(columns ='careunit'),\\\n",
    "                            pd.get_dummies(prev_transfers.careunit,prefix = 'freq'),\n",
    "                            pd.get_dummies(prev_transfers.careunit,prefix = 'dur')],axis = 1)\n",
    "\n",
    "prev_transfers.set_index('subject_id',inplace = True)\n",
    "dur_cols = prev_transfers.columns[41:]\n",
    "prev_transfers[dur_cols] = prev_transfers[dur_cols].multiply(prev_transfers.duration.values,axis = 0)\n",
    "prev_transfers.drop(columns = 'duration',inplace = True)\n",
    "length = len(prev_transfers)\n",
    "\n",
    "cols = prev_transfers.columns[1:]\n",
    "\n",
    "k = 0\n",
    "subjects = prev_transfers.index.unique()\n",
    "for subject in subjects:\n",
    "    summing_df = prev_transfers.loc[subject,cols]\n",
    "    \n",
    "    summing_len = len(summing_df)\n",
    "    for i in range(summing_len-1,-1,-1):\n",
    "        summing_df.iloc[i] = summing_df.iloc[:i].sum(axis = 0)\n",
    "    \n",
    "    prev_transfers.loc[subject,cols] = summing_df  \n",
    "    k += summing_len\n",
    "    print(f'{subject}/19999987', end = '\\r')\n",
    "\n",
    "print()\n",
    "prev_transfers.set_index('transfer_id', drop = True, inplace = True)"
   ]
  },
  {
   "cell_type": "markdown",
   "id": "30ae0915",
   "metadata": {},
   "source": [
    "Now let's merge with prescriptions"
   ]
  },
  {
   "cell_type": "code",
   "execution_count": 98,
   "id": "49407c1c",
   "metadata": {
    "ExecuteTime": {
     "end_time": "2022-11-01T06:15:35.738670Z",
     "start_time": "2022-11-01T06:15:34.306085Z"
    }
   },
   "outputs": [],
   "source": [
    "prescriptions = pd.read_pickle('../Capstone-Data/pickles/prescriptions_final.pkl')"
   ]
  },
  {
   "cell_type": "code",
   "execution_count": 99,
   "id": "43480490",
   "metadata": {
    "ExecuteTime": {
     "end_time": "2022-11-01T06:15:36.179648Z",
     "start_time": "2022-11-01T06:15:35.740670Z"
    }
   },
   "outputs": [],
   "source": [
    "cat = list(prescriptions.drop(columns = ['subject_id','hadm_id','starttime']).columns)\n",
    "prescriptions[prescriptions.A<0] = 0\n",
    "\n",
    "prescriptions['pres_number'] = 1\n",
    "cat.append('pres_number')"
   ]
  },
  {
   "cell_type": "code",
   "execution_count": 100,
   "id": "c78f4fb1",
   "metadata": {
    "ExecuteTime": {
     "end_time": "2022-11-01T06:22:38.601998Z",
     "start_time": "2022-11-01T06:15:36.181587Z"
    }
   },
   "outputs": [
    {
     "name": "stdout",
     "output_type": "stream",
     "text": [
      "Loop 15/15\n"
     ]
    }
   ],
   "source": [
    "# Initialising variables for loop\n",
    "# Getting only necessary columns for the row selection\n",
    "dfl = transfers[['subject_id','intime','outtime','transfer_id']].set_index('subject_id').sort_index()\n",
    "# Adding hadm_id because it will be useful to fill hadm_id column on transfers\n",
    "dfr = prescriptions.drop(columns = 'hadm_id').set_index('subject_id').sort_index() \n",
    "\n",
    "n = 15\n",
    "nums = copy.deepcopy(cat)\n",
    "non_nums = ['subject_id','intime','outtime','starttime']\n",
    "\n",
    "df_merged = pd.DataFrame(columns = nums)\n",
    "\n",
    "len_r = len(dfr)\n",
    "max_l = dfl.index.max()\n",
    "max_r = dfr.index.max()\n",
    "\n",
    "inc = round(len(dfr)/n)\n",
    "ind_r = copy.copy(inc)\n",
    "sub_1 = 0\n",
    "sub_2 = 0\n",
    "\n",
    "for i in range(n):\n",
    "    \n",
    "    ind_r += inc \n",
    "    if ind_r < len_r:\n",
    "        sub_2 = dfr.iloc[ind_r].name # Getting last index in increment \n",
    "    else:\n",
    "        sub_2 = max_l # Getting last subject on left (transfers) df when reaching the end of the df\n",
    "    \n",
    "    dfr_chunk = dfr.loc[sub_1:sub_2]\n",
    "    dfl_chunk = dfl.loc[sub_1:sub_2]\n",
    "    # Inner join as any rows without prescriptions are lost anyway (will be recovered later)\n",
    "    df_merging = pd.merge(dfl_chunk,dfr_chunk, on = 'subject_id') \n",
    "\n",
    "    # Selecting only rows where the prescription is between starttime and outtime \n",
    "    valid_rows = (df_merging.starttime>=df_merging.intime) & (df_merging.starttime<df_merging.outtime)\n",
    "    \n",
    "    df_merging = df_merging[valid_rows].reset_index(drop = False) # Putting subject_id away from index and back in columns\n",
    "    # Retrieving hadm_id from prescriptions to merge later\n",
    "    df_merging = df_merging.groupby('transfer_id')[nums].sum() # We sum to frequency encode prescriptions\n",
    "\n",
    "    df_merged = pd.concat([df_merged, df_merging],axis = 0)\n",
    "    \n",
    "    sub_1 = sub_2 + 1\n",
    "    \n",
    "    print(f'Loop {i + 1}/{n}',end='\\r')\n",
    "print()\n",
    "\n",
    "transfers.set_index('transfer_id',inplace = True)\n",
    "transfers = transfers.join(df_merged)"
   ]
  },
  {
   "cell_type": "code",
   "execution_count": 5,
   "id": "f31543b4",
   "metadata": {
    "ExecuteTime": {
     "end_time": "2022-11-01T09:52:39.045804Z",
     "start_time": "2022-11-01T09:52:39.028713Z"
    }
   },
   "outputs": [],
   "source": [
    "transfers.reset_index(drop = False, inplace = True)"
   ]
  },
  {
   "cell_type": "code",
   "execution_count": 158,
   "id": "d8559f9f",
   "metadata": {
    "ExecuteTime": {
     "end_time": "2022-11-01T06:54:34.910162Z",
     "start_time": "2022-11-01T06:54:34.514145Z"
    }
   },
   "outputs": [
    {
     "name": "stdout",
     "output_type": "stream",
     "text": [
      "<class 'pandas.core.frame.DataFrame'>\n",
      "RangeIndex: 1537372 entries, 0 to 1537371\n",
      "Data columns (total 24 columns):\n",
      " #   Column       Non-Null Count    Dtype         \n",
      "---  ------       --------------    -----         \n",
      " 0   transfer_id  1537372 non-null  int64         \n",
      " 1   subject_id   1537372 non-null  int64         \n",
      " 2   hadm_id      1189806 non-null  Int64         \n",
      " 3   eventtype    1537372 non-null  object        \n",
      " 4   careunit     1537372 non-null  object        \n",
      " 5   intime       1537372 non-null  datetime64[ns]\n",
      " 6   outtime      1537372 non-null  datetime64[ns]\n",
      " 7   event        1537372 non-null  object        \n",
      " 8   A            1537372 non-null  uint16        \n",
      " 9   B            1537372 non-null  uint16        \n",
      " 10  C            1537372 non-null  uint16        \n",
      " 11  D            1537372 non-null  uint16        \n",
      " 12  G            1537372 non-null  uint16        \n",
      " 13  H            1537372 non-null  uint16        \n",
      " 14  J            1537372 non-null  uint16        \n",
      " 15  L            1537372 non-null  uint16        \n",
      " 16  M            1537372 non-null  uint16        \n",
      " 17  N            1537372 non-null  uint16        \n",
      " 18  P            1537372 non-null  uint16        \n",
      " 19  R            1537372 non-null  uint16        \n",
      " 20  S            1537372 non-null  uint16        \n",
      " 21  V            1537372 non-null  uint16        \n",
      " 22  pres_number  1537372 non-null  uint16        \n",
      " 23  duration     1537372 non-null  float64       \n",
      "dtypes: Int64(1), datetime64[ns](2), float64(1), int64(2), object(3), uint16(15)\n",
      "memory usage: 151.0+ MB\n"
     ]
    }
   ],
   "source": [
    "transfers.info()"
   ]
  },
  {
   "cell_type": "code",
   "execution_count": 102,
   "id": "acd316cf",
   "metadata": {
    "ExecuteTime": {
     "end_time": "2022-11-01T06:22:40.233148Z",
     "start_time": "2022-11-01T06:22:39.137734Z"
    }
   },
   "outputs": [],
   "source": [
    "transfers[cat] = transfers[cat].fillna(0)\n",
    "transfers[cat] = transfers[cat].astype('uint16')"
   ]
  },
  {
   "cell_type": "code",
   "execution_count": 9,
   "id": "0e17f6b3",
   "metadata": {
    "ExecuteTime": {
     "end_time": "2022-11-01T09:54:48.180863Z",
     "start_time": "2022-11-01T09:54:47.976858Z"
    }
   },
   "outputs": [
    {
     "data": {
      "text/html": [
       "<div>\n",
       "<style scoped>\n",
       "    .dataframe tbody tr th:only-of-type {\n",
       "        vertical-align: middle;\n",
       "    }\n",
       "\n",
       "    .dataframe tbody tr th {\n",
       "        vertical-align: top;\n",
       "    }\n",
       "\n",
       "    .dataframe thead th {\n",
       "        text-align: right;\n",
       "    }\n",
       "</style>\n",
       "<table border=\"1\" class=\"dataframe\">\n",
       "  <thead>\n",
       "    <tr style=\"text-align: right;\">\n",
       "      <th></th>\n",
       "      <th>subject_id</th>\n",
       "      <th>hadm_id</th>\n",
       "      <th>eventtype</th>\n",
       "      <th>careunit</th>\n",
       "      <th>intime</th>\n",
       "      <th>outtime</th>\n",
       "      <th>event</th>\n",
       "      <th>A</th>\n",
       "      <th>B</th>\n",
       "      <th>C</th>\n",
       "      <th>...</th>\n",
       "      <th>J</th>\n",
       "      <th>L</th>\n",
       "      <th>M</th>\n",
       "      <th>N</th>\n",
       "      <th>P</th>\n",
       "      <th>R</th>\n",
       "      <th>S</th>\n",
       "      <th>V</th>\n",
       "      <th>pres_number</th>\n",
       "      <th>duration</th>\n",
       "    </tr>\n",
       "    <tr>\n",
       "      <th>transfer_id</th>\n",
       "      <th></th>\n",
       "      <th></th>\n",
       "      <th></th>\n",
       "      <th></th>\n",
       "      <th></th>\n",
       "      <th></th>\n",
       "      <th></th>\n",
       "      <th></th>\n",
       "      <th></th>\n",
       "      <th></th>\n",
       "      <th></th>\n",
       "      <th></th>\n",
       "      <th></th>\n",
       "      <th></th>\n",
       "      <th></th>\n",
       "      <th></th>\n",
       "      <th></th>\n",
       "      <th></th>\n",
       "      <th></th>\n",
       "      <th></th>\n",
       "      <th></th>\n",
       "    </tr>\n",
       "  </thead>\n",
       "  <tbody>\n",
       "    <tr>\n",
       "      <th>33258284</th>\n",
       "      <td>10000032</td>\n",
       "      <td>22595853</td>\n",
       "      <td>ED</td>\n",
       "      <td>Emergency Department</td>\n",
       "      <td>2180-05-06 19:17:00</td>\n",
       "      <td>2180-05-06 23:30:00</td>\n",
       "      <td>Transplant</td>\n",
       "      <td>2</td>\n",
       "      <td>1</td>\n",
       "      <td>2</td>\n",
       "      <td>...</td>\n",
       "      <td>2</td>\n",
       "      <td>0</td>\n",
       "      <td>0</td>\n",
       "      <td>1</td>\n",
       "      <td>0</td>\n",
       "      <td>2</td>\n",
       "      <td>0</td>\n",
       "      <td>0</td>\n",
       "      <td>9</td>\n",
       "      <td>4.216667</td>\n",
       "    </tr>\n",
       "    <tr>\n",
       "      <th>35223874</th>\n",
       "      <td>10000032</td>\n",
       "      <td>22595853</td>\n",
       "      <td>admit</td>\n",
       "      <td>Transplant</td>\n",
       "      <td>2180-05-06 23:30:00</td>\n",
       "      <td>2180-05-07 17:21:27</td>\n",
       "      <td>Discharge</td>\n",
       "      <td>2</td>\n",
       "      <td>3</td>\n",
       "      <td>3</td>\n",
       "      <td>...</td>\n",
       "      <td>3</td>\n",
       "      <td>0</td>\n",
       "      <td>0</td>\n",
       "      <td>2</td>\n",
       "      <td>0</td>\n",
       "      <td>2</td>\n",
       "      <td>1</td>\n",
       "      <td>0</td>\n",
       "      <td>12</td>\n",
       "      <td>17.857500</td>\n",
       "    </tr>\n",
       "    <tr>\n",
       "      <th>38112554</th>\n",
       "      <td>10000032</td>\n",
       "      <td>22841357</td>\n",
       "      <td>ED</td>\n",
       "      <td>Emergency Department</td>\n",
       "      <td>2180-06-26 15:54:00</td>\n",
       "      <td>2180-06-26 21:31:00</td>\n",
       "      <td>Transplant</td>\n",
       "      <td>3</td>\n",
       "      <td>0</td>\n",
       "      <td>2</td>\n",
       "      <td>...</td>\n",
       "      <td>3</td>\n",
       "      <td>0</td>\n",
       "      <td>0</td>\n",
       "      <td>1</td>\n",
       "      <td>0</td>\n",
       "      <td>1</td>\n",
       "      <td>0</td>\n",
       "      <td>0</td>\n",
       "      <td>10</td>\n",
       "      <td>5.616667</td>\n",
       "    </tr>\n",
       "    <tr>\n",
       "      <th>34703856</th>\n",
       "      <td>10000032</td>\n",
       "      <td>22841357</td>\n",
       "      <td>admit</td>\n",
       "      <td>Transplant</td>\n",
       "      <td>2180-06-26 21:31:00</td>\n",
       "      <td>2180-06-27 18:49:12</td>\n",
       "      <td>Discharge</td>\n",
       "      <td>4</td>\n",
       "      <td>2</td>\n",
       "      <td>3</td>\n",
       "      <td>...</td>\n",
       "      <td>4</td>\n",
       "      <td>0</td>\n",
       "      <td>0</td>\n",
       "      <td>1</td>\n",
       "      <td>0</td>\n",
       "      <td>3</td>\n",
       "      <td>1</td>\n",
       "      <td>0</td>\n",
       "      <td>15</td>\n",
       "      <td>21.303333</td>\n",
       "    </tr>\n",
       "    <tr>\n",
       "      <th>32952584</th>\n",
       "      <td>10000032</td>\n",
       "      <td>29079034</td>\n",
       "      <td>ED</td>\n",
       "      <td>Emergency Department</td>\n",
       "      <td>2180-07-22 16:24:00</td>\n",
       "      <td>2180-07-23 05:54:00</td>\n",
       "      <td>Emergency Department</td>\n",
       "      <td>5</td>\n",
       "      <td>1</td>\n",
       "      <td>1</td>\n",
       "      <td>...</td>\n",
       "      <td>3</td>\n",
       "      <td>0</td>\n",
       "      <td>0</td>\n",
       "      <td>2</td>\n",
       "      <td>0</td>\n",
       "      <td>2</td>\n",
       "      <td>0</td>\n",
       "      <td>0</td>\n",
       "      <td>13</td>\n",
       "      <td>13.500000</td>\n",
       "    </tr>\n",
       "    <tr>\n",
       "      <th>...</th>\n",
       "      <td>...</td>\n",
       "      <td>...</td>\n",
       "      <td>...</td>\n",
       "      <td>...</td>\n",
       "      <td>...</td>\n",
       "      <td>...</td>\n",
       "      <td>...</td>\n",
       "      <td>...</td>\n",
       "      <td>...</td>\n",
       "      <td>...</td>\n",
       "      <td>...</td>\n",
       "      <td>...</td>\n",
       "      <td>...</td>\n",
       "      <td>...</td>\n",
       "      <td>...</td>\n",
       "      <td>...</td>\n",
       "      <td>...</td>\n",
       "      <td>...</td>\n",
       "      <td>...</td>\n",
       "      <td>...</td>\n",
       "      <td>...</td>\n",
       "    </tr>\n",
       "    <tr>\n",
       "      <th>34767778</th>\n",
       "      <td>19999840</td>\n",
       "      <td>21033226</td>\n",
       "      <td>transfer</td>\n",
       "      <td>Surgical Intensive Care Unit (SICU)</td>\n",
       "      <td>2164-09-13 09:37:48</td>\n",
       "      <td>2164-09-17 16:35:15</td>\n",
       "      <td>Discharge</td>\n",
       "      <td>39</td>\n",
       "      <td>33</td>\n",
       "      <td>3</td>\n",
       "      <td>...</td>\n",
       "      <td>8</td>\n",
       "      <td>0</td>\n",
       "      <td>0</td>\n",
       "      <td>9</td>\n",
       "      <td>0</td>\n",
       "      <td>0</td>\n",
       "      <td>7</td>\n",
       "      <td>12</td>\n",
       "      <td>63</td>\n",
       "      <td>102.957500</td>\n",
       "    </tr>\n",
       "    <tr>\n",
       "      <th>32002659</th>\n",
       "      <td>19999914</td>\n",
       "      <td>&lt;NA&gt;</td>\n",
       "      <td>ED</td>\n",
       "      <td>Emergency Department</td>\n",
       "      <td>2158-12-24 11:41:00</td>\n",
       "      <td>2158-12-24 11:56:00</td>\n",
       "      <td>Emergency Department</td>\n",
       "      <td>0</td>\n",
       "      <td>0</td>\n",
       "      <td>0</td>\n",
       "      <td>...</td>\n",
       "      <td>0</td>\n",
       "      <td>0</td>\n",
       "      <td>0</td>\n",
       "      <td>0</td>\n",
       "      <td>0</td>\n",
       "      <td>0</td>\n",
       "      <td>0</td>\n",
       "      <td>0</td>\n",
       "      <td>0</td>\n",
       "      <td>0.250000</td>\n",
       "    </tr>\n",
       "    <tr>\n",
       "      <th>34731548</th>\n",
       "      <td>19999987</td>\n",
       "      <td>23865745</td>\n",
       "      <td>ED</td>\n",
       "      <td>Emergency Department</td>\n",
       "      <td>2145-11-02 19:28:00</td>\n",
       "      <td>2145-11-02 22:59:00</td>\n",
       "      <td>Trauma SICU (TSICU)</td>\n",
       "      <td>0</td>\n",
       "      <td>0</td>\n",
       "      <td>0</td>\n",
       "      <td>...</td>\n",
       "      <td>0</td>\n",
       "      <td>0</td>\n",
       "      <td>0</td>\n",
       "      <td>0</td>\n",
       "      <td>0</td>\n",
       "      <td>0</td>\n",
       "      <td>0</td>\n",
       "      <td>0</td>\n",
       "      <td>0</td>\n",
       "      <td>3.516667</td>\n",
       "    </tr>\n",
       "    <tr>\n",
       "      <th>36195440</th>\n",
       "      <td>19999987</td>\n",
       "      <td>23865745</td>\n",
       "      <td>admit</td>\n",
       "      <td>Trauma SICU (TSICU)</td>\n",
       "      <td>2145-11-02 22:59:00</td>\n",
       "      <td>2145-11-04 21:29:30</td>\n",
       "      <td>Neurology</td>\n",
       "      <td>15</td>\n",
       "      <td>11</td>\n",
       "      <td>7</td>\n",
       "      <td>...</td>\n",
       "      <td>1</td>\n",
       "      <td>0</td>\n",
       "      <td>0</td>\n",
       "      <td>11</td>\n",
       "      <td>0</td>\n",
       "      <td>3</td>\n",
       "      <td>4</td>\n",
       "      <td>4</td>\n",
       "      <td>35</td>\n",
       "      <td>46.508333</td>\n",
       "    </tr>\n",
       "    <tr>\n",
       "      <th>30249304</th>\n",
       "      <td>19999987</td>\n",
       "      <td>23865745</td>\n",
       "      <td>transfer</td>\n",
       "      <td>Neurology</td>\n",
       "      <td>2145-11-04 21:29:30</td>\n",
       "      <td>2145-11-11 13:00:47</td>\n",
       "      <td>Discharge</td>\n",
       "      <td>8</td>\n",
       "      <td>12</td>\n",
       "      <td>2</td>\n",
       "      <td>...</td>\n",
       "      <td>5</td>\n",
       "      <td>0</td>\n",
       "      <td>1</td>\n",
       "      <td>11</td>\n",
       "      <td>0</td>\n",
       "      <td>1</td>\n",
       "      <td>3</td>\n",
       "      <td>6</td>\n",
       "      <td>29</td>\n",
       "      <td>159.521389</td>\n",
       "    </tr>\n",
       "  </tbody>\n",
       "</table>\n",
       "<p>1537372 rows × 23 columns</p>\n",
       "</div>"
      ],
      "text/plain": [
       "             subject_id   hadm_id eventtype  \\\n",
       "transfer_id                                   \n",
       "33258284       10000032  22595853        ED   \n",
       "35223874       10000032  22595853     admit   \n",
       "38112554       10000032  22841357        ED   \n",
       "34703856       10000032  22841357     admit   \n",
       "32952584       10000032  29079034        ED   \n",
       "...                 ...       ...       ...   \n",
       "34767778       19999840  21033226  transfer   \n",
       "32002659       19999914      <NA>        ED   \n",
       "34731548       19999987  23865745        ED   \n",
       "36195440       19999987  23865745     admit   \n",
       "30249304       19999987  23865745  transfer   \n",
       "\n",
       "                                        careunit              intime  \\\n",
       "transfer_id                                                            \n",
       "33258284                    Emergency Department 2180-05-06 19:17:00   \n",
       "35223874                              Transplant 2180-05-06 23:30:00   \n",
       "38112554                    Emergency Department 2180-06-26 15:54:00   \n",
       "34703856                              Transplant 2180-06-26 21:31:00   \n",
       "32952584                    Emergency Department 2180-07-22 16:24:00   \n",
       "...                                          ...                 ...   \n",
       "34767778     Surgical Intensive Care Unit (SICU) 2164-09-13 09:37:48   \n",
       "32002659                    Emergency Department 2158-12-24 11:41:00   \n",
       "34731548                    Emergency Department 2145-11-02 19:28:00   \n",
       "36195440                     Trauma SICU (TSICU) 2145-11-02 22:59:00   \n",
       "30249304                               Neurology 2145-11-04 21:29:30   \n",
       "\n",
       "                        outtime                 event   A   B  C  ...  J  L  \\\n",
       "transfer_id                                                       ...         \n",
       "33258284    2180-05-06 23:30:00            Transplant   2   1  2  ...  2  0   \n",
       "35223874    2180-05-07 17:21:27             Discharge   2   3  3  ...  3  0   \n",
       "38112554    2180-06-26 21:31:00            Transplant   3   0  2  ...  3  0   \n",
       "34703856    2180-06-27 18:49:12             Discharge   4   2  3  ...  4  0   \n",
       "32952584    2180-07-23 05:54:00  Emergency Department   5   1  1  ...  3  0   \n",
       "...                         ...                   ...  ..  .. ..  ... .. ..   \n",
       "34767778    2164-09-17 16:35:15             Discharge  39  33  3  ...  8  0   \n",
       "32002659    2158-12-24 11:56:00  Emergency Department   0   0  0  ...  0  0   \n",
       "34731548    2145-11-02 22:59:00   Trauma SICU (TSICU)   0   0  0  ...  0  0   \n",
       "36195440    2145-11-04 21:29:30             Neurology  15  11  7  ...  1  0   \n",
       "30249304    2145-11-11 13:00:47             Discharge   8  12  2  ...  5  0   \n",
       "\n",
       "             M   N  P  R  S   V  pres_number    duration  \n",
       "transfer_id                                               \n",
       "33258284     0   1  0  2  0   0            9    4.216667  \n",
       "35223874     0   2  0  2  1   0           12   17.857500  \n",
       "38112554     0   1  0  1  0   0           10    5.616667  \n",
       "34703856     0   1  0  3  1   0           15   21.303333  \n",
       "32952584     0   2  0  2  0   0           13   13.500000  \n",
       "...         ..  .. .. .. ..  ..          ...         ...  \n",
       "34767778     0   9  0  0  7  12           63  102.957500  \n",
       "32002659     0   0  0  0  0   0            0    0.250000  \n",
       "34731548     0   0  0  0  0   0            0    3.516667  \n",
       "36195440     0  11  0  3  4   4           35   46.508333  \n",
       "30249304     1  11  0  1  3   6           29  159.521389  \n",
       "\n",
       "[1537372 rows x 23 columns]"
      ]
     },
     "execution_count": 9,
     "metadata": {},
     "output_type": "execute_result"
    }
   ],
   "source": [
    "tranfsers"
   ]
  },
  {
   "cell_type": "code",
   "execution_count": 7,
   "id": "9a068227",
   "metadata": {
    "ExecuteTime": {
     "end_time": "2022-11-01T09:52:57.828122Z",
     "start_time": "2022-11-01T09:52:57.626485Z"
    }
   },
   "outputs": [],
   "source": [
    "transfers.to_pickle('../Capstone-Data/pickles/dirty_transpres.pkl')"
   ]
  },
  {
   "cell_type": "code",
   "execution_count": 23,
   "id": "a5303a7d",
   "metadata": {
    "ExecuteTime": {
     "end_time": "2022-11-01T09:58:53.993011Z",
     "start_time": "2022-11-01T09:58:53.832034Z"
    }
   },
   "outputs": [],
   "source": [
    "transfers2 = pd.read_pickle('../Capstone-Data/pickles/dirty_transpres.pkl')"
   ]
  },
  {
   "cell_type": "markdown",
   "id": "88980f84",
   "metadata": {},
   "source": [
    "Next step is merging transfers that are actually the same event (outtime of a transfer is equal to intime of the following transfer with same subject_ID) or that are very close together. This is because it is not useful to predict very short transfers, as these will be scheduled at least a few hours in advance. We can simplify our dataset and improve our model by mergin these rows when possible. To be conservative, we can set this lower transfer duration threshold at 3 h.\n",
    "\n",
    "Before doing this, we are going to register the number of times that a patient has been previously in a care unit and also the total duration in those care units. We can add these as features later"
   ]
  },
  {
   "cell_type": "code",
   "execution_count": 156,
   "id": "b1a20eb6",
   "metadata": {
    "ExecuteTime": {
     "end_time": "2022-11-01T06:54:27.105365Z",
     "start_time": "2022-11-01T06:54:27.059100Z"
    }
   },
   "outputs": [],
   "source": [
    "transfers = transfers2.copy()"
   ]
  },
  {
   "cell_type": "code",
   "execution_count": 103,
   "id": "ecaa022a",
   "metadata": {
    "ExecuteTime": {
     "end_time": "2022-11-01T06:23:22.202905Z",
     "start_time": "2022-11-01T06:23:22.149801Z"
    }
   },
   "outputs": [],
   "source": [
    "transfers2 = transfers.copy()"
   ]
  },
  {
   "cell_type": "code",
   "execution_count": null,
   "id": "63a15f49",
   "metadata": {
    "deletable": false,
    "editable": false,
    "run_control": {
     "frozen": true
    }
   },
   "outputs": [],
   "source": [
    "# For eventtype and careunit we will leave the value of the row with the highest duration\n",
    "transfers.loc[short_transfers,'careunit'] = transfers.careunit[short_transfers].where(transfers.duration[np.roll(short_transfers,-1)].\\\n",
    "    values < transfers[short_transfers].duration.values,transfers.careunit[np.roll(short_transfers,-1)].values)\n",
    "\n",
    "transfers.loc[short_transfers,'eventtype'] = transfers.eventtype[short_transfers].where(transfers.duration[np.roll(short_transfers,-1)].\\\n",
    "    values < transfers[short_transfers].duration.values,transfers.eventtype[np.roll(short_transfers,-1)].values)\n",
    "\n",
    "    transfers.loc[short_transfers,'careunit'] = transfers.event[short_transfers].where(transfers.duration[np.roll(short_transfers,1)].\\\n",
    "        values < transfers[short_transfers].duration.values,transfers.careunit[np.roll(short_transfers,1)].values)\n",
    "\n",
    "    transfers.loc[short_transfers,'eventtype'] = transfers.eventtype[short_transfers].where(transfers.duration[np.roll(short_transfers,1)].\\\n",
    "        values < transfers[short_transfers].duration.values,transfers.eventtype[np.roll(short_transfers,1)].values)\n",
    "\n"
   ]
  },
  {
   "cell_type": "markdown",
   "id": "b7af9b94",
   "metadata": {},
   "source": [
    "We can calculate duration as the difference in hours between the transfer outtime and the intime"
   ]
  },
  {
   "cell_type": "code",
   "execution_count": 17,
   "id": "9ff7c4eb",
   "metadata": {
    "ExecuteTime": {
     "end_time": "2022-11-01T09:58:09.776172Z",
     "start_time": "2022-11-01T09:58:09.736306Z"
    }
   },
   "outputs": [],
   "source": [
    "transfers['duration'] = (transfers.outtime - transfers.intime)/np.timedelta64(1,'h')"
   ]
  },
  {
   "cell_type": "code",
   "execution_count": 18,
   "id": "f8ca374f",
   "metadata": {
    "ExecuteTime": {
     "end_time": "2022-11-01T09:58:13.078858Z",
     "start_time": "2022-11-01T09:58:13.066559Z"
    }
   },
   "outputs": [],
   "source": [
    "pd.options.mode.chained_assignment = None "
   ]
  },
  {
   "cell_type": "markdown",
   "id": "5b99b227",
   "metadata": {},
   "source": [
    "We will pickle this dataframe so that we can add it after during the feature selection stage (adding now would slow and complicate the process)"
   ]
  },
  {
   "cell_type": "code",
   "execution_count": 23,
   "id": "0fdb1da7",
   "metadata": {
    "ExecuteTime": {
     "end_time": "2022-10-31T23:19:16.139203Z",
     "start_time": "2022-10-31T23:19:15.286473Z"
    },
    "deletable": false,
    "editable": false,
    "run_control": {
     "frozen": true
    }
   },
   "outputs": [],
   "source": [
    "prev_transfers.to_pickle('../Capstone data/pickles/prev_transfers.pkl')"
   ]
  },
  {
   "cell_type": "markdown",
   "id": "70348d7a",
   "metadata": {},
   "source": [
    "Now let's start merging rows. First, we can make sure that no discharge event is closely followed by another transfer or admission."
   ]
  },
  {
   "cell_type": "code",
   "execution_count": 19,
   "id": "c779674e",
   "metadata": {
    "ExecuteTime": {
     "end_time": "2022-11-01T09:58:15.299046Z",
     "start_time": "2022-11-01T09:58:14.505595Z"
    }
   },
   "outputs": [],
   "source": [
    "transfers.sort_values(by = ['subject_id','intime'],inplace = True)"
   ]
  },
  {
   "cell_type": "code",
   "execution_count": 16,
   "id": "71e4001d",
   "metadata": {
    "ExecuteTime": {
     "end_time": "2022-11-01T09:58:00.780072Z",
     "start_time": "2022-11-01T09:58:00.776074Z"
    }
   },
   "outputs": [],
   "source": [
    "cat = list('ABCDGHJLMNPRSV')\n"
   ]
  },
  {
   "cell_type": "code",
   "execution_count": 26,
   "id": "6785e198",
   "metadata": {
    "ExecuteTime": {
     "end_time": "2022-11-01T09:59:42.127900Z",
     "start_time": "2022-11-01T09:59:42.107552Z"
    }
   },
   "outputs": [
    {
     "data": {
      "text/html": [
       "<div>\n",
       "<style scoped>\n",
       "    .dataframe tbody tr th:only-of-type {\n",
       "        vertical-align: middle;\n",
       "    }\n",
       "\n",
       "    .dataframe tbody tr th {\n",
       "        vertical-align: top;\n",
       "    }\n",
       "\n",
       "    .dataframe thead th {\n",
       "        text-align: right;\n",
       "    }\n",
       "</style>\n",
       "<table border=\"1\" class=\"dataframe\">\n",
       "  <thead>\n",
       "    <tr style=\"text-align: right;\">\n",
       "      <th></th>\n",
       "      <th>transfer_id</th>\n",
       "      <th>subject_id</th>\n",
       "      <th>hadm_id</th>\n",
       "      <th>eventtype</th>\n",
       "      <th>careunit</th>\n",
       "      <th>intime</th>\n",
       "      <th>outtime</th>\n",
       "      <th>event</th>\n",
       "      <th>A</th>\n",
       "      <th>B</th>\n",
       "      <th>...</th>\n",
       "      <th>J</th>\n",
       "      <th>L</th>\n",
       "      <th>M</th>\n",
       "      <th>N</th>\n",
       "      <th>P</th>\n",
       "      <th>R</th>\n",
       "      <th>S</th>\n",
       "      <th>V</th>\n",
       "      <th>pres_number</th>\n",
       "      <th>duration</th>\n",
       "    </tr>\n",
       "  </thead>\n",
       "  <tbody>\n",
       "    <tr>\n",
       "      <th>0</th>\n",
       "      <td>33258284</td>\n",
       "      <td>10000032</td>\n",
       "      <td>22595853</td>\n",
       "      <td>ED</td>\n",
       "      <td>Emergency Department</td>\n",
       "      <td>2180-05-06 19:17:00</td>\n",
       "      <td>2180-05-06 23:30:00</td>\n",
       "      <td>Transplant</td>\n",
       "      <td>2</td>\n",
       "      <td>1</td>\n",
       "      <td>...</td>\n",
       "      <td>2</td>\n",
       "      <td>0</td>\n",
       "      <td>0</td>\n",
       "      <td>1</td>\n",
       "      <td>0</td>\n",
       "      <td>2</td>\n",
       "      <td>0</td>\n",
       "      <td>0</td>\n",
       "      <td>9</td>\n",
       "      <td>4.216667</td>\n",
       "    </tr>\n",
       "    <tr>\n",
       "      <th>1</th>\n",
       "      <td>35223874</td>\n",
       "      <td>10000032</td>\n",
       "      <td>22595853</td>\n",
       "      <td>admit</td>\n",
       "      <td>Transplant</td>\n",
       "      <td>2180-05-06 23:30:00</td>\n",
       "      <td>2180-05-07 17:21:27</td>\n",
       "      <td>Discharge</td>\n",
       "      <td>2</td>\n",
       "      <td>3</td>\n",
       "      <td>...</td>\n",
       "      <td>3</td>\n",
       "      <td>0</td>\n",
       "      <td>0</td>\n",
       "      <td>2</td>\n",
       "      <td>0</td>\n",
       "      <td>2</td>\n",
       "      <td>1</td>\n",
       "      <td>0</td>\n",
       "      <td>12</td>\n",
       "      <td>17.857500</td>\n",
       "    </tr>\n",
       "    <tr>\n",
       "      <th>2</th>\n",
       "      <td>38112554</td>\n",
       "      <td>10000032</td>\n",
       "      <td>22841357</td>\n",
       "      <td>ED</td>\n",
       "      <td>Emergency Department</td>\n",
       "      <td>2180-06-26 15:54:00</td>\n",
       "      <td>2180-06-26 21:31:00</td>\n",
       "      <td>Transplant</td>\n",
       "      <td>3</td>\n",
       "      <td>0</td>\n",
       "      <td>...</td>\n",
       "      <td>3</td>\n",
       "      <td>0</td>\n",
       "      <td>0</td>\n",
       "      <td>1</td>\n",
       "      <td>0</td>\n",
       "      <td>1</td>\n",
       "      <td>0</td>\n",
       "      <td>0</td>\n",
       "      <td>10</td>\n",
       "      <td>5.616667</td>\n",
       "    </tr>\n",
       "    <tr>\n",
       "      <th>3</th>\n",
       "      <td>34703856</td>\n",
       "      <td>10000032</td>\n",
       "      <td>22841357</td>\n",
       "      <td>admit</td>\n",
       "      <td>Transplant</td>\n",
       "      <td>2180-06-26 21:31:00</td>\n",
       "      <td>2180-06-27 18:49:12</td>\n",
       "      <td>Discharge</td>\n",
       "      <td>4</td>\n",
       "      <td>2</td>\n",
       "      <td>...</td>\n",
       "      <td>4</td>\n",
       "      <td>0</td>\n",
       "      <td>0</td>\n",
       "      <td>1</td>\n",
       "      <td>0</td>\n",
       "      <td>3</td>\n",
       "      <td>1</td>\n",
       "      <td>0</td>\n",
       "      <td>15</td>\n",
       "      <td>21.303333</td>\n",
       "    </tr>\n",
       "    <tr>\n",
       "      <th>4</th>\n",
       "      <td>32952584</td>\n",
       "      <td>10000032</td>\n",
       "      <td>29079034</td>\n",
       "      <td>ED</td>\n",
       "      <td>Emergency Department</td>\n",
       "      <td>2180-07-22 16:24:00</td>\n",
       "      <td>2180-07-23 05:54:00</td>\n",
       "      <td>Emergency Department</td>\n",
       "      <td>5</td>\n",
       "      <td>1</td>\n",
       "      <td>...</td>\n",
       "      <td>3</td>\n",
       "      <td>0</td>\n",
       "      <td>0</td>\n",
       "      <td>2</td>\n",
       "      <td>0</td>\n",
       "      <td>2</td>\n",
       "      <td>0</td>\n",
       "      <td>0</td>\n",
       "      <td>13</td>\n",
       "      <td>13.500000</td>\n",
       "    </tr>\n",
       "    <tr>\n",
       "      <th>5</th>\n",
       "      <td>39399961</td>\n",
       "      <td>10000032</td>\n",
       "      <td>29079034</td>\n",
       "      <td>ED</td>\n",
       "      <td>Emergency Department</td>\n",
       "      <td>2180-07-23 05:54:00</td>\n",
       "      <td>2180-07-23 14:00:00</td>\n",
       "      <td>Medical Intensive Care Unit (MICU)</td>\n",
       "      <td>5</td>\n",
       "      <td>1</td>\n",
       "      <td>...</td>\n",
       "      <td>3</td>\n",
       "      <td>0</td>\n",
       "      <td>0</td>\n",
       "      <td>2</td>\n",
       "      <td>0</td>\n",
       "      <td>2</td>\n",
       "      <td>0</td>\n",
       "      <td>0</td>\n",
       "      <td>13</td>\n",
       "      <td>8.100000</td>\n",
       "    </tr>\n",
       "    <tr>\n",
       "      <th>6</th>\n",
       "      <td>39553978</td>\n",
       "      <td>10000032</td>\n",
       "      <td>29079034</td>\n",
       "      <td>admit</td>\n",
       "      <td>Medical Intensive Care Unit (MICU)</td>\n",
       "      <td>2180-07-23 14:00:00</td>\n",
       "      <td>2180-07-23 23:50:47</td>\n",
       "      <td>Transplant</td>\n",
       "      <td>6</td>\n",
       "      <td>1</td>\n",
       "      <td>...</td>\n",
       "      <td>3</td>\n",
       "      <td>0</td>\n",
       "      <td>0</td>\n",
       "      <td>1</td>\n",
       "      <td>0</td>\n",
       "      <td>4</td>\n",
       "      <td>1</td>\n",
       "      <td>0</td>\n",
       "      <td>15</td>\n",
       "      <td>9.846389</td>\n",
       "    </tr>\n",
       "    <tr>\n",
       "      <th>7</th>\n",
       "      <td>35888873</td>\n",
       "      <td>10000032</td>\n",
       "      <td>29079034</td>\n",
       "      <td>transfer</td>\n",
       "      <td>Transplant</td>\n",
       "      <td>2180-07-23 23:50:47</td>\n",
       "      <td>2180-07-24 19:52:58</td>\n",
       "      <td>Transplant</td>\n",
       "      <td>4</td>\n",
       "      <td>1</td>\n",
       "      <td>...</td>\n",
       "      <td>0</td>\n",
       "      <td>0</td>\n",
       "      <td>0</td>\n",
       "      <td>1</td>\n",
       "      <td>0</td>\n",
       "      <td>1</td>\n",
       "      <td>0</td>\n",
       "      <td>0</td>\n",
       "      <td>6</td>\n",
       "      <td>20.036389</td>\n",
       "    </tr>\n",
       "    <tr>\n",
       "      <th>8</th>\n",
       "      <td>37682908</td>\n",
       "      <td>10000032</td>\n",
       "      <td>29079034</td>\n",
       "      <td>transfer</td>\n",
       "      <td>Transplant</td>\n",
       "      <td>2180-07-24 19:52:58</td>\n",
       "      <td>2180-07-25 17:55:43</td>\n",
       "      <td>Discharge</td>\n",
       "      <td>0</td>\n",
       "      <td>0</td>\n",
       "      <td>...</td>\n",
       "      <td>0</td>\n",
       "      <td>0</td>\n",
       "      <td>0</td>\n",
       "      <td>0</td>\n",
       "      <td>0</td>\n",
       "      <td>1</td>\n",
       "      <td>0</td>\n",
       "      <td>0</td>\n",
       "      <td>1</td>\n",
       "      <td>22.045833</td>\n",
       "    </tr>\n",
       "    <tr>\n",
       "      <th>9</th>\n",
       "      <td>35968195</td>\n",
       "      <td>10000032</td>\n",
       "      <td>25742920</td>\n",
       "      <td>ED</td>\n",
       "      <td>Emergency Department</td>\n",
       "      <td>2180-08-05 20:58:00</td>\n",
       "      <td>2180-08-06 01:44:00</td>\n",
       "      <td>Transplant</td>\n",
       "      <td>2</td>\n",
       "      <td>0</td>\n",
       "      <td>...</td>\n",
       "      <td>2</td>\n",
       "      <td>0</td>\n",
       "      <td>0</td>\n",
       "      <td>2</td>\n",
       "      <td>0</td>\n",
       "      <td>0</td>\n",
       "      <td>0</td>\n",
       "      <td>0</td>\n",
       "      <td>6</td>\n",
       "      <td>4.766667</td>\n",
       "    </tr>\n",
       "    <tr>\n",
       "      <th>10</th>\n",
       "      <td>35509340</td>\n",
       "      <td>10000032</td>\n",
       "      <td>25742920</td>\n",
       "      <td>admit</td>\n",
       "      <td>Transplant</td>\n",
       "      <td>2180-08-06 01:44:00</td>\n",
       "      <td>2180-08-07 17:50:44</td>\n",
       "      <td>Discharge</td>\n",
       "      <td>10</td>\n",
       "      <td>6</td>\n",
       "      <td>...</td>\n",
       "      <td>3</td>\n",
       "      <td>0</td>\n",
       "      <td>0</td>\n",
       "      <td>5</td>\n",
       "      <td>0</td>\n",
       "      <td>4</td>\n",
       "      <td>1</td>\n",
       "      <td>4</td>\n",
       "      <td>28</td>\n",
       "      <td>40.112222</td>\n",
       "    </tr>\n",
       "    <tr>\n",
       "      <th>11</th>\n",
       "      <td>39159098</td>\n",
       "      <td>10000048</td>\n",
       "      <td>&lt;NA&gt;</td>\n",
       "      <td>ED</td>\n",
       "      <td>Emergency Department</td>\n",
       "      <td>2126-11-22 18:45:00</td>\n",
       "      <td>2126-11-23 02:07:00</td>\n",
       "      <td>Emergency Department</td>\n",
       "      <td>0</td>\n",
       "      <td>0</td>\n",
       "      <td>...</td>\n",
       "      <td>0</td>\n",
       "      <td>0</td>\n",
       "      <td>0</td>\n",
       "      <td>0</td>\n",
       "      <td>0</td>\n",
       "      <td>0</td>\n",
       "      <td>0</td>\n",
       "      <td>0</td>\n",
       "      <td>0</td>\n",
       "      <td>7.366667</td>\n",
       "    </tr>\n",
       "    <tr>\n",
       "      <th>12</th>\n",
       "      <td>31790798</td>\n",
       "      <td>10000068</td>\n",
       "      <td>25022803</td>\n",
       "      <td>ED</td>\n",
       "      <td>Emergency Department</td>\n",
       "      <td>2160-03-03 21:55:00</td>\n",
       "      <td>2160-03-04 06:26:00</td>\n",
       "      <td>Emergency Department Observation</td>\n",
       "      <td>0</td>\n",
       "      <td>0</td>\n",
       "      <td>...</td>\n",
       "      <td>0</td>\n",
       "      <td>0</td>\n",
       "      <td>0</td>\n",
       "      <td>0</td>\n",
       "      <td>0</td>\n",
       "      <td>0</td>\n",
       "      <td>0</td>\n",
       "      <td>0</td>\n",
       "      <td>0</td>\n",
       "      <td>8.516667</td>\n",
       "    </tr>\n",
       "    <tr>\n",
       "      <th>13</th>\n",
       "      <td>31904173</td>\n",
       "      <td>10000068</td>\n",
       "      <td>25022803</td>\n",
       "      <td>admit</td>\n",
       "      <td>Emergency Department Observation</td>\n",
       "      <td>2160-03-04 06:26:00</td>\n",
       "      <td>2160-03-04 07:33:47</td>\n",
       "      <td>Discharge</td>\n",
       "      <td>0</td>\n",
       "      <td>0</td>\n",
       "      <td>...</td>\n",
       "      <td>0</td>\n",
       "      <td>0</td>\n",
       "      <td>0</td>\n",
       "      <td>0</td>\n",
       "      <td>0</td>\n",
       "      <td>0</td>\n",
       "      <td>0</td>\n",
       "      <td>0</td>\n",
       "      <td>0</td>\n",
       "      <td>1.129722</td>\n",
       "    </tr>\n",
       "    <tr>\n",
       "      <th>14</th>\n",
       "      <td>35203156</td>\n",
       "      <td>10000084</td>\n",
       "      <td>23052089</td>\n",
       "      <td>ED</td>\n",
       "      <td>Emergency Department</td>\n",
       "      <td>2160-11-20 20:36:00</td>\n",
       "      <td>2160-11-21 03:20:00</td>\n",
       "      <td>Medicine</td>\n",
       "      <td>0</td>\n",
       "      <td>0</td>\n",
       "      <td>...</td>\n",
       "      <td>0</td>\n",
       "      <td>0</td>\n",
       "      <td>0</td>\n",
       "      <td>3</td>\n",
       "      <td>0</td>\n",
       "      <td>1</td>\n",
       "      <td>0</td>\n",
       "      <td>0</td>\n",
       "      <td>5</td>\n",
       "      <td>6.733333</td>\n",
       "    </tr>\n",
       "    <tr>\n",
       "      <th>15</th>\n",
       "      <td>34537425</td>\n",
       "      <td>10000084</td>\n",
       "      <td>23052089</td>\n",
       "      <td>admit</td>\n",
       "      <td>Medicine</td>\n",
       "      <td>2160-11-21 03:20:00</td>\n",
       "      <td>2160-11-25 14:52:20</td>\n",
       "      <td>Discharge</td>\n",
       "      <td>2</td>\n",
       "      <td>3</td>\n",
       "      <td>...</td>\n",
       "      <td>0</td>\n",
       "      <td>0</td>\n",
       "      <td>0</td>\n",
       "      <td>6</td>\n",
       "      <td>0</td>\n",
       "      <td>0</td>\n",
       "      <td>1</td>\n",
       "      <td>0</td>\n",
       "      <td>11</td>\n",
       "      <td>107.538889</td>\n",
       "    </tr>\n",
       "    <tr>\n",
       "      <th>16</th>\n",
       "      <td>36954971</td>\n",
       "      <td>10000084</td>\n",
       "      <td>29888819</td>\n",
       "      <td>ED</td>\n",
       "      <td>Emergency Department</td>\n",
       "      <td>2160-12-27 18:32:00</td>\n",
       "      <td>2160-12-28 16:07:00</td>\n",
       "      <td>Emergency Department Observation</td>\n",
       "      <td>0</td>\n",
       "      <td>0</td>\n",
       "      <td>...</td>\n",
       "      <td>0</td>\n",
       "      <td>0</td>\n",
       "      <td>0</td>\n",
       "      <td>4</td>\n",
       "      <td>0</td>\n",
       "      <td>1</td>\n",
       "      <td>0</td>\n",
       "      <td>0</td>\n",
       "      <td>6</td>\n",
       "      <td>21.583333</td>\n",
       "    </tr>\n",
       "    <tr>\n",
       "      <th>17</th>\n",
       "      <td>39560622</td>\n",
       "      <td>10000084</td>\n",
       "      <td>29888819</td>\n",
       "      <td>admit</td>\n",
       "      <td>Emergency Department Observation</td>\n",
       "      <td>2160-12-28 16:07:00</td>\n",
       "      <td>2160-12-28 16:10:39</td>\n",
       "      <td>Discharge</td>\n",
       "      <td>0</td>\n",
       "      <td>0</td>\n",
       "      <td>...</td>\n",
       "      <td>0</td>\n",
       "      <td>0</td>\n",
       "      <td>0</td>\n",
       "      <td>0</td>\n",
       "      <td>0</td>\n",
       "      <td>0</td>\n",
       "      <td>0</td>\n",
       "      <td>0</td>\n",
       "      <td>0</td>\n",
       "      <td>0.060833</td>\n",
       "    </tr>\n",
       "    <tr>\n",
       "      <th>18</th>\n",
       "      <td>39891608</td>\n",
       "      <td>10000102</td>\n",
       "      <td>&lt;NA&gt;</td>\n",
       "      <td>ED</td>\n",
       "      <td>Emergency Department</td>\n",
       "      <td>2136-12-20 11:49:00</td>\n",
       "      <td>2136-12-20 13:56:00</td>\n",
       "      <td>Emergency Department</td>\n",
       "      <td>0</td>\n",
       "      <td>0</td>\n",
       "      <td>...</td>\n",
       "      <td>0</td>\n",
       "      <td>0</td>\n",
       "      <td>0</td>\n",
       "      <td>0</td>\n",
       "      <td>0</td>\n",
       "      <td>0</td>\n",
       "      <td>0</td>\n",
       "      <td>0</td>\n",
       "      <td>0</td>\n",
       "      <td>2.116667</td>\n",
       "    </tr>\n",
       "    <tr>\n",
       "      <th>19</th>\n",
       "      <td>32522732</td>\n",
       "      <td>10000108</td>\n",
       "      <td>&lt;NA&gt;</td>\n",
       "      <td>ED</td>\n",
       "      <td>Emergency Department</td>\n",
       "      <td>2163-09-16 16:34:00</td>\n",
       "      <td>2163-09-16 18:13:00</td>\n",
       "      <td>Emergency Department</td>\n",
       "      <td>0</td>\n",
       "      <td>0</td>\n",
       "      <td>...</td>\n",
       "      <td>0</td>\n",
       "      <td>0</td>\n",
       "      <td>0</td>\n",
       "      <td>0</td>\n",
       "      <td>0</td>\n",
       "      <td>0</td>\n",
       "      <td>0</td>\n",
       "      <td>0</td>\n",
       "      <td>0</td>\n",
       "      <td>1.650000</td>\n",
       "    </tr>\n",
       "  </tbody>\n",
       "</table>\n",
       "<p>20 rows × 24 columns</p>\n",
       "</div>"
      ],
      "text/plain": [
       "    transfer_id  subject_id   hadm_id eventtype  \\\n",
       "0      33258284    10000032  22595853        ED   \n",
       "1      35223874    10000032  22595853     admit   \n",
       "2      38112554    10000032  22841357        ED   \n",
       "3      34703856    10000032  22841357     admit   \n",
       "4      32952584    10000032  29079034        ED   \n",
       "5      39399961    10000032  29079034        ED   \n",
       "6      39553978    10000032  29079034     admit   \n",
       "7      35888873    10000032  29079034  transfer   \n",
       "8      37682908    10000032  29079034  transfer   \n",
       "9      35968195    10000032  25742920        ED   \n",
       "10     35509340    10000032  25742920     admit   \n",
       "11     39159098    10000048      <NA>        ED   \n",
       "12     31790798    10000068  25022803        ED   \n",
       "13     31904173    10000068  25022803     admit   \n",
       "14     35203156    10000084  23052089        ED   \n",
       "15     34537425    10000084  23052089     admit   \n",
       "16     36954971    10000084  29888819        ED   \n",
       "17     39560622    10000084  29888819     admit   \n",
       "18     39891608    10000102      <NA>        ED   \n",
       "19     32522732    10000108      <NA>        ED   \n",
       "\n",
       "                              careunit              intime  \\\n",
       "0                 Emergency Department 2180-05-06 19:17:00   \n",
       "1                           Transplant 2180-05-06 23:30:00   \n",
       "2                 Emergency Department 2180-06-26 15:54:00   \n",
       "3                           Transplant 2180-06-26 21:31:00   \n",
       "4                 Emergency Department 2180-07-22 16:24:00   \n",
       "5                 Emergency Department 2180-07-23 05:54:00   \n",
       "6   Medical Intensive Care Unit (MICU) 2180-07-23 14:00:00   \n",
       "7                           Transplant 2180-07-23 23:50:47   \n",
       "8                           Transplant 2180-07-24 19:52:58   \n",
       "9                 Emergency Department 2180-08-05 20:58:00   \n",
       "10                          Transplant 2180-08-06 01:44:00   \n",
       "11                Emergency Department 2126-11-22 18:45:00   \n",
       "12                Emergency Department 2160-03-03 21:55:00   \n",
       "13    Emergency Department Observation 2160-03-04 06:26:00   \n",
       "14                Emergency Department 2160-11-20 20:36:00   \n",
       "15                            Medicine 2160-11-21 03:20:00   \n",
       "16                Emergency Department 2160-12-27 18:32:00   \n",
       "17    Emergency Department Observation 2160-12-28 16:07:00   \n",
       "18                Emergency Department 2136-12-20 11:49:00   \n",
       "19                Emergency Department 2163-09-16 16:34:00   \n",
       "\n",
       "               outtime                               event   A  B  ...  J  L  \\\n",
       "0  2180-05-06 23:30:00                          Transplant   2  1  ...  2  0   \n",
       "1  2180-05-07 17:21:27                           Discharge   2  3  ...  3  0   \n",
       "2  2180-06-26 21:31:00                          Transplant   3  0  ...  3  0   \n",
       "3  2180-06-27 18:49:12                           Discharge   4  2  ...  4  0   \n",
       "4  2180-07-23 05:54:00                Emergency Department   5  1  ...  3  0   \n",
       "5  2180-07-23 14:00:00  Medical Intensive Care Unit (MICU)   5  1  ...  3  0   \n",
       "6  2180-07-23 23:50:47                          Transplant   6  1  ...  3  0   \n",
       "7  2180-07-24 19:52:58                          Transplant   4  1  ...  0  0   \n",
       "8  2180-07-25 17:55:43                           Discharge   0  0  ...  0  0   \n",
       "9  2180-08-06 01:44:00                          Transplant   2  0  ...  2  0   \n",
       "10 2180-08-07 17:50:44                           Discharge  10  6  ...  3  0   \n",
       "11 2126-11-23 02:07:00                Emergency Department   0  0  ...  0  0   \n",
       "12 2160-03-04 06:26:00    Emergency Department Observation   0  0  ...  0  0   \n",
       "13 2160-03-04 07:33:47                           Discharge   0  0  ...  0  0   \n",
       "14 2160-11-21 03:20:00                            Medicine   0  0  ...  0  0   \n",
       "15 2160-11-25 14:52:20                           Discharge   2  3  ...  0  0   \n",
       "16 2160-12-28 16:07:00    Emergency Department Observation   0  0  ...  0  0   \n",
       "17 2160-12-28 16:10:39                           Discharge   0  0  ...  0  0   \n",
       "18 2136-12-20 13:56:00                Emergency Department   0  0  ...  0  0   \n",
       "19 2163-09-16 18:13:00                Emergency Department   0  0  ...  0  0   \n",
       "\n",
       "    M  N  P  R  S  V  pres_number    duration  \n",
       "0   0  1  0  2  0  0            9    4.216667  \n",
       "1   0  2  0  2  1  0           12   17.857500  \n",
       "2   0  1  0  1  0  0           10    5.616667  \n",
       "3   0  1  0  3  1  0           15   21.303333  \n",
       "4   0  2  0  2  0  0           13   13.500000  \n",
       "5   0  2  0  2  0  0           13    8.100000  \n",
       "6   0  1  0  4  1  0           15    9.846389  \n",
       "7   0  1  0  1  0  0            6   20.036389  \n",
       "8   0  0  0  1  0  0            1   22.045833  \n",
       "9   0  2  0  0  0  0            6    4.766667  \n",
       "10  0  5  0  4  1  4           28   40.112222  \n",
       "11  0  0  0  0  0  0            0    7.366667  \n",
       "12  0  0  0  0  0  0            0    8.516667  \n",
       "13  0  0  0  0  0  0            0    1.129722  \n",
       "14  0  3  0  1  0  0            5    6.733333  \n",
       "15  0  6  0  0  1  0           11  107.538889  \n",
       "16  0  4  0  1  0  0            6   21.583333  \n",
       "17  0  0  0  0  0  0            0    0.060833  \n",
       "18  0  0  0  0  0  0            0    2.116667  \n",
       "19  0  0  0  0  0  0            0    1.650000  \n",
       "\n",
       "[20 rows x 24 columns]"
      ]
     },
     "execution_count": 26,
     "metadata": {},
     "output_type": "execute_result"
    }
   ],
   "source": [
    "transfers2.head(20)"
   ]
  },
  {
   "cell_type": "code",
   "execution_count": 27,
   "id": "1ee76f09",
   "metadata": {
    "ExecuteTime": {
     "end_time": "2022-11-01T09:59:46.792861Z",
     "start_time": "2022-11-01T09:59:46.766840Z"
    }
   },
   "outputs": [
    {
     "data": {
      "text/html": [
       "<div>\n",
       "<style scoped>\n",
       "    .dataframe tbody tr th:only-of-type {\n",
       "        vertical-align: middle;\n",
       "    }\n",
       "\n",
       "    .dataframe tbody tr th {\n",
       "        vertical-align: top;\n",
       "    }\n",
       "\n",
       "    .dataframe thead th {\n",
       "        text-align: right;\n",
       "    }\n",
       "</style>\n",
       "<table border=\"1\" class=\"dataframe\">\n",
       "  <thead>\n",
       "    <tr style=\"text-align: right;\">\n",
       "      <th></th>\n",
       "      <th>transfer_id</th>\n",
       "      <th>subject_id</th>\n",
       "      <th>hadm_id</th>\n",
       "      <th>eventtype</th>\n",
       "      <th>careunit</th>\n",
       "      <th>intime</th>\n",
       "      <th>outtime</th>\n",
       "      <th>event</th>\n",
       "      <th>A</th>\n",
       "      <th>B</th>\n",
       "      <th>...</th>\n",
       "      <th>J</th>\n",
       "      <th>L</th>\n",
       "      <th>M</th>\n",
       "      <th>N</th>\n",
       "      <th>P</th>\n",
       "      <th>R</th>\n",
       "      <th>S</th>\n",
       "      <th>V</th>\n",
       "      <th>pres_number</th>\n",
       "      <th>duration</th>\n",
       "    </tr>\n",
       "  </thead>\n",
       "  <tbody>\n",
       "    <tr>\n",
       "      <th>0</th>\n",
       "      <td>33258284</td>\n",
       "      <td>10000032</td>\n",
       "      <td>22595853</td>\n",
       "      <td>ED</td>\n",
       "      <td>Emergency Department</td>\n",
       "      <td>2180-05-06 19:17:00</td>\n",
       "      <td>2180-05-06 23:30:00</td>\n",
       "      <td>Transplant</td>\n",
       "      <td>2</td>\n",
       "      <td>1</td>\n",
       "      <td>...</td>\n",
       "      <td>2</td>\n",
       "      <td>0</td>\n",
       "      <td>0</td>\n",
       "      <td>1</td>\n",
       "      <td>0</td>\n",
       "      <td>2</td>\n",
       "      <td>0</td>\n",
       "      <td>0</td>\n",
       "      <td>9</td>\n",
       "      <td>4.216667</td>\n",
       "    </tr>\n",
       "    <tr>\n",
       "      <th>1</th>\n",
       "      <td>35223874</td>\n",
       "      <td>10000032</td>\n",
       "      <td>22595853</td>\n",
       "      <td>admit</td>\n",
       "      <td>Transplant</td>\n",
       "      <td>2180-05-06 23:30:00</td>\n",
       "      <td>2180-05-07 17:21:27</td>\n",
       "      <td>Discharge</td>\n",
       "      <td>2</td>\n",
       "      <td>3</td>\n",
       "      <td>...</td>\n",
       "      <td>3</td>\n",
       "      <td>0</td>\n",
       "      <td>0</td>\n",
       "      <td>2</td>\n",
       "      <td>0</td>\n",
       "      <td>2</td>\n",
       "      <td>1</td>\n",
       "      <td>0</td>\n",
       "      <td>12</td>\n",
       "      <td>17.857500</td>\n",
       "    </tr>\n",
       "    <tr>\n",
       "      <th>2</th>\n",
       "      <td>38112554</td>\n",
       "      <td>10000032</td>\n",
       "      <td>22841357</td>\n",
       "      <td>ED</td>\n",
       "      <td>Emergency Department</td>\n",
       "      <td>2180-06-26 15:54:00</td>\n",
       "      <td>2180-06-26 21:31:00</td>\n",
       "      <td>Transplant</td>\n",
       "      <td>3</td>\n",
       "      <td>0</td>\n",
       "      <td>...</td>\n",
       "      <td>3</td>\n",
       "      <td>0</td>\n",
       "      <td>0</td>\n",
       "      <td>1</td>\n",
       "      <td>0</td>\n",
       "      <td>1</td>\n",
       "      <td>0</td>\n",
       "      <td>0</td>\n",
       "      <td>10</td>\n",
       "      <td>5.616667</td>\n",
       "    </tr>\n",
       "    <tr>\n",
       "      <th>3</th>\n",
       "      <td>34703856</td>\n",
       "      <td>10000032</td>\n",
       "      <td>22841357</td>\n",
       "      <td>admit</td>\n",
       "      <td>Transplant</td>\n",
       "      <td>2180-06-26 21:31:00</td>\n",
       "      <td>2180-06-27 18:49:12</td>\n",
       "      <td>Discharge</td>\n",
       "      <td>4</td>\n",
       "      <td>2</td>\n",
       "      <td>...</td>\n",
       "      <td>4</td>\n",
       "      <td>0</td>\n",
       "      <td>0</td>\n",
       "      <td>1</td>\n",
       "      <td>0</td>\n",
       "      <td>3</td>\n",
       "      <td>1</td>\n",
       "      <td>0</td>\n",
       "      <td>15</td>\n",
       "      <td>21.303333</td>\n",
       "    </tr>\n",
       "    <tr>\n",
       "      <th>4</th>\n",
       "      <td>32952584</td>\n",
       "      <td>10000032</td>\n",
       "      <td>29079034</td>\n",
       "      <td>ED</td>\n",
       "      <td>Emergency Department</td>\n",
       "      <td>2180-07-22 16:24:00</td>\n",
       "      <td>2180-07-23 05:54:00</td>\n",
       "      <td>Emergency Department</td>\n",
       "      <td>5</td>\n",
       "      <td>1</td>\n",
       "      <td>...</td>\n",
       "      <td>3</td>\n",
       "      <td>0</td>\n",
       "      <td>0</td>\n",
       "      <td>2</td>\n",
       "      <td>0</td>\n",
       "      <td>2</td>\n",
       "      <td>0</td>\n",
       "      <td>0</td>\n",
       "      <td>13</td>\n",
       "      <td>13.500000</td>\n",
       "    </tr>\n",
       "    <tr>\n",
       "      <th>5</th>\n",
       "      <td>39399961</td>\n",
       "      <td>10000032</td>\n",
       "      <td>29079034</td>\n",
       "      <td>ED</td>\n",
       "      <td>Emergency Department</td>\n",
       "      <td>2180-07-23 05:54:00</td>\n",
       "      <td>2180-07-23 14:00:00</td>\n",
       "      <td>Medical Intensive Care Unit (MICU)</td>\n",
       "      <td>5</td>\n",
       "      <td>1</td>\n",
       "      <td>...</td>\n",
       "      <td>3</td>\n",
       "      <td>0</td>\n",
       "      <td>0</td>\n",
       "      <td>2</td>\n",
       "      <td>0</td>\n",
       "      <td>2</td>\n",
       "      <td>0</td>\n",
       "      <td>0</td>\n",
       "      <td>13</td>\n",
       "      <td>8.100000</td>\n",
       "    </tr>\n",
       "    <tr>\n",
       "      <th>6</th>\n",
       "      <td>39553978</td>\n",
       "      <td>10000032</td>\n",
       "      <td>29079034</td>\n",
       "      <td>admit</td>\n",
       "      <td>Medical Intensive Care Unit (MICU)</td>\n",
       "      <td>2180-07-23 14:00:00</td>\n",
       "      <td>2180-07-23 23:50:47</td>\n",
       "      <td>Transplant</td>\n",
       "      <td>6</td>\n",
       "      <td>1</td>\n",
       "      <td>...</td>\n",
       "      <td>3</td>\n",
       "      <td>0</td>\n",
       "      <td>0</td>\n",
       "      <td>1</td>\n",
       "      <td>0</td>\n",
       "      <td>4</td>\n",
       "      <td>1</td>\n",
       "      <td>0</td>\n",
       "      <td>15</td>\n",
       "      <td>9.846389</td>\n",
       "    </tr>\n",
       "    <tr>\n",
       "      <th>7</th>\n",
       "      <td>35888873</td>\n",
       "      <td>10000032</td>\n",
       "      <td>29079034</td>\n",
       "      <td>transfer</td>\n",
       "      <td>Transplant</td>\n",
       "      <td>2180-07-23 23:50:47</td>\n",
       "      <td>2180-07-24 19:52:58</td>\n",
       "      <td>Transplant</td>\n",
       "      <td>4</td>\n",
       "      <td>1</td>\n",
       "      <td>...</td>\n",
       "      <td>0</td>\n",
       "      <td>0</td>\n",
       "      <td>0</td>\n",
       "      <td>1</td>\n",
       "      <td>0</td>\n",
       "      <td>1</td>\n",
       "      <td>0</td>\n",
       "      <td>0</td>\n",
       "      <td>6</td>\n",
       "      <td>20.036389</td>\n",
       "    </tr>\n",
       "    <tr>\n",
       "      <th>8</th>\n",
       "      <td>37682908</td>\n",
       "      <td>10000032</td>\n",
       "      <td>29079034</td>\n",
       "      <td>transfer</td>\n",
       "      <td>Transplant</td>\n",
       "      <td>2180-07-24 19:52:58</td>\n",
       "      <td>2180-07-25 17:55:43</td>\n",
       "      <td>Discharge</td>\n",
       "      <td>0</td>\n",
       "      <td>0</td>\n",
       "      <td>...</td>\n",
       "      <td>0</td>\n",
       "      <td>0</td>\n",
       "      <td>0</td>\n",
       "      <td>0</td>\n",
       "      <td>0</td>\n",
       "      <td>1</td>\n",
       "      <td>0</td>\n",
       "      <td>0</td>\n",
       "      <td>1</td>\n",
       "      <td>22.045833</td>\n",
       "    </tr>\n",
       "    <tr>\n",
       "      <th>9</th>\n",
       "      <td>35968195</td>\n",
       "      <td>10000032</td>\n",
       "      <td>25742920</td>\n",
       "      <td>ED</td>\n",
       "      <td>Emergency Department</td>\n",
       "      <td>2180-08-05 20:58:00</td>\n",
       "      <td>2180-08-06 01:44:00</td>\n",
       "      <td>Transplant</td>\n",
       "      <td>2</td>\n",
       "      <td>0</td>\n",
       "      <td>...</td>\n",
       "      <td>2</td>\n",
       "      <td>0</td>\n",
       "      <td>0</td>\n",
       "      <td>2</td>\n",
       "      <td>0</td>\n",
       "      <td>0</td>\n",
       "      <td>0</td>\n",
       "      <td>0</td>\n",
       "      <td>6</td>\n",
       "      <td>4.766667</td>\n",
       "    </tr>\n",
       "    <tr>\n",
       "      <th>10</th>\n",
       "      <td>35509340</td>\n",
       "      <td>10000032</td>\n",
       "      <td>25742920</td>\n",
       "      <td>admit</td>\n",
       "      <td>Transplant</td>\n",
       "      <td>2180-08-06 01:44:00</td>\n",
       "      <td>2180-08-07 17:50:44</td>\n",
       "      <td>Discharge</td>\n",
       "      <td>10</td>\n",
       "      <td>6</td>\n",
       "      <td>...</td>\n",
       "      <td>3</td>\n",
       "      <td>0</td>\n",
       "      <td>0</td>\n",
       "      <td>5</td>\n",
       "      <td>0</td>\n",
       "      <td>4</td>\n",
       "      <td>1</td>\n",
       "      <td>4</td>\n",
       "      <td>28</td>\n",
       "      <td>40.112222</td>\n",
       "    </tr>\n",
       "    <tr>\n",
       "      <th>11</th>\n",
       "      <td>39159098</td>\n",
       "      <td>10000048</td>\n",
       "      <td>&lt;NA&gt;</td>\n",
       "      <td>ED</td>\n",
       "      <td>Emergency Department</td>\n",
       "      <td>2126-11-22 18:45:00</td>\n",
       "      <td>2126-11-23 02:07:00</td>\n",
       "      <td>Emergency Department</td>\n",
       "      <td>0</td>\n",
       "      <td>0</td>\n",
       "      <td>...</td>\n",
       "      <td>0</td>\n",
       "      <td>0</td>\n",
       "      <td>0</td>\n",
       "      <td>0</td>\n",
       "      <td>0</td>\n",
       "      <td>0</td>\n",
       "      <td>0</td>\n",
       "      <td>0</td>\n",
       "      <td>0</td>\n",
       "      <td>7.366667</td>\n",
       "    </tr>\n",
       "    <tr>\n",
       "      <th>12</th>\n",
       "      <td>31904173</td>\n",
       "      <td>10000068</td>\n",
       "      <td>25022803</td>\n",
       "      <td>ED</td>\n",
       "      <td>Emergency Department</td>\n",
       "      <td>2160-03-03 21:55:00</td>\n",
       "      <td>2160-03-04 07:33:47</td>\n",
       "      <td>Discharge</td>\n",
       "      <td>0</td>\n",
       "      <td>0</td>\n",
       "      <td>...</td>\n",
       "      <td>0</td>\n",
       "      <td>0</td>\n",
       "      <td>0</td>\n",
       "      <td>0</td>\n",
       "      <td>0</td>\n",
       "      <td>0</td>\n",
       "      <td>0</td>\n",
       "      <td>0</td>\n",
       "      <td>0</td>\n",
       "      <td>9.646389</td>\n",
       "    </tr>\n",
       "    <tr>\n",
       "      <th>13</th>\n",
       "      <td>35203156</td>\n",
       "      <td>10000084</td>\n",
       "      <td>23052089</td>\n",
       "      <td>ED</td>\n",
       "      <td>Emergency Department</td>\n",
       "      <td>2160-11-20 20:36:00</td>\n",
       "      <td>2160-11-21 03:20:00</td>\n",
       "      <td>Medicine</td>\n",
       "      <td>0</td>\n",
       "      <td>0</td>\n",
       "      <td>...</td>\n",
       "      <td>0</td>\n",
       "      <td>0</td>\n",
       "      <td>0</td>\n",
       "      <td>3</td>\n",
       "      <td>0</td>\n",
       "      <td>1</td>\n",
       "      <td>0</td>\n",
       "      <td>0</td>\n",
       "      <td>5</td>\n",
       "      <td>6.733333</td>\n",
       "    </tr>\n",
       "    <tr>\n",
       "      <th>14</th>\n",
       "      <td>34537425</td>\n",
       "      <td>10000084</td>\n",
       "      <td>23052089</td>\n",
       "      <td>admit</td>\n",
       "      <td>Medicine</td>\n",
       "      <td>2160-11-21 03:20:00</td>\n",
       "      <td>2160-11-25 14:52:20</td>\n",
       "      <td>Discharge</td>\n",
       "      <td>2</td>\n",
       "      <td>3</td>\n",
       "      <td>...</td>\n",
       "      <td>0</td>\n",
       "      <td>0</td>\n",
       "      <td>0</td>\n",
       "      <td>6</td>\n",
       "      <td>0</td>\n",
       "      <td>0</td>\n",
       "      <td>1</td>\n",
       "      <td>0</td>\n",
       "      <td>11</td>\n",
       "      <td>107.538889</td>\n",
       "    </tr>\n",
       "    <tr>\n",
       "      <th>15</th>\n",
       "      <td>39560622</td>\n",
       "      <td>10000084</td>\n",
       "      <td>29888819</td>\n",
       "      <td>ED</td>\n",
       "      <td>Emergency Department</td>\n",
       "      <td>2160-12-27 18:32:00</td>\n",
       "      <td>2160-12-28 16:10:39</td>\n",
       "      <td>Discharge</td>\n",
       "      <td>0</td>\n",
       "      <td>0</td>\n",
       "      <td>...</td>\n",
       "      <td>0</td>\n",
       "      <td>0</td>\n",
       "      <td>0</td>\n",
       "      <td>4</td>\n",
       "      <td>0</td>\n",
       "      <td>1</td>\n",
       "      <td>0</td>\n",
       "      <td>0</td>\n",
       "      <td>0</td>\n",
       "      <td>21.644167</td>\n",
       "    </tr>\n",
       "    <tr>\n",
       "      <th>16</th>\n",
       "      <td>39891608</td>\n",
       "      <td>10000102</td>\n",
       "      <td>&lt;NA&gt;</td>\n",
       "      <td>ED</td>\n",
       "      <td>Emergency Department</td>\n",
       "      <td>2136-12-20 11:49:00</td>\n",
       "      <td>2136-12-20 13:56:00</td>\n",
       "      <td>Emergency Department</td>\n",
       "      <td>0</td>\n",
       "      <td>0</td>\n",
       "      <td>...</td>\n",
       "      <td>0</td>\n",
       "      <td>0</td>\n",
       "      <td>0</td>\n",
       "      <td>0</td>\n",
       "      <td>0</td>\n",
       "      <td>0</td>\n",
       "      <td>0</td>\n",
       "      <td>0</td>\n",
       "      <td>0</td>\n",
       "      <td>2.116667</td>\n",
       "    </tr>\n",
       "    <tr>\n",
       "      <th>17</th>\n",
       "      <td>32522732</td>\n",
       "      <td>10000108</td>\n",
       "      <td>&lt;NA&gt;</td>\n",
       "      <td>ED</td>\n",
       "      <td>Emergency Department</td>\n",
       "      <td>2163-09-16 16:34:00</td>\n",
       "      <td>2163-09-16 18:13:00</td>\n",
       "      <td>Emergency Department</td>\n",
       "      <td>0</td>\n",
       "      <td>0</td>\n",
       "      <td>...</td>\n",
       "      <td>0</td>\n",
       "      <td>0</td>\n",
       "      <td>0</td>\n",
       "      <td>0</td>\n",
       "      <td>0</td>\n",
       "      <td>0</td>\n",
       "      <td>0</td>\n",
       "      <td>0</td>\n",
       "      <td>0</td>\n",
       "      <td>1.650000</td>\n",
       "    </tr>\n",
       "    <tr>\n",
       "      <th>18</th>\n",
       "      <td>39513268</td>\n",
       "      <td>10000108</td>\n",
       "      <td>&lt;NA&gt;</td>\n",
       "      <td>ED</td>\n",
       "      <td>Emergency Department</td>\n",
       "      <td>2163-09-24 16:14:00</td>\n",
       "      <td>2163-09-24 21:02:00</td>\n",
       "      <td>Emergency Department</td>\n",
       "      <td>0</td>\n",
       "      <td>0</td>\n",
       "      <td>...</td>\n",
       "      <td>0</td>\n",
       "      <td>0</td>\n",
       "      <td>0</td>\n",
       "      <td>0</td>\n",
       "      <td>0</td>\n",
       "      <td>0</td>\n",
       "      <td>0</td>\n",
       "      <td>0</td>\n",
       "      <td>0</td>\n",
       "      <td>4.800000</td>\n",
       "    </tr>\n",
       "    <tr>\n",
       "      <th>19</th>\n",
       "      <td>39507710</td>\n",
       "      <td>10000108</td>\n",
       "      <td>27250926</td>\n",
       "      <td>ED</td>\n",
       "      <td>Emergency Department</td>\n",
       "      <td>2163-09-27 16:18:00</td>\n",
       "      <td>2163-09-28 09:04:56</td>\n",
       "      <td>Discharge</td>\n",
       "      <td>0</td>\n",
       "      <td>0</td>\n",
       "      <td>...</td>\n",
       "      <td>1</td>\n",
       "      <td>0</td>\n",
       "      <td>0</td>\n",
       "      <td>0</td>\n",
       "      <td>0</td>\n",
       "      <td>0</td>\n",
       "      <td>0</td>\n",
       "      <td>0</td>\n",
       "      <td>0</td>\n",
       "      <td>16.782222</td>\n",
       "    </tr>\n",
       "  </tbody>\n",
       "</table>\n",
       "<p>20 rows × 24 columns</p>\n",
       "</div>"
      ],
      "text/plain": [
       "    transfer_id  subject_id   hadm_id eventtype  \\\n",
       "0      33258284    10000032  22595853        ED   \n",
       "1      35223874    10000032  22595853     admit   \n",
       "2      38112554    10000032  22841357        ED   \n",
       "3      34703856    10000032  22841357     admit   \n",
       "4      32952584    10000032  29079034        ED   \n",
       "5      39399961    10000032  29079034        ED   \n",
       "6      39553978    10000032  29079034     admit   \n",
       "7      35888873    10000032  29079034  transfer   \n",
       "8      37682908    10000032  29079034  transfer   \n",
       "9      35968195    10000032  25742920        ED   \n",
       "10     35509340    10000032  25742920     admit   \n",
       "11     39159098    10000048      <NA>        ED   \n",
       "12     31904173    10000068  25022803        ED   \n",
       "13     35203156    10000084  23052089        ED   \n",
       "14     34537425    10000084  23052089     admit   \n",
       "15     39560622    10000084  29888819        ED   \n",
       "16     39891608    10000102      <NA>        ED   \n",
       "17     32522732    10000108      <NA>        ED   \n",
       "18     39513268    10000108      <NA>        ED   \n",
       "19     39507710    10000108  27250926        ED   \n",
       "\n",
       "                              careunit              intime  \\\n",
       "0                 Emergency Department 2180-05-06 19:17:00   \n",
       "1                           Transplant 2180-05-06 23:30:00   \n",
       "2                 Emergency Department 2180-06-26 15:54:00   \n",
       "3                           Transplant 2180-06-26 21:31:00   \n",
       "4                 Emergency Department 2180-07-22 16:24:00   \n",
       "5                 Emergency Department 2180-07-23 05:54:00   \n",
       "6   Medical Intensive Care Unit (MICU) 2180-07-23 14:00:00   \n",
       "7                           Transplant 2180-07-23 23:50:47   \n",
       "8                           Transplant 2180-07-24 19:52:58   \n",
       "9                 Emergency Department 2180-08-05 20:58:00   \n",
       "10                          Transplant 2180-08-06 01:44:00   \n",
       "11                Emergency Department 2126-11-22 18:45:00   \n",
       "12                Emergency Department 2160-03-03 21:55:00   \n",
       "13                Emergency Department 2160-11-20 20:36:00   \n",
       "14                            Medicine 2160-11-21 03:20:00   \n",
       "15                Emergency Department 2160-12-27 18:32:00   \n",
       "16                Emergency Department 2136-12-20 11:49:00   \n",
       "17                Emergency Department 2163-09-16 16:34:00   \n",
       "18                Emergency Department 2163-09-24 16:14:00   \n",
       "19                Emergency Department 2163-09-27 16:18:00   \n",
       "\n",
       "               outtime                               event   A  B  ...  J  L  \\\n",
       "0  2180-05-06 23:30:00                          Transplant   2  1  ...  2  0   \n",
       "1  2180-05-07 17:21:27                           Discharge   2  3  ...  3  0   \n",
       "2  2180-06-26 21:31:00                          Transplant   3  0  ...  3  0   \n",
       "3  2180-06-27 18:49:12                           Discharge   4  2  ...  4  0   \n",
       "4  2180-07-23 05:54:00                Emergency Department   5  1  ...  3  0   \n",
       "5  2180-07-23 14:00:00  Medical Intensive Care Unit (MICU)   5  1  ...  3  0   \n",
       "6  2180-07-23 23:50:47                          Transplant   6  1  ...  3  0   \n",
       "7  2180-07-24 19:52:58                          Transplant   4  1  ...  0  0   \n",
       "8  2180-07-25 17:55:43                           Discharge   0  0  ...  0  0   \n",
       "9  2180-08-06 01:44:00                          Transplant   2  0  ...  2  0   \n",
       "10 2180-08-07 17:50:44                           Discharge  10  6  ...  3  0   \n",
       "11 2126-11-23 02:07:00                Emergency Department   0  0  ...  0  0   \n",
       "12 2160-03-04 07:33:47                           Discharge   0  0  ...  0  0   \n",
       "13 2160-11-21 03:20:00                            Medicine   0  0  ...  0  0   \n",
       "14 2160-11-25 14:52:20                           Discharge   2  3  ...  0  0   \n",
       "15 2160-12-28 16:10:39                           Discharge   0  0  ...  0  0   \n",
       "16 2136-12-20 13:56:00                Emergency Department   0  0  ...  0  0   \n",
       "17 2163-09-16 18:13:00                Emergency Department   0  0  ...  0  0   \n",
       "18 2163-09-24 21:02:00                Emergency Department   0  0  ...  0  0   \n",
       "19 2163-09-28 09:04:56                           Discharge   0  0  ...  1  0   \n",
       "\n",
       "    M  N  P  R  S  V  pres_number    duration  \n",
       "0   0  1  0  2  0  0            9    4.216667  \n",
       "1   0  2  0  2  1  0           12   17.857500  \n",
       "2   0  1  0  1  0  0           10    5.616667  \n",
       "3   0  1  0  3  1  0           15   21.303333  \n",
       "4   0  2  0  2  0  0           13   13.500000  \n",
       "5   0  2  0  2  0  0           13    8.100000  \n",
       "6   0  1  0  4  1  0           15    9.846389  \n",
       "7   0  1  0  1  0  0            6   20.036389  \n",
       "8   0  0  0  1  0  0            1   22.045833  \n",
       "9   0  2  0  0  0  0            6    4.766667  \n",
       "10  0  5  0  4  1  4           28   40.112222  \n",
       "11  0  0  0  0  0  0            0    7.366667  \n",
       "12  0  0  0  0  0  0            0    9.646389  \n",
       "13  0  3  0  1  0  0            5    6.733333  \n",
       "14  0  6  0  0  1  0           11  107.538889  \n",
       "15  0  4  0  1  0  0            0   21.644167  \n",
       "16  0  0  0  0  0  0            0    2.116667  \n",
       "17  0  0  0  0  0  0            0    1.650000  \n",
       "18  0  0  0  0  0  0            0    4.800000  \n",
       "19  0  0  0  0  0  0            0   16.782222  \n",
       "\n",
       "[20 rows x 24 columns]"
      ]
     },
     "execution_count": 27,
     "metadata": {},
     "output_type": "execute_result"
    }
   ],
   "source": [
    "transfers.head(20)"
   ]
  },
  {
   "cell_type": "code",
   "execution_count": 20,
   "id": "c13b2d2e",
   "metadata": {
    "ExecuteTime": {
     "end_time": "2022-11-01T09:58:21.887165Z",
     "start_time": "2022-11-01T09:58:19.300507Z"
    }
   },
   "outputs": [
    {
     "name": "stdout",
     "output_type": "stream",
     "text": [
      "There are 22932 discharge rows followed by another row.\n",
      "Number of loops: 3\n",
      "Rows merged: 22998\n"
     ]
    }
   ],
   "source": [
    "disch_events = transfers.event.str.contains('Discharge').values & \\\n",
    "               (transfers.subject_id.shift(-1) == transfers.subject_id).values & \\\n",
    "               (transfers.outtime > transfers.intime.shift(-1) - np.timedelta64(3,'h')).values\n",
    "\n",
    "print(f'There are {sum(disch_events)} discharge rows followed by another row.')\n",
    "\n",
    "original_len = len(transfers)\n",
    "transfers_len = np.inf # At least one loop\n",
    "i = 0\n",
    "\n",
    "while len(transfers) < transfers_len:\n",
    "    transfers_len = len(transfers)    \n",
    "\n",
    "    disch_events = transfers.event.str.contains('Discharge').values & \\\n",
    "               (transfers.subject_id.shift(-1) == transfers.subject_id).values & \\\n",
    "               (transfers.outtime > transfers.intime.shift(-1) - np.timedelta64(3,'h')).values\n",
    "    \n",
    "    disch_next = np.roll(disch_events,1)\n",
    "    \n",
    "    transfers.loc[disch_events,'outtime'] = transfers.outtime[disch_next].values\n",
    "    transfers.loc[disch_events,'event'] = transfers.event[disch_next].values\n",
    "    transfers.loc[disch_events,cat] += transfers.loc[disch_next,cat].values\n",
    "    \n",
    "    transfers = transfers[~disch_next]\n",
    "    \n",
    "    i +=1\n",
    "    \n",
    "print('Number of loops:',i)\n",
    "print('Rows merged:', original_len - len(transfers))"
   ]
  },
  {
   "cell_type": "markdown",
   "id": "b9804033",
   "metadata": {},
   "source": [
    "We have removed 30k rows. After merging we kept applying the algorithm until there were no more disch_events. Now we will update duration and merge any rows with duration shorter than 3h. These will not be very useful for prediction as most transfers will be scheduled at least a few hours in advance"
   ]
  },
  {
   "cell_type": "code",
   "execution_count": 21,
   "id": "846d60a9",
   "metadata": {
    "ExecuteTime": {
     "end_time": "2022-11-01T09:58:29.577241Z",
     "start_time": "2022-11-01T09:58:28.841535Z"
    }
   },
   "outputs": [
    {
     "name": "stdout",
     "output_type": "stream",
     "text": [
      "Number of loops: 3\n",
      "Rows merged: 172506\n"
     ]
    }
   ],
   "source": [
    "transfers['duration'] = (transfers.outtime - transfers.intime)/np.timedelta64(1,'h')\n",
    "\n",
    "original_len = len(transfers)\n",
    "transfers_len = np.inf # At least one loop\n",
    "\n",
    "i = 0\n",
    "\n",
    "while len(transfers) < transfers_len:\n",
    "    transfers_len = len(transfers)    \n",
    "    # We first create a new column called duration, which can serve as a new feature\n",
    "    # We are interested in rows with duration under 3 hours...\n",
    "    short_transfers = (transfers['duration'] < 3).values\n",
    "    # And whose preceding row has the same subject_id\n",
    "    short_transfers *= (transfers.subject_id.shift() == transfers.subject_id).values\n",
    "    # And where the intime is close to the outtime of the preceding row (within 3 h)\n",
    "    short_transfers *= (transfers.intime < transfers.outtime.shift() + np.timedelta64(3,'h')).values\n",
    "    # We can edit the intime now\n",
    "    short_prev = np.roll(short_transfers,-1)\n",
    "    \n",
    "    transfers.loc[short_transfers,'intime'] = transfers.intime[short_prev].values\n",
    "    transfers.loc[short_transfers,'careunit'] = transfers.careunit[short_prev].values\n",
    "    transfers.loc[short_transfers,'eventtype'] = transfers.eventtype[short_prev].values\n",
    "    transfers.loc[short_transfers,cat] += transfers.loc[short_prev,cat].values\n",
    "    \n",
    "    transfers.reset_index(drop = True, inplace = True)\n",
    "    transfers['duration'] = (transfers.outtime - transfers.intime)/np.timedelta64(1,'h')\n",
    "    \n",
    "    transfers = transfers[~short_prev]\n",
    "    i += 1\n",
    "    \n",
    "    \n",
    "print('Number of loops:',i)\n",
    "print('Rows merged:', original_len - len(transfers))"
   ]
  },
  {
   "cell_type": "code",
   "execution_count": 122,
   "id": "61948f3c",
   "metadata": {
    "ExecuteTime": {
     "end_time": "2022-11-01T06:28:53.716388Z",
     "start_time": "2022-11-01T06:28:53.681777Z"
    }
   },
   "outputs": [],
   "source": [
    "transfers = transfers2.copy()"
   ]
  },
  {
   "cell_type": "markdown",
   "id": "3106a9b5",
   "metadata": {},
   "source": [
    "Now we can do the same but on following rows"
   ]
  },
  {
   "cell_type": "code",
   "execution_count": 22,
   "id": "ebdbbc2f",
   "metadata": {
    "ExecuteTime": {
     "end_time": "2022-11-01T09:58:44.094929Z",
     "start_time": "2022-11-01T09:58:43.624271Z"
    }
   },
   "outputs": [
    {
     "name": "stdout",
     "output_type": "stream",
     "text": [
      "Number of loops 2\n",
      "Rows merged: 47766\n"
     ]
    }
   ],
   "source": [
    "transfers_len = np.inf # At least one loop\n",
    "i = 0\n",
    "original_len = len(transfers)\n",
    "\n",
    "while len(transfers) < transfers_len:\n",
    "    transfers_len = len(transfers)    \n",
    "    # We are interested in rows with duration under 3 hours...\n",
    "    short_transfers = (transfers['duration'] < 3).values\n",
    "    # And whose preceding row has the same subject_id\n",
    "    short_transfers *= (transfers.subject_id == transfers.subject_id.shift(-1)).values\n",
    "    # And where the intime is close to the outtime of the preceding row (within 3 h)\n",
    "    short_transfers *= (transfers.outtime > transfers.intime.shift(-1) - np.timedelta64(3,'h')).values\n",
    "    # # We can edit the intime now\n",
    "    \n",
    "    short_next = np.roll(short_transfers,1)\n",
    "    transfers.loc[short_transfers,'outtime'] = transfers.outtime[short_next].values\n",
    "    transfers.loc[short_transfers,'event'] = transfers.event[short_next].values\n",
    "    transfers.loc[short_transfers,cat] += transfers.loc[short_next,cat].values\n",
    "    \n",
    "    transfers = transfers[~short_next]\n",
    "    transfers.reset_index(drop = True, inplace = True)\n",
    "\n",
    "    transfers['duration'] = (transfers.outtime - transfers.intime)/np.timedelta64(1,'h')\n",
    "    i += 1\n",
    "print('Number of loops',i)\n",
    "print('Rows merged:', original_len - len(transfers))"
   ]
  },
  {
   "cell_type": "code",
   "execution_count": 168,
   "id": "605179ef",
   "metadata": {
    "ExecuteTime": {
     "end_time": "2022-11-01T06:58:01.541578Z",
     "start_time": "2022-11-01T06:58:01.204640Z"
    }
   },
   "outputs": [
    {
     "name": "stdout",
     "output_type": "stream",
     "text": [
      "<class 'pandas.core.frame.DataFrame'>\n",
      "RangeIndex: 1294102 entries, 0 to 1294101\n",
      "Data columns (total 24 columns):\n",
      " #   Column       Non-Null Count    Dtype         \n",
      "---  ------       --------------    -----         \n",
      " 0   transfer_id  1294102 non-null  int64         \n",
      " 1   subject_id   1294102 non-null  int64         \n",
      " 2   hadm_id      947399 non-null   Int64         \n",
      " 3   eventtype    1294102 non-null  object        \n",
      " 4   careunit     1294102 non-null  object        \n",
      " 5   intime       1294102 non-null  datetime64[ns]\n",
      " 6   outtime      1294102 non-null  datetime64[ns]\n",
      " 7   event        1294102 non-null  object        \n",
      " 8   A            1294102 non-null  uint16        \n",
      " 9   B            1294102 non-null  uint16        \n",
      " 10  C            1294102 non-null  uint16        \n",
      " 11  D            1294102 non-null  uint16        \n",
      " 12  G            1294102 non-null  uint16        \n",
      " 13  H            1294102 non-null  uint16        \n",
      " 14  J            1294102 non-null  uint16        \n",
      " 15  L            1294102 non-null  uint16        \n",
      " 16  M            1294102 non-null  uint16        \n",
      " 17  N            1294102 non-null  uint16        \n",
      " 18  P            1294102 non-null  uint16        \n",
      " 19  R            1294102 non-null  uint16        \n",
      " 20  S            1294102 non-null  uint16        \n",
      " 21  V            1294102 non-null  uint16        \n",
      " 22  pres_number  1294102 non-null  uint16        \n",
      " 23  duration     1294102 non-null  float64       \n",
      "dtypes: Int64(1), datetime64[ns](2), float64(1), int64(2), object(3), uint16(15)\n",
      "memory usage: 127.1+ MB\n"
     ]
    }
   ],
   "source": [
    "transfers.info()"
   ]
  },
  {
   "cell_type": "markdown",
   "id": "7751d1c1",
   "metadata": {},
   "source": [
    "Let's look at rows that have been \"split\". Split rows are going to be pairs of rows where the event (or destination careunit) is equal to the current careunit and there is a following transfer. Not all the rows here are actually rows that have been split, as sometimes the first row is followed by a row of a different patient. We will have to remove these rows as a transfer to the same careunit does not make much sense"
   ]
  },
  {
   "cell_type": "code",
   "execution_count": 167,
   "id": "f099602a",
   "metadata": {
    "ExecuteTime": {
     "end_time": "2022-11-01T06:57:52.584902Z",
     "start_time": "2022-11-01T06:57:52.333141Z"
    }
   },
   "outputs": [],
   "source": [
    "split_rows = transfers[['subject_id','outtime','event']] == transfers[['subject_id','intime','careunit']]\\\n",
    ".shift(-1).rename(columns = {'intime':'outtime','careunit':'event'})\n",
    "split_rows = split_rows.all(axis = 1)\n",
    "split_rows = split_rows & (transfers.event == transfers.careunit)"
   ]
  },
  {
   "cell_type": "code",
   "execution_count": 169,
   "id": "40ac7267",
   "metadata": {
    "ExecuteTime": {
     "end_time": "2022-11-01T06:58:16.243412Z",
     "start_time": "2022-11-01T06:58:15.923943Z"
    }
   },
   "outputs": [],
   "source": [
    "transfers[['outtime','event']] = transfers[['outtime','event']].where(~split_rows,transfers[['outtime','event']].shift(-1))\n",
    "\n",
    "non_splits = ~split_rows.shift().fillna(False)\n",
    "transfers = transfers[non_splits]"
   ]
  },
  {
   "cell_type": "markdown",
   "id": "6073fcd0",
   "metadata": {},
   "source": [
    "Let's repeat to make sure that we have taken care of all the split rows (maybe some were split into 3 or more)"
   ]
  },
  {
   "cell_type": "code",
   "execution_count": 170,
   "id": "dc972373",
   "metadata": {
    "ExecuteTime": {
     "end_time": "2022-11-01T06:58:19.092151Z",
     "start_time": "2022-11-01T06:58:18.932497Z"
    }
   },
   "outputs": [
    {
     "name": "stdout",
     "output_type": "stream",
     "text": [
      "False\n"
     ]
    }
   ],
   "source": [
    "split_rows = transfers[['subject_id','outtime','event']] == transfers[['subject_id','intime','careunit']]\\\n",
    ".shift(-1).rename(columns = {'intime':'outtime','careunit':'event'})\n",
    "split_rows = split_rows.all(axis = 1)\n",
    "split_rows = split_rows & (transfers.event == transfers.careunit)\n",
    "print(split_rows.any())"
   ]
  },
  {
   "cell_type": "markdown",
   "id": "e8b4fde2",
   "metadata": {},
   "source": [
    "Now we can check which events and careunits are the same without being continuous transfers"
   ]
  },
  {
   "cell_type": "code",
   "execution_count": 171,
   "id": "eee7a82b",
   "metadata": {
    "ExecuteTime": {
     "end_time": "2022-11-01T06:58:24.862587Z",
     "start_time": "2022-11-01T06:58:24.337516Z"
    }
   },
   "outputs": [
    {
     "data": {
      "text/html": [
       "<div>\n",
       "<style scoped>\n",
       "    .dataframe tbody tr th:only-of-type {\n",
       "        vertical-align: middle;\n",
       "    }\n",
       "\n",
       "    .dataframe tbody tr th {\n",
       "        vertical-align: top;\n",
       "    }\n",
       "\n",
       "    .dataframe thead th {\n",
       "        text-align: right;\n",
       "    }\n",
       "</style>\n",
       "<table border=\"1\" class=\"dataframe\">\n",
       "  <thead>\n",
       "    <tr style=\"text-align: right;\">\n",
       "      <th></th>\n",
       "      <th>transfer_id</th>\n",
       "      <th>subject_id</th>\n",
       "      <th>hadm_id</th>\n",
       "      <th>eventtype</th>\n",
       "      <th>careunit</th>\n",
       "      <th>intime</th>\n",
       "      <th>outtime</th>\n",
       "      <th>event</th>\n",
       "      <th>A</th>\n",
       "      <th>B</th>\n",
       "      <th>...</th>\n",
       "      <th>J</th>\n",
       "      <th>L</th>\n",
       "      <th>M</th>\n",
       "      <th>N</th>\n",
       "      <th>P</th>\n",
       "      <th>R</th>\n",
       "      <th>S</th>\n",
       "      <th>V</th>\n",
       "      <th>pres_number</th>\n",
       "      <th>duration</th>\n",
       "    </tr>\n",
       "  </thead>\n",
       "  <tbody>\n",
       "    <tr>\n",
       "      <th>11</th>\n",
       "      <td>39159098</td>\n",
       "      <td>10000048</td>\n",
       "      <td>&lt;NA&gt;</td>\n",
       "      <td>ED</td>\n",
       "      <td>Emergency Department</td>\n",
       "      <td>2126-11-22 18:45:00</td>\n",
       "      <td>2126-11-23 02:07:00</td>\n",
       "      <td>Emergency Department</td>\n",
       "      <td>0</td>\n",
       "      <td>0</td>\n",
       "      <td>...</td>\n",
       "      <td>0</td>\n",
       "      <td>0</td>\n",
       "      <td>0</td>\n",
       "      <td>0</td>\n",
       "      <td>0</td>\n",
       "      <td>0</td>\n",
       "      <td>0</td>\n",
       "      <td>0</td>\n",
       "      <td>0</td>\n",
       "      <td>7.366667</td>\n",
       "    </tr>\n",
       "    <tr>\n",
       "      <th>16</th>\n",
       "      <td>39891608</td>\n",
       "      <td>10000102</td>\n",
       "      <td>&lt;NA&gt;</td>\n",
       "      <td>ED</td>\n",
       "      <td>Emergency Department</td>\n",
       "      <td>2136-12-20 11:49:00</td>\n",
       "      <td>2136-12-20 13:56:00</td>\n",
       "      <td>Emergency Department</td>\n",
       "      <td>0</td>\n",
       "      <td>0</td>\n",
       "      <td>...</td>\n",
       "      <td>0</td>\n",
       "      <td>0</td>\n",
       "      <td>0</td>\n",
       "      <td>0</td>\n",
       "      <td>0</td>\n",
       "      <td>0</td>\n",
       "      <td>0</td>\n",
       "      <td>0</td>\n",
       "      <td>0</td>\n",
       "      <td>2.116667</td>\n",
       "    </tr>\n",
       "    <tr>\n",
       "      <th>17</th>\n",
       "      <td>32522732</td>\n",
       "      <td>10000108</td>\n",
       "      <td>&lt;NA&gt;</td>\n",
       "      <td>ED</td>\n",
       "      <td>Emergency Department</td>\n",
       "      <td>2163-09-16 16:34:00</td>\n",
       "      <td>2163-09-16 18:13:00</td>\n",
       "      <td>Emergency Department</td>\n",
       "      <td>0</td>\n",
       "      <td>0</td>\n",
       "      <td>...</td>\n",
       "      <td>0</td>\n",
       "      <td>0</td>\n",
       "      <td>0</td>\n",
       "      <td>0</td>\n",
       "      <td>0</td>\n",
       "      <td>0</td>\n",
       "      <td>0</td>\n",
       "      <td>0</td>\n",
       "      <td>0</td>\n",
       "      <td>1.650000</td>\n",
       "    </tr>\n",
       "    <tr>\n",
       "      <th>18</th>\n",
       "      <td>39513268</td>\n",
       "      <td>10000108</td>\n",
       "      <td>&lt;NA&gt;</td>\n",
       "      <td>ED</td>\n",
       "      <td>Emergency Department</td>\n",
       "      <td>2163-09-24 16:14:00</td>\n",
       "      <td>2163-09-24 21:02:00</td>\n",
       "      <td>Emergency Department</td>\n",
       "      <td>0</td>\n",
       "      <td>0</td>\n",
       "      <td>...</td>\n",
       "      <td>0</td>\n",
       "      <td>0</td>\n",
       "      <td>0</td>\n",
       "      <td>0</td>\n",
       "      <td>0</td>\n",
       "      <td>0</td>\n",
       "      <td>0</td>\n",
       "      <td>0</td>\n",
       "      <td>0</td>\n",
       "      <td>4.800000</td>\n",
       "    </tr>\n",
       "    <tr>\n",
       "      <th>20</th>\n",
       "      <td>38081480</td>\n",
       "      <td>10000115</td>\n",
       "      <td>&lt;NA&gt;</td>\n",
       "      <td>ED</td>\n",
       "      <td>Emergency Department</td>\n",
       "      <td>2154-12-10 02:04:00</td>\n",
       "      <td>2154-12-10 05:59:00</td>\n",
       "      <td>Emergency Department</td>\n",
       "      <td>0</td>\n",
       "      <td>0</td>\n",
       "      <td>...</td>\n",
       "      <td>0</td>\n",
       "      <td>0</td>\n",
       "      <td>0</td>\n",
       "      <td>0</td>\n",
       "      <td>0</td>\n",
       "      <td>0</td>\n",
       "      <td>0</td>\n",
       "      <td>0</td>\n",
       "      <td>0</td>\n",
       "      <td>3.916667</td>\n",
       "    </tr>\n",
       "    <tr>\n",
       "      <th>...</th>\n",
       "      <td>...</td>\n",
       "      <td>...</td>\n",
       "      <td>...</td>\n",
       "      <td>...</td>\n",
       "      <td>...</td>\n",
       "      <td>...</td>\n",
       "      <td>...</td>\n",
       "      <td>...</td>\n",
       "      <td>...</td>\n",
       "      <td>...</td>\n",
       "      <td>...</td>\n",
       "      <td>...</td>\n",
       "      <td>...</td>\n",
       "      <td>...</td>\n",
       "      <td>...</td>\n",
       "      <td>...</td>\n",
       "      <td>...</td>\n",
       "      <td>...</td>\n",
       "      <td>...</td>\n",
       "      <td>...</td>\n",
       "      <td>...</td>\n",
       "    </tr>\n",
       "    <tr>\n",
       "      <th>1294046</th>\n",
       "      <td>35122662</td>\n",
       "      <td>19999659</td>\n",
       "      <td>&lt;NA&gt;</td>\n",
       "      <td>ED</td>\n",
       "      <td>Emergency Department</td>\n",
       "      <td>2182-01-07 20:42:00</td>\n",
       "      <td>2182-01-08 02:10:00</td>\n",
       "      <td>Emergency Department</td>\n",
       "      <td>0</td>\n",
       "      <td>0</td>\n",
       "      <td>...</td>\n",
       "      <td>0</td>\n",
       "      <td>0</td>\n",
       "      <td>0</td>\n",
       "      <td>0</td>\n",
       "      <td>0</td>\n",
       "      <td>0</td>\n",
       "      <td>0</td>\n",
       "      <td>0</td>\n",
       "      <td>0</td>\n",
       "      <td>5.466667</td>\n",
       "    </tr>\n",
       "    <tr>\n",
       "      <th>1294048</th>\n",
       "      <td>38224473</td>\n",
       "      <td>19999750</td>\n",
       "      <td>&lt;NA&gt;</td>\n",
       "      <td>ED</td>\n",
       "      <td>Emergency Department</td>\n",
       "      <td>2144-03-22 14:27:00</td>\n",
       "      <td>2144-03-22 18:47:00</td>\n",
       "      <td>Emergency Department</td>\n",
       "      <td>0</td>\n",
       "      <td>0</td>\n",
       "      <td>...</td>\n",
       "      <td>0</td>\n",
       "      <td>0</td>\n",
       "      <td>1</td>\n",
       "      <td>0</td>\n",
       "      <td>0</td>\n",
       "      <td>0</td>\n",
       "      <td>0</td>\n",
       "      <td>0</td>\n",
       "      <td>1</td>\n",
       "      <td>4.333333</td>\n",
       "    </tr>\n",
       "    <tr>\n",
       "      <th>1294049</th>\n",
       "      <td>38616897</td>\n",
       "      <td>19999782</td>\n",
       "      <td>&lt;NA&gt;</td>\n",
       "      <td>ED</td>\n",
       "      <td>Emergency Department</td>\n",
       "      <td>2156-11-09 21:37:00</td>\n",
       "      <td>2156-11-10 03:12:00</td>\n",
       "      <td>Emergency Department</td>\n",
       "      <td>0</td>\n",
       "      <td>0</td>\n",
       "      <td>...</td>\n",
       "      <td>0</td>\n",
       "      <td>0</td>\n",
       "      <td>0</td>\n",
       "      <td>0</td>\n",
       "      <td>0</td>\n",
       "      <td>0</td>\n",
       "      <td>0</td>\n",
       "      <td>0</td>\n",
       "      <td>0</td>\n",
       "      <td>5.583333</td>\n",
       "    </tr>\n",
       "    <tr>\n",
       "      <th>1294091</th>\n",
       "      <td>34751321</td>\n",
       "      <td>19999829</td>\n",
       "      <td>&lt;NA&gt;</td>\n",
       "      <td>ED</td>\n",
       "      <td>Emergency Department</td>\n",
       "      <td>2186-06-14 11:31:00</td>\n",
       "      <td>2186-06-14 14:56:00</td>\n",
       "      <td>Emergency Department</td>\n",
       "      <td>0</td>\n",
       "      <td>0</td>\n",
       "      <td>...</td>\n",
       "      <td>0</td>\n",
       "      <td>0</td>\n",
       "      <td>0</td>\n",
       "      <td>0</td>\n",
       "      <td>0</td>\n",
       "      <td>0</td>\n",
       "      <td>0</td>\n",
       "      <td>0</td>\n",
       "      <td>0</td>\n",
       "      <td>3.416667</td>\n",
       "    </tr>\n",
       "    <tr>\n",
       "      <th>1294098</th>\n",
       "      <td>32002659</td>\n",
       "      <td>19999914</td>\n",
       "      <td>&lt;NA&gt;</td>\n",
       "      <td>ED</td>\n",
       "      <td>Emergency Department</td>\n",
       "      <td>2158-12-24 11:41:00</td>\n",
       "      <td>2158-12-24 11:56:00</td>\n",
       "      <td>Emergency Department</td>\n",
       "      <td>0</td>\n",
       "      <td>0</td>\n",
       "      <td>...</td>\n",
       "      <td>0</td>\n",
       "      <td>0</td>\n",
       "      <td>0</td>\n",
       "      <td>0</td>\n",
       "      <td>0</td>\n",
       "      <td>0</td>\n",
       "      <td>0</td>\n",
       "      <td>0</td>\n",
       "      <td>0</td>\n",
       "      <td>0.250000</td>\n",
       "    </tr>\n",
       "  </tbody>\n",
       "</table>\n",
       "<p>313266 rows × 24 columns</p>\n",
       "</div>"
      ],
      "text/plain": [
       "         transfer_id  subject_id  hadm_id eventtype              careunit  \\\n",
       "11          39159098    10000048     <NA>        ED  Emergency Department   \n",
       "16          39891608    10000102     <NA>        ED  Emergency Department   \n",
       "17          32522732    10000108     <NA>        ED  Emergency Department   \n",
       "18          39513268    10000108     <NA>        ED  Emergency Department   \n",
       "20          38081480    10000115     <NA>        ED  Emergency Department   \n",
       "...              ...         ...      ...       ...                   ...   \n",
       "1294046     35122662    19999659     <NA>        ED  Emergency Department   \n",
       "1294048     38224473    19999750     <NA>        ED  Emergency Department   \n",
       "1294049     38616897    19999782     <NA>        ED  Emergency Department   \n",
       "1294091     34751321    19999829     <NA>        ED  Emergency Department   \n",
       "1294098     32002659    19999914     <NA>        ED  Emergency Department   \n",
       "\n",
       "                     intime             outtime                 event  A  B  \\\n",
       "11      2126-11-22 18:45:00 2126-11-23 02:07:00  Emergency Department  0  0   \n",
       "16      2136-12-20 11:49:00 2136-12-20 13:56:00  Emergency Department  0  0   \n",
       "17      2163-09-16 16:34:00 2163-09-16 18:13:00  Emergency Department  0  0   \n",
       "18      2163-09-24 16:14:00 2163-09-24 21:02:00  Emergency Department  0  0   \n",
       "20      2154-12-10 02:04:00 2154-12-10 05:59:00  Emergency Department  0  0   \n",
       "...                     ...                 ...                   ... .. ..   \n",
       "1294046 2182-01-07 20:42:00 2182-01-08 02:10:00  Emergency Department  0  0   \n",
       "1294048 2144-03-22 14:27:00 2144-03-22 18:47:00  Emergency Department  0  0   \n",
       "1294049 2156-11-09 21:37:00 2156-11-10 03:12:00  Emergency Department  0  0   \n",
       "1294091 2186-06-14 11:31:00 2186-06-14 14:56:00  Emergency Department  0  0   \n",
       "1294098 2158-12-24 11:41:00 2158-12-24 11:56:00  Emergency Department  0  0   \n",
       "\n",
       "         ...  J  L  M  N  P  R  S  V  pres_number  duration  \n",
       "11       ...  0  0  0  0  0  0  0  0            0  7.366667  \n",
       "16       ...  0  0  0  0  0  0  0  0            0  2.116667  \n",
       "17       ...  0  0  0  0  0  0  0  0            0  1.650000  \n",
       "18       ...  0  0  0  0  0  0  0  0            0  4.800000  \n",
       "20       ...  0  0  0  0  0  0  0  0            0  3.916667  \n",
       "...      ... .. .. .. .. .. .. .. ..          ...       ...  \n",
       "1294046  ...  0  0  0  0  0  0  0  0            0  5.466667  \n",
       "1294048  ...  0  0  1  0  0  0  0  0            1  4.333333  \n",
       "1294049  ...  0  0  0  0  0  0  0  0            0  5.583333  \n",
       "1294091  ...  0  0  0  0  0  0  0  0            0  3.416667  \n",
       "1294098  ...  0  0  0  0  0  0  0  0            0  0.250000  \n",
       "\n",
       "[313266 rows x 24 columns]"
      ]
     },
     "metadata": {},
     "output_type": "display_data"
    },
    {
     "name": "stdout",
     "output_type": "stream",
     "text": [
      "<class 'pandas.core.frame.DataFrame'>\n",
      "Int64Index: 313266 entries, 11 to 1294098\n",
      "Data columns (total 24 columns):\n",
      " #   Column       Non-Null Count   Dtype         \n",
      "---  ------       --------------   -----         \n",
      " 0   transfer_id  313266 non-null  int64         \n",
      " 1   subject_id   313266 non-null  int64         \n",
      " 2   hadm_id      10727 non-null   Int64         \n",
      " 3   eventtype    313266 non-null  object        \n",
      " 4   careunit     313266 non-null  object        \n",
      " 5   intime       313266 non-null  datetime64[ns]\n",
      " 6   outtime      313266 non-null  datetime64[ns]\n",
      " 7   event        313266 non-null  object        \n",
      " 8   A            313266 non-null  uint16        \n",
      " 9   B            313266 non-null  uint16        \n",
      " 10  C            313266 non-null  uint16        \n",
      " 11  D            313266 non-null  uint16        \n",
      " 12  G            313266 non-null  uint16        \n",
      " 13  H            313266 non-null  uint16        \n",
      " 14  J            313266 non-null  uint16        \n",
      " 15  L            313266 non-null  uint16        \n",
      " 16  M            313266 non-null  uint16        \n",
      " 17  N            313266 non-null  uint16        \n",
      " 18  P            313266 non-null  uint16        \n",
      " 19  R            313266 non-null  uint16        \n",
      " 20  S            313266 non-null  uint16        \n",
      " 21  V            313266 non-null  uint16        \n",
      " 22  pres_number  313266 non-null  uint16        \n",
      " 23  duration     313266 non-null  float64       \n",
      "dtypes: Int64(1), datetime64[ns](2), float64(1), int64(2), object(3), uint16(15)\n",
      "memory usage: 33.2+ MB\n",
      "None\n",
      "         transfer_id    subject_id       hadm_id eventtype  \\\n",
      "count   3.132660e+05  3.132660e+05  1.072700e+04    313266   \n",
      "unique           NaN           NaN           NaN         3   \n",
      "top              NaN           NaN           NaN        ED   \n",
      "freq             NaN           NaN           NaN    302601   \n",
      "mean    3.500026e+07  1.500035e+07  2.496295e+07       NaN   \n",
      "min     3.000001e+07  1.000005e+07  2.000135e+07       NaN   \n",
      "25%     3.250287e+07  1.251237e+07  2.245338e+07       NaN   \n",
      "50%     3.499841e+07  1.500592e+07  2.497099e+07       NaN   \n",
      "75%     3.751494e+07  1.748720e+07  2.744953e+07       NaN   \n",
      "max     3.999995e+07  1.999991e+07  2.999766e+07       NaN   \n",
      "std     2.888864e+06  2.883081e+06  2.885483e+06       NaN   \n",
      "\n",
      "                    careunit                         intime  \\\n",
      "count                 313266                         313266   \n",
      "unique                    39                            NaN   \n",
      "top     Emergency Department                            NaN   \n",
      "freq                  302601                            NaN   \n",
      "mean                     NaN  2155-02-10 05:43:00.384781312   \n",
      "min                      NaN            2110-01-01 14:04:28   \n",
      "25%                      NaN  2135-01-14 03:10:15.000000512   \n",
      "50%                      NaN            2155-02-01 13:27:30   \n",
      "75%                      NaN  2175-04-09 12:18:44.999999488   \n",
      "max                      NaN            2212-01-24 09:59:00   \n",
      "std                      NaN                            NaN   \n",
      "\n",
      "                              outtime                 event              A  \\\n",
      "count                          313266                313266  313266.000000   \n",
      "unique                            NaN                    39            NaN   \n",
      "top                               NaN  Emergency Department            NaN   \n",
      "freq                              NaN                302601            NaN   \n",
      "mean    2155-02-10 15:12:03.859693568                   NaN       1.014441   \n",
      "min               2110-01-07 10:28:54                   NaN       0.000000   \n",
      "25%     2135-01-14 13:18:44.999999488                   NaN       0.000000   \n",
      "50%               2155-02-01 16:40:30                   NaN       0.000000   \n",
      "75%     2175-04-09 19:12:44.999999488                   NaN       1.000000   \n",
      "max               2212-01-24 13:42:00                   NaN     157.000000   \n",
      "std                               NaN                   NaN       2.944631   \n",
      "\n",
      "                    B  ...              J              L              M  \\\n",
      "count   313266.000000  ...  313266.000000  313266.000000  313266.000000   \n",
      "unique            NaN  ...            NaN            NaN            NaN   \n",
      "top               NaN  ...            NaN            NaN            NaN   \n",
      "freq              NaN  ...            NaN            NaN            NaN   \n",
      "mean         0.520219  ...       0.152299       0.061159       0.116687   \n",
      "min          0.000000  ...       0.000000       0.000000       0.000000   \n",
      "25%          0.000000  ...       0.000000       0.000000       0.000000   \n",
      "50%          0.000000  ...       0.000000       0.000000       0.000000   \n",
      "75%          0.000000  ...       0.000000       0.000000       0.000000   \n",
      "max        199.000000  ...      84.000000      49.000000      14.000000   \n",
      "std          2.708495  ...       0.757277       0.373270       0.395103   \n",
      "\n",
      "                    N              P              R              S  \\\n",
      "count   313266.000000  313266.000000  313266.000000  313266.000000   \n",
      "unique            NaN            NaN            NaN            NaN   \n",
      "top               NaN            NaN            NaN            NaN   \n",
      "freq              NaN            NaN            NaN            NaN   \n",
      "mean         0.834428       0.014125       0.412531       0.258927   \n",
      "min          0.000000       0.000000       0.000000       0.000000   \n",
      "25%          0.000000       0.000000       0.000000       0.000000   \n",
      "50%          0.000000       0.000000       0.000000       0.000000   \n",
      "75%          1.000000       0.000000       0.000000       0.000000   \n",
      "max         94.000000       8.000000      37.000000      76.000000   \n",
      "std          1.906246       0.130860       1.153834       1.049252   \n",
      "\n",
      "                    V    pres_number       duration  \n",
      "count   313266.000000  313266.000000  313266.000000  \n",
      "unique            NaN            NaN            NaN  \n",
      "top               NaN            NaN            NaN  \n",
      "freq              NaN            NaN            NaN  \n",
      "mean         0.144417       3.309191       6.783741  \n",
      "min          0.000000       0.000000     -22.733333  \n",
      "25%          0.000000       0.000000       2.833333  \n",
      "50%          0.000000       0.000000       4.316667  \n",
      "75%          0.000000       4.000000       6.283333  \n",
      "max        105.000000     612.000000    3212.902778  \n",
      "std          1.222692       7.579681      23.641066  \n",
      "\n",
      "[11 rows x 24 columns]\n",
      "count                       313266\n",
      "mean     0 days 09:29:03.474912694\n",
      "std      1 days 19:35:45.537334767\n",
      "min              -1 days +01:16:00\n",
      "25%                0 days 02:50:00\n",
      "50%                0 days 04:20:00\n",
      "75%                0 days 06:20:00\n",
      "max              146 days 23:18:59\n",
      "dtype: object\n"
     ]
    }
   ],
   "source": [
    "non_transfers = transfers.careunit == transfers.event\n",
    "display(transfers[non_transfers])\n",
    "print(transfers[non_transfers].info())\n",
    "print(transfers[non_transfers].describe(include = 'all',datetime_is_numeric=True))\n",
    "print((transfers.outtime[non_transfers]-transfers.intime[non_transfers]).describe())"
   ]
  },
  {
   "cell_type": "markdown",
   "id": "3f8281d2",
   "metadata": {},
   "source": [
    "It is not clear why some transfers are from one department to the other, but these are not events that we can predict. We will drop these rows."
   ]
  },
  {
   "cell_type": "code",
   "execution_count": 172,
   "id": "1cdc0059",
   "metadata": {
    "ExecuteTime": {
     "end_time": "2022-11-01T06:58:44.441478Z",
     "start_time": "2022-11-01T06:58:44.102153Z"
    }
   },
   "outputs": [
    {
     "name": "stdout",
     "output_type": "stream",
     "text": [
      "<class 'pandas.core.frame.DataFrame'>\n",
      "Int64Index: 896572 entries, 0 to 1294101\n",
      "Data columns (total 24 columns):\n",
      " #   Column       Non-Null Count   Dtype         \n",
      "---  ------       --------------   -----         \n",
      " 0   transfer_id  896572 non-null  int64         \n",
      " 1   subject_id   896572 non-null  int64         \n",
      " 2   hadm_id      852415 non-null  Int64         \n",
      " 3   eventtype    896572 non-null  object        \n",
      " 4   careunit     896572 non-null  object        \n",
      " 5   intime       896572 non-null  datetime64[ns]\n",
      " 6   outtime      896572 non-null  datetime64[ns]\n",
      " 7   event        896572 non-null  object        \n",
      " 8   A            896572 non-null  uint16        \n",
      " 9   B            896572 non-null  uint16        \n",
      " 10  C            896572 non-null  uint16        \n",
      " 11  D            896572 non-null  uint16        \n",
      " 12  G            896572 non-null  uint16        \n",
      " 13  H            896572 non-null  uint16        \n",
      " 14  J            896572 non-null  uint16        \n",
      " 15  L            896572 non-null  uint16        \n",
      " 16  M            896572 non-null  uint16        \n",
      " 17  N            896572 non-null  uint16        \n",
      " 18  P            896572 non-null  uint16        \n",
      " 19  R            896572 non-null  uint16        \n",
      " 20  S            896572 non-null  uint16        \n",
      " 21  V            896572 non-null  uint16        \n",
      " 22  pres_number  896572 non-null  uint16        \n",
      " 23  duration     896572 non-null  float64       \n",
      "dtypes: Int64(1), datetime64[ns](2), float64(1), int64(2), object(3), uint16(15)\n",
      "memory usage: 94.9+ MB\n"
     ]
    }
   ],
   "source": [
    "transfers = transfers[~non_transfers]\n",
    "transfers.info()"
   ]
  },
  {
   "cell_type": "markdown",
   "id": "b4303a99",
   "metadata": {},
   "source": [
    "Finally, we can remove any transfers with duration equal to 0. There are some rows left with durations under> 0 but under 3 h, but we will leave these for now"
   ]
  },
  {
   "cell_type": "code",
   "execution_count": 174,
   "id": "61232e62",
   "metadata": {
    "ExecuteTime": {
     "end_time": "2022-11-01T07:03:17.990464Z",
     "start_time": "2022-11-01T07:03:17.867867Z"
    }
   },
   "outputs": [
    {
     "name": "stdout",
     "output_type": "stream",
     "text": [
      "There are 896572 left from an original 1991704\n"
     ]
    }
   ],
   "source": [
    "transfers[~(transfers.duration==0)]\n",
    "print(f'There are {len(transfers)} left from an original 1991704')"
   ]
  },
  {
   "cell_type": "markdown",
   "id": "ceed83b3",
   "metadata": {},
   "source": [
    "We have decreased the number of our rows by more than half in this cleaning process. Let's join this table with features from other tables to get some demographic patient info."
   ]
  },
  {
   "cell_type": "code",
   "execution_count": 54,
   "id": "a787bb22",
   "metadata": {
    "ExecuteTime": {
     "end_time": "2022-10-20T13:40:59.714827Z",
     "start_time": "2022-10-20T13:40:59.690747Z"
    },
    "deletable": false,
    "editable": false,
    "run_control": {
     "frozen": true
    }
   },
   "outputs": [],
   "source": [
    "# Caca\n",
    "cat = list('ABCDGHJLMNPRSV')\n",
    "cat.extend(['pres_no'])\n",
    "\n",
    "dfl = transfers[['subject_id','intime','outtime','transfer_id']].copy()\n",
    "dfr = tranfers[cat].copy() # includes starttime\n",
    "\n",
    "def step_merger(dfl,dfr,n = 50):\n",
    "    \n",
    "    df_merged = pd.merge(dfl.head(0),dfr.head(0), how = 'left')\n",
    "\n",
    "    non_dums = list(df_merged.columns.values)\n",
    "    [non_dums.remove(col) for col in dums]\n",
    "    dums = copy.deepcopy(dums)\n",
    "    dums.append(index_col)\n",
    "\n",
    "    df_merged.drop(columns = index_col,inplace = True)\n",
    "    df_merged.index.rename(index_col,inplace = True)\n",
    "\n",
    "    dfl.sort_values(by = on_col,inplace=True)\n",
    "    dfl.reset_index(inplace = True, drop = True)\n",
    "    dfr.sort_values(by = on_col,inplace=True)\n",
    "    dfr.reset_index(inplace = True, drop = True)\n",
    "\n",
    "    ind_l1 = 0\n",
    "    ind_r1 = 0\n",
    "\n",
    "    inc = round(len(dfr)/n)\n",
    "    max_l = dfl[on_col].max()\n",
    "    max_r = dfr[on_col].max()\n",
    "    for i in range(n):\n",
    "        # Taking first lim rows \n",
    "        max_oncol = dfr.loc[ind_r1:].head(inc)[on_col].values[-1]\n",
    "\n",
    "        if max_oncol < max_l and max_oncol < max_r:\n",
    "            ind_r2 = (dfr[on_col]> max_oncol).argmax() - 1\n",
    "            dfr_chunk = dfr.loc[ind_r1:ind_r2]\n",
    "\n",
    "            ind_l2 = dfl[dfl[on_col] == dfr_chunk[on_col].max()].index.values[-1]\n",
    "\n",
    "            dfl_chunk = dfl.reset_index(drop = True).loc[ind_l1:ind_l2]\n",
    "\n",
    "        else:\n",
    "            dfr_chunk = dfr.loc[ind_r1:]\n",
    "            dfl_chunk = dfl.loc[ind_l1:]\n",
    "\n",
    "        df_merging = pd.merge(dfl_chunk,dfr_chunk, on = on_col, how = 'left')\n",
    "\n",
    "        valid_rows = (df_merging.starttime>df_merging.intime) & (df_merging.starttime<df_merging.outtime)\n",
    "        df_merging.loc[~valid_rows,dums[:-1]] = 0\n",
    "\n",
    "        df_merging = pd.concat([df_merging[dums].groupby(index_col).sum().astype(int),\n",
    "                                df_merging[non_dums].groupby(index_col).first()],\n",
    "                                axis = 1)\n",
    "        df_merged = pd.concat([df_merged,df_merging], axis = 0)\n",
    "        ind_r1 = ind_r2 + 1\n",
    "        ind_l1 = ind_l2 + 1\n",
    "        print(f'Loop {i + 1} out of {n}')\n",
    "    \n",
    "    df_merged.reset_index(drop = False, inplace = True)\n",
    "    return df_merged"
   ]
  },
  {
   "cell_type": "code",
   "execution_count": 175,
   "id": "4a4aa6a8",
   "metadata": {
    "ExecuteTime": {
     "end_time": "2022-11-01T07:04:09.759233Z",
     "start_time": "2022-11-01T07:04:09.634711Z"
    }
   },
   "outputs": [
    {
     "data": {
      "text/html": [
       "<div>\n",
       "<style scoped>\n",
       "    .dataframe tbody tr th:only-of-type {\n",
       "        vertical-align: middle;\n",
       "    }\n",
       "\n",
       "    .dataframe tbody tr th {\n",
       "        vertical-align: top;\n",
       "    }\n",
       "\n",
       "    .dataframe thead th {\n",
       "        text-align: right;\n",
       "    }\n",
       "</style>\n",
       "<table border=\"1\" class=\"dataframe\">\n",
       "  <thead>\n",
       "    <tr style=\"text-align: right;\">\n",
       "      <th></th>\n",
       "      <th>subject_id</th>\n",
       "      <th>gender</th>\n",
       "      <th>anchor_age</th>\n",
       "      <th>anchor_year</th>\n",
       "      <th>anchor_year_group</th>\n",
       "      <th>dod</th>\n",
       "    </tr>\n",
       "  </thead>\n",
       "  <tbody>\n",
       "    <tr>\n",
       "      <th>0</th>\n",
       "      <td>10000032</td>\n",
       "      <td>F</td>\n",
       "      <td>52</td>\n",
       "      <td>2180</td>\n",
       "      <td>2014 - 2016</td>\n",
       "      <td>2180-09-09</td>\n",
       "    </tr>\n",
       "    <tr>\n",
       "      <th>1</th>\n",
       "      <td>10000048</td>\n",
       "      <td>F</td>\n",
       "      <td>23</td>\n",
       "      <td>2126</td>\n",
       "      <td>2008 - 2010</td>\n",
       "      <td>NaN</td>\n",
       "    </tr>\n",
       "    <tr>\n",
       "      <th>2</th>\n",
       "      <td>10000068</td>\n",
       "      <td>F</td>\n",
       "      <td>19</td>\n",
       "      <td>2160</td>\n",
       "      <td>2008 - 2010</td>\n",
       "      <td>NaN</td>\n",
       "    </tr>\n",
       "    <tr>\n",
       "      <th>3</th>\n",
       "      <td>10000084</td>\n",
       "      <td>M</td>\n",
       "      <td>72</td>\n",
       "      <td>2160</td>\n",
       "      <td>2017 - 2019</td>\n",
       "      <td>2161-02-13</td>\n",
       "    </tr>\n",
       "    <tr>\n",
       "      <th>4</th>\n",
       "      <td>10000102</td>\n",
       "      <td>F</td>\n",
       "      <td>27</td>\n",
       "      <td>2136</td>\n",
       "      <td>2008 - 2010</td>\n",
       "      <td>NaN</td>\n",
       "    </tr>\n",
       "  </tbody>\n",
       "</table>\n",
       "</div>"
      ],
      "text/plain": [
       "   subject_id gender  anchor_age  anchor_year anchor_year_group         dod\n",
       "0    10000032      F          52         2180       2014 - 2016  2180-09-09\n",
       "1    10000048      F          23         2126       2008 - 2010         NaN\n",
       "2    10000068      F          19         2160       2008 - 2010         NaN\n",
       "3    10000084      M          72         2160       2017 - 2019  2161-02-13\n",
       "4    10000102      F          27         2136       2008 - 2010         NaN"
      ]
     },
     "execution_count": 175,
     "metadata": {},
     "output_type": "execute_result"
    }
   ],
   "source": [
    "patients = pd.read_csv('../Capstone-Data/MIMIC IV/patients.csv')\n",
    "patients.head()"
   ]
  },
  {
   "cell_type": "code",
   "execution_count": 176,
   "id": "a42e1f36",
   "metadata": {
    "ExecuteTime": {
     "end_time": "2022-11-01T07:04:09.806332Z",
     "start_time": "2022-11-01T07:04:09.761233Z"
    }
   },
   "outputs": [],
   "source": [
    "patients['dod'] = pd.to_datetime(patients.dod, infer_datetime_format = True)"
   ]
  },
  {
   "cell_type": "markdown",
   "id": "82cfeced",
   "metadata": {},
   "source": [
    "Basic eda:"
   ]
  },
  {
   "cell_type": "code",
   "execution_count": 177,
   "id": "1f97ae86",
   "metadata": {
    "ExecuteTime": {
     "end_time": "2022-11-01T07:04:09.886345Z",
     "start_time": "2022-11-01T07:04:09.808237Z"
    }
   },
   "outputs": [
    {
     "name": "stdout",
     "output_type": "stream",
     "text": [
      "<class 'pandas.core.frame.DataFrame'>\n",
      "RangeIndex: 315460 entries, 0 to 315459\n",
      "Data columns (total 6 columns):\n",
      " #   Column             Non-Null Count   Dtype         \n",
      "---  ------             --------------   -----         \n",
      " 0   subject_id         315460 non-null  int64         \n",
      " 1   gender             315460 non-null  object        \n",
      " 2   anchor_age         315460 non-null  int64         \n",
      " 3   anchor_year        315460 non-null  int64         \n",
      " 4   anchor_year_group  315460 non-null  object        \n",
      " 5   dod                30636 non-null   datetime64[ns]\n",
      "dtypes: datetime64[ns](1), int64(3), object(2)\n",
      "memory usage: 14.4+ MB\n",
      "None\n",
      "\n",
      "\n",
      "count                   30636\n",
      "unique                  19705\n",
      "top       2129-11-19 00:00:00\n",
      "freq                        7\n",
      "first     2104-12-24 00:00:00\n",
      "last      2212-01-22 00:00:00\n",
      "Name: dod, dtype: object\n"
     ]
    }
   ],
   "source": [
    "print(patients.info(show_counts = True))\n",
    "print('\\n')\n",
    "print(patients.dod.describe())"
   ]
  },
  {
   "cell_type": "markdown",
   "id": "f34552d5",
   "metadata": {},
   "source": [
    "Okay, no null values (other that the patients that did not die) and nothing weird on date of death (dod). Let's look at info on gender and age."
   ]
  },
  {
   "cell_type": "code",
   "execution_count": 178,
   "id": "4d0e263b",
   "metadata": {
    "ExecuteTime": {
     "end_time": "2022-11-01T07:04:09.917370Z",
     "start_time": "2022-11-01T07:04:09.888266Z"
    }
   },
   "outputs": [
    {
     "data": {
      "text/plain": [
       "0    0.0\n",
       "dtype: float64"
      ]
     },
     "execution_count": 178,
     "metadata": {},
     "output_type": "execute_result"
    }
   ],
   "source": [
    "pd.Series(patients.gender.isna().mean()*100)"
   ]
  },
  {
   "cell_type": "code",
   "execution_count": 179,
   "id": "2241cdea",
   "metadata": {
    "ExecuteTime": {
     "end_time": "2022-11-01T07:04:10.085287Z",
     "start_time": "2022-11-01T07:04:09.919269Z"
    }
   },
   "outputs": [
    {
     "data": {
      "text/html": [
       "<style type=\"text/css\">\n",
       "</style>\n",
       "<table id=\"T_1768e\" style='display:inline'>\n",
       "  <caption>Patient genders</caption>\n",
       "  <thead>\n",
       "    <tr>\n",
       "      <th class=\"blank level0\" >&nbsp;</th>\n",
       "      <th id=\"T_1768e_level0_col0\" class=\"col_heading level0 col0\" >gender</th>\n",
       "    </tr>\n",
       "  </thead>\n",
       "  <tbody>\n",
       "    <tr>\n",
       "      <th id=\"T_1768e_level0_row0\" class=\"row_heading level0 row0\" >F</th>\n",
       "      <td id=\"T_1768e_row0_col0\" class=\"data row0 col0\" >52.906549</td>\n",
       "    </tr>\n",
       "    <tr>\n",
       "      <th id=\"T_1768e_level0_row1\" class=\"row_heading level0 row1\" >M</th>\n",
       "      <td id=\"T_1768e_row1_col0\" class=\"data row1 col0\" >47.093451</td>\n",
       "    </tr>\n",
       "  </tbody>\n",
       "</table>\n",
       "<style type=\"text/css\">\n",
       "</style>\n",
       "<table id=\"T_710c6\" style='display:inline'>\n",
       "  <caption>% that died</caption>\n",
       "  <thead>\n",
       "    <tr>\n",
       "      <th class=\"blank level0\" >&nbsp;</th>\n",
       "      <th id=\"T_710c6_level0_col0\" class=\"col_heading level0 col0\" >gender</th>\n",
       "    </tr>\n",
       "  </thead>\n",
       "  <tbody>\n",
       "    <tr>\n",
       "      <th id=\"T_710c6_level0_row0\" class=\"row_heading level0 row0\" >F</th>\n",
       "      <td id=\"T_710c6_row0_col0\" class=\"data row0 col0\" >8.775367</td>\n",
       "    </tr>\n",
       "    <tr>\n",
       "      <th id=\"T_710c6_level0_row1\" class=\"row_heading level0 row1\" >M</th>\n",
       "      <td id=\"T_710c6_row1_col0\" class=\"data row1 col0\" >10.763255</td>\n",
       "    </tr>\n",
       "  </tbody>\n",
       "</table>\n",
       "<style type=\"text/css\">\n",
       "</style>\n",
       "<table id=\"T_d1529\" style='display:inline'>\n",
       "  <caption>Male and female age distributions</caption>\n",
       "  <thead>\n",
       "    <tr>\n",
       "      <th class=\"blank level0\" >&nbsp;</th>\n",
       "      <th id=\"T_d1529_level0_col0\" class=\"col_heading level0 col0\" >Males</th>\n",
       "      <th id=\"T_d1529_level0_col1\" class=\"col_heading level0 col1\" >Females</th>\n",
       "    </tr>\n",
       "  </thead>\n",
       "  <tbody>\n",
       "    <tr>\n",
       "      <th id=\"T_d1529_level0_row0\" class=\"row_heading level0 row0\" >count</th>\n",
       "      <td id=\"T_d1529_row0_col0\" class=\"data row0 col0\" >148561.000000</td>\n",
       "      <td id=\"T_d1529_row0_col1\" class=\"data row0 col1\" >166899.000000</td>\n",
       "    </tr>\n",
       "    <tr>\n",
       "      <th id=\"T_d1529_level0_row1\" class=\"row_heading level0 row1\" >mean</th>\n",
       "      <td id=\"T_d1529_row1_col0\" class=\"data row1 col0\" >49.026588</td>\n",
       "      <td id=\"T_d1529_row1_col1\" class=\"data row1 col1\" >48.080480</td>\n",
       "    </tr>\n",
       "    <tr>\n",
       "      <th id=\"T_d1529_level0_row2\" class=\"row_heading level0 row2\" >std</th>\n",
       "      <td id=\"T_d1529_row2_col0\" class=\"data row2 col0\" >20.146493</td>\n",
       "      <td id=\"T_d1529_row2_col1\" class=\"data row2 col1\" >21.515040</td>\n",
       "    </tr>\n",
       "    <tr>\n",
       "      <th id=\"T_d1529_level0_row3\" class=\"row_heading level0 row3\" >min</th>\n",
       "      <td id=\"T_d1529_row3_col0\" class=\"data row3 col0\" >18.000000</td>\n",
       "      <td id=\"T_d1529_row3_col1\" class=\"data row3 col1\" >18.000000</td>\n",
       "    </tr>\n",
       "    <tr>\n",
       "      <th id=\"T_d1529_level0_row4\" class=\"row_heading level0 row4\" >25%</th>\n",
       "      <td id=\"T_d1529_row4_col0\" class=\"data row4 col0\" >30.000000</td>\n",
       "      <td id=\"T_d1529_row4_col1\" class=\"data row4 col1\" >28.000000</td>\n",
       "    </tr>\n",
       "    <tr>\n",
       "      <th id=\"T_d1529_level0_row5\" class=\"row_heading level0 row5\" >50%</th>\n",
       "      <td id=\"T_d1529_row5_col0\" class=\"data row5 col0\" >49.000000</td>\n",
       "      <td id=\"T_d1529_row5_col1\" class=\"data row5 col1\" >46.000000</td>\n",
       "    </tr>\n",
       "    <tr>\n",
       "      <th id=\"T_d1529_level0_row6\" class=\"row_heading level0 row6\" >75%</th>\n",
       "      <td id=\"T_d1529_row6_col0\" class=\"data row6 col0\" >65.000000</td>\n",
       "      <td id=\"T_d1529_row6_col1\" class=\"data row6 col1\" >65.000000</td>\n",
       "    </tr>\n",
       "    <tr>\n",
       "      <th id=\"T_d1529_level0_row7\" class=\"row_heading level0 row7\" >max</th>\n",
       "      <td id=\"T_d1529_row7_col0\" class=\"data row7 col0\" >91.000000</td>\n",
       "      <td id=\"T_d1529_row7_col1\" class=\"data row7 col1\" >91.000000</td>\n",
       "    </tr>\n",
       "  </tbody>\n",
       "</table>\n"
      ]
     },
     "metadata": {},
     "output_type": "display_data"
    }
   ],
   "source": [
    "nachopy.display_sbs(\n",
    "                [patients.gender.value_counts(normalize = True)*100,\\\n",
    "\n",
    "                patients.loc[~patients.dod.isna(),'gender'].value_counts()/patients.gender.value_counts()*100,\\\n",
    "\n",
    "                pd.concat([patients.anchor_age[patients.gender == 'M'].describe().rename('Males'),\\\n",
    "                patients.anchor_age[patients.gender == 'F'].describe().rename('Females')], axis = 1)],\\\n",
    "\n",
    "                titles = ['Patient genders', '% that died', 'Male and female age distributions']\n",
    ")"
   ]
  },
  {
   "cell_type": "markdown",
   "id": "753bc93a",
   "metadata": {},
   "source": [
    "Okay, good for now. We do not have any death registered in our transfers tables. This should be an event different from discharge, as the features for patients that expired and patients that were discharged from the hospital will probably be significantly different. Now we are going to join gender, age and dod."
   ]
  },
  {
   "cell_type": "code",
   "execution_count": 180,
   "id": "81f5161f",
   "metadata": {
    "ExecuteTime": {
     "end_time": "2022-11-01T07:04:10.705823Z",
     "start_time": "2022-11-01T07:04:10.087288Z"
    }
   },
   "outputs": [
    {
     "name": "stdout",
     "output_type": "stream",
     "text": [
      "<class 'pandas.core.frame.DataFrame'>\n",
      "Int64Index: 896572 entries, 0 to 896571\n",
      "Data columns (total 27 columns):\n",
      " #   Column       Non-Null Count   Dtype         \n",
      "---  ------       --------------   -----         \n",
      " 0   transfer_id  896572 non-null  int64         \n",
      " 1   subject_id   896572 non-null  int64         \n",
      " 2   hadm_id      852415 non-null  Int64         \n",
      " 3   eventtype    896572 non-null  object        \n",
      " 4   careunit     896572 non-null  object        \n",
      " 5   intime       896572 non-null  datetime64[ns]\n",
      " 6   outtime      896572 non-null  datetime64[ns]\n",
      " 7   event        896572 non-null  object        \n",
      " 8   A            896572 non-null  uint16        \n",
      " 9   B            896572 non-null  uint16        \n",
      " 10  C            896572 non-null  uint16        \n",
      " 11  D            896572 non-null  uint16        \n",
      " 12  G            896572 non-null  uint16        \n",
      " 13  H            896572 non-null  uint16        \n",
      " 14  J            896572 non-null  uint16        \n",
      " 15  L            896572 non-null  uint16        \n",
      " 16  M            896572 non-null  uint16        \n",
      " 17  N            896572 non-null  uint16        \n",
      " 18  P            896572 non-null  uint16        \n",
      " 19  R            896572 non-null  uint16        \n",
      " 20  S            896572 non-null  uint16        \n",
      " 21  V            896572 non-null  uint16        \n",
      " 22  pres_number  896572 non-null  uint16        \n",
      " 23  duration     896572 non-null  float64       \n",
      " 24  gender       896572 non-null  object        \n",
      " 25  anchor_age   896572 non-null  int64         \n",
      " 26  dod          228424 non-null  datetime64[ns]\n",
      "dtypes: Int64(1), datetime64[ns](3), float64(1), int64(3), object(4), uint16(15)\n",
      "memory usage: 115.4+ MB\n"
     ]
    }
   ],
   "source": [
    "transfers = pd.merge(transfers,patients[['subject_id','gender','anchor_age','dod']], on = 'subject_id',how = 'left')\n",
    "transfers.info()"
   ]
  },
  {
   "cell_type": "code",
   "execution_count": 181,
   "id": "e8fc86ab",
   "metadata": {
    "ExecuteTime": {
     "end_time": "2022-11-01T07:04:10.721356Z",
     "start_time": "2022-11-01T07:04:10.707358Z"
    },
    "scrolled": true
   },
   "outputs": [],
   "source": [
    "# deceased = transfers.dod == transfers.outtime.dt.date\n",
    "# print('Did any patients die at event \"Discharge\"?',deceased.any())\n",
    "# print('How many?', deceased.sum(),'And the percentage?', round(deceased.mean()*100,2))\n",
    "# transfers[deceased].head()\n",
    "# transfers[['gender','anchor_age']].isna().mean()\n",
    "# transfers.loc[deceased,'event'] = 'Deceased'\n",
    "# transfers.drop(columns = 'dod',inplace = True)\n",
    "# print('NaN values for new columns')\n",
    "# print(transfers[['gender','anchor_age']].isna().mean())"
   ]
  },
  {
   "cell_type": "markdown",
   "id": "87ed6e1e",
   "metadata": {},
   "source": [
    "Less than 1% of patients in the transfers column died rather than get discharged. We will change the class to \"Deceased\" for these rows. We can drop the dod column and check for any missing values in the new columns. "
   ]
  },
  {
   "cell_type": "markdown",
   "id": "c210ae75",
   "metadata": {},
   "source": [
    "Okay, clean df again. Now let's check what we can add from admissions (private info not shown)"
   ]
  },
  {
   "cell_type": "code",
   "execution_count": 182,
   "id": "10fea209",
   "metadata": {
    "ExecuteTime": {
     "end_time": "2022-11-01T07:04:12.674323Z",
     "start_time": "2022-11-01T07:04:10.724356Z"
    }
   },
   "outputs": [
    {
     "name": "stdout",
     "output_type": "stream",
     "text": [
      "<class 'pandas.core.frame.DataFrame'>\n",
      "RangeIndex: 454324 entries, 0 to 454323\n",
      "Data columns (total 15 columns):\n",
      " #   Column                Non-Null Count   Dtype \n",
      "---  ------                --------------   ----- \n",
      " 0   subject_id            454324 non-null  int64 \n",
      " 1   hadm_id               454324 non-null  int64 \n",
      " 2   admittime             454324 non-null  object\n",
      " 3   dischtime             454324 non-null  object\n",
      " 4   deathtime             9087 non-null    object\n",
      " 5   admission_type        454324 non-null  object\n",
      " 6   admission_location    454324 non-null  object\n",
      " 7   discharge_location    328519 non-null  object\n",
      " 8   insurance             454324 non-null  object\n",
      " 9   language              454324 non-null  object\n",
      " 10  marital_status        444608 non-null  object\n",
      " 11  race                  454324 non-null  object\n",
      " 12  edregtime             315460 non-null  object\n",
      " 13  edouttime             315460 non-null  object\n",
      " 14  hospital_expire_flag  454324 non-null  int64 \n",
      "dtypes: int64(3), object(12)\n",
      "memory usage: 52.0+ MB\n",
      "None\n",
      "subject_id              190279\n",
      "hadm_id                 454324\n",
      "admittime               446961\n",
      "dischtime               442600\n",
      "deathtime                 9086\n",
      "admission_type               9\n",
      "admission_location          11\n",
      "discharge_location          13\n",
      "insurance                    3\n",
      "language                     2\n",
      "marital_status               4\n",
      "race                        33\n",
      "edregtime               309765\n",
      "edouttime               309831\n",
      "hospital_expire_flag         2\n",
      "dtype: int64\n"
     ]
    }
   ],
   "source": [
    "admissions = pd.read_csv('../Capstone-Data/MIMIC IV/admissions.csv')\n",
    "# display(admissions.head())\n",
    "print(admissions.info(show_counts = True))\n",
    "print(admissions.nunique())"
   ]
  },
  {
   "cell_type": "markdown",
   "id": "88fdbd0a",
   "metadata": {
    "ExecuteTime": {
     "end_time": "2022-10-17T15:52:59.807450Z",
     "start_time": "2022-10-17T15:52:59.731986Z"
    }
   },
   "source": [
    "Okay, let's do a basic EDA of some variables that could be interesting"
   ]
  },
  {
   "cell_type": "code",
   "execution_count": 183,
   "id": "3ff3f058",
   "metadata": {
    "ExecuteTime": {
     "end_time": "2022-11-01T07:04:12.808247Z",
     "start_time": "2022-11-01T07:04:12.676325Z"
    }
   },
   "outputs": [
    {
     "data": {
      "text/html": [
       "<style type=\"text/css\">\n",
       "</style>\n",
       "<table id=\"T_73b5e\" style='display:inline'>\n",
       "  <caption>admission_type value_counts</caption>\n",
       "  <thead>\n",
       "    <tr>\n",
       "      <th class=\"blank level0\" >&nbsp;</th>\n",
       "      <th id=\"T_73b5e_level0_col0\" class=\"col_heading level0 col0\" >admission_type</th>\n",
       "    </tr>\n",
       "  </thead>\n",
       "  <tbody>\n",
       "    <tr>\n",
       "      <th id=\"T_73b5e_level0_row0\" class=\"row_heading level0 row0\" >EW EMER.</th>\n",
       "      <td id=\"T_73b5e_row0_col0\" class=\"data row0 col0\" >157487</td>\n",
       "    </tr>\n",
       "    <tr>\n",
       "      <th id=\"T_73b5e_level0_row1\" class=\"row_heading level0 row1\" >EU OBSERVATION</th>\n",
       "      <td id=\"T_73b5e_row1_col0\" class=\"data row1 col0\" >100133</td>\n",
       "    </tr>\n",
       "    <tr>\n",
       "      <th id=\"T_73b5e_level0_row2\" class=\"row_heading level0 row2\" >OBSERVATION ADMIT</th>\n",
       "      <td id=\"T_73b5e_row2_col0\" class=\"data row2 col0\" >55210</td>\n",
       "    </tr>\n",
       "    <tr>\n",
       "      <th id=\"T_73b5e_level0_row3\" class=\"row_heading level0 row3\" >URGENT</th>\n",
       "      <td id=\"T_73b5e_row3_col0\" class=\"data row3 col0\" >47127</td>\n",
       "    </tr>\n",
       "    <tr>\n",
       "      <th id=\"T_73b5e_level0_row4\" class=\"row_heading level0 row4\" >SURGICAL SAME DAY ADMISSION</th>\n",
       "      <td id=\"T_73b5e_row4_col0\" class=\"data row4 col0\" >35994</td>\n",
       "    </tr>\n",
       "    <tr>\n",
       "      <th id=\"T_73b5e_level0_row5\" class=\"row_heading level0 row5\" >DIRECT EMER.</th>\n",
       "      <td id=\"T_73b5e_row5_col0\" class=\"data row5 col0\" >20584</td>\n",
       "    </tr>\n",
       "    <tr>\n",
       "      <th id=\"T_73b5e_level0_row6\" class=\"row_heading level0 row6\" >DIRECT OBSERVATION</th>\n",
       "      <td id=\"T_73b5e_row6_col0\" class=\"data row6 col0\" >19698</td>\n",
       "    </tr>\n",
       "    <tr>\n",
       "      <th id=\"T_73b5e_level0_row7\" class=\"row_heading level0 row7\" >ELECTIVE</th>\n",
       "      <td id=\"T_73b5e_row7_col0\" class=\"data row7 col0\" >11089</td>\n",
       "    </tr>\n",
       "    <tr>\n",
       "      <th id=\"T_73b5e_level0_row8\" class=\"row_heading level0 row8\" >AMBULATORY OBSERVATION</th>\n",
       "      <td id=\"T_73b5e_row8_col0\" class=\"data row8 col0\" >7002</td>\n",
       "    </tr>\n",
       "  </tbody>\n",
       "</table>\n",
       "<style type=\"text/css\">\n",
       "</style>\n",
       "<table id=\"T_631bd\" style='display:inline'>\n",
       "  <caption>discharge_location value_counts</caption>\n",
       "  <thead>\n",
       "    <tr>\n",
       "      <th class=\"blank level0\" >&nbsp;</th>\n",
       "      <th id=\"T_631bd_level0_col0\" class=\"col_heading level0 col0\" >discharge_location</th>\n",
       "    </tr>\n",
       "  </thead>\n",
       "  <tbody>\n",
       "    <tr>\n",
       "      <th id=\"T_631bd_level0_row0\" class=\"row_heading level0 row0\" >HOME</th>\n",
       "      <td id=\"T_631bd_row0_col0\" class=\"data row0 col0\" >163664</td>\n",
       "    </tr>\n",
       "    <tr>\n",
       "      <th id=\"T_631bd_level0_row1\" class=\"row_heading level0 row1\" >HOME HEALTH CARE</th>\n",
       "      <td id=\"T_631bd_row1_col0\" class=\"data row1 col0\" >79506</td>\n",
       "    </tr>\n",
       "    <tr>\n",
       "      <th id=\"T_631bd_level0_row2\" class=\"row_heading level0 row2\" >SKILLED NURSING FACILITY</th>\n",
       "      <td id=\"T_631bd_row2_col0\" class=\"data row2 col0\" >45280</td>\n",
       "    </tr>\n",
       "    <tr>\n",
       "      <th id=\"T_631bd_level0_row3\" class=\"row_heading level0 row3\" >REHAB</th>\n",
       "      <td id=\"T_631bd_row3_col0\" class=\"data row3 col0\" >11025</td>\n",
       "    </tr>\n",
       "    <tr>\n",
       "      <th id=\"T_631bd_level0_row4\" class=\"row_heading level0 row4\" >DIED</th>\n",
       "      <td id=\"T_631bd_row4_col0\" class=\"data row4 col0\" >8997</td>\n",
       "    </tr>\n",
       "    <tr>\n",
       "      <th id=\"T_631bd_level0_row5\" class=\"row_heading level0 row5\" >CHRONIC/LONG TERM ACUTE CARE</th>\n",
       "      <td id=\"T_631bd_row5_col0\" class=\"data row5 col0\" >7531</td>\n",
       "    </tr>\n",
       "    <tr>\n",
       "      <th id=\"T_631bd_level0_row6\" class=\"row_heading level0 row6\" >HOSPICE</th>\n",
       "      <td id=\"T_631bd_row6_col0\" class=\"data row6 col0\" >3649</td>\n",
       "    </tr>\n",
       "    <tr>\n",
       "      <th id=\"T_631bd_level0_row7\" class=\"row_heading level0 row7\" >AGAINST ADVICE</th>\n",
       "      <td id=\"T_631bd_row7_col0\" class=\"data row7 col0\" >2703</td>\n",
       "    </tr>\n",
       "    <tr>\n",
       "      <th id=\"T_631bd_level0_row8\" class=\"row_heading level0 row8\" >PSYCH FACILITY</th>\n",
       "      <td id=\"T_631bd_row8_col0\" class=\"data row8 col0\" >2405</td>\n",
       "    </tr>\n",
       "    <tr>\n",
       "      <th id=\"T_631bd_level0_row9\" class=\"row_heading level0 row9\" >ACUTE HOSPITAL</th>\n",
       "      <td id=\"T_631bd_row9_col0\" class=\"data row9 col0\" >1702</td>\n",
       "    </tr>\n",
       "    <tr>\n",
       "      <th id=\"T_631bd_level0_row10\" class=\"row_heading level0 row10\" >OTHER FACILITY</th>\n",
       "      <td id=\"T_631bd_row10_col0\" class=\"data row10 col0\" >1428</td>\n",
       "    </tr>\n",
       "    <tr>\n",
       "      <th id=\"T_631bd_level0_row11\" class=\"row_heading level0 row11\" >ASSISTED LIVING</th>\n",
       "      <td id=\"T_631bd_row11_col0\" class=\"data row11 col0\" >583</td>\n",
       "    </tr>\n",
       "    <tr>\n",
       "      <th id=\"T_631bd_level0_row12\" class=\"row_heading level0 row12\" >HEALTHCARE FACILITY</th>\n",
       "      <td id=\"T_631bd_row12_col0\" class=\"data row12 col0\" >46</td>\n",
       "    </tr>\n",
       "  </tbody>\n",
       "</table>\n",
       "<style type=\"text/css\">\n",
       "</style>\n",
       "<table id=\"T_5f702\" style='display:inline'>\n",
       "  <caption>insurance value_counts</caption>\n",
       "  <thead>\n",
       "    <tr>\n",
       "      <th class=\"blank level0\" >&nbsp;</th>\n",
       "      <th id=\"T_5f702_level0_col0\" class=\"col_heading level0 col0\" >insurance</th>\n",
       "    </tr>\n",
       "  </thead>\n",
       "  <tbody>\n",
       "    <tr>\n",
       "      <th id=\"T_5f702_level0_row0\" class=\"row_heading level0 row0\" >Other</th>\n",
       "      <td id=\"T_5f702_row0_col0\" class=\"data row0 col0\" >241613</td>\n",
       "    </tr>\n",
       "    <tr>\n",
       "      <th id=\"T_5f702_level0_row1\" class=\"row_heading level0 row1\" >Medicare</th>\n",
       "      <td id=\"T_5f702_row1_col0\" class=\"data row1 col0\" >168963</td>\n",
       "    </tr>\n",
       "    <tr>\n",
       "      <th id=\"T_5f702_level0_row2\" class=\"row_heading level0 row2\" >Medicaid</th>\n",
       "      <td id=\"T_5f702_row2_col0\" class=\"data row2 col0\" >43748</td>\n",
       "    </tr>\n",
       "  </tbody>\n",
       "</table>\n",
       "<style type=\"text/css\">\n",
       "</style>\n",
       "<table id=\"T_a9ec4\" style='display:inline'>\n",
       "  <caption>language value_counts</caption>\n",
       "  <thead>\n",
       "    <tr>\n",
       "      <th class=\"blank level0\" >&nbsp;</th>\n",
       "      <th id=\"T_a9ec4_level0_col0\" class=\"col_heading level0 col0\" >language</th>\n",
       "    </tr>\n",
       "  </thead>\n",
       "  <tbody>\n",
       "    <tr>\n",
       "      <th id=\"T_a9ec4_level0_row0\" class=\"row_heading level0 row0\" >ENGLISH</th>\n",
       "      <td id=\"T_a9ec4_row0_col0\" class=\"data row0 col0\" >409153</td>\n",
       "    </tr>\n",
       "    <tr>\n",
       "      <th id=\"T_a9ec4_level0_row1\" class=\"row_heading level0 row1\" >?</th>\n",
       "      <td id=\"T_a9ec4_row1_col0\" class=\"data row1 col0\" >45171</td>\n",
       "    </tr>\n",
       "  </tbody>\n",
       "</table>\n",
       "<style type=\"text/css\">\n",
       "</style>\n",
       "<table id=\"T_3b60d\" style='display:inline'>\n",
       "  <caption>marital_status value_counts</caption>\n",
       "  <thead>\n",
       "    <tr>\n",
       "      <th class=\"blank level0\" >&nbsp;</th>\n",
       "      <th id=\"T_3b60d_level0_col0\" class=\"col_heading level0 col0\" >marital_status</th>\n",
       "    </tr>\n",
       "  </thead>\n",
       "  <tbody>\n",
       "    <tr>\n",
       "      <th id=\"T_3b60d_level0_row0\" class=\"row_heading level0 row0\" >MARRIED</th>\n",
       "      <td id=\"T_3b60d_row0_col0\" class=\"data row0 col0\" >191114</td>\n",
       "    </tr>\n",
       "    <tr>\n",
       "      <th id=\"T_3b60d_level0_row1\" class=\"row_heading level0 row1\" >SINGLE</th>\n",
       "      <td id=\"T_3b60d_row1_col0\" class=\"data row1 col0\" >171996</td>\n",
       "    </tr>\n",
       "    <tr>\n",
       "      <th id=\"T_3b60d_level0_row2\" class=\"row_heading level0 row2\" >WIDOWED</th>\n",
       "      <td id=\"T_3b60d_row2_col0\" class=\"data row2 col0\" >48334</td>\n",
       "    </tr>\n",
       "    <tr>\n",
       "      <th id=\"T_3b60d_level0_row3\" class=\"row_heading level0 row3\" >DIVORCED</th>\n",
       "      <td id=\"T_3b60d_row3_col0\" class=\"data row3 col0\" >33164</td>\n",
       "    </tr>\n",
       "  </tbody>\n",
       "</table>\n",
       "<style type=\"text/css\">\n",
       "</style>\n",
       "<table id=\"T_72a9d\" style='display:inline'>\n",
       "  <caption>race value_counts</caption>\n",
       "  <thead>\n",
       "    <tr>\n",
       "      <th class=\"blank level0\" >&nbsp;</th>\n",
       "      <th id=\"T_72a9d_level0_col0\" class=\"col_heading level0 col0\" >race</th>\n",
       "    </tr>\n",
       "  </thead>\n",
       "  <tbody>\n",
       "    <tr>\n",
       "      <th id=\"T_72a9d_level0_row0\" class=\"row_heading level0 row0\" >WHITE</th>\n",
       "      <td id=\"T_72a9d_row0_col0\" class=\"data row0 col0\" >287313</td>\n",
       "    </tr>\n",
       "    <tr>\n",
       "      <th id=\"T_72a9d_level0_row1\" class=\"row_heading level0 row1\" >BLACK/AFRICAN AMERICAN</th>\n",
       "      <td id=\"T_72a9d_row1_col0\" class=\"data row1 col0\" >63195</td>\n",
       "    </tr>\n",
       "    <tr>\n",
       "      <th id=\"T_72a9d_level0_row2\" class=\"row_heading level0 row2\" >OTHER</th>\n",
       "      <td id=\"T_72a9d_row2_col0\" class=\"data row2 col0\" >15865</td>\n",
       "    </tr>\n",
       "    <tr>\n",
       "      <th id=\"T_72a9d_level0_row3\" class=\"row_heading level0 row3\" >UNKNOWN</th>\n",
       "      <td id=\"T_72a9d_row3_col0\" class=\"data row3 col0\" >11237</td>\n",
       "    </tr>\n",
       "    <tr>\n",
       "      <th id=\"T_72a9d_level0_row4\" class=\"row_heading level0 row4\" >HISPANIC/LATINO - PUERTO RICAN</th>\n",
       "      <td id=\"T_72a9d_row4_col0\" class=\"data row4 col0\" >8591</td>\n",
       "    </tr>\n",
       "    <tr>\n",
       "      <th id=\"T_72a9d_level0_row5\" class=\"row_heading level0 row5\" >WHITE - OTHER EUROPEAN</th>\n",
       "      <td id=\"T_72a9d_row5_col0\" class=\"data row5 col0\" >8379</td>\n",
       "    </tr>\n",
       "    <tr>\n",
       "      <th id=\"T_72a9d_level0_row6\" class=\"row_heading level0 row6\" >HISPANIC OR LATINO</th>\n",
       "      <td id=\"T_72a9d_row6_col0\" class=\"data row6 col0\" >8250</td>\n",
       "    </tr>\n",
       "    <tr>\n",
       "      <th id=\"T_72a9d_level0_row7\" class=\"row_heading level0 row7\" >ASIAN</th>\n",
       "      <td id=\"T_72a9d_row7_col0\" class=\"data row7 col0\" >6520</td>\n",
       "    </tr>\n",
       "    <tr>\n",
       "      <th id=\"T_72a9d_level0_row8\" class=\"row_heading level0 row8\" >ASIAN - CHINESE</th>\n",
       "      <td id=\"T_72a9d_row8_col0\" class=\"data row8 col0\" >5865</td>\n",
       "    </tr>\n",
       "    <tr>\n",
       "      <th id=\"T_72a9d_level0_row9\" class=\"row_heading level0 row9\" >WHITE - RUSSIAN</th>\n",
       "      <td id=\"T_72a9d_row9_col0\" class=\"data row9 col0\" >5307</td>\n",
       "    </tr>\n",
       "    <tr>\n",
       "      <th id=\"T_72a9d_level0_row10\" class=\"row_heading level0 row10\" >BLACK/CAPE VERDEAN</th>\n",
       "      <td id=\"T_72a9d_row10_col0\" class=\"data row10 col0\" >5028</td>\n",
       "    </tr>\n",
       "    <tr>\n",
       "      <th id=\"T_72a9d_level0_row11\" class=\"row_heading level0 row11\" >HISPANIC/LATINO - DOMINICAN</th>\n",
       "      <td id=\"T_72a9d_row11_col0\" class=\"data row11 col0\" >4622</td>\n",
       "    </tr>\n",
       "    <tr>\n",
       "      <th id=\"T_72a9d_level0_row12\" class=\"row_heading level0 row12\" >BLACK/CARIBBEAN ISLAND</th>\n",
       "      <td id=\"T_72a9d_row12_col0\" class=\"data row12 col0\" >2801</td>\n",
       "    </tr>\n",
       "    <tr>\n",
       "      <th id=\"T_72a9d_level0_row13\" class=\"row_heading level0 row13\" >BLACK/AFRICAN</th>\n",
       "      <td id=\"T_72a9d_row13_col0\" class=\"data row13 col0\" >2676</td>\n",
       "    </tr>\n",
       "    <tr>\n",
       "      <th id=\"T_72a9d_level0_row14\" class=\"row_heading level0 row14\" >PATIENT DECLINED TO ANSWER</th>\n",
       "      <td id=\"T_72a9d_row14_col0\" class=\"data row14 col0\" >1845</td>\n",
       "    </tr>\n",
       "    <tr>\n",
       "      <th id=\"T_72a9d_level0_row15\" class=\"row_heading level0 row15\" >UNABLE TO OBTAIN</th>\n",
       "      <td id=\"T_72a9d_row15_col0\" class=\"data row15 col0\" >1684</td>\n",
       "    </tr>\n",
       "    <tr>\n",
       "      <th id=\"T_72a9d_level0_row16\" class=\"row_heading level0 row16\" >PORTUGUESE</th>\n",
       "      <td id=\"T_72a9d_row16_col0\" class=\"data row16 col0\" >1567</td>\n",
       "    </tr>\n",
       "  </tbody>\n",
       "</table>\n",
       "<style type=\"text/css\">\n",
       "</style>\n",
       "<table id=\"T_14354\" style='display:inline'>\n",
       "  <thead>\n",
       "    <tr>\n",
       "      <th class=\"blank level0\" >&nbsp;</th>\n",
       "      <th id=\"T_14354_level0_col0\" class=\"col_heading level0 col0\" >race</th>\n",
       "    </tr>\n",
       "  </thead>\n",
       "  <tbody>\n",
       "    <tr>\n",
       "      <th id=\"T_14354_level0_row0\" class=\"row_heading level0 row0\" >ASIAN - SOUTH EAST ASIAN</th>\n",
       "      <td id=\"T_14354_row0_col0\" class=\"data row0 col0\" >1527</td>\n",
       "    </tr>\n",
       "    <tr>\n",
       "      <th id=\"T_14354_level0_row1\" class=\"row_heading level0 row1\" >HISPANIC/LATINO - GUATEMALAN</th>\n",
       "      <td id=\"T_14354_row1_col0\" class=\"data row1 col0\" >1389</td>\n",
       "    </tr>\n",
       "    <tr>\n",
       "      <th id=\"T_14354_level0_row2\" class=\"row_heading level0 row2\" >ASIAN - ASIAN INDIAN</th>\n",
       "      <td id=\"T_14354_row2_col0\" class=\"data row2 col0\" >1265</td>\n",
       "    </tr>\n",
       "    <tr>\n",
       "      <th id=\"T_14354_level0_row3\" class=\"row_heading level0 row3\" >WHITE - EASTERN EUROPEAN</th>\n",
       "      <td id=\"T_14354_row3_col0\" class=\"data row3 col0\" >1253</td>\n",
       "    </tr>\n",
       "    <tr>\n",
       "      <th id=\"T_14354_level0_row4\" class=\"row_heading level0 row4\" >WHITE - BRAZILIAN</th>\n",
       "      <td id=\"T_14354_row4_col0\" class=\"data row4 col0\" >1176</td>\n",
       "    </tr>\n",
       "    <tr>\n",
       "      <th id=\"T_14354_level0_row5\" class=\"row_heading level0 row5\" >AMERICAN INDIAN/ALASKA NATIVE</th>\n",
       "      <td id=\"T_14354_row5_col0\" class=\"data row5 col0\" >984</td>\n",
       "    </tr>\n",
       "    <tr>\n",
       "      <th id=\"T_14354_level0_row6\" class=\"row_heading level0 row6\" >HISPANIC/LATINO - SALVADORAN</th>\n",
       "      <td id=\"T_14354_row6_col0\" class=\"data row6 col0\" >939</td>\n",
       "    </tr>\n",
       "    <tr>\n",
       "      <th id=\"T_14354_level0_row7\" class=\"row_heading level0 row7\" >HISPANIC/LATINO - MEXICAN</th>\n",
       "      <td id=\"T_14354_row7_col0\" class=\"data row7 col0\" >693</td>\n",
       "    </tr>\n",
       "    <tr>\n",
       "      <th id=\"T_14354_level0_row8\" class=\"row_heading level0 row8\" >HISPANIC/LATINO - COLUMBIAN</th>\n",
       "      <td id=\"T_14354_row8_col0\" class=\"data row8 col0\" >683</td>\n",
       "    </tr>\n",
       "    <tr>\n",
       "      <th id=\"T_14354_level0_row9\" class=\"row_heading level0 row9\" >MULTIPLE RACE/ETHNICITY</th>\n",
       "      <td id=\"T_14354_row9_col0\" class=\"data row9 col0\" >595</td>\n",
       "    </tr>\n",
       "    <tr>\n",
       "      <th id=\"T_14354_level0_row10\" class=\"row_heading level0 row10\" >HISPANIC/LATINO - HONDURAN</th>\n",
       "      <td id=\"T_14354_row10_col0\" class=\"data row10 col0\" >574</td>\n",
       "    </tr>\n",
       "    <tr>\n",
       "      <th id=\"T_14354_level0_row11\" class=\"row_heading level0 row11\" >ASIAN - KOREAN</th>\n",
       "      <td id=\"T_14354_row11_col0\" class=\"data row11 col0\" >544</td>\n",
       "    </tr>\n",
       "    <tr>\n",
       "      <th id=\"T_14354_level0_row12\" class=\"row_heading level0 row12\" >SOUTH AMERICAN</th>\n",
       "      <td id=\"T_14354_row12_col0\" class=\"data row12 col0\" >542</td>\n",
       "    </tr>\n",
       "    <tr>\n",
       "      <th id=\"T_14354_level0_row13\" class=\"row_heading level0 row13\" >HISPANIC/LATINO - CUBAN</th>\n",
       "      <td id=\"T_14354_row13_col0\" class=\"data row13 col0\" >529</td>\n",
       "    </tr>\n",
       "    <tr>\n",
       "      <th id=\"T_14354_level0_row14\" class=\"row_heading level0 row14\" >HISPANIC/LATINO - CENTRAL AMERICAN</th>\n",
       "      <td id=\"T_14354_row14_col0\" class=\"data row14 col0\" >481</td>\n",
       "    </tr>\n",
       "    <tr>\n",
       "      <th id=\"T_14354_level0_row15\" class=\"row_heading level0 row15\" >NATIVE HAWAIIAN OR OTHER PACIFIC ISLANDER</th>\n",
       "      <td id=\"T_14354_row15_col0\" class=\"data row15 col0\" >405</td>\n",
       "    </tr>\n",
       "  </tbody>\n",
       "</table>\n"
      ]
     },
     "metadata": {},
     "output_type": "display_data"
    }
   ],
   "source": [
    "columns = ['admission_type','discharge_location','insurance','language','marital_status','race']\n",
    "nachopy.display_sbs([admissions[col].value_counts() for col in columns],max_rows = 17, suffix = 'value_counts')"
   ]
  },
  {
   "cell_type": "markdown",
   "id": "0e40379a",
   "metadata": {},
   "source": [
    "Admission type seems quite relevant, we could look into doing some label encoding. Discharge location also looks relevant and should probably be used to update the class (\"event\"). Insurance relevant as well, as medicaid and medicare patients could have different outcomes than privately-insured. English and marital status will be added for now, although probably little relevance. Race may be relevant, could be added simply as a dummy column (1 if white, 0 otherwise). We will join now and adjust later during the EDA. \n",
    "\n",
    "Because we have some missing values on the admissions IDs (hadm_id), we will fill some of these features using subject_id (race, insurance and language)"
   ]
  },
  {
   "cell_type": "code",
   "execution_count": 184,
   "id": "6ef2e5cc",
   "metadata": {
    "ExecuteTime": {
     "end_time": "2022-11-01T07:04:14.345189Z",
     "start_time": "2022-11-01T07:04:12.810247Z"
    }
   },
   "outputs": [
    {
     "name": "stdout",
     "output_type": "stream",
     "text": [
      "<class 'pandas.core.frame.DataFrame'>\n",
      "Int64Index: 896572 entries, 0 to 896571\n",
      "Data columns (total 33 columns):\n",
      " #   Column              Non-Null Count   Dtype         \n",
      "---  ------              --------------   -----         \n",
      " 0   transfer_id         896572 non-null  int64         \n",
      " 1   subject_id          896572 non-null  int64         \n",
      " 2   eventtype           896572 non-null  object        \n",
      " 3   careunit            896572 non-null  object        \n",
      " 4   intime              896572 non-null  datetime64[ns]\n",
      " 5   outtime             896572 non-null  datetime64[ns]\n",
      " 6   event               896572 non-null  object        \n",
      " 7   A                   896572 non-null  uint16        \n",
      " 8   B                   896572 non-null  uint16        \n",
      " 9   C                   896572 non-null  uint16        \n",
      " 10  D                   896572 non-null  uint16        \n",
      " 11  G                   896572 non-null  uint16        \n",
      " 12  H                   896572 non-null  uint16        \n",
      " 13  J                   896572 non-null  uint16        \n",
      " 14  L                   896572 non-null  uint16        \n",
      " 15  M                   896572 non-null  uint16        \n",
      " 16  N                   896572 non-null  uint16        \n",
      " 17  P                   896572 non-null  uint16        \n",
      " 18  R                   896572 non-null  uint16        \n",
      " 19  S                   896572 non-null  uint16        \n",
      " 20  V                   896572 non-null  uint16        \n",
      " 21  pres_number         896572 non-null  uint16        \n",
      " 22  duration            896572 non-null  float64       \n",
      " 23  gender              896572 non-null  object        \n",
      " 24  anchor_age          896572 non-null  int64         \n",
      " 25  dod                 228424 non-null  datetime64[ns]\n",
      " 26  hadm_id             852415 non-null  Int64         \n",
      " 27  admission_type      852415 non-null  object        \n",
      " 28  discharge_location  680694 non-null  object        \n",
      " 29  insurance           852415 non-null  object        \n",
      " 30  language            852415 non-null  object        \n",
      " 31  marital_status      831847 non-null  object        \n",
      " 32  race                852415 non-null  object        \n",
      "dtypes: Int64(1), datetime64[ns](3), float64(1), int64(3), object(10), uint16(15)\n",
      "memory usage: 156.5+ MB\n"
     ]
    }
   ],
   "source": [
    "transfers['hadm_id_nans'] = transfers.hadm_id\n",
    "transfers.loc[transfers.hadm_id.isna(),'hadm_id'] =  transfers.index[transfers.hadm_id.isna()] # Just to try and fill most of them\n",
    "columns.append('hadm_id')\n",
    "transfers = pd.merge(transfers,admissions[columns], how = 'left', on = 'hadm_id')\n",
    "transfers.drop(columns = 'hadm_id',inplace = True)\n",
    "transfers.rename(columns = {'hadm_id_nans':'hadm_id'},inplace = True)\n",
    "transfers.info()"
   ]
  },
  {
   "cell_type": "code",
   "execution_count": null,
   "id": "a514675b",
   "metadata": {},
   "outputs": [],
   "source": []
  },
  {
   "cell_type": "markdown",
   "id": "fc8e6e8f",
   "metadata": {},
   "source": [
    "First, let's see if there are any subject_id that has a hadm_id on the admissions table but not on the transfers table. For race insurance and language there are no missing values on the admissions table, so we can try to retrieve them by updating using subject_id for the first occurence of these values"
   ]
  },
  {
   "cell_type": "code",
   "execution_count": 185,
   "id": "7debb8dc",
   "metadata": {
    "ExecuteTime": {
     "end_time": "2022-11-01T07:04:15.856546Z",
     "start_time": "2022-11-01T07:04:14.347802Z"
    },
    "scrolled": true
   },
   "outputs": [
    {
     "name": "stdout",
     "output_type": "stream",
     "text": [
      "<class 'pandas.core.frame.DataFrame'>\n",
      "Int64Index: 896572 entries, 10000032 to 19999987\n",
      "Data columns (total 33 columns):\n",
      " #   Column              Non-Null Count   Dtype         \n",
      "---  ------              --------------   -----         \n",
      " 0   transfer_id         896572 non-null  int64         \n",
      " 1   subject_id          896572 non-null  int64         \n",
      " 2   eventtype           896572 non-null  object        \n",
      " 3   careunit            896572 non-null  object        \n",
      " 4   intime              896572 non-null  datetime64[ns]\n",
      " 5   outtime             896572 non-null  datetime64[ns]\n",
      " 6   event               896572 non-null  object        \n",
      " 7   A                   896572 non-null  uint16        \n",
      " 8   B                   896572 non-null  uint16        \n",
      " 9   C                   896572 non-null  uint16        \n",
      " 10  D                   896572 non-null  uint16        \n",
      " 11  G                   896572 non-null  uint16        \n",
      " 12  H                   896572 non-null  uint16        \n",
      " 13  J                   896572 non-null  uint16        \n",
      " 14  L                   896572 non-null  uint16        \n",
      " 15  M                   896572 non-null  uint16        \n",
      " 16  N                   896572 non-null  uint16        \n",
      " 17  P                   896572 non-null  uint16        \n",
      " 18  R                   896572 non-null  uint16        \n",
      " 19  S                   896572 non-null  uint16        \n",
      " 20  V                   896572 non-null  uint16        \n",
      " 21  pres_number         896572 non-null  uint16        \n",
      " 22  duration            896572 non-null  float64       \n",
      " 23  gender              896572 non-null  object        \n",
      " 24  anchor_age          896572 non-null  int64         \n",
      " 25  dod                 228424 non-null  datetime64[ns]\n",
      " 26  hadm_id             878045 non-null  object        \n",
      " 27  admission_type      878045 non-null  object        \n",
      " 28  discharge_location  815583 non-null  object        \n",
      " 29  insurance           878045 non-null  object        \n",
      " 30  language            878045 non-null  object        \n",
      " 31  marital_status      859826 non-null  object        \n",
      " 32  race                878045 non-null  object        \n",
      "dtypes: datetime64[ns](3), float64(1), int64(3), object(11), uint16(15)\n",
      "memory usage: 155.6+ MB\n"
     ]
    }
   ],
   "source": [
    "columns.append('subject_id')\n",
    "missing_rows = admissions[columns].groupby('subject_id').first()\n",
    "\n",
    "transfers.reset_index(drop = False)\n",
    "transfers.set_index('subject_id',drop = False,inplace = True)\n",
    "transfers.update(missing_rows)\n",
    "transfers.info()"
   ]
  },
  {
   "cell_type": "markdown",
   "id": "40256078",
   "metadata": {},
   "source": [
    "We have increased our number of hadm_ids and also the other new columns, which is good. We could now try to fill the missing values using values from the table itself."
   ]
  },
  {
   "cell_type": "markdown",
   "id": "b2715c59",
   "metadata": {},
   "source": [
    "No luck, we have only filled a few marital_status values (which are the most liable to change from the columns). We can maybe fill some features using the edstays from ED, let's try that"
   ]
  },
  {
   "cell_type": "code",
   "execution_count": 186,
   "id": "803b5617",
   "metadata": {
    "ExecuteTime": {
     "end_time": "2022-11-01T07:04:16.405083Z",
     "start_time": "2022-11-01T07:04:15.858547Z"
    }
   },
   "outputs": [
    {
     "data": {
      "text/html": [
       "<div>\n",
       "<style scoped>\n",
       "    .dataframe tbody tr th:only-of-type {\n",
       "        vertical-align: middle;\n",
       "    }\n",
       "\n",
       "    .dataframe tbody tr th {\n",
       "        vertical-align: top;\n",
       "    }\n",
       "\n",
       "    .dataframe thead th {\n",
       "        text-align: right;\n",
       "    }\n",
       "</style>\n",
       "<table border=\"1\" class=\"dataframe\">\n",
       "  <thead>\n",
       "    <tr style=\"text-align: right;\">\n",
       "      <th></th>\n",
       "      <th>subject_id</th>\n",
       "      <th>hadm_id</th>\n",
       "      <th>stay_id</th>\n",
       "      <th>intime</th>\n",
       "      <th>outtime</th>\n",
       "      <th>arrival_transport</th>\n",
       "      <th>disposition</th>\n",
       "    </tr>\n",
       "  </thead>\n",
       "  <tbody>\n",
       "    <tr>\n",
       "      <th>0</th>\n",
       "      <td>10000032</td>\n",
       "      <td>22595853.0</td>\n",
       "      <td>33258284</td>\n",
       "      <td>2180-05-06 19:17:00</td>\n",
       "      <td>2180-05-06 23:30:00</td>\n",
       "      <td>AMBULANCE</td>\n",
       "      <td>ADMITTED</td>\n",
       "    </tr>\n",
       "    <tr>\n",
       "      <th>1</th>\n",
       "      <td>10000032</td>\n",
       "      <td>22841357.0</td>\n",
       "      <td>38112554</td>\n",
       "      <td>2180-06-26 15:54:00</td>\n",
       "      <td>2180-06-26 21:31:00</td>\n",
       "      <td>AMBULANCE</td>\n",
       "      <td>ADMITTED</td>\n",
       "    </tr>\n",
       "    <tr>\n",
       "      <th>2</th>\n",
       "      <td>10000032</td>\n",
       "      <td>25742920.0</td>\n",
       "      <td>35968195</td>\n",
       "      <td>2180-08-05 20:58:00</td>\n",
       "      <td>2180-08-06 01:44:00</td>\n",
       "      <td>AMBULANCE</td>\n",
       "      <td>ADMITTED</td>\n",
       "    </tr>\n",
       "    <tr>\n",
       "      <th>3</th>\n",
       "      <td>10000032</td>\n",
       "      <td>29079034.0</td>\n",
       "      <td>32952584</td>\n",
       "      <td>2180-07-22 16:24:00</td>\n",
       "      <td>2180-07-23 05:54:00</td>\n",
       "      <td>AMBULANCE</td>\n",
       "      <td>HOME</td>\n",
       "    </tr>\n",
       "    <tr>\n",
       "      <th>4</th>\n",
       "      <td>10000032</td>\n",
       "      <td>29079034.0</td>\n",
       "      <td>39399961</td>\n",
       "      <td>2180-07-23 05:54:00</td>\n",
       "      <td>2180-07-23 14:00:00</td>\n",
       "      <td>AMBULANCE</td>\n",
       "      <td>ADMITTED</td>\n",
       "    </tr>\n",
       "  </tbody>\n",
       "</table>\n",
       "</div>"
      ],
      "text/plain": [
       "   subject_id     hadm_id   stay_id               intime              outtime  \\\n",
       "0    10000032  22595853.0  33258284  2180-05-06 19:17:00  2180-05-06 23:30:00   \n",
       "1    10000032  22841357.0  38112554  2180-06-26 15:54:00  2180-06-26 21:31:00   \n",
       "2    10000032  25742920.0  35968195  2180-08-05 20:58:00  2180-08-06 01:44:00   \n",
       "3    10000032  29079034.0  32952584  2180-07-22 16:24:00  2180-07-23 05:54:00   \n",
       "4    10000032  29079034.0  39399961  2180-07-23 05:54:00  2180-07-23 14:00:00   \n",
       "\n",
       "  arrival_transport disposition  \n",
       "0         AMBULANCE    ADMITTED  \n",
       "1         AMBULANCE    ADMITTED  \n",
       "2         AMBULANCE    ADMITTED  \n",
       "3         AMBULANCE        HOME  \n",
       "4         AMBULANCE    ADMITTED  "
      ]
     },
     "execution_count": 186,
     "metadata": {},
     "output_type": "execute_result"
    }
   ],
   "source": [
    "edstays = pd.read_csv('../Capstone-Data/MIMIC IV/ed/edstays.csv')\n",
    "edstays.head().drop(columns = ['race','gender']) # We will not show sensitive information that can help reidentify patients"
   ]
  },
  {
   "cell_type": "markdown",
   "id": "e651aabd",
   "metadata": {},
   "source": [
    "The ED collects different data than the hospital, which is unfortunate. We will leave these features as they are for now.carry out analysis regardless. It appears we can add race (we can just group by subject_id and then update the column with the first occurence."
   ]
  },
  {
   "cell_type": "code",
   "execution_count": 187,
   "id": "30c8f8ee",
   "metadata": {
    "ExecuteTime": {
     "end_time": "2022-11-01T07:04:17.479168Z",
     "start_time": "2022-11-01T07:04:16.407956Z"
    }
   },
   "outputs": [
    {
     "name": "stdout",
     "output_type": "stream",
     "text": [
      "<class 'pandas.core.frame.DataFrame'>\n",
      "Int64Index: 896572 entries, 10000032 to 19999987\n",
      "Data columns (total 33 columns):\n",
      " #   Column              Non-Null Count   Dtype         \n",
      "---  ------              --------------   -----         \n",
      " 0   transfer_id         896572 non-null  int64         \n",
      " 1   subject_id          896572 non-null  int64         \n",
      " 2   eventtype           896572 non-null  object        \n",
      " 3   careunit            896572 non-null  object        \n",
      " 4   intime              896572 non-null  datetime64[ns]\n",
      " 5   outtime             896572 non-null  datetime64[ns]\n",
      " 6   event               896572 non-null  object        \n",
      " 7   A                   896572 non-null  uint16        \n",
      " 8   B                   896572 non-null  uint16        \n",
      " 9   C                   896572 non-null  uint16        \n",
      " 10  D                   896572 non-null  uint16        \n",
      " 11  G                   896572 non-null  uint16        \n",
      " 12  H                   896572 non-null  uint16        \n",
      " 13  J                   896572 non-null  uint16        \n",
      " 14  L                   896572 non-null  uint16        \n",
      " 15  M                   896572 non-null  uint16        \n",
      " 16  N                   896572 non-null  uint16        \n",
      " 17  P                   896572 non-null  uint16        \n",
      " 18  R                   896572 non-null  uint16        \n",
      " 19  S                   896572 non-null  uint16        \n",
      " 20  V                   896572 non-null  uint16        \n",
      " 21  pres_number         896572 non-null  uint16        \n",
      " 22  duration            896572 non-null  float64       \n",
      " 23  gender              896572 non-null  object        \n",
      " 24  anchor_age          896572 non-null  int64         \n",
      " 25  dod                 228424 non-null  datetime64[ns]\n",
      " 26  hadm_id             878045 non-null  object        \n",
      " 27  admission_type      878045 non-null  object        \n",
      " 28  discharge_location  815583 non-null  object        \n",
      " 29  insurance           878045 non-null  object        \n",
      " 30  language            878045 non-null  object        \n",
      " 31  marital_status      859826 non-null  object        \n",
      " 32  race                890867 non-null  object        \n",
      "dtypes: datetime64[ns](3), float64(1), int64(3), object(11), uint16(15)\n",
      "memory usage: 155.6+ MB\n"
     ]
    }
   ],
   "source": [
    "missing_rows = edstays[['hadm_id','race','subject_id']].groupby('subject_id').first()\n",
    "transfers.update(missing_rows)\n",
    "transfers.info()"
   ]
  },
  {
   "cell_type": "code",
   "execution_count": 188,
   "id": "bce778ab",
   "metadata": {
    "ExecuteTime": {
     "end_time": "2022-11-01T07:04:17.548384Z",
     "start_time": "2022-11-01T07:04:17.481168Z"
    },
    "scrolled": true
   },
   "outputs": [
    {
     "data": {
      "text/plain": [
       "896572"
      ]
     },
     "execution_count": 188,
     "metadata": {},
     "output_type": "execute_result"
    }
   ],
   "source": [
    "transfers.transfer_id.nunique()"
   ]
  },
  {
   "cell_type": "markdown",
   "id": "7ccabf69",
   "metadata": {
    "ExecuteTime": {
     "end_time": "2022-10-20T13:20:45.717303Z",
     "start_time": "2022-10-20T13:20:45.380996Z"
    }
   },
   "source": [
    "We are done with all the merging so for now, we will leave transfers_id as index, as it is a unique identifier of the rows. We will also save the df in our pickle jar as version 1 of the merging. In this pickle we will do an EDA and the feature selection. "
   ]
  },
  {
   "cell_type": "code",
   "execution_count": 189,
   "id": "5d9320dd",
   "metadata": {
    "ExecuteTime": {
     "end_time": "2022-11-01T07:04:17.859732Z",
     "start_time": "2022-11-01T07:04:17.550384Z"
    }
   },
   "outputs": [],
   "source": [
    "transfers.to_pickle('../Capstone-Data/pickles/transfers_v1.pkl')"
   ]
  },
  {
   "cell_type": "markdown",
   "id": "52c0224c",
   "metadata": {},
   "source": [
    "We filled around half of the remaining missing values for race. Now let's merge with prescriptions"
   ]
  },
  {
   "cell_type": "markdown",
   "id": "a5c46115",
   "metadata": {},
   "source": [
    "Dropping rows with unknown"
   ]
  },
  {
   "cell_type": "code",
   "execution_count": null,
   "id": "6d91fead",
   "metadata": {
    "ExecuteTime": {
     "end_time": "2022-10-19T22:05:37.031198Z",
     "start_time": "2022-10-19T22:05:37.031198Z"
    },
    "deletable": false,
    "editable": false,
    "run_control": {
     "frozen": true
    }
   },
   "outputs": [],
   "source": [
    "fig1 = plt.figure(figsize = (8,8))\n",
    "presperevent.sort_values().plot.barh()\n",
    "plt.title('Patients that ended up in oncology, cardiology and ICU-related\\ndepartments had many more prescriptions in previous transfer',pad = 15)\n",
    "plt.xlabel('Number of prescriptions per transfer')\n",
    "fig1.savefig('prespertransfervsunit.svg',bbox_inches='tight')"
   ]
  },
  {
   "cell_type": "code",
   "execution_count": null,
   "id": "fefce3cc",
   "metadata": {
    "ExecuteTime": {
     "end_time": "2022-10-19T22:05:37.032200Z",
     "start_time": "2022-10-19T22:05:37.032200Z"
    },
    "deletable": false,
    "editable": false,
    "run_control": {
     "frozen": true
    }
   },
   "outputs": [],
   "source": [
    "fig2 = plt.figure(figsize = (10,8))\n",
    "sns.heatmap(catsperevent.divide(presperevent, axis = 0)*100,cmap='viridis',xticklabels= True)\n",
    "plt.title('Patients that ended up in different departments were prescribed\\ndifferent types of drugs',pad = 15)\n",
    "plt.xlabel('Number of prescriptions per transfer')\n",
    "fig2.savefig('drugtypesvcareunit.svg',bbox_inches='tight')"
   ]
  },
  {
   "cell_type": "code",
   "execution_count": null,
   "id": "7646cd15",
   "metadata": {
    "ExecuteTime": {
     "end_time": "2022-10-19T22:05:37.033199Z",
     "start_time": "2022-10-19T22:05:37.033199Z"
    },
    "deletable": false,
    "editable": false,
    "run_control": {
     "frozen": true
    },
    "scrolled": false
   },
   "outputs": [],
   "source": [
    "cat = list('ABCDGHJLMNPRSV')\n",
    "cat.append('event')\n",
    "catsperevent = transfers[cat].groupby('event')\n",
    "catsperevent = catsperevent.sum()/catsperevent.count().sort_index()\n",
    "presperevent = catsperevent.sum(axis = 1).sort_index(ascending = False)\n",
    "\n",
    "fig,_ = plt.subplots(2,1,figsize = (8,15))\n",
    "\n",
    "plt.subplot(2,1,1)\n",
    "presperevent.sort_values().plot.barh()\n",
    "\n",
    "plt.subplot(2,1,2)\n",
    "sns.heatmap(catsperevent.divide(presperevent, axis = 0)*100,cmap='viridis')\n",
    "\n",
    "plt.show()\n"
   ]
  },
  {
   "cell_type": "code",
   "execution_count": null,
   "id": "eb52f76d",
   "metadata": {
    "ExecuteTime": {
     "end_time": "2022-10-19T22:05:37.034200Z",
     "start_time": "2022-10-19T22:05:37.034200Z"
    },
    "deletable": false,
    "editable": false,
    "run_control": {
     "frozen": true
    }
   },
   "outputs": [],
   "source": [
    "cat = list('ABCDGHJLMNPRSV')\n",
    "cat.append('event')\n",
    "catsperevent = transfers[cat].groupby('event')\n",
    "catsperevent = catsperevent.sum()/catsperevent.count()"
   ]
  },
  {
   "cell_type": "markdown",
   "id": "ca29706a",
   "metadata": {
    "deletable": false,
    "editable": false,
    "run_control": {
     "frozen": true
    }
   },
   "source": [
    "Okay, heatmap probably relevant, but I need to normalise the number of prescriptions per event by the duration of the stay"
   ]
  },
  {
   "cell_type": "code",
   "execution_count": null,
   "id": "eb384379",
   "metadata": {
    "ExecuteTime": {
     "end_time": "2022-10-19T22:05:37.035198Z",
     "start_time": "2022-10-19T22:05:37.035198Z"
    },
    "deletable": false,
    "editable": false,
    "run_control": {
     "frozen": true
    }
   },
   "outputs": [],
   "source": [
    "tran"
   ]
  },
  {
   "cell_type": "code",
   "execution_count": null,
   "id": "73bac84a",
   "metadata": {
    "deletable": false,
    "editable": false,
    "run_control": {
     "frozen": true
    }
   },
   "outputs": [],
   "source": []
  },
  {
   "cell_type": "code",
   "execution_count": null,
   "id": "d3054127",
   "metadata": {
    "deletable": false,
    "editable": false,
    "run_control": {
     "frozen": true
    }
   },
   "outputs": [],
   "source": []
  },
  {
   "cell_type": "code",
   "execution_count": null,
   "id": "bf3b5232",
   "metadata": {
    "deletable": false,
    "editable": false,
    "run_control": {
     "frozen": true
    }
   },
   "outputs": [],
   "source": []
  },
  {
   "cell_type": "code",
   "execution_count": null,
   "id": "5916ef43",
   "metadata": {
    "deletable": false,
    "editable": false,
    "run_control": {
     "frozen": true
    }
   },
   "outputs": [],
   "source": []
  },
  {
   "cell_type": "code",
   "execution_count": null,
   "id": "6554409d",
   "metadata": {
    "ExecuteTime": {
     "end_time": "2022-10-19T22:05:37.036199Z",
     "start_time": "2022-10-19T22:05:37.036199Z"
    },
    "deletable": false,
    "editable": false,
    "run_control": {
     "frozen": true
    }
   },
   "outputs": [],
   "source": [
    "poe = pd.read_csv('../Capstone data/MIMIC IV/poe.csv')"
   ]
  },
  {
   "cell_type": "code",
   "execution_count": null,
   "id": "423165ec",
   "metadata": {
    "ExecuteTime": {
     "end_time": "2022-10-19T22:05:37.037197Z",
     "start_time": "2022-10-19T22:05:37.037197Z"
    },
    "deletable": false,
    "editable": false,
    "run_control": {
     "frozen": true
    }
   },
   "outputs": [],
   "source": [
    "transfers[cat]"
   ]
  },
  {
   "cell_type": "code",
   "execution_count": null,
   "id": "e6b22e0f",
   "metadata": {
    "ExecuteTime": {
     "end_time": "2022-10-19T22:05:37.038198Z",
     "start_time": "2022-10-19T22:05:37.038198Z"
    },
    "deletable": false,
    "editable": false,
    "run_control": {
     "frozen": true
    }
   },
   "outputs": [],
   "source": [
    "poe.order_type.value_counts(normalize = True)\n"
   ]
  },
  {
   "cell_type": "code",
   "execution_count": null,
   "id": "836fc25b",
   "metadata": {
    "ExecuteTime": {
     "end_time": "2022-10-19T22:05:37.039199Z",
     "start_time": "2022-10-19T22:05:37.039199Z"
    },
    "deletable": false,
    "editable": false,
    "run_control": {
     "frozen": true
    }
   },
   "outputs": [],
   "source": [
    "cap_utils.display_sbs(['Order subtype value counts'],poe.order_subtype.value_counts(normalize = True))"
   ]
  },
  {
   "cell_type": "markdown",
   "id": "bad7b468",
   "metadata": {
    "deletable": false,
    "editable": false,
    "run_control": {
     "frozen": true
    }
   },
   "source": [
    "Probably dropping medications? Could add order sub type and filling the empty values (loads) with the simple order type?"
   ]
  },
  {
   "cell_type": "code",
   "execution_count": null,
   "id": "fbb02ae0",
   "metadata": {
    "ExecuteTime": {
     "end_time": "2022-10-19T22:05:37.041198Z",
     "start_time": "2022-10-19T22:05:37.041198Z"
    },
    "deletable": false,
    "editable": false,
    "run_control": {
     "frozen": true
    }
   },
   "outputs": [],
   "source": [
    "ed_dupl = edstays.drop(columns = 'stay_id').duplicated()\n",
    "print(ed_dupl.sum())\n",
    "edstays = edstays[~ed_dupl]"
   ]
  },
  {
   "cell_type": "code",
   "execution_count": null,
   "id": "ec22299d",
   "metadata": {
    "ExecuteTime": {
     "end_time": "2022-10-19T22:05:37.042198Z",
     "start_time": "2022-10-19T22:05:37.042198Z"
    },
    "deletable": false,
    "editable": false,
    "run_control": {
     "frozen": true
    }
   },
   "outputs": [],
   "source": [
    "edstays.info()"
   ]
  },
  {
   "cell_type": "code",
   "execution_count": null,
   "id": "7f38868b",
   "metadata": {
    "ExecuteTime": {
     "end_time": "2022-10-19T22:05:37.043197Z",
     "start_time": "2022-10-19T22:05:37.043197Z"
    },
    "deletable": false,
    "editable": false,
    "run_control": {
     "frozen": true
    }
   },
   "outputs": [],
   "source": [
    "uniqueid_set = set(transfers.hadm_id.unique())\n",
    "hadm_len = len(uniqueid_set)\n",
    "unique_stayid = edstays.stay_id.unique()\n",
    "stay_len = len(unique_stayid)\n",
    "set_len = 0\n",
    "i = 0\n",
    "while (len(uniqueid_set) > set_len) & (i<stay_len):\n",
    "    set_len = len(uniqueid_set)\n",
    "    uniqueid_set.add(unique_stayid[i])\n",
    "    i +=1\n",
    "if set_len == hadm_len + stay_len-1:\n",
    "    print('All good')\n",
    "else:\n",
    "    print('caca')"
   ]
  },
  {
   "cell_type": "code",
   "execution_count": null,
   "id": "b26a75d3",
   "metadata": {
    "ExecuteTime": {
     "end_time": "2022-10-19T22:05:37.044198Z",
     "start_time": "2022-10-19T22:05:37.044198Z"
    },
    "deletable": false,
    "editable": false,
    "run_control": {
     "frozen": true
    }
   },
   "outputs": [],
   "source": [
    "edstays = edstays[['subject_id','stay_id','intime','outtime']]"
   ]
  },
  {
   "cell_type": "code",
   "execution_count": null,
   "id": "69bf7310",
   "metadata": {
    "ExecuteTime": {
     "end_time": "2022-10-19T22:05:37.045198Z",
     "start_time": "2022-10-19T22:05:37.045198Z"
    },
    "deletable": false,
    "editable": false,
    "run_control": {
     "frozen": true
    }
   },
   "outputs": [],
   "source": [
    "edstays.info()"
   ]
  },
  {
   "cell_type": "code",
   "execution_count": null,
   "id": "7fd1a593",
   "metadata": {
    "ExecuteTime": {
     "end_time": "2022-10-19T22:05:37.046198Z",
     "start_time": "2022-10-19T22:05:37.046198Z"
    },
    "deletable": false,
    "editable": false,
    "run_control": {
     "frozen": true
    }
   },
   "outputs": [],
   "source": [
    "edstays['intime'] = pd.to_datetime(edstays.intime,infer_datetime_format=True)\n",
    "edstays['outtime'] = pd.to_datetime(edstays.outtime,infer_datetime_format=True)"
   ]
  },
  {
   "cell_type": "code",
   "execution_count": null,
   "id": "ac2362ea",
   "metadata": {
    "ExecuteTime": {
     "end_time": "2022-10-19T22:05:37.047200Z",
     "start_time": "2022-10-19T22:05:37.047200Z"
    },
    "deletable": false,
    "editable": false,
    "run_control": {
     "frozen": true
    }
   },
   "outputs": [],
   "source": [
    "ed_dupl = edstays.drop(columns = 'stay_id').duplicated()\n",
    "print(ed_dupl.sum())\n",
    "edstays = edstays[~ed_dupl]"
   ]
  },
  {
   "cell_type": "code",
   "execution_count": null,
   "id": "0ed2c390",
   "metadata": {
    "ExecuteTime": {
     "end_time": "2022-10-19T22:05:37.049198Z",
     "start_time": "2022-10-19T22:05:37.049198Z"
    },
    "deletable": false,
    "editable": false,
    "run_control": {
     "frozen": true
    }
   },
   "outputs": [],
   "source": [
    "transfers = transfers.merge(\n",
    "                        edstays,\n",
    "                        left_on = ['subject_id','intime','outtime'], \n",
    "                        right_on = ['subject_id','intime','outtime'],\n",
    "                        how = 'left',\n",
    "                        copy = False)"
   ]
  },
  {
   "cell_type": "code",
   "execution_count": null,
   "id": "5f2656c9",
   "metadata": {
    "ExecuteTime": {
     "end_time": "2022-10-19T22:05:37.050200Z",
     "start_time": "2022-10-19T22:05:37.050200Z"
    },
    "deletable": false,
    "editable": false,
    "run_control": {
     "frozen": true
    }
   },
   "outputs": [],
   "source": [
    "transfers.loc[transfers.hadm_id.isna(),'hadm_id'] = transfers.loc[transfers.hadm_id.isna(),'stay_id']\n",
    "sum(transfers.hadm_id.isna())"
   ]
  },
  {
   "cell_type": "code",
   "execution_count": null,
   "id": "bbf99e98",
   "metadata": {
    "deletable": false,
    "editable": false,
    "run_control": {
     "frozen": true
    }
   },
   "outputs": [],
   "source": []
  },
  {
   "cell_type": "code",
   "execution_count": null,
   "id": "78261149",
   "metadata": {
    "deletable": false,
    "editable": false,
    "run_control": {
     "frozen": true
    }
   },
   "outputs": [],
   "source": []
  },
  {
   "cell_type": "code",
   "execution_count": null,
   "id": "992423d8",
   "metadata": {
    "deletable": false,
    "editable": false,
    "run_control": {
     "frozen": true
    }
   },
   "outputs": [],
   "source": []
  },
  {
   "cell_type": "code",
   "execution_count": null,
   "id": "346827fe",
   "metadata": {
    "deletable": false,
    "editable": false,
    "run_control": {
     "frozen": true
    }
   },
   "outputs": [],
   "source": []
  },
  {
   "cell_type": "code",
   "execution_count": null,
   "id": "ad587474",
   "metadata": {
    "ExecuteTime": {
     "end_time": "2022-10-19T22:05:37.051200Z",
     "start_time": "2022-10-19T22:05:37.051200Z"
    },
    "deletable": false,
    "editable": false,
    "run_control": {
     "frozen": true
    }
   },
   "outputs": [],
   "source": [
    "transfers.careunit.value_counts()"
   ]
  },
  {
   "cell_type": "code",
   "execution_count": null,
   "id": "a8b8a681",
   "metadata": {
    "deletable": false,
    "editable": false,
    "run_control": {
     "frozen": true
    },
    "scrolled": true
   },
   "outputs": [],
   "source": [
    "cat_pres.A.value_counts(normalize = True)*100"
   ]
  },
  {
   "cell_type": "code",
   "execution_count": null,
   "id": "2d1ba554",
   "metadata": {
    "deletable": false,
    "editable": false,
    "run_control": {
     "frozen": true
    }
   },
   "outputs": [],
   "source": [
    "unclass_drugs = cat_pres.drug[cat_pres.A<0].drop_duplicates()\n",
    "udrugs_gsnvc = cat_pres.gsn[cat_pres.A<0].value_counts()\n",
    "gsn_udrugs = udrugs_gsnvc[udrugs_gsnvc>1].index.values"
   ]
  },
  {
   "cell_type": "code",
   "execution_count": null,
   "id": "a72c3fb7",
   "metadata": {
    "deletable": false,
    "editable": false,
    "run_control": {
     "frozen": true
    }
   },
   "outputs": [],
   "source": [
    "cat.append('gsn')\n",
    "cat_gsn = cat_pres.loc[cat_pres.gsn.isin(gsn_udrugs),cat].groupby('gsn').max()\n",
    "cat_gsn = cat_gsn[cat_gsn.A>-1]\n",
    "cat_gsn"
   ]
  },
  {
   "cell_type": "code",
   "execution_count": null,
   "id": "85475b2d",
   "metadata": {
    "deletable": false,
    "editable": false,
    "run_control": {
     "frozen": true
    }
   },
   "outputs": [],
   "source": [
    "cat = cat[:-1]\n",
    "cat_pres[cat] = cat_pres[cat].where(cat_pres[cat]>=0)"
   ]
  },
  {
   "cell_type": "code",
   "execution_count": null,
   "id": "27529320",
   "metadata": {
    "deletable": false,
    "editable": false,
    "run_control": {
     "frozen": true
    }
   },
   "outputs": [],
   "source": [
    "cat_pres.set_index(ind,append = True)"
   ]
  },
  {
   "cell_type": "code",
   "execution_count": null,
   "id": "558a48a7",
   "metadata": {
    "deletable": false,
    "editable": false,
    "run_control": {
     "frozen": true
    }
   },
   "outputs": [],
   "source": [
    "cat_pres.set_index('gsn', inplace = True)\n",
    "cat_pres.update(cat_gsn)\n",
    "cat_pres.set_index(ind)"
   ]
  },
  {
   "cell_type": "code",
   "execution_count": null,
   "id": "373ea0ac",
   "metadata": {
    "deletable": false,
    "editable": false,
    "run_control": {
     "frozen": true
    }
   },
   "outputs": [],
   "source": [
    "cat_pres.head()"
   ]
  },
  {
   "cell_type": "code",
   "execution_count": null,
   "id": "62ede993",
   "metadata": {
    "deletable": false,
    "editable": false,
    "run_control": {
     "frozen": true
    }
   },
   "outputs": [],
   "source": [
    "sum(cat_pres.drug.str.contains('polyvalent'))"
   ]
  },
  {
   "cell_type": "code",
   "execution_count": null,
   "id": "9538c3a8",
   "metadata": {
    "deletable": false,
    "editable": false,
    "run_control": {
     "frozen": true
    }
   },
   "outputs": [],
   "source": [
    "cat_pres.gsn[misspelt_drugs_bool].value_counts().describe()"
   ]
  },
  {
   "cell_type": "code",
   "execution_count": null,
   "id": "70ad53aa",
   "metadata": {
    "deletable": false,
    "editable": false,
    "run_control": {
     "frozen": true
    }
   },
   "outputs": [],
   "source": [
    "(5303415+7791711)/len(cat_pres)"
   ]
  },
  {
   "cell_type": "code",
   "execution_count": null,
   "id": "e92088ad",
   "metadata": {
    "deletable": false,
    "editable": false,
    "run_control": {
     "frozen": true
    }
   },
   "outputs": [],
   "source": []
  },
  {
   "cell_type": "code",
   "execution_count": null,
   "id": "f180a082",
   "metadata": {
    "deletable": false,
    "editable": false,
    "run_control": {
     "frozen": true
    }
   },
   "outputs": [],
   "source": []
  },
  {
   "cell_type": "code",
   "execution_count": null,
   "id": "83b9b6d9",
   "metadata": {
    "deletable": false,
    "editable": false,
    "run_control": {
     "frozen": true
    }
   },
   "outputs": [],
   "source": []
  },
  {
   "cell_type": "code",
   "execution_count": null,
   "id": "f7f97f26",
   "metadata": {
    "deletable": false,
    "editable": false,
    "run_control": {
     "frozen": true
    }
   },
   "outputs": [],
   "source": [
    "cat"
   ]
  },
  {
   "cell_type": "code",
   "execution_count": null,
   "id": "cdf58a45",
   "metadata": {
    "deletable": false,
    "editable": false,
    "run_control": {
     "frozen": true
    }
   },
   "outputs": [],
   "source": [
    "cat = list('ABCDGHJLMNPRSV')\n",
    "cat.append('drug')\n",
    "cat_drug = cat_pres[cat].fillna(0.0001).groupby('formulary_drug_cd',dropna = False).sum()\n",
    "cat_drug"
   ]
  },
  {
   "cell_type": "code",
   "execution_count": null,
   "id": "4f0639ad",
   "metadata": {
    "deletable": false,
    "editable": false,
    "run_control": {
     "frozen": true
    }
   },
   "outputs": [],
   "source": []
  },
  {
   "cell_type": "code",
   "execution_count": null,
   "id": "87786be5",
   "metadata": {
    "deletable": false,
    "editable": false,
    "run_control": {
     "frozen": true
    }
   },
   "outputs": [],
   "source": [
    "atr4_pres.atc4_name.nunique()"
   ]
  },
  {
   "cell_type": "markdown",
   "id": "bc492f33",
   "metadata": {
    "deletable": false,
    "editable": false,
    "run_control": {
     "frozen": true
    }
   },
   "source": [
    "The missing values labelled as 0 are now empty strings due to the conversion. There may be other values that are not 0, maybe even some could be in other ndc formats (hyphenated or with less digits). We can find out how many rows have which number of digits."
   ]
  },
  {
   "cell_type": "markdown",
   "id": "3ea91aca",
   "metadata": {
    "deletable": false,
    "editable": false,
    "run_control": {
     "frozen": true
    }
   },
   "source": [
    "So all fields that do not have 9-digit numbers have no digits. We can consider all of these as missing values."
   ]
  },
  {
   "cell_type": "markdown",
   "id": "7bda0099",
   "metadata": {
    "deletable": false,
    "editable": false,
    "run_control": {
     "frozen": true
    }
   },
   "source": [
    "More than 12% of ndc fields are missing. Some of the drugs listed here may not have an ndc (Sodium Chloride flush on 2nd row for instance), but others may be mistakes. NDC is specific to product, not to drug (same drug from different companies will have a different code) so filling from the table would not be very accurate. Given that what we need the NDC just to classify our drugs, we will leave these fields blank and will fill the categories instead after NDC-matching.\n"
   ]
  },
  {
   "cell_type": "code",
   "execution_count": null,
   "id": "229ef0de",
   "metadata": {
    "deletable": false,
    "editable": false,
    "run_control": {
     "frozen": true
    }
   },
   "outputs": [],
   "source": [
    "prescriptions.ndc[~missing_ndc].drop_duplicates().to_csv('Unique_NDCs.csv')"
   ]
  },
  {
   "cell_type": "markdown",
   "id": "f411d1f5",
   "metadata": {
    "deletable": false,
    "editable": false,
    "run_control": {
     "frozen": true
    }
   },
   "source": [
    "Let us see if we can fill these missing values by using the other fields in the table. pharmacy_id, gsn, drug and formulary_drug_cd could be used for this."
   ]
  },
  {
   "cell_type": "code",
   "execution_count": null,
   "id": "cb1ce5d9",
   "metadata": {
    "deletable": false,
    "editable": false,
    "run_control": {
     "frozen": true
    }
   },
   "outputs": [],
   "source": [
    "prescriptions.formulary_drug_cd.info()"
   ]
  },
  {
   "cell_type": "code",
   "execution_count": null,
   "id": "3457a8da",
   "metadata": {
    "deletable": false,
    "editable": false,
    "run_control": {
     "frozen": true
    }
   },
   "outputs": [],
   "source": [
    "fdrugna = prescriptions[prescriptions.formulary_drug_cd.isna()]"
   ]
  },
  {
   "cell_type": "code",
   "execution_count": null,
   "id": "9807b9d0",
   "metadata": {
    "deletable": false,
    "editable": false,
    "run_control": {
     "frozen": true
    }
   },
   "outputs": [],
   "source": [
    "def df_filler(x):\n",
    "    \n",
    "\n",
    "prescriptions.formulary_drug_cd[prescriptions.drug.isin(fdrugna.drug)].isna()"
   ]
  },
  {
   "cell_type": "code",
   "execution_count": null,
   "id": "54a02f04",
   "metadata": {
    "deletable": false,
    "editable": false,
    "run_control": {
     "frozen": true
    }
   },
   "outputs": [],
   "source": [
    "prescriptions.gsn.value_counts()"
   ]
  },
  {
   "cell_type": "code",
   "execution_count": null,
   "id": "888b8515",
   "metadata": {
    "deletable": false,
    "editable": false,
    "run_control": {
     "frozen": true
    }
   },
   "outputs": [],
   "source": [
    "prescriptions.pharmacy_id.value_counts()"
   ]
  },
  {
   "cell_type": "code",
   "execution_count": null,
   "id": "36c18913",
   "metadata": {
    "deletable": false,
    "editable": false,
    "run_control": {
     "frozen": true
    }
   },
   "outputs": [],
   "source": [
    "prescriptions.formulary_drug_cd.value_counts()"
   ]
  },
  {
   "cell_type": "code",
   "execution_count": null,
   "id": "cb311fdf",
   "metadata": {
    "deletable": false,
    "editable": false,
    "run_control": {
     "frozen": true
    }
   },
   "outputs": [],
   "source": [
    "prescriptions.formulary_drug_cd.info()"
   ]
  },
  {
   "cell_type": "code",
   "execution_count": null,
   "id": "beab344e",
   "metadata": {
    "deletable": false,
    "editable": false,
    "run_control": {
     "frozen": true
    }
   },
   "outputs": [],
   "source": [
    "prescriptions.drug = prescriptions.drug.str.lower()\n",
    "prescriptions.drug.value_counts().describe()"
   ]
  },
  {
   "cell_type": "code",
   "execution_count": null,
   "id": "b6b2de19",
   "metadata": {
    "deletable": false,
    "editable": false,
    "run_control": {
     "frozen": true
    }
   },
   "outputs": [],
   "source": [
    "ndc_bool = prescriptions.ndc!=u'' & prescriptions \n",
    "print(sum(ndc_bool))\n",
    "print(sum(~ndc_bool))"
   ]
  },
  {
   "cell_type": "code",
   "execution_count": null,
   "id": "557bc9d0",
   "metadata": {
    "deletable": false,
    "editable": false,
    "run_control": {
     "frozen": true
    }
   },
   "outputs": [],
   "source": [
    "elswhr_bool = prescriptions.loc[~ndc_bool,'drug'].isin(prescriptions.loc[ndc_bool,'drug'])\n",
    "print(round(sum(elswhr_bool)/sum(~ndc_bool)*100,2))"
   ]
  },
  {
   "cell_type": "code",
   "execution_count": null,
   "id": "388b91bf",
   "metadata": {
    "deletable": false,
    "editable": false,
    "run_control": {
     "frozen": true
    }
   },
   "outputs": [],
   "source": [
    "prescriptions.loc[elswhr_bool,'ndc'] = prescriptions.loc[ndc_bool*prescriptions.,'ndc']"
   ]
  },
  {
   "cell_type": "code",
   "execution_count": null,
   "id": "4498b3f9",
   "metadata": {
    "deletable": false,
    "editable": false,
    "run_control": {
     "frozen": true
    }
   },
   "outputs": [],
   "source": [
    "prescriptions.ndc.nunique()"
   ]
  },
  {
   "cell_type": "code",
   "execution_count": null,
   "id": "b383b0dc",
   "metadata": {
    "deletable": false,
    "editable": false,
    "run_control": {
     "frozen": true
    }
   },
   "outputs": [],
   "source": [
    "import numpy as np"
   ]
  },
  {
   "cell_type": "code",
   "execution_count": null,
   "id": "e96a833c",
   "metadata": {
    "deletable": false,
    "editable": false,
    "run_control": {
     "frozen": true
    }
   },
   "outputs": [],
   "source": [
    "medication = pd.read_json(r'C:\\Users\\Nacho\\Downloads\\Medication.ndjson', lines = True)"
   ]
  },
  {
   "cell_type": "code",
   "execution_count": null,
   "id": "9126f251",
   "metadata": {
    "deletable": false,
    "editable": false,
    "run_control": {
     "frozen": true
    }
   },
   "outputs": [],
   "source": [
    "medication.shape"
   ]
  },
  {
   "cell_type": "code",
   "execution_count": null,
   "id": "4a4b5069",
   "metadata": {
    "deletable": false,
    "editable": false,
    "run_control": {
     "frozen": true
    }
   },
   "outputs": [],
   "source": [
    "prescriptions.ndc.head()"
   ]
  },
  {
   "cell_type": "code",
   "execution_count": null,
   "id": "051e4488",
   "metadata": {
    "deletable": false,
    "editable": false,
    "run_control": {
     "frozen": true
    }
   },
   "outputs": [],
   "source": [
    "ndc_desc = pd.read_csv(\"G:\\My Drive\\Brainstation\\Capstone project\\product.csv\",usecols = ['PRODUCTNDC','NONPROPRIETARYNAME','PHARM_CLASSES'])"
   ]
  },
  {
   "cell_type": "code",
   "execution_count": null,
   "id": "ebfc7887",
   "metadata": {
    "deletable": false,
    "editable": false,
    "run_control": {
     "frozen": true
    }
   },
   "outputs": [],
   "source": [
    "ndc_desc = ndc_desc.loc[~ndc_desc.PHARM_CLASSES.isna()].reset_index(drop = True)"
   ]
  },
  {
   "cell_type": "code",
   "execution_count": null,
   "id": "ca34f015",
   "metadata": {
    "deletable": false,
    "editable": false,
    "run_control": {
     "frozen": true
    }
   },
   "outputs": [],
   "source": [
    "ndc_desc.head()"
   ]
  },
  {
   "cell_type": "code",
   "execution_count": null,
   "id": "f95d32c0",
   "metadata": {
    "deletable": false,
    "editable": false,
    "run_control": {
     "frozen": true
    }
   },
   "outputs": [],
   "source": [
    "def sht2nineNDC(x):\n",
    "    x = x.split('-')\n",
    "    x = x[0].zfill(5) + x[1].zfill(4)\n",
    "    \n",
    "    return x\n",
    "    \n",
    "\n",
    "ndc_desc.PRODUCTNDC = ndc_desc.PRODUCTNDC.apply(sht2nineNDC)"
   ]
  },
  {
   "cell_type": "code",
   "execution_count": null,
   "id": "e439199c",
   "metadata": {
    "deletable": false,
    "editable": false,
    "run_control": {
     "frozen": true
    }
   },
   "outputs": [],
   "source": [
    "ndc_desc.PRODUCTNDC.head()"
   ]
  },
  {
   "cell_type": "code",
   "execution_count": null,
   "id": "c3338cf3",
   "metadata": {
    "deletable": false,
    "editable": false,
    "run_control": {
     "frozen": true
    }
   },
   "outputs": [],
   "source": [
    "classpername = ndc_desc[['NONPROPRIETARYNAME','PHARM_CLASSES']].groupby('NONPROPRIETARYNAME').nunique()"
   ]
  },
  {
   "cell_type": "code",
   "execution_count": null,
   "id": "3538812a",
   "metadata": {
    "deletable": false,
    "editable": false,
    "run_control": {
     "frozen": true
    }
   },
   "outputs": [],
   "source": [
    "classperndc = ndc_desc[['PRODUCTNDC','PHARM_CLASSES']].groupby('PRODUCTNDC').nunique()"
   ]
  },
  {
   "cell_type": "code",
   "execution_count": null,
   "id": "5bd99d0e",
   "metadata": {
    "deletable": false,
    "editable": false,
    "run_control": {
     "frozen": true
    }
   },
   "outputs": [],
   "source": [
    "classpername.value_counts()"
   ]
  },
  {
   "cell_type": "code",
   "execution_count": null,
   "id": "8f4b94a4",
   "metadata": {
    "deletable": false,
    "editable": false,
    "run_control": {
     "frozen": true
    }
   },
   "outputs": [],
   "source": [
    "classperndc.value_counts()"
   ]
  },
  {
   "cell_type": "code",
   "execution_count": null,
   "id": "ccb1934a",
   "metadata": {
    "deletable": false,
    "editable": false,
    "run_control": {
     "frozen": true
    }
   },
   "outputs": [],
   "source": [
    "np.mean(prescriptions.ndc.isna())*100"
   ]
  },
  {
   "cell_type": "code",
   "execution_count": null,
   "id": "20ab4066",
   "metadata": {
    "deletable": false,
    "editable": false,
    "run_control": {
     "frozen": true
    },
    "scrolled": true
   },
   "outputs": [],
   "source": [
    "prescriptions.loc[prescriptions.ndc.isna()].head(10)"
   ]
  },
  {
   "cell_type": "code",
   "execution_count": null,
   "id": "21a5ff77",
   "metadata": {
    "deletable": false,
    "editable": false,
    "run_control": {
     "frozen": true
    }
   },
   "outputs": [],
   "source": [
    "ndc_desc.rename(columns = {'PRODUCTNDC' : 'ndc'},inplace = True)"
   ]
  },
  {
   "cell_type": "code",
   "execution_count": null,
   "id": "2bc66cbb",
   "metadata": {
    "deletable": false,
    "editable": false,
    "run_control": {
     "frozen": true
    }
   },
   "outputs": [],
   "source": [
    "presfinal = pd.merge(prescriptions,ndc_desc, how = 'left',on = 'ndc')"
   ]
  },
  {
   "cell_type": "code",
   "execution_count": null,
   "id": "5b77297d",
   "metadata": {
    "deletable": false,
    "editable": false,
    "run_control": {
     "frozen": true
    }
   },
   "outputs": [],
   "source": [
    "np.mean(presfinal.PHARM_CLASSES.isna())"
   ]
  },
  {
   "cell_type": "code",
   "execution_count": null,
   "id": "e6ddbf13",
   "metadata": {
    "deletable": false,
    "editable": false,
    "run_control": {
     "frozen": true
    }
   },
   "outputs": [],
   "source": [
    "np.mean(presfinal.NONPROPRIETARYNAME.isna())"
   ]
  },
  {
   "cell_type": "code",
   "execution_count": null,
   "id": "56ae3526",
   "metadata": {
    "deletable": false,
    "editable": false,
    "run_control": {
     "frozen": true
    }
   },
   "outputs": [],
   "source": [
    "presfinal[['ndc','drug','NONPROPRIETARYNAME','PHARM_CLASSES']]"
   ]
  },
  {
   "cell_type": "code",
   "execution_count": null,
   "id": "21dfadce",
   "metadata": {
    "deletable": false,
    "editable": false,
    "run_control": {
     "frozen": true
    }
   },
   "outputs": [],
   "source": [
    "presfinal.hadm_id.nunique()"
   ]
  },
  {
   "cell_type": "code",
   "execution_count": null,
   "id": "08366bdf",
   "metadata": {
    "deletable": false,
    "editable": false,
    "run_control": {
     "frozen": true
    }
   },
   "outputs": [],
   "source": [
    "len(presfinal.PHARM_CLASSES.isna())-sum(presfinal.PHARM_CLASSES.isna())"
   ]
  },
  {
   "cell_type": "code",
   "execution_count": null,
   "id": "8215c795",
   "metadata": {
    "deletable": false,
    "editable": false,
    "run_control": {
     "frozen": true
    }
   },
   "outputs": [],
   "source": [
    "classperhadm = presfinal[['PHARM_CLASSES','hadm_id']].groupby('hadm_id').nunique()\n",
    "classperhadm.describe()"
   ]
  },
  {
   "cell_type": "code",
   "execution_count": null,
   "id": "9e2fad15",
   "metadata": {
    "deletable": false,
    "editable": false,
    "run_control": {
     "frozen": true
    }
   },
   "outputs": [],
   "source": [
    "classperhadm.loc[classperhadm.PHARM_CLASSES == 0].count()"
   ]
  },
  {
   "cell_type": "code",
   "execution_count": null,
   "id": "e5cda4b0",
   "metadata": {
    "deletable": false,
    "editable": false,
    "run_control": {
     "frozen": true
    }
   },
   "outputs": [],
   "source": [
    "prescriptions.ndc.apply(lambda x: str(x)[:-2].zfill(9))"
   ]
  },
  {
   "cell_type": "code",
   "execution_count": null,
   "id": "e721de5c",
   "metadata": {
    "deletable": false,
    "editable": false,
    "run_control": {
     "frozen": true
    }
   },
   "outputs": [],
   "source": [
    "print(ndc_desc.NONPROPRIETARYNAME.nunique())\n",
    "print(ndc_desc_clean.NONPROPRIETARYNAME.nunique())"
   ]
  },
  {
   "cell_type": "code",
   "execution_count": null,
   "id": "b905011b",
   "metadata": {
    "deletable": false,
    "editable": false,
    "run_control": {
     "frozen": true
    }
   },
   "outputs": [],
   "source": [
    "ndc_desc.shape"
   ]
  },
  {
   "cell_type": "code",
   "execution_count": null,
   "id": "64179536",
   "metadata": {
    "deletable": false,
    "editable": false,
    "run_control": {
     "frozen": true
    }
   },
   "outputs": [],
   "source": [
    "ndc_desc.PRODUCTNDC.apply(lambda x: int(x.replace('-','')))"
   ]
  },
  {
   "cell_type": "code",
   "execution_count": null,
   "id": "ecbbc9e0",
   "metadata": {
    "deletable": false,
    "editable": false,
    "run_control": {
     "frozen": true
    }
   },
   "outputs": [],
   "source": [
    "ndc_desc.PHARM_CLASSES.value_counts"
   ]
  },
  {
   "cell_type": "code",
   "execution_count": null,
   "id": "3493b16d",
   "metadata": {
    "deletable": false,
    "editable": false,
    "run_control": {
     "frozen": true
    }
   },
   "outputs": [],
   "source": [
    "poe = pd.read_csv('MIMIC IV ED/poe.csv')"
   ]
  },
  {
   "cell_type": "code",
   "execution_count": null,
   "id": "0669bdf1",
   "metadata": {
    "deletable": false,
    "editable": false,
    "run_control": {
     "frozen": true
    },
    "scrolled": true
   },
   "outputs": [],
   "source": [
    "poe.order_status.value_counts(normalize = True)"
   ]
  },
  {
   "cell_type": "code",
   "execution_count": null,
   "id": "4aed4b65",
   "metadata": {
    "deletable": false,
    "editable": false,
    "run_control": {
     "frozen": true
    }
   },
   "outputs": [],
   "source": [
    "poe.loc[poe.order_type == 'Lab'].order_subtype.value_counts()"
   ]
  },
  {
   "cell_type": "code",
   "execution_count": null,
   "id": "7a3b5a33",
   "metadata": {
    "deletable": false,
    "editable": false,
    "run_control": {
     "frozen": true
    }
   },
   "outputs": [],
   "source": [
    "poe.order_type.value_counts()"
   ]
  },
  {
   "cell_type": "code",
   "execution_count": null,
   "id": "bffc93d0",
   "metadata": {
    "deletable": false,
    "editable": false,
    "run_control": {
     "frozen": true
    }
   },
   "outputs": [],
   "source": [
    "admissions = pd.read_csv('MIMIC IV ED/admissions.csv')"
   ]
  },
  {
   "cell_type": "code",
   "execution_count": null,
   "id": "d056fbc2",
   "metadata": {
    "deletable": false,
    "editable": false,
    "run_control": {
     "frozen": true
    }
   },
   "outputs": [],
   "source": [
    "admissions.race.value_counts(normalize = True)"
   ]
  },
  {
   "cell_type": "code",
   "execution_count": null,
   "id": "1056df71",
   "metadata": {
    "deletable": false,
    "editable": false,
    "run_control": {
     "frozen": true
    }
   },
   "outputs": [],
   "source": [
    "sum(admissions.admission_location.isna())"
   ]
  },
  {
   "cell_type": "code",
   "execution_count": null,
   "id": "cf569e77",
   "metadata": {
    "deletable": false,
    "editable": false,
    "run_control": {
     "frozen": true
    }
   },
   "outputs": [],
   "source": [
    "admissions.admission_location.value_counts(normalize = True)"
   ]
  },
  {
   "cell_type": "code",
   "execution_count": null,
   "id": "fcb00ab7",
   "metadata": {
    "deletable": false,
    "editable": false,
    "run_control": {
     "frozen": true
    }
   },
   "outputs": [],
   "source": [
    "transfers = pd.read_csv('MIMIC IV ED/transfers.csv')"
   ]
  },
  {
   "cell_type": "code",
   "execution_count": null,
   "id": "c8b5ab5d",
   "metadata": {
    "deletable": false,
    "editable": false,
    "run_control": {
     "frozen": true
    }
   },
   "outputs": [],
   "source": [
    "sum(transfers.eventtype == 'discharge')"
   ]
  },
  {
   "cell_type": "code",
   "execution_count": null,
   "id": "388bf57c",
   "metadata": {
    "deletable": false,
    "editable": false,
    "run_control": {
     "frozen": true
    }
   },
   "outputs": [],
   "source": [
    "transfers.careunit.value_counts(normalize = True)"
   ]
  },
  {
   "cell_type": "code",
   "execution_count": null,
   "id": "e099c1d8",
   "metadata": {
    "deletable": false,
    "editable": false,
    "run_control": {
     "frozen": true
    }
   },
   "outputs": [],
   "source": [
    "transfers.careunit.unique()"
   ]
  },
  {
   "cell_type": "code",
   "execution_count": null,
   "id": "2cbf4e04",
   "metadata": {
    "deletable": false,
    "editable": false,
    "run_control": {
     "frozen": true
    }
   },
   "outputs": [],
   "source": [
    "transfers[['intime','outtime']] = pd.to_datetime(transfers[['intime', 'outtime']])"
   ]
  },
  {
   "cell_type": "code",
   "execution_count": null,
   "id": "2efcfc31",
   "metadata": {
    "deletable": false,
    "editable": false,
    "run_control": {
     "frozen": true
    }
   },
   "outputs": [],
   "source": [
    "transfers.info(show_counts = True)"
   ]
  },
  {
   "cell_type": "code",
   "execution_count": null,
   "id": "0e094a02",
   "metadata": {
    "deletable": false,
    "editable": false,
    "run_control": {
     "frozen": true
    }
   },
   "outputs": [],
   "source": [
    "bool_outs"
   ]
  },
  {
   "cell_type": "code",
   "execution_count": null,
   "id": "4ec7bb72",
   "metadata": {
    "deletable": false,
    "editable": false,
    "run_control": {
     "frozen": true
    }
   },
   "outputs": [],
   "source": [
    "transfers.describe()"
   ]
  },
  {
   "cell_type": "code",
   "execution_count": null,
   "id": "7d0cc9e1",
   "metadata": {
    "deletable": false,
    "editable": false,
    "run_control": {
     "frozen": true
    }
   },
   "outputs": [],
   "source": [
    "bool_discharge = transfers.eventtype=='discharge'\n",
    "bool_carenan = transfers.careunit.isna()\n",
    "bool_outtime = transfers.outtime.isna()"
   ]
  },
  {
   "cell_type": "code",
   "execution_count": null,
   "id": "c9105e2c",
   "metadata": {
    "deletable": false,
    "editable": false,
    "run_control": {
     "frozen": true
    }
   },
   "outputs": [],
   "source": [
    "print(all(bool_discharge == bool_carenan))\n",
    "print(all(bool_discharge == bool_outtime))\n"
   ]
  },
  {
   "cell_type": "code",
   "execution_count": null,
   "id": "52704aff",
   "metadata": {
    "deletable": false,
    "editable": false,
    "run_control": {
     "frozen": true
    }
   },
   "outputs": [],
   "source": [
    "transfers.head()"
   ]
  },
  {
   "cell_type": "code",
   "execution_count": null,
   "id": "639fe05b",
   "metadata": {
    "deletable": false,
    "editable": false,
    "run_control": {
     "frozen": true
    }
   },
   "outputs": [],
   "source": [
    "services = pd.read_csv('MIMIC IV ED/services.csv')"
   ]
  },
  {
   "cell_type": "code",
   "execution_count": null,
   "id": "ba238f2a",
   "metadata": {
    "deletable": false,
    "editable": false,
    "run_control": {
     "frozen": true
    }
   },
   "outputs": [],
   "source": [
    "services.shape"
   ]
  },
  {
   "cell_type": "code",
   "execution_count": null,
   "id": "f949e175",
   "metadata": {
    "deletable": false,
    "editable": false,
    "run_control": {
     "frozen": true
    }
   },
   "outputs": [],
   "source": [
    "services.head()"
   ]
  },
  {
   "cell_type": "code",
   "execution_count": null,
   "id": "ddc013d9",
   "metadata": {
    "deletable": false,
    "editable": false,
    "run_control": {
     "frozen": true
    }
   },
   "outputs": [],
   "source": []
  },
  {
   "cell_type": "code",
   "execution_count": null,
   "id": "b6b605ce",
   "metadata": {
    "deletable": false,
    "editable": false,
    "run_control": {
     "frozen": true
    }
   },
   "outputs": [],
   "source": [
    "services.prev_service.value_counts()"
   ]
  },
  {
   "cell_type": "code",
   "execution_count": null,
   "id": "69888a1b",
   "metadata": {
    "deletable": false,
    "editable": false,
    "run_control": {
     "frozen": true
    }
   },
   "outputs": [],
   "source": [
    "transfers.eventtype.value_counts()"
   ]
  },
  {
   "cell_type": "code",
   "execution_count": null,
   "id": "620e44ee",
   "metadata": {
    "deletable": false,
    "editable": false,
    "run_control": {
     "frozen": true
    }
   },
   "outputs": [],
   "source": [
    "transfers."
   ]
  },
  {
   "cell_type": "code",
   "execution_count": null,
   "id": "6b8a4332",
   "metadata": {
    "deletable": false,
    "editable": false,
    "run_control": {
     "frozen": true
    }
   },
   "outputs": [],
   "source": [
    "emar = pd.read_csv('MIMIC IV/emar.csv')"
   ]
  },
  {
   "cell_type": "code",
   "execution_count": null,
   "id": "769feeb4",
   "metadata": {
    "deletable": false,
    "editable": false,
    "run_control": {
     "frozen": true
    }
   },
   "outputs": [],
   "source": [
    "emar.medication.nunique()"
   ]
  },
  {
   "cell_type": "code",
   "execution_count": null,
   "id": "a2ea46db",
   "metadata": {
    "deletable": false,
    "editable": false,
    "run_control": {
     "frozen": true
    }
   },
   "outputs": [],
   "source": [
    "emar.head()"
   ]
  },
  {
   "cell_type": "code",
   "execution_count": null,
   "id": "3acbf553",
   "metadata": {
    "deletable": false,
    "editable": false,
    "run_control": {
     "frozen": true
    }
   },
   "outputs": [],
   "source": [
    "transfers.careunit.value_counts()"
   ]
  },
  {
   "cell_type": "code",
   "execution_count": null,
   "id": "6a3cfc7c",
   "metadata": {
    "deletable": false,
    "editable": false,
    "run_control": {
     "frozen": true
    }
   },
   "outputs": [],
   "source": [
    "print('Number of patients:',transfers['subject_id'].nunique())\n",
    "print('Number of transfers (and rows number):',transfers['transfer_id'].nunique())\n",
    "print('Number of stays:',transfers['hadm_id'].nunique())\n",
    "print('Number of departments:',transfers['careunit'].nunique())"
   ]
  },
  {
   "cell_type": "code",
   "execution_count": null,
   "id": "a56ee9d9",
   "metadata": {
    "deletable": false,
    "editable": false,
    "run_control": {
     "frozen": true
    }
   },
   "outputs": [],
   "source": [
    "sum(transfers['careunit'].isna())"
   ]
  },
  {
   "cell_type": "code",
   "execution_count": null,
   "id": "279cbbbb",
   "metadata": {
    "deletable": false,
    "editable": false,
    "run_control": {
     "frozen": true
    }
   },
   "outputs": [],
   "source": [
    "print('Number of departments:',transfers['careunit'].unique())"
   ]
  },
  {
   "cell_type": "code",
   "execution_count": null,
   "id": "18656aa3",
   "metadata": {
    "deletable": false,
    "editable": false,
    "run_control": {
     "frozen": true
    }
   },
   "outputs": [],
   "source": [
    "admissions = pd.read_csv('MIMIC IV ED/admissions.csv')"
   ]
  },
  {
   "cell_type": "code",
   "execution_count": null,
   "id": "765bf2a8",
   "metadata": {
    "deletable": false,
    "editable": false,
    "run_control": {
     "frozen": true
    }
   },
   "outputs": [],
   "source": [
    "pd.to_datetime(admissions.admittime,infer_datetime_format = True).describe(datetime_is_numeric = True)"
   ]
  },
  {
   "cell_type": "code",
   "execution_count": null,
   "id": "5ac84b60",
   "metadata": {
    "deletable": false,
    "editable": false,
    "run_control": {
     "frozen": true
    }
   },
   "outputs": [],
   "source": [
    "admissions.discharge_location.unique()"
   ]
  },
  {
   "cell_type": "code",
   "execution_count": null,
   "id": "6471427c",
   "metadata": {
    "deletable": false,
    "editable": false,
    "run_control": {
     "frozen": true
    }
   },
   "outputs": [],
   "source": []
  },
  {
   "cell_type": "code",
   "execution_count": null,
   "id": "eb1297ab",
   "metadata": {
    "deletable": false,
    "editable": false,
    "run_control": {
     "frozen": true
    }
   },
   "outputs": [],
   "source": [
    "admissions.head()"
   ]
  },
  {
   "cell_type": "code",
   "execution_count": null,
   "id": "2cfc6928",
   "metadata": {
    "deletable": false,
    "editable": false,
    "run_control": {
     "frozen": true
    }
   },
   "outputs": [],
   "source": [
    "len(admissions)"
   ]
  },
  {
   "cell_type": "code",
   "execution_count": null,
   "id": "75353cbd",
   "metadata": {
    "deletable": false,
    "editable": false,
    "run_control": {
     "frozen": true
    }
   },
   "outputs": [],
   "source": [
    "print('Number of patients:',admissions['subject_id'].nunique())\n",
    "print('Number of transfers (and length of rows):',admissions['transfer_id'].nunique())\n",
    "print('Number of stays:',transfers['hadm_id'].nunique())\n",
    "print('Number of departments:',transfers['careunit'].nunique())"
   ]
  },
  {
   "cell_type": "code",
   "execution_count": null,
   "id": "e5a76542",
   "metadata": {
    "deletable": false,
    "editable": false,
    "run_control": {
     "frozen": true
    }
   },
   "outputs": [],
   "source": [
    "edstays['disposition'].value_counts()"
   ]
  },
  {
   "cell_type": "code",
   "execution_count": null,
   "id": "cfe1045f",
   "metadata": {
    "deletable": false,
    "editable": false,
    "run_control": {
     "frozen": true
    }
   },
   "outputs": [],
   "source": []
  },
  {
   "cell_type": "code",
   "execution_count": null,
   "id": "aa370d2e",
   "metadata": {
    "deletable": false,
    "editable": false,
    "run_control": {
     "frozen": true
    }
   },
   "outputs": [],
   "source": [
    "diagnosis.icd_version.value_counts()"
   ]
  },
  {
   "cell_type": "code",
   "execution_count": null,
   "id": "13c7e61b",
   "metadata": {
    "deletable": false,
    "editable": false,
    "run_control": {
     "frozen": true
    }
   },
   "outputs": [],
   "source": [
    "diagnosis['icd_title'].value_counts().head()"
   ]
  },
  {
   "cell_type": "code",
   "execution_count": null,
   "id": "adf33426",
   "metadata": {
    "deletable": false,
    "editable": false,
    "run_control": {
     "frozen": true
    },
    "scrolled": false
   },
   "outputs": [],
   "source": [
    "print('\\033[1m' + 'diagnosis')\n",
    "display(diagnosis.head())\n",
    "display(diagnosis.info())\n",
    "print('\\033[1m' + 'edstays')\n",
    "display(edstays.head())\n",
    "display(diagnosis.info())\n",
    "print('\\033[1m' + 'medrecon')\n",
    "display(medrecon.head())\n",
    "display(medrecon.info())\n",
    "print('\\033[1m' + 'pyxis')\n",
    "display(pyxis.head())\n",
    "display(pyxis.info())\n",
    "print('\\033[1m' + 'triage')\n",
    "display(triage.head())\n",
    "display(triage.info())\n",
    "print('\\033[1m' + 'vitalsign')\n",
    "display(vitalsign.head())\n",
    "display(vitalsign.info())"
   ]
  }
 ],
 "metadata": {
  "kernelspec": {
   "display_name": "Python [conda env:capstone_env]",
   "language": "python",
   "name": "conda-env-capstone_env-py"
  },
  "language_info": {
   "codemirror_mode": {
    "name": "ipython",
    "version": 3
   },
   "file_extension": ".py",
   "mimetype": "text/x-python",
   "name": "python",
   "nbconvert_exporter": "python",
   "pygments_lexer": "ipython3",
   "version": "3.10.6"
  },
  "toc": {
   "base_numbering": 1,
   "nav_menu": {},
   "number_sections": true,
   "sideBar": true,
   "skip_h1_title": true,
   "title_cell": "Table of Contents",
   "title_sidebar": "Contents",
   "toc_cell": true,
   "toc_position": {},
   "toc_section_display": true,
   "toc_window_display": false
  },
  "varInspector": {
   "cols": {
    "lenName": 16,
    "lenType": 16,
    "lenVar": 40
   },
   "kernels_config": {
    "python": {
     "delete_cmd_postfix": "",
     "delete_cmd_prefix": "del ",
     "library": "var_list.py",
     "varRefreshCmd": "print(var_dic_list())"
    },
    "r": {
     "delete_cmd_postfix": ") ",
     "delete_cmd_prefix": "rm(",
     "library": "var_list.r",
     "varRefreshCmd": "cat(var_dic_list()) "
    }
   },
   "oldHeight": 388.844,
   "position": {
    "height": "410.837px",
    "left": "395.2px",
    "right": "20px",
    "top": "119px",
    "width": "377px"
   },
   "types_to_exclude": [
    "module",
    "function",
    "builtin_function_or_method",
    "instance",
    "_Feature"
   ],
   "varInspector_section_display": "block",
   "window_display": false
  }
 },
 "nbformat": 4,
 "nbformat_minor": 5
}
